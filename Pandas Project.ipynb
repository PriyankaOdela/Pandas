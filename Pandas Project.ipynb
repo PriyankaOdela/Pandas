{
 "cells": [
  {
   "cell_type": "code",
   "execution_count": 108,
   "id": "f10abc37",
   "metadata": {},
   "outputs": [],
   "source": [
    "import pandas as pd\n",
    "import numpy as np\n",
    "import seaborn as sns\n",
    "import matplotlib.pyplot as plt\n",
    "import cufflinks as cf"
   ]
  },
  {
   "cell_type": "code",
   "execution_count": 111,
   "id": "4c76b5e5",
   "metadata": {},
   "outputs": [],
   "source": [
    "world_pop = pd.read_csv(\"C:\\\\Users\\\\odela\\\\Downloads\\\\Data Sets\\world_population.csv\")"
   ]
  },
  {
   "cell_type": "code",
   "execution_count": 112,
   "id": "a8cc31d7",
   "metadata": {},
   "outputs": [
    {
     "data": {
      "text/html": [
       "<div>\n",
       "<style scoped>\n",
       "    .dataframe tbody tr th:only-of-type {\n",
       "        vertical-align: middle;\n",
       "    }\n",
       "\n",
       "    .dataframe tbody tr th {\n",
       "        vertical-align: top;\n",
       "    }\n",
       "\n",
       "    .dataframe thead th {\n",
       "        text-align: right;\n",
       "    }\n",
       "</style>\n",
       "<table border=\"1\" class=\"dataframe\">\n",
       "  <thead>\n",
       "    <tr style=\"text-align: right;\">\n",
       "      <th></th>\n",
       "      <th>Rank</th>\n",
       "      <th>CCA3</th>\n",
       "      <th>Country/Territory</th>\n",
       "      <th>Capital</th>\n",
       "      <th>Continent</th>\n",
       "      <th>2022 Population</th>\n",
       "      <th>2020 Population</th>\n",
       "      <th>2015 Population</th>\n",
       "      <th>2010 Population</th>\n",
       "      <th>2000 Population</th>\n",
       "      <th>1990 Population</th>\n",
       "      <th>1980 Population</th>\n",
       "      <th>1970 Population</th>\n",
       "      <th>Area (km²)</th>\n",
       "      <th>Density (per km²)</th>\n",
       "      <th>Growth Rate</th>\n",
       "      <th>World Population Percentage</th>\n",
       "    </tr>\n",
       "  </thead>\n",
       "  <tbody>\n",
       "    <tr>\n",
       "      <th>0</th>\n",
       "      <td>36</td>\n",
       "      <td>AFG</td>\n",
       "      <td>Afghanistan</td>\n",
       "      <td>Kabul</td>\n",
       "      <td>Asia</td>\n",
       "      <td>41128771</td>\n",
       "      <td>38972230</td>\n",
       "      <td>33753499</td>\n",
       "      <td>28189672</td>\n",
       "      <td>19542982</td>\n",
       "      <td>10694796</td>\n",
       "      <td>12486631</td>\n",
       "      <td>10752971</td>\n",
       "      <td>652230</td>\n",
       "      <td>63.0587</td>\n",
       "      <td>1.0257</td>\n",
       "      <td>0.52</td>\n",
       "    </tr>\n",
       "    <tr>\n",
       "      <th>1</th>\n",
       "      <td>138</td>\n",
       "      <td>ALB</td>\n",
       "      <td>Albania</td>\n",
       "      <td>Tirana</td>\n",
       "      <td>Europe</td>\n",
       "      <td>2842321</td>\n",
       "      <td>2866849</td>\n",
       "      <td>2882481</td>\n",
       "      <td>2913399</td>\n",
       "      <td>3182021</td>\n",
       "      <td>3295066</td>\n",
       "      <td>2941651</td>\n",
       "      <td>2324731</td>\n",
       "      <td>28748</td>\n",
       "      <td>98.8702</td>\n",
       "      <td>0.9957</td>\n",
       "      <td>0.04</td>\n",
       "    </tr>\n",
       "    <tr>\n",
       "      <th>2</th>\n",
       "      <td>34</td>\n",
       "      <td>DZA</td>\n",
       "      <td>Algeria</td>\n",
       "      <td>Algiers</td>\n",
       "      <td>Africa</td>\n",
       "      <td>44903225</td>\n",
       "      <td>43451666</td>\n",
       "      <td>39543154</td>\n",
       "      <td>35856344</td>\n",
       "      <td>30774621</td>\n",
       "      <td>25518074</td>\n",
       "      <td>18739378</td>\n",
       "      <td>13795915</td>\n",
       "      <td>2381741</td>\n",
       "      <td>18.8531</td>\n",
       "      <td>1.0164</td>\n",
       "      <td>0.56</td>\n",
       "    </tr>\n",
       "    <tr>\n",
       "      <th>3</th>\n",
       "      <td>213</td>\n",
       "      <td>ASM</td>\n",
       "      <td>American Samoa</td>\n",
       "      <td>Pago Pago</td>\n",
       "      <td>Oceania</td>\n",
       "      <td>44273</td>\n",
       "      <td>46189</td>\n",
       "      <td>51368</td>\n",
       "      <td>54849</td>\n",
       "      <td>58230</td>\n",
       "      <td>47818</td>\n",
       "      <td>32886</td>\n",
       "      <td>27075</td>\n",
       "      <td>199</td>\n",
       "      <td>222.4774</td>\n",
       "      <td>0.9831</td>\n",
       "      <td>0.00</td>\n",
       "    </tr>\n",
       "    <tr>\n",
       "      <th>4</th>\n",
       "      <td>203</td>\n",
       "      <td>AND</td>\n",
       "      <td>Andorra</td>\n",
       "      <td>Andorra la Vella</td>\n",
       "      <td>Europe</td>\n",
       "      <td>79824</td>\n",
       "      <td>77700</td>\n",
       "      <td>71746</td>\n",
       "      <td>71519</td>\n",
       "      <td>66097</td>\n",
       "      <td>53569</td>\n",
       "      <td>35611</td>\n",
       "      <td>19860</td>\n",
       "      <td>468</td>\n",
       "      <td>170.5641</td>\n",
       "      <td>1.0100</td>\n",
       "      <td>0.00</td>\n",
       "    </tr>\n",
       "  </tbody>\n",
       "</table>\n",
       "</div>"
      ],
      "text/plain": [
       "   Rank CCA3 Country/Territory           Capital Continent  2022 Population  \\\n",
       "0    36  AFG       Afghanistan             Kabul      Asia         41128771   \n",
       "1   138  ALB           Albania            Tirana    Europe          2842321   \n",
       "2    34  DZA           Algeria           Algiers    Africa         44903225   \n",
       "3   213  ASM    American Samoa         Pago Pago   Oceania            44273   \n",
       "4   203  AND           Andorra  Andorra la Vella    Europe            79824   \n",
       "\n",
       "   2020 Population  2015 Population  2010 Population  2000 Population  \\\n",
       "0         38972230         33753499         28189672         19542982   \n",
       "1          2866849          2882481          2913399          3182021   \n",
       "2         43451666         39543154         35856344         30774621   \n",
       "3            46189            51368            54849            58230   \n",
       "4            77700            71746            71519            66097   \n",
       "\n",
       "   1990 Population  1980 Population  1970 Population  Area (km²)  \\\n",
       "0         10694796         12486631         10752971      652230   \n",
       "1          3295066          2941651          2324731       28748   \n",
       "2         25518074         18739378         13795915     2381741   \n",
       "3            47818            32886            27075         199   \n",
       "4            53569            35611            19860         468   \n",
       "\n",
       "   Density (per km²)  Growth Rate  World Population Percentage  \n",
       "0            63.0587       1.0257                         0.52  \n",
       "1            98.8702       0.9957                         0.04  \n",
       "2            18.8531       1.0164                         0.56  \n",
       "3           222.4774       0.9831                         0.00  \n",
       "4           170.5641       1.0100                         0.00  "
      ]
     },
     "execution_count": 112,
     "metadata": {},
     "output_type": "execute_result"
    }
   ],
   "source": [
    "world_pop.head()"
   ]
  },
  {
   "cell_type": "code",
   "execution_count": 4,
   "id": "23b32fcc",
   "metadata": {},
   "outputs": [
    {
     "data": {
      "text/plain": [
       "Index(['Rank', 'CCA3', 'Country/Territory', 'Capital', 'Continent',\n",
       "       '2022 Population', '2020 Population', '2015 Population',\n",
       "       '2010 Population', '2000 Population', '1990 Population',\n",
       "       '1980 Population', '1970 Population', 'Area (km²)', 'Density (per km²)',\n",
       "       'Growth Rate', 'World Population Percentage'],\n",
       "      dtype='object')"
      ]
     },
     "execution_count": 4,
     "metadata": {},
     "output_type": "execute_result"
    }
   ],
   "source": [
    "world_pop.columns"
   ]
  },
  {
   "cell_type": "code",
   "execution_count": 5,
   "id": "9726ce43",
   "metadata": {},
   "outputs": [
    {
     "data": {
      "text/plain": [
       "(234, 17)"
      ]
     },
     "execution_count": 5,
     "metadata": {},
     "output_type": "execute_result"
    }
   ],
   "source": [
    "world_pop.shape"
   ]
  },
  {
   "cell_type": "code",
   "execution_count": 6,
   "id": "eeb9834d",
   "metadata": {},
   "outputs": [
    {
     "name": "stdout",
     "output_type": "stream",
     "text": [
      "<class 'pandas.core.frame.DataFrame'>\n",
      "RangeIndex: 234 entries, 0 to 233\n",
      "Data columns (total 17 columns):\n",
      " #   Column                       Non-Null Count  Dtype  \n",
      "---  ------                       --------------  -----  \n",
      " 0   Rank                         234 non-null    int64  \n",
      " 1   CCA3                         234 non-null    object \n",
      " 2   Country/Territory            234 non-null    object \n",
      " 3   Capital                      234 non-null    object \n",
      " 4   Continent                    234 non-null    object \n",
      " 5   2022 Population              234 non-null    int64  \n",
      " 6   2020 Population              234 non-null    int64  \n",
      " 7   2015 Population              234 non-null    int64  \n",
      " 8   2010 Population              234 non-null    int64  \n",
      " 9   2000 Population              234 non-null    int64  \n",
      " 10  1990 Population              234 non-null    int64  \n",
      " 11  1980 Population              234 non-null    int64  \n",
      " 12  1970 Population              234 non-null    int64  \n",
      " 13  Area (km²)                   234 non-null    int64  \n",
      " 14  Density (per km²)            234 non-null    float64\n",
      " 15  Growth Rate                  234 non-null    float64\n",
      " 16  World Population Percentage  234 non-null    float64\n",
      "dtypes: float64(3), int64(10), object(4)\n",
      "memory usage: 31.2+ KB\n"
     ]
    }
   ],
   "source": [
    "world_pop.info()"
   ]
  },
  {
   "cell_type": "code",
   "execution_count": 7,
   "id": "ed51bb94",
   "metadata": {},
   "outputs": [
    {
     "data": {
      "text/plain": [
       "Rank                             int64\n",
       "CCA3                            object\n",
       "Country/Territory               object\n",
       "Capital                         object\n",
       "Continent                       object\n",
       "2022 Population                  int64\n",
       "2020 Population                  int64\n",
       "2015 Population                  int64\n",
       "2010 Population                  int64\n",
       "2000 Population                  int64\n",
       "1990 Population                  int64\n",
       "1980 Population                  int64\n",
       "1970 Population                  int64\n",
       "Area (km²)                       int64\n",
       "Density (per km²)              float64\n",
       "Growth Rate                    float64\n",
       "World Population Percentage    float64\n",
       "dtype: object"
      ]
     },
     "execution_count": 7,
     "metadata": {},
     "output_type": "execute_result"
    }
   ],
   "source": [
    "world_pop.dtypes"
   ]
  },
  {
   "cell_type": "code",
   "execution_count": 8,
   "id": "1c0069c8",
   "metadata": {},
   "outputs": [],
   "source": [
    "# dropping columns CCA3 & Capital\n",
    "world_pop.drop(columns = ['CCA3','Capital'],inplace = True)"
   ]
  },
  {
   "cell_type": "code",
   "execution_count": 9,
   "id": "b0dd8e0d",
   "metadata": {},
   "outputs": [
    {
     "data": {
      "text/html": [
       "<div>\n",
       "<style scoped>\n",
       "    .dataframe tbody tr th:only-of-type {\n",
       "        vertical-align: middle;\n",
       "    }\n",
       "\n",
       "    .dataframe tbody tr th {\n",
       "        vertical-align: top;\n",
       "    }\n",
       "\n",
       "    .dataframe thead th {\n",
       "        text-align: right;\n",
       "    }\n",
       "</style>\n",
       "<table border=\"1\" class=\"dataframe\">\n",
       "  <thead>\n",
       "    <tr style=\"text-align: right;\">\n",
       "      <th></th>\n",
       "      <th>Rank</th>\n",
       "      <th>Country/Territory</th>\n",
       "      <th>Continent</th>\n",
       "      <th>2022 Population</th>\n",
       "      <th>2020 Population</th>\n",
       "      <th>2015 Population</th>\n",
       "      <th>2010 Population</th>\n",
       "      <th>2000 Population</th>\n",
       "      <th>1990 Population</th>\n",
       "      <th>1980 Population</th>\n",
       "      <th>1970 Population</th>\n",
       "      <th>Area (km²)</th>\n",
       "      <th>Density (per km²)</th>\n",
       "      <th>Growth Rate</th>\n",
       "      <th>World Population Percentage</th>\n",
       "    </tr>\n",
       "  </thead>\n",
       "  <tbody>\n",
       "    <tr>\n",
       "      <th>0</th>\n",
       "      <td>36</td>\n",
       "      <td>Afghanistan</td>\n",
       "      <td>Asia</td>\n",
       "      <td>41128771</td>\n",
       "      <td>38972230</td>\n",
       "      <td>33753499</td>\n",
       "      <td>28189672</td>\n",
       "      <td>19542982</td>\n",
       "      <td>10694796</td>\n",
       "      <td>12486631</td>\n",
       "      <td>10752971</td>\n",
       "      <td>652230</td>\n",
       "      <td>63.0587</td>\n",
       "      <td>1.0257</td>\n",
       "      <td>0.52</td>\n",
       "    </tr>\n",
       "    <tr>\n",
       "      <th>1</th>\n",
       "      <td>138</td>\n",
       "      <td>Albania</td>\n",
       "      <td>Europe</td>\n",
       "      <td>2842321</td>\n",
       "      <td>2866849</td>\n",
       "      <td>2882481</td>\n",
       "      <td>2913399</td>\n",
       "      <td>3182021</td>\n",
       "      <td>3295066</td>\n",
       "      <td>2941651</td>\n",
       "      <td>2324731</td>\n",
       "      <td>28748</td>\n",
       "      <td>98.8702</td>\n",
       "      <td>0.9957</td>\n",
       "      <td>0.04</td>\n",
       "    </tr>\n",
       "    <tr>\n",
       "      <th>2</th>\n",
       "      <td>34</td>\n",
       "      <td>Algeria</td>\n",
       "      <td>Africa</td>\n",
       "      <td>44903225</td>\n",
       "      <td>43451666</td>\n",
       "      <td>39543154</td>\n",
       "      <td>35856344</td>\n",
       "      <td>30774621</td>\n",
       "      <td>25518074</td>\n",
       "      <td>18739378</td>\n",
       "      <td>13795915</td>\n",
       "      <td>2381741</td>\n",
       "      <td>18.8531</td>\n",
       "      <td>1.0164</td>\n",
       "      <td>0.56</td>\n",
       "    </tr>\n",
       "    <tr>\n",
       "      <th>3</th>\n",
       "      <td>213</td>\n",
       "      <td>American Samoa</td>\n",
       "      <td>Oceania</td>\n",
       "      <td>44273</td>\n",
       "      <td>46189</td>\n",
       "      <td>51368</td>\n",
       "      <td>54849</td>\n",
       "      <td>58230</td>\n",
       "      <td>47818</td>\n",
       "      <td>32886</td>\n",
       "      <td>27075</td>\n",
       "      <td>199</td>\n",
       "      <td>222.4774</td>\n",
       "      <td>0.9831</td>\n",
       "      <td>0.00</td>\n",
       "    </tr>\n",
       "    <tr>\n",
       "      <th>4</th>\n",
       "      <td>203</td>\n",
       "      <td>Andorra</td>\n",
       "      <td>Europe</td>\n",
       "      <td>79824</td>\n",
       "      <td>77700</td>\n",
       "      <td>71746</td>\n",
       "      <td>71519</td>\n",
       "      <td>66097</td>\n",
       "      <td>53569</td>\n",
       "      <td>35611</td>\n",
       "      <td>19860</td>\n",
       "      <td>468</td>\n",
       "      <td>170.5641</td>\n",
       "      <td>1.0100</td>\n",
       "      <td>0.00</td>\n",
       "    </tr>\n",
       "  </tbody>\n",
       "</table>\n",
       "</div>"
      ],
      "text/plain": [
       "   Rank Country/Territory Continent  2022 Population  2020 Population  \\\n",
       "0    36       Afghanistan      Asia         41128771         38972230   \n",
       "1   138           Albania    Europe          2842321          2866849   \n",
       "2    34           Algeria    Africa         44903225         43451666   \n",
       "3   213    American Samoa   Oceania            44273            46189   \n",
       "4   203           Andorra    Europe            79824            77700   \n",
       "\n",
       "   2015 Population  2010 Population  2000 Population  1990 Population  \\\n",
       "0         33753499         28189672         19542982         10694796   \n",
       "1          2882481          2913399          3182021          3295066   \n",
       "2         39543154         35856344         30774621         25518074   \n",
       "3            51368            54849            58230            47818   \n",
       "4            71746            71519            66097            53569   \n",
       "\n",
       "   1980 Population  1970 Population  Area (km²)  Density (per km²)  \\\n",
       "0         12486631         10752971      652230            63.0587   \n",
       "1          2941651          2324731       28748            98.8702   \n",
       "2         18739378         13795915     2381741            18.8531   \n",
       "3            32886            27075         199           222.4774   \n",
       "4            35611            19860         468           170.5641   \n",
       "\n",
       "   Growth Rate  World Population Percentage  \n",
       "0       1.0257                         0.52  \n",
       "1       0.9957                         0.04  \n",
       "2       1.0164                         0.56  \n",
       "3       0.9831                         0.00  \n",
       "4       1.0100                         0.00  "
      ]
     },
     "execution_count": 9,
     "metadata": {},
     "output_type": "execute_result"
    }
   ],
   "source": [
    "world_pop.head()"
   ]
  },
  {
   "cell_type": "code",
   "execution_count": 10,
   "id": "446044f3",
   "metadata": {},
   "outputs": [
    {
     "data": {
      "text/html": [
       "<div>\n",
       "<style scoped>\n",
       "    .dataframe tbody tr th:only-of-type {\n",
       "        vertical-align: middle;\n",
       "    }\n",
       "\n",
       "    .dataframe tbody tr th {\n",
       "        vertical-align: top;\n",
       "    }\n",
       "\n",
       "    .dataframe thead th {\n",
       "        text-align: right;\n",
       "    }\n",
       "</style>\n",
       "<table border=\"1\" class=\"dataframe\">\n",
       "  <thead>\n",
       "    <tr style=\"text-align: right;\">\n",
       "      <th></th>\n",
       "      <th>Rank</th>\n",
       "      <th>Country/Territory</th>\n",
       "      <th>Continent</th>\n",
       "      <th>2022 Population</th>\n",
       "      <th>2020 Population</th>\n",
       "      <th>2015 Population</th>\n",
       "      <th>2010 Population</th>\n",
       "      <th>2000 Population</th>\n",
       "      <th>1990 Population</th>\n",
       "      <th>1980 Population</th>\n",
       "      <th>1970 Population</th>\n",
       "      <th>Area (km²)</th>\n",
       "      <th>Density (per km²)</th>\n",
       "      <th>Growth Rate</th>\n",
       "      <th>World Population Percentage</th>\n",
       "    </tr>\n",
       "  </thead>\n",
       "  <tbody>\n",
       "    <tr>\n",
       "      <th>0</th>\n",
       "      <td>36</td>\n",
       "      <td>Afghanistan</td>\n",
       "      <td>Asia</td>\n",
       "      <td>41128771</td>\n",
       "      <td>38972230</td>\n",
       "      <td>33753499</td>\n",
       "      <td>28189672</td>\n",
       "      <td>19542982</td>\n",
       "      <td>10694796</td>\n",
       "      <td>12486631</td>\n",
       "      <td>10752971</td>\n",
       "      <td>652230</td>\n",
       "      <td>63.0587</td>\n",
       "      <td>1.0257</td>\n",
       "      <td>0.52</td>\n",
       "    </tr>\n",
       "    <tr>\n",
       "      <th>1</th>\n",
       "      <td>138</td>\n",
       "      <td>Albania</td>\n",
       "      <td>Europe</td>\n",
       "      <td>2842321</td>\n",
       "      <td>2866849</td>\n",
       "      <td>2882481</td>\n",
       "      <td>2913399</td>\n",
       "      <td>3182021</td>\n",
       "      <td>3295066</td>\n",
       "      <td>2941651</td>\n",
       "      <td>2324731</td>\n",
       "      <td>28748</td>\n",
       "      <td>98.8702</td>\n",
       "      <td>0.9957</td>\n",
       "      <td>0.04</td>\n",
       "    </tr>\n",
       "    <tr>\n",
       "      <th>2</th>\n",
       "      <td>34</td>\n",
       "      <td>Algeria</td>\n",
       "      <td>Africa</td>\n",
       "      <td>44903225</td>\n",
       "      <td>43451666</td>\n",
       "      <td>39543154</td>\n",
       "      <td>35856344</td>\n",
       "      <td>30774621</td>\n",
       "      <td>25518074</td>\n",
       "      <td>18739378</td>\n",
       "      <td>13795915</td>\n",
       "      <td>2381741</td>\n",
       "      <td>18.8531</td>\n",
       "      <td>1.0164</td>\n",
       "      <td>0.56</td>\n",
       "    </tr>\n",
       "    <tr>\n",
       "      <th>3</th>\n",
       "      <td>213</td>\n",
       "      <td>American Samoa</td>\n",
       "      <td>Oceania</td>\n",
       "      <td>44273</td>\n",
       "      <td>46189</td>\n",
       "      <td>51368</td>\n",
       "      <td>54849</td>\n",
       "      <td>58230</td>\n",
       "      <td>47818</td>\n",
       "      <td>32886</td>\n",
       "      <td>27075</td>\n",
       "      <td>199</td>\n",
       "      <td>222.4774</td>\n",
       "      <td>0.9831</td>\n",
       "      <td>0.00</td>\n",
       "    </tr>\n",
       "    <tr>\n",
       "      <th>4</th>\n",
       "      <td>203</td>\n",
       "      <td>Andorra</td>\n",
       "      <td>Europe</td>\n",
       "      <td>79824</td>\n",
       "      <td>77700</td>\n",
       "      <td>71746</td>\n",
       "      <td>71519</td>\n",
       "      <td>66097</td>\n",
       "      <td>53569</td>\n",
       "      <td>35611</td>\n",
       "      <td>19860</td>\n",
       "      <td>468</td>\n",
       "      <td>170.5641</td>\n",
       "      <td>1.0100</td>\n",
       "      <td>0.00</td>\n",
       "    </tr>\n",
       "    <tr>\n",
       "      <th>...</th>\n",
       "      <td>...</td>\n",
       "      <td>...</td>\n",
       "      <td>...</td>\n",
       "      <td>...</td>\n",
       "      <td>...</td>\n",
       "      <td>...</td>\n",
       "      <td>...</td>\n",
       "      <td>...</td>\n",
       "      <td>...</td>\n",
       "      <td>...</td>\n",
       "      <td>...</td>\n",
       "      <td>...</td>\n",
       "      <td>...</td>\n",
       "      <td>...</td>\n",
       "      <td>...</td>\n",
       "    </tr>\n",
       "    <tr>\n",
       "      <th>229</th>\n",
       "      <td>226</td>\n",
       "      <td>Wallis and Futuna</td>\n",
       "      <td>Oceania</td>\n",
       "      <td>11572</td>\n",
       "      <td>11655</td>\n",
       "      <td>12182</td>\n",
       "      <td>13142</td>\n",
       "      <td>14723</td>\n",
       "      <td>13454</td>\n",
       "      <td>11315</td>\n",
       "      <td>9377</td>\n",
       "      <td>142</td>\n",
       "      <td>81.4930</td>\n",
       "      <td>0.9953</td>\n",
       "      <td>0.00</td>\n",
       "    </tr>\n",
       "    <tr>\n",
       "      <th>230</th>\n",
       "      <td>172</td>\n",
       "      <td>Western Sahara</td>\n",
       "      <td>Africa</td>\n",
       "      <td>575986</td>\n",
       "      <td>556048</td>\n",
       "      <td>491824</td>\n",
       "      <td>413296</td>\n",
       "      <td>270375</td>\n",
       "      <td>178529</td>\n",
       "      <td>116775</td>\n",
       "      <td>76371</td>\n",
       "      <td>266000</td>\n",
       "      <td>2.1654</td>\n",
       "      <td>1.0184</td>\n",
       "      <td>0.01</td>\n",
       "    </tr>\n",
       "    <tr>\n",
       "      <th>231</th>\n",
       "      <td>46</td>\n",
       "      <td>Yemen</td>\n",
       "      <td>Asia</td>\n",
       "      <td>33696614</td>\n",
       "      <td>32284046</td>\n",
       "      <td>28516545</td>\n",
       "      <td>24743946</td>\n",
       "      <td>18628700</td>\n",
       "      <td>13375121</td>\n",
       "      <td>9204938</td>\n",
       "      <td>6843607</td>\n",
       "      <td>527968</td>\n",
       "      <td>63.8232</td>\n",
       "      <td>1.0217</td>\n",
       "      <td>0.42</td>\n",
       "    </tr>\n",
       "    <tr>\n",
       "      <th>232</th>\n",
       "      <td>63</td>\n",
       "      <td>Zambia</td>\n",
       "      <td>Africa</td>\n",
       "      <td>20017675</td>\n",
       "      <td>18927715</td>\n",
       "      <td>16248230</td>\n",
       "      <td>13792086</td>\n",
       "      <td>9891136</td>\n",
       "      <td>7686401</td>\n",
       "      <td>5720438</td>\n",
       "      <td>4281671</td>\n",
       "      <td>752612</td>\n",
       "      <td>26.5976</td>\n",
       "      <td>1.0280</td>\n",
       "      <td>0.25</td>\n",
       "    </tr>\n",
       "    <tr>\n",
       "      <th>233</th>\n",
       "      <td>74</td>\n",
       "      <td>Zimbabwe</td>\n",
       "      <td>Africa</td>\n",
       "      <td>16320537</td>\n",
       "      <td>15669666</td>\n",
       "      <td>14154937</td>\n",
       "      <td>12839771</td>\n",
       "      <td>11834676</td>\n",
       "      <td>10113893</td>\n",
       "      <td>7049926</td>\n",
       "      <td>5202918</td>\n",
       "      <td>390757</td>\n",
       "      <td>41.7665</td>\n",
       "      <td>1.0204</td>\n",
       "      <td>0.20</td>\n",
       "    </tr>\n",
       "  </tbody>\n",
       "</table>\n",
       "<p>234 rows × 15 columns</p>\n",
       "</div>"
      ],
      "text/plain": [
       "     Rank  Country/Territory Continent  2022 Population  2020 Population  \\\n",
       "0      36        Afghanistan      Asia         41128771         38972230   \n",
       "1     138            Albania    Europe          2842321          2866849   \n",
       "2      34            Algeria    Africa         44903225         43451666   \n",
       "3     213     American Samoa   Oceania            44273            46189   \n",
       "4     203            Andorra    Europe            79824            77700   \n",
       "..    ...                ...       ...              ...              ...   \n",
       "229   226  Wallis and Futuna   Oceania            11572            11655   \n",
       "230   172     Western Sahara    Africa           575986           556048   \n",
       "231    46              Yemen      Asia         33696614         32284046   \n",
       "232    63             Zambia    Africa         20017675         18927715   \n",
       "233    74           Zimbabwe    Africa         16320537         15669666   \n",
       "\n",
       "     2015 Population  2010 Population  2000 Population  1990 Population  \\\n",
       "0           33753499         28189672         19542982         10694796   \n",
       "1            2882481          2913399          3182021          3295066   \n",
       "2           39543154         35856344         30774621         25518074   \n",
       "3              51368            54849            58230            47818   \n",
       "4              71746            71519            66097            53569   \n",
       "..               ...              ...              ...              ...   \n",
       "229            12182            13142            14723            13454   \n",
       "230           491824           413296           270375           178529   \n",
       "231         28516545         24743946         18628700         13375121   \n",
       "232         16248230         13792086          9891136          7686401   \n",
       "233         14154937         12839771         11834676         10113893   \n",
       "\n",
       "     1980 Population  1970 Population  Area (km²)  Density (per km²)  \\\n",
       "0           12486631         10752971      652230            63.0587   \n",
       "1            2941651          2324731       28748            98.8702   \n",
       "2           18739378         13795915     2381741            18.8531   \n",
       "3              32886            27075         199           222.4774   \n",
       "4              35611            19860         468           170.5641   \n",
       "..               ...              ...         ...                ...   \n",
       "229            11315             9377         142            81.4930   \n",
       "230           116775            76371      266000             2.1654   \n",
       "231          9204938          6843607      527968            63.8232   \n",
       "232          5720438          4281671      752612            26.5976   \n",
       "233          7049926          5202918      390757            41.7665   \n",
       "\n",
       "     Growth Rate  World Population Percentage  \n",
       "0         1.0257                         0.52  \n",
       "1         0.9957                         0.04  \n",
       "2         1.0164                         0.56  \n",
       "3         0.9831                         0.00  \n",
       "4         1.0100                         0.00  \n",
       "..           ...                          ...  \n",
       "229       0.9953                         0.00  \n",
       "230       1.0184                         0.01  \n",
       "231       1.0217                         0.42  \n",
       "232       1.0280                         0.25  \n",
       "233       1.0204                         0.20  \n",
       "\n",
       "[234 rows x 15 columns]"
      ]
     },
     "execution_count": 10,
     "metadata": {},
     "output_type": "execute_result"
    }
   ],
   "source": [
    "world_pop.groupby('Continent')\n",
    "world_pop"
   ]
  },
  {
   "cell_type": "code",
   "execution_count": 11,
   "id": "4be0bcf9",
   "metadata": {},
   "outputs": [
    {
     "data": {
      "text/plain": [
       "Continent\n",
       "Africa           1426730932\n",
       "Asia             4721383274\n",
       "Europe            743147538\n",
       "North America     600296136\n",
       "Oceania            45038554\n",
       "South America     436816608\n",
       "Name: 2022 Population, dtype: int64"
      ]
     },
     "execution_count": 11,
     "metadata": {},
     "output_type": "execute_result"
    }
   ],
   "source": [
    "continent_2022 = world_pop.groupby(\"Continent\")['2022 Population'].sum()\n",
    "continent_2022"
   ]
  },
  {
   "cell_type": "code",
   "execution_count": 12,
   "id": "ac70ff38",
   "metadata": {},
   "outputs": [
    {
     "data": {
      "text/plain": [
       "Continent\n",
       "Africa           1360671810\n",
       "Asia             4663086535\n",
       "Europe            745792196\n",
       "North America     594236593\n",
       "Oceania            43933426\n",
       "South America     431530043\n",
       "Name: 2020 Population, dtype: int64"
      ]
     },
     "execution_count": 12,
     "metadata": {},
     "output_type": "execute_result"
    }
   ],
   "source": [
    "continent_2020 = world_pop.groupby(\"Continent\")['2020 Population'].sum()\n",
    "continent_2020"
   ]
  },
  {
   "cell_type": "code",
   "execution_count": 116,
   "id": "ff89fed8",
   "metadata": {},
   "outputs": [
    {
     "data": {
      "text/html": [
       "<div>\n",
       "<style scoped>\n",
       "    .dataframe tbody tr th:only-of-type {\n",
       "        vertical-align: middle;\n",
       "    }\n",
       "\n",
       "    .dataframe tbody tr th {\n",
       "        vertical-align: top;\n",
       "    }\n",
       "\n",
       "    .dataframe thead th {\n",
       "        text-align: right;\n",
       "    }\n",
       "</style>\n",
       "<table border=\"1\" class=\"dataframe\">\n",
       "  <thead>\n",
       "    <tr style=\"text-align: right;\">\n",
       "      <th></th>\n",
       "      <th>2022 Population</th>\n",
       "      <th>2020 Population</th>\n",
       "      <th>2015 Population</th>\n",
       "      <th>2010 Population</th>\n",
       "      <th>2000 Population</th>\n",
       "      <th>1990 Population</th>\n",
       "      <th>1980 Population</th>\n",
       "      <th>1970 Population</th>\n",
       "    </tr>\n",
       "    <tr>\n",
       "      <th>Continent</th>\n",
       "      <th></th>\n",
       "      <th></th>\n",
       "      <th></th>\n",
       "      <th></th>\n",
       "      <th></th>\n",
       "      <th></th>\n",
       "      <th></th>\n",
       "      <th></th>\n",
       "    </tr>\n",
       "  </thead>\n",
       "  <tbody>\n",
       "    <tr>\n",
       "      <th>Africa</th>\n",
       "      <td>1426730932</td>\n",
       "      <td>1360671810</td>\n",
       "      <td>1201102442</td>\n",
       "      <td>1055228072</td>\n",
       "      <td>818946032</td>\n",
       "      <td>638150629</td>\n",
       "      <td>481536377</td>\n",
       "      <td>365444348</td>\n",
       "    </tr>\n",
       "    <tr>\n",
       "      <th>Asia</th>\n",
       "      <td>4721383274</td>\n",
       "      <td>4663086535</td>\n",
       "      <td>4458250182</td>\n",
       "      <td>4220041327</td>\n",
       "      <td>3735089604</td>\n",
       "      <td>3210563577</td>\n",
       "      <td>2635334228</td>\n",
       "      <td>2144906290</td>\n",
       "    </tr>\n",
       "    <tr>\n",
       "      <th>Europe</th>\n",
       "      <td>743147538</td>\n",
       "      <td>745792196</td>\n",
       "      <td>741535608</td>\n",
       "      <td>735613934</td>\n",
       "      <td>726093423</td>\n",
       "      <td>720320797</td>\n",
       "      <td>692527159</td>\n",
       "      <td>655923991</td>\n",
       "    </tr>\n",
       "    <tr>\n",
       "      <th>North America</th>\n",
       "      <td>600296136</td>\n",
       "      <td>594236593</td>\n",
       "      <td>570383850</td>\n",
       "      <td>542720651</td>\n",
       "      <td>486069584</td>\n",
       "      <td>421266425</td>\n",
       "      <td>368293361</td>\n",
       "      <td>315434606</td>\n",
       "    </tr>\n",
       "    <tr>\n",
       "      <th>Oceania</th>\n",
       "      <td>45038554</td>\n",
       "      <td>43933426</td>\n",
       "      <td>40403283</td>\n",
       "      <td>37102764</td>\n",
       "      <td>31222778</td>\n",
       "      <td>26743822</td>\n",
       "      <td>22920240</td>\n",
       "      <td>19480270</td>\n",
       "    </tr>\n",
       "    <tr>\n",
       "      <th>South America</th>\n",
       "      <td>436816608</td>\n",
       "      <td>431530043</td>\n",
       "      <td>413134396</td>\n",
       "      <td>393078250</td>\n",
       "      <td>349634282</td>\n",
       "      <td>297146415</td>\n",
       "      <td>241789006</td>\n",
       "      <td>192947156</td>\n",
       "    </tr>\n",
       "  </tbody>\n",
       "</table>\n",
       "</div>"
      ],
      "text/plain": [
       "               2022 Population  2020 Population  2015 Population  \\\n",
       "Continent                                                          \n",
       "Africa              1426730932       1360671810       1201102442   \n",
       "Asia                4721383274       4663086535       4458250182   \n",
       "Europe               743147538        745792196        741535608   \n",
       "North America        600296136        594236593        570383850   \n",
       "Oceania               45038554         43933426         40403283   \n",
       "South America        436816608        431530043        413134396   \n",
       "\n",
       "               2010 Population  2000 Population  1990 Population  \\\n",
       "Continent                                                          \n",
       "Africa              1055228072        818946032        638150629   \n",
       "Asia                4220041327       3735089604       3210563577   \n",
       "Europe               735613934        726093423        720320797   \n",
       "North America        542720651        486069584        421266425   \n",
       "Oceania               37102764         31222778         26743822   \n",
       "South America        393078250        349634282        297146415   \n",
       "\n",
       "               1980 Population  1970 Population  \n",
       "Continent                                        \n",
       "Africa               481536377        365444348  \n",
       "Asia                2635334228       2144906290  \n",
       "Europe               692527159        655923991  \n",
       "North America        368293361        315434606  \n",
       "Oceania               22920240         19480270  \n",
       "South America        241789006        192947156  "
      ]
     },
     "execution_count": 116,
     "metadata": {},
     "output_type": "execute_result"
    }
   ],
   "source": [
    "continent_pop = world_pop.groupby(\"Continent\")[['2022 Population','2020 Population','2015 Population','2010 Population',\n",
    "                                '2000 Population','1990 Population',\n",
    "                                '1980 Population','1970 Population']].sum()\n",
    "continent_pop"
   ]
  },
  {
   "cell_type": "code",
   "execution_count": 117,
   "id": "46f94f8e",
   "metadata": {},
   "outputs": [
    {
     "data": {
      "text/html": [
       "        <script type=\"text/javascript\">\n",
       "        window.PlotlyConfig = {MathJaxConfig: 'local'};\n",
       "        if (window.MathJax && window.MathJax.Hub && window.MathJax.Hub.Config) {window.MathJax.Hub.Config({SVG: {font: \"STIX-Web\"}});}\n",
       "        if (typeof require !== 'undefined') {\n",
       "        require.undef(\"plotly\");\n",
       "        requirejs.config({\n",
       "            paths: {\n",
       "                'plotly': ['https://cdn.plot.ly/plotly-2.12.1.min']\n",
       "            }\n",
       "        });\n",
       "        require(['plotly'], function(Plotly) {\n",
       "            window._Plotly = Plotly;\n",
       "        });\n",
       "        }\n",
       "        </script>\n",
       "        "
      ]
     },
     "metadata": {},
     "output_type": "display_data"
    }
   ],
   "source": [
    "cf.go_offline()"
   ]
  },
  {
   "cell_type": "code",
   "execution_count": 118,
   "id": "c19af783",
   "metadata": {},
   "outputs": [
    {
     "data": {
      "application/vnd.plotly.v1+json": {
       "config": {
        "linkText": "Export to plot.ly",
        "plotlyServerURL": "https://plot.ly",
        "showLink": true
       },
       "data": [
        {
         "marker": {
          "color": "rgba(255, 153, 51, 0.6)",
          "line": {
           "color": "rgba(255, 153, 51, 1.0)",
           "width": 1
          }
         },
         "name": "2022 Population",
         "orientation": "v",
         "text": "",
         "type": "bar",
         "x": [
          "Africa",
          "Asia",
          "Europe",
          "North America",
          "Oceania",
          "South America"
         ],
         "y": [
          1426730932,
          4721383274,
          743147538,
          600296136,
          45038554,
          436816608
         ]
        },
        {
         "marker": {
          "color": "rgba(55, 128, 191, 0.6)",
          "line": {
           "color": "rgba(55, 128, 191, 1.0)",
           "width": 1
          }
         },
         "name": "2020 Population",
         "orientation": "v",
         "text": "",
         "type": "bar",
         "x": [
          "Africa",
          "Asia",
          "Europe",
          "North America",
          "Oceania",
          "South America"
         ],
         "y": [
          1360671810,
          4663086535,
          745792196,
          594236593,
          43933426,
          431530043
         ]
        },
        {
         "marker": {
          "color": "rgba(50, 171, 96, 0.6)",
          "line": {
           "color": "rgba(50, 171, 96, 1.0)",
           "width": 1
          }
         },
         "name": "2015 Population",
         "orientation": "v",
         "text": "",
         "type": "bar",
         "x": [
          "Africa",
          "Asia",
          "Europe",
          "North America",
          "Oceania",
          "South America"
         ],
         "y": [
          1201102442,
          4458250182,
          741535608,
          570383850,
          40403283,
          413134396
         ]
        },
        {
         "marker": {
          "color": "rgba(128, 0, 128, 0.6)",
          "line": {
           "color": "rgba(128, 0, 128, 1.0)",
           "width": 1
          }
         },
         "name": "2010 Population",
         "orientation": "v",
         "text": "",
         "type": "bar",
         "x": [
          "Africa",
          "Asia",
          "Europe",
          "North America",
          "Oceania",
          "South America"
         ],
         "y": [
          1055228072,
          4220041327,
          735613934,
          542720651,
          37102764,
          393078250
         ]
        },
        {
         "marker": {
          "color": "rgba(219, 64, 82, 0.6)",
          "line": {
           "color": "rgba(219, 64, 82, 1.0)",
           "width": 1
          }
         },
         "name": "2000 Population",
         "orientation": "v",
         "text": "",
         "type": "bar",
         "x": [
          "Africa",
          "Asia",
          "Europe",
          "North America",
          "Oceania",
          "South America"
         ],
         "y": [
          818946032,
          3735089604,
          726093423,
          486069584,
          31222778,
          349634282
         ]
        },
        {
         "marker": {
          "color": "rgba(0, 128, 128, 0.6)",
          "line": {
           "color": "rgba(0, 128, 128, 1.0)",
           "width": 1
          }
         },
         "name": "1990 Population",
         "orientation": "v",
         "text": "",
         "type": "bar",
         "x": [
          "Africa",
          "Asia",
          "Europe",
          "North America",
          "Oceania",
          "South America"
         ],
         "y": [
          638150629,
          3210563577,
          720320797,
          421266425,
          26743822,
          297146415
         ]
        },
        {
         "marker": {
          "color": "rgba(255, 255, 51, 0.6)",
          "line": {
           "color": "rgba(255, 255, 51, 1.0)",
           "width": 1
          }
         },
         "name": "1980 Population",
         "orientation": "v",
         "text": "",
         "type": "bar",
         "x": [
          "Africa",
          "Asia",
          "Europe",
          "North America",
          "Oceania",
          "South America"
         ],
         "y": [
          481536377,
          2635334228,
          692527159,
          368293361,
          22920240,
          241789006
         ]
        },
        {
         "marker": {
          "color": "rgba(128, 128, 0, 0.6)",
          "line": {
           "color": "rgba(128, 128, 0, 1.0)",
           "width": 1
          }
         },
         "name": "1970 Population",
         "orientation": "v",
         "text": "",
         "type": "bar",
         "x": [
          "Africa",
          "Asia",
          "Europe",
          "North America",
          "Oceania",
          "South America"
         ],
         "y": [
          365444348,
          2144906290,
          655923991,
          315434606,
          19480270,
          192947156
         ]
        }
       ],
       "layout": {
        "legend": {
         "bgcolor": "#F5F6F9",
         "font": {
          "color": "#4D5663"
         }
        },
        "paper_bgcolor": "#F5F6F9",
        "plot_bgcolor": "#F5F6F9",
        "template": {
         "data": {
          "bar": [
           {
            "error_x": {
             "color": "#2a3f5f"
            },
            "error_y": {
             "color": "#2a3f5f"
            },
            "marker": {
             "line": {
              "color": "#E5ECF6",
              "width": 0.5
             },
             "pattern": {
              "fillmode": "overlay",
              "size": 10,
              "solidity": 0.2
             }
            },
            "type": "bar"
           }
          ],
          "barpolar": [
           {
            "marker": {
             "line": {
              "color": "#E5ECF6",
              "width": 0.5
             },
             "pattern": {
              "fillmode": "overlay",
              "size": 10,
              "solidity": 0.2
             }
            },
            "type": "barpolar"
           }
          ],
          "carpet": [
           {
            "aaxis": {
             "endlinecolor": "#2a3f5f",
             "gridcolor": "white",
             "linecolor": "white",
             "minorgridcolor": "white",
             "startlinecolor": "#2a3f5f"
            },
            "baxis": {
             "endlinecolor": "#2a3f5f",
             "gridcolor": "white",
             "linecolor": "white",
             "minorgridcolor": "white",
             "startlinecolor": "#2a3f5f"
            },
            "type": "carpet"
           }
          ],
          "choropleth": [
           {
            "colorbar": {
             "outlinewidth": 0,
             "ticks": ""
            },
            "type": "choropleth"
           }
          ],
          "contour": [
           {
            "colorbar": {
             "outlinewidth": 0,
             "ticks": ""
            },
            "colorscale": [
             [
              0,
              "#0d0887"
             ],
             [
              0.1111111111111111,
              "#46039f"
             ],
             [
              0.2222222222222222,
              "#7201a8"
             ],
             [
              0.3333333333333333,
              "#9c179e"
             ],
             [
              0.4444444444444444,
              "#bd3786"
             ],
             [
              0.5555555555555556,
              "#d8576b"
             ],
             [
              0.6666666666666666,
              "#ed7953"
             ],
             [
              0.7777777777777778,
              "#fb9f3a"
             ],
             [
              0.8888888888888888,
              "#fdca26"
             ],
             [
              1,
              "#f0f921"
             ]
            ],
            "type": "contour"
           }
          ],
          "contourcarpet": [
           {
            "colorbar": {
             "outlinewidth": 0,
             "ticks": ""
            },
            "type": "contourcarpet"
           }
          ],
          "heatmap": [
           {
            "colorbar": {
             "outlinewidth": 0,
             "ticks": ""
            },
            "colorscale": [
             [
              0,
              "#0d0887"
             ],
             [
              0.1111111111111111,
              "#46039f"
             ],
             [
              0.2222222222222222,
              "#7201a8"
             ],
             [
              0.3333333333333333,
              "#9c179e"
             ],
             [
              0.4444444444444444,
              "#bd3786"
             ],
             [
              0.5555555555555556,
              "#d8576b"
             ],
             [
              0.6666666666666666,
              "#ed7953"
             ],
             [
              0.7777777777777778,
              "#fb9f3a"
             ],
             [
              0.8888888888888888,
              "#fdca26"
             ],
             [
              1,
              "#f0f921"
             ]
            ],
            "type": "heatmap"
           }
          ],
          "heatmapgl": [
           {
            "colorbar": {
             "outlinewidth": 0,
             "ticks": ""
            },
            "colorscale": [
             [
              0,
              "#0d0887"
             ],
             [
              0.1111111111111111,
              "#46039f"
             ],
             [
              0.2222222222222222,
              "#7201a8"
             ],
             [
              0.3333333333333333,
              "#9c179e"
             ],
             [
              0.4444444444444444,
              "#bd3786"
             ],
             [
              0.5555555555555556,
              "#d8576b"
             ],
             [
              0.6666666666666666,
              "#ed7953"
             ],
             [
              0.7777777777777778,
              "#fb9f3a"
             ],
             [
              0.8888888888888888,
              "#fdca26"
             ],
             [
              1,
              "#f0f921"
             ]
            ],
            "type": "heatmapgl"
           }
          ],
          "histogram": [
           {
            "marker": {
             "pattern": {
              "fillmode": "overlay",
              "size": 10,
              "solidity": 0.2
             }
            },
            "type": "histogram"
           }
          ],
          "histogram2d": [
           {
            "colorbar": {
             "outlinewidth": 0,
             "ticks": ""
            },
            "colorscale": [
             [
              0,
              "#0d0887"
             ],
             [
              0.1111111111111111,
              "#46039f"
             ],
             [
              0.2222222222222222,
              "#7201a8"
             ],
             [
              0.3333333333333333,
              "#9c179e"
             ],
             [
              0.4444444444444444,
              "#bd3786"
             ],
             [
              0.5555555555555556,
              "#d8576b"
             ],
             [
              0.6666666666666666,
              "#ed7953"
             ],
             [
              0.7777777777777778,
              "#fb9f3a"
             ],
             [
              0.8888888888888888,
              "#fdca26"
             ],
             [
              1,
              "#f0f921"
             ]
            ],
            "type": "histogram2d"
           }
          ],
          "histogram2dcontour": [
           {
            "colorbar": {
             "outlinewidth": 0,
             "ticks": ""
            },
            "colorscale": [
             [
              0,
              "#0d0887"
             ],
             [
              0.1111111111111111,
              "#46039f"
             ],
             [
              0.2222222222222222,
              "#7201a8"
             ],
             [
              0.3333333333333333,
              "#9c179e"
             ],
             [
              0.4444444444444444,
              "#bd3786"
             ],
             [
              0.5555555555555556,
              "#d8576b"
             ],
             [
              0.6666666666666666,
              "#ed7953"
             ],
             [
              0.7777777777777778,
              "#fb9f3a"
             ],
             [
              0.8888888888888888,
              "#fdca26"
             ],
             [
              1,
              "#f0f921"
             ]
            ],
            "type": "histogram2dcontour"
           }
          ],
          "mesh3d": [
           {
            "colorbar": {
             "outlinewidth": 0,
             "ticks": ""
            },
            "type": "mesh3d"
           }
          ],
          "parcoords": [
           {
            "line": {
             "colorbar": {
              "outlinewidth": 0,
              "ticks": ""
             }
            },
            "type": "parcoords"
           }
          ],
          "pie": [
           {
            "automargin": true,
            "type": "pie"
           }
          ],
          "scatter": [
           {
            "fillpattern": {
             "fillmode": "overlay",
             "size": 10,
             "solidity": 0.2
            },
            "type": "scatter"
           }
          ],
          "scatter3d": [
           {
            "line": {
             "colorbar": {
              "outlinewidth": 0,
              "ticks": ""
             }
            },
            "marker": {
             "colorbar": {
              "outlinewidth": 0,
              "ticks": ""
             }
            },
            "type": "scatter3d"
           }
          ],
          "scattercarpet": [
           {
            "marker": {
             "colorbar": {
              "outlinewidth": 0,
              "ticks": ""
             }
            },
            "type": "scattercarpet"
           }
          ],
          "scattergeo": [
           {
            "marker": {
             "colorbar": {
              "outlinewidth": 0,
              "ticks": ""
             }
            },
            "type": "scattergeo"
           }
          ],
          "scattergl": [
           {
            "marker": {
             "colorbar": {
              "outlinewidth": 0,
              "ticks": ""
             }
            },
            "type": "scattergl"
           }
          ],
          "scattermapbox": [
           {
            "marker": {
             "colorbar": {
              "outlinewidth": 0,
              "ticks": ""
             }
            },
            "type": "scattermapbox"
           }
          ],
          "scatterpolar": [
           {
            "marker": {
             "colorbar": {
              "outlinewidth": 0,
              "ticks": ""
             }
            },
            "type": "scatterpolar"
           }
          ],
          "scatterpolargl": [
           {
            "marker": {
             "colorbar": {
              "outlinewidth": 0,
              "ticks": ""
             }
            },
            "type": "scatterpolargl"
           }
          ],
          "scatterternary": [
           {
            "marker": {
             "colorbar": {
              "outlinewidth": 0,
              "ticks": ""
             }
            },
            "type": "scatterternary"
           }
          ],
          "surface": [
           {
            "colorbar": {
             "outlinewidth": 0,
             "ticks": ""
            },
            "colorscale": [
             [
              0,
              "#0d0887"
             ],
             [
              0.1111111111111111,
              "#46039f"
             ],
             [
              0.2222222222222222,
              "#7201a8"
             ],
             [
              0.3333333333333333,
              "#9c179e"
             ],
             [
              0.4444444444444444,
              "#bd3786"
             ],
             [
              0.5555555555555556,
              "#d8576b"
             ],
             [
              0.6666666666666666,
              "#ed7953"
             ],
             [
              0.7777777777777778,
              "#fb9f3a"
             ],
             [
              0.8888888888888888,
              "#fdca26"
             ],
             [
              1,
              "#f0f921"
             ]
            ],
            "type": "surface"
           }
          ],
          "table": [
           {
            "cells": {
             "fill": {
              "color": "#EBF0F8"
             },
             "line": {
              "color": "white"
             }
            },
            "header": {
             "fill": {
              "color": "#C8D4E3"
             },
             "line": {
              "color": "white"
             }
            },
            "type": "table"
           }
          ]
         },
         "layout": {
          "annotationdefaults": {
           "arrowcolor": "#2a3f5f",
           "arrowhead": 0,
           "arrowwidth": 1
          },
          "autotypenumbers": "strict",
          "coloraxis": {
           "colorbar": {
            "outlinewidth": 0,
            "ticks": ""
           }
          },
          "colorscale": {
           "diverging": [
            [
             0,
             "#8e0152"
            ],
            [
             0.1,
             "#c51b7d"
            ],
            [
             0.2,
             "#de77ae"
            ],
            [
             0.3,
             "#f1b6da"
            ],
            [
             0.4,
             "#fde0ef"
            ],
            [
             0.5,
             "#f7f7f7"
            ],
            [
             0.6,
             "#e6f5d0"
            ],
            [
             0.7,
             "#b8e186"
            ],
            [
             0.8,
             "#7fbc41"
            ],
            [
             0.9,
             "#4d9221"
            ],
            [
             1,
             "#276419"
            ]
           ],
           "sequential": [
            [
             0,
             "#0d0887"
            ],
            [
             0.1111111111111111,
             "#46039f"
            ],
            [
             0.2222222222222222,
             "#7201a8"
            ],
            [
             0.3333333333333333,
             "#9c179e"
            ],
            [
             0.4444444444444444,
             "#bd3786"
            ],
            [
             0.5555555555555556,
             "#d8576b"
            ],
            [
             0.6666666666666666,
             "#ed7953"
            ],
            [
             0.7777777777777778,
             "#fb9f3a"
            ],
            [
             0.8888888888888888,
             "#fdca26"
            ],
            [
             1,
             "#f0f921"
            ]
           ],
           "sequentialminus": [
            [
             0,
             "#0d0887"
            ],
            [
             0.1111111111111111,
             "#46039f"
            ],
            [
             0.2222222222222222,
             "#7201a8"
            ],
            [
             0.3333333333333333,
             "#9c179e"
            ],
            [
             0.4444444444444444,
             "#bd3786"
            ],
            [
             0.5555555555555556,
             "#d8576b"
            ],
            [
             0.6666666666666666,
             "#ed7953"
            ],
            [
             0.7777777777777778,
             "#fb9f3a"
            ],
            [
             0.8888888888888888,
             "#fdca26"
            ],
            [
             1,
             "#f0f921"
            ]
           ]
          },
          "colorway": [
           "#636efa",
           "#EF553B",
           "#00cc96",
           "#ab63fa",
           "#FFA15A",
           "#19d3f3",
           "#FF6692",
           "#B6E880",
           "#FF97FF",
           "#FECB52"
          ],
          "font": {
           "color": "#2a3f5f"
          },
          "geo": {
           "bgcolor": "white",
           "lakecolor": "white",
           "landcolor": "#E5ECF6",
           "showlakes": true,
           "showland": true,
           "subunitcolor": "white"
          },
          "hoverlabel": {
           "align": "left"
          },
          "hovermode": "closest",
          "mapbox": {
           "style": "light"
          },
          "paper_bgcolor": "white",
          "plot_bgcolor": "#E5ECF6",
          "polar": {
           "angularaxis": {
            "gridcolor": "white",
            "linecolor": "white",
            "ticks": ""
           },
           "bgcolor": "#E5ECF6",
           "radialaxis": {
            "gridcolor": "white",
            "linecolor": "white",
            "ticks": ""
           }
          },
          "scene": {
           "xaxis": {
            "backgroundcolor": "#E5ECF6",
            "gridcolor": "white",
            "gridwidth": 2,
            "linecolor": "white",
            "showbackground": true,
            "ticks": "",
            "zerolinecolor": "white"
           },
           "yaxis": {
            "backgroundcolor": "#E5ECF6",
            "gridcolor": "white",
            "gridwidth": 2,
            "linecolor": "white",
            "showbackground": true,
            "ticks": "",
            "zerolinecolor": "white"
           },
           "zaxis": {
            "backgroundcolor": "#E5ECF6",
            "gridcolor": "white",
            "gridwidth": 2,
            "linecolor": "white",
            "showbackground": true,
            "ticks": "",
            "zerolinecolor": "white"
           }
          },
          "shapedefaults": {
           "line": {
            "color": "#2a3f5f"
           }
          },
          "ternary": {
           "aaxis": {
            "gridcolor": "white",
            "linecolor": "white",
            "ticks": ""
           },
           "baxis": {
            "gridcolor": "white",
            "linecolor": "white",
            "ticks": ""
           },
           "bgcolor": "#E5ECF6",
           "caxis": {
            "gridcolor": "white",
            "linecolor": "white",
            "ticks": ""
           }
          },
          "title": {
           "x": 0.05
          },
          "xaxis": {
           "automargin": true,
           "gridcolor": "white",
           "linecolor": "white",
           "ticks": "",
           "title": {
            "standoff": 15
           },
           "zerolinecolor": "white",
           "zerolinewidth": 2
          },
          "yaxis": {
           "automargin": true,
           "gridcolor": "white",
           "linecolor": "white",
           "ticks": "",
           "title": {
            "standoff": 15
           },
           "zerolinecolor": "white",
           "zerolinewidth": 2
          }
         }
        },
        "title": {
         "font": {
          "color": "#4D5663"
         }
        },
        "xaxis": {
         "gridcolor": "#E1E5ED",
         "showgrid": true,
         "tickfont": {
          "color": "#4D5663"
         },
         "title": {
          "font": {
           "color": "#4D5663"
          },
          "text": ""
         },
         "zerolinecolor": "#E1E5ED"
        },
        "yaxis": {
         "gridcolor": "#E1E5ED",
         "showgrid": true,
         "tickfont": {
          "color": "#4D5663"
         },
         "title": {
          "font": {
           "color": "#4D5663"
          },
          "text": ""
         },
         "zerolinecolor": "#E1E5ED"
        }
       }
      },
      "text/html": [
       "<div>                            <div id=\"4406a901-11c6-4e67-8d67-cb19e6ae72ee\" class=\"plotly-graph-div\" style=\"height:525px; width:100%;\"></div>            <script type=\"text/javascript\">                require([\"plotly\"], function(Plotly) {                    window.PLOTLYENV=window.PLOTLYENV || {};\n",
       "                    window.PLOTLYENV.BASE_URL='https://plot.ly';                                    if (document.getElementById(\"4406a901-11c6-4e67-8d67-cb19e6ae72ee\")) {                    Plotly.newPlot(                        \"4406a901-11c6-4e67-8d67-cb19e6ae72ee\",                        [{\"marker\":{\"color\":\"rgba(255, 153, 51, 0.6)\",\"line\":{\"color\":\"rgba(255, 153, 51, 1.0)\",\"width\":1}},\"name\":\"2022 Population\",\"orientation\":\"v\",\"text\":\"\",\"x\":[\"Africa\",\"Asia\",\"Europe\",\"North America\",\"Oceania\",\"South America\"],\"y\":[1426730932,4721383274,743147538,600296136,45038554,436816608],\"type\":\"bar\"},{\"marker\":{\"color\":\"rgba(55, 128, 191, 0.6)\",\"line\":{\"color\":\"rgba(55, 128, 191, 1.0)\",\"width\":1}},\"name\":\"2020 Population\",\"orientation\":\"v\",\"text\":\"\",\"x\":[\"Africa\",\"Asia\",\"Europe\",\"North America\",\"Oceania\",\"South America\"],\"y\":[1360671810,4663086535,745792196,594236593,43933426,431530043],\"type\":\"bar\"},{\"marker\":{\"color\":\"rgba(50, 171, 96, 0.6)\",\"line\":{\"color\":\"rgba(50, 171, 96, 1.0)\",\"width\":1}},\"name\":\"2015 Population\",\"orientation\":\"v\",\"text\":\"\",\"x\":[\"Africa\",\"Asia\",\"Europe\",\"North America\",\"Oceania\",\"South America\"],\"y\":[1201102442,4458250182,741535608,570383850,40403283,413134396],\"type\":\"bar\"},{\"marker\":{\"color\":\"rgba(128, 0, 128, 0.6)\",\"line\":{\"color\":\"rgba(128, 0, 128, 1.0)\",\"width\":1}},\"name\":\"2010 Population\",\"orientation\":\"v\",\"text\":\"\",\"x\":[\"Africa\",\"Asia\",\"Europe\",\"North America\",\"Oceania\",\"South America\"],\"y\":[1055228072,4220041327,735613934,542720651,37102764,393078250],\"type\":\"bar\"},{\"marker\":{\"color\":\"rgba(219, 64, 82, 0.6)\",\"line\":{\"color\":\"rgba(219, 64, 82, 1.0)\",\"width\":1}},\"name\":\"2000 Population\",\"orientation\":\"v\",\"text\":\"\",\"x\":[\"Africa\",\"Asia\",\"Europe\",\"North America\",\"Oceania\",\"South America\"],\"y\":[818946032,3735089604,726093423,486069584,31222778,349634282],\"type\":\"bar\"},{\"marker\":{\"color\":\"rgba(0, 128, 128, 0.6)\",\"line\":{\"color\":\"rgba(0, 128, 128, 1.0)\",\"width\":1}},\"name\":\"1990 Population\",\"orientation\":\"v\",\"text\":\"\",\"x\":[\"Africa\",\"Asia\",\"Europe\",\"North America\",\"Oceania\",\"South America\"],\"y\":[638150629,3210563577,720320797,421266425,26743822,297146415],\"type\":\"bar\"},{\"marker\":{\"color\":\"rgba(255, 255, 51, 0.6)\",\"line\":{\"color\":\"rgba(255, 255, 51, 1.0)\",\"width\":1}},\"name\":\"1980 Population\",\"orientation\":\"v\",\"text\":\"\",\"x\":[\"Africa\",\"Asia\",\"Europe\",\"North America\",\"Oceania\",\"South America\"],\"y\":[481536377,2635334228,692527159,368293361,22920240,241789006],\"type\":\"bar\"},{\"marker\":{\"color\":\"rgba(128, 128, 0, 0.6)\",\"line\":{\"color\":\"rgba(128, 128, 0, 1.0)\",\"width\":1}},\"name\":\"1970 Population\",\"orientation\":\"v\",\"text\":\"\",\"x\":[\"Africa\",\"Asia\",\"Europe\",\"North America\",\"Oceania\",\"South America\"],\"y\":[365444348,2144906290,655923991,315434606,19480270,192947156],\"type\":\"bar\"}],                        {\"legend\":{\"bgcolor\":\"#F5F6F9\",\"font\":{\"color\":\"#4D5663\"}},\"paper_bgcolor\":\"#F5F6F9\",\"plot_bgcolor\":\"#F5F6F9\",\"template\":{\"data\":{\"barpolar\":[{\"marker\":{\"line\":{\"color\":\"#E5ECF6\",\"width\":0.5},\"pattern\":{\"fillmode\":\"overlay\",\"size\":10,\"solidity\":0.2}},\"type\":\"barpolar\"}],\"bar\":[{\"error_x\":{\"color\":\"#2a3f5f\"},\"error_y\":{\"color\":\"#2a3f5f\"},\"marker\":{\"line\":{\"color\":\"#E5ECF6\",\"width\":0.5},\"pattern\":{\"fillmode\":\"overlay\",\"size\":10,\"solidity\":0.2}},\"type\":\"bar\"}],\"carpet\":[{\"aaxis\":{\"endlinecolor\":\"#2a3f5f\",\"gridcolor\":\"white\",\"linecolor\":\"white\",\"minorgridcolor\":\"white\",\"startlinecolor\":\"#2a3f5f\"},\"baxis\":{\"endlinecolor\":\"#2a3f5f\",\"gridcolor\":\"white\",\"linecolor\":\"white\",\"minorgridcolor\":\"white\",\"startlinecolor\":\"#2a3f5f\"},\"type\":\"carpet\"}],\"choropleth\":[{\"colorbar\":{\"outlinewidth\":0,\"ticks\":\"\"},\"type\":\"choropleth\"}],\"contourcarpet\":[{\"colorbar\":{\"outlinewidth\":0,\"ticks\":\"\"},\"type\":\"contourcarpet\"}],\"contour\":[{\"colorbar\":{\"outlinewidth\":0,\"ticks\":\"\"},\"colorscale\":[[0.0,\"#0d0887\"],[0.1111111111111111,\"#46039f\"],[0.2222222222222222,\"#7201a8\"],[0.3333333333333333,\"#9c179e\"],[0.4444444444444444,\"#bd3786\"],[0.5555555555555556,\"#d8576b\"],[0.6666666666666666,\"#ed7953\"],[0.7777777777777778,\"#fb9f3a\"],[0.8888888888888888,\"#fdca26\"],[1.0,\"#f0f921\"]],\"type\":\"contour\"}],\"heatmapgl\":[{\"colorbar\":{\"outlinewidth\":0,\"ticks\":\"\"},\"colorscale\":[[0.0,\"#0d0887\"],[0.1111111111111111,\"#46039f\"],[0.2222222222222222,\"#7201a8\"],[0.3333333333333333,\"#9c179e\"],[0.4444444444444444,\"#bd3786\"],[0.5555555555555556,\"#d8576b\"],[0.6666666666666666,\"#ed7953\"],[0.7777777777777778,\"#fb9f3a\"],[0.8888888888888888,\"#fdca26\"],[1.0,\"#f0f921\"]],\"type\":\"heatmapgl\"}],\"heatmap\":[{\"colorbar\":{\"outlinewidth\":0,\"ticks\":\"\"},\"colorscale\":[[0.0,\"#0d0887\"],[0.1111111111111111,\"#46039f\"],[0.2222222222222222,\"#7201a8\"],[0.3333333333333333,\"#9c179e\"],[0.4444444444444444,\"#bd3786\"],[0.5555555555555556,\"#d8576b\"],[0.6666666666666666,\"#ed7953\"],[0.7777777777777778,\"#fb9f3a\"],[0.8888888888888888,\"#fdca26\"],[1.0,\"#f0f921\"]],\"type\":\"heatmap\"}],\"histogram2dcontour\":[{\"colorbar\":{\"outlinewidth\":0,\"ticks\":\"\"},\"colorscale\":[[0.0,\"#0d0887\"],[0.1111111111111111,\"#46039f\"],[0.2222222222222222,\"#7201a8\"],[0.3333333333333333,\"#9c179e\"],[0.4444444444444444,\"#bd3786\"],[0.5555555555555556,\"#d8576b\"],[0.6666666666666666,\"#ed7953\"],[0.7777777777777778,\"#fb9f3a\"],[0.8888888888888888,\"#fdca26\"],[1.0,\"#f0f921\"]],\"type\":\"histogram2dcontour\"}],\"histogram2d\":[{\"colorbar\":{\"outlinewidth\":0,\"ticks\":\"\"},\"colorscale\":[[0.0,\"#0d0887\"],[0.1111111111111111,\"#46039f\"],[0.2222222222222222,\"#7201a8\"],[0.3333333333333333,\"#9c179e\"],[0.4444444444444444,\"#bd3786\"],[0.5555555555555556,\"#d8576b\"],[0.6666666666666666,\"#ed7953\"],[0.7777777777777778,\"#fb9f3a\"],[0.8888888888888888,\"#fdca26\"],[1.0,\"#f0f921\"]],\"type\":\"histogram2d\"}],\"histogram\":[{\"marker\":{\"pattern\":{\"fillmode\":\"overlay\",\"size\":10,\"solidity\":0.2}},\"type\":\"histogram\"}],\"mesh3d\":[{\"colorbar\":{\"outlinewidth\":0,\"ticks\":\"\"},\"type\":\"mesh3d\"}],\"parcoords\":[{\"line\":{\"colorbar\":{\"outlinewidth\":0,\"ticks\":\"\"}},\"type\":\"parcoords\"}],\"pie\":[{\"automargin\":true,\"type\":\"pie\"}],\"scatter3d\":[{\"line\":{\"colorbar\":{\"outlinewidth\":0,\"ticks\":\"\"}},\"marker\":{\"colorbar\":{\"outlinewidth\":0,\"ticks\":\"\"}},\"type\":\"scatter3d\"}],\"scattercarpet\":[{\"marker\":{\"colorbar\":{\"outlinewidth\":0,\"ticks\":\"\"}},\"type\":\"scattercarpet\"}],\"scattergeo\":[{\"marker\":{\"colorbar\":{\"outlinewidth\":0,\"ticks\":\"\"}},\"type\":\"scattergeo\"}],\"scattergl\":[{\"marker\":{\"colorbar\":{\"outlinewidth\":0,\"ticks\":\"\"}},\"type\":\"scattergl\"}],\"scattermapbox\":[{\"marker\":{\"colorbar\":{\"outlinewidth\":0,\"ticks\":\"\"}},\"type\":\"scattermapbox\"}],\"scatterpolargl\":[{\"marker\":{\"colorbar\":{\"outlinewidth\":0,\"ticks\":\"\"}},\"type\":\"scatterpolargl\"}],\"scatterpolar\":[{\"marker\":{\"colorbar\":{\"outlinewidth\":0,\"ticks\":\"\"}},\"type\":\"scatterpolar\"}],\"scatter\":[{\"fillpattern\":{\"fillmode\":\"overlay\",\"size\":10,\"solidity\":0.2},\"type\":\"scatter\"}],\"scatterternary\":[{\"marker\":{\"colorbar\":{\"outlinewidth\":0,\"ticks\":\"\"}},\"type\":\"scatterternary\"}],\"surface\":[{\"colorbar\":{\"outlinewidth\":0,\"ticks\":\"\"},\"colorscale\":[[0.0,\"#0d0887\"],[0.1111111111111111,\"#46039f\"],[0.2222222222222222,\"#7201a8\"],[0.3333333333333333,\"#9c179e\"],[0.4444444444444444,\"#bd3786\"],[0.5555555555555556,\"#d8576b\"],[0.6666666666666666,\"#ed7953\"],[0.7777777777777778,\"#fb9f3a\"],[0.8888888888888888,\"#fdca26\"],[1.0,\"#f0f921\"]],\"type\":\"surface\"}],\"table\":[{\"cells\":{\"fill\":{\"color\":\"#EBF0F8\"},\"line\":{\"color\":\"white\"}},\"header\":{\"fill\":{\"color\":\"#C8D4E3\"},\"line\":{\"color\":\"white\"}},\"type\":\"table\"}]},\"layout\":{\"annotationdefaults\":{\"arrowcolor\":\"#2a3f5f\",\"arrowhead\":0,\"arrowwidth\":1},\"autotypenumbers\":\"strict\",\"coloraxis\":{\"colorbar\":{\"outlinewidth\":0,\"ticks\":\"\"}},\"colorscale\":{\"diverging\":[[0,\"#8e0152\"],[0.1,\"#c51b7d\"],[0.2,\"#de77ae\"],[0.3,\"#f1b6da\"],[0.4,\"#fde0ef\"],[0.5,\"#f7f7f7\"],[0.6,\"#e6f5d0\"],[0.7,\"#b8e186\"],[0.8,\"#7fbc41\"],[0.9,\"#4d9221\"],[1,\"#276419\"]],\"sequential\":[[0.0,\"#0d0887\"],[0.1111111111111111,\"#46039f\"],[0.2222222222222222,\"#7201a8\"],[0.3333333333333333,\"#9c179e\"],[0.4444444444444444,\"#bd3786\"],[0.5555555555555556,\"#d8576b\"],[0.6666666666666666,\"#ed7953\"],[0.7777777777777778,\"#fb9f3a\"],[0.8888888888888888,\"#fdca26\"],[1.0,\"#f0f921\"]],\"sequentialminus\":[[0.0,\"#0d0887\"],[0.1111111111111111,\"#46039f\"],[0.2222222222222222,\"#7201a8\"],[0.3333333333333333,\"#9c179e\"],[0.4444444444444444,\"#bd3786\"],[0.5555555555555556,\"#d8576b\"],[0.6666666666666666,\"#ed7953\"],[0.7777777777777778,\"#fb9f3a\"],[0.8888888888888888,\"#fdca26\"],[1.0,\"#f0f921\"]]},\"colorway\":[\"#636efa\",\"#EF553B\",\"#00cc96\",\"#ab63fa\",\"#FFA15A\",\"#19d3f3\",\"#FF6692\",\"#B6E880\",\"#FF97FF\",\"#FECB52\"],\"font\":{\"color\":\"#2a3f5f\"},\"geo\":{\"bgcolor\":\"white\",\"lakecolor\":\"white\",\"landcolor\":\"#E5ECF6\",\"showlakes\":true,\"showland\":true,\"subunitcolor\":\"white\"},\"hoverlabel\":{\"align\":\"left\"},\"hovermode\":\"closest\",\"mapbox\":{\"style\":\"light\"},\"paper_bgcolor\":\"white\",\"plot_bgcolor\":\"#E5ECF6\",\"polar\":{\"angularaxis\":{\"gridcolor\":\"white\",\"linecolor\":\"white\",\"ticks\":\"\"},\"bgcolor\":\"#E5ECF6\",\"radialaxis\":{\"gridcolor\":\"white\",\"linecolor\":\"white\",\"ticks\":\"\"}},\"scene\":{\"xaxis\":{\"backgroundcolor\":\"#E5ECF6\",\"gridcolor\":\"white\",\"gridwidth\":2,\"linecolor\":\"white\",\"showbackground\":true,\"ticks\":\"\",\"zerolinecolor\":\"white\"},\"yaxis\":{\"backgroundcolor\":\"#E5ECF6\",\"gridcolor\":\"white\",\"gridwidth\":2,\"linecolor\":\"white\",\"showbackground\":true,\"ticks\":\"\",\"zerolinecolor\":\"white\"},\"zaxis\":{\"backgroundcolor\":\"#E5ECF6\",\"gridcolor\":\"white\",\"gridwidth\":2,\"linecolor\":\"white\",\"showbackground\":true,\"ticks\":\"\",\"zerolinecolor\":\"white\"}},\"shapedefaults\":{\"line\":{\"color\":\"#2a3f5f\"}},\"ternary\":{\"aaxis\":{\"gridcolor\":\"white\",\"linecolor\":\"white\",\"ticks\":\"\"},\"baxis\":{\"gridcolor\":\"white\",\"linecolor\":\"white\",\"ticks\":\"\"},\"bgcolor\":\"#E5ECF6\",\"caxis\":{\"gridcolor\":\"white\",\"linecolor\":\"white\",\"ticks\":\"\"}},\"title\":{\"x\":0.05},\"xaxis\":{\"automargin\":true,\"gridcolor\":\"white\",\"linecolor\":\"white\",\"ticks\":\"\",\"title\":{\"standoff\":15},\"zerolinecolor\":\"white\",\"zerolinewidth\":2},\"yaxis\":{\"automargin\":true,\"gridcolor\":\"white\",\"linecolor\":\"white\",\"ticks\":\"\",\"title\":{\"standoff\":15},\"zerolinecolor\":\"white\",\"zerolinewidth\":2}}},\"title\":{\"font\":{\"color\":\"#4D5663\"}},\"xaxis\":{\"gridcolor\":\"#E1E5ED\",\"showgrid\":true,\"tickfont\":{\"color\":\"#4D5663\"},\"title\":{\"font\":{\"color\":\"#4D5663\"},\"text\":\"\"},\"zerolinecolor\":\"#E1E5ED\"},\"yaxis\":{\"gridcolor\":\"#E1E5ED\",\"showgrid\":true,\"tickfont\":{\"color\":\"#4D5663\"},\"title\":{\"font\":{\"color\":\"#4D5663\"},\"text\":\"\"},\"zerolinecolor\":\"#E1E5ED\"}},                        {\"showLink\": true, \"linkText\": \"Export to plot.ly\", \"plotlyServerURL\": \"https://plot.ly\", \"responsive\": true}                    ).then(function(){\n",
       "                            \n",
       "var gd = document.getElementById('4406a901-11c6-4e67-8d67-cb19e6ae72ee');\n",
       "var x = new MutationObserver(function (mutations, observer) {{\n",
       "        var display = window.getComputedStyle(gd).display;\n",
       "        if (!display || display === 'none') {{\n",
       "            console.log([gd, 'removed!']);\n",
       "            Plotly.purge(gd);\n",
       "            observer.disconnect();\n",
       "        }}\n",
       "}});\n",
       "\n",
       "// Listen for the removal of the full notebook cells\n",
       "var notebookContainer = gd.closest('#notebook-container');\n",
       "if (notebookContainer) {{\n",
       "    x.observe(notebookContainer, {childList: true});\n",
       "}}\n",
       "\n",
       "// Listen for the clearing of the current output cell\n",
       "var outputEl = gd.closest('.output');\n",
       "if (outputEl) {{\n",
       "    x.observe(outputEl, {childList: true});\n",
       "}}\n",
       "\n",
       "                        })                };                });            </script>        </div>"
      ]
     },
     "metadata": {},
     "output_type": "display_data"
    }
   ],
   "source": [
    "continent_pop.iplot(kind = \"bar\")"
   ]
  },
  {
   "cell_type": "code",
   "execution_count": 16,
   "id": "101e7793",
   "metadata": {},
   "outputs": [],
   "source": [
    "world_pop.rename(columns = {\"Area (km²)\":\"Area\",\"Density (per km²)\":\"Density\"},inplace = True)"
   ]
  },
  {
   "cell_type": "code",
   "execution_count": 17,
   "id": "10394b52",
   "metadata": {},
   "outputs": [
    {
     "data": {
      "text/html": [
       "<div>\n",
       "<style scoped>\n",
       "    .dataframe tbody tr th:only-of-type {\n",
       "        vertical-align: middle;\n",
       "    }\n",
       "\n",
       "    .dataframe tbody tr th {\n",
       "        vertical-align: top;\n",
       "    }\n",
       "\n",
       "    .dataframe thead th {\n",
       "        text-align: right;\n",
       "    }\n",
       "</style>\n",
       "<table border=\"1\" class=\"dataframe\">\n",
       "  <thead>\n",
       "    <tr style=\"text-align: right;\">\n",
       "      <th></th>\n",
       "      <th>Rank</th>\n",
       "      <th>Country/Territory</th>\n",
       "      <th>Continent</th>\n",
       "      <th>2022 Population</th>\n",
       "      <th>2020 Population</th>\n",
       "      <th>2015 Population</th>\n",
       "      <th>2010 Population</th>\n",
       "      <th>2000 Population</th>\n",
       "      <th>1990 Population</th>\n",
       "      <th>1980 Population</th>\n",
       "      <th>1970 Population</th>\n",
       "      <th>Area</th>\n",
       "      <th>Density</th>\n",
       "      <th>Growth Rate</th>\n",
       "      <th>World Population Percentage</th>\n",
       "    </tr>\n",
       "  </thead>\n",
       "  <tbody>\n",
       "    <tr>\n",
       "      <th>0</th>\n",
       "      <td>36</td>\n",
       "      <td>Afghanistan</td>\n",
       "      <td>Asia</td>\n",
       "      <td>41128771</td>\n",
       "      <td>38972230</td>\n",
       "      <td>33753499</td>\n",
       "      <td>28189672</td>\n",
       "      <td>19542982</td>\n",
       "      <td>10694796</td>\n",
       "      <td>12486631</td>\n",
       "      <td>10752971</td>\n",
       "      <td>652230</td>\n",
       "      <td>63.0587</td>\n",
       "      <td>1.0257</td>\n",
       "      <td>0.52</td>\n",
       "    </tr>\n",
       "    <tr>\n",
       "      <th>1</th>\n",
       "      <td>138</td>\n",
       "      <td>Albania</td>\n",
       "      <td>Europe</td>\n",
       "      <td>2842321</td>\n",
       "      <td>2866849</td>\n",
       "      <td>2882481</td>\n",
       "      <td>2913399</td>\n",
       "      <td>3182021</td>\n",
       "      <td>3295066</td>\n",
       "      <td>2941651</td>\n",
       "      <td>2324731</td>\n",
       "      <td>28748</td>\n",
       "      <td>98.8702</td>\n",
       "      <td>0.9957</td>\n",
       "      <td>0.04</td>\n",
       "    </tr>\n",
       "    <tr>\n",
       "      <th>2</th>\n",
       "      <td>34</td>\n",
       "      <td>Algeria</td>\n",
       "      <td>Africa</td>\n",
       "      <td>44903225</td>\n",
       "      <td>43451666</td>\n",
       "      <td>39543154</td>\n",
       "      <td>35856344</td>\n",
       "      <td>30774621</td>\n",
       "      <td>25518074</td>\n",
       "      <td>18739378</td>\n",
       "      <td>13795915</td>\n",
       "      <td>2381741</td>\n",
       "      <td>18.8531</td>\n",
       "      <td>1.0164</td>\n",
       "      <td>0.56</td>\n",
       "    </tr>\n",
       "    <tr>\n",
       "      <th>3</th>\n",
       "      <td>213</td>\n",
       "      <td>American Samoa</td>\n",
       "      <td>Oceania</td>\n",
       "      <td>44273</td>\n",
       "      <td>46189</td>\n",
       "      <td>51368</td>\n",
       "      <td>54849</td>\n",
       "      <td>58230</td>\n",
       "      <td>47818</td>\n",
       "      <td>32886</td>\n",
       "      <td>27075</td>\n",
       "      <td>199</td>\n",
       "      <td>222.4774</td>\n",
       "      <td>0.9831</td>\n",
       "      <td>0.00</td>\n",
       "    </tr>\n",
       "    <tr>\n",
       "      <th>4</th>\n",
       "      <td>203</td>\n",
       "      <td>Andorra</td>\n",
       "      <td>Europe</td>\n",
       "      <td>79824</td>\n",
       "      <td>77700</td>\n",
       "      <td>71746</td>\n",
       "      <td>71519</td>\n",
       "      <td>66097</td>\n",
       "      <td>53569</td>\n",
       "      <td>35611</td>\n",
       "      <td>19860</td>\n",
       "      <td>468</td>\n",
       "      <td>170.5641</td>\n",
       "      <td>1.0100</td>\n",
       "      <td>0.00</td>\n",
       "    </tr>\n",
       "    <tr>\n",
       "      <th>...</th>\n",
       "      <td>...</td>\n",
       "      <td>...</td>\n",
       "      <td>...</td>\n",
       "      <td>...</td>\n",
       "      <td>...</td>\n",
       "      <td>...</td>\n",
       "      <td>...</td>\n",
       "      <td>...</td>\n",
       "      <td>...</td>\n",
       "      <td>...</td>\n",
       "      <td>...</td>\n",
       "      <td>...</td>\n",
       "      <td>...</td>\n",
       "      <td>...</td>\n",
       "      <td>...</td>\n",
       "    </tr>\n",
       "    <tr>\n",
       "      <th>229</th>\n",
       "      <td>226</td>\n",
       "      <td>Wallis and Futuna</td>\n",
       "      <td>Oceania</td>\n",
       "      <td>11572</td>\n",
       "      <td>11655</td>\n",
       "      <td>12182</td>\n",
       "      <td>13142</td>\n",
       "      <td>14723</td>\n",
       "      <td>13454</td>\n",
       "      <td>11315</td>\n",
       "      <td>9377</td>\n",
       "      <td>142</td>\n",
       "      <td>81.4930</td>\n",
       "      <td>0.9953</td>\n",
       "      <td>0.00</td>\n",
       "    </tr>\n",
       "    <tr>\n",
       "      <th>230</th>\n",
       "      <td>172</td>\n",
       "      <td>Western Sahara</td>\n",
       "      <td>Africa</td>\n",
       "      <td>575986</td>\n",
       "      <td>556048</td>\n",
       "      <td>491824</td>\n",
       "      <td>413296</td>\n",
       "      <td>270375</td>\n",
       "      <td>178529</td>\n",
       "      <td>116775</td>\n",
       "      <td>76371</td>\n",
       "      <td>266000</td>\n",
       "      <td>2.1654</td>\n",
       "      <td>1.0184</td>\n",
       "      <td>0.01</td>\n",
       "    </tr>\n",
       "    <tr>\n",
       "      <th>231</th>\n",
       "      <td>46</td>\n",
       "      <td>Yemen</td>\n",
       "      <td>Asia</td>\n",
       "      <td>33696614</td>\n",
       "      <td>32284046</td>\n",
       "      <td>28516545</td>\n",
       "      <td>24743946</td>\n",
       "      <td>18628700</td>\n",
       "      <td>13375121</td>\n",
       "      <td>9204938</td>\n",
       "      <td>6843607</td>\n",
       "      <td>527968</td>\n",
       "      <td>63.8232</td>\n",
       "      <td>1.0217</td>\n",
       "      <td>0.42</td>\n",
       "    </tr>\n",
       "    <tr>\n",
       "      <th>232</th>\n",
       "      <td>63</td>\n",
       "      <td>Zambia</td>\n",
       "      <td>Africa</td>\n",
       "      <td>20017675</td>\n",
       "      <td>18927715</td>\n",
       "      <td>16248230</td>\n",
       "      <td>13792086</td>\n",
       "      <td>9891136</td>\n",
       "      <td>7686401</td>\n",
       "      <td>5720438</td>\n",
       "      <td>4281671</td>\n",
       "      <td>752612</td>\n",
       "      <td>26.5976</td>\n",
       "      <td>1.0280</td>\n",
       "      <td>0.25</td>\n",
       "    </tr>\n",
       "    <tr>\n",
       "      <th>233</th>\n",
       "      <td>74</td>\n",
       "      <td>Zimbabwe</td>\n",
       "      <td>Africa</td>\n",
       "      <td>16320537</td>\n",
       "      <td>15669666</td>\n",
       "      <td>14154937</td>\n",
       "      <td>12839771</td>\n",
       "      <td>11834676</td>\n",
       "      <td>10113893</td>\n",
       "      <td>7049926</td>\n",
       "      <td>5202918</td>\n",
       "      <td>390757</td>\n",
       "      <td>41.7665</td>\n",
       "      <td>1.0204</td>\n",
       "      <td>0.20</td>\n",
       "    </tr>\n",
       "  </tbody>\n",
       "</table>\n",
       "<p>234 rows × 15 columns</p>\n",
       "</div>"
      ],
      "text/plain": [
       "     Rank  Country/Territory Continent  2022 Population  2020 Population  \\\n",
       "0      36        Afghanistan      Asia         41128771         38972230   \n",
       "1     138            Albania    Europe          2842321          2866849   \n",
       "2      34            Algeria    Africa         44903225         43451666   \n",
       "3     213     American Samoa   Oceania            44273            46189   \n",
       "4     203            Andorra    Europe            79824            77700   \n",
       "..    ...                ...       ...              ...              ...   \n",
       "229   226  Wallis and Futuna   Oceania            11572            11655   \n",
       "230   172     Western Sahara    Africa           575986           556048   \n",
       "231    46              Yemen      Asia         33696614         32284046   \n",
       "232    63             Zambia    Africa         20017675         18927715   \n",
       "233    74           Zimbabwe    Africa         16320537         15669666   \n",
       "\n",
       "     2015 Population  2010 Population  2000 Population  1990 Population  \\\n",
       "0           33753499         28189672         19542982         10694796   \n",
       "1            2882481          2913399          3182021          3295066   \n",
       "2           39543154         35856344         30774621         25518074   \n",
       "3              51368            54849            58230            47818   \n",
       "4              71746            71519            66097            53569   \n",
       "..               ...              ...              ...              ...   \n",
       "229            12182            13142            14723            13454   \n",
       "230           491824           413296           270375           178529   \n",
       "231         28516545         24743946         18628700         13375121   \n",
       "232         16248230         13792086          9891136          7686401   \n",
       "233         14154937         12839771         11834676         10113893   \n",
       "\n",
       "     1980 Population  1970 Population     Area   Density  Growth Rate  \\\n",
       "0           12486631         10752971   652230   63.0587       1.0257   \n",
       "1            2941651          2324731    28748   98.8702       0.9957   \n",
       "2           18739378         13795915  2381741   18.8531       1.0164   \n",
       "3              32886            27075      199  222.4774       0.9831   \n",
       "4              35611            19860      468  170.5641       1.0100   \n",
       "..               ...              ...      ...       ...          ...   \n",
       "229            11315             9377      142   81.4930       0.9953   \n",
       "230           116775            76371   266000    2.1654       1.0184   \n",
       "231          9204938          6843607   527968   63.8232       1.0217   \n",
       "232          5720438          4281671   752612   26.5976       1.0280   \n",
       "233          7049926          5202918   390757   41.7665       1.0204   \n",
       "\n",
       "     World Population Percentage  \n",
       "0                           0.52  \n",
       "1                           0.04  \n",
       "2                           0.56  \n",
       "3                           0.00  \n",
       "4                           0.00  \n",
       "..                           ...  \n",
       "229                         0.00  \n",
       "230                         0.01  \n",
       "231                         0.42  \n",
       "232                         0.25  \n",
       "233                         0.20  \n",
       "\n",
       "[234 rows x 15 columns]"
      ]
     },
     "execution_count": 17,
     "metadata": {},
     "output_type": "execute_result"
    }
   ],
   "source": [
    "world_pop"
   ]
  },
  {
   "cell_type": "code",
   "execution_count": 18,
   "id": "1917d9de",
   "metadata": {},
   "outputs": [
    {
     "data": {
      "text/html": [
       "<div>\n",
       "<style scoped>\n",
       "    .dataframe tbody tr th:only-of-type {\n",
       "        vertical-align: middle;\n",
       "    }\n",
       "\n",
       "    .dataframe tbody tr th {\n",
       "        vertical-align: top;\n",
       "    }\n",
       "\n",
       "    .dataframe thead th {\n",
       "        text-align: right;\n",
       "    }\n",
       "</style>\n",
       "<table border=\"1\" class=\"dataframe\">\n",
       "  <thead>\n",
       "    <tr style=\"text-align: right;\">\n",
       "      <th></th>\n",
       "      <th></th>\n",
       "      <th>Rank</th>\n",
       "      <th>Country/Territory</th>\n",
       "      <th>Continent</th>\n",
       "      <th>2022 Population</th>\n",
       "      <th>2020 Population</th>\n",
       "      <th>2015 Population</th>\n",
       "      <th>2010 Population</th>\n",
       "      <th>2000 Population</th>\n",
       "      <th>1990 Population</th>\n",
       "      <th>1980 Population</th>\n",
       "      <th>1970 Population</th>\n",
       "      <th>Area</th>\n",
       "      <th>Density</th>\n",
       "      <th>Growth Rate</th>\n",
       "      <th>World Population Percentage</th>\n",
       "    </tr>\n",
       "    <tr>\n",
       "      <th>Continent</th>\n",
       "      <th></th>\n",
       "      <th></th>\n",
       "      <th></th>\n",
       "      <th></th>\n",
       "      <th></th>\n",
       "      <th></th>\n",
       "      <th></th>\n",
       "      <th></th>\n",
       "      <th></th>\n",
       "      <th></th>\n",
       "      <th></th>\n",
       "      <th></th>\n",
       "      <th></th>\n",
       "      <th></th>\n",
       "      <th></th>\n",
       "      <th></th>\n",
       "    </tr>\n",
       "  </thead>\n",
       "  <tbody>\n",
       "    <tr>\n",
       "      <th>Africa</th>\n",
       "      <th>63</th>\n",
       "      <td>12</td>\n",
       "      <td>Ethiopia</td>\n",
       "      <td>Africa</td>\n",
       "      <td>123379924</td>\n",
       "      <td>117190911</td>\n",
       "      <td>102471895</td>\n",
       "      <td>89237791</td>\n",
       "      <td>67031867</td>\n",
       "      <td>47878073</td>\n",
       "      <td>34945469</td>\n",
       "      <td>28308246</td>\n",
       "      <td>1104300</td>\n",
       "      <td>111.7268</td>\n",
       "      <td>1.0257</td>\n",
       "      <td>1.55</td>\n",
       "    </tr>\n",
       "    <tr>\n",
       "      <th>Asia</th>\n",
       "      <th>104</th>\n",
       "      <td>83</td>\n",
       "      <td>Jordan</td>\n",
       "      <td>Asia</td>\n",
       "      <td>11285869</td>\n",
       "      <td>10928721</td>\n",
       "      <td>9494246</td>\n",
       "      <td>6931258</td>\n",
       "      <td>5056174</td>\n",
       "      <td>3480587</td>\n",
       "      <td>2216903</td>\n",
       "      <td>1557374</td>\n",
       "      <td>89342</td>\n",
       "      <td>126.3221</td>\n",
       "      <td>1.0123</td>\n",
       "      <td>0.14</td>\n",
       "    </tr>\n",
       "    <tr>\n",
       "      <th>Europe</th>\n",
       "      <th>116</th>\n",
       "      <td>216</td>\n",
       "      <td>Liechtenstein</td>\n",
       "      <td>Europe</td>\n",
       "      <td>39327</td>\n",
       "      <td>38756</td>\n",
       "      <td>37355</td>\n",
       "      <td>35926</td>\n",
       "      <td>33026</td>\n",
       "      <td>28765</td>\n",
       "      <td>25003</td>\n",
       "      <td>21089</td>\n",
       "      <td>160</td>\n",
       "      <td>245.7937</td>\n",
       "      <td>1.0074</td>\n",
       "      <td>0.00</td>\n",
       "    </tr>\n",
       "    <tr>\n",
       "      <th>North America</th>\n",
       "      <th>188</th>\n",
       "      <td>214</td>\n",
       "      <td>Sint Maarten</td>\n",
       "      <td>North America</td>\n",
       "      <td>44175</td>\n",
       "      <td>43621</td>\n",
       "      <td>40205</td>\n",
       "      <td>33034</td>\n",
       "      <td>30489</td>\n",
       "      <td>27845</td>\n",
       "      <td>12243</td>\n",
       "      <td>6260</td>\n",
       "      <td>34</td>\n",
       "      <td>1299.2647</td>\n",
       "      <td>1.0030</td>\n",
       "      <td>0.00</td>\n",
       "    </tr>\n",
       "    <tr>\n",
       "      <th>Oceania</th>\n",
       "      <th>66</th>\n",
       "      <td>162</td>\n",
       "      <td>Fiji</td>\n",
       "      <td>Oceania</td>\n",
       "      <td>929766</td>\n",
       "      <td>920422</td>\n",
       "      <td>917200</td>\n",
       "      <td>905169</td>\n",
       "      <td>832509</td>\n",
       "      <td>780430</td>\n",
       "      <td>644582</td>\n",
       "      <td>527634</td>\n",
       "      <td>18272</td>\n",
       "      <td>50.8847</td>\n",
       "      <td>1.0056</td>\n",
       "      <td>0.01</td>\n",
       "    </tr>\n",
       "    <tr>\n",
       "      <th>South America</th>\n",
       "      <th>24</th>\n",
       "      <td>80</td>\n",
       "      <td>Bolivia</td>\n",
       "      <td>South America</td>\n",
       "      <td>12224110</td>\n",
       "      <td>11936162</td>\n",
       "      <td>11090085</td>\n",
       "      <td>10223270</td>\n",
       "      <td>8592656</td>\n",
       "      <td>7096194</td>\n",
       "      <td>5736088</td>\n",
       "      <td>4585693</td>\n",
       "      <td>1098581</td>\n",
       "      <td>11.1272</td>\n",
       "      <td>1.0120</td>\n",
       "      <td>0.15</td>\n",
       "    </tr>\n",
       "  </tbody>\n",
       "</table>\n",
       "</div>"
      ],
      "text/plain": [
       "                   Rank Country/Territory      Continent  2022 Population  \\\n",
       "Continent                                                                   \n",
       "Africa        63     12          Ethiopia         Africa        123379924   \n",
       "Asia          104    83            Jordan           Asia         11285869   \n",
       "Europe        116   216     Liechtenstein         Europe            39327   \n",
       "North America 188   214      Sint Maarten  North America            44175   \n",
       "Oceania       66    162              Fiji        Oceania           929766   \n",
       "South America 24     80           Bolivia  South America         12224110   \n",
       "\n",
       "                   2020 Population  2015 Population  2010 Population  \\\n",
       "Continent                                                              \n",
       "Africa        63         117190911        102471895         89237791   \n",
       "Asia          104         10928721          9494246          6931258   \n",
       "Europe        116            38756            37355            35926   \n",
       "North America 188            43621            40205            33034   \n",
       "Oceania       66            920422           917200           905169   \n",
       "South America 24          11936162         11090085         10223270   \n",
       "\n",
       "                   2000 Population  1990 Population  1980 Population  \\\n",
       "Continent                                                              \n",
       "Africa        63          67031867         47878073         34945469   \n",
       "Asia          104          5056174          3480587          2216903   \n",
       "Europe        116            33026            28765            25003   \n",
       "North America 188            30489            27845            12243   \n",
       "Oceania       66            832509           780430           644582   \n",
       "South America 24           8592656          7096194          5736088   \n",
       "\n",
       "                   1970 Population     Area    Density  Growth Rate  \\\n",
       "Continent                                                             \n",
       "Africa        63          28308246  1104300   111.7268       1.0257   \n",
       "Asia          104          1557374    89342   126.3221       1.0123   \n",
       "Europe        116            21089      160   245.7937       1.0074   \n",
       "North America 188             6260       34  1299.2647       1.0030   \n",
       "Oceania       66            527634    18272    50.8847       1.0056   \n",
       "South America 24           4585693  1098581    11.1272       1.0120   \n",
       "\n",
       "                   World Population Percentage  \n",
       "Continent                                       \n",
       "Africa        63                          1.55  \n",
       "Asia          104                         0.14  \n",
       "Europe        116                         0.00  \n",
       "North America 188                         0.00  \n",
       "Oceania       66                          0.01  \n",
       "South America 24                          0.15  "
      ]
     },
     "execution_count": 18,
     "metadata": {},
     "output_type": "execute_result"
    }
   ],
   "source": [
    "world_pop.groupby('Continent').apply(lambda x: x.sample())"
   ]
  },
  {
   "cell_type": "code",
   "execution_count": 19,
   "id": "65e07384",
   "metadata": {},
   "outputs": [
    {
     "data": {
      "text/html": [
       "<div>\n",
       "<style scoped>\n",
       "    .dataframe tbody tr th:only-of-type {\n",
       "        vertical-align: middle;\n",
       "    }\n",
       "\n",
       "    .dataframe tbody tr th {\n",
       "        vertical-align: top;\n",
       "    }\n",
       "\n",
       "    .dataframe thead th {\n",
       "        text-align: right;\n",
       "    }\n",
       "</style>\n",
       "<table border=\"1\" class=\"dataframe\">\n",
       "  <thead>\n",
       "    <tr style=\"text-align: right;\">\n",
       "      <th></th>\n",
       "      <th>Rank</th>\n",
       "      <th>Country/Territory</th>\n",
       "      <th>Continent</th>\n",
       "      <th>2022 Population</th>\n",
       "      <th>2020 Population</th>\n",
       "      <th>2015 Population</th>\n",
       "      <th>2010 Population</th>\n",
       "      <th>2000 Population</th>\n",
       "      <th>1990 Population</th>\n",
       "      <th>1980 Population</th>\n",
       "      <th>1970 Population</th>\n",
       "      <th>Area</th>\n",
       "      <th>Density</th>\n",
       "      <th>Growth Rate</th>\n",
       "      <th>World Population Percentage</th>\n",
       "    </tr>\n",
       "  </thead>\n",
       "  <tbody>\n",
       "    <tr>\n",
       "      <th>41</th>\n",
       "      <td>1</td>\n",
       "      <td>China</td>\n",
       "      <td>Asia</td>\n",
       "      <td>1425887337</td>\n",
       "      <td>1424929781</td>\n",
       "      <td>1393715448</td>\n",
       "      <td>1348191368</td>\n",
       "      <td>1264099069</td>\n",
       "      <td>1153704252</td>\n",
       "      <td>982372466</td>\n",
       "      <td>822534450</td>\n",
       "      <td>9706961</td>\n",
       "      <td>146.8933</td>\n",
       "      <td>1.0000</td>\n",
       "      <td>17.88</td>\n",
       "    </tr>\n",
       "    <tr>\n",
       "      <th>92</th>\n",
       "      <td>2</td>\n",
       "      <td>India</td>\n",
       "      <td>Asia</td>\n",
       "      <td>1417173173</td>\n",
       "      <td>1396387127</td>\n",
       "      <td>1322866505</td>\n",
       "      <td>1240613620</td>\n",
       "      <td>1059633675</td>\n",
       "      <td>870452165</td>\n",
       "      <td>696828385</td>\n",
       "      <td>557501301</td>\n",
       "      <td>3287590</td>\n",
       "      <td>431.0675</td>\n",
       "      <td>1.0068</td>\n",
       "      <td>17.77</td>\n",
       "    </tr>\n",
       "    <tr>\n",
       "      <th>93</th>\n",
       "      <td>4</td>\n",
       "      <td>Indonesia</td>\n",
       "      <td>Asia</td>\n",
       "      <td>275501339</td>\n",
       "      <td>271857970</td>\n",
       "      <td>259091970</td>\n",
       "      <td>244016173</td>\n",
       "      <td>214072421</td>\n",
       "      <td>182159874</td>\n",
       "      <td>148177096</td>\n",
       "      <td>115228394</td>\n",
       "      <td>1904569</td>\n",
       "      <td>144.6529</td>\n",
       "      <td>1.0064</td>\n",
       "      <td>3.45</td>\n",
       "    </tr>\n",
       "    <tr>\n",
       "      <th>156</th>\n",
       "      <td>5</td>\n",
       "      <td>Pakistan</td>\n",
       "      <td>Asia</td>\n",
       "      <td>235824862</td>\n",
       "      <td>227196741</td>\n",
       "      <td>210969298</td>\n",
       "      <td>194454498</td>\n",
       "      <td>154369924</td>\n",
       "      <td>115414069</td>\n",
       "      <td>80624057</td>\n",
       "      <td>59290872</td>\n",
       "      <td>881912</td>\n",
       "      <td>267.4018</td>\n",
       "      <td>1.0191</td>\n",
       "      <td>2.96</td>\n",
       "    </tr>\n",
       "  </tbody>\n",
       "</table>\n",
       "</div>"
      ],
      "text/plain": [
       "     Rank Country/Territory Continent  2022 Population  2020 Population  \\\n",
       "41      1             China      Asia       1425887337       1424929781   \n",
       "92      2             India      Asia       1417173173       1396387127   \n",
       "93      4         Indonesia      Asia        275501339        271857970   \n",
       "156     5          Pakistan      Asia        235824862        227196741   \n",
       "\n",
       "     2015 Population  2010 Population  2000 Population  1990 Population  \\\n",
       "41        1393715448       1348191368       1264099069       1153704252   \n",
       "92        1322866505       1240613620       1059633675        870452165   \n",
       "93         259091970        244016173        214072421        182159874   \n",
       "156        210969298        194454498        154369924        115414069   \n",
       "\n",
       "     1980 Population  1970 Population     Area   Density  Growth Rate  \\\n",
       "41         982372466        822534450  9706961  146.8933       1.0000   \n",
       "92         696828385        557501301  3287590  431.0675       1.0068   \n",
       "93         148177096        115228394  1904569  144.6529       1.0064   \n",
       "156         80624057         59290872   881912  267.4018       1.0191   \n",
       "\n",
       "     World Population Percentage  \n",
       "41                         17.88  \n",
       "92                         17.77  \n",
       "93                          3.45  \n",
       "156                         2.96  "
      ]
     },
     "execution_count": 19,
     "metadata": {},
     "output_type": "execute_result"
    }
   ],
   "source": [
    "filter1 = world_pop['Continent'] == \"Asia\" \n",
    "filter2 = world_pop['Rank'] < 6\n",
    "world_pop[filter1 & filter2]"
   ]
  },
  {
   "cell_type": "code",
   "execution_count": 20,
   "id": "9445c6a1",
   "metadata": {},
   "outputs": [
    {
     "data": {
      "text/html": [
       "<div>\n",
       "<style scoped>\n",
       "    .dataframe tbody tr th:only-of-type {\n",
       "        vertical-align: middle;\n",
       "    }\n",
       "\n",
       "    .dataframe tbody tr th {\n",
       "        vertical-align: top;\n",
       "    }\n",
       "\n",
       "    .dataframe thead th {\n",
       "        text-align: right;\n",
       "    }\n",
       "</style>\n",
       "<table border=\"1\" class=\"dataframe\">\n",
       "  <thead>\n",
       "    <tr style=\"text-align: right;\">\n",
       "      <th></th>\n",
       "      <th>Rank</th>\n",
       "      <th>Country/Territory</th>\n",
       "      <th>Continent</th>\n",
       "      <th>2022 Population</th>\n",
       "      <th>2020 Population</th>\n",
       "      <th>2015 Population</th>\n",
       "      <th>2010 Population</th>\n",
       "      <th>2000 Population</th>\n",
       "      <th>1990 Population</th>\n",
       "      <th>1980 Population</th>\n",
       "      <th>1970 Population</th>\n",
       "      <th>Area</th>\n",
       "      <th>Density</th>\n",
       "      <th>Growth Rate</th>\n",
       "      <th>World Population Percentage</th>\n",
       "    </tr>\n",
       "  </thead>\n",
       "  <tbody>\n",
       "    <tr>\n",
       "      <th>149</th>\n",
       "      <td>6</td>\n",
       "      <td>Nigeria</td>\n",
       "      <td>Africa</td>\n",
       "      <td>218541212</td>\n",
       "      <td>208327405</td>\n",
       "      <td>183995785</td>\n",
       "      <td>160952853</td>\n",
       "      <td>122851984</td>\n",
       "      <td>95214257</td>\n",
       "      <td>72951439</td>\n",
       "      <td>55569264</td>\n",
       "      <td>923768</td>\n",
       "      <td>236.5759</td>\n",
       "      <td>1.0241</td>\n",
       "      <td>2.74</td>\n",
       "    </tr>\n",
       "    <tr>\n",
       "      <th>63</th>\n",
       "      <td>12</td>\n",
       "      <td>Ethiopia</td>\n",
       "      <td>Africa</td>\n",
       "      <td>123379924</td>\n",
       "      <td>117190911</td>\n",
       "      <td>102471895</td>\n",
       "      <td>89237791</td>\n",
       "      <td>67031867</td>\n",
       "      <td>47878073</td>\n",
       "      <td>34945469</td>\n",
       "      <td>28308246</td>\n",
       "      <td>1104300</td>\n",
       "      <td>111.7268</td>\n",
       "      <td>1.0257</td>\n",
       "      <td>1.55</td>\n",
       "    </tr>\n",
       "    <tr>\n",
       "      <th>57</th>\n",
       "      <td>14</td>\n",
       "      <td>Egypt</td>\n",
       "      <td>Africa</td>\n",
       "      <td>110990103</td>\n",
       "      <td>107465134</td>\n",
       "      <td>97723799</td>\n",
       "      <td>87252413</td>\n",
       "      <td>71371371</td>\n",
       "      <td>57214630</td>\n",
       "      <td>43748556</td>\n",
       "      <td>34781986</td>\n",
       "      <td>1002450</td>\n",
       "      <td>110.7188</td>\n",
       "      <td>1.0158</td>\n",
       "      <td>1.39</td>\n",
       "    </tr>\n",
       "    <tr>\n",
       "      <th>55</th>\n",
       "      <td>15</td>\n",
       "      <td>DR Congo</td>\n",
       "      <td>Africa</td>\n",
       "      <td>99010212</td>\n",
       "      <td>92853164</td>\n",
       "      <td>78656904</td>\n",
       "      <td>66391257</td>\n",
       "      <td>48616317</td>\n",
       "      <td>35987541</td>\n",
       "      <td>26708686</td>\n",
       "      <td>20151733</td>\n",
       "      <td>2344858</td>\n",
       "      <td>42.2244</td>\n",
       "      <td>1.0325</td>\n",
       "      <td>1.24</td>\n",
       "    </tr>\n",
       "    <tr>\n",
       "      <th>205</th>\n",
       "      <td>22</td>\n",
       "      <td>Tanzania</td>\n",
       "      <td>Africa</td>\n",
       "      <td>65497748</td>\n",
       "      <td>61704518</td>\n",
       "      <td>52542823</td>\n",
       "      <td>45110527</td>\n",
       "      <td>34463704</td>\n",
       "      <td>26206012</td>\n",
       "      <td>19297659</td>\n",
       "      <td>13618192</td>\n",
       "      <td>945087</td>\n",
       "      <td>69.3034</td>\n",
       "      <td>1.0300</td>\n",
       "      <td>0.82</td>\n",
       "    </tr>\n",
       "    <tr>\n",
       "      <th>...</th>\n",
       "      <td>...</td>\n",
       "      <td>...</td>\n",
       "      <td>...</td>\n",
       "      <td>...</td>\n",
       "      <td>...</td>\n",
       "      <td>...</td>\n",
       "      <td>...</td>\n",
       "      <td>...</td>\n",
       "      <td>...</td>\n",
       "      <td>...</td>\n",
       "      <td>...</td>\n",
       "      <td>...</td>\n",
       "      <td>...</td>\n",
       "      <td>...</td>\n",
       "      <td>...</td>\n",
       "    </tr>\n",
       "    <tr>\n",
       "      <th>223</th>\n",
       "      <td>133</td>\n",
       "      <td>Uruguay</td>\n",
       "      <td>South America</td>\n",
       "      <td>3422794</td>\n",
       "      <td>3429086</td>\n",
       "      <td>3402818</td>\n",
       "      <td>3352651</td>\n",
       "      <td>3292224</td>\n",
       "      <td>3117012</td>\n",
       "      <td>2953750</td>\n",
       "      <td>2790265</td>\n",
       "      <td>181034</td>\n",
       "      <td>18.9069</td>\n",
       "      <td>0.9990</td>\n",
       "      <td>0.04</td>\n",
       "    </tr>\n",
       "    <tr>\n",
       "      <th>86</th>\n",
       "      <td>164</td>\n",
       "      <td>Guyana</td>\n",
       "      <td>South America</td>\n",
       "      <td>808726</td>\n",
       "      <td>797202</td>\n",
       "      <td>755031</td>\n",
       "      <td>747932</td>\n",
       "      <td>759051</td>\n",
       "      <td>747116</td>\n",
       "      <td>778176</td>\n",
       "      <td>705261</td>\n",
       "      <td>214969</td>\n",
       "      <td>3.7621</td>\n",
       "      <td>1.0052</td>\n",
       "      <td>0.01</td>\n",
       "    </tr>\n",
       "    <tr>\n",
       "      <th>199</th>\n",
       "      <td>170</td>\n",
       "      <td>Suriname</td>\n",
       "      <td>South America</td>\n",
       "      <td>618040</td>\n",
       "      <td>607065</td>\n",
       "      <td>575475</td>\n",
       "      <td>546080</td>\n",
       "      <td>478998</td>\n",
       "      <td>412756</td>\n",
       "      <td>375112</td>\n",
       "      <td>379918</td>\n",
       "      <td>163820</td>\n",
       "      <td>3.7727</td>\n",
       "      <td>1.0082</td>\n",
       "      <td>0.01</td>\n",
       "    </tr>\n",
       "    <tr>\n",
       "      <th>69</th>\n",
       "      <td>184</td>\n",
       "      <td>French Guiana</td>\n",
       "      <td>South America</td>\n",
       "      <td>304557</td>\n",
       "      <td>290969</td>\n",
       "      <td>257026</td>\n",
       "      <td>228453</td>\n",
       "      <td>164351</td>\n",
       "      <td>113931</td>\n",
       "      <td>66825</td>\n",
       "      <td>46484</td>\n",
       "      <td>83534</td>\n",
       "      <td>3.6459</td>\n",
       "      <td>1.0239</td>\n",
       "      <td>0.00</td>\n",
       "    </tr>\n",
       "    <tr>\n",
       "      <th>64</th>\n",
       "      <td>231</td>\n",
       "      <td>Falkland Islands</td>\n",
       "      <td>South America</td>\n",
       "      <td>3780</td>\n",
       "      <td>3747</td>\n",
       "      <td>3408</td>\n",
       "      <td>3187</td>\n",
       "      <td>3080</td>\n",
       "      <td>2332</td>\n",
       "      <td>2240</td>\n",
       "      <td>2274</td>\n",
       "      <td>12173</td>\n",
       "      <td>0.3105</td>\n",
       "      <td>1.0043</td>\n",
       "      <td>0.00</td>\n",
       "    </tr>\n",
       "  </tbody>\n",
       "</table>\n",
       "<p>234 rows × 15 columns</p>\n",
       "</div>"
      ],
      "text/plain": [
       "     Rank Country/Territory      Continent  2022 Population  2020 Population  \\\n",
       "149     6           Nigeria         Africa        218541212        208327405   \n",
       "63     12          Ethiopia         Africa        123379924        117190911   \n",
       "57     14             Egypt         Africa        110990103        107465134   \n",
       "55     15          DR Congo         Africa         99010212         92853164   \n",
       "205    22          Tanzania         Africa         65497748         61704518   \n",
       "..    ...               ...            ...              ...              ...   \n",
       "223   133           Uruguay  South America          3422794          3429086   \n",
       "86    164            Guyana  South America           808726           797202   \n",
       "199   170          Suriname  South America           618040           607065   \n",
       "69    184     French Guiana  South America           304557           290969   \n",
       "64    231  Falkland Islands  South America             3780             3747   \n",
       "\n",
       "     2015 Population  2010 Population  2000 Population  1990 Population  \\\n",
       "149        183995785        160952853        122851984         95214257   \n",
       "63         102471895         89237791         67031867         47878073   \n",
       "57          97723799         87252413         71371371         57214630   \n",
       "55          78656904         66391257         48616317         35987541   \n",
       "205         52542823         45110527         34463704         26206012   \n",
       "..               ...              ...              ...              ...   \n",
       "223          3402818          3352651          3292224          3117012   \n",
       "86            755031           747932           759051           747116   \n",
       "199           575475           546080           478998           412756   \n",
       "69            257026           228453           164351           113931   \n",
       "64              3408             3187             3080             2332   \n",
       "\n",
       "     1980 Population  1970 Population     Area   Density  Growth Rate  \\\n",
       "149         72951439         55569264   923768  236.5759       1.0241   \n",
       "63          34945469         28308246  1104300  111.7268       1.0257   \n",
       "57          43748556         34781986  1002450  110.7188       1.0158   \n",
       "55          26708686         20151733  2344858   42.2244       1.0325   \n",
       "205         19297659         13618192   945087   69.3034       1.0300   \n",
       "..               ...              ...      ...       ...          ...   \n",
       "223          2953750          2790265   181034   18.9069       0.9990   \n",
       "86            778176           705261   214969    3.7621       1.0052   \n",
       "199           375112           379918   163820    3.7727       1.0082   \n",
       "69             66825            46484    83534    3.6459       1.0239   \n",
       "64              2240             2274    12173    0.3105       1.0043   \n",
       "\n",
       "     World Population Percentage  \n",
       "149                         2.74  \n",
       "63                          1.55  \n",
       "57                          1.39  \n",
       "55                          1.24  \n",
       "205                         0.82  \n",
       "..                           ...  \n",
       "223                         0.04  \n",
       "86                          0.01  \n",
       "199                         0.01  \n",
       "69                          0.00  \n",
       "64                          0.00  \n",
       "\n",
       "[234 rows x 15 columns]"
      ]
     },
     "execution_count": 20,
     "metadata": {},
     "output_type": "execute_result"
    }
   ],
   "source": [
    "world_pop.sort_values(['Continent','Rank'])"
   ]
  },
  {
   "cell_type": "code",
   "execution_count": 21,
   "id": "4567998f",
   "metadata": {},
   "outputs": [
    {
     "data": {
      "text/plain": [
       "array(['Asia', 'Europe', 'Africa', 'Oceania', 'North America',\n",
       "       'South America'], dtype=object)"
      ]
     },
     "execution_count": 21,
     "metadata": {},
     "output_type": "execute_result"
    }
   ],
   "source": [
    "world_pop['Continent'].unique()"
   ]
  },
  {
   "cell_type": "code",
   "execution_count": 22,
   "id": "87c879d6",
   "metadata": {},
   "outputs": [],
   "source": [
    "#creation of dataframes based on continents\n",
    "continent_pop = []\n",
    "for i in world_pop['Continent'].unique():\n",
    "    continent_pop.append(world_pop[world_pop['Continent'] == i])"
   ]
  },
  {
   "cell_type": "code",
   "execution_count": 23,
   "id": "ec396f4a",
   "metadata": {},
   "outputs": [
    {
     "data": {
      "text/html": [
       "<div>\n",
       "<style scoped>\n",
       "    .dataframe tbody tr th:only-of-type {\n",
       "        vertical-align: middle;\n",
       "    }\n",
       "\n",
       "    .dataframe tbody tr th {\n",
       "        vertical-align: top;\n",
       "    }\n",
       "\n",
       "    .dataframe thead th {\n",
       "        text-align: right;\n",
       "    }\n",
       "</style>\n",
       "<table border=\"1\" class=\"dataframe\">\n",
       "  <thead>\n",
       "    <tr style=\"text-align: right;\">\n",
       "      <th></th>\n",
       "      <th>Rank</th>\n",
       "      <th>Country/Territory</th>\n",
       "      <th>Continent</th>\n",
       "      <th>2022 Population</th>\n",
       "      <th>2020 Population</th>\n",
       "      <th>2015 Population</th>\n",
       "      <th>2010 Population</th>\n",
       "      <th>2000 Population</th>\n",
       "      <th>1990 Population</th>\n",
       "      <th>1980 Population</th>\n",
       "      <th>1970 Population</th>\n",
       "      <th>Area</th>\n",
       "      <th>Density</th>\n",
       "      <th>Growth Rate</th>\n",
       "      <th>World Population Percentage</th>\n",
       "    </tr>\n",
       "  </thead>\n",
       "  <tbody>\n",
       "    <tr>\n",
       "      <th>0</th>\n",
       "      <td>36</td>\n",
       "      <td>Afghanistan</td>\n",
       "      <td>Asia</td>\n",
       "      <td>41128771</td>\n",
       "      <td>38972230</td>\n",
       "      <td>33753499</td>\n",
       "      <td>28189672</td>\n",
       "      <td>19542982</td>\n",
       "      <td>10694796</td>\n",
       "      <td>12486631</td>\n",
       "      <td>10752971</td>\n",
       "      <td>652230</td>\n",
       "      <td>63.0587</td>\n",
       "      <td>1.0257</td>\n",
       "      <td>0.52</td>\n",
       "    </tr>\n",
       "    <tr>\n",
       "      <th>9</th>\n",
       "      <td>140</td>\n",
       "      <td>Armenia</td>\n",
       "      <td>Asia</td>\n",
       "      <td>2780469</td>\n",
       "      <td>2805608</td>\n",
       "      <td>2878595</td>\n",
       "      <td>2946293</td>\n",
       "      <td>3168523</td>\n",
       "      <td>3556539</td>\n",
       "      <td>3135123</td>\n",
       "      <td>2534377</td>\n",
       "      <td>29743</td>\n",
       "      <td>93.4831</td>\n",
       "      <td>0.9962</td>\n",
       "      <td>0.03</td>\n",
       "    </tr>\n",
       "    <tr>\n",
       "      <th>13</th>\n",
       "      <td>91</td>\n",
       "      <td>Azerbaijan</td>\n",
       "      <td>Asia</td>\n",
       "      <td>10358074</td>\n",
       "      <td>10284951</td>\n",
       "      <td>9863480</td>\n",
       "      <td>9237202</td>\n",
       "      <td>8190337</td>\n",
       "      <td>7427836</td>\n",
       "      <td>6383060</td>\n",
       "      <td>5425317</td>\n",
       "      <td>86600</td>\n",
       "      <td>119.6082</td>\n",
       "      <td>1.0044</td>\n",
       "      <td>0.13</td>\n",
       "    </tr>\n",
       "    <tr>\n",
       "      <th>15</th>\n",
       "      <td>154</td>\n",
       "      <td>Bahrain</td>\n",
       "      <td>Asia</td>\n",
       "      <td>1472233</td>\n",
       "      <td>1477469</td>\n",
       "      <td>1362142</td>\n",
       "      <td>1213645</td>\n",
       "      <td>711442</td>\n",
       "      <td>517418</td>\n",
       "      <td>362595</td>\n",
       "      <td>222555</td>\n",
       "      <td>765</td>\n",
       "      <td>1924.4876</td>\n",
       "      <td>1.0061</td>\n",
       "      <td>0.02</td>\n",
       "    </tr>\n",
       "    <tr>\n",
       "      <th>16</th>\n",
       "      <td>8</td>\n",
       "      <td>Bangladesh</td>\n",
       "      <td>Asia</td>\n",
       "      <td>171186372</td>\n",
       "      <td>167420951</td>\n",
       "      <td>157830000</td>\n",
       "      <td>148391139</td>\n",
       "      <td>129193327</td>\n",
       "      <td>107147651</td>\n",
       "      <td>83929765</td>\n",
       "      <td>67541860</td>\n",
       "      <td>147570</td>\n",
       "      <td>1160.0350</td>\n",
       "      <td>1.0108</td>\n",
       "      <td>2.15</td>\n",
       "    </tr>\n",
       "    <tr>\n",
       "      <th>23</th>\n",
       "      <td>165</td>\n",
       "      <td>Bhutan</td>\n",
       "      <td>Asia</td>\n",
       "      <td>782455</td>\n",
       "      <td>772506</td>\n",
       "      <td>743274</td>\n",
       "      <td>705516</td>\n",
       "      <td>587207</td>\n",
       "      <td>558442</td>\n",
       "      <td>415257</td>\n",
       "      <td>298894</td>\n",
       "      <td>38394</td>\n",
       "      <td>20.3796</td>\n",
       "      <td>1.0064</td>\n",
       "      <td>0.01</td>\n",
       "    </tr>\n",
       "    <tr>\n",
       "      <th>29</th>\n",
       "      <td>175</td>\n",
       "      <td>Brunei</td>\n",
       "      <td>Asia</td>\n",
       "      <td>449002</td>\n",
       "      <td>441725</td>\n",
       "      <td>421437</td>\n",
       "      <td>396053</td>\n",
       "      <td>333926</td>\n",
       "      <td>261928</td>\n",
       "      <td>187921</td>\n",
       "      <td>133343</td>\n",
       "      <td>5765</td>\n",
       "      <td>77.8841</td>\n",
       "      <td>1.0081</td>\n",
       "      <td>0.01</td>\n",
       "    </tr>\n",
       "    <tr>\n",
       "      <th>33</th>\n",
       "      <td>73</td>\n",
       "      <td>Cambodia</td>\n",
       "      <td>Asia</td>\n",
       "      <td>16767842</td>\n",
       "      <td>16396860</td>\n",
       "      <td>15417523</td>\n",
       "      <td>14363532</td>\n",
       "      <td>12118841</td>\n",
       "      <td>8910808</td>\n",
       "      <td>6198959</td>\n",
       "      <td>6708525</td>\n",
       "      <td>181035</td>\n",
       "      <td>92.6221</td>\n",
       "      <td>1.0108</td>\n",
       "      <td>0.21</td>\n",
       "    </tr>\n",
       "    <tr>\n",
       "      <th>41</th>\n",
       "      <td>1</td>\n",
       "      <td>China</td>\n",
       "      <td>Asia</td>\n",
       "      <td>1425887337</td>\n",
       "      <td>1424929781</td>\n",
       "      <td>1393715448</td>\n",
       "      <td>1348191368</td>\n",
       "      <td>1264099069</td>\n",
       "      <td>1153704252</td>\n",
       "      <td>982372466</td>\n",
       "      <td>822534450</td>\n",
       "      <td>9706961</td>\n",
       "      <td>146.8933</td>\n",
       "      <td>1.0000</td>\n",
       "      <td>17.88</td>\n",
       "    </tr>\n",
       "    <tr>\n",
       "      <th>73</th>\n",
       "      <td>131</td>\n",
       "      <td>Georgia</td>\n",
       "      <td>Asia</td>\n",
       "      <td>3744385</td>\n",
       "      <td>3765912</td>\n",
       "      <td>3771132</td>\n",
       "      <td>3836831</td>\n",
       "      <td>4265172</td>\n",
       "      <td>5391636</td>\n",
       "      <td>5145843</td>\n",
       "      <td>4800426</td>\n",
       "      <td>69700</td>\n",
       "      <td>53.7214</td>\n",
       "      <td>0.9964</td>\n",
       "      <td>0.05</td>\n",
       "    </tr>\n",
       "    <tr>\n",
       "      <th>89</th>\n",
       "      <td>104</td>\n",
       "      <td>Hong Kong</td>\n",
       "      <td>Asia</td>\n",
       "      <td>7488865</td>\n",
       "      <td>7500958</td>\n",
       "      <td>7399838</td>\n",
       "      <td>7132438</td>\n",
       "      <td>6731195</td>\n",
       "      <td>5838574</td>\n",
       "      <td>4978544</td>\n",
       "      <td>3955072</td>\n",
       "      <td>1104</td>\n",
       "      <td>6783.3922</td>\n",
       "      <td>0.9992</td>\n",
       "      <td>0.09</td>\n",
       "    </tr>\n",
       "    <tr>\n",
       "      <th>92</th>\n",
       "      <td>2</td>\n",
       "      <td>India</td>\n",
       "      <td>Asia</td>\n",
       "      <td>1417173173</td>\n",
       "      <td>1396387127</td>\n",
       "      <td>1322866505</td>\n",
       "      <td>1240613620</td>\n",
       "      <td>1059633675</td>\n",
       "      <td>870452165</td>\n",
       "      <td>696828385</td>\n",
       "      <td>557501301</td>\n",
       "      <td>3287590</td>\n",
       "      <td>431.0675</td>\n",
       "      <td>1.0068</td>\n",
       "      <td>17.77</td>\n",
       "    </tr>\n",
       "    <tr>\n",
       "      <th>93</th>\n",
       "      <td>4</td>\n",
       "      <td>Indonesia</td>\n",
       "      <td>Asia</td>\n",
       "      <td>275501339</td>\n",
       "      <td>271857970</td>\n",
       "      <td>259091970</td>\n",
       "      <td>244016173</td>\n",
       "      <td>214072421</td>\n",
       "      <td>182159874</td>\n",
       "      <td>148177096</td>\n",
       "      <td>115228394</td>\n",
       "      <td>1904569</td>\n",
       "      <td>144.6529</td>\n",
       "      <td>1.0064</td>\n",
       "      <td>3.45</td>\n",
       "    </tr>\n",
       "    <tr>\n",
       "      <th>94</th>\n",
       "      <td>17</td>\n",
       "      <td>Iran</td>\n",
       "      <td>Asia</td>\n",
       "      <td>88550570</td>\n",
       "      <td>87290193</td>\n",
       "      <td>81790841</td>\n",
       "      <td>75373855</td>\n",
       "      <td>65544383</td>\n",
       "      <td>55793629</td>\n",
       "      <td>38520664</td>\n",
       "      <td>28449705</td>\n",
       "      <td>1648195</td>\n",
       "      <td>53.7258</td>\n",
       "      <td>1.0071</td>\n",
       "      <td>1.11</td>\n",
       "    </tr>\n",
       "    <tr>\n",
       "      <th>95</th>\n",
       "      <td>35</td>\n",
       "      <td>Iraq</td>\n",
       "      <td>Asia</td>\n",
       "      <td>44496122</td>\n",
       "      <td>42556984</td>\n",
       "      <td>37757813</td>\n",
       "      <td>31264875</td>\n",
       "      <td>24628858</td>\n",
       "      <td>17658381</td>\n",
       "      <td>13653369</td>\n",
       "      <td>9811347</td>\n",
       "      <td>438317</td>\n",
       "      <td>101.5158</td>\n",
       "      <td>1.0221</td>\n",
       "      <td>0.56</td>\n",
       "    </tr>\n",
       "    <tr>\n",
       "      <th>98</th>\n",
       "      <td>98</td>\n",
       "      <td>Israel</td>\n",
       "      <td>Asia</td>\n",
       "      <td>9038309</td>\n",
       "      <td>8757489</td>\n",
       "      <td>8007778</td>\n",
       "      <td>7328445</td>\n",
       "      <td>6116958</td>\n",
       "      <td>4803254</td>\n",
       "      <td>3744608</td>\n",
       "      <td>2907307</td>\n",
       "      <td>20770</td>\n",
       "      <td>435.1617</td>\n",
       "      <td>1.0155</td>\n",
       "      <td>0.11</td>\n",
       "    </tr>\n",
       "    <tr>\n",
       "      <th>102</th>\n",
       "      <td>11</td>\n",
       "      <td>Japan</td>\n",
       "      <td>Asia</td>\n",
       "      <td>123951692</td>\n",
       "      <td>125244761</td>\n",
       "      <td>127250933</td>\n",
       "      <td>128105431</td>\n",
       "      <td>126803861</td>\n",
       "      <td>123686321</td>\n",
       "      <td>117624196</td>\n",
       "      <td>105416839</td>\n",
       "      <td>377930</td>\n",
       "      <td>327.9753</td>\n",
       "      <td>0.9947</td>\n",
       "      <td>1.55</td>\n",
       "    </tr>\n",
       "    <tr>\n",
       "      <th>104</th>\n",
       "      <td>83</td>\n",
       "      <td>Jordan</td>\n",
       "      <td>Asia</td>\n",
       "      <td>11285869</td>\n",
       "      <td>10928721</td>\n",
       "      <td>9494246</td>\n",
       "      <td>6931258</td>\n",
       "      <td>5056174</td>\n",
       "      <td>3480587</td>\n",
       "      <td>2216903</td>\n",
       "      <td>1557374</td>\n",
       "      <td>89342</td>\n",
       "      <td>126.3221</td>\n",
       "      <td>1.0123</td>\n",
       "      <td>0.14</td>\n",
       "    </tr>\n",
       "    <tr>\n",
       "      <th>105</th>\n",
       "      <td>66</td>\n",
       "      <td>Kazakhstan</td>\n",
       "      <td>Asia</td>\n",
       "      <td>19397998</td>\n",
       "      <td>18979243</td>\n",
       "      <td>17835909</td>\n",
       "      <td>16627837</td>\n",
       "      <td>15236253</td>\n",
       "      <td>16866563</td>\n",
       "      <td>14172710</td>\n",
       "      <td>12265305</td>\n",
       "      <td>2724900</td>\n",
       "      <td>7.1188</td>\n",
       "      <td>1.0105</td>\n",
       "      <td>0.24</td>\n",
       "    </tr>\n",
       "    <tr>\n",
       "      <th>108</th>\n",
       "      <td>129</td>\n",
       "      <td>Kuwait</td>\n",
       "      <td>Asia</td>\n",
       "      <td>4268873</td>\n",
       "      <td>4360444</td>\n",
       "      <td>3908743</td>\n",
       "      <td>2943356</td>\n",
       "      <td>1934901</td>\n",
       "      <td>1674938</td>\n",
       "      <td>1493870</td>\n",
       "      <td>802786</td>\n",
       "      <td>17818</td>\n",
       "      <td>239.5821</td>\n",
       "      <td>1.0044</td>\n",
       "      <td>0.05</td>\n",
       "    </tr>\n",
       "    <tr>\n",
       "      <th>109</th>\n",
       "      <td>110</td>\n",
       "      <td>Kyrgyzstan</td>\n",
       "      <td>Asia</td>\n",
       "      <td>6630623</td>\n",
       "      <td>6424874</td>\n",
       "      <td>5914980</td>\n",
       "      <td>5483774</td>\n",
       "      <td>4935182</td>\n",
       "      <td>4394734</td>\n",
       "      <td>3691209</td>\n",
       "      <td>3016384</td>\n",
       "      <td>199951</td>\n",
       "      <td>33.1612</td>\n",
       "      <td>1.0158</td>\n",
       "      <td>0.08</td>\n",
       "    </tr>\n",
       "    <tr>\n",
       "      <th>110</th>\n",
       "      <td>103</td>\n",
       "      <td>Laos</td>\n",
       "      <td>Asia</td>\n",
       "      <td>7529475</td>\n",
       "      <td>7319399</td>\n",
       "      <td>6787419</td>\n",
       "      <td>6323418</td>\n",
       "      <td>5430853</td>\n",
       "      <td>4314443</td>\n",
       "      <td>3297519</td>\n",
       "      <td>2675283</td>\n",
       "      <td>236800</td>\n",
       "      <td>31.7968</td>\n",
       "      <td>1.0141</td>\n",
       "      <td>0.09</td>\n",
       "    </tr>\n",
       "    <tr>\n",
       "      <th>112</th>\n",
       "      <td>119</td>\n",
       "      <td>Lebanon</td>\n",
       "      <td>Asia</td>\n",
       "      <td>5489739</td>\n",
       "      <td>5662923</td>\n",
       "      <td>6398940</td>\n",
       "      <td>4995800</td>\n",
       "      <td>4320642</td>\n",
       "      <td>3593700</td>\n",
       "      <td>2963702</td>\n",
       "      <td>2381791</td>\n",
       "      <td>10452</td>\n",
       "      <td>525.2334</td>\n",
       "      <td>0.9816</td>\n",
       "      <td>0.07</td>\n",
       "    </tr>\n",
       "    <tr>\n",
       "      <th>119</th>\n",
       "      <td>167</td>\n",
       "      <td>Macau</td>\n",
       "      <td>Asia</td>\n",
       "      <td>695168</td>\n",
       "      <td>676283</td>\n",
       "      <td>615239</td>\n",
       "      <td>557297</td>\n",
       "      <td>431896</td>\n",
       "      <td>350227</td>\n",
       "      <td>245332</td>\n",
       "      <td>247284</td>\n",
       "      <td>30</td>\n",
       "      <td>23172.2667</td>\n",
       "      <td>1.0125</td>\n",
       "      <td>0.01</td>\n",
       "    </tr>\n",
       "    <tr>\n",
       "      <th>122</th>\n",
       "      <td>45</td>\n",
       "      <td>Malaysia</td>\n",
       "      <td>Asia</td>\n",
       "      <td>33938221</td>\n",
       "      <td>33199993</td>\n",
       "      <td>31068833</td>\n",
       "      <td>28717731</td>\n",
       "      <td>22945150</td>\n",
       "      <td>17517054</td>\n",
       "      <td>13215707</td>\n",
       "      <td>10306508</td>\n",
       "      <td>330803</td>\n",
       "      <td>102.5934</td>\n",
       "      <td>1.0109</td>\n",
       "      <td>0.43</td>\n",
       "    </tr>\n",
       "    <tr>\n",
       "      <th>123</th>\n",
       "      <td>174</td>\n",
       "      <td>Maldives</td>\n",
       "      <td>Asia</td>\n",
       "      <td>523787</td>\n",
       "      <td>514438</td>\n",
       "      <td>435582</td>\n",
       "      <td>361575</td>\n",
       "      <td>282507</td>\n",
       "      <td>224957</td>\n",
       "      <td>164887</td>\n",
       "      <td>123243</td>\n",
       "      <td>300</td>\n",
       "      <td>1745.9567</td>\n",
       "      <td>1.0045</td>\n",
       "      <td>0.01</td>\n",
       "    </tr>\n",
       "    <tr>\n",
       "      <th>135</th>\n",
       "      <td>134</td>\n",
       "      <td>Mongolia</td>\n",
       "      <td>Asia</td>\n",
       "      <td>3398366</td>\n",
       "      <td>3294335</td>\n",
       "      <td>2964749</td>\n",
       "      <td>2702520</td>\n",
       "      <td>2450979</td>\n",
       "      <td>2161433</td>\n",
       "      <td>1697780</td>\n",
       "      <td>1293880</td>\n",
       "      <td>1564110</td>\n",
       "      <td>2.1727</td>\n",
       "      <td>1.0151</td>\n",
       "      <td>0.04</td>\n",
       "    </tr>\n",
       "    <tr>\n",
       "      <th>140</th>\n",
       "      <td>26</td>\n",
       "      <td>Myanmar</td>\n",
       "      <td>Asia</td>\n",
       "      <td>54179306</td>\n",
       "      <td>53423198</td>\n",
       "      <td>51483949</td>\n",
       "      <td>49390988</td>\n",
       "      <td>45538332</td>\n",
       "      <td>40099553</td>\n",
       "      <td>33465781</td>\n",
       "      <td>27284112</td>\n",
       "      <td>676578</td>\n",
       "      <td>80.0784</td>\n",
       "      <td>1.0071</td>\n",
       "      <td>0.68</td>\n",
       "    </tr>\n",
       "    <tr>\n",
       "      <th>143</th>\n",
       "      <td>49</td>\n",
       "      <td>Nepal</td>\n",
       "      <td>Asia</td>\n",
       "      <td>30547580</td>\n",
       "      <td>29348627</td>\n",
       "      <td>27610325</td>\n",
       "      <td>27161567</td>\n",
       "      <td>24559500</td>\n",
       "      <td>19616530</td>\n",
       "      <td>15600442</td>\n",
       "      <td>12501285</td>\n",
       "      <td>147181</td>\n",
       "      <td>207.5511</td>\n",
       "      <td>1.0171</td>\n",
       "      <td>0.38</td>\n",
       "    </tr>\n",
       "    <tr>\n",
       "      <th>151</th>\n",
       "      <td>56</td>\n",
       "      <td>North Korea</td>\n",
       "      <td>Asia</td>\n",
       "      <td>26069416</td>\n",
       "      <td>25867467</td>\n",
       "      <td>25258015</td>\n",
       "      <td>24686435</td>\n",
       "      <td>23367059</td>\n",
       "      <td>20799523</td>\n",
       "      <td>17973650</td>\n",
       "      <td>14996879</td>\n",
       "      <td>120538</td>\n",
       "      <td>216.2755</td>\n",
       "      <td>1.0038</td>\n",
       "      <td>0.33</td>\n",
       "    </tr>\n",
       "    <tr>\n",
       "      <th>155</th>\n",
       "      <td>127</td>\n",
       "      <td>Oman</td>\n",
       "      <td>Asia</td>\n",
       "      <td>4576298</td>\n",
       "      <td>4543399</td>\n",
       "      <td>4191776</td>\n",
       "      <td>2881914</td>\n",
       "      <td>2344253</td>\n",
       "      <td>1804524</td>\n",
       "      <td>1017462</td>\n",
       "      <td>670693</td>\n",
       "      <td>309500</td>\n",
       "      <td>14.7861</td>\n",
       "      <td>1.0123</td>\n",
       "      <td>0.06</td>\n",
       "    </tr>\n",
       "    <tr>\n",
       "      <th>156</th>\n",
       "      <td>5</td>\n",
       "      <td>Pakistan</td>\n",
       "      <td>Asia</td>\n",
       "      <td>235824862</td>\n",
       "      <td>227196741</td>\n",
       "      <td>210969298</td>\n",
       "      <td>194454498</td>\n",
       "      <td>154369924</td>\n",
       "      <td>115414069</td>\n",
       "      <td>80624057</td>\n",
       "      <td>59290872</td>\n",
       "      <td>881912</td>\n",
       "      <td>267.4018</td>\n",
       "      <td>1.0191</td>\n",
       "      <td>2.96</td>\n",
       "    </tr>\n",
       "    <tr>\n",
       "      <th>158</th>\n",
       "      <td>122</td>\n",
       "      <td>Palestine</td>\n",
       "      <td>Asia</td>\n",
       "      <td>5250072</td>\n",
       "      <td>5019401</td>\n",
       "      <td>4484614</td>\n",
       "      <td>3992278</td>\n",
       "      <td>3139954</td>\n",
       "      <td>2124609</td>\n",
       "      <td>1453620</td>\n",
       "      <td>1118241</td>\n",
       "      <td>6220</td>\n",
       "      <td>844.0630</td>\n",
       "      <td>1.0227</td>\n",
       "      <td>0.07</td>\n",
       "    </tr>\n",
       "    <tr>\n",
       "      <th>163</th>\n",
       "      <td>13</td>\n",
       "      <td>Philippines</td>\n",
       "      <td>Asia</td>\n",
       "      <td>115559009</td>\n",
       "      <td>112190977</td>\n",
       "      <td>103031365</td>\n",
       "      <td>94636700</td>\n",
       "      <td>77958223</td>\n",
       "      <td>61558898</td>\n",
       "      <td>48419546</td>\n",
       "      <td>37435586</td>\n",
       "      <td>342353</td>\n",
       "      <td>337.5434</td>\n",
       "      <td>1.0147</td>\n",
       "      <td>1.45</td>\n",
       "    </tr>\n",
       "    <tr>\n",
       "      <th>167</th>\n",
       "      <td>143</td>\n",
       "      <td>Qatar</td>\n",
       "      <td>Asia</td>\n",
       "      <td>2695122</td>\n",
       "      <td>2760385</td>\n",
       "      <td>2414573</td>\n",
       "      <td>1713504</td>\n",
       "      <td>645937</td>\n",
       "      <td>441675</td>\n",
       "      <td>277450</td>\n",
       "      <td>118007</td>\n",
       "      <td>11586</td>\n",
       "      <td>232.6189</td>\n",
       "      <td>1.0026</td>\n",
       "      <td>0.03</td>\n",
       "    </tr>\n",
       "    <tr>\n",
       "      <th>182</th>\n",
       "      <td>41</td>\n",
       "      <td>Saudi Arabia</td>\n",
       "      <td>Asia</td>\n",
       "      <td>36408820</td>\n",
       "      <td>35997107</td>\n",
       "      <td>32749848</td>\n",
       "      <td>29411929</td>\n",
       "      <td>21547390</td>\n",
       "      <td>16004763</td>\n",
       "      <td>10171710</td>\n",
       "      <td>6106191</td>\n",
       "      <td>2149690</td>\n",
       "      <td>16.9368</td>\n",
       "      <td>1.0128</td>\n",
       "      <td>0.46</td>\n",
       "    </tr>\n",
       "    <tr>\n",
       "      <th>187</th>\n",
       "      <td>113</td>\n",
       "      <td>Singapore</td>\n",
       "      <td>Asia</td>\n",
       "      <td>5975689</td>\n",
       "      <td>5909869</td>\n",
       "      <td>5650018</td>\n",
       "      <td>5163590</td>\n",
       "      <td>4053602</td>\n",
       "      <td>3022209</td>\n",
       "      <td>2400729</td>\n",
       "      <td>2061831</td>\n",
       "      <td>710</td>\n",
       "      <td>8416.4634</td>\n",
       "      <td>1.0058</td>\n",
       "      <td>0.07</td>\n",
       "    </tr>\n",
       "    <tr>\n",
       "      <th>194</th>\n",
       "      <td>29</td>\n",
       "      <td>South Korea</td>\n",
       "      <td>Asia</td>\n",
       "      <td>51815810</td>\n",
       "      <td>51844690</td>\n",
       "      <td>50994401</td>\n",
       "      <td>48813042</td>\n",
       "      <td>46788591</td>\n",
       "      <td>44120039</td>\n",
       "      <td>38170501</td>\n",
       "      <td>32601143</td>\n",
       "      <td>100210</td>\n",
       "      <td>517.0722</td>\n",
       "      <td>0.9997</td>\n",
       "      <td>0.65</td>\n",
       "    </tr>\n",
       "    <tr>\n",
       "      <th>197</th>\n",
       "      <td>61</td>\n",
       "      <td>Sri Lanka</td>\n",
       "      <td>Asia</td>\n",
       "      <td>21832143</td>\n",
       "      <td>21715079</td>\n",
       "      <td>21336697</td>\n",
       "      <td>20668557</td>\n",
       "      <td>18776371</td>\n",
       "      <td>17204094</td>\n",
       "      <td>14943645</td>\n",
       "      <td>12388769</td>\n",
       "      <td>65610</td>\n",
       "      <td>332.7563</td>\n",
       "      <td>1.0027</td>\n",
       "      <td>0.27</td>\n",
       "    </tr>\n",
       "    <tr>\n",
       "      <th>202</th>\n",
       "      <td>60</td>\n",
       "      <td>Syria</td>\n",
       "      <td>Asia</td>\n",
       "      <td>22125249</td>\n",
       "      <td>20772595</td>\n",
       "      <td>19205178</td>\n",
       "      <td>22337563</td>\n",
       "      <td>16307654</td>\n",
       "      <td>12408996</td>\n",
       "      <td>8898954</td>\n",
       "      <td>6319199</td>\n",
       "      <td>185180</td>\n",
       "      <td>119.4797</td>\n",
       "      <td>1.0376</td>\n",
       "      <td>0.28</td>\n",
       "    </tr>\n",
       "    <tr>\n",
       "      <th>203</th>\n",
       "      <td>57</td>\n",
       "      <td>Taiwan</td>\n",
       "      <td>Asia</td>\n",
       "      <td>23893394</td>\n",
       "      <td>23821464</td>\n",
       "      <td>23512136</td>\n",
       "      <td>23083083</td>\n",
       "      <td>22194731</td>\n",
       "      <td>20586174</td>\n",
       "      <td>18100281</td>\n",
       "      <td>14957870</td>\n",
       "      <td>36193</td>\n",
       "      <td>660.1662</td>\n",
       "      <td>1.0014</td>\n",
       "      <td>0.30</td>\n",
       "    </tr>\n",
       "    <tr>\n",
       "      <th>204</th>\n",
       "      <td>95</td>\n",
       "      <td>Tajikistan</td>\n",
       "      <td>Asia</td>\n",
       "      <td>9952787</td>\n",
       "      <td>9543207</td>\n",
       "      <td>8524063</td>\n",
       "      <td>7621779</td>\n",
       "      <td>6272998</td>\n",
       "      <td>5417860</td>\n",
       "      <td>4045965</td>\n",
       "      <td>2993019</td>\n",
       "      <td>143100</td>\n",
       "      <td>69.5513</td>\n",
       "      <td>1.0208</td>\n",
       "      <td>0.12</td>\n",
       "    </tr>\n",
       "    <tr>\n",
       "      <th>206</th>\n",
       "      <td>20</td>\n",
       "      <td>Thailand</td>\n",
       "      <td>Asia</td>\n",
       "      <td>71697030</td>\n",
       "      <td>71475664</td>\n",
       "      <td>70294397</td>\n",
       "      <td>68270489</td>\n",
       "      <td>63066603</td>\n",
       "      <td>55228410</td>\n",
       "      <td>45737753</td>\n",
       "      <td>35791728</td>\n",
       "      <td>513120</td>\n",
       "      <td>139.7276</td>\n",
       "      <td>1.0013</td>\n",
       "      <td>0.90</td>\n",
       "    </tr>\n",
       "    <tr>\n",
       "      <th>207</th>\n",
       "      <td>155</td>\n",
       "      <td>Timor-Leste</td>\n",
       "      <td>Asia</td>\n",
       "      <td>1341296</td>\n",
       "      <td>1299995</td>\n",
       "      <td>1205813</td>\n",
       "      <td>1088486</td>\n",
       "      <td>878360</td>\n",
       "      <td>758106</td>\n",
       "      <td>642224</td>\n",
       "      <td>554021</td>\n",
       "      <td>14874</td>\n",
       "      <td>90.1772</td>\n",
       "      <td>1.0154</td>\n",
       "      <td>0.02</td>\n",
       "    </tr>\n",
       "    <tr>\n",
       "      <th>213</th>\n",
       "      <td>18</td>\n",
       "      <td>Turkey</td>\n",
       "      <td>Asia</td>\n",
       "      <td>85341241</td>\n",
       "      <td>84135428</td>\n",
       "      <td>79646178</td>\n",
       "      <td>73195345</td>\n",
       "      <td>64113547</td>\n",
       "      <td>54324142</td>\n",
       "      <td>44089069</td>\n",
       "      <td>35540990</td>\n",
       "      <td>783562</td>\n",
       "      <td>108.9145</td>\n",
       "      <td>1.0067</td>\n",
       "      <td>1.07</td>\n",
       "    </tr>\n",
       "    <tr>\n",
       "      <th>214</th>\n",
       "      <td>111</td>\n",
       "      <td>Turkmenistan</td>\n",
       "      <td>Asia</td>\n",
       "      <td>6430770</td>\n",
       "      <td>6250438</td>\n",
       "      <td>5766431</td>\n",
       "      <td>5267970</td>\n",
       "      <td>4569132</td>\n",
       "      <td>3720278</td>\n",
       "      <td>2862903</td>\n",
       "      <td>2201432</td>\n",
       "      <td>488100</td>\n",
       "      <td>13.1751</td>\n",
       "      <td>1.0140</td>\n",
       "      <td>0.08</td>\n",
       "    </tr>\n",
       "    <tr>\n",
       "      <th>219</th>\n",
       "      <td>97</td>\n",
       "      <td>United Arab Emirates</td>\n",
       "      <td>Asia</td>\n",
       "      <td>9441129</td>\n",
       "      <td>9287289</td>\n",
       "      <td>8916899</td>\n",
       "      <td>8481771</td>\n",
       "      <td>3275333</td>\n",
       "      <td>1900151</td>\n",
       "      <td>1014048</td>\n",
       "      <td>298084</td>\n",
       "      <td>83600</td>\n",
       "      <td>112.9322</td>\n",
       "      <td>1.0081</td>\n",
       "      <td>0.12</td>\n",
       "    </tr>\n",
       "    <tr>\n",
       "      <th>224</th>\n",
       "      <td>43</td>\n",
       "      <td>Uzbekistan</td>\n",
       "      <td>Asia</td>\n",
       "      <td>34627652</td>\n",
       "      <td>33526656</td>\n",
       "      <td>30949417</td>\n",
       "      <td>28614227</td>\n",
       "      <td>24925554</td>\n",
       "      <td>20579100</td>\n",
       "      <td>15947129</td>\n",
       "      <td>12011361</td>\n",
       "      <td>447400</td>\n",
       "      <td>77.3975</td>\n",
       "      <td>1.0160</td>\n",
       "      <td>0.43</td>\n",
       "    </tr>\n",
       "    <tr>\n",
       "      <th>228</th>\n",
       "      <td>16</td>\n",
       "      <td>Vietnam</td>\n",
       "      <td>Asia</td>\n",
       "      <td>98186856</td>\n",
       "      <td>96648685</td>\n",
       "      <td>92191398</td>\n",
       "      <td>87411012</td>\n",
       "      <td>79001142</td>\n",
       "      <td>66912613</td>\n",
       "      <td>52968270</td>\n",
       "      <td>41928849</td>\n",
       "      <td>331212</td>\n",
       "      <td>296.4472</td>\n",
       "      <td>1.0074</td>\n",
       "      <td>1.23</td>\n",
       "    </tr>\n",
       "    <tr>\n",
       "      <th>231</th>\n",
       "      <td>46</td>\n",
       "      <td>Yemen</td>\n",
       "      <td>Asia</td>\n",
       "      <td>33696614</td>\n",
       "      <td>32284046</td>\n",
       "      <td>28516545</td>\n",
       "      <td>24743946</td>\n",
       "      <td>18628700</td>\n",
       "      <td>13375121</td>\n",
       "      <td>9204938</td>\n",
       "      <td>6843607</td>\n",
       "      <td>527968</td>\n",
       "      <td>63.8232</td>\n",
       "      <td>1.0217</td>\n",
       "      <td>0.42</td>\n",
       "    </tr>\n",
       "  </tbody>\n",
       "</table>\n",
       "</div>"
      ],
      "text/plain": [
       "     Rank     Country/Territory Continent  2022 Population  2020 Population  \\\n",
       "0      36           Afghanistan      Asia         41128771         38972230   \n",
       "9     140               Armenia      Asia          2780469          2805608   \n",
       "13     91            Azerbaijan      Asia         10358074         10284951   \n",
       "15    154               Bahrain      Asia          1472233          1477469   \n",
       "16      8            Bangladesh      Asia        171186372        167420951   \n",
       "23    165                Bhutan      Asia           782455           772506   \n",
       "29    175                Brunei      Asia           449002           441725   \n",
       "33     73              Cambodia      Asia         16767842         16396860   \n",
       "41      1                 China      Asia       1425887337       1424929781   \n",
       "73    131               Georgia      Asia          3744385          3765912   \n",
       "89    104             Hong Kong      Asia          7488865          7500958   \n",
       "92      2                 India      Asia       1417173173       1396387127   \n",
       "93      4             Indonesia      Asia        275501339        271857970   \n",
       "94     17                  Iran      Asia         88550570         87290193   \n",
       "95     35                  Iraq      Asia         44496122         42556984   \n",
       "98     98                Israel      Asia          9038309          8757489   \n",
       "102    11                 Japan      Asia        123951692        125244761   \n",
       "104    83                Jordan      Asia         11285869         10928721   \n",
       "105    66            Kazakhstan      Asia         19397998         18979243   \n",
       "108   129                Kuwait      Asia          4268873          4360444   \n",
       "109   110            Kyrgyzstan      Asia          6630623          6424874   \n",
       "110   103                  Laos      Asia          7529475          7319399   \n",
       "112   119               Lebanon      Asia          5489739          5662923   \n",
       "119   167                 Macau      Asia           695168           676283   \n",
       "122    45              Malaysia      Asia         33938221         33199993   \n",
       "123   174              Maldives      Asia           523787           514438   \n",
       "135   134              Mongolia      Asia          3398366          3294335   \n",
       "140    26               Myanmar      Asia         54179306         53423198   \n",
       "143    49                 Nepal      Asia         30547580         29348627   \n",
       "151    56           North Korea      Asia         26069416         25867467   \n",
       "155   127                  Oman      Asia          4576298          4543399   \n",
       "156     5              Pakistan      Asia        235824862        227196741   \n",
       "158   122             Palestine      Asia          5250072          5019401   \n",
       "163    13           Philippines      Asia        115559009        112190977   \n",
       "167   143                 Qatar      Asia          2695122          2760385   \n",
       "182    41          Saudi Arabia      Asia         36408820         35997107   \n",
       "187   113             Singapore      Asia          5975689          5909869   \n",
       "194    29           South Korea      Asia         51815810         51844690   \n",
       "197    61             Sri Lanka      Asia         21832143         21715079   \n",
       "202    60                 Syria      Asia         22125249         20772595   \n",
       "203    57                Taiwan      Asia         23893394         23821464   \n",
       "204    95            Tajikistan      Asia          9952787          9543207   \n",
       "206    20              Thailand      Asia         71697030         71475664   \n",
       "207   155           Timor-Leste      Asia          1341296          1299995   \n",
       "213    18                Turkey      Asia         85341241         84135428   \n",
       "214   111          Turkmenistan      Asia          6430770          6250438   \n",
       "219    97  United Arab Emirates      Asia          9441129          9287289   \n",
       "224    43            Uzbekistan      Asia         34627652         33526656   \n",
       "228    16               Vietnam      Asia         98186856         96648685   \n",
       "231    46                 Yemen      Asia         33696614         32284046   \n",
       "\n",
       "     2015 Population  2010 Population  2000 Population  1990 Population  \\\n",
       "0           33753499         28189672         19542982         10694796   \n",
       "9            2878595          2946293          3168523          3556539   \n",
       "13           9863480          9237202          8190337          7427836   \n",
       "15           1362142          1213645           711442           517418   \n",
       "16         157830000        148391139        129193327        107147651   \n",
       "23            743274           705516           587207           558442   \n",
       "29            421437           396053           333926           261928   \n",
       "33          15417523         14363532         12118841          8910808   \n",
       "41        1393715448       1348191368       1264099069       1153704252   \n",
       "73           3771132          3836831          4265172          5391636   \n",
       "89           7399838          7132438          6731195          5838574   \n",
       "92        1322866505       1240613620       1059633675        870452165   \n",
       "93         259091970        244016173        214072421        182159874   \n",
       "94          81790841         75373855         65544383         55793629   \n",
       "95          37757813         31264875         24628858         17658381   \n",
       "98           8007778          7328445          6116958          4803254   \n",
       "102        127250933        128105431        126803861        123686321   \n",
       "104          9494246          6931258          5056174          3480587   \n",
       "105         17835909         16627837         15236253         16866563   \n",
       "108          3908743          2943356          1934901          1674938   \n",
       "109          5914980          5483774          4935182          4394734   \n",
       "110          6787419          6323418          5430853          4314443   \n",
       "112          6398940          4995800          4320642          3593700   \n",
       "119           615239           557297           431896           350227   \n",
       "122         31068833         28717731         22945150         17517054   \n",
       "123           435582           361575           282507           224957   \n",
       "135          2964749          2702520          2450979          2161433   \n",
       "140         51483949         49390988         45538332         40099553   \n",
       "143         27610325         27161567         24559500         19616530   \n",
       "151         25258015         24686435         23367059         20799523   \n",
       "155          4191776          2881914          2344253          1804524   \n",
       "156        210969298        194454498        154369924        115414069   \n",
       "158          4484614          3992278          3139954          2124609   \n",
       "163        103031365         94636700         77958223         61558898   \n",
       "167          2414573          1713504           645937           441675   \n",
       "182         32749848         29411929         21547390         16004763   \n",
       "187          5650018          5163590          4053602          3022209   \n",
       "194         50994401         48813042         46788591         44120039   \n",
       "197         21336697         20668557         18776371         17204094   \n",
       "202         19205178         22337563         16307654         12408996   \n",
       "203         23512136         23083083         22194731         20586174   \n",
       "204          8524063          7621779          6272998          5417860   \n",
       "206         70294397         68270489         63066603         55228410   \n",
       "207          1205813          1088486           878360           758106   \n",
       "213         79646178         73195345         64113547         54324142   \n",
       "214          5766431          5267970          4569132          3720278   \n",
       "219          8916899          8481771          3275333          1900151   \n",
       "224         30949417         28614227         24925554         20579100   \n",
       "228         92191398         87411012         79001142         66912613   \n",
       "231         28516545         24743946         18628700         13375121   \n",
       "\n",
       "     1980 Population  1970 Population     Area     Density  Growth Rate  \\\n",
       "0           12486631         10752971   652230     63.0587       1.0257   \n",
       "9            3135123          2534377    29743     93.4831       0.9962   \n",
       "13           6383060          5425317    86600    119.6082       1.0044   \n",
       "15            362595           222555      765   1924.4876       1.0061   \n",
       "16          83929765         67541860   147570   1160.0350       1.0108   \n",
       "23            415257           298894    38394     20.3796       1.0064   \n",
       "29            187921           133343     5765     77.8841       1.0081   \n",
       "33           6198959          6708525   181035     92.6221       1.0108   \n",
       "41         982372466        822534450  9706961    146.8933       1.0000   \n",
       "73           5145843          4800426    69700     53.7214       0.9964   \n",
       "89           4978544          3955072     1104   6783.3922       0.9992   \n",
       "92         696828385        557501301  3287590    431.0675       1.0068   \n",
       "93         148177096        115228394  1904569    144.6529       1.0064   \n",
       "94          38520664         28449705  1648195     53.7258       1.0071   \n",
       "95          13653369          9811347   438317    101.5158       1.0221   \n",
       "98           3744608          2907307    20770    435.1617       1.0155   \n",
       "102        117624196        105416839   377930    327.9753       0.9947   \n",
       "104          2216903          1557374    89342    126.3221       1.0123   \n",
       "105         14172710         12265305  2724900      7.1188       1.0105   \n",
       "108          1493870           802786    17818    239.5821       1.0044   \n",
       "109          3691209          3016384   199951     33.1612       1.0158   \n",
       "110          3297519          2675283   236800     31.7968       1.0141   \n",
       "112          2963702          2381791    10452    525.2334       0.9816   \n",
       "119           245332           247284       30  23172.2667       1.0125   \n",
       "122         13215707         10306508   330803    102.5934       1.0109   \n",
       "123           164887           123243      300   1745.9567       1.0045   \n",
       "135          1697780          1293880  1564110      2.1727       1.0151   \n",
       "140         33465781         27284112   676578     80.0784       1.0071   \n",
       "143         15600442         12501285   147181    207.5511       1.0171   \n",
       "151         17973650         14996879   120538    216.2755       1.0038   \n",
       "155          1017462           670693   309500     14.7861       1.0123   \n",
       "156         80624057         59290872   881912    267.4018       1.0191   \n",
       "158          1453620          1118241     6220    844.0630       1.0227   \n",
       "163         48419546         37435586   342353    337.5434       1.0147   \n",
       "167           277450           118007    11586    232.6189       1.0026   \n",
       "182         10171710          6106191  2149690     16.9368       1.0128   \n",
       "187          2400729          2061831      710   8416.4634       1.0058   \n",
       "194         38170501         32601143   100210    517.0722       0.9997   \n",
       "197         14943645         12388769    65610    332.7563       1.0027   \n",
       "202          8898954          6319199   185180    119.4797       1.0376   \n",
       "203         18100281         14957870    36193    660.1662       1.0014   \n",
       "204          4045965          2993019   143100     69.5513       1.0208   \n",
       "206         45737753         35791728   513120    139.7276       1.0013   \n",
       "207           642224           554021    14874     90.1772       1.0154   \n",
       "213         44089069         35540990   783562    108.9145       1.0067   \n",
       "214          2862903          2201432   488100     13.1751       1.0140   \n",
       "219          1014048           298084    83600    112.9322       1.0081   \n",
       "224         15947129         12011361   447400     77.3975       1.0160   \n",
       "228         52968270         41928849   331212    296.4472       1.0074   \n",
       "231          9204938          6843607   527968     63.8232       1.0217   \n",
       "\n",
       "     World Population Percentage  \n",
       "0                           0.52  \n",
       "9                           0.03  \n",
       "13                          0.13  \n",
       "15                          0.02  \n",
       "16                          2.15  \n",
       "23                          0.01  \n",
       "29                          0.01  \n",
       "33                          0.21  \n",
       "41                         17.88  \n",
       "73                          0.05  \n",
       "89                          0.09  \n",
       "92                         17.77  \n",
       "93                          3.45  \n",
       "94                          1.11  \n",
       "95                          0.56  \n",
       "98                          0.11  \n",
       "102                         1.55  \n",
       "104                         0.14  \n",
       "105                         0.24  \n",
       "108                         0.05  \n",
       "109                         0.08  \n",
       "110                         0.09  \n",
       "112                         0.07  \n",
       "119                         0.01  \n",
       "122                         0.43  \n",
       "123                         0.01  \n",
       "135                         0.04  \n",
       "140                         0.68  \n",
       "143                         0.38  \n",
       "151                         0.33  \n",
       "155                         0.06  \n",
       "156                         2.96  \n",
       "158                         0.07  \n",
       "163                         1.45  \n",
       "167                         0.03  \n",
       "182                         0.46  \n",
       "187                         0.07  \n",
       "194                         0.65  \n",
       "197                         0.27  \n",
       "202                         0.28  \n",
       "203                         0.30  \n",
       "204                         0.12  \n",
       "206                         0.90  \n",
       "207                         0.02  \n",
       "213                         1.07  \n",
       "214                         0.08  \n",
       "219                         0.12  \n",
       "224                         0.43  \n",
       "228                         1.23  \n",
       "231                         0.42  "
      ]
     },
     "execution_count": 23,
     "metadata": {},
     "output_type": "execute_result"
    }
   ],
   "source": [
    "asia_con = continent_pop[0]\n",
    "asia_con"
   ]
  },
  {
   "cell_type": "code",
   "execution_count": 24,
   "id": "4cb0f206",
   "metadata": {},
   "outputs": [
    {
     "data": {
      "application/vnd.plotly.v1+json": {
       "config": {
        "linkText": "Export to plot.ly",
        "plotlyServerURL": "https://plot.ly",
        "showLink": true
       },
       "data": [
        {
         "marker": {
          "color": "rgba(255, 153, 51, 0.6)",
          "line": {
           "color": "rgba(255, 153, 51, 1.0)",
           "width": 1
          }
         },
         "name": "2022 Population",
         "orientation": "v",
         "text": "",
         "type": "bar",
         "x": [
          "Afghanistan",
          "Armenia",
          "Azerbaijan",
          "Bahrain",
          "Bangladesh",
          "Bhutan",
          "Brunei",
          "Cambodia",
          "China",
          "Georgia",
          "Hong Kong",
          "India",
          "Indonesia",
          "Iran",
          "Iraq",
          "Israel",
          "Japan",
          "Jordan",
          "Kazakhstan",
          "Kuwait",
          "Kyrgyzstan",
          "Laos",
          "Lebanon",
          "Macau",
          "Malaysia",
          "Maldives",
          "Mongolia",
          "Myanmar",
          "Nepal",
          "North Korea",
          "Oman",
          "Pakistan",
          "Palestine",
          "Philippines",
          "Qatar",
          "Saudi Arabia",
          "Singapore",
          "South Korea",
          "Sri Lanka",
          "Syria",
          "Taiwan",
          "Tajikistan",
          "Thailand",
          "Timor-Leste",
          "Turkey",
          "Turkmenistan",
          "United Arab Emirates",
          "Uzbekistan",
          "Vietnam",
          "Yemen"
         ],
         "y": [
          41128771,
          2780469,
          10358074,
          1472233,
          171186372,
          782455,
          449002,
          16767842,
          1425887337,
          3744385,
          7488865,
          1417173173,
          275501339,
          88550570,
          44496122,
          9038309,
          123951692,
          11285869,
          19397998,
          4268873,
          6630623,
          7529475,
          5489739,
          695168,
          33938221,
          523787,
          3398366,
          54179306,
          30547580,
          26069416,
          4576298,
          235824862,
          5250072,
          115559009,
          2695122,
          36408820,
          5975689,
          51815810,
          21832143,
          22125249,
          23893394,
          9952787,
          71697030,
          1341296,
          85341241,
          6430770,
          9441129,
          34627652,
          98186856,
          33696614
         ]
        }
       ],
       "layout": {
        "legend": {
         "bgcolor": "#F5F6F9",
         "font": {
          "color": "#4D5663"
         }
        },
        "paper_bgcolor": "#F5F6F9",
        "plot_bgcolor": "#F5F6F9",
        "template": {
         "data": {
          "bar": [
           {
            "error_x": {
             "color": "#2a3f5f"
            },
            "error_y": {
             "color": "#2a3f5f"
            },
            "marker": {
             "line": {
              "color": "#E5ECF6",
              "width": 0.5
             },
             "pattern": {
              "fillmode": "overlay",
              "size": 10,
              "solidity": 0.2
             }
            },
            "type": "bar"
           }
          ],
          "barpolar": [
           {
            "marker": {
             "line": {
              "color": "#E5ECF6",
              "width": 0.5
             },
             "pattern": {
              "fillmode": "overlay",
              "size": 10,
              "solidity": 0.2
             }
            },
            "type": "barpolar"
           }
          ],
          "carpet": [
           {
            "aaxis": {
             "endlinecolor": "#2a3f5f",
             "gridcolor": "white",
             "linecolor": "white",
             "minorgridcolor": "white",
             "startlinecolor": "#2a3f5f"
            },
            "baxis": {
             "endlinecolor": "#2a3f5f",
             "gridcolor": "white",
             "linecolor": "white",
             "minorgridcolor": "white",
             "startlinecolor": "#2a3f5f"
            },
            "type": "carpet"
           }
          ],
          "choropleth": [
           {
            "colorbar": {
             "outlinewidth": 0,
             "ticks": ""
            },
            "type": "choropleth"
           }
          ],
          "contour": [
           {
            "colorbar": {
             "outlinewidth": 0,
             "ticks": ""
            },
            "colorscale": [
             [
              0,
              "#0d0887"
             ],
             [
              0.1111111111111111,
              "#46039f"
             ],
             [
              0.2222222222222222,
              "#7201a8"
             ],
             [
              0.3333333333333333,
              "#9c179e"
             ],
             [
              0.4444444444444444,
              "#bd3786"
             ],
             [
              0.5555555555555556,
              "#d8576b"
             ],
             [
              0.6666666666666666,
              "#ed7953"
             ],
             [
              0.7777777777777778,
              "#fb9f3a"
             ],
             [
              0.8888888888888888,
              "#fdca26"
             ],
             [
              1,
              "#f0f921"
             ]
            ],
            "type": "contour"
           }
          ],
          "contourcarpet": [
           {
            "colorbar": {
             "outlinewidth": 0,
             "ticks": ""
            },
            "type": "contourcarpet"
           }
          ],
          "heatmap": [
           {
            "colorbar": {
             "outlinewidth": 0,
             "ticks": ""
            },
            "colorscale": [
             [
              0,
              "#0d0887"
             ],
             [
              0.1111111111111111,
              "#46039f"
             ],
             [
              0.2222222222222222,
              "#7201a8"
             ],
             [
              0.3333333333333333,
              "#9c179e"
             ],
             [
              0.4444444444444444,
              "#bd3786"
             ],
             [
              0.5555555555555556,
              "#d8576b"
             ],
             [
              0.6666666666666666,
              "#ed7953"
             ],
             [
              0.7777777777777778,
              "#fb9f3a"
             ],
             [
              0.8888888888888888,
              "#fdca26"
             ],
             [
              1,
              "#f0f921"
             ]
            ],
            "type": "heatmap"
           }
          ],
          "heatmapgl": [
           {
            "colorbar": {
             "outlinewidth": 0,
             "ticks": ""
            },
            "colorscale": [
             [
              0,
              "#0d0887"
             ],
             [
              0.1111111111111111,
              "#46039f"
             ],
             [
              0.2222222222222222,
              "#7201a8"
             ],
             [
              0.3333333333333333,
              "#9c179e"
             ],
             [
              0.4444444444444444,
              "#bd3786"
             ],
             [
              0.5555555555555556,
              "#d8576b"
             ],
             [
              0.6666666666666666,
              "#ed7953"
             ],
             [
              0.7777777777777778,
              "#fb9f3a"
             ],
             [
              0.8888888888888888,
              "#fdca26"
             ],
             [
              1,
              "#f0f921"
             ]
            ],
            "type": "heatmapgl"
           }
          ],
          "histogram": [
           {
            "marker": {
             "pattern": {
              "fillmode": "overlay",
              "size": 10,
              "solidity": 0.2
             }
            },
            "type": "histogram"
           }
          ],
          "histogram2d": [
           {
            "colorbar": {
             "outlinewidth": 0,
             "ticks": ""
            },
            "colorscale": [
             [
              0,
              "#0d0887"
             ],
             [
              0.1111111111111111,
              "#46039f"
             ],
             [
              0.2222222222222222,
              "#7201a8"
             ],
             [
              0.3333333333333333,
              "#9c179e"
             ],
             [
              0.4444444444444444,
              "#bd3786"
             ],
             [
              0.5555555555555556,
              "#d8576b"
             ],
             [
              0.6666666666666666,
              "#ed7953"
             ],
             [
              0.7777777777777778,
              "#fb9f3a"
             ],
             [
              0.8888888888888888,
              "#fdca26"
             ],
             [
              1,
              "#f0f921"
             ]
            ],
            "type": "histogram2d"
           }
          ],
          "histogram2dcontour": [
           {
            "colorbar": {
             "outlinewidth": 0,
             "ticks": ""
            },
            "colorscale": [
             [
              0,
              "#0d0887"
             ],
             [
              0.1111111111111111,
              "#46039f"
             ],
             [
              0.2222222222222222,
              "#7201a8"
             ],
             [
              0.3333333333333333,
              "#9c179e"
             ],
             [
              0.4444444444444444,
              "#bd3786"
             ],
             [
              0.5555555555555556,
              "#d8576b"
             ],
             [
              0.6666666666666666,
              "#ed7953"
             ],
             [
              0.7777777777777778,
              "#fb9f3a"
             ],
             [
              0.8888888888888888,
              "#fdca26"
             ],
             [
              1,
              "#f0f921"
             ]
            ],
            "type": "histogram2dcontour"
           }
          ],
          "mesh3d": [
           {
            "colorbar": {
             "outlinewidth": 0,
             "ticks": ""
            },
            "type": "mesh3d"
           }
          ],
          "parcoords": [
           {
            "line": {
             "colorbar": {
              "outlinewidth": 0,
              "ticks": ""
             }
            },
            "type": "parcoords"
           }
          ],
          "pie": [
           {
            "automargin": true,
            "type": "pie"
           }
          ],
          "scatter": [
           {
            "fillpattern": {
             "fillmode": "overlay",
             "size": 10,
             "solidity": 0.2
            },
            "type": "scatter"
           }
          ],
          "scatter3d": [
           {
            "line": {
             "colorbar": {
              "outlinewidth": 0,
              "ticks": ""
             }
            },
            "marker": {
             "colorbar": {
              "outlinewidth": 0,
              "ticks": ""
             }
            },
            "type": "scatter3d"
           }
          ],
          "scattercarpet": [
           {
            "marker": {
             "colorbar": {
              "outlinewidth": 0,
              "ticks": ""
             }
            },
            "type": "scattercarpet"
           }
          ],
          "scattergeo": [
           {
            "marker": {
             "colorbar": {
              "outlinewidth": 0,
              "ticks": ""
             }
            },
            "type": "scattergeo"
           }
          ],
          "scattergl": [
           {
            "marker": {
             "colorbar": {
              "outlinewidth": 0,
              "ticks": ""
             }
            },
            "type": "scattergl"
           }
          ],
          "scattermapbox": [
           {
            "marker": {
             "colorbar": {
              "outlinewidth": 0,
              "ticks": ""
             }
            },
            "type": "scattermapbox"
           }
          ],
          "scatterpolar": [
           {
            "marker": {
             "colorbar": {
              "outlinewidth": 0,
              "ticks": ""
             }
            },
            "type": "scatterpolar"
           }
          ],
          "scatterpolargl": [
           {
            "marker": {
             "colorbar": {
              "outlinewidth": 0,
              "ticks": ""
             }
            },
            "type": "scatterpolargl"
           }
          ],
          "scatterternary": [
           {
            "marker": {
             "colorbar": {
              "outlinewidth": 0,
              "ticks": ""
             }
            },
            "type": "scatterternary"
           }
          ],
          "surface": [
           {
            "colorbar": {
             "outlinewidth": 0,
             "ticks": ""
            },
            "colorscale": [
             [
              0,
              "#0d0887"
             ],
             [
              0.1111111111111111,
              "#46039f"
             ],
             [
              0.2222222222222222,
              "#7201a8"
             ],
             [
              0.3333333333333333,
              "#9c179e"
             ],
             [
              0.4444444444444444,
              "#bd3786"
             ],
             [
              0.5555555555555556,
              "#d8576b"
             ],
             [
              0.6666666666666666,
              "#ed7953"
             ],
             [
              0.7777777777777778,
              "#fb9f3a"
             ],
             [
              0.8888888888888888,
              "#fdca26"
             ],
             [
              1,
              "#f0f921"
             ]
            ],
            "type": "surface"
           }
          ],
          "table": [
           {
            "cells": {
             "fill": {
              "color": "#EBF0F8"
             },
             "line": {
              "color": "white"
             }
            },
            "header": {
             "fill": {
              "color": "#C8D4E3"
             },
             "line": {
              "color": "white"
             }
            },
            "type": "table"
           }
          ]
         },
         "layout": {
          "annotationdefaults": {
           "arrowcolor": "#2a3f5f",
           "arrowhead": 0,
           "arrowwidth": 1
          },
          "autotypenumbers": "strict",
          "coloraxis": {
           "colorbar": {
            "outlinewidth": 0,
            "ticks": ""
           }
          },
          "colorscale": {
           "diverging": [
            [
             0,
             "#8e0152"
            ],
            [
             0.1,
             "#c51b7d"
            ],
            [
             0.2,
             "#de77ae"
            ],
            [
             0.3,
             "#f1b6da"
            ],
            [
             0.4,
             "#fde0ef"
            ],
            [
             0.5,
             "#f7f7f7"
            ],
            [
             0.6,
             "#e6f5d0"
            ],
            [
             0.7,
             "#b8e186"
            ],
            [
             0.8,
             "#7fbc41"
            ],
            [
             0.9,
             "#4d9221"
            ],
            [
             1,
             "#276419"
            ]
           ],
           "sequential": [
            [
             0,
             "#0d0887"
            ],
            [
             0.1111111111111111,
             "#46039f"
            ],
            [
             0.2222222222222222,
             "#7201a8"
            ],
            [
             0.3333333333333333,
             "#9c179e"
            ],
            [
             0.4444444444444444,
             "#bd3786"
            ],
            [
             0.5555555555555556,
             "#d8576b"
            ],
            [
             0.6666666666666666,
             "#ed7953"
            ],
            [
             0.7777777777777778,
             "#fb9f3a"
            ],
            [
             0.8888888888888888,
             "#fdca26"
            ],
            [
             1,
             "#f0f921"
            ]
           ],
           "sequentialminus": [
            [
             0,
             "#0d0887"
            ],
            [
             0.1111111111111111,
             "#46039f"
            ],
            [
             0.2222222222222222,
             "#7201a8"
            ],
            [
             0.3333333333333333,
             "#9c179e"
            ],
            [
             0.4444444444444444,
             "#bd3786"
            ],
            [
             0.5555555555555556,
             "#d8576b"
            ],
            [
             0.6666666666666666,
             "#ed7953"
            ],
            [
             0.7777777777777778,
             "#fb9f3a"
            ],
            [
             0.8888888888888888,
             "#fdca26"
            ],
            [
             1,
             "#f0f921"
            ]
           ]
          },
          "colorway": [
           "#636efa",
           "#EF553B",
           "#00cc96",
           "#ab63fa",
           "#FFA15A",
           "#19d3f3",
           "#FF6692",
           "#B6E880",
           "#FF97FF",
           "#FECB52"
          ],
          "font": {
           "color": "#2a3f5f"
          },
          "geo": {
           "bgcolor": "white",
           "lakecolor": "white",
           "landcolor": "#E5ECF6",
           "showlakes": true,
           "showland": true,
           "subunitcolor": "white"
          },
          "hoverlabel": {
           "align": "left"
          },
          "hovermode": "closest",
          "mapbox": {
           "style": "light"
          },
          "paper_bgcolor": "white",
          "plot_bgcolor": "#E5ECF6",
          "polar": {
           "angularaxis": {
            "gridcolor": "white",
            "linecolor": "white",
            "ticks": ""
           },
           "bgcolor": "#E5ECF6",
           "radialaxis": {
            "gridcolor": "white",
            "linecolor": "white",
            "ticks": ""
           }
          },
          "scene": {
           "xaxis": {
            "backgroundcolor": "#E5ECF6",
            "gridcolor": "white",
            "gridwidth": 2,
            "linecolor": "white",
            "showbackground": true,
            "ticks": "",
            "zerolinecolor": "white"
           },
           "yaxis": {
            "backgroundcolor": "#E5ECF6",
            "gridcolor": "white",
            "gridwidth": 2,
            "linecolor": "white",
            "showbackground": true,
            "ticks": "",
            "zerolinecolor": "white"
           },
           "zaxis": {
            "backgroundcolor": "#E5ECF6",
            "gridcolor": "white",
            "gridwidth": 2,
            "linecolor": "white",
            "showbackground": true,
            "ticks": "",
            "zerolinecolor": "white"
           }
          },
          "shapedefaults": {
           "line": {
            "color": "#2a3f5f"
           }
          },
          "ternary": {
           "aaxis": {
            "gridcolor": "white",
            "linecolor": "white",
            "ticks": ""
           },
           "baxis": {
            "gridcolor": "white",
            "linecolor": "white",
            "ticks": ""
           },
           "bgcolor": "#E5ECF6",
           "caxis": {
            "gridcolor": "white",
            "linecolor": "white",
            "ticks": ""
           }
          },
          "title": {
           "x": 0.05
          },
          "xaxis": {
           "automargin": true,
           "gridcolor": "white",
           "linecolor": "white",
           "ticks": "",
           "title": {
            "standoff": 15
           },
           "zerolinecolor": "white",
           "zerolinewidth": 2
          },
          "yaxis": {
           "automargin": true,
           "gridcolor": "white",
           "linecolor": "white",
           "ticks": "",
           "title": {
            "standoff": 15
           },
           "zerolinecolor": "white",
           "zerolinewidth": 2
          }
         }
        },
        "title": {
         "font": {
          "color": "#4D5663"
         }
        },
        "xaxis": {
         "gridcolor": "#E1E5ED",
         "showgrid": true,
         "tickfont": {
          "color": "#4D5663"
         },
         "title": {
          "font": {
           "color": "#4D5663"
          },
          "text": ""
         },
         "zerolinecolor": "#E1E5ED"
        },
        "yaxis": {
         "gridcolor": "#E1E5ED",
         "showgrid": true,
         "tickfont": {
          "color": "#4D5663"
         },
         "title": {
          "font": {
           "color": "#4D5663"
          },
          "text": ""
         },
         "zerolinecolor": "#E1E5ED"
        }
       }
      },
      "text/html": [
       "<div>                            <div id=\"0fca7046-b483-4b8d-9063-9b2a60140a4b\" class=\"plotly-graph-div\" style=\"height:525px; width:100%;\"></div>            <script type=\"text/javascript\">                require([\"plotly\"], function(Plotly) {                    window.PLOTLYENV=window.PLOTLYENV || {};\n",
       "                    window.PLOTLYENV.BASE_URL='https://plot.ly';                                    if (document.getElementById(\"0fca7046-b483-4b8d-9063-9b2a60140a4b\")) {                    Plotly.newPlot(                        \"0fca7046-b483-4b8d-9063-9b2a60140a4b\",                        [{\"marker\":{\"color\":\"rgba(255, 153, 51, 0.6)\",\"line\":{\"color\":\"rgba(255, 153, 51, 1.0)\",\"width\":1}},\"name\":\"2022 Population\",\"orientation\":\"v\",\"text\":\"\",\"x\":[\"Afghanistan\",\"Armenia\",\"Azerbaijan\",\"Bahrain\",\"Bangladesh\",\"Bhutan\",\"Brunei\",\"Cambodia\",\"China\",\"Georgia\",\"Hong Kong\",\"India\",\"Indonesia\",\"Iran\",\"Iraq\",\"Israel\",\"Japan\",\"Jordan\",\"Kazakhstan\",\"Kuwait\",\"Kyrgyzstan\",\"Laos\",\"Lebanon\",\"Macau\",\"Malaysia\",\"Maldives\",\"Mongolia\",\"Myanmar\",\"Nepal\",\"North Korea\",\"Oman\",\"Pakistan\",\"Palestine\",\"Philippines\",\"Qatar\",\"Saudi Arabia\",\"Singapore\",\"South Korea\",\"Sri Lanka\",\"Syria\",\"Taiwan\",\"Tajikistan\",\"Thailand\",\"Timor-Leste\",\"Turkey\",\"Turkmenistan\",\"United Arab Emirates\",\"Uzbekistan\",\"Vietnam\",\"Yemen\"],\"y\":[41128771,2780469,10358074,1472233,171186372,782455,449002,16767842,1425887337,3744385,7488865,1417173173,275501339,88550570,44496122,9038309,123951692,11285869,19397998,4268873,6630623,7529475,5489739,695168,33938221,523787,3398366,54179306,30547580,26069416,4576298,235824862,5250072,115559009,2695122,36408820,5975689,51815810,21832143,22125249,23893394,9952787,71697030,1341296,85341241,6430770,9441129,34627652,98186856,33696614],\"type\":\"bar\"}],                        {\"legend\":{\"bgcolor\":\"#F5F6F9\",\"font\":{\"color\":\"#4D5663\"}},\"paper_bgcolor\":\"#F5F6F9\",\"plot_bgcolor\":\"#F5F6F9\",\"template\":{\"data\":{\"barpolar\":[{\"marker\":{\"line\":{\"color\":\"#E5ECF6\",\"width\":0.5},\"pattern\":{\"fillmode\":\"overlay\",\"size\":10,\"solidity\":0.2}},\"type\":\"barpolar\"}],\"bar\":[{\"error_x\":{\"color\":\"#2a3f5f\"},\"error_y\":{\"color\":\"#2a3f5f\"},\"marker\":{\"line\":{\"color\":\"#E5ECF6\",\"width\":0.5},\"pattern\":{\"fillmode\":\"overlay\",\"size\":10,\"solidity\":0.2}},\"type\":\"bar\"}],\"carpet\":[{\"aaxis\":{\"endlinecolor\":\"#2a3f5f\",\"gridcolor\":\"white\",\"linecolor\":\"white\",\"minorgridcolor\":\"white\",\"startlinecolor\":\"#2a3f5f\"},\"baxis\":{\"endlinecolor\":\"#2a3f5f\",\"gridcolor\":\"white\",\"linecolor\":\"white\",\"minorgridcolor\":\"white\",\"startlinecolor\":\"#2a3f5f\"},\"type\":\"carpet\"}],\"choropleth\":[{\"colorbar\":{\"outlinewidth\":0,\"ticks\":\"\"},\"type\":\"choropleth\"}],\"contourcarpet\":[{\"colorbar\":{\"outlinewidth\":0,\"ticks\":\"\"},\"type\":\"contourcarpet\"}],\"contour\":[{\"colorbar\":{\"outlinewidth\":0,\"ticks\":\"\"},\"colorscale\":[[0.0,\"#0d0887\"],[0.1111111111111111,\"#46039f\"],[0.2222222222222222,\"#7201a8\"],[0.3333333333333333,\"#9c179e\"],[0.4444444444444444,\"#bd3786\"],[0.5555555555555556,\"#d8576b\"],[0.6666666666666666,\"#ed7953\"],[0.7777777777777778,\"#fb9f3a\"],[0.8888888888888888,\"#fdca26\"],[1.0,\"#f0f921\"]],\"type\":\"contour\"}],\"heatmapgl\":[{\"colorbar\":{\"outlinewidth\":0,\"ticks\":\"\"},\"colorscale\":[[0.0,\"#0d0887\"],[0.1111111111111111,\"#46039f\"],[0.2222222222222222,\"#7201a8\"],[0.3333333333333333,\"#9c179e\"],[0.4444444444444444,\"#bd3786\"],[0.5555555555555556,\"#d8576b\"],[0.6666666666666666,\"#ed7953\"],[0.7777777777777778,\"#fb9f3a\"],[0.8888888888888888,\"#fdca26\"],[1.0,\"#f0f921\"]],\"type\":\"heatmapgl\"}],\"heatmap\":[{\"colorbar\":{\"outlinewidth\":0,\"ticks\":\"\"},\"colorscale\":[[0.0,\"#0d0887\"],[0.1111111111111111,\"#46039f\"],[0.2222222222222222,\"#7201a8\"],[0.3333333333333333,\"#9c179e\"],[0.4444444444444444,\"#bd3786\"],[0.5555555555555556,\"#d8576b\"],[0.6666666666666666,\"#ed7953\"],[0.7777777777777778,\"#fb9f3a\"],[0.8888888888888888,\"#fdca26\"],[1.0,\"#f0f921\"]],\"type\":\"heatmap\"}],\"histogram2dcontour\":[{\"colorbar\":{\"outlinewidth\":0,\"ticks\":\"\"},\"colorscale\":[[0.0,\"#0d0887\"],[0.1111111111111111,\"#46039f\"],[0.2222222222222222,\"#7201a8\"],[0.3333333333333333,\"#9c179e\"],[0.4444444444444444,\"#bd3786\"],[0.5555555555555556,\"#d8576b\"],[0.6666666666666666,\"#ed7953\"],[0.7777777777777778,\"#fb9f3a\"],[0.8888888888888888,\"#fdca26\"],[1.0,\"#f0f921\"]],\"type\":\"histogram2dcontour\"}],\"histogram2d\":[{\"colorbar\":{\"outlinewidth\":0,\"ticks\":\"\"},\"colorscale\":[[0.0,\"#0d0887\"],[0.1111111111111111,\"#46039f\"],[0.2222222222222222,\"#7201a8\"],[0.3333333333333333,\"#9c179e\"],[0.4444444444444444,\"#bd3786\"],[0.5555555555555556,\"#d8576b\"],[0.6666666666666666,\"#ed7953\"],[0.7777777777777778,\"#fb9f3a\"],[0.8888888888888888,\"#fdca26\"],[1.0,\"#f0f921\"]],\"type\":\"histogram2d\"}],\"histogram\":[{\"marker\":{\"pattern\":{\"fillmode\":\"overlay\",\"size\":10,\"solidity\":0.2}},\"type\":\"histogram\"}],\"mesh3d\":[{\"colorbar\":{\"outlinewidth\":0,\"ticks\":\"\"},\"type\":\"mesh3d\"}],\"parcoords\":[{\"line\":{\"colorbar\":{\"outlinewidth\":0,\"ticks\":\"\"}},\"type\":\"parcoords\"}],\"pie\":[{\"automargin\":true,\"type\":\"pie\"}],\"scatter3d\":[{\"line\":{\"colorbar\":{\"outlinewidth\":0,\"ticks\":\"\"}},\"marker\":{\"colorbar\":{\"outlinewidth\":0,\"ticks\":\"\"}},\"type\":\"scatter3d\"}],\"scattercarpet\":[{\"marker\":{\"colorbar\":{\"outlinewidth\":0,\"ticks\":\"\"}},\"type\":\"scattercarpet\"}],\"scattergeo\":[{\"marker\":{\"colorbar\":{\"outlinewidth\":0,\"ticks\":\"\"}},\"type\":\"scattergeo\"}],\"scattergl\":[{\"marker\":{\"colorbar\":{\"outlinewidth\":0,\"ticks\":\"\"}},\"type\":\"scattergl\"}],\"scattermapbox\":[{\"marker\":{\"colorbar\":{\"outlinewidth\":0,\"ticks\":\"\"}},\"type\":\"scattermapbox\"}],\"scatterpolargl\":[{\"marker\":{\"colorbar\":{\"outlinewidth\":0,\"ticks\":\"\"}},\"type\":\"scatterpolargl\"}],\"scatterpolar\":[{\"marker\":{\"colorbar\":{\"outlinewidth\":0,\"ticks\":\"\"}},\"type\":\"scatterpolar\"}],\"scatter\":[{\"fillpattern\":{\"fillmode\":\"overlay\",\"size\":10,\"solidity\":0.2},\"type\":\"scatter\"}],\"scatterternary\":[{\"marker\":{\"colorbar\":{\"outlinewidth\":0,\"ticks\":\"\"}},\"type\":\"scatterternary\"}],\"surface\":[{\"colorbar\":{\"outlinewidth\":0,\"ticks\":\"\"},\"colorscale\":[[0.0,\"#0d0887\"],[0.1111111111111111,\"#46039f\"],[0.2222222222222222,\"#7201a8\"],[0.3333333333333333,\"#9c179e\"],[0.4444444444444444,\"#bd3786\"],[0.5555555555555556,\"#d8576b\"],[0.6666666666666666,\"#ed7953\"],[0.7777777777777778,\"#fb9f3a\"],[0.8888888888888888,\"#fdca26\"],[1.0,\"#f0f921\"]],\"type\":\"surface\"}],\"table\":[{\"cells\":{\"fill\":{\"color\":\"#EBF0F8\"},\"line\":{\"color\":\"white\"}},\"header\":{\"fill\":{\"color\":\"#C8D4E3\"},\"line\":{\"color\":\"white\"}},\"type\":\"table\"}]},\"layout\":{\"annotationdefaults\":{\"arrowcolor\":\"#2a3f5f\",\"arrowhead\":0,\"arrowwidth\":1},\"autotypenumbers\":\"strict\",\"coloraxis\":{\"colorbar\":{\"outlinewidth\":0,\"ticks\":\"\"}},\"colorscale\":{\"diverging\":[[0,\"#8e0152\"],[0.1,\"#c51b7d\"],[0.2,\"#de77ae\"],[0.3,\"#f1b6da\"],[0.4,\"#fde0ef\"],[0.5,\"#f7f7f7\"],[0.6,\"#e6f5d0\"],[0.7,\"#b8e186\"],[0.8,\"#7fbc41\"],[0.9,\"#4d9221\"],[1,\"#276419\"]],\"sequential\":[[0.0,\"#0d0887\"],[0.1111111111111111,\"#46039f\"],[0.2222222222222222,\"#7201a8\"],[0.3333333333333333,\"#9c179e\"],[0.4444444444444444,\"#bd3786\"],[0.5555555555555556,\"#d8576b\"],[0.6666666666666666,\"#ed7953\"],[0.7777777777777778,\"#fb9f3a\"],[0.8888888888888888,\"#fdca26\"],[1.0,\"#f0f921\"]],\"sequentialminus\":[[0.0,\"#0d0887\"],[0.1111111111111111,\"#46039f\"],[0.2222222222222222,\"#7201a8\"],[0.3333333333333333,\"#9c179e\"],[0.4444444444444444,\"#bd3786\"],[0.5555555555555556,\"#d8576b\"],[0.6666666666666666,\"#ed7953\"],[0.7777777777777778,\"#fb9f3a\"],[0.8888888888888888,\"#fdca26\"],[1.0,\"#f0f921\"]]},\"colorway\":[\"#636efa\",\"#EF553B\",\"#00cc96\",\"#ab63fa\",\"#FFA15A\",\"#19d3f3\",\"#FF6692\",\"#B6E880\",\"#FF97FF\",\"#FECB52\"],\"font\":{\"color\":\"#2a3f5f\"},\"geo\":{\"bgcolor\":\"white\",\"lakecolor\":\"white\",\"landcolor\":\"#E5ECF6\",\"showlakes\":true,\"showland\":true,\"subunitcolor\":\"white\"},\"hoverlabel\":{\"align\":\"left\"},\"hovermode\":\"closest\",\"mapbox\":{\"style\":\"light\"},\"paper_bgcolor\":\"white\",\"plot_bgcolor\":\"#E5ECF6\",\"polar\":{\"angularaxis\":{\"gridcolor\":\"white\",\"linecolor\":\"white\",\"ticks\":\"\"},\"bgcolor\":\"#E5ECF6\",\"radialaxis\":{\"gridcolor\":\"white\",\"linecolor\":\"white\",\"ticks\":\"\"}},\"scene\":{\"xaxis\":{\"backgroundcolor\":\"#E5ECF6\",\"gridcolor\":\"white\",\"gridwidth\":2,\"linecolor\":\"white\",\"showbackground\":true,\"ticks\":\"\",\"zerolinecolor\":\"white\"},\"yaxis\":{\"backgroundcolor\":\"#E5ECF6\",\"gridcolor\":\"white\",\"gridwidth\":2,\"linecolor\":\"white\",\"showbackground\":true,\"ticks\":\"\",\"zerolinecolor\":\"white\"},\"zaxis\":{\"backgroundcolor\":\"#E5ECF6\",\"gridcolor\":\"white\",\"gridwidth\":2,\"linecolor\":\"white\",\"showbackground\":true,\"ticks\":\"\",\"zerolinecolor\":\"white\"}},\"shapedefaults\":{\"line\":{\"color\":\"#2a3f5f\"}},\"ternary\":{\"aaxis\":{\"gridcolor\":\"white\",\"linecolor\":\"white\",\"ticks\":\"\"},\"baxis\":{\"gridcolor\":\"white\",\"linecolor\":\"white\",\"ticks\":\"\"},\"bgcolor\":\"#E5ECF6\",\"caxis\":{\"gridcolor\":\"white\",\"linecolor\":\"white\",\"ticks\":\"\"}},\"title\":{\"x\":0.05},\"xaxis\":{\"automargin\":true,\"gridcolor\":\"white\",\"linecolor\":\"white\",\"ticks\":\"\",\"title\":{\"standoff\":15},\"zerolinecolor\":\"white\",\"zerolinewidth\":2},\"yaxis\":{\"automargin\":true,\"gridcolor\":\"white\",\"linecolor\":\"white\",\"ticks\":\"\",\"title\":{\"standoff\":15},\"zerolinecolor\":\"white\",\"zerolinewidth\":2}}},\"title\":{\"font\":{\"color\":\"#4D5663\"}},\"xaxis\":{\"gridcolor\":\"#E1E5ED\",\"showgrid\":true,\"tickfont\":{\"color\":\"#4D5663\"},\"title\":{\"font\":{\"color\":\"#4D5663\"},\"text\":\"\"},\"zerolinecolor\":\"#E1E5ED\"},\"yaxis\":{\"gridcolor\":\"#E1E5ED\",\"showgrid\":true,\"tickfont\":{\"color\":\"#4D5663\"},\"title\":{\"font\":{\"color\":\"#4D5663\"},\"text\":\"\"},\"zerolinecolor\":\"#E1E5ED\"}},                        {\"showLink\": true, \"linkText\": \"Export to plot.ly\", \"plotlyServerURL\": \"https://plot.ly\", \"responsive\": true}                    ).then(function(){\n",
       "                            \n",
       "var gd = document.getElementById('0fca7046-b483-4b8d-9063-9b2a60140a4b');\n",
       "var x = new MutationObserver(function (mutations, observer) {{\n",
       "        var display = window.getComputedStyle(gd).display;\n",
       "        if (!display || display === 'none') {{\n",
       "            console.log([gd, 'removed!']);\n",
       "            Plotly.purge(gd);\n",
       "            observer.disconnect();\n",
       "        }}\n",
       "}});\n",
       "\n",
       "// Listen for the removal of the full notebook cells\n",
       "var notebookContainer = gd.closest('#notebook-container');\n",
       "if (notebookContainer) {{\n",
       "    x.observe(notebookContainer, {childList: true});\n",
       "}}\n",
       "\n",
       "// Listen for the clearing of the current output cell\n",
       "var outputEl = gd.closest('.output');\n",
       "if (outputEl) {{\n",
       "    x.observe(outputEl, {childList: true});\n",
       "}}\n",
       "\n",
       "                        })                };                });            </script>        </div>"
      ]
     },
     "metadata": {},
     "output_type": "display_data"
    }
   ],
   "source": [
    "asia_con.iplot(x = \"Country/Territory\",y = \"2022 Population\",kind = \"bar\")"
   ]
  },
  {
   "cell_type": "code",
   "execution_count": 25,
   "id": "b3de38ec",
   "metadata": {},
   "outputs": [],
   "source": [
    "europe_con = continent_pop[1]"
   ]
  },
  {
   "cell_type": "code",
   "execution_count": 26,
   "id": "3a3e0418",
   "metadata": {},
   "outputs": [
    {
     "data": {
      "text/html": [
       "<div>\n",
       "<style scoped>\n",
       "    .dataframe tbody tr th:only-of-type {\n",
       "        vertical-align: middle;\n",
       "    }\n",
       "\n",
       "    .dataframe tbody tr th {\n",
       "        vertical-align: top;\n",
       "    }\n",
       "\n",
       "    .dataframe thead th {\n",
       "        text-align: right;\n",
       "    }\n",
       "</style>\n",
       "<table border=\"1\" class=\"dataframe\">\n",
       "  <thead>\n",
       "    <tr style=\"text-align: right;\">\n",
       "      <th></th>\n",
       "      <th>Rank</th>\n",
       "      <th>Country/Territory</th>\n",
       "      <th>Continent</th>\n",
       "      <th>2022 Population</th>\n",
       "      <th>2020 Population</th>\n",
       "      <th>2015 Population</th>\n",
       "      <th>2010 Population</th>\n",
       "      <th>2000 Population</th>\n",
       "      <th>1990 Population</th>\n",
       "      <th>1980 Population</th>\n",
       "      <th>1970 Population</th>\n",
       "      <th>Area</th>\n",
       "      <th>Density</th>\n",
       "      <th>Growth Rate</th>\n",
       "      <th>World Population Percentage</th>\n",
       "    </tr>\n",
       "  </thead>\n",
       "  <tbody>\n",
       "    <tr>\n",
       "      <th>1</th>\n",
       "      <td>138</td>\n",
       "      <td>Albania</td>\n",
       "      <td>Europe</td>\n",
       "      <td>2842321</td>\n",
       "      <td>2866849</td>\n",
       "      <td>2882481</td>\n",
       "      <td>2913399</td>\n",
       "      <td>3182021</td>\n",
       "      <td>3295066</td>\n",
       "      <td>2941651</td>\n",
       "      <td>2324731</td>\n",
       "      <td>28748</td>\n",
       "      <td>98.8702</td>\n",
       "      <td>0.9957</td>\n",
       "      <td>0.04</td>\n",
       "    </tr>\n",
       "    <tr>\n",
       "      <th>4</th>\n",
       "      <td>203</td>\n",
       "      <td>Andorra</td>\n",
       "      <td>Europe</td>\n",
       "      <td>79824</td>\n",
       "      <td>77700</td>\n",
       "      <td>71746</td>\n",
       "      <td>71519</td>\n",
       "      <td>66097</td>\n",
       "      <td>53569</td>\n",
       "      <td>35611</td>\n",
       "      <td>19860</td>\n",
       "      <td>468</td>\n",
       "      <td>170.5641</td>\n",
       "      <td>1.0100</td>\n",
       "      <td>0.00</td>\n",
       "    </tr>\n",
       "    <tr>\n",
       "      <th>12</th>\n",
       "      <td>99</td>\n",
       "      <td>Austria</td>\n",
       "      <td>Europe</td>\n",
       "      <td>8939617</td>\n",
       "      <td>8907777</td>\n",
       "      <td>8642421</td>\n",
       "      <td>8362829</td>\n",
       "      <td>8010428</td>\n",
       "      <td>7678729</td>\n",
       "      <td>7547561</td>\n",
       "      <td>7465301</td>\n",
       "      <td>83871</td>\n",
       "      <td>106.5877</td>\n",
       "      <td>1.0020</td>\n",
       "      <td>0.11</td>\n",
       "    </tr>\n",
       "    <tr>\n",
       "      <th>18</th>\n",
       "      <td>96</td>\n",
       "      <td>Belarus</td>\n",
       "      <td>Europe</td>\n",
       "      <td>9534954</td>\n",
       "      <td>9633740</td>\n",
       "      <td>9700609</td>\n",
       "      <td>9731427</td>\n",
       "      <td>10256483</td>\n",
       "      <td>10428525</td>\n",
       "      <td>9817257</td>\n",
       "      <td>9170786</td>\n",
       "      <td>207600</td>\n",
       "      <td>45.9295</td>\n",
       "      <td>0.9955</td>\n",
       "      <td>0.12</td>\n",
       "    </tr>\n",
       "    <tr>\n",
       "      <th>19</th>\n",
       "      <td>81</td>\n",
       "      <td>Belgium</td>\n",
       "      <td>Europe</td>\n",
       "      <td>11655930</td>\n",
       "      <td>11561717</td>\n",
       "      <td>11248303</td>\n",
       "      <td>10877947</td>\n",
       "      <td>10264343</td>\n",
       "      <td>9959560</td>\n",
       "      <td>9828986</td>\n",
       "      <td>9629376</td>\n",
       "      <td>30528</td>\n",
       "      <td>381.8111</td>\n",
       "      <td>1.0038</td>\n",
       "      <td>0.15</td>\n",
       "    </tr>\n",
       "    <tr>\n",
       "      <th>25</th>\n",
       "      <td>137</td>\n",
       "      <td>Bosnia and Herzegovina</td>\n",
       "      <td>Europe</td>\n",
       "      <td>3233526</td>\n",
       "      <td>3318407</td>\n",
       "      <td>3524324</td>\n",
       "      <td>3811088</td>\n",
       "      <td>4179350</td>\n",
       "      <td>4494310</td>\n",
       "      <td>4199820</td>\n",
       "      <td>3815561</td>\n",
       "      <td>51209</td>\n",
       "      <td>63.1437</td>\n",
       "      <td>0.9886</td>\n",
       "      <td>0.04</td>\n",
       "    </tr>\n",
       "    <tr>\n",
       "      <th>30</th>\n",
       "      <td>108</td>\n",
       "      <td>Bulgaria</td>\n",
       "      <td>Europe</td>\n",
       "      <td>6781953</td>\n",
       "      <td>6979175</td>\n",
       "      <td>7309253</td>\n",
       "      <td>7592273</td>\n",
       "      <td>8097691</td>\n",
       "      <td>8767778</td>\n",
       "      <td>8980606</td>\n",
       "      <td>8582950</td>\n",
       "      <td>110879</td>\n",
       "      <td>61.1654</td>\n",
       "      <td>0.9849</td>\n",
       "      <td>0.09</td>\n",
       "    </tr>\n",
       "    <tr>\n",
       "      <th>46</th>\n",
       "      <td>130</td>\n",
       "      <td>Croatia</td>\n",
       "      <td>Europe</td>\n",
       "      <td>4030358</td>\n",
       "      <td>4096868</td>\n",
       "      <td>4254815</td>\n",
       "      <td>4368682</td>\n",
       "      <td>4548434</td>\n",
       "      <td>4873707</td>\n",
       "      <td>4680144</td>\n",
       "      <td>4492638</td>\n",
       "      <td>56594</td>\n",
       "      <td>71.2153</td>\n",
       "      <td>0.9927</td>\n",
       "      <td>0.05</td>\n",
       "    </tr>\n",
       "    <tr>\n",
       "      <th>49</th>\n",
       "      <td>158</td>\n",
       "      <td>Cyprus</td>\n",
       "      <td>Europe</td>\n",
       "      <td>1251488</td>\n",
       "      <td>1237537</td>\n",
       "      <td>1187280</td>\n",
       "      <td>1129686</td>\n",
       "      <td>948237</td>\n",
       "      <td>788500</td>\n",
       "      <td>679327</td>\n",
       "      <td>640804</td>\n",
       "      <td>9251</td>\n",
       "      <td>135.2814</td>\n",
       "      <td>1.0059</td>\n",
       "      <td>0.02</td>\n",
       "    </tr>\n",
       "    <tr>\n",
       "      <th>50</th>\n",
       "      <td>88</td>\n",
       "      <td>Czech Republic</td>\n",
       "      <td>Europe</td>\n",
       "      <td>10493986</td>\n",
       "      <td>10530953</td>\n",
       "      <td>10523798</td>\n",
       "      <td>10464749</td>\n",
       "      <td>10234710</td>\n",
       "      <td>10301192</td>\n",
       "      <td>10270060</td>\n",
       "      <td>9795744</td>\n",
       "      <td>78865</td>\n",
       "      <td>133.0627</td>\n",
       "      <td>0.9984</td>\n",
       "      <td>0.13</td>\n",
       "    </tr>\n",
       "    <tr>\n",
       "      <th>51</th>\n",
       "      <td>115</td>\n",
       "      <td>Denmark</td>\n",
       "      <td>Europe</td>\n",
       "      <td>5882261</td>\n",
       "      <td>5825641</td>\n",
       "      <td>5677796</td>\n",
       "      <td>5550849</td>\n",
       "      <td>5340655</td>\n",
       "      <td>5144623</td>\n",
       "      <td>5125392</td>\n",
       "      <td>4922963</td>\n",
       "      <td>43094</td>\n",
       "      <td>136.4984</td>\n",
       "      <td>1.0048</td>\n",
       "      <td>0.07</td>\n",
       "    </tr>\n",
       "    <tr>\n",
       "      <th>61</th>\n",
       "      <td>156</td>\n",
       "      <td>Estonia</td>\n",
       "      <td>Europe</td>\n",
       "      <td>1326062</td>\n",
       "      <td>1329444</td>\n",
       "      <td>1314657</td>\n",
       "      <td>1331535</td>\n",
       "      <td>1396877</td>\n",
       "      <td>1570674</td>\n",
       "      <td>1476983</td>\n",
       "      <td>1361999</td>\n",
       "      <td>45227</td>\n",
       "      <td>29.3201</td>\n",
       "      <td>0.9980</td>\n",
       "      <td>0.02</td>\n",
       "    </tr>\n",
       "    <tr>\n",
       "      <th>65</th>\n",
       "      <td>209</td>\n",
       "      <td>Faroe Islands</td>\n",
       "      <td>Europe</td>\n",
       "      <td>53090</td>\n",
       "      <td>52415</td>\n",
       "      <td>48816</td>\n",
       "      <td>48410</td>\n",
       "      <td>45660</td>\n",
       "      <td>47479</td>\n",
       "      <td>43054</td>\n",
       "      <td>38416</td>\n",
       "      <td>1393</td>\n",
       "      <td>38.1120</td>\n",
       "      <td>1.0038</td>\n",
       "      <td>0.00</td>\n",
       "    </tr>\n",
       "    <tr>\n",
       "      <th>67</th>\n",
       "      <td>118</td>\n",
       "      <td>Finland</td>\n",
       "      <td>Europe</td>\n",
       "      <td>5540745</td>\n",
       "      <td>5529468</td>\n",
       "      <td>5479461</td>\n",
       "      <td>5363271</td>\n",
       "      <td>5176209</td>\n",
       "      <td>4986545</td>\n",
       "      <td>4779418</td>\n",
       "      <td>4606621</td>\n",
       "      <td>338424</td>\n",
       "      <td>16.3722</td>\n",
       "      <td>1.0009</td>\n",
       "      <td>0.07</td>\n",
       "    </tr>\n",
       "    <tr>\n",
       "      <th>68</th>\n",
       "      <td>23</td>\n",
       "      <td>France</td>\n",
       "      <td>Europe</td>\n",
       "      <td>64626628</td>\n",
       "      <td>64480053</td>\n",
       "      <td>63809769</td>\n",
       "      <td>62444567</td>\n",
       "      <td>58665453</td>\n",
       "      <td>56412897</td>\n",
       "      <td>53713830</td>\n",
       "      <td>50523586</td>\n",
       "      <td>551695</td>\n",
       "      <td>117.1419</td>\n",
       "      <td>1.0015</td>\n",
       "      <td>0.81</td>\n",
       "    </tr>\n",
       "    <tr>\n",
       "      <th>74</th>\n",
       "      <td>19</td>\n",
       "      <td>Germany</td>\n",
       "      <td>Europe</td>\n",
       "      <td>83369843</td>\n",
       "      <td>83328988</td>\n",
       "      <td>82073226</td>\n",
       "      <td>81325090</td>\n",
       "      <td>81551677</td>\n",
       "      <td>79370196</td>\n",
       "      <td>77786703</td>\n",
       "      <td>78294583</td>\n",
       "      <td>357114</td>\n",
       "      <td>233.4544</td>\n",
       "      <td>0.9995</td>\n",
       "      <td>1.05</td>\n",
       "    </tr>\n",
       "    <tr>\n",
       "      <th>76</th>\n",
       "      <td>219</td>\n",
       "      <td>Gibraltar</td>\n",
       "      <td>Europe</td>\n",
       "      <td>32649</td>\n",
       "      <td>32709</td>\n",
       "      <td>32520</td>\n",
       "      <td>31262</td>\n",
       "      <td>27741</td>\n",
       "      <td>27317</td>\n",
       "      <td>28734</td>\n",
       "      <td>26685</td>\n",
       "      <td>6</td>\n",
       "      <td>5441.5000</td>\n",
       "      <td>0.9994</td>\n",
       "      <td>0.00</td>\n",
       "    </tr>\n",
       "    <tr>\n",
       "      <th>77</th>\n",
       "      <td>90</td>\n",
       "      <td>Greece</td>\n",
       "      <td>Europe</td>\n",
       "      <td>10384971</td>\n",
       "      <td>10512232</td>\n",
       "      <td>10806641</td>\n",
       "      <td>11033783</td>\n",
       "      <td>11038109</td>\n",
       "      <td>10302255</td>\n",
       "      <td>9307148</td>\n",
       "      <td>8544873</td>\n",
       "      <td>131990</td>\n",
       "      <td>78.6800</td>\n",
       "      <td>0.9942</td>\n",
       "      <td>0.13</td>\n",
       "    </tr>\n",
       "    <tr>\n",
       "      <th>83</th>\n",
       "      <td>207</td>\n",
       "      <td>Guernsey</td>\n",
       "      <td>Europe</td>\n",
       "      <td>63301</td>\n",
       "      <td>62794</td>\n",
       "      <td>61629</td>\n",
       "      <td>60782</td>\n",
       "      <td>59114</td>\n",
       "      <td>57727</td>\n",
       "      <td>52860</td>\n",
       "      <td>52656</td>\n",
       "      <td>78</td>\n",
       "      <td>811.5513</td>\n",
       "      <td>1.0037</td>\n",
       "      <td>0.00</td>\n",
       "    </tr>\n",
       "    <tr>\n",
       "      <th>90</th>\n",
       "      <td>94</td>\n",
       "      <td>Hungary</td>\n",
       "      <td>Europe</td>\n",
       "      <td>9967308</td>\n",
       "      <td>9750573</td>\n",
       "      <td>9844246</td>\n",
       "      <td>9986825</td>\n",
       "      <td>10202055</td>\n",
       "      <td>10375989</td>\n",
       "      <td>10698679</td>\n",
       "      <td>10315366</td>\n",
       "      <td>93028</td>\n",
       "      <td>107.1431</td>\n",
       "      <td>1.0265</td>\n",
       "      <td>0.12</td>\n",
       "    </tr>\n",
       "    <tr>\n",
       "      <th>91</th>\n",
       "      <td>179</td>\n",
       "      <td>Iceland</td>\n",
       "      <td>Europe</td>\n",
       "      <td>372899</td>\n",
       "      <td>366669</td>\n",
       "      <td>331060</td>\n",
       "      <td>318333</td>\n",
       "      <td>281462</td>\n",
       "      <td>255019</td>\n",
       "      <td>228263</td>\n",
       "      <td>204468</td>\n",
       "      <td>103000</td>\n",
       "      <td>3.6204</td>\n",
       "      <td>1.0069</td>\n",
       "      <td>0.00</td>\n",
       "    </tr>\n",
       "    <tr>\n",
       "      <th>96</th>\n",
       "      <td>125</td>\n",
       "      <td>Ireland</td>\n",
       "      <td>Europe</td>\n",
       "      <td>5023109</td>\n",
       "      <td>4946119</td>\n",
       "      <td>4665760</td>\n",
       "      <td>4524585</td>\n",
       "      <td>3768950</td>\n",
       "      <td>3485374</td>\n",
       "      <td>3391387</td>\n",
       "      <td>2937637</td>\n",
       "      <td>70273</td>\n",
       "      <td>71.4799</td>\n",
       "      <td>1.0073</td>\n",
       "      <td>0.06</td>\n",
       "    </tr>\n",
       "    <tr>\n",
       "      <th>97</th>\n",
       "      <td>202</td>\n",
       "      <td>Isle of Man</td>\n",
       "      <td>Europe</td>\n",
       "      <td>84519</td>\n",
       "      <td>84046</td>\n",
       "      <td>83593</td>\n",
       "      <td>83828</td>\n",
       "      <td>75562</td>\n",
       "      <td>68865</td>\n",
       "      <td>64022</td>\n",
       "      <td>55298</td>\n",
       "      <td>572</td>\n",
       "      <td>147.7605</td>\n",
       "      <td>1.0030</td>\n",
       "      <td>0.00</td>\n",
       "    </tr>\n",
       "    <tr>\n",
       "      <th>99</th>\n",
       "      <td>25</td>\n",
       "      <td>Italy</td>\n",
       "      <td>Europe</td>\n",
       "      <td>59037474</td>\n",
       "      <td>59500579</td>\n",
       "      <td>60232906</td>\n",
       "      <td>59822450</td>\n",
       "      <td>56966397</td>\n",
       "      <td>56756561</td>\n",
       "      <td>56329482</td>\n",
       "      <td>53324036</td>\n",
       "      <td>301336</td>\n",
       "      <td>195.9191</td>\n",
       "      <td>0.9966</td>\n",
       "      <td>0.74</td>\n",
       "    </tr>\n",
       "    <tr>\n",
       "      <th>103</th>\n",
       "      <td>195</td>\n",
       "      <td>Jersey</td>\n",
       "      <td>Europe</td>\n",
       "      <td>110778</td>\n",
       "      <td>108319</td>\n",
       "      <td>100561</td>\n",
       "      <td>96151</td>\n",
       "      <td>86192</td>\n",
       "      <td>82874</td>\n",
       "      <td>75124</td>\n",
       "      <td>68347</td>\n",
       "      <td>116</td>\n",
       "      <td>954.9828</td>\n",
       "      <td>1.0106</td>\n",
       "      <td>0.00</td>\n",
       "    </tr>\n",
       "    <tr>\n",
       "      <th>111</th>\n",
       "      <td>151</td>\n",
       "      <td>Latvia</td>\n",
       "      <td>Europe</td>\n",
       "      <td>1850651</td>\n",
       "      <td>1897052</td>\n",
       "      <td>1991955</td>\n",
       "      <td>2101530</td>\n",
       "      <td>2392530</td>\n",
       "      <td>2689391</td>\n",
       "      <td>2572037</td>\n",
       "      <td>2397414</td>\n",
       "      <td>64559</td>\n",
       "      <td>28.6660</td>\n",
       "      <td>0.9876</td>\n",
       "      <td>0.02</td>\n",
       "    </tr>\n",
       "    <tr>\n",
       "      <th>116</th>\n",
       "      <td>216</td>\n",
       "      <td>Liechtenstein</td>\n",
       "      <td>Europe</td>\n",
       "      <td>39327</td>\n",
       "      <td>38756</td>\n",
       "      <td>37355</td>\n",
       "      <td>35926</td>\n",
       "      <td>33026</td>\n",
       "      <td>28765</td>\n",
       "      <td>25003</td>\n",
       "      <td>21089</td>\n",
       "      <td>160</td>\n",
       "      <td>245.7937</td>\n",
       "      <td>1.0074</td>\n",
       "      <td>0.00</td>\n",
       "    </tr>\n",
       "    <tr>\n",
       "      <th>117</th>\n",
       "      <td>141</td>\n",
       "      <td>Lithuania</td>\n",
       "      <td>Europe</td>\n",
       "      <td>2750055</td>\n",
       "      <td>2820267</td>\n",
       "      <td>2963765</td>\n",
       "      <td>3139019</td>\n",
       "      <td>3599637</td>\n",
       "      <td>3785847</td>\n",
       "      <td>3521206</td>\n",
       "      <td>3210147</td>\n",
       "      <td>65300</td>\n",
       "      <td>42.1142</td>\n",
       "      <td>0.9869</td>\n",
       "      <td>0.03</td>\n",
       "    </tr>\n",
       "    <tr>\n",
       "      <th>118</th>\n",
       "      <td>168</td>\n",
       "      <td>Luxembourg</td>\n",
       "      <td>Europe</td>\n",
       "      <td>647599</td>\n",
       "      <td>630399</td>\n",
       "      <td>569408</td>\n",
       "      <td>507070</td>\n",
       "      <td>435628</td>\n",
       "      <td>381267</td>\n",
       "      <td>363741</td>\n",
       "      <td>339342</td>\n",
       "      <td>2586</td>\n",
       "      <td>250.4250</td>\n",
       "      <td>1.0129</td>\n",
       "      <td>0.01</td>\n",
       "    </tr>\n",
       "    <tr>\n",
       "      <th>125</th>\n",
       "      <td>173</td>\n",
       "      <td>Malta</td>\n",
       "      <td>Europe</td>\n",
       "      <td>533286</td>\n",
       "      <td>515357</td>\n",
       "      <td>456579</td>\n",
       "      <td>418755</td>\n",
       "      <td>399212</td>\n",
       "      <td>365392</td>\n",
       "      <td>333587</td>\n",
       "      <td>315414</td>\n",
       "      <td>316</td>\n",
       "      <td>1687.6139</td>\n",
       "      <td>1.0124</td>\n",
       "      <td>0.01</td>\n",
       "    </tr>\n",
       "    <tr>\n",
       "      <th>133</th>\n",
       "      <td>135</td>\n",
       "      <td>Moldova</td>\n",
       "      <td>Europe</td>\n",
       "      <td>3272996</td>\n",
       "      <td>3084847</td>\n",
       "      <td>3277388</td>\n",
       "      <td>3678186</td>\n",
       "      <td>4251573</td>\n",
       "      <td>4480199</td>\n",
       "      <td>4103240</td>\n",
       "      <td>3711140</td>\n",
       "      <td>33846</td>\n",
       "      <td>96.7026</td>\n",
       "      <td>1.0691</td>\n",
       "      <td>0.04</td>\n",
       "    </tr>\n",
       "    <tr>\n",
       "      <th>134</th>\n",
       "      <td>217</td>\n",
       "      <td>Monaco</td>\n",
       "      <td>Europe</td>\n",
       "      <td>36469</td>\n",
       "      <td>36922</td>\n",
       "      <td>36760</td>\n",
       "      <td>33178</td>\n",
       "      <td>32465</td>\n",
       "      <td>30329</td>\n",
       "      <td>27076</td>\n",
       "      <td>24270</td>\n",
       "      <td>2</td>\n",
       "      <td>18234.5000</td>\n",
       "      <td>0.9941</td>\n",
       "      <td>0.00</td>\n",
       "    </tr>\n",
       "    <tr>\n",
       "      <th>136</th>\n",
       "      <td>169</td>\n",
       "      <td>Montenegro</td>\n",
       "      <td>Europe</td>\n",
       "      <td>627082</td>\n",
       "      <td>629048</td>\n",
       "      <td>633966</td>\n",
       "      <td>631044</td>\n",
       "      <td>633324</td>\n",
       "      <td>621442</td>\n",
       "      <td>589324</td>\n",
       "      <td>530268</td>\n",
       "      <td>13812</td>\n",
       "      <td>45.4012</td>\n",
       "      <td>0.9988</td>\n",
       "      <td>0.01</td>\n",
       "    </tr>\n",
       "    <tr>\n",
       "      <th>144</th>\n",
       "      <td>71</td>\n",
       "      <td>Netherlands</td>\n",
       "      <td>Europe</td>\n",
       "      <td>17564014</td>\n",
       "      <td>17434557</td>\n",
       "      <td>17041107</td>\n",
       "      <td>16617116</td>\n",
       "      <td>15899135</td>\n",
       "      <td>14944548</td>\n",
       "      <td>14130387</td>\n",
       "      <td>13037686</td>\n",
       "      <td>41850</td>\n",
       "      <td>419.6897</td>\n",
       "      <td>1.0036</td>\n",
       "      <td>0.22</td>\n",
       "    </tr>\n",
       "    <tr>\n",
       "      <th>152</th>\n",
       "      <td>150</td>\n",
       "      <td>North Macedonia</td>\n",
       "      <td>Europe</td>\n",
       "      <td>2093599</td>\n",
       "      <td>2111072</td>\n",
       "      <td>2107962</td>\n",
       "      <td>2093828</td>\n",
       "      <td>2037936</td>\n",
       "      <td>2044174</td>\n",
       "      <td>1907023</td>\n",
       "      <td>1656783</td>\n",
       "      <td>25713</td>\n",
       "      <td>81.4218</td>\n",
       "      <td>0.9954</td>\n",
       "      <td>0.03</td>\n",
       "    </tr>\n",
       "    <tr>\n",
       "      <th>154</th>\n",
       "      <td>120</td>\n",
       "      <td>Norway</td>\n",
       "      <td>Europe</td>\n",
       "      <td>5434319</td>\n",
       "      <td>5379839</td>\n",
       "      <td>5190356</td>\n",
       "      <td>4889741</td>\n",
       "      <td>4491202</td>\n",
       "      <td>4241636</td>\n",
       "      <td>4085776</td>\n",
       "      <td>3875546</td>\n",
       "      <td>323802</td>\n",
       "      <td>16.7828</td>\n",
       "      <td>1.0058</td>\n",
       "      <td>0.07</td>\n",
       "    </tr>\n",
       "    <tr>\n",
       "      <th>164</th>\n",
       "      <td>37</td>\n",
       "      <td>Poland</td>\n",
       "      <td>Europe</td>\n",
       "      <td>39857145</td>\n",
       "      <td>38428366</td>\n",
       "      <td>38553146</td>\n",
       "      <td>38597353</td>\n",
       "      <td>38504431</td>\n",
       "      <td>38064255</td>\n",
       "      <td>35521429</td>\n",
       "      <td>32482943</td>\n",
       "      <td>312679</td>\n",
       "      <td>127.4698</td>\n",
       "      <td>1.0404</td>\n",
       "      <td>0.50</td>\n",
       "    </tr>\n",
       "    <tr>\n",
       "      <th>165</th>\n",
       "      <td>92</td>\n",
       "      <td>Portugal</td>\n",
       "      <td>Europe</td>\n",
       "      <td>10270865</td>\n",
       "      <td>10298192</td>\n",
       "      <td>10365435</td>\n",
       "      <td>10588401</td>\n",
       "      <td>10300626</td>\n",
       "      <td>10007346</td>\n",
       "      <td>9785252</td>\n",
       "      <td>8683631</td>\n",
       "      <td>92090</td>\n",
       "      <td>111.5307</td>\n",
       "      <td>0.9981</td>\n",
       "      <td>0.13</td>\n",
       "    </tr>\n",
       "    <tr>\n",
       "      <th>170</th>\n",
       "      <td>64</td>\n",
       "      <td>Romania</td>\n",
       "      <td>Europe</td>\n",
       "      <td>19659267</td>\n",
       "      <td>19442038</td>\n",
       "      <td>19906079</td>\n",
       "      <td>20335211</td>\n",
       "      <td>21919876</td>\n",
       "      <td>22836234</td>\n",
       "      <td>22125224</td>\n",
       "      <td>19922618</td>\n",
       "      <td>238391</td>\n",
       "      <td>82.4665</td>\n",
       "      <td>1.0171</td>\n",
       "      <td>0.25</td>\n",
       "    </tr>\n",
       "    <tr>\n",
       "      <th>171</th>\n",
       "      <td>9</td>\n",
       "      <td>Russia</td>\n",
       "      <td>Europe</td>\n",
       "      <td>144713314</td>\n",
       "      <td>145617329</td>\n",
       "      <td>144668389</td>\n",
       "      <td>143242599</td>\n",
       "      <td>146844839</td>\n",
       "      <td>148005704</td>\n",
       "      <td>138257420</td>\n",
       "      <td>130093010</td>\n",
       "      <td>17098242</td>\n",
       "      <td>8.4636</td>\n",
       "      <td>0.9973</td>\n",
       "      <td>1.81</td>\n",
       "    </tr>\n",
       "    <tr>\n",
       "      <th>180</th>\n",
       "      <td>218</td>\n",
       "      <td>San Marino</td>\n",
       "      <td>Europe</td>\n",
       "      <td>33660</td>\n",
       "      <td>34007</td>\n",
       "      <td>33570</td>\n",
       "      <td>31608</td>\n",
       "      <td>26823</td>\n",
       "      <td>23132</td>\n",
       "      <td>21346</td>\n",
       "      <td>18169</td>\n",
       "      <td>61</td>\n",
       "      <td>551.8033</td>\n",
       "      <td>0.9975</td>\n",
       "      <td>0.00</td>\n",
       "    </tr>\n",
       "    <tr>\n",
       "      <th>184</th>\n",
       "      <td>105</td>\n",
       "      <td>Serbia</td>\n",
       "      <td>Europe</td>\n",
       "      <td>7221365</td>\n",
       "      <td>7358005</td>\n",
       "      <td>7519496</td>\n",
       "      <td>7653748</td>\n",
       "      <td>7935022</td>\n",
       "      <td>7987529</td>\n",
       "      <td>7777010</td>\n",
       "      <td>7193533</td>\n",
       "      <td>88361</td>\n",
       "      <td>81.7257</td>\n",
       "      <td>0.9897</td>\n",
       "      <td>0.09</td>\n",
       "    </tr>\n",
       "    <tr>\n",
       "      <th>189</th>\n",
       "      <td>116</td>\n",
       "      <td>Slovakia</td>\n",
       "      <td>Europe</td>\n",
       "      <td>5643453</td>\n",
       "      <td>5456681</td>\n",
       "      <td>5424444</td>\n",
       "      <td>5396424</td>\n",
       "      <td>5376690</td>\n",
       "      <td>5261305</td>\n",
       "      <td>4973883</td>\n",
       "      <td>4522867</td>\n",
       "      <td>49037</td>\n",
       "      <td>115.0856</td>\n",
       "      <td>1.0359</td>\n",
       "      <td>0.07</td>\n",
       "    </tr>\n",
       "    <tr>\n",
       "      <th>190</th>\n",
       "      <td>148</td>\n",
       "      <td>Slovenia</td>\n",
       "      <td>Europe</td>\n",
       "      <td>2119844</td>\n",
       "      <td>2117641</td>\n",
       "      <td>2080862</td>\n",
       "      <td>2057286</td>\n",
       "      <td>1984339</td>\n",
       "      <td>1986024</td>\n",
       "      <td>1901570</td>\n",
       "      <td>1741286</td>\n",
       "      <td>20273</td>\n",
       "      <td>104.5649</td>\n",
       "      <td>1.0002</td>\n",
       "      <td>0.03</td>\n",
       "    </tr>\n",
       "    <tr>\n",
       "      <th>196</th>\n",
       "      <td>30</td>\n",
       "      <td>Spain</td>\n",
       "      <td>Europe</td>\n",
       "      <td>47558630</td>\n",
       "      <td>47363807</td>\n",
       "      <td>46431342</td>\n",
       "      <td>46572772</td>\n",
       "      <td>40741651</td>\n",
       "      <td>38889889</td>\n",
       "      <td>37491666</td>\n",
       "      <td>33792617</td>\n",
       "      <td>505992</td>\n",
       "      <td>93.9909</td>\n",
       "      <td>1.0015</td>\n",
       "      <td>0.60</td>\n",
       "    </tr>\n",
       "    <tr>\n",
       "      <th>200</th>\n",
       "      <td>87</td>\n",
       "      <td>Sweden</td>\n",
       "      <td>Europe</td>\n",
       "      <td>10549347</td>\n",
       "      <td>10368969</td>\n",
       "      <td>9849349</td>\n",
       "      <td>9381729</td>\n",
       "      <td>8871043</td>\n",
       "      <td>8548406</td>\n",
       "      <td>8311763</td>\n",
       "      <td>8027702</td>\n",
       "      <td>450295</td>\n",
       "      <td>23.4276</td>\n",
       "      <td>1.0079</td>\n",
       "      <td>0.13</td>\n",
       "    </tr>\n",
       "    <tr>\n",
       "      <th>201</th>\n",
       "      <td>101</td>\n",
       "      <td>Switzerland</td>\n",
       "      <td>Europe</td>\n",
       "      <td>8740472</td>\n",
       "      <td>8638613</td>\n",
       "      <td>8281732</td>\n",
       "      <td>7822435</td>\n",
       "      <td>7182059</td>\n",
       "      <td>6711693</td>\n",
       "      <td>6319113</td>\n",
       "      <td>6181227</td>\n",
       "      <td>41284</td>\n",
       "      <td>211.7157</td>\n",
       "      <td>1.0056</td>\n",
       "      <td>0.11</td>\n",
       "    </tr>\n",
       "    <tr>\n",
       "      <th>218</th>\n",
       "      <td>38</td>\n",
       "      <td>Ukraine</td>\n",
       "      <td>Europe</td>\n",
       "      <td>39701739</td>\n",
       "      <td>43909666</td>\n",
       "      <td>44982564</td>\n",
       "      <td>45683020</td>\n",
       "      <td>48879755</td>\n",
       "      <td>51589817</td>\n",
       "      <td>49973920</td>\n",
       "      <td>47279086</td>\n",
       "      <td>603500</td>\n",
       "      <td>65.7858</td>\n",
       "      <td>0.9120</td>\n",
       "      <td>0.50</td>\n",
       "    </tr>\n",
       "    <tr>\n",
       "      <th>220</th>\n",
       "      <td>21</td>\n",
       "      <td>United Kingdom</td>\n",
       "      <td>Europe</td>\n",
       "      <td>67508936</td>\n",
       "      <td>67059474</td>\n",
       "      <td>65224364</td>\n",
       "      <td>62760039</td>\n",
       "      <td>58850043</td>\n",
       "      <td>57210442</td>\n",
       "      <td>56326328</td>\n",
       "      <td>55650166</td>\n",
       "      <td>242900</td>\n",
       "      <td>277.9289</td>\n",
       "      <td>1.0034</td>\n",
       "      <td>0.85</td>\n",
       "    </tr>\n",
       "    <tr>\n",
       "      <th>226</th>\n",
       "      <td>234</td>\n",
       "      <td>Vatican City</td>\n",
       "      <td>Europe</td>\n",
       "      <td>510</td>\n",
       "      <td>520</td>\n",
       "      <td>564</td>\n",
       "      <td>596</td>\n",
       "      <td>651</td>\n",
       "      <td>700</td>\n",
       "      <td>733</td>\n",
       "      <td>752</td>\n",
       "      <td>1</td>\n",
       "      <td>510.0000</td>\n",
       "      <td>0.9980</td>\n",
       "      <td>0.00</td>\n",
       "    </tr>\n",
       "  </tbody>\n",
       "</table>\n",
       "</div>"
      ],
      "text/plain": [
       "     Rank       Country/Territory Continent  2022 Population  2020 Population  \\\n",
       "1     138                 Albania    Europe          2842321          2866849   \n",
       "4     203                 Andorra    Europe            79824            77700   \n",
       "12     99                 Austria    Europe          8939617          8907777   \n",
       "18     96                 Belarus    Europe          9534954          9633740   \n",
       "19     81                 Belgium    Europe         11655930         11561717   \n",
       "25    137  Bosnia and Herzegovina    Europe          3233526          3318407   \n",
       "30    108                Bulgaria    Europe          6781953          6979175   \n",
       "46    130                 Croatia    Europe          4030358          4096868   \n",
       "49    158                  Cyprus    Europe          1251488          1237537   \n",
       "50     88          Czech Republic    Europe         10493986         10530953   \n",
       "51    115                 Denmark    Europe          5882261          5825641   \n",
       "61    156                 Estonia    Europe          1326062          1329444   \n",
       "65    209           Faroe Islands    Europe            53090            52415   \n",
       "67    118                 Finland    Europe          5540745          5529468   \n",
       "68     23                  France    Europe         64626628         64480053   \n",
       "74     19                 Germany    Europe         83369843         83328988   \n",
       "76    219               Gibraltar    Europe            32649            32709   \n",
       "77     90                  Greece    Europe         10384971         10512232   \n",
       "83    207                Guernsey    Europe            63301            62794   \n",
       "90     94                 Hungary    Europe          9967308          9750573   \n",
       "91    179                 Iceland    Europe           372899           366669   \n",
       "96    125                 Ireland    Europe          5023109          4946119   \n",
       "97    202             Isle of Man    Europe            84519            84046   \n",
       "99     25                   Italy    Europe         59037474         59500579   \n",
       "103   195                  Jersey    Europe           110778           108319   \n",
       "111   151                  Latvia    Europe          1850651          1897052   \n",
       "116   216           Liechtenstein    Europe            39327            38756   \n",
       "117   141               Lithuania    Europe          2750055          2820267   \n",
       "118   168              Luxembourg    Europe           647599           630399   \n",
       "125   173                   Malta    Europe           533286           515357   \n",
       "133   135                 Moldova    Europe          3272996          3084847   \n",
       "134   217                  Monaco    Europe            36469            36922   \n",
       "136   169              Montenegro    Europe           627082           629048   \n",
       "144    71             Netherlands    Europe         17564014         17434557   \n",
       "152   150         North Macedonia    Europe          2093599          2111072   \n",
       "154   120                  Norway    Europe          5434319          5379839   \n",
       "164    37                  Poland    Europe         39857145         38428366   \n",
       "165    92                Portugal    Europe         10270865         10298192   \n",
       "170    64                 Romania    Europe         19659267         19442038   \n",
       "171     9                  Russia    Europe        144713314        145617329   \n",
       "180   218              San Marino    Europe            33660            34007   \n",
       "184   105                  Serbia    Europe          7221365          7358005   \n",
       "189   116                Slovakia    Europe          5643453          5456681   \n",
       "190   148                Slovenia    Europe          2119844          2117641   \n",
       "196    30                   Spain    Europe         47558630         47363807   \n",
       "200    87                  Sweden    Europe         10549347         10368969   \n",
       "201   101             Switzerland    Europe          8740472          8638613   \n",
       "218    38                 Ukraine    Europe         39701739         43909666   \n",
       "220    21          United Kingdom    Europe         67508936         67059474   \n",
       "226   234            Vatican City    Europe              510              520   \n",
       "\n",
       "     2015 Population  2010 Population  2000 Population  1990 Population  \\\n",
       "1            2882481          2913399          3182021          3295066   \n",
       "4              71746            71519            66097            53569   \n",
       "12           8642421          8362829          8010428          7678729   \n",
       "18           9700609          9731427         10256483         10428525   \n",
       "19          11248303         10877947         10264343          9959560   \n",
       "25           3524324          3811088          4179350          4494310   \n",
       "30           7309253          7592273          8097691          8767778   \n",
       "46           4254815          4368682          4548434          4873707   \n",
       "49           1187280          1129686           948237           788500   \n",
       "50          10523798         10464749         10234710         10301192   \n",
       "51           5677796          5550849          5340655          5144623   \n",
       "61           1314657          1331535          1396877          1570674   \n",
       "65             48816            48410            45660            47479   \n",
       "67           5479461          5363271          5176209          4986545   \n",
       "68          63809769         62444567         58665453         56412897   \n",
       "74          82073226         81325090         81551677         79370196   \n",
       "76             32520            31262            27741            27317   \n",
       "77          10806641         11033783         11038109         10302255   \n",
       "83             61629            60782            59114            57727   \n",
       "90           9844246          9986825         10202055         10375989   \n",
       "91            331060           318333           281462           255019   \n",
       "96           4665760          4524585          3768950          3485374   \n",
       "97             83593            83828            75562            68865   \n",
       "99          60232906         59822450         56966397         56756561   \n",
       "103           100561            96151            86192            82874   \n",
       "111          1991955          2101530          2392530          2689391   \n",
       "116            37355            35926            33026            28765   \n",
       "117          2963765          3139019          3599637          3785847   \n",
       "118           569408           507070           435628           381267   \n",
       "125           456579           418755           399212           365392   \n",
       "133          3277388          3678186          4251573          4480199   \n",
       "134            36760            33178            32465            30329   \n",
       "136           633966           631044           633324           621442   \n",
       "144         17041107         16617116         15899135         14944548   \n",
       "152          2107962          2093828          2037936          2044174   \n",
       "154          5190356          4889741          4491202          4241636   \n",
       "164         38553146         38597353         38504431         38064255   \n",
       "165         10365435         10588401         10300626         10007346   \n",
       "170         19906079         20335211         21919876         22836234   \n",
       "171        144668389        143242599        146844839        148005704   \n",
       "180            33570            31608            26823            23132   \n",
       "184          7519496          7653748          7935022          7987529   \n",
       "189          5424444          5396424          5376690          5261305   \n",
       "190          2080862          2057286          1984339          1986024   \n",
       "196         46431342         46572772         40741651         38889889   \n",
       "200          9849349          9381729          8871043          8548406   \n",
       "201          8281732          7822435          7182059          6711693   \n",
       "218         44982564         45683020         48879755         51589817   \n",
       "220         65224364         62760039         58850043         57210442   \n",
       "226              564              596              651              700   \n",
       "\n",
       "     1980 Population  1970 Population      Area     Density  Growth Rate  \\\n",
       "1            2941651          2324731     28748     98.8702       0.9957   \n",
       "4              35611            19860       468    170.5641       1.0100   \n",
       "12           7547561          7465301     83871    106.5877       1.0020   \n",
       "18           9817257          9170786    207600     45.9295       0.9955   \n",
       "19           9828986          9629376     30528    381.8111       1.0038   \n",
       "25           4199820          3815561     51209     63.1437       0.9886   \n",
       "30           8980606          8582950    110879     61.1654       0.9849   \n",
       "46           4680144          4492638     56594     71.2153       0.9927   \n",
       "49            679327           640804      9251    135.2814       1.0059   \n",
       "50          10270060          9795744     78865    133.0627       0.9984   \n",
       "51           5125392          4922963     43094    136.4984       1.0048   \n",
       "61           1476983          1361999     45227     29.3201       0.9980   \n",
       "65             43054            38416      1393     38.1120       1.0038   \n",
       "67           4779418          4606621    338424     16.3722       1.0009   \n",
       "68          53713830         50523586    551695    117.1419       1.0015   \n",
       "74          77786703         78294583    357114    233.4544       0.9995   \n",
       "76             28734            26685         6   5441.5000       0.9994   \n",
       "77           9307148          8544873    131990     78.6800       0.9942   \n",
       "83             52860            52656        78    811.5513       1.0037   \n",
       "90          10698679         10315366     93028    107.1431       1.0265   \n",
       "91            228263           204468    103000      3.6204       1.0069   \n",
       "96           3391387          2937637     70273     71.4799       1.0073   \n",
       "97             64022            55298       572    147.7605       1.0030   \n",
       "99          56329482         53324036    301336    195.9191       0.9966   \n",
       "103            75124            68347       116    954.9828       1.0106   \n",
       "111          2572037          2397414     64559     28.6660       0.9876   \n",
       "116            25003            21089       160    245.7937       1.0074   \n",
       "117          3521206          3210147     65300     42.1142       0.9869   \n",
       "118           363741           339342      2586    250.4250       1.0129   \n",
       "125           333587           315414       316   1687.6139       1.0124   \n",
       "133          4103240          3711140     33846     96.7026       1.0691   \n",
       "134            27076            24270         2  18234.5000       0.9941   \n",
       "136           589324           530268     13812     45.4012       0.9988   \n",
       "144         14130387         13037686     41850    419.6897       1.0036   \n",
       "152          1907023          1656783     25713     81.4218       0.9954   \n",
       "154          4085776          3875546    323802     16.7828       1.0058   \n",
       "164         35521429         32482943    312679    127.4698       1.0404   \n",
       "165          9785252          8683631     92090    111.5307       0.9981   \n",
       "170         22125224         19922618    238391     82.4665       1.0171   \n",
       "171        138257420        130093010  17098242      8.4636       0.9973   \n",
       "180            21346            18169        61    551.8033       0.9975   \n",
       "184          7777010          7193533     88361     81.7257       0.9897   \n",
       "189          4973883          4522867     49037    115.0856       1.0359   \n",
       "190          1901570          1741286     20273    104.5649       1.0002   \n",
       "196         37491666         33792617    505992     93.9909       1.0015   \n",
       "200          8311763          8027702    450295     23.4276       1.0079   \n",
       "201          6319113          6181227     41284    211.7157       1.0056   \n",
       "218         49973920         47279086    603500     65.7858       0.9120   \n",
       "220         56326328         55650166    242900    277.9289       1.0034   \n",
       "226              733              752         1    510.0000       0.9980   \n",
       "\n",
       "     World Population Percentage  \n",
       "1                           0.04  \n",
       "4                           0.00  \n",
       "12                          0.11  \n",
       "18                          0.12  \n",
       "19                          0.15  \n",
       "25                          0.04  \n",
       "30                          0.09  \n",
       "46                          0.05  \n",
       "49                          0.02  \n",
       "50                          0.13  \n",
       "51                          0.07  \n",
       "61                          0.02  \n",
       "65                          0.00  \n",
       "67                          0.07  \n",
       "68                          0.81  \n",
       "74                          1.05  \n",
       "76                          0.00  \n",
       "77                          0.13  \n",
       "83                          0.00  \n",
       "90                          0.12  \n",
       "91                          0.00  \n",
       "96                          0.06  \n",
       "97                          0.00  \n",
       "99                          0.74  \n",
       "103                         0.00  \n",
       "111                         0.02  \n",
       "116                         0.00  \n",
       "117                         0.03  \n",
       "118                         0.01  \n",
       "125                         0.01  \n",
       "133                         0.04  \n",
       "134                         0.00  \n",
       "136                         0.01  \n",
       "144                         0.22  \n",
       "152                         0.03  \n",
       "154                         0.07  \n",
       "164                         0.50  \n",
       "165                         0.13  \n",
       "170                         0.25  \n",
       "171                         1.81  \n",
       "180                         0.00  \n",
       "184                         0.09  \n",
       "189                         0.07  \n",
       "190                         0.03  \n",
       "196                         0.60  \n",
       "200                         0.13  \n",
       "201                         0.11  \n",
       "218                         0.50  \n",
       "220                         0.85  \n",
       "226                         0.00  "
      ]
     },
     "execution_count": 26,
     "metadata": {},
     "output_type": "execute_result"
    }
   ],
   "source": [
    "europe_con"
   ]
  },
  {
   "cell_type": "code",
   "execution_count": 27,
   "id": "5447e16e",
   "metadata": {},
   "outputs": [
    {
     "data": {
      "application/vnd.plotly.v1+json": {
       "config": {
        "linkText": "Export to plot.ly",
        "plotlyServerURL": "https://plot.ly",
        "showLink": true
       },
       "data": [
        {
         "line": {
          "color": "rgba(255, 153, 51, 1.0)",
          "dash": "solid",
          "shape": "linear",
          "width": 1.3
         },
         "mode": "lines",
         "name": "2022 Population",
         "text": "",
         "type": "scatter",
         "x": [
          "Albania",
          "Andorra",
          "Austria",
          "Belarus",
          "Belgium",
          "Bosnia and Herzegovina",
          "Bulgaria",
          "Croatia",
          "Cyprus",
          "Czech Republic",
          "Denmark",
          "Estonia",
          "Faroe Islands",
          "Finland",
          "France",
          "Germany",
          "Gibraltar",
          "Greece",
          "Guernsey",
          "Hungary",
          "Iceland",
          "Ireland",
          "Isle of Man",
          "Italy",
          "Jersey",
          "Latvia",
          "Liechtenstein",
          "Lithuania",
          "Luxembourg",
          "Malta",
          "Moldova",
          "Monaco",
          "Montenegro",
          "Netherlands",
          "North Macedonia",
          "Norway",
          "Poland",
          "Portugal",
          "Romania",
          "Russia",
          "San Marino",
          "Serbia",
          "Slovakia",
          "Slovenia",
          "Spain",
          "Sweden",
          "Switzerland",
          "Ukraine",
          "United Kingdom",
          "Vatican City"
         ],
         "y": [
          2842321,
          79824,
          8939617,
          9534954,
          11655930,
          3233526,
          6781953,
          4030358,
          1251488,
          10493986,
          5882261,
          1326062,
          53090,
          5540745,
          64626628,
          83369843,
          32649,
          10384971,
          63301,
          9967308,
          372899,
          5023109,
          84519,
          59037474,
          110778,
          1850651,
          39327,
          2750055,
          647599,
          533286,
          3272996,
          36469,
          627082,
          17564014,
          2093599,
          5434319,
          39857145,
          10270865,
          19659267,
          144713314,
          33660,
          7221365,
          5643453,
          2119844,
          47558630,
          10549347,
          8740472,
          39701739,
          67508936,
          510
         ]
        }
       ],
       "layout": {
        "legend": {
         "bgcolor": "#F5F6F9",
         "font": {
          "color": "#4D5663"
         }
        },
        "paper_bgcolor": "#F5F6F9",
        "plot_bgcolor": "#F5F6F9",
        "template": {
         "data": {
          "bar": [
           {
            "error_x": {
             "color": "#2a3f5f"
            },
            "error_y": {
             "color": "#2a3f5f"
            },
            "marker": {
             "line": {
              "color": "#E5ECF6",
              "width": 0.5
             },
             "pattern": {
              "fillmode": "overlay",
              "size": 10,
              "solidity": 0.2
             }
            },
            "type": "bar"
           }
          ],
          "barpolar": [
           {
            "marker": {
             "line": {
              "color": "#E5ECF6",
              "width": 0.5
             },
             "pattern": {
              "fillmode": "overlay",
              "size": 10,
              "solidity": 0.2
             }
            },
            "type": "barpolar"
           }
          ],
          "carpet": [
           {
            "aaxis": {
             "endlinecolor": "#2a3f5f",
             "gridcolor": "white",
             "linecolor": "white",
             "minorgridcolor": "white",
             "startlinecolor": "#2a3f5f"
            },
            "baxis": {
             "endlinecolor": "#2a3f5f",
             "gridcolor": "white",
             "linecolor": "white",
             "minorgridcolor": "white",
             "startlinecolor": "#2a3f5f"
            },
            "type": "carpet"
           }
          ],
          "choropleth": [
           {
            "colorbar": {
             "outlinewidth": 0,
             "ticks": ""
            },
            "type": "choropleth"
           }
          ],
          "contour": [
           {
            "colorbar": {
             "outlinewidth": 0,
             "ticks": ""
            },
            "colorscale": [
             [
              0,
              "#0d0887"
             ],
             [
              0.1111111111111111,
              "#46039f"
             ],
             [
              0.2222222222222222,
              "#7201a8"
             ],
             [
              0.3333333333333333,
              "#9c179e"
             ],
             [
              0.4444444444444444,
              "#bd3786"
             ],
             [
              0.5555555555555556,
              "#d8576b"
             ],
             [
              0.6666666666666666,
              "#ed7953"
             ],
             [
              0.7777777777777778,
              "#fb9f3a"
             ],
             [
              0.8888888888888888,
              "#fdca26"
             ],
             [
              1,
              "#f0f921"
             ]
            ],
            "type": "contour"
           }
          ],
          "contourcarpet": [
           {
            "colorbar": {
             "outlinewidth": 0,
             "ticks": ""
            },
            "type": "contourcarpet"
           }
          ],
          "heatmap": [
           {
            "colorbar": {
             "outlinewidth": 0,
             "ticks": ""
            },
            "colorscale": [
             [
              0,
              "#0d0887"
             ],
             [
              0.1111111111111111,
              "#46039f"
             ],
             [
              0.2222222222222222,
              "#7201a8"
             ],
             [
              0.3333333333333333,
              "#9c179e"
             ],
             [
              0.4444444444444444,
              "#bd3786"
             ],
             [
              0.5555555555555556,
              "#d8576b"
             ],
             [
              0.6666666666666666,
              "#ed7953"
             ],
             [
              0.7777777777777778,
              "#fb9f3a"
             ],
             [
              0.8888888888888888,
              "#fdca26"
             ],
             [
              1,
              "#f0f921"
             ]
            ],
            "type": "heatmap"
           }
          ],
          "heatmapgl": [
           {
            "colorbar": {
             "outlinewidth": 0,
             "ticks": ""
            },
            "colorscale": [
             [
              0,
              "#0d0887"
             ],
             [
              0.1111111111111111,
              "#46039f"
             ],
             [
              0.2222222222222222,
              "#7201a8"
             ],
             [
              0.3333333333333333,
              "#9c179e"
             ],
             [
              0.4444444444444444,
              "#bd3786"
             ],
             [
              0.5555555555555556,
              "#d8576b"
             ],
             [
              0.6666666666666666,
              "#ed7953"
             ],
             [
              0.7777777777777778,
              "#fb9f3a"
             ],
             [
              0.8888888888888888,
              "#fdca26"
             ],
             [
              1,
              "#f0f921"
             ]
            ],
            "type": "heatmapgl"
           }
          ],
          "histogram": [
           {
            "marker": {
             "pattern": {
              "fillmode": "overlay",
              "size": 10,
              "solidity": 0.2
             }
            },
            "type": "histogram"
           }
          ],
          "histogram2d": [
           {
            "colorbar": {
             "outlinewidth": 0,
             "ticks": ""
            },
            "colorscale": [
             [
              0,
              "#0d0887"
             ],
             [
              0.1111111111111111,
              "#46039f"
             ],
             [
              0.2222222222222222,
              "#7201a8"
             ],
             [
              0.3333333333333333,
              "#9c179e"
             ],
             [
              0.4444444444444444,
              "#bd3786"
             ],
             [
              0.5555555555555556,
              "#d8576b"
             ],
             [
              0.6666666666666666,
              "#ed7953"
             ],
             [
              0.7777777777777778,
              "#fb9f3a"
             ],
             [
              0.8888888888888888,
              "#fdca26"
             ],
             [
              1,
              "#f0f921"
             ]
            ],
            "type": "histogram2d"
           }
          ],
          "histogram2dcontour": [
           {
            "colorbar": {
             "outlinewidth": 0,
             "ticks": ""
            },
            "colorscale": [
             [
              0,
              "#0d0887"
             ],
             [
              0.1111111111111111,
              "#46039f"
             ],
             [
              0.2222222222222222,
              "#7201a8"
             ],
             [
              0.3333333333333333,
              "#9c179e"
             ],
             [
              0.4444444444444444,
              "#bd3786"
             ],
             [
              0.5555555555555556,
              "#d8576b"
             ],
             [
              0.6666666666666666,
              "#ed7953"
             ],
             [
              0.7777777777777778,
              "#fb9f3a"
             ],
             [
              0.8888888888888888,
              "#fdca26"
             ],
             [
              1,
              "#f0f921"
             ]
            ],
            "type": "histogram2dcontour"
           }
          ],
          "mesh3d": [
           {
            "colorbar": {
             "outlinewidth": 0,
             "ticks": ""
            },
            "type": "mesh3d"
           }
          ],
          "parcoords": [
           {
            "line": {
             "colorbar": {
              "outlinewidth": 0,
              "ticks": ""
             }
            },
            "type": "parcoords"
           }
          ],
          "pie": [
           {
            "automargin": true,
            "type": "pie"
           }
          ],
          "scatter": [
           {
            "fillpattern": {
             "fillmode": "overlay",
             "size": 10,
             "solidity": 0.2
            },
            "type": "scatter"
           }
          ],
          "scatter3d": [
           {
            "line": {
             "colorbar": {
              "outlinewidth": 0,
              "ticks": ""
             }
            },
            "marker": {
             "colorbar": {
              "outlinewidth": 0,
              "ticks": ""
             }
            },
            "type": "scatter3d"
           }
          ],
          "scattercarpet": [
           {
            "marker": {
             "colorbar": {
              "outlinewidth": 0,
              "ticks": ""
             }
            },
            "type": "scattercarpet"
           }
          ],
          "scattergeo": [
           {
            "marker": {
             "colorbar": {
              "outlinewidth": 0,
              "ticks": ""
             }
            },
            "type": "scattergeo"
           }
          ],
          "scattergl": [
           {
            "marker": {
             "colorbar": {
              "outlinewidth": 0,
              "ticks": ""
             }
            },
            "type": "scattergl"
           }
          ],
          "scattermapbox": [
           {
            "marker": {
             "colorbar": {
              "outlinewidth": 0,
              "ticks": ""
             }
            },
            "type": "scattermapbox"
           }
          ],
          "scatterpolar": [
           {
            "marker": {
             "colorbar": {
              "outlinewidth": 0,
              "ticks": ""
             }
            },
            "type": "scatterpolar"
           }
          ],
          "scatterpolargl": [
           {
            "marker": {
             "colorbar": {
              "outlinewidth": 0,
              "ticks": ""
             }
            },
            "type": "scatterpolargl"
           }
          ],
          "scatterternary": [
           {
            "marker": {
             "colorbar": {
              "outlinewidth": 0,
              "ticks": ""
             }
            },
            "type": "scatterternary"
           }
          ],
          "surface": [
           {
            "colorbar": {
             "outlinewidth": 0,
             "ticks": ""
            },
            "colorscale": [
             [
              0,
              "#0d0887"
             ],
             [
              0.1111111111111111,
              "#46039f"
             ],
             [
              0.2222222222222222,
              "#7201a8"
             ],
             [
              0.3333333333333333,
              "#9c179e"
             ],
             [
              0.4444444444444444,
              "#bd3786"
             ],
             [
              0.5555555555555556,
              "#d8576b"
             ],
             [
              0.6666666666666666,
              "#ed7953"
             ],
             [
              0.7777777777777778,
              "#fb9f3a"
             ],
             [
              0.8888888888888888,
              "#fdca26"
             ],
             [
              1,
              "#f0f921"
             ]
            ],
            "type": "surface"
           }
          ],
          "table": [
           {
            "cells": {
             "fill": {
              "color": "#EBF0F8"
             },
             "line": {
              "color": "white"
             }
            },
            "header": {
             "fill": {
              "color": "#C8D4E3"
             },
             "line": {
              "color": "white"
             }
            },
            "type": "table"
           }
          ]
         },
         "layout": {
          "annotationdefaults": {
           "arrowcolor": "#2a3f5f",
           "arrowhead": 0,
           "arrowwidth": 1
          },
          "autotypenumbers": "strict",
          "coloraxis": {
           "colorbar": {
            "outlinewidth": 0,
            "ticks": ""
           }
          },
          "colorscale": {
           "diverging": [
            [
             0,
             "#8e0152"
            ],
            [
             0.1,
             "#c51b7d"
            ],
            [
             0.2,
             "#de77ae"
            ],
            [
             0.3,
             "#f1b6da"
            ],
            [
             0.4,
             "#fde0ef"
            ],
            [
             0.5,
             "#f7f7f7"
            ],
            [
             0.6,
             "#e6f5d0"
            ],
            [
             0.7,
             "#b8e186"
            ],
            [
             0.8,
             "#7fbc41"
            ],
            [
             0.9,
             "#4d9221"
            ],
            [
             1,
             "#276419"
            ]
           ],
           "sequential": [
            [
             0,
             "#0d0887"
            ],
            [
             0.1111111111111111,
             "#46039f"
            ],
            [
             0.2222222222222222,
             "#7201a8"
            ],
            [
             0.3333333333333333,
             "#9c179e"
            ],
            [
             0.4444444444444444,
             "#bd3786"
            ],
            [
             0.5555555555555556,
             "#d8576b"
            ],
            [
             0.6666666666666666,
             "#ed7953"
            ],
            [
             0.7777777777777778,
             "#fb9f3a"
            ],
            [
             0.8888888888888888,
             "#fdca26"
            ],
            [
             1,
             "#f0f921"
            ]
           ],
           "sequentialminus": [
            [
             0,
             "#0d0887"
            ],
            [
             0.1111111111111111,
             "#46039f"
            ],
            [
             0.2222222222222222,
             "#7201a8"
            ],
            [
             0.3333333333333333,
             "#9c179e"
            ],
            [
             0.4444444444444444,
             "#bd3786"
            ],
            [
             0.5555555555555556,
             "#d8576b"
            ],
            [
             0.6666666666666666,
             "#ed7953"
            ],
            [
             0.7777777777777778,
             "#fb9f3a"
            ],
            [
             0.8888888888888888,
             "#fdca26"
            ],
            [
             1,
             "#f0f921"
            ]
           ]
          },
          "colorway": [
           "#636efa",
           "#EF553B",
           "#00cc96",
           "#ab63fa",
           "#FFA15A",
           "#19d3f3",
           "#FF6692",
           "#B6E880",
           "#FF97FF",
           "#FECB52"
          ],
          "font": {
           "color": "#2a3f5f"
          },
          "geo": {
           "bgcolor": "white",
           "lakecolor": "white",
           "landcolor": "#E5ECF6",
           "showlakes": true,
           "showland": true,
           "subunitcolor": "white"
          },
          "hoverlabel": {
           "align": "left"
          },
          "hovermode": "closest",
          "mapbox": {
           "style": "light"
          },
          "paper_bgcolor": "white",
          "plot_bgcolor": "#E5ECF6",
          "polar": {
           "angularaxis": {
            "gridcolor": "white",
            "linecolor": "white",
            "ticks": ""
           },
           "bgcolor": "#E5ECF6",
           "radialaxis": {
            "gridcolor": "white",
            "linecolor": "white",
            "ticks": ""
           }
          },
          "scene": {
           "xaxis": {
            "backgroundcolor": "#E5ECF6",
            "gridcolor": "white",
            "gridwidth": 2,
            "linecolor": "white",
            "showbackground": true,
            "ticks": "",
            "zerolinecolor": "white"
           },
           "yaxis": {
            "backgroundcolor": "#E5ECF6",
            "gridcolor": "white",
            "gridwidth": 2,
            "linecolor": "white",
            "showbackground": true,
            "ticks": "",
            "zerolinecolor": "white"
           },
           "zaxis": {
            "backgroundcolor": "#E5ECF6",
            "gridcolor": "white",
            "gridwidth": 2,
            "linecolor": "white",
            "showbackground": true,
            "ticks": "",
            "zerolinecolor": "white"
           }
          },
          "shapedefaults": {
           "line": {
            "color": "#2a3f5f"
           }
          },
          "ternary": {
           "aaxis": {
            "gridcolor": "white",
            "linecolor": "white",
            "ticks": ""
           },
           "baxis": {
            "gridcolor": "white",
            "linecolor": "white",
            "ticks": ""
           },
           "bgcolor": "#E5ECF6",
           "caxis": {
            "gridcolor": "white",
            "linecolor": "white",
            "ticks": ""
           }
          },
          "title": {
           "x": 0.05
          },
          "xaxis": {
           "automargin": true,
           "gridcolor": "white",
           "linecolor": "white",
           "ticks": "",
           "title": {
            "standoff": 15
           },
           "zerolinecolor": "white",
           "zerolinewidth": 2
          },
          "yaxis": {
           "automargin": true,
           "gridcolor": "white",
           "linecolor": "white",
           "ticks": "",
           "title": {
            "standoff": 15
           },
           "zerolinecolor": "white",
           "zerolinewidth": 2
          }
         }
        },
        "title": {
         "font": {
          "color": "#4D5663"
         }
        },
        "xaxis": {
         "gridcolor": "#E1E5ED",
         "showgrid": true,
         "tickfont": {
          "color": "#4D5663"
         },
         "title": {
          "font": {
           "color": "#4D5663"
          },
          "text": ""
         },
         "zerolinecolor": "#E1E5ED"
        },
        "yaxis": {
         "gridcolor": "#E1E5ED",
         "showgrid": true,
         "tickfont": {
          "color": "#4D5663"
         },
         "title": {
          "font": {
           "color": "#4D5663"
          },
          "text": ""
         },
         "zerolinecolor": "#E1E5ED"
        }
       }
      },
      "text/html": [
       "<div>                            <div id=\"fa6e3366-36f0-44ad-bedd-64e4a9c4a408\" class=\"plotly-graph-div\" style=\"height:525px; width:100%;\"></div>            <script type=\"text/javascript\">                require([\"plotly\"], function(Plotly) {                    window.PLOTLYENV=window.PLOTLYENV || {};\n",
       "                    window.PLOTLYENV.BASE_URL='https://plot.ly';                                    if (document.getElementById(\"fa6e3366-36f0-44ad-bedd-64e4a9c4a408\")) {                    Plotly.newPlot(                        \"fa6e3366-36f0-44ad-bedd-64e4a9c4a408\",                        [{\"line\":{\"color\":\"rgba(255, 153, 51, 1.0)\",\"dash\":\"solid\",\"shape\":\"linear\",\"width\":1.3},\"mode\":\"lines\",\"name\":\"2022 Population\",\"text\":\"\",\"x\":[\"Albania\",\"Andorra\",\"Austria\",\"Belarus\",\"Belgium\",\"Bosnia and Herzegovina\",\"Bulgaria\",\"Croatia\",\"Cyprus\",\"Czech Republic\",\"Denmark\",\"Estonia\",\"Faroe Islands\",\"Finland\",\"France\",\"Germany\",\"Gibraltar\",\"Greece\",\"Guernsey\",\"Hungary\",\"Iceland\",\"Ireland\",\"Isle of Man\",\"Italy\",\"Jersey\",\"Latvia\",\"Liechtenstein\",\"Lithuania\",\"Luxembourg\",\"Malta\",\"Moldova\",\"Monaco\",\"Montenegro\",\"Netherlands\",\"North Macedonia\",\"Norway\",\"Poland\",\"Portugal\",\"Romania\",\"Russia\",\"San Marino\",\"Serbia\",\"Slovakia\",\"Slovenia\",\"Spain\",\"Sweden\",\"Switzerland\",\"Ukraine\",\"United Kingdom\",\"Vatican City\"],\"y\":[2842321,79824,8939617,9534954,11655930,3233526,6781953,4030358,1251488,10493986,5882261,1326062,53090,5540745,64626628,83369843,32649,10384971,63301,9967308,372899,5023109,84519,59037474,110778,1850651,39327,2750055,647599,533286,3272996,36469,627082,17564014,2093599,5434319,39857145,10270865,19659267,144713314,33660,7221365,5643453,2119844,47558630,10549347,8740472,39701739,67508936,510],\"type\":\"scatter\"}],                        {\"legend\":{\"bgcolor\":\"#F5F6F9\",\"font\":{\"color\":\"#4D5663\"}},\"paper_bgcolor\":\"#F5F6F9\",\"plot_bgcolor\":\"#F5F6F9\",\"template\":{\"data\":{\"barpolar\":[{\"marker\":{\"line\":{\"color\":\"#E5ECF6\",\"width\":0.5},\"pattern\":{\"fillmode\":\"overlay\",\"size\":10,\"solidity\":0.2}},\"type\":\"barpolar\"}],\"bar\":[{\"error_x\":{\"color\":\"#2a3f5f\"},\"error_y\":{\"color\":\"#2a3f5f\"},\"marker\":{\"line\":{\"color\":\"#E5ECF6\",\"width\":0.5},\"pattern\":{\"fillmode\":\"overlay\",\"size\":10,\"solidity\":0.2}},\"type\":\"bar\"}],\"carpet\":[{\"aaxis\":{\"endlinecolor\":\"#2a3f5f\",\"gridcolor\":\"white\",\"linecolor\":\"white\",\"minorgridcolor\":\"white\",\"startlinecolor\":\"#2a3f5f\"},\"baxis\":{\"endlinecolor\":\"#2a3f5f\",\"gridcolor\":\"white\",\"linecolor\":\"white\",\"minorgridcolor\":\"white\",\"startlinecolor\":\"#2a3f5f\"},\"type\":\"carpet\"}],\"choropleth\":[{\"colorbar\":{\"outlinewidth\":0,\"ticks\":\"\"},\"type\":\"choropleth\"}],\"contourcarpet\":[{\"colorbar\":{\"outlinewidth\":0,\"ticks\":\"\"},\"type\":\"contourcarpet\"}],\"contour\":[{\"colorbar\":{\"outlinewidth\":0,\"ticks\":\"\"},\"colorscale\":[[0.0,\"#0d0887\"],[0.1111111111111111,\"#46039f\"],[0.2222222222222222,\"#7201a8\"],[0.3333333333333333,\"#9c179e\"],[0.4444444444444444,\"#bd3786\"],[0.5555555555555556,\"#d8576b\"],[0.6666666666666666,\"#ed7953\"],[0.7777777777777778,\"#fb9f3a\"],[0.8888888888888888,\"#fdca26\"],[1.0,\"#f0f921\"]],\"type\":\"contour\"}],\"heatmapgl\":[{\"colorbar\":{\"outlinewidth\":0,\"ticks\":\"\"},\"colorscale\":[[0.0,\"#0d0887\"],[0.1111111111111111,\"#46039f\"],[0.2222222222222222,\"#7201a8\"],[0.3333333333333333,\"#9c179e\"],[0.4444444444444444,\"#bd3786\"],[0.5555555555555556,\"#d8576b\"],[0.6666666666666666,\"#ed7953\"],[0.7777777777777778,\"#fb9f3a\"],[0.8888888888888888,\"#fdca26\"],[1.0,\"#f0f921\"]],\"type\":\"heatmapgl\"}],\"heatmap\":[{\"colorbar\":{\"outlinewidth\":0,\"ticks\":\"\"},\"colorscale\":[[0.0,\"#0d0887\"],[0.1111111111111111,\"#46039f\"],[0.2222222222222222,\"#7201a8\"],[0.3333333333333333,\"#9c179e\"],[0.4444444444444444,\"#bd3786\"],[0.5555555555555556,\"#d8576b\"],[0.6666666666666666,\"#ed7953\"],[0.7777777777777778,\"#fb9f3a\"],[0.8888888888888888,\"#fdca26\"],[1.0,\"#f0f921\"]],\"type\":\"heatmap\"}],\"histogram2dcontour\":[{\"colorbar\":{\"outlinewidth\":0,\"ticks\":\"\"},\"colorscale\":[[0.0,\"#0d0887\"],[0.1111111111111111,\"#46039f\"],[0.2222222222222222,\"#7201a8\"],[0.3333333333333333,\"#9c179e\"],[0.4444444444444444,\"#bd3786\"],[0.5555555555555556,\"#d8576b\"],[0.6666666666666666,\"#ed7953\"],[0.7777777777777778,\"#fb9f3a\"],[0.8888888888888888,\"#fdca26\"],[1.0,\"#f0f921\"]],\"type\":\"histogram2dcontour\"}],\"histogram2d\":[{\"colorbar\":{\"outlinewidth\":0,\"ticks\":\"\"},\"colorscale\":[[0.0,\"#0d0887\"],[0.1111111111111111,\"#46039f\"],[0.2222222222222222,\"#7201a8\"],[0.3333333333333333,\"#9c179e\"],[0.4444444444444444,\"#bd3786\"],[0.5555555555555556,\"#d8576b\"],[0.6666666666666666,\"#ed7953\"],[0.7777777777777778,\"#fb9f3a\"],[0.8888888888888888,\"#fdca26\"],[1.0,\"#f0f921\"]],\"type\":\"histogram2d\"}],\"histogram\":[{\"marker\":{\"pattern\":{\"fillmode\":\"overlay\",\"size\":10,\"solidity\":0.2}},\"type\":\"histogram\"}],\"mesh3d\":[{\"colorbar\":{\"outlinewidth\":0,\"ticks\":\"\"},\"type\":\"mesh3d\"}],\"parcoords\":[{\"line\":{\"colorbar\":{\"outlinewidth\":0,\"ticks\":\"\"}},\"type\":\"parcoords\"}],\"pie\":[{\"automargin\":true,\"type\":\"pie\"}],\"scatter3d\":[{\"line\":{\"colorbar\":{\"outlinewidth\":0,\"ticks\":\"\"}},\"marker\":{\"colorbar\":{\"outlinewidth\":0,\"ticks\":\"\"}},\"type\":\"scatter3d\"}],\"scattercarpet\":[{\"marker\":{\"colorbar\":{\"outlinewidth\":0,\"ticks\":\"\"}},\"type\":\"scattercarpet\"}],\"scattergeo\":[{\"marker\":{\"colorbar\":{\"outlinewidth\":0,\"ticks\":\"\"}},\"type\":\"scattergeo\"}],\"scattergl\":[{\"marker\":{\"colorbar\":{\"outlinewidth\":0,\"ticks\":\"\"}},\"type\":\"scattergl\"}],\"scattermapbox\":[{\"marker\":{\"colorbar\":{\"outlinewidth\":0,\"ticks\":\"\"}},\"type\":\"scattermapbox\"}],\"scatterpolargl\":[{\"marker\":{\"colorbar\":{\"outlinewidth\":0,\"ticks\":\"\"}},\"type\":\"scatterpolargl\"}],\"scatterpolar\":[{\"marker\":{\"colorbar\":{\"outlinewidth\":0,\"ticks\":\"\"}},\"type\":\"scatterpolar\"}],\"scatter\":[{\"fillpattern\":{\"fillmode\":\"overlay\",\"size\":10,\"solidity\":0.2},\"type\":\"scatter\"}],\"scatterternary\":[{\"marker\":{\"colorbar\":{\"outlinewidth\":0,\"ticks\":\"\"}},\"type\":\"scatterternary\"}],\"surface\":[{\"colorbar\":{\"outlinewidth\":0,\"ticks\":\"\"},\"colorscale\":[[0.0,\"#0d0887\"],[0.1111111111111111,\"#46039f\"],[0.2222222222222222,\"#7201a8\"],[0.3333333333333333,\"#9c179e\"],[0.4444444444444444,\"#bd3786\"],[0.5555555555555556,\"#d8576b\"],[0.6666666666666666,\"#ed7953\"],[0.7777777777777778,\"#fb9f3a\"],[0.8888888888888888,\"#fdca26\"],[1.0,\"#f0f921\"]],\"type\":\"surface\"}],\"table\":[{\"cells\":{\"fill\":{\"color\":\"#EBF0F8\"},\"line\":{\"color\":\"white\"}},\"header\":{\"fill\":{\"color\":\"#C8D4E3\"},\"line\":{\"color\":\"white\"}},\"type\":\"table\"}]},\"layout\":{\"annotationdefaults\":{\"arrowcolor\":\"#2a3f5f\",\"arrowhead\":0,\"arrowwidth\":1},\"autotypenumbers\":\"strict\",\"coloraxis\":{\"colorbar\":{\"outlinewidth\":0,\"ticks\":\"\"}},\"colorscale\":{\"diverging\":[[0,\"#8e0152\"],[0.1,\"#c51b7d\"],[0.2,\"#de77ae\"],[0.3,\"#f1b6da\"],[0.4,\"#fde0ef\"],[0.5,\"#f7f7f7\"],[0.6,\"#e6f5d0\"],[0.7,\"#b8e186\"],[0.8,\"#7fbc41\"],[0.9,\"#4d9221\"],[1,\"#276419\"]],\"sequential\":[[0.0,\"#0d0887\"],[0.1111111111111111,\"#46039f\"],[0.2222222222222222,\"#7201a8\"],[0.3333333333333333,\"#9c179e\"],[0.4444444444444444,\"#bd3786\"],[0.5555555555555556,\"#d8576b\"],[0.6666666666666666,\"#ed7953\"],[0.7777777777777778,\"#fb9f3a\"],[0.8888888888888888,\"#fdca26\"],[1.0,\"#f0f921\"]],\"sequentialminus\":[[0.0,\"#0d0887\"],[0.1111111111111111,\"#46039f\"],[0.2222222222222222,\"#7201a8\"],[0.3333333333333333,\"#9c179e\"],[0.4444444444444444,\"#bd3786\"],[0.5555555555555556,\"#d8576b\"],[0.6666666666666666,\"#ed7953\"],[0.7777777777777778,\"#fb9f3a\"],[0.8888888888888888,\"#fdca26\"],[1.0,\"#f0f921\"]]},\"colorway\":[\"#636efa\",\"#EF553B\",\"#00cc96\",\"#ab63fa\",\"#FFA15A\",\"#19d3f3\",\"#FF6692\",\"#B6E880\",\"#FF97FF\",\"#FECB52\"],\"font\":{\"color\":\"#2a3f5f\"},\"geo\":{\"bgcolor\":\"white\",\"lakecolor\":\"white\",\"landcolor\":\"#E5ECF6\",\"showlakes\":true,\"showland\":true,\"subunitcolor\":\"white\"},\"hoverlabel\":{\"align\":\"left\"},\"hovermode\":\"closest\",\"mapbox\":{\"style\":\"light\"},\"paper_bgcolor\":\"white\",\"plot_bgcolor\":\"#E5ECF6\",\"polar\":{\"angularaxis\":{\"gridcolor\":\"white\",\"linecolor\":\"white\",\"ticks\":\"\"},\"bgcolor\":\"#E5ECF6\",\"radialaxis\":{\"gridcolor\":\"white\",\"linecolor\":\"white\",\"ticks\":\"\"}},\"scene\":{\"xaxis\":{\"backgroundcolor\":\"#E5ECF6\",\"gridcolor\":\"white\",\"gridwidth\":2,\"linecolor\":\"white\",\"showbackground\":true,\"ticks\":\"\",\"zerolinecolor\":\"white\"},\"yaxis\":{\"backgroundcolor\":\"#E5ECF6\",\"gridcolor\":\"white\",\"gridwidth\":2,\"linecolor\":\"white\",\"showbackground\":true,\"ticks\":\"\",\"zerolinecolor\":\"white\"},\"zaxis\":{\"backgroundcolor\":\"#E5ECF6\",\"gridcolor\":\"white\",\"gridwidth\":2,\"linecolor\":\"white\",\"showbackground\":true,\"ticks\":\"\",\"zerolinecolor\":\"white\"}},\"shapedefaults\":{\"line\":{\"color\":\"#2a3f5f\"}},\"ternary\":{\"aaxis\":{\"gridcolor\":\"white\",\"linecolor\":\"white\",\"ticks\":\"\"},\"baxis\":{\"gridcolor\":\"white\",\"linecolor\":\"white\",\"ticks\":\"\"},\"bgcolor\":\"#E5ECF6\",\"caxis\":{\"gridcolor\":\"white\",\"linecolor\":\"white\",\"ticks\":\"\"}},\"title\":{\"x\":0.05},\"xaxis\":{\"automargin\":true,\"gridcolor\":\"white\",\"linecolor\":\"white\",\"ticks\":\"\",\"title\":{\"standoff\":15},\"zerolinecolor\":\"white\",\"zerolinewidth\":2},\"yaxis\":{\"automargin\":true,\"gridcolor\":\"white\",\"linecolor\":\"white\",\"ticks\":\"\",\"title\":{\"standoff\":15},\"zerolinecolor\":\"white\",\"zerolinewidth\":2}}},\"title\":{\"font\":{\"color\":\"#4D5663\"}},\"xaxis\":{\"gridcolor\":\"#E1E5ED\",\"showgrid\":true,\"tickfont\":{\"color\":\"#4D5663\"},\"title\":{\"font\":{\"color\":\"#4D5663\"},\"text\":\"\"},\"zerolinecolor\":\"#E1E5ED\"},\"yaxis\":{\"gridcolor\":\"#E1E5ED\",\"showgrid\":true,\"tickfont\":{\"color\":\"#4D5663\"},\"title\":{\"font\":{\"color\":\"#4D5663\"},\"text\":\"\"},\"zerolinecolor\":\"#E1E5ED\"}},                        {\"showLink\": true, \"linkText\": \"Export to plot.ly\", \"plotlyServerURL\": \"https://plot.ly\", \"responsive\": true}                    ).then(function(){\n",
       "                            \n",
       "var gd = document.getElementById('fa6e3366-36f0-44ad-bedd-64e4a9c4a408');\n",
       "var x = new MutationObserver(function (mutations, observer) {{\n",
       "        var display = window.getComputedStyle(gd).display;\n",
       "        if (!display || display === 'none') {{\n",
       "            console.log([gd, 'removed!']);\n",
       "            Plotly.purge(gd);\n",
       "            observer.disconnect();\n",
       "        }}\n",
       "}});\n",
       "\n",
       "// Listen for the removal of the full notebook cells\n",
       "var notebookContainer = gd.closest('#notebook-container');\n",
       "if (notebookContainer) {{\n",
       "    x.observe(notebookContainer, {childList: true});\n",
       "}}\n",
       "\n",
       "// Listen for the clearing of the current output cell\n",
       "var outputEl = gd.closest('.output');\n",
       "if (outputEl) {{\n",
       "    x.observe(outputEl, {childList: true});\n",
       "}}\n",
       "\n",
       "                        })                };                });            </script>        </div>"
      ]
     },
     "metadata": {},
     "output_type": "display_data"
    }
   ],
   "source": [
    "europe_con.iplot(x = \"Country/Territory\",y = \"2022 Population\")"
   ]
  },
  {
   "cell_type": "code",
   "execution_count": 28,
   "id": "6eb3c4c0",
   "metadata": {},
   "outputs": [
    {
     "data": {
      "text/html": [
       "<div>\n",
       "<style scoped>\n",
       "    .dataframe tbody tr th:only-of-type {\n",
       "        vertical-align: middle;\n",
       "    }\n",
       "\n",
       "    .dataframe tbody tr th {\n",
       "        vertical-align: top;\n",
       "    }\n",
       "\n",
       "    .dataframe thead th {\n",
       "        text-align: right;\n",
       "    }\n",
       "</style>\n",
       "<table border=\"1\" class=\"dataframe\">\n",
       "  <thead>\n",
       "    <tr style=\"text-align: right;\">\n",
       "      <th></th>\n",
       "      <th>Rank</th>\n",
       "      <th>Country/Territory</th>\n",
       "      <th>Continent</th>\n",
       "      <th>2022 Population</th>\n",
       "      <th>2020 Population</th>\n",
       "      <th>2015 Population</th>\n",
       "      <th>2010 Population</th>\n",
       "      <th>2000 Population</th>\n",
       "      <th>1990 Population</th>\n",
       "      <th>1980 Population</th>\n",
       "      <th>1970 Population</th>\n",
       "      <th>Area</th>\n",
       "      <th>Density</th>\n",
       "      <th>Growth Rate</th>\n",
       "      <th>World Population Percentage</th>\n",
       "    </tr>\n",
       "  </thead>\n",
       "  <tbody>\n",
       "    <tr>\n",
       "      <th>41</th>\n",
       "      <td>1</td>\n",
       "      <td>China</td>\n",
       "      <td>Asia</td>\n",
       "      <td>1425887337</td>\n",
       "      <td>1424929781</td>\n",
       "      <td>1393715448</td>\n",
       "      <td>1348191368</td>\n",
       "      <td>1264099069</td>\n",
       "      <td>1153704252</td>\n",
       "      <td>982372466</td>\n",
       "      <td>822534450</td>\n",
       "      <td>9706961</td>\n",
       "      <td>146.8933</td>\n",
       "      <td>1.0000</td>\n",
       "      <td>17.88</td>\n",
       "    </tr>\n",
       "    <tr>\n",
       "      <th>92</th>\n",
       "      <td>2</td>\n",
       "      <td>India</td>\n",
       "      <td>Asia</td>\n",
       "      <td>1417173173</td>\n",
       "      <td>1396387127</td>\n",
       "      <td>1322866505</td>\n",
       "      <td>1240613620</td>\n",
       "      <td>1059633675</td>\n",
       "      <td>870452165</td>\n",
       "      <td>696828385</td>\n",
       "      <td>557501301</td>\n",
       "      <td>3287590</td>\n",
       "      <td>431.0675</td>\n",
       "      <td>1.0068</td>\n",
       "      <td>17.77</td>\n",
       "    </tr>\n",
       "    <tr>\n",
       "      <th>93</th>\n",
       "      <td>4</td>\n",
       "      <td>Indonesia</td>\n",
       "      <td>Asia</td>\n",
       "      <td>275501339</td>\n",
       "      <td>271857970</td>\n",
       "      <td>259091970</td>\n",
       "      <td>244016173</td>\n",
       "      <td>214072421</td>\n",
       "      <td>182159874</td>\n",
       "      <td>148177096</td>\n",
       "      <td>115228394</td>\n",
       "      <td>1904569</td>\n",
       "      <td>144.6529</td>\n",
       "      <td>1.0064</td>\n",
       "      <td>3.45</td>\n",
       "    </tr>\n",
       "    <tr>\n",
       "      <th>156</th>\n",
       "      <td>5</td>\n",
       "      <td>Pakistan</td>\n",
       "      <td>Asia</td>\n",
       "      <td>235824862</td>\n",
       "      <td>227196741</td>\n",
       "      <td>210969298</td>\n",
       "      <td>194454498</td>\n",
       "      <td>154369924</td>\n",
       "      <td>115414069</td>\n",
       "      <td>80624057</td>\n",
       "      <td>59290872</td>\n",
       "      <td>881912</td>\n",
       "      <td>267.4018</td>\n",
       "      <td>1.0191</td>\n",
       "      <td>2.96</td>\n",
       "    </tr>\n",
       "    <tr>\n",
       "      <th>16</th>\n",
       "      <td>8</td>\n",
       "      <td>Bangladesh</td>\n",
       "      <td>Asia</td>\n",
       "      <td>171186372</td>\n",
       "      <td>167420951</td>\n",
       "      <td>157830000</td>\n",
       "      <td>148391139</td>\n",
       "      <td>129193327</td>\n",
       "      <td>107147651</td>\n",
       "      <td>83929765</td>\n",
       "      <td>67541860</td>\n",
       "      <td>147570</td>\n",
       "      <td>1160.0350</td>\n",
       "      <td>1.0108</td>\n",
       "      <td>2.15</td>\n",
       "    </tr>\n",
       "    <tr>\n",
       "      <th>102</th>\n",
       "      <td>11</td>\n",
       "      <td>Japan</td>\n",
       "      <td>Asia</td>\n",
       "      <td>123951692</td>\n",
       "      <td>125244761</td>\n",
       "      <td>127250933</td>\n",
       "      <td>128105431</td>\n",
       "      <td>126803861</td>\n",
       "      <td>123686321</td>\n",
       "      <td>117624196</td>\n",
       "      <td>105416839</td>\n",
       "      <td>377930</td>\n",
       "      <td>327.9753</td>\n",
       "      <td>0.9947</td>\n",
       "      <td>1.55</td>\n",
       "    </tr>\n",
       "    <tr>\n",
       "      <th>163</th>\n",
       "      <td>13</td>\n",
       "      <td>Philippines</td>\n",
       "      <td>Asia</td>\n",
       "      <td>115559009</td>\n",
       "      <td>112190977</td>\n",
       "      <td>103031365</td>\n",
       "      <td>94636700</td>\n",
       "      <td>77958223</td>\n",
       "      <td>61558898</td>\n",
       "      <td>48419546</td>\n",
       "      <td>37435586</td>\n",
       "      <td>342353</td>\n",
       "      <td>337.5434</td>\n",
       "      <td>1.0147</td>\n",
       "      <td>1.45</td>\n",
       "    </tr>\n",
       "    <tr>\n",
       "      <th>228</th>\n",
       "      <td>16</td>\n",
       "      <td>Vietnam</td>\n",
       "      <td>Asia</td>\n",
       "      <td>98186856</td>\n",
       "      <td>96648685</td>\n",
       "      <td>92191398</td>\n",
       "      <td>87411012</td>\n",
       "      <td>79001142</td>\n",
       "      <td>66912613</td>\n",
       "      <td>52968270</td>\n",
       "      <td>41928849</td>\n",
       "      <td>331212</td>\n",
       "      <td>296.4472</td>\n",
       "      <td>1.0074</td>\n",
       "      <td>1.23</td>\n",
       "    </tr>\n",
       "    <tr>\n",
       "      <th>94</th>\n",
       "      <td>17</td>\n",
       "      <td>Iran</td>\n",
       "      <td>Asia</td>\n",
       "      <td>88550570</td>\n",
       "      <td>87290193</td>\n",
       "      <td>81790841</td>\n",
       "      <td>75373855</td>\n",
       "      <td>65544383</td>\n",
       "      <td>55793629</td>\n",
       "      <td>38520664</td>\n",
       "      <td>28449705</td>\n",
       "      <td>1648195</td>\n",
       "      <td>53.7258</td>\n",
       "      <td>1.0071</td>\n",
       "      <td>1.11</td>\n",
       "    </tr>\n",
       "    <tr>\n",
       "      <th>213</th>\n",
       "      <td>18</td>\n",
       "      <td>Turkey</td>\n",
       "      <td>Asia</td>\n",
       "      <td>85341241</td>\n",
       "      <td>84135428</td>\n",
       "      <td>79646178</td>\n",
       "      <td>73195345</td>\n",
       "      <td>64113547</td>\n",
       "      <td>54324142</td>\n",
       "      <td>44089069</td>\n",
       "      <td>35540990</td>\n",
       "      <td>783562</td>\n",
       "      <td>108.9145</td>\n",
       "      <td>1.0067</td>\n",
       "      <td>1.07</td>\n",
       "    </tr>\n",
       "  </tbody>\n",
       "</table>\n",
       "</div>"
      ],
      "text/plain": [
       "     Rank Country/Territory Continent  2022 Population  2020 Population  \\\n",
       "41      1             China      Asia       1425887337       1424929781   \n",
       "92      2             India      Asia       1417173173       1396387127   \n",
       "93      4         Indonesia      Asia        275501339        271857970   \n",
       "156     5          Pakistan      Asia        235824862        227196741   \n",
       "16      8        Bangladesh      Asia        171186372        167420951   \n",
       "102    11             Japan      Asia        123951692        125244761   \n",
       "163    13       Philippines      Asia        115559009        112190977   \n",
       "228    16           Vietnam      Asia         98186856         96648685   \n",
       "94     17              Iran      Asia         88550570         87290193   \n",
       "213    18            Turkey      Asia         85341241         84135428   \n",
       "\n",
       "     2015 Population  2010 Population  2000 Population  1990 Population  \\\n",
       "41        1393715448       1348191368       1264099069       1153704252   \n",
       "92        1322866505       1240613620       1059633675        870452165   \n",
       "93         259091970        244016173        214072421        182159874   \n",
       "156        210969298        194454498        154369924        115414069   \n",
       "16         157830000        148391139        129193327        107147651   \n",
       "102        127250933        128105431        126803861        123686321   \n",
       "163        103031365         94636700         77958223         61558898   \n",
       "228         92191398         87411012         79001142         66912613   \n",
       "94          81790841         75373855         65544383         55793629   \n",
       "213         79646178         73195345         64113547         54324142   \n",
       "\n",
       "     1980 Population  1970 Population     Area    Density  Growth Rate  \\\n",
       "41         982372466        822534450  9706961   146.8933       1.0000   \n",
       "92         696828385        557501301  3287590   431.0675       1.0068   \n",
       "93         148177096        115228394  1904569   144.6529       1.0064   \n",
       "156         80624057         59290872   881912   267.4018       1.0191   \n",
       "16          83929765         67541860   147570  1160.0350       1.0108   \n",
       "102        117624196        105416839   377930   327.9753       0.9947   \n",
       "163         48419546         37435586   342353   337.5434       1.0147   \n",
       "228         52968270         41928849   331212   296.4472       1.0074   \n",
       "94          38520664         28449705  1648195    53.7258       1.0071   \n",
       "213         44089069         35540990   783562   108.9145       1.0067   \n",
       "\n",
       "     World Population Percentage  \n",
       "41                         17.88  \n",
       "92                         17.77  \n",
       "93                          3.45  \n",
       "156                         2.96  \n",
       "16                          2.15  \n",
       "102                         1.55  \n",
       "163                         1.45  \n",
       "228                         1.23  \n",
       "94                          1.11  \n",
       "213                         1.07  "
      ]
     },
     "execution_count": 28,
     "metadata": {},
     "output_type": "execute_result"
    }
   ],
   "source": [
    "asia_con.nlargest(10,'2022 Population')"
   ]
  },
  {
   "cell_type": "code",
   "execution_count": 29,
   "id": "edf36a3b",
   "metadata": {},
   "outputs": [
    {
     "data": {
      "text/html": [
       "<div>\n",
       "<style scoped>\n",
       "    .dataframe tbody tr th:only-of-type {\n",
       "        vertical-align: middle;\n",
       "    }\n",
       "\n",
       "    .dataframe tbody tr th {\n",
       "        vertical-align: top;\n",
       "    }\n",
       "\n",
       "    .dataframe thead th {\n",
       "        text-align: right;\n",
       "    }\n",
       "</style>\n",
       "<table border=\"1\" class=\"dataframe\">\n",
       "  <thead>\n",
       "    <tr style=\"text-align: right;\">\n",
       "      <th></th>\n",
       "      <th>Rank</th>\n",
       "      <th>Country/Territory</th>\n",
       "      <th>Continent</th>\n",
       "      <th>2022 Population</th>\n",
       "      <th>2020 Population</th>\n",
       "      <th>2015 Population</th>\n",
       "      <th>2010 Population</th>\n",
       "      <th>2000 Population</th>\n",
       "      <th>1990 Population</th>\n",
       "      <th>1980 Population</th>\n",
       "      <th>1970 Population</th>\n",
       "      <th>Area</th>\n",
       "      <th>Density</th>\n",
       "      <th>Growth Rate</th>\n",
       "      <th>World Population Percentage</th>\n",
       "    </tr>\n",
       "  </thead>\n",
       "  <tbody>\n",
       "    <tr>\n",
       "      <th>171</th>\n",
       "      <td>9</td>\n",
       "      <td>Russia</td>\n",
       "      <td>Europe</td>\n",
       "      <td>144713314</td>\n",
       "      <td>145617329</td>\n",
       "      <td>144668389</td>\n",
       "      <td>143242599</td>\n",
       "      <td>146844839</td>\n",
       "      <td>148005704</td>\n",
       "      <td>138257420</td>\n",
       "      <td>130093010</td>\n",
       "      <td>17098242</td>\n",
       "      <td>8.4636</td>\n",
       "      <td>0.9973</td>\n",
       "      <td>1.81</td>\n",
       "    </tr>\n",
       "    <tr>\n",
       "      <th>74</th>\n",
       "      <td>19</td>\n",
       "      <td>Germany</td>\n",
       "      <td>Europe</td>\n",
       "      <td>83369843</td>\n",
       "      <td>83328988</td>\n",
       "      <td>82073226</td>\n",
       "      <td>81325090</td>\n",
       "      <td>81551677</td>\n",
       "      <td>79370196</td>\n",
       "      <td>77786703</td>\n",
       "      <td>78294583</td>\n",
       "      <td>357114</td>\n",
       "      <td>233.4544</td>\n",
       "      <td>0.9995</td>\n",
       "      <td>1.05</td>\n",
       "    </tr>\n",
       "    <tr>\n",
       "      <th>220</th>\n",
       "      <td>21</td>\n",
       "      <td>United Kingdom</td>\n",
       "      <td>Europe</td>\n",
       "      <td>67508936</td>\n",
       "      <td>67059474</td>\n",
       "      <td>65224364</td>\n",
       "      <td>62760039</td>\n",
       "      <td>58850043</td>\n",
       "      <td>57210442</td>\n",
       "      <td>56326328</td>\n",
       "      <td>55650166</td>\n",
       "      <td>242900</td>\n",
       "      <td>277.9289</td>\n",
       "      <td>1.0034</td>\n",
       "      <td>0.85</td>\n",
       "    </tr>\n",
       "    <tr>\n",
       "      <th>68</th>\n",
       "      <td>23</td>\n",
       "      <td>France</td>\n",
       "      <td>Europe</td>\n",
       "      <td>64626628</td>\n",
       "      <td>64480053</td>\n",
       "      <td>63809769</td>\n",
       "      <td>62444567</td>\n",
       "      <td>58665453</td>\n",
       "      <td>56412897</td>\n",
       "      <td>53713830</td>\n",
       "      <td>50523586</td>\n",
       "      <td>551695</td>\n",
       "      <td>117.1419</td>\n",
       "      <td>1.0015</td>\n",
       "      <td>0.81</td>\n",
       "    </tr>\n",
       "    <tr>\n",
       "      <th>99</th>\n",
       "      <td>25</td>\n",
       "      <td>Italy</td>\n",
       "      <td>Europe</td>\n",
       "      <td>59037474</td>\n",
       "      <td>59500579</td>\n",
       "      <td>60232906</td>\n",
       "      <td>59822450</td>\n",
       "      <td>56966397</td>\n",
       "      <td>56756561</td>\n",
       "      <td>56329482</td>\n",
       "      <td>53324036</td>\n",
       "      <td>301336</td>\n",
       "      <td>195.9191</td>\n",
       "      <td>0.9966</td>\n",
       "      <td>0.74</td>\n",
       "    </tr>\n",
       "    <tr>\n",
       "      <th>196</th>\n",
       "      <td>30</td>\n",
       "      <td>Spain</td>\n",
       "      <td>Europe</td>\n",
       "      <td>47558630</td>\n",
       "      <td>47363807</td>\n",
       "      <td>46431342</td>\n",
       "      <td>46572772</td>\n",
       "      <td>40741651</td>\n",
       "      <td>38889889</td>\n",
       "      <td>37491666</td>\n",
       "      <td>33792617</td>\n",
       "      <td>505992</td>\n",
       "      <td>93.9909</td>\n",
       "      <td>1.0015</td>\n",
       "      <td>0.60</td>\n",
       "    </tr>\n",
       "    <tr>\n",
       "      <th>164</th>\n",
       "      <td>37</td>\n",
       "      <td>Poland</td>\n",
       "      <td>Europe</td>\n",
       "      <td>39857145</td>\n",
       "      <td>38428366</td>\n",
       "      <td>38553146</td>\n",
       "      <td>38597353</td>\n",
       "      <td>38504431</td>\n",
       "      <td>38064255</td>\n",
       "      <td>35521429</td>\n",
       "      <td>32482943</td>\n",
       "      <td>312679</td>\n",
       "      <td>127.4698</td>\n",
       "      <td>1.0404</td>\n",
       "      <td>0.50</td>\n",
       "    </tr>\n",
       "    <tr>\n",
       "      <th>218</th>\n",
       "      <td>38</td>\n",
       "      <td>Ukraine</td>\n",
       "      <td>Europe</td>\n",
       "      <td>39701739</td>\n",
       "      <td>43909666</td>\n",
       "      <td>44982564</td>\n",
       "      <td>45683020</td>\n",
       "      <td>48879755</td>\n",
       "      <td>51589817</td>\n",
       "      <td>49973920</td>\n",
       "      <td>47279086</td>\n",
       "      <td>603500</td>\n",
       "      <td>65.7858</td>\n",
       "      <td>0.9120</td>\n",
       "      <td>0.50</td>\n",
       "    </tr>\n",
       "    <tr>\n",
       "      <th>170</th>\n",
       "      <td>64</td>\n",
       "      <td>Romania</td>\n",
       "      <td>Europe</td>\n",
       "      <td>19659267</td>\n",
       "      <td>19442038</td>\n",
       "      <td>19906079</td>\n",
       "      <td>20335211</td>\n",
       "      <td>21919876</td>\n",
       "      <td>22836234</td>\n",
       "      <td>22125224</td>\n",
       "      <td>19922618</td>\n",
       "      <td>238391</td>\n",
       "      <td>82.4665</td>\n",
       "      <td>1.0171</td>\n",
       "      <td>0.25</td>\n",
       "    </tr>\n",
       "    <tr>\n",
       "      <th>144</th>\n",
       "      <td>71</td>\n",
       "      <td>Netherlands</td>\n",
       "      <td>Europe</td>\n",
       "      <td>17564014</td>\n",
       "      <td>17434557</td>\n",
       "      <td>17041107</td>\n",
       "      <td>16617116</td>\n",
       "      <td>15899135</td>\n",
       "      <td>14944548</td>\n",
       "      <td>14130387</td>\n",
       "      <td>13037686</td>\n",
       "      <td>41850</td>\n",
       "      <td>419.6897</td>\n",
       "      <td>1.0036</td>\n",
       "      <td>0.22</td>\n",
       "    </tr>\n",
       "  </tbody>\n",
       "</table>\n",
       "</div>"
      ],
      "text/plain": [
       "     Rank Country/Territory Continent  2022 Population  2020 Population  \\\n",
       "171     9            Russia    Europe        144713314        145617329   \n",
       "74     19           Germany    Europe         83369843         83328988   \n",
       "220    21    United Kingdom    Europe         67508936         67059474   \n",
       "68     23            France    Europe         64626628         64480053   \n",
       "99     25             Italy    Europe         59037474         59500579   \n",
       "196    30             Spain    Europe         47558630         47363807   \n",
       "164    37            Poland    Europe         39857145         38428366   \n",
       "218    38           Ukraine    Europe         39701739         43909666   \n",
       "170    64           Romania    Europe         19659267         19442038   \n",
       "144    71       Netherlands    Europe         17564014         17434557   \n",
       "\n",
       "     2015 Population  2010 Population  2000 Population  1990 Population  \\\n",
       "171        144668389        143242599        146844839        148005704   \n",
       "74          82073226         81325090         81551677         79370196   \n",
       "220         65224364         62760039         58850043         57210442   \n",
       "68          63809769         62444567         58665453         56412897   \n",
       "99          60232906         59822450         56966397         56756561   \n",
       "196         46431342         46572772         40741651         38889889   \n",
       "164         38553146         38597353         38504431         38064255   \n",
       "218         44982564         45683020         48879755         51589817   \n",
       "170         19906079         20335211         21919876         22836234   \n",
       "144         17041107         16617116         15899135         14944548   \n",
       "\n",
       "     1980 Population  1970 Population      Area   Density  Growth Rate  \\\n",
       "171        138257420        130093010  17098242    8.4636       0.9973   \n",
       "74          77786703         78294583    357114  233.4544       0.9995   \n",
       "220         56326328         55650166    242900  277.9289       1.0034   \n",
       "68          53713830         50523586    551695  117.1419       1.0015   \n",
       "99          56329482         53324036    301336  195.9191       0.9966   \n",
       "196         37491666         33792617    505992   93.9909       1.0015   \n",
       "164         35521429         32482943    312679  127.4698       1.0404   \n",
       "218         49973920         47279086    603500   65.7858       0.9120   \n",
       "170         22125224         19922618    238391   82.4665       1.0171   \n",
       "144         14130387         13037686     41850  419.6897       1.0036   \n",
       "\n",
       "     World Population Percentage  \n",
       "171                         1.81  \n",
       "74                          1.05  \n",
       "220                         0.85  \n",
       "68                          0.81  \n",
       "99                          0.74  \n",
       "196                         0.60  \n",
       "164                         0.50  \n",
       "218                         0.50  \n",
       "170                         0.25  \n",
       "144                         0.22  "
      ]
     },
     "execution_count": 29,
     "metadata": {},
     "output_type": "execute_result"
    }
   ],
   "source": [
    "eur_large  = europe_con.nlargest(10,'2022 Population')\n",
    "eur_large"
   ]
  },
  {
   "cell_type": "code",
   "execution_count": 30,
   "id": "a5dcd601",
   "metadata": {},
   "outputs": [
    {
     "data": {
      "application/vnd.plotly.v1+json": {
       "config": {
        "linkText": "Export to plot.ly",
        "plotlyServerURL": "https://plot.ly",
        "showLink": true
       },
       "data": [
        {
         "marker": {
          "color": "rgba(55, 128, 191, 0.6)",
          "line": {
           "color": "rgba(55, 128, 191, 1.0)",
           "width": 1
          }
         },
         "name": "2022 Population",
         "orientation": "v",
         "text": "",
         "type": "bar",
         "x": [
          "Russia",
          "Germany",
          "United Kingdom",
          "France",
          "Italy",
          "Spain",
          "Poland",
          "Ukraine",
          "Romania",
          "Netherlands"
         ],
         "y": [
          144713314,
          83369843,
          67508936,
          64626628,
          59037474,
          47558630,
          39857145,
          39701739,
          19659267,
          17564014
         ]
        }
       ],
       "layout": {
        "legend": {
         "bgcolor": "#F5F6F9",
         "font": {
          "color": "#4D5663"
         }
        },
        "paper_bgcolor": "#F5F6F9",
        "plot_bgcolor": "#F5F6F9",
        "template": {
         "data": {
          "bar": [
           {
            "error_x": {
             "color": "#2a3f5f"
            },
            "error_y": {
             "color": "#2a3f5f"
            },
            "marker": {
             "line": {
              "color": "#E5ECF6",
              "width": 0.5
             },
             "pattern": {
              "fillmode": "overlay",
              "size": 10,
              "solidity": 0.2
             }
            },
            "type": "bar"
           }
          ],
          "barpolar": [
           {
            "marker": {
             "line": {
              "color": "#E5ECF6",
              "width": 0.5
             },
             "pattern": {
              "fillmode": "overlay",
              "size": 10,
              "solidity": 0.2
             }
            },
            "type": "barpolar"
           }
          ],
          "carpet": [
           {
            "aaxis": {
             "endlinecolor": "#2a3f5f",
             "gridcolor": "white",
             "linecolor": "white",
             "minorgridcolor": "white",
             "startlinecolor": "#2a3f5f"
            },
            "baxis": {
             "endlinecolor": "#2a3f5f",
             "gridcolor": "white",
             "linecolor": "white",
             "minorgridcolor": "white",
             "startlinecolor": "#2a3f5f"
            },
            "type": "carpet"
           }
          ],
          "choropleth": [
           {
            "colorbar": {
             "outlinewidth": 0,
             "ticks": ""
            },
            "type": "choropleth"
           }
          ],
          "contour": [
           {
            "colorbar": {
             "outlinewidth": 0,
             "ticks": ""
            },
            "colorscale": [
             [
              0,
              "#0d0887"
             ],
             [
              0.1111111111111111,
              "#46039f"
             ],
             [
              0.2222222222222222,
              "#7201a8"
             ],
             [
              0.3333333333333333,
              "#9c179e"
             ],
             [
              0.4444444444444444,
              "#bd3786"
             ],
             [
              0.5555555555555556,
              "#d8576b"
             ],
             [
              0.6666666666666666,
              "#ed7953"
             ],
             [
              0.7777777777777778,
              "#fb9f3a"
             ],
             [
              0.8888888888888888,
              "#fdca26"
             ],
             [
              1,
              "#f0f921"
             ]
            ],
            "type": "contour"
           }
          ],
          "contourcarpet": [
           {
            "colorbar": {
             "outlinewidth": 0,
             "ticks": ""
            },
            "type": "contourcarpet"
           }
          ],
          "heatmap": [
           {
            "colorbar": {
             "outlinewidth": 0,
             "ticks": ""
            },
            "colorscale": [
             [
              0,
              "#0d0887"
             ],
             [
              0.1111111111111111,
              "#46039f"
             ],
             [
              0.2222222222222222,
              "#7201a8"
             ],
             [
              0.3333333333333333,
              "#9c179e"
             ],
             [
              0.4444444444444444,
              "#bd3786"
             ],
             [
              0.5555555555555556,
              "#d8576b"
             ],
             [
              0.6666666666666666,
              "#ed7953"
             ],
             [
              0.7777777777777778,
              "#fb9f3a"
             ],
             [
              0.8888888888888888,
              "#fdca26"
             ],
             [
              1,
              "#f0f921"
             ]
            ],
            "type": "heatmap"
           }
          ],
          "heatmapgl": [
           {
            "colorbar": {
             "outlinewidth": 0,
             "ticks": ""
            },
            "colorscale": [
             [
              0,
              "#0d0887"
             ],
             [
              0.1111111111111111,
              "#46039f"
             ],
             [
              0.2222222222222222,
              "#7201a8"
             ],
             [
              0.3333333333333333,
              "#9c179e"
             ],
             [
              0.4444444444444444,
              "#bd3786"
             ],
             [
              0.5555555555555556,
              "#d8576b"
             ],
             [
              0.6666666666666666,
              "#ed7953"
             ],
             [
              0.7777777777777778,
              "#fb9f3a"
             ],
             [
              0.8888888888888888,
              "#fdca26"
             ],
             [
              1,
              "#f0f921"
             ]
            ],
            "type": "heatmapgl"
           }
          ],
          "histogram": [
           {
            "marker": {
             "pattern": {
              "fillmode": "overlay",
              "size": 10,
              "solidity": 0.2
             }
            },
            "type": "histogram"
           }
          ],
          "histogram2d": [
           {
            "colorbar": {
             "outlinewidth": 0,
             "ticks": ""
            },
            "colorscale": [
             [
              0,
              "#0d0887"
             ],
             [
              0.1111111111111111,
              "#46039f"
             ],
             [
              0.2222222222222222,
              "#7201a8"
             ],
             [
              0.3333333333333333,
              "#9c179e"
             ],
             [
              0.4444444444444444,
              "#bd3786"
             ],
             [
              0.5555555555555556,
              "#d8576b"
             ],
             [
              0.6666666666666666,
              "#ed7953"
             ],
             [
              0.7777777777777778,
              "#fb9f3a"
             ],
             [
              0.8888888888888888,
              "#fdca26"
             ],
             [
              1,
              "#f0f921"
             ]
            ],
            "type": "histogram2d"
           }
          ],
          "histogram2dcontour": [
           {
            "colorbar": {
             "outlinewidth": 0,
             "ticks": ""
            },
            "colorscale": [
             [
              0,
              "#0d0887"
             ],
             [
              0.1111111111111111,
              "#46039f"
             ],
             [
              0.2222222222222222,
              "#7201a8"
             ],
             [
              0.3333333333333333,
              "#9c179e"
             ],
             [
              0.4444444444444444,
              "#bd3786"
             ],
             [
              0.5555555555555556,
              "#d8576b"
             ],
             [
              0.6666666666666666,
              "#ed7953"
             ],
             [
              0.7777777777777778,
              "#fb9f3a"
             ],
             [
              0.8888888888888888,
              "#fdca26"
             ],
             [
              1,
              "#f0f921"
             ]
            ],
            "type": "histogram2dcontour"
           }
          ],
          "mesh3d": [
           {
            "colorbar": {
             "outlinewidth": 0,
             "ticks": ""
            },
            "type": "mesh3d"
           }
          ],
          "parcoords": [
           {
            "line": {
             "colorbar": {
              "outlinewidth": 0,
              "ticks": ""
             }
            },
            "type": "parcoords"
           }
          ],
          "pie": [
           {
            "automargin": true,
            "type": "pie"
           }
          ],
          "scatter": [
           {
            "fillpattern": {
             "fillmode": "overlay",
             "size": 10,
             "solidity": 0.2
            },
            "type": "scatter"
           }
          ],
          "scatter3d": [
           {
            "line": {
             "colorbar": {
              "outlinewidth": 0,
              "ticks": ""
             }
            },
            "marker": {
             "colorbar": {
              "outlinewidth": 0,
              "ticks": ""
             }
            },
            "type": "scatter3d"
           }
          ],
          "scattercarpet": [
           {
            "marker": {
             "colorbar": {
              "outlinewidth": 0,
              "ticks": ""
             }
            },
            "type": "scattercarpet"
           }
          ],
          "scattergeo": [
           {
            "marker": {
             "colorbar": {
              "outlinewidth": 0,
              "ticks": ""
             }
            },
            "type": "scattergeo"
           }
          ],
          "scattergl": [
           {
            "marker": {
             "colorbar": {
              "outlinewidth": 0,
              "ticks": ""
             }
            },
            "type": "scattergl"
           }
          ],
          "scattermapbox": [
           {
            "marker": {
             "colorbar": {
              "outlinewidth": 0,
              "ticks": ""
             }
            },
            "type": "scattermapbox"
           }
          ],
          "scatterpolar": [
           {
            "marker": {
             "colorbar": {
              "outlinewidth": 0,
              "ticks": ""
             }
            },
            "type": "scatterpolar"
           }
          ],
          "scatterpolargl": [
           {
            "marker": {
             "colorbar": {
              "outlinewidth": 0,
              "ticks": ""
             }
            },
            "type": "scatterpolargl"
           }
          ],
          "scatterternary": [
           {
            "marker": {
             "colorbar": {
              "outlinewidth": 0,
              "ticks": ""
             }
            },
            "type": "scatterternary"
           }
          ],
          "surface": [
           {
            "colorbar": {
             "outlinewidth": 0,
             "ticks": ""
            },
            "colorscale": [
             [
              0,
              "#0d0887"
             ],
             [
              0.1111111111111111,
              "#46039f"
             ],
             [
              0.2222222222222222,
              "#7201a8"
             ],
             [
              0.3333333333333333,
              "#9c179e"
             ],
             [
              0.4444444444444444,
              "#bd3786"
             ],
             [
              0.5555555555555556,
              "#d8576b"
             ],
             [
              0.6666666666666666,
              "#ed7953"
             ],
             [
              0.7777777777777778,
              "#fb9f3a"
             ],
             [
              0.8888888888888888,
              "#fdca26"
             ],
             [
              1,
              "#f0f921"
             ]
            ],
            "type": "surface"
           }
          ],
          "table": [
           {
            "cells": {
             "fill": {
              "color": "#EBF0F8"
             },
             "line": {
              "color": "white"
             }
            },
            "header": {
             "fill": {
              "color": "#C8D4E3"
             },
             "line": {
              "color": "white"
             }
            },
            "type": "table"
           }
          ]
         },
         "layout": {
          "annotationdefaults": {
           "arrowcolor": "#2a3f5f",
           "arrowhead": 0,
           "arrowwidth": 1
          },
          "autotypenumbers": "strict",
          "coloraxis": {
           "colorbar": {
            "outlinewidth": 0,
            "ticks": ""
           }
          },
          "colorscale": {
           "diverging": [
            [
             0,
             "#8e0152"
            ],
            [
             0.1,
             "#c51b7d"
            ],
            [
             0.2,
             "#de77ae"
            ],
            [
             0.3,
             "#f1b6da"
            ],
            [
             0.4,
             "#fde0ef"
            ],
            [
             0.5,
             "#f7f7f7"
            ],
            [
             0.6,
             "#e6f5d0"
            ],
            [
             0.7,
             "#b8e186"
            ],
            [
             0.8,
             "#7fbc41"
            ],
            [
             0.9,
             "#4d9221"
            ],
            [
             1,
             "#276419"
            ]
           ],
           "sequential": [
            [
             0,
             "#0d0887"
            ],
            [
             0.1111111111111111,
             "#46039f"
            ],
            [
             0.2222222222222222,
             "#7201a8"
            ],
            [
             0.3333333333333333,
             "#9c179e"
            ],
            [
             0.4444444444444444,
             "#bd3786"
            ],
            [
             0.5555555555555556,
             "#d8576b"
            ],
            [
             0.6666666666666666,
             "#ed7953"
            ],
            [
             0.7777777777777778,
             "#fb9f3a"
            ],
            [
             0.8888888888888888,
             "#fdca26"
            ],
            [
             1,
             "#f0f921"
            ]
           ],
           "sequentialminus": [
            [
             0,
             "#0d0887"
            ],
            [
             0.1111111111111111,
             "#46039f"
            ],
            [
             0.2222222222222222,
             "#7201a8"
            ],
            [
             0.3333333333333333,
             "#9c179e"
            ],
            [
             0.4444444444444444,
             "#bd3786"
            ],
            [
             0.5555555555555556,
             "#d8576b"
            ],
            [
             0.6666666666666666,
             "#ed7953"
            ],
            [
             0.7777777777777778,
             "#fb9f3a"
            ],
            [
             0.8888888888888888,
             "#fdca26"
            ],
            [
             1,
             "#f0f921"
            ]
           ]
          },
          "colorway": [
           "#636efa",
           "#EF553B",
           "#00cc96",
           "#ab63fa",
           "#FFA15A",
           "#19d3f3",
           "#FF6692",
           "#B6E880",
           "#FF97FF",
           "#FECB52"
          ],
          "font": {
           "color": "#2a3f5f"
          },
          "geo": {
           "bgcolor": "white",
           "lakecolor": "white",
           "landcolor": "#E5ECF6",
           "showlakes": true,
           "showland": true,
           "subunitcolor": "white"
          },
          "hoverlabel": {
           "align": "left"
          },
          "hovermode": "closest",
          "mapbox": {
           "style": "light"
          },
          "paper_bgcolor": "white",
          "plot_bgcolor": "#E5ECF6",
          "polar": {
           "angularaxis": {
            "gridcolor": "white",
            "linecolor": "white",
            "ticks": ""
           },
           "bgcolor": "#E5ECF6",
           "radialaxis": {
            "gridcolor": "white",
            "linecolor": "white",
            "ticks": ""
           }
          },
          "scene": {
           "xaxis": {
            "backgroundcolor": "#E5ECF6",
            "gridcolor": "white",
            "gridwidth": 2,
            "linecolor": "white",
            "showbackground": true,
            "ticks": "",
            "zerolinecolor": "white"
           },
           "yaxis": {
            "backgroundcolor": "#E5ECF6",
            "gridcolor": "white",
            "gridwidth": 2,
            "linecolor": "white",
            "showbackground": true,
            "ticks": "",
            "zerolinecolor": "white"
           },
           "zaxis": {
            "backgroundcolor": "#E5ECF6",
            "gridcolor": "white",
            "gridwidth": 2,
            "linecolor": "white",
            "showbackground": true,
            "ticks": "",
            "zerolinecolor": "white"
           }
          },
          "shapedefaults": {
           "line": {
            "color": "#2a3f5f"
           }
          },
          "ternary": {
           "aaxis": {
            "gridcolor": "white",
            "linecolor": "white",
            "ticks": ""
           },
           "baxis": {
            "gridcolor": "white",
            "linecolor": "white",
            "ticks": ""
           },
           "bgcolor": "#E5ECF6",
           "caxis": {
            "gridcolor": "white",
            "linecolor": "white",
            "ticks": ""
           }
          },
          "title": {
           "x": 0.05
          },
          "xaxis": {
           "automargin": true,
           "gridcolor": "white",
           "linecolor": "white",
           "ticks": "",
           "title": {
            "standoff": 15
           },
           "zerolinecolor": "white",
           "zerolinewidth": 2
          },
          "yaxis": {
           "automargin": true,
           "gridcolor": "white",
           "linecolor": "white",
           "ticks": "",
           "title": {
            "standoff": 15
           },
           "zerolinecolor": "white",
           "zerolinewidth": 2
          }
         }
        },
        "title": {
         "font": {
          "color": "#4D5663"
         }
        },
        "xaxis": {
         "gridcolor": "#E1E5ED",
         "showgrid": true,
         "tickfont": {
          "color": "#4D5663"
         },
         "title": {
          "font": {
           "color": "#4D5663"
          },
          "text": ""
         },
         "zerolinecolor": "#E1E5ED"
        },
        "yaxis": {
         "gridcolor": "#E1E5ED",
         "showgrid": true,
         "tickfont": {
          "color": "#4D5663"
         },
         "title": {
          "font": {
           "color": "#4D5663"
          },
          "text": ""
         },
         "zerolinecolor": "#E1E5ED"
        }
       }
      },
      "text/html": [
       "<div>                            <div id=\"ddb4ab61-4842-4672-a62e-bffc9422f370\" class=\"plotly-graph-div\" style=\"height:525px; width:100%;\"></div>            <script type=\"text/javascript\">                require([\"plotly\"], function(Plotly) {                    window.PLOTLYENV=window.PLOTLYENV || {};\n",
       "                    window.PLOTLYENV.BASE_URL='https://plot.ly';                                    if (document.getElementById(\"ddb4ab61-4842-4672-a62e-bffc9422f370\")) {                    Plotly.newPlot(                        \"ddb4ab61-4842-4672-a62e-bffc9422f370\",                        [{\"marker\":{\"color\":\"rgba(55, 128, 191, 0.6)\",\"line\":{\"color\":\"rgba(55, 128, 191, 1.0)\",\"width\":1}},\"name\":\"2022 Population\",\"orientation\":\"v\",\"text\":\"\",\"x\":[\"Russia\",\"Germany\",\"United Kingdom\",\"France\",\"Italy\",\"Spain\",\"Poland\",\"Ukraine\",\"Romania\",\"Netherlands\"],\"y\":[144713314,83369843,67508936,64626628,59037474,47558630,39857145,39701739,19659267,17564014],\"type\":\"bar\"}],                        {\"legend\":{\"bgcolor\":\"#F5F6F9\",\"font\":{\"color\":\"#4D5663\"}},\"paper_bgcolor\":\"#F5F6F9\",\"plot_bgcolor\":\"#F5F6F9\",\"template\":{\"data\":{\"barpolar\":[{\"marker\":{\"line\":{\"color\":\"#E5ECF6\",\"width\":0.5},\"pattern\":{\"fillmode\":\"overlay\",\"size\":10,\"solidity\":0.2}},\"type\":\"barpolar\"}],\"bar\":[{\"error_x\":{\"color\":\"#2a3f5f\"},\"error_y\":{\"color\":\"#2a3f5f\"},\"marker\":{\"line\":{\"color\":\"#E5ECF6\",\"width\":0.5},\"pattern\":{\"fillmode\":\"overlay\",\"size\":10,\"solidity\":0.2}},\"type\":\"bar\"}],\"carpet\":[{\"aaxis\":{\"endlinecolor\":\"#2a3f5f\",\"gridcolor\":\"white\",\"linecolor\":\"white\",\"minorgridcolor\":\"white\",\"startlinecolor\":\"#2a3f5f\"},\"baxis\":{\"endlinecolor\":\"#2a3f5f\",\"gridcolor\":\"white\",\"linecolor\":\"white\",\"minorgridcolor\":\"white\",\"startlinecolor\":\"#2a3f5f\"},\"type\":\"carpet\"}],\"choropleth\":[{\"colorbar\":{\"outlinewidth\":0,\"ticks\":\"\"},\"type\":\"choropleth\"}],\"contourcarpet\":[{\"colorbar\":{\"outlinewidth\":0,\"ticks\":\"\"},\"type\":\"contourcarpet\"}],\"contour\":[{\"colorbar\":{\"outlinewidth\":0,\"ticks\":\"\"},\"colorscale\":[[0.0,\"#0d0887\"],[0.1111111111111111,\"#46039f\"],[0.2222222222222222,\"#7201a8\"],[0.3333333333333333,\"#9c179e\"],[0.4444444444444444,\"#bd3786\"],[0.5555555555555556,\"#d8576b\"],[0.6666666666666666,\"#ed7953\"],[0.7777777777777778,\"#fb9f3a\"],[0.8888888888888888,\"#fdca26\"],[1.0,\"#f0f921\"]],\"type\":\"contour\"}],\"heatmapgl\":[{\"colorbar\":{\"outlinewidth\":0,\"ticks\":\"\"},\"colorscale\":[[0.0,\"#0d0887\"],[0.1111111111111111,\"#46039f\"],[0.2222222222222222,\"#7201a8\"],[0.3333333333333333,\"#9c179e\"],[0.4444444444444444,\"#bd3786\"],[0.5555555555555556,\"#d8576b\"],[0.6666666666666666,\"#ed7953\"],[0.7777777777777778,\"#fb9f3a\"],[0.8888888888888888,\"#fdca26\"],[1.0,\"#f0f921\"]],\"type\":\"heatmapgl\"}],\"heatmap\":[{\"colorbar\":{\"outlinewidth\":0,\"ticks\":\"\"},\"colorscale\":[[0.0,\"#0d0887\"],[0.1111111111111111,\"#46039f\"],[0.2222222222222222,\"#7201a8\"],[0.3333333333333333,\"#9c179e\"],[0.4444444444444444,\"#bd3786\"],[0.5555555555555556,\"#d8576b\"],[0.6666666666666666,\"#ed7953\"],[0.7777777777777778,\"#fb9f3a\"],[0.8888888888888888,\"#fdca26\"],[1.0,\"#f0f921\"]],\"type\":\"heatmap\"}],\"histogram2dcontour\":[{\"colorbar\":{\"outlinewidth\":0,\"ticks\":\"\"},\"colorscale\":[[0.0,\"#0d0887\"],[0.1111111111111111,\"#46039f\"],[0.2222222222222222,\"#7201a8\"],[0.3333333333333333,\"#9c179e\"],[0.4444444444444444,\"#bd3786\"],[0.5555555555555556,\"#d8576b\"],[0.6666666666666666,\"#ed7953\"],[0.7777777777777778,\"#fb9f3a\"],[0.8888888888888888,\"#fdca26\"],[1.0,\"#f0f921\"]],\"type\":\"histogram2dcontour\"}],\"histogram2d\":[{\"colorbar\":{\"outlinewidth\":0,\"ticks\":\"\"},\"colorscale\":[[0.0,\"#0d0887\"],[0.1111111111111111,\"#46039f\"],[0.2222222222222222,\"#7201a8\"],[0.3333333333333333,\"#9c179e\"],[0.4444444444444444,\"#bd3786\"],[0.5555555555555556,\"#d8576b\"],[0.6666666666666666,\"#ed7953\"],[0.7777777777777778,\"#fb9f3a\"],[0.8888888888888888,\"#fdca26\"],[1.0,\"#f0f921\"]],\"type\":\"histogram2d\"}],\"histogram\":[{\"marker\":{\"pattern\":{\"fillmode\":\"overlay\",\"size\":10,\"solidity\":0.2}},\"type\":\"histogram\"}],\"mesh3d\":[{\"colorbar\":{\"outlinewidth\":0,\"ticks\":\"\"},\"type\":\"mesh3d\"}],\"parcoords\":[{\"line\":{\"colorbar\":{\"outlinewidth\":0,\"ticks\":\"\"}},\"type\":\"parcoords\"}],\"pie\":[{\"automargin\":true,\"type\":\"pie\"}],\"scatter3d\":[{\"line\":{\"colorbar\":{\"outlinewidth\":0,\"ticks\":\"\"}},\"marker\":{\"colorbar\":{\"outlinewidth\":0,\"ticks\":\"\"}},\"type\":\"scatter3d\"}],\"scattercarpet\":[{\"marker\":{\"colorbar\":{\"outlinewidth\":0,\"ticks\":\"\"}},\"type\":\"scattercarpet\"}],\"scattergeo\":[{\"marker\":{\"colorbar\":{\"outlinewidth\":0,\"ticks\":\"\"}},\"type\":\"scattergeo\"}],\"scattergl\":[{\"marker\":{\"colorbar\":{\"outlinewidth\":0,\"ticks\":\"\"}},\"type\":\"scattergl\"}],\"scattermapbox\":[{\"marker\":{\"colorbar\":{\"outlinewidth\":0,\"ticks\":\"\"}},\"type\":\"scattermapbox\"}],\"scatterpolargl\":[{\"marker\":{\"colorbar\":{\"outlinewidth\":0,\"ticks\":\"\"}},\"type\":\"scatterpolargl\"}],\"scatterpolar\":[{\"marker\":{\"colorbar\":{\"outlinewidth\":0,\"ticks\":\"\"}},\"type\":\"scatterpolar\"}],\"scatter\":[{\"fillpattern\":{\"fillmode\":\"overlay\",\"size\":10,\"solidity\":0.2},\"type\":\"scatter\"}],\"scatterternary\":[{\"marker\":{\"colorbar\":{\"outlinewidth\":0,\"ticks\":\"\"}},\"type\":\"scatterternary\"}],\"surface\":[{\"colorbar\":{\"outlinewidth\":0,\"ticks\":\"\"},\"colorscale\":[[0.0,\"#0d0887\"],[0.1111111111111111,\"#46039f\"],[0.2222222222222222,\"#7201a8\"],[0.3333333333333333,\"#9c179e\"],[0.4444444444444444,\"#bd3786\"],[0.5555555555555556,\"#d8576b\"],[0.6666666666666666,\"#ed7953\"],[0.7777777777777778,\"#fb9f3a\"],[0.8888888888888888,\"#fdca26\"],[1.0,\"#f0f921\"]],\"type\":\"surface\"}],\"table\":[{\"cells\":{\"fill\":{\"color\":\"#EBF0F8\"},\"line\":{\"color\":\"white\"}},\"header\":{\"fill\":{\"color\":\"#C8D4E3\"},\"line\":{\"color\":\"white\"}},\"type\":\"table\"}]},\"layout\":{\"annotationdefaults\":{\"arrowcolor\":\"#2a3f5f\",\"arrowhead\":0,\"arrowwidth\":1},\"autotypenumbers\":\"strict\",\"coloraxis\":{\"colorbar\":{\"outlinewidth\":0,\"ticks\":\"\"}},\"colorscale\":{\"diverging\":[[0,\"#8e0152\"],[0.1,\"#c51b7d\"],[0.2,\"#de77ae\"],[0.3,\"#f1b6da\"],[0.4,\"#fde0ef\"],[0.5,\"#f7f7f7\"],[0.6,\"#e6f5d0\"],[0.7,\"#b8e186\"],[0.8,\"#7fbc41\"],[0.9,\"#4d9221\"],[1,\"#276419\"]],\"sequential\":[[0.0,\"#0d0887\"],[0.1111111111111111,\"#46039f\"],[0.2222222222222222,\"#7201a8\"],[0.3333333333333333,\"#9c179e\"],[0.4444444444444444,\"#bd3786\"],[0.5555555555555556,\"#d8576b\"],[0.6666666666666666,\"#ed7953\"],[0.7777777777777778,\"#fb9f3a\"],[0.8888888888888888,\"#fdca26\"],[1.0,\"#f0f921\"]],\"sequentialminus\":[[0.0,\"#0d0887\"],[0.1111111111111111,\"#46039f\"],[0.2222222222222222,\"#7201a8\"],[0.3333333333333333,\"#9c179e\"],[0.4444444444444444,\"#bd3786\"],[0.5555555555555556,\"#d8576b\"],[0.6666666666666666,\"#ed7953\"],[0.7777777777777778,\"#fb9f3a\"],[0.8888888888888888,\"#fdca26\"],[1.0,\"#f0f921\"]]},\"colorway\":[\"#636efa\",\"#EF553B\",\"#00cc96\",\"#ab63fa\",\"#FFA15A\",\"#19d3f3\",\"#FF6692\",\"#B6E880\",\"#FF97FF\",\"#FECB52\"],\"font\":{\"color\":\"#2a3f5f\"},\"geo\":{\"bgcolor\":\"white\",\"lakecolor\":\"white\",\"landcolor\":\"#E5ECF6\",\"showlakes\":true,\"showland\":true,\"subunitcolor\":\"white\"},\"hoverlabel\":{\"align\":\"left\"},\"hovermode\":\"closest\",\"mapbox\":{\"style\":\"light\"},\"paper_bgcolor\":\"white\",\"plot_bgcolor\":\"#E5ECF6\",\"polar\":{\"angularaxis\":{\"gridcolor\":\"white\",\"linecolor\":\"white\",\"ticks\":\"\"},\"bgcolor\":\"#E5ECF6\",\"radialaxis\":{\"gridcolor\":\"white\",\"linecolor\":\"white\",\"ticks\":\"\"}},\"scene\":{\"xaxis\":{\"backgroundcolor\":\"#E5ECF6\",\"gridcolor\":\"white\",\"gridwidth\":2,\"linecolor\":\"white\",\"showbackground\":true,\"ticks\":\"\",\"zerolinecolor\":\"white\"},\"yaxis\":{\"backgroundcolor\":\"#E5ECF6\",\"gridcolor\":\"white\",\"gridwidth\":2,\"linecolor\":\"white\",\"showbackground\":true,\"ticks\":\"\",\"zerolinecolor\":\"white\"},\"zaxis\":{\"backgroundcolor\":\"#E5ECF6\",\"gridcolor\":\"white\",\"gridwidth\":2,\"linecolor\":\"white\",\"showbackground\":true,\"ticks\":\"\",\"zerolinecolor\":\"white\"}},\"shapedefaults\":{\"line\":{\"color\":\"#2a3f5f\"}},\"ternary\":{\"aaxis\":{\"gridcolor\":\"white\",\"linecolor\":\"white\",\"ticks\":\"\"},\"baxis\":{\"gridcolor\":\"white\",\"linecolor\":\"white\",\"ticks\":\"\"},\"bgcolor\":\"#E5ECF6\",\"caxis\":{\"gridcolor\":\"white\",\"linecolor\":\"white\",\"ticks\":\"\"}},\"title\":{\"x\":0.05},\"xaxis\":{\"automargin\":true,\"gridcolor\":\"white\",\"linecolor\":\"white\",\"ticks\":\"\",\"title\":{\"standoff\":15},\"zerolinecolor\":\"white\",\"zerolinewidth\":2},\"yaxis\":{\"automargin\":true,\"gridcolor\":\"white\",\"linecolor\":\"white\",\"ticks\":\"\",\"title\":{\"standoff\":15},\"zerolinecolor\":\"white\",\"zerolinewidth\":2}}},\"title\":{\"font\":{\"color\":\"#4D5663\"}},\"xaxis\":{\"gridcolor\":\"#E1E5ED\",\"showgrid\":true,\"tickfont\":{\"color\":\"#4D5663\"},\"title\":{\"font\":{\"color\":\"#4D5663\"},\"text\":\"\"},\"zerolinecolor\":\"#E1E5ED\"},\"yaxis\":{\"gridcolor\":\"#E1E5ED\",\"showgrid\":true,\"tickfont\":{\"color\":\"#4D5663\"},\"title\":{\"font\":{\"color\":\"#4D5663\"},\"text\":\"\"},\"zerolinecolor\":\"#E1E5ED\"}},                        {\"showLink\": true, \"linkText\": \"Export to plot.ly\", \"plotlyServerURL\": \"https://plot.ly\", \"responsive\": true}                    ).then(function(){\n",
       "                            \n",
       "var gd = document.getElementById('ddb4ab61-4842-4672-a62e-bffc9422f370');\n",
       "var x = new MutationObserver(function (mutations, observer) {{\n",
       "        var display = window.getComputedStyle(gd).display;\n",
       "        if (!display || display === 'none') {{\n",
       "            console.log([gd, 'removed!']);\n",
       "            Plotly.purge(gd);\n",
       "            observer.disconnect();\n",
       "        }}\n",
       "}});\n",
       "\n",
       "// Listen for the removal of the full notebook cells\n",
       "var notebookContainer = gd.closest('#notebook-container');\n",
       "if (notebookContainer) {{\n",
       "    x.observe(notebookContainer, {childList: true});\n",
       "}}\n",
       "\n",
       "// Listen for the clearing of the current output cell\n",
       "var outputEl = gd.closest('.output');\n",
       "if (outputEl) {{\n",
       "    x.observe(outputEl, {childList: true});\n",
       "}}\n",
       "\n",
       "                        })                };                });            </script>        </div>"
      ]
     },
     "metadata": {},
     "output_type": "display_data"
    }
   ],
   "source": [
    "eur_large.iplot(x = \"Country/Territory\",y =\"2022 Population\",kind = \"bar\",color = \"blue\")"
   ]
  },
  {
   "cell_type": "code",
   "execution_count": 31,
   "id": "06f5f36d",
   "metadata": {},
   "outputs": [],
   "source": [
    "world_pop.sort_values(\"2022 Population\",inplace = True)\n",
    "populations = ['2022 Population','2020 Population','2015 Population',\n",
    "               '2010 Population','2000 Population',\n",
    "               '1990 Population','1980 Population','1970 Population']\n"
   ]
  },
  {
   "cell_type": "code",
   "execution_count": 32,
   "id": "d4ed97b2",
   "metadata": {},
   "outputs": [
    {
     "data": {
      "text/html": [
       "<div>\n",
       "<style scoped>\n",
       "    .dataframe tbody tr th:only-of-type {\n",
       "        vertical-align: middle;\n",
       "    }\n",
       "\n",
       "    .dataframe tbody tr th {\n",
       "        vertical-align: top;\n",
       "    }\n",
       "\n",
       "    .dataframe thead th {\n",
       "        text-align: right;\n",
       "    }\n",
       "</style>\n",
       "<table border=\"1\" class=\"dataframe\">\n",
       "  <thead>\n",
       "    <tr style=\"text-align: right;\">\n",
       "      <th></th>\n",
       "      <th>Continent</th>\n",
       "      <th>World Population Percentage</th>\n",
       "    </tr>\n",
       "  </thead>\n",
       "  <tbody>\n",
       "    <tr>\n",
       "      <th>0</th>\n",
       "      <td>Asia</td>\n",
       "      <td>59.19</td>\n",
       "    </tr>\n",
       "    <tr>\n",
       "      <th>1</th>\n",
       "      <td>Africa</td>\n",
       "      <td>17.87</td>\n",
       "    </tr>\n",
       "    <tr>\n",
       "      <th>2</th>\n",
       "      <td>Europe</td>\n",
       "      <td>9.33</td>\n",
       "    </tr>\n",
       "    <tr>\n",
       "      <th>3</th>\n",
       "      <td>North America</td>\n",
       "      <td>7.51</td>\n",
       "    </tr>\n",
       "    <tr>\n",
       "      <th>4</th>\n",
       "      <td>South America</td>\n",
       "      <td>5.48</td>\n",
       "    </tr>\n",
       "    <tr>\n",
       "      <th>5</th>\n",
       "      <td>Oceania</td>\n",
       "      <td>0.55</td>\n",
       "    </tr>\n",
       "  </tbody>\n",
       "</table>\n",
       "</div>"
      ],
      "text/plain": [
       "       Continent  World Population Percentage\n",
       "0           Asia                        59.19\n",
       "1         Africa                        17.87\n",
       "2         Europe                         9.33\n",
       "3  North America                         7.51\n",
       "4  South America                         5.48\n",
       "5        Oceania                         0.55"
      ]
     },
     "execution_count": 32,
     "metadata": {},
     "output_type": "execute_result"
    }
   ],
   "source": [
    "cont_percentage = world_pop.groupby(\"Continent\")[\"World Population Percentage\"].sum().sort_values(ascending = False).reset_index()\n",
    "cont_percentage"
   ]
  },
  {
   "cell_type": "code",
   "execution_count": 33,
   "id": "14ba7935",
   "metadata": {},
   "outputs": [
    {
     "data": {
      "text/plain": [
       "0             Asia\n",
       "1           Africa\n",
       "2           Europe\n",
       "3    North America\n",
       "4    South America\n",
       "5          Oceania\n",
       "Name: Continent, dtype: object"
      ]
     },
     "execution_count": 33,
     "metadata": {},
     "output_type": "execute_result"
    }
   ],
   "source": [
    "labels  = cont_percentage['Continent']\n",
    "labels"
   ]
  },
  {
   "cell_type": "code",
   "execution_count": 34,
   "id": "1a0b1d5a",
   "metadata": {},
   "outputs": [
    {
     "data": {
      "text/plain": [
       "0    59.19\n",
       "1    17.87\n",
       "2     9.33\n",
       "3     7.51\n",
       "4     5.48\n",
       "5     0.55\n",
       "Name: World Population Percentage, dtype: float64"
      ]
     },
     "execution_count": 34,
     "metadata": {},
     "output_type": "execute_result"
    }
   ],
   "source": [
    "pp = cont_percentage['World Population Percentage']\n",
    "pp"
   ]
  },
  {
   "cell_type": "code",
   "execution_count": 35,
   "id": "133d0ff6",
   "metadata": {},
   "outputs": [
    {
     "data": {
      "text/plain": [
       "Text(0.5, 1.0, 'Continent-Population%')"
      ]
     },
     "execution_count": 35,
     "metadata": {},
     "output_type": "execute_result"
    },
    {
     "data": {
      "image/png": "[encoded data removed]",
      "text/plain": [
       "<Figure size 640x480 with 1 Axes>"
      ]
     },
     "metadata": {},
     "output_type": "display_data"
    }
   ],
   "source": [
    "pp.plot.pie(labels = labels,autopct = \"%1.1f%%\")\n",
    "plt.title(\"Continent-Population%\")"
   ]
  },
  {
   "cell_type": "code",
   "execution_count": 36,
   "id": "f3fc0410",
   "metadata": {},
   "outputs": [
    {
     "data": {
      "text/plain": [
       "([<matplotlib.patches.Wedge at 0x1f0fde74a60>,\n",
       "  <matplotlib.patches.Wedge at 0x1f0fde74f70>,\n",
       "  <matplotlib.patches.Wedge at 0x1f0fde83490>,\n",
       "  <matplotlib.patches.Wedge at 0x1f0fde83970>,\n",
       "  <matplotlib.patches.Wedge at 0x1f0fde83e50>,\n",
       "  <matplotlib.patches.Wedge at 0x1f0fde92370>],\n",
       " [Text(-0.31456292646091344, 1.0540636438547466, 'Asia'),\n",
       "  Text(-0.4575288990740182, -1.000333597612375, 'Africa'),\n",
       "  Text(0.45469562509462863, -1.0016246245574263, 'Europe'),\n",
       "  Text(0.8982978506787422, -0.6348708305363795, 'North America'),\n",
       "  Text(1.0765482224276393, -0.22592902599686127, 'South America'),\n",
       "  Text(1.099835556478563, -0.01901969257085896, 'Oceania')])"
      ]
     },
     "execution_count": 36,
     "metadata": {},
     "output_type": "execute_result"
    },
    {
     "data": {
      "image/png": "[encoded data removed]",
      "text/plain": [
       "<Figure size 640x480 with 1 Axes>"
      ]
     },
     "metadata": {},
     "output_type": "display_data"
    }
   ],
   "source": [
    "plt.pie(cont_percentage['World Population Percentage'],labels = cont_percentage['Continent'])"
   ]
  },
  {
   "cell_type": "code",
   "execution_count": 101,
   "id": "b7645a96",
   "metadata": {},
   "outputs": [
    {
     "data": {
      "application/vnd.plotly.v1+json": {
       "config": {
        "linkText": "Export to plot.ly",
        "plotlyServerURL": "https://plot.ly",
        "showLink": true
       },
       "data": [
        {
         "line": {
          "color": "rgba(255, 153, 51, 1.0)",
          "dash": "solid",
          "shape": "linear",
          "width": 1.3
         },
         "mode": "lines",
         "name": "Growth Rate",
         "text": "",
         "type": "scatter",
         "x": [
          "Lebanon",
          "Japan",
          "Armenia",
          "Georgia",
          "Hong Kong",
          "South Korea",
          "China",
          "Thailand",
          "Taiwan",
          "Qatar",
          "Sri Lanka",
          "North Korea",
          "Azerbaijan",
          "Kuwait",
          "Maldives",
          "Singapore",
          "Bahrain",
          "Bhutan",
          "Indonesia",
          "Turkey",
          "India",
          "Iran",
          "Myanmar",
          "Vietnam",
          "United Arab Emirates",
          "Brunei",
          "Kazakhstan",
          "Bangladesh",
          "Cambodia",
          "Malaysia",
          "Oman",
          "Jordan",
          "Macau",
          "Saudi Arabia",
          "Turkmenistan",
          "Laos",
          "Philippines",
          "Mongolia",
          "Timor-Leste",
          "Israel",
          "Kyrgyzstan",
          "Uzbekistan",
          "Nepal",
          "Pakistan",
          "Tajikistan",
          "Yemen",
          "Iraq",
          "Palestine",
          "Afghanistan",
          "Syria"
         ],
         "y": [
          0.9816,
          0.9947,
          0.9962,
          0.9964,
          0.9992,
          0.9997,
          1,
          1.0013,
          1.0014,
          1.0026,
          1.0027,
          1.0038,
          1.0044,
          1.0044,
          1.0045,
          1.0058,
          1.0061,
          1.0064,
          1.0064,
          1.0067,
          1.0068,
          1.0071,
          1.0071,
          1.0074,
          1.0081,
          1.0081,
          1.0105,
          1.0108,
          1.0108,
          1.0109,
          1.0123,
          1.0123,
          1.0125,
          1.0128,
          1.014,
          1.0141,
          1.0147,
          1.0151,
          1.0154,
          1.0155,
          1.0158,
          1.016,
          1.0171,
          1.0191,
          1.0208,
          1.0217,
          1.0221,
          1.0227,
          1.0257,
          1.0376
         ]
        }
       ],
       "layout": {
        "legend": {
         "bgcolor": "#F5F6F9",
         "font": {
          "color": "#4D5663"
         }
        },
        "paper_bgcolor": "#F5F6F9",
        "plot_bgcolor": "#F5F6F9",
        "template": {
         "data": {
          "bar": [
           {
            "error_x": {
             "color": "#2a3f5f"
            },
            "error_y": {
             "color": "#2a3f5f"
            },
            "marker": {
             "line": {
              "color": "#E5ECF6",
              "width": 0.5
             },
             "pattern": {
              "fillmode": "overlay",
              "size": 10,
              "solidity": 0.2
             }
            },
            "type": "bar"
           }
          ],
          "barpolar": [
           {
            "marker": {
             "line": {
              "color": "#E5ECF6",
              "width": 0.5
             },
             "pattern": {
              "fillmode": "overlay",
              "size": 10,
              "solidity": 0.2
             }
            },
            "type": "barpolar"
           }
          ],
          "carpet": [
           {
            "aaxis": {
             "endlinecolor": "#2a3f5f",
             "gridcolor": "white",
             "linecolor": "white",
             "minorgridcolor": "white",
             "startlinecolor": "#2a3f5f"
            },
            "baxis": {
             "endlinecolor": "#2a3f5f",
             "gridcolor": "white",
             "linecolor": "white",
             "minorgridcolor": "white",
             "startlinecolor": "#2a3f5f"
            },
            "type": "carpet"
           }
          ],
          "choropleth": [
           {
            "colorbar": {
             "outlinewidth": 0,
             "ticks": ""
            },
            "type": "choropleth"
           }
          ],
          "contour": [
           {
            "colorbar": {
             "outlinewidth": 0,
             "ticks": ""
            },
            "colorscale": [
             [
              0,
              "#0d0887"
             ],
             [
              0.1111111111111111,
              "#46039f"
             ],
             [
              0.2222222222222222,
              "#7201a8"
             ],
             [
              0.3333333333333333,
              "#9c179e"
             ],
             [
              0.4444444444444444,
              "#bd3786"
             ],
             [
              0.5555555555555556,
              "#d8576b"
             ],
             [
              0.6666666666666666,
              "#ed7953"
             ],
             [
              0.7777777777777778,
              "#fb9f3a"
             ],
             [
              0.8888888888888888,
              "#fdca26"
             ],
             [
              1,
              "#f0f921"
             ]
            ],
            "type": "contour"
           }
          ],
          "contourcarpet": [
           {
            "colorbar": {
             "outlinewidth": 0,
             "ticks": ""
            },
            "type": "contourcarpet"
           }
          ],
          "heatmap": [
           {
            "colorbar": {
             "outlinewidth": 0,
             "ticks": ""
            },
            "colorscale": [
             [
              0,
              "#0d0887"
             ],
             [
              0.1111111111111111,
              "#46039f"
             ],
             [
              0.2222222222222222,
              "#7201a8"
             ],
             [
              0.3333333333333333,
              "#9c179e"
             ],
             [
              0.4444444444444444,
              "#bd3786"
             ],
             [
              0.5555555555555556,
              "#d8576b"
             ],
             [
              0.6666666666666666,
              "#ed7953"
             ],
             [
              0.7777777777777778,
              "#fb9f3a"
             ],
             [
              0.8888888888888888,
              "#fdca26"
             ],
             [
              1,
              "#f0f921"
             ]
            ],
            "type": "heatmap"
           }
          ],
          "heatmapgl": [
           {
            "colorbar": {
             "outlinewidth": 0,
             "ticks": ""
            },
            "colorscale": [
             [
              0,
              "#0d0887"
             ],
             [
              0.1111111111111111,
              "#46039f"
             ],
             [
              0.2222222222222222,
              "#7201a8"
             ],
             [
              0.3333333333333333,
              "#9c179e"
             ],
             [
              0.4444444444444444,
              "#bd3786"
             ],
             [
              0.5555555555555556,
              "#d8576b"
             ],
             [
              0.6666666666666666,
              "#ed7953"
             ],
             [
              0.7777777777777778,
              "#fb9f3a"
             ],
             [
              0.8888888888888888,
              "#fdca26"
             ],
             [
              1,
              "#f0f921"
             ]
            ],
            "type": "heatmapgl"
           }
          ],
          "histogram": [
           {
            "marker": {
             "pattern": {
              "fillmode": "overlay",
              "size": 10,
              "solidity": 0.2
             }
            },
            "type": "histogram"
           }
          ],
          "histogram2d": [
           {
            "colorbar": {
             "outlinewidth": 0,
             "ticks": ""
            },
            "colorscale": [
             [
              0,
              "#0d0887"
             ],
             [
              0.1111111111111111,
              "#46039f"
             ],
             [
              0.2222222222222222,
              "#7201a8"
             ],
             [
              0.3333333333333333,
              "#9c179e"
             ],
             [
              0.4444444444444444,
              "#bd3786"
             ],
             [
              0.5555555555555556,
              "#d8576b"
             ],
             [
              0.6666666666666666,
              "#ed7953"
             ],
             [
              0.7777777777777778,
              "#fb9f3a"
             ],
             [
              0.8888888888888888,
              "#fdca26"
             ],
             [
              1,
              "#f0f921"
             ]
            ],
            "type": "histogram2d"
           }
          ],
          "histogram2dcontour": [
           {
            "colorbar": {
             "outlinewidth": 0,
             "ticks": ""
            },
            "colorscale": [
             [
              0,
              "#0d0887"
             ],
             [
              0.1111111111111111,
              "#46039f"
             ],
             [
              0.2222222222222222,
              "#7201a8"
             ],
             [
              0.3333333333333333,
              "#9c179e"
             ],
             [
              0.4444444444444444,
              "#bd3786"
             ],
             [
              0.5555555555555556,
              "#d8576b"
             ],
             [
              0.6666666666666666,
              "#ed7953"
             ],
             [
              0.7777777777777778,
              "#fb9f3a"
             ],
             [
              0.8888888888888888,
              "#fdca26"
             ],
             [
              1,
              "#f0f921"
             ]
            ],
            "type": "histogram2dcontour"
           }
          ],
          "mesh3d": [
           {
            "colorbar": {
             "outlinewidth": 0,
             "ticks": ""
            },
            "type": "mesh3d"
           }
          ],
          "parcoords": [
           {
            "line": {
             "colorbar": {
              "outlinewidth": 0,
              "ticks": ""
             }
            },
            "type": "parcoords"
           }
          ],
          "pie": [
           {
            "automargin": true,
            "type": "pie"
           }
          ],
          "scatter": [
           {
            "fillpattern": {
             "fillmode": "overlay",
             "size": 10,
             "solidity": 0.2
            },
            "type": "scatter"
           }
          ],
          "scatter3d": [
           {
            "line": {
             "colorbar": {
              "outlinewidth": 0,
              "ticks": ""
             }
            },
            "marker": {
             "colorbar": {
              "outlinewidth": 0,
              "ticks": ""
             }
            },
            "type": "scatter3d"
           }
          ],
          "scattercarpet": [
           {
            "marker": {
             "colorbar": {
              "outlinewidth": 0,
              "ticks": ""
             }
            },
            "type": "scattercarpet"
           }
          ],
          "scattergeo": [
           {
            "marker": {
             "colorbar": {
              "outlinewidth": 0,
              "ticks": ""
             }
            },
            "type": "scattergeo"
           }
          ],
          "scattergl": [
           {
            "marker": {
             "colorbar": {
              "outlinewidth": 0,
              "ticks": ""
             }
            },
            "type": "scattergl"
           }
          ],
          "scattermapbox": [
           {
            "marker": {
             "colorbar": {
              "outlinewidth": 0,
              "ticks": ""
             }
            },
            "type": "scattermapbox"
           }
          ],
          "scatterpolar": [
           {
            "marker": {
             "colorbar": {
              "outlinewidth": 0,
              "ticks": ""
             }
            },
            "type": "scatterpolar"
           }
          ],
          "scatterpolargl": [
           {
            "marker": {
             "colorbar": {
              "outlinewidth": 0,
              "ticks": ""
             }
            },
            "type": "scatterpolargl"
           }
          ],
          "scatterternary": [
           {
            "marker": {
             "colorbar": {
              "outlinewidth": 0,
              "ticks": ""
             }
            },
            "type": "scatterternary"
           }
          ],
          "surface": [
           {
            "colorbar": {
             "outlinewidth": 0,
             "ticks": ""
            },
            "colorscale": [
             [
              0,
              "#0d0887"
             ],
             [
              0.1111111111111111,
              "#46039f"
             ],
             [
              0.2222222222222222,
              "#7201a8"
             ],
             [
              0.3333333333333333,
              "#9c179e"
             ],
             [
              0.4444444444444444,
              "#bd3786"
             ],
             [
              0.5555555555555556,
              "#d8576b"
             ],
             [
              0.6666666666666666,
              "#ed7953"
             ],
             [
              0.7777777777777778,
              "#fb9f3a"
             ],
             [
              0.8888888888888888,
              "#fdca26"
             ],
             [
              1,
              "#f0f921"
             ]
            ],
            "type": "surface"
           }
          ],
          "table": [
           {
            "cells": {
             "fill": {
              "color": "#EBF0F8"
             },
             "line": {
              "color": "white"
             }
            },
            "header": {
             "fill": {
              "color": "#C8D4E3"
             },
             "line": {
              "color": "white"
             }
            },
            "type": "table"
           }
          ]
         },
         "layout": {
          "annotationdefaults": {
           "arrowcolor": "#2a3f5f",
           "arrowhead": 0,
           "arrowwidth": 1
          },
          "autotypenumbers": "strict",
          "coloraxis": {
           "colorbar": {
            "outlinewidth": 0,
            "ticks": ""
           }
          },
          "colorscale": {
           "diverging": [
            [
             0,
             "#8e0152"
            ],
            [
             0.1,
             "#c51b7d"
            ],
            [
             0.2,
             "#de77ae"
            ],
            [
             0.3,
             "#f1b6da"
            ],
            [
             0.4,
             "#fde0ef"
            ],
            [
             0.5,
             "#f7f7f7"
            ],
            [
             0.6,
             "#e6f5d0"
            ],
            [
             0.7,
             "#b8e186"
            ],
            [
             0.8,
             "#7fbc41"
            ],
            [
             0.9,
             "#4d9221"
            ],
            [
             1,
             "#276419"
            ]
           ],
           "sequential": [
            [
             0,
             "#0d0887"
            ],
            [
             0.1111111111111111,
             "#46039f"
            ],
            [
             0.2222222222222222,
             "#7201a8"
            ],
            [
             0.3333333333333333,
             "#9c179e"
            ],
            [
             0.4444444444444444,
             "#bd3786"
            ],
            [
             0.5555555555555556,
             "#d8576b"
            ],
            [
             0.6666666666666666,
             "#ed7953"
            ],
            [
             0.7777777777777778,
             "#fb9f3a"
            ],
            [
             0.8888888888888888,
             "#fdca26"
            ],
            [
             1,
             "#f0f921"
            ]
           ],
           "sequentialminus": [
            [
             0,
             "#0d0887"
            ],
            [
             0.1111111111111111,
             "#46039f"
            ],
            [
             0.2222222222222222,
             "#7201a8"
            ],
            [
             0.3333333333333333,
             "#9c179e"
            ],
            [
             0.4444444444444444,
             "#bd3786"
            ],
            [
             0.5555555555555556,
             "#d8576b"
            ],
            [
             0.6666666666666666,
             "#ed7953"
            ],
            [
             0.7777777777777778,
             "#fb9f3a"
            ],
            [
             0.8888888888888888,
             "#fdca26"
            ],
            [
             1,
             "#f0f921"
            ]
           ]
          },
          "colorway": [
           "#636efa",
           "#EF553B",
           "#00cc96",
           "#ab63fa",
           "#FFA15A",
           "#19d3f3",
           "#FF6692",
           "#B6E880",
           "#FF97FF",
           "#FECB52"
          ],
          "font": {
           "color": "#2a3f5f"
          },
          "geo": {
           "bgcolor": "white",
           "lakecolor": "white",
           "landcolor": "#E5ECF6",
           "showlakes": true,
           "showland": true,
           "subunitcolor": "white"
          },
          "hoverlabel": {
           "align": "left"
          },
          "hovermode": "closest",
          "mapbox": {
           "style": "light"
          },
          "paper_bgcolor": "white",
          "plot_bgcolor": "#E5ECF6",
          "polar": {
           "angularaxis": {
            "gridcolor": "white",
            "linecolor": "white",
            "ticks": ""
           },
           "bgcolor": "#E5ECF6",
           "radialaxis": {
            "gridcolor": "white",
            "linecolor": "white",
            "ticks": ""
           }
          },
          "scene": {
           "xaxis": {
            "backgroundcolor": "#E5ECF6",
            "gridcolor": "white",
            "gridwidth": 2,
            "linecolor": "white",
            "showbackground": true,
            "ticks": "",
            "zerolinecolor": "white"
           },
           "yaxis": {
            "backgroundcolor": "#E5ECF6",
            "gridcolor": "white",
            "gridwidth": 2,
            "linecolor": "white",
            "showbackground": true,
            "ticks": "",
            "zerolinecolor": "white"
           },
           "zaxis": {
            "backgroundcolor": "#E5ECF6",
            "gridcolor": "white",
            "gridwidth": 2,
            "linecolor": "white",
            "showbackground": true,
            "ticks": "",
            "zerolinecolor": "white"
           }
          },
          "shapedefaults": {
           "line": {
            "color": "#2a3f5f"
           }
          },
          "ternary": {
           "aaxis": {
            "gridcolor": "white",
            "linecolor": "white",
            "ticks": ""
           },
           "baxis": {
            "gridcolor": "white",
            "linecolor": "white",
            "ticks": ""
           },
           "bgcolor": "#E5ECF6",
           "caxis": {
            "gridcolor": "white",
            "linecolor": "white",
            "ticks": ""
           }
          },
          "title": {
           "x": 0.05
          },
          "xaxis": {
           "automargin": true,
           "gridcolor": "white",
           "linecolor": "white",
           "ticks": "",
           "title": {
            "standoff": 15
           },
           "zerolinecolor": "white",
           "zerolinewidth": 2
          },
          "yaxis": {
           "automargin": true,
           "gridcolor": "white",
           "linecolor": "white",
           "ticks": "",
           "title": {
            "standoff": 15
           },
           "zerolinecolor": "white",
           "zerolinewidth": 2
          }
         }
        },
        "title": {
         "font": {
          "color": "#4D5663"
         }
        },
        "xaxis": {
         "gridcolor": "#E1E5ED",
         "showgrid": true,
         "tickfont": {
          "color": "#4D5663"
         },
         "title": {
          "font": {
           "color": "#4D5663"
          },
          "text": "Country/Territory"
         },
         "zerolinecolor": "#E1E5ED"
        },
        "yaxis": {
         "gridcolor": "#E1E5ED",
         "showgrid": true,
         "tickfont": {
          "color": "#4D5663"
         },
         "title": {
          "font": {
           "color": "#4D5663"
          },
          "text": "Growth Rate"
         },
         "zerolinecolor": "#E1E5ED"
        }
       }
      },
      "text/html": [
       "<div>                            <div id=\"6124170a-1030-4ce8-96b6-bd7121699ed2\" class=\"plotly-graph-div\" style=\"height:525px; width:100%;\"></div>            <script type=\"text/javascript\">                require([\"plotly\"], function(Plotly) {                    window.PLOTLYENV=window.PLOTLYENV || {};\n",
       "                    window.PLOTLYENV.BASE_URL='https://plot.ly';                                    if (document.getElementById(\"6124170a-1030-4ce8-96b6-bd7121699ed2\")) {                    Plotly.newPlot(                        \"6124170a-1030-4ce8-96b6-bd7121699ed2\",                        [{\"line\":{\"color\":\"rgba(255, 153, 51, 1.0)\",\"dash\":\"solid\",\"shape\":\"linear\",\"width\":1.3},\"mode\":\"lines\",\"name\":\"Growth Rate\",\"text\":\"\",\"x\":[\"Lebanon\",\"Japan\",\"Armenia\",\"Georgia\",\"Hong Kong\",\"South Korea\",\"China\",\"Thailand\",\"Taiwan\",\"Qatar\",\"Sri Lanka\",\"North Korea\",\"Azerbaijan\",\"Kuwait\",\"Maldives\",\"Singapore\",\"Bahrain\",\"Bhutan\",\"Indonesia\",\"Turkey\",\"India\",\"Iran\",\"Myanmar\",\"Vietnam\",\"United Arab Emirates\",\"Brunei\",\"Kazakhstan\",\"Bangladesh\",\"Cambodia\",\"Malaysia\",\"Oman\",\"Jordan\",\"Macau\",\"Saudi Arabia\",\"Turkmenistan\",\"Laos\",\"Philippines\",\"Mongolia\",\"Timor-Leste\",\"Israel\",\"Kyrgyzstan\",\"Uzbekistan\",\"Nepal\",\"Pakistan\",\"Tajikistan\",\"Yemen\",\"Iraq\",\"Palestine\",\"Afghanistan\",\"Syria\"],\"y\":[0.9816,0.9947,0.9962,0.9964,0.9992,0.9997,1.0,1.0013,1.0014,1.0026,1.0027,1.0038,1.0044,1.0044,1.0045,1.0058,1.0061,1.0064,1.0064,1.0067,1.0068,1.0071,1.0071,1.0074,1.0081,1.0081,1.0105,1.0108,1.0108,1.0109,1.0123,1.0123,1.0125,1.0128,1.014,1.0141,1.0147,1.0151,1.0154,1.0155,1.0158,1.016,1.0171,1.0191,1.0208,1.0217,1.0221,1.0227,1.0257,1.0376],\"type\":\"scatter\"}],                        {\"legend\":{\"bgcolor\":\"#F5F6F9\",\"font\":{\"color\":\"#4D5663\"}},\"paper_bgcolor\":\"#F5F6F9\",\"plot_bgcolor\":\"#F5F6F9\",\"template\":{\"data\":{\"barpolar\":[{\"marker\":{\"line\":{\"color\":\"#E5ECF6\",\"width\":0.5},\"pattern\":{\"fillmode\":\"overlay\",\"size\":10,\"solidity\":0.2}},\"type\":\"barpolar\"}],\"bar\":[{\"error_x\":{\"color\":\"#2a3f5f\"},\"error_y\":{\"color\":\"#2a3f5f\"},\"marker\":{\"line\":{\"color\":\"#E5ECF6\",\"width\":0.5},\"pattern\":{\"fillmode\":\"overlay\",\"size\":10,\"solidity\":0.2}},\"type\":\"bar\"}],\"carpet\":[{\"aaxis\":{\"endlinecolor\":\"#2a3f5f\",\"gridcolor\":\"white\",\"linecolor\":\"white\",\"minorgridcolor\":\"white\",\"startlinecolor\":\"#2a3f5f\"},\"baxis\":{\"endlinecolor\":\"#2a3f5f\",\"gridcolor\":\"white\",\"linecolor\":\"white\",\"minorgridcolor\":\"white\",\"startlinecolor\":\"#2a3f5f\"},\"type\":\"carpet\"}],\"choropleth\":[{\"colorbar\":{\"outlinewidth\":0,\"ticks\":\"\"},\"type\":\"choropleth\"}],\"contourcarpet\":[{\"colorbar\":{\"outlinewidth\":0,\"ticks\":\"\"},\"type\":\"contourcarpet\"}],\"contour\":[{\"colorbar\":{\"outlinewidth\":0,\"ticks\":\"\"},\"colorscale\":[[0.0,\"#0d0887\"],[0.1111111111111111,\"#46039f\"],[0.2222222222222222,\"#7201a8\"],[0.3333333333333333,\"#9c179e\"],[0.4444444444444444,\"#bd3786\"],[0.5555555555555556,\"#d8576b\"],[0.6666666666666666,\"#ed7953\"],[0.7777777777777778,\"#fb9f3a\"],[0.8888888888888888,\"#fdca26\"],[1.0,\"#f0f921\"]],\"type\":\"contour\"}],\"heatmapgl\":[{\"colorbar\":{\"outlinewidth\":0,\"ticks\":\"\"},\"colorscale\":[[0.0,\"#0d0887\"],[0.1111111111111111,\"#46039f\"],[0.2222222222222222,\"#7201a8\"],[0.3333333333333333,\"#9c179e\"],[0.4444444444444444,\"#bd3786\"],[0.5555555555555556,\"#d8576b\"],[0.6666666666666666,\"#ed7953\"],[0.7777777777777778,\"#fb9f3a\"],[0.8888888888888888,\"#fdca26\"],[1.0,\"#f0f921\"]],\"type\":\"heatmapgl\"}],\"heatmap\":[{\"colorbar\":{\"outlinewidth\":0,\"ticks\":\"\"},\"colorscale\":[[0.0,\"#0d0887\"],[0.1111111111111111,\"#46039f\"],[0.2222222222222222,\"#7201a8\"],[0.3333333333333333,\"#9c179e\"],[0.4444444444444444,\"#bd3786\"],[0.5555555555555556,\"#d8576b\"],[0.6666666666666666,\"#ed7953\"],[0.7777777777777778,\"#fb9f3a\"],[0.8888888888888888,\"#fdca26\"],[1.0,\"#f0f921\"]],\"type\":\"heatmap\"}],\"histogram2dcontour\":[{\"colorbar\":{\"outlinewidth\":0,\"ticks\":\"\"},\"colorscale\":[[0.0,\"#0d0887\"],[0.1111111111111111,\"#46039f\"],[0.2222222222222222,\"#7201a8\"],[0.3333333333333333,\"#9c179e\"],[0.4444444444444444,\"#bd3786\"],[0.5555555555555556,\"#d8576b\"],[0.6666666666666666,\"#ed7953\"],[0.7777777777777778,\"#fb9f3a\"],[0.8888888888888888,\"#fdca26\"],[1.0,\"#f0f921\"]],\"type\":\"histogram2dcontour\"}],\"histogram2d\":[{\"colorbar\":{\"outlinewidth\":0,\"ticks\":\"\"},\"colorscale\":[[0.0,\"#0d0887\"],[0.1111111111111111,\"#46039f\"],[0.2222222222222222,\"#7201a8\"],[0.3333333333333333,\"#9c179e\"],[0.4444444444444444,\"#bd3786\"],[0.5555555555555556,\"#d8576b\"],[0.6666666666666666,\"#ed7953\"],[0.7777777777777778,\"#fb9f3a\"],[0.8888888888888888,\"#fdca26\"],[1.0,\"#f0f921\"]],\"type\":\"histogram2d\"}],\"histogram\":[{\"marker\":{\"pattern\":{\"fillmode\":\"overlay\",\"size\":10,\"solidity\":0.2}},\"type\":\"histogram\"}],\"mesh3d\":[{\"colorbar\":{\"outlinewidth\":0,\"ticks\":\"\"},\"type\":\"mesh3d\"}],\"parcoords\":[{\"line\":{\"colorbar\":{\"outlinewidth\":0,\"ticks\":\"\"}},\"type\":\"parcoords\"}],\"pie\":[{\"automargin\":true,\"type\":\"pie\"}],\"scatter3d\":[{\"line\":{\"colorbar\":{\"outlinewidth\":0,\"ticks\":\"\"}},\"marker\":{\"colorbar\":{\"outlinewidth\":0,\"ticks\":\"\"}},\"type\":\"scatter3d\"}],\"scattercarpet\":[{\"marker\":{\"colorbar\":{\"outlinewidth\":0,\"ticks\":\"\"}},\"type\":\"scattercarpet\"}],\"scattergeo\":[{\"marker\":{\"colorbar\":{\"outlinewidth\":0,\"ticks\":\"\"}},\"type\":\"scattergeo\"}],\"scattergl\":[{\"marker\":{\"colorbar\":{\"outlinewidth\":0,\"ticks\":\"\"}},\"type\":\"scattergl\"}],\"scattermapbox\":[{\"marker\":{\"colorbar\":{\"outlinewidth\":0,\"ticks\":\"\"}},\"type\":\"scattermapbox\"}],\"scatterpolargl\":[{\"marker\":{\"colorbar\":{\"outlinewidth\":0,\"ticks\":\"\"}},\"type\":\"scatterpolargl\"}],\"scatterpolar\":[{\"marker\":{\"colorbar\":{\"outlinewidth\":0,\"ticks\":\"\"}},\"type\":\"scatterpolar\"}],\"scatter\":[{\"fillpattern\":{\"fillmode\":\"overlay\",\"size\":10,\"solidity\":0.2},\"type\":\"scatter\"}],\"scatterternary\":[{\"marker\":{\"colorbar\":{\"outlinewidth\":0,\"ticks\":\"\"}},\"type\":\"scatterternary\"}],\"surface\":[{\"colorbar\":{\"outlinewidth\":0,\"ticks\":\"\"},\"colorscale\":[[0.0,\"#0d0887\"],[0.1111111111111111,\"#46039f\"],[0.2222222222222222,\"#7201a8\"],[0.3333333333333333,\"#9c179e\"],[0.4444444444444444,\"#bd3786\"],[0.5555555555555556,\"#d8576b\"],[0.6666666666666666,\"#ed7953\"],[0.7777777777777778,\"#fb9f3a\"],[0.8888888888888888,\"#fdca26\"],[1.0,\"#f0f921\"]],\"type\":\"surface\"}],\"table\":[{\"cells\":{\"fill\":{\"color\":\"#EBF0F8\"},\"line\":{\"color\":\"white\"}},\"header\":{\"fill\":{\"color\":\"#C8D4E3\"},\"line\":{\"color\":\"white\"}},\"type\":\"table\"}]},\"layout\":{\"annotationdefaults\":{\"arrowcolor\":\"#2a3f5f\",\"arrowhead\":0,\"arrowwidth\":1},\"autotypenumbers\":\"strict\",\"coloraxis\":{\"colorbar\":{\"outlinewidth\":0,\"ticks\":\"\"}},\"colorscale\":{\"diverging\":[[0,\"#8e0152\"],[0.1,\"#c51b7d\"],[0.2,\"#de77ae\"],[0.3,\"#f1b6da\"],[0.4,\"#fde0ef\"],[0.5,\"#f7f7f7\"],[0.6,\"#e6f5d0\"],[0.7,\"#b8e186\"],[0.8,\"#7fbc41\"],[0.9,\"#4d9221\"],[1,\"#276419\"]],\"sequential\":[[0.0,\"#0d0887\"],[0.1111111111111111,\"#46039f\"],[0.2222222222222222,\"#7201a8\"],[0.3333333333333333,\"#9c179e\"],[0.4444444444444444,\"#bd3786\"],[0.5555555555555556,\"#d8576b\"],[0.6666666666666666,\"#ed7953\"],[0.7777777777777778,\"#fb9f3a\"],[0.8888888888888888,\"#fdca26\"],[1.0,\"#f0f921\"]],\"sequentialminus\":[[0.0,\"#0d0887\"],[0.1111111111111111,\"#46039f\"],[0.2222222222222222,\"#7201a8\"],[0.3333333333333333,\"#9c179e\"],[0.4444444444444444,\"#bd3786\"],[0.5555555555555556,\"#d8576b\"],[0.6666666666666666,\"#ed7953\"],[0.7777777777777778,\"#fb9f3a\"],[0.8888888888888888,\"#fdca26\"],[1.0,\"#f0f921\"]]},\"colorway\":[\"#636efa\",\"#EF553B\",\"#00cc96\",\"#ab63fa\",\"#FFA15A\",\"#19d3f3\",\"#FF6692\",\"#B6E880\",\"#FF97FF\",\"#FECB52\"],\"font\":{\"color\":\"#2a3f5f\"},\"geo\":{\"bgcolor\":\"white\",\"lakecolor\":\"white\",\"landcolor\":\"#E5ECF6\",\"showlakes\":true,\"showland\":true,\"subunitcolor\":\"white\"},\"hoverlabel\":{\"align\":\"left\"},\"hovermode\":\"closest\",\"mapbox\":{\"style\":\"light\"},\"paper_bgcolor\":\"white\",\"plot_bgcolor\":\"#E5ECF6\",\"polar\":{\"angularaxis\":{\"gridcolor\":\"white\",\"linecolor\":\"white\",\"ticks\":\"\"},\"bgcolor\":\"#E5ECF6\",\"radialaxis\":{\"gridcolor\":\"white\",\"linecolor\":\"white\",\"ticks\":\"\"}},\"scene\":{\"xaxis\":{\"backgroundcolor\":\"#E5ECF6\",\"gridcolor\":\"white\",\"gridwidth\":2,\"linecolor\":\"white\",\"showbackground\":true,\"ticks\":\"\",\"zerolinecolor\":\"white\"},\"yaxis\":{\"backgroundcolor\":\"#E5ECF6\",\"gridcolor\":\"white\",\"gridwidth\":2,\"linecolor\":\"white\",\"showbackground\":true,\"ticks\":\"\",\"zerolinecolor\":\"white\"},\"zaxis\":{\"backgroundcolor\":\"#E5ECF6\",\"gridcolor\":\"white\",\"gridwidth\":2,\"linecolor\":\"white\",\"showbackground\":true,\"ticks\":\"\",\"zerolinecolor\":\"white\"}},\"shapedefaults\":{\"line\":{\"color\":\"#2a3f5f\"}},\"ternary\":{\"aaxis\":{\"gridcolor\":\"white\",\"linecolor\":\"white\",\"ticks\":\"\"},\"baxis\":{\"gridcolor\":\"white\",\"linecolor\":\"white\",\"ticks\":\"\"},\"bgcolor\":\"#E5ECF6\",\"caxis\":{\"gridcolor\":\"white\",\"linecolor\":\"white\",\"ticks\":\"\"}},\"title\":{\"x\":0.05},\"xaxis\":{\"automargin\":true,\"gridcolor\":\"white\",\"linecolor\":\"white\",\"ticks\":\"\",\"title\":{\"standoff\":15},\"zerolinecolor\":\"white\",\"zerolinewidth\":2},\"yaxis\":{\"automargin\":true,\"gridcolor\":\"white\",\"linecolor\":\"white\",\"ticks\":\"\",\"title\":{\"standoff\":15},\"zerolinecolor\":\"white\",\"zerolinewidth\":2}}},\"title\":{\"font\":{\"color\":\"#4D5663\"}},\"xaxis\":{\"gridcolor\":\"#E1E5ED\",\"showgrid\":true,\"tickfont\":{\"color\":\"#4D5663\"},\"title\":{\"font\":{\"color\":\"#4D5663\"},\"text\":\"Country/Territory\"},\"zerolinecolor\":\"#E1E5ED\"},\"yaxis\":{\"gridcolor\":\"#E1E5ED\",\"showgrid\":true,\"tickfont\":{\"color\":\"#4D5663\"},\"title\":{\"font\":{\"color\":\"#4D5663\"},\"text\":\"Growth Rate\"},\"zerolinecolor\":\"#E1E5ED\"}},                        {\"showLink\": true, \"linkText\": \"Export to plot.ly\", \"plotlyServerURL\": \"https://plot.ly\", \"responsive\": true}                    ).then(function(){\n",
       "                            \n",
       "var gd = document.getElementById('6124170a-1030-4ce8-96b6-bd7121699ed2');\n",
       "var x = new MutationObserver(function (mutations, observer) {{\n",
       "        var display = window.getComputedStyle(gd).display;\n",
       "        if (!display || display === 'none') {{\n",
       "            console.log([gd, 'removed!']);\n",
       "            Plotly.purge(gd);\n",
       "            observer.disconnect();\n",
       "        }}\n",
       "}});\n",
       "\n",
       "// Listen for the removal of the full notebook cells\n",
       "var notebookContainer = gd.closest('#notebook-container');\n",
       "if (notebookContainer) {{\n",
       "    x.observe(notebookContainer, {childList: true});\n",
       "}}\n",
       "\n",
       "// Listen for the clearing of the current output cell\n",
       "var outputEl = gd.closest('.output');\n",
       "if (outputEl) {{\n",
       "    x.observe(outputEl, {childList: true});\n",
       "}}\n",
       "\n",
       "                        })                };                });            </script>        </div>"
      ]
     },
     "metadata": {},
     "output_type": "display_data"
    }
   ],
   "source": [
    "asia_growth_rate = asia_con[['Country/Territory','Growth Rate']].sort_values('Growth Rate').reset_index()\n",
    "asia_growth_rate.iplot(x = \"Country/Territory\",y = \"Growth Rate\",yTitle = \"Growth Rate\",xTitle =\"Country/Territory\" )"
   ]
  },
  {
   "cell_type": "code",
   "execution_count": 38,
   "id": "7a54058e",
   "metadata": {},
   "outputs": [
    {
     "data": {
      "text/html": [
       "<div>\n",
       "<style scoped>\n",
       "    .dataframe tbody tr th:only-of-type {\n",
       "        vertical-align: middle;\n",
       "    }\n",
       "\n",
       "    .dataframe tbody tr th {\n",
       "        vertical-align: top;\n",
       "    }\n",
       "\n",
       "    .dataframe thead th {\n",
       "        text-align: right;\n",
       "    }\n",
       "</style>\n",
       "<table border=\"1\" class=\"dataframe\">\n",
       "  <thead>\n",
       "    <tr style=\"text-align: right;\">\n",
       "      <th></th>\n",
       "      <th>Continent</th>\n",
       "      <th>Growth Rate</th>\n",
       "    </tr>\n",
       "  </thead>\n",
       "  <tbody>\n",
       "    <tr>\n",
       "      <th>0</th>\n",
       "      <td>Africa</td>\n",
       "      <td>58.2109</td>\n",
       "    </tr>\n",
       "    <tr>\n",
       "      <th>1</th>\n",
       "      <td>Asia</td>\n",
       "      <td>50.4692</td>\n",
       "    </tr>\n",
       "    <tr>\n",
       "      <th>2</th>\n",
       "      <td>Europe</td>\n",
       "      <td>50.1128</td>\n",
       "    </tr>\n",
       "    <tr>\n",
       "      <th>3</th>\n",
       "      <td>North America</td>\n",
       "      <td>40.1670</td>\n",
       "    </tr>\n",
       "    <tr>\n",
       "      <th>4</th>\n",
       "      <td>Oceania</td>\n",
       "      <td>23.1698</td>\n",
       "    </tr>\n",
       "    <tr>\n",
       "      <th>5</th>\n",
       "      <td>South America</td>\n",
       "      <td>14.1114</td>\n",
       "    </tr>\n",
       "  </tbody>\n",
       "</table>\n",
       "</div>"
      ],
      "text/plain": [
       "       Continent  Growth Rate\n",
       "0         Africa      58.2109\n",
       "1           Asia      50.4692\n",
       "2         Europe      50.1128\n",
       "3  North America      40.1670\n",
       "4        Oceania      23.1698\n",
       "5  South America      14.1114"
      ]
     },
     "execution_count": 38,
     "metadata": {},
     "output_type": "execute_result"
    }
   ],
   "source": [
    "cont_growth_rate = world_pop.groupby('Continent')['Growth Rate'].sum().sort_values(ascending = False).reset_index()\n",
    "cont_growth_rate"
   ]
  },
  {
   "cell_type": "code",
   "execution_count": 39,
   "id": "4b040a59",
   "metadata": {},
   "outputs": [
    {
     "data": {
      "text/plain": [
       "0    58.2109\n",
       "1    50.4692\n",
       "2    50.1128\n",
       "3    40.1670\n",
       "4    23.1698\n",
       "5    14.1114\n",
       "Name: Growth Rate, dtype: float64"
      ]
     },
     "execution_count": 39,
     "metadata": {},
     "output_type": "execute_result"
    }
   ],
   "source": [
    "sum_growth_rate = cont_growth_rate['Growth Rate']\n",
    "sum_growth_rate\n"
   ]
  },
  {
   "cell_type": "code",
   "execution_count": 98,
   "id": "30833cd7",
   "metadata": {},
   "outputs": [
    {
     "data": {
      "text/plain": [
       "<AxesSubplot:ylabel='Growth Rate'>"
      ]
     },
     "execution_count": 98,
     "metadata": {},
     "output_type": "execute_result"
    },
    {
     "data": {
      "image/png": "[encoded data removed]",
      "text/plain": [
       "<Figure size 640x480 with 1 Axes>"
      ]
     },
     "metadata": {},
     "output_type": "display_data"
    }
   ],
   "source": [
    "sum_growth_rate.plot.pie(labels = cont_growth_rate['Continent'],autopct = '%1.1f%%'  )"
   ]
  },
  {
   "cell_type": "code",
   "execution_count": 41,
   "id": "3a3d3681",
   "metadata": {},
   "outputs": [
    {
     "data": {
      "text/html": [
       "<div>\n",
       "<style scoped>\n",
       "    .dataframe tbody tr th:only-of-type {\n",
       "        vertical-align: middle;\n",
       "    }\n",
       "\n",
       "    .dataframe tbody tr th {\n",
       "        vertical-align: top;\n",
       "    }\n",
       "\n",
       "    .dataframe thead th {\n",
       "        text-align: right;\n",
       "    }\n",
       "</style>\n",
       "<table border=\"1\" class=\"dataframe\">\n",
       "  <thead>\n",
       "    <tr style=\"text-align: right;\">\n",
       "      <th></th>\n",
       "      <th>Continent</th>\n",
       "      <th>Country/Territory</th>\n",
       "      <th>Density</th>\n",
       "    </tr>\n",
       "  </thead>\n",
       "  <tbody>\n",
       "    <tr>\n",
       "      <th>226</th>\n",
       "      <td>Europe</td>\n",
       "      <td>Vatican City</td>\n",
       "      <td>510.0000</td>\n",
       "    </tr>\n",
       "    <tr>\n",
       "      <th>209</th>\n",
       "      <td>Oceania</td>\n",
       "      <td>Tokelau</td>\n",
       "      <td>155.9167</td>\n",
       "    </tr>\n",
       "    <tr>\n",
       "      <th>150</th>\n",
       "      <td>Oceania</td>\n",
       "      <td>Niue</td>\n",
       "      <td>7.4385</td>\n",
       "    </tr>\n",
       "    <tr>\n",
       "      <th>64</th>\n",
       "      <td>South America</td>\n",
       "      <td>Falkland Islands</td>\n",
       "      <td>0.3105</td>\n",
       "    </tr>\n",
       "    <tr>\n",
       "      <th>137</th>\n",
       "      <td>North America</td>\n",
       "      <td>Montserrat</td>\n",
       "      <td>43.0392</td>\n",
       "    </tr>\n",
       "    <tr>\n",
       "      <th>...</th>\n",
       "      <td>...</td>\n",
       "      <td>...</td>\n",
       "      <td>...</td>\n",
       "    </tr>\n",
       "    <tr>\n",
       "      <th>156</th>\n",
       "      <td>Asia</td>\n",
       "      <td>Pakistan</td>\n",
       "      <td>267.4018</td>\n",
       "    </tr>\n",
       "    <tr>\n",
       "      <th>93</th>\n",
       "      <td>Asia</td>\n",
       "      <td>Indonesia</td>\n",
       "      <td>144.6529</td>\n",
       "    </tr>\n",
       "    <tr>\n",
       "      <th>221</th>\n",
       "      <td>North America</td>\n",
       "      <td>United States</td>\n",
       "      <td>36.0935</td>\n",
       "    </tr>\n",
       "    <tr>\n",
       "      <th>92</th>\n",
       "      <td>Asia</td>\n",
       "      <td>India</td>\n",
       "      <td>431.0675</td>\n",
       "    </tr>\n",
       "    <tr>\n",
       "      <th>41</th>\n",
       "      <td>Asia</td>\n",
       "      <td>China</td>\n",
       "      <td>146.8933</td>\n",
       "    </tr>\n",
       "  </tbody>\n",
       "</table>\n",
       "<p>234 rows × 3 columns</p>\n",
       "</div>"
      ],
      "text/plain": [
       "         Continent Country/Territory   Density\n",
       "226         Europe      Vatican City  510.0000\n",
       "209        Oceania           Tokelau  155.9167\n",
       "150        Oceania              Niue    7.4385\n",
       "64   South America  Falkland Islands    0.3105\n",
       "137  North America        Montserrat   43.0392\n",
       "..             ...               ...       ...\n",
       "156           Asia          Pakistan  267.4018\n",
       "93            Asia         Indonesia  144.6529\n",
       "221  North America     United States   36.0935\n",
       "92            Asia             India  431.0675\n",
       "41            Asia             China  146.8933\n",
       "\n",
       "[234 rows x 3 columns]"
      ]
     },
     "execution_count": 41,
     "metadata": {},
     "output_type": "execute_result"
    }
   ],
   "source": [
    "density = world_pop.loc[:,[\"Continent\",\"Country/Territory\",\"Density\"]]\n",
    "density"
   ]
  },
  {
   "cell_type": "code",
   "execution_count": 81,
   "id": "f40b2f54",
   "metadata": {},
   "outputs": [],
   "source": [
    "world_pop.rename(columns = {'CCA3':'ISO-3'},inplace = True)"
   ]
  },
  {
   "cell_type": "code",
   "execution_count": 83,
   "id": "8357548c",
   "metadata": {},
   "outputs": [
    {
     "data": {
      "application/vnd.plotly.v1+json": {
       "config": {
        "plotlyServerURL": "https://plot.ly"
       },
       "data": [
        {
         "coloraxis": "coloraxis",
         "customdata": [
          [
           10752971,
           0.52,
           1.0257,
           652230,
           63.0587,
           "AFG"
          ],
          [
           2324731,
           0.04,
           0.9957,
           28748,
           98.8702,
           "ALB"
          ],
          [
           13795915,
           0.56,
           1.0164,
           2381741,
           18.8531,
           "DZA"
          ],
          [
           27075,
           0,
           0.9831,
           199,
           222.4774,
           "ASM"
          ],
          [
           19860,
           0,
           1.01,
           468,
           170.5641,
           "AND"
          ],
          [
           6029700,
           0.45,
           1.0315,
           1246700,
           28.5466,
           "AGO"
          ],
          [
           6283,
           0,
           1.0066,
           91,
           174.2527,
           "AIA"
          ],
          [
           64516,
           0,
           1.0058,
           442,
           212.1335,
           "ATG"
          ],
          [
           23842803,
           0.57,
           1.0052,
           2780400,
           16.3683,
           "ARG"
          ],
          [
           2534377,
           0.03,
           0.9962,
           29743,
           93.4831,
           "ARM"
          ],
          [
           59106,
           0,
           0.9991,
           180,
           591.3611,
           "ABW"
          ],
          [
           12595034,
           0.33,
           1.0099,
           7692024,
           3.4032,
           "AUS"
          ],
          [
           7465301,
           0.11,
           1.002,
           83871,
           106.5877,
           "AUT"
          ],
          [
           5425317,
           0.13,
           1.0044,
           86600,
           119.6082,
           "AZE"
          ],
          [
           179129,
           0.01,
           1.0051,
           13943,
           29.4043,
           "BHS"
          ],
          [
           222555,
           0.02,
           1.0061,
           765,
           1924.4876,
           "BHR"
          ],
          [
           67541860,
           2.15,
           1.0108,
           147570,
           1160.035,
           "BGD"
          ],
          [
           241397,
           0,
           1.0015,
           430,
           654.9651,
           "BRB"
          ],
          [
           9170786,
           0.12,
           0.9955,
           207600,
           45.9295,
           "BLR"
          ],
          [
           9629376,
           0.15,
           1.0038,
           30528,
           381.8111,
           "BEL"
          ],
          [
           120905,
           0.01,
           1.0131,
           22966,
           17.6466,
           "BLZ"
          ],
          [
           3023443,
           0.17,
           1.0274,
           112622,
           118.5635,
           "BEN"
          ],
          [
           52019,
           0,
           1,
           54,
           1188.5926,
           "BMU"
          ],
          [
           298894,
           0.01,
           1.0064,
           38394,
           20.3796,
           "BTN"
          ],
          [
           4585693,
           0.15,
           1.012,
           1098581,
           11.1272,
           "BOL"
          ],
          [
           3815561,
           0.04,
           0.9886,
           51209,
           63.1437,
           "BIH"
          ],
          [
           592244,
           0.03,
           1.0162,
           582000,
           4.5194,
           "BWA"
          ],
          [
           96369875,
           2.7,
           1.0046,
           8515767,
           25.2841,
           "BRA"
          ],
          [
           9581,
           0,
           1.0059,
           151,
           207.3179,
           "VGB"
          ],
          [
           133343,
           0.01,
           1.0081,
           5765,
           77.8841,
           "BRN"
          ],
          [
           8582950,
           0.09,
           0.9849,
           110879,
           61.1654,
           "BGR"
          ],
          [
           5611666,
           0.28,
           1.0259,
           272967,
           83.0641,
           "BFA"
          ],
          [
           3497834,
           0.16,
           1.027,
           27834,
           463.0874,
           "BDI"
          ],
          [
           6708525,
           0.21,
           1.0108,
           181035,
           92.6221,
           "KHM"
          ],
          [
           6452787,
           0.35,
           1.0263,
           475442,
           58.7128,
           "CMR"
          ],
          [
           21434577,
           0.48,
           1.0078,
           9984670,
           3.8513,
           "CAN"
          ],
          [
           287262,
           0.01,
           1.0089,
           4033,
           147.0739,
           "CPV"
          ],
          [
           10533,
           0,
           1.0084,
           264,
           260.25,
           "CYM"
          ],
          [
           2067356,
           0.07,
           1.0224,
           622984,
           8.9555,
           "CAF"
          ],
          [
           3667394,
           0.22,
           1.0316,
           1284000,
           13.8032,
           "TCD"
          ],
          [
           9820481,
           0.25,
           1.0057,
           756102,
           25.9274,
           "CHL"
          ],
          [
           822534450,
           17.88,
           1,
           9706961,
           146.8933,
           "CHN"
          ],
          [
           20905254,
           0.65,
           1.0069,
           1141748,
           45.4339,
           "COL"
          ],
          [
           242351,
           0.01,
           1.0184,
           1862,
           449.3953,
           "COM"
          ],
          [
           20470,
           0,
           1.0005,
           236,
           72.0805,
           "COK"
          ],
          [
           1855697,
           0.06,
           1.0052,
           51100,
           101.3861,
           "CRI"
          ],
          [
           4492638,
           0.05,
           0.9927,
           56594,
           71.2153,
           "HRV"
          ],
          [
           8869636,
           0.14,
           0.9961,
           109884,
           102.0366,
           "CUB"
          ],
          [
           150385,
           0,
           1.0043,
           444,
           430.5473,
           "CUW"
          ],
          [
           640804,
           0.02,
           1.0059,
           9251,
           135.2814,
           "CYP"
          ],
          [
           9795744,
           0.13,
           0.9984,
           78865,
           133.0627,
           "CZE"
          ],
          [
           4922963,
           0.07,
           1.0048,
           43094,
           136.4984,
           "DNK"
          ],
          [
           144379,
           0.01,
           1.0138,
           23200,
           48.3125,
           "DJI"
          ],
          [
           68895,
           0,
           1.0045,
           751,
           96.8535,
           "DMA"
          ],
          [
           4475871,
           0.14,
           1.01,
           48671,
           230.7087,
           "DOM"
          ],
          [
           20151733,
           1.24,
           1.0325,
           2344858,
           42.2244,
           "COD"
          ],
          [
           6172215,
           0.23,
           1.0114,
           276841,
           65.0229,
           "ECU"
          ],
          [
           34781986,
           1.39,
           1.0158,
           1002450,
           110.7188,
           "EGY"
          ],
          [
           3619090,
           0.08,
           1.0035,
           21041,
           301.145,
           "SLV"
          ],
          [
           316955,
           0.02,
           1.0247,
           28051,
           59.7094,
           "GNQ"
          ],
          [
           1272748,
           0.05,
           1.0176,
           117600,
           31.3268,
           "ERI"
          ],
          [
           1361999,
           0.02,
           0.998,
           45227,
           29.3201,
           "EST"
          ],
          [
           442865,
           0.02,
           1.0079,
           17364,
           69.2047,
           "SWZ"
          ],
          [
           28308246,
           1.55,
           1.0257,
           1104300,
           111.7268,
           "ETH"
          ],
          [
           2274,
           0,
           1.0043,
           12173,
           0.3105,
           "FLK"
          ],
          [
           38416,
           0,
           1.0038,
           1393,
           38.112,
           "FRO"
          ],
          [
           527634,
           0.01,
           1.0056,
           18272,
           50.8847,
           "FJI"
          ],
          [
           4606621,
           0.07,
           1.0009,
           338424,
           16.3722,
           "FIN"
          ],
          [
           50523586,
           0.81,
           1.0015,
           551695,
           117.1419,
           "FRA"
          ],
          [
           46484,
           0,
           1.0239,
           83534,
           3.6459,
           "GUF"
          ],
          [
           117891,
           0,
           1.0074,
           4167,
           73.5011,
           "PYF"
          ],
          [
           597192,
           0.03,
           1.0204,
           267668,
           8.9252,
           "GAB"
          ],
          [
           528731,
           0.03,
           1.025,
           10689,
           253.1567,
           "GMB"
          ],
          [
           4800426,
           0.05,
           0.9964,
           69700,
           53.7214,
           "GEO"
          ],
          [
           78294583,
           1.05,
           0.9995,
           357114,
           233.4544,
           "DEU"
          ],
          [
           8861895,
           0.42,
           1.0196,
           238533,
           140.3406,
           "GHA"
          ],
          [
           26685,
           0,
           0.9994,
           6,
           5441.5,
           "GIB"
          ],
          [
           8544873,
           0.13,
           0.9942,
           131990,
           78.68,
           "GRC"
          ],
          [
           45434,
           0,
           1.004,
           2166086,
           0.0261,
           "GRL"
          ],
          [
           98794,
           0,
           1.0066,
           344,
           364.6453,
           "GRD"
          ],
          [
           318310,
           0,
           0.9992,
           1628,
           243.0909,
           "GLP"
          ],
          [
           88300,
           0,
           1.0073,
           549,
           312.8852,
           "GUM"
          ],
          [
           5453208,
           0.22,
           1.0134,
           108889,
           163.8725,
           "GTM"
          ],
          [
           52656,
           0,
           1.0037,
           78,
           811.5513,
           "GGY"
          ],
          [
           4222374,
           0.17,
           1.0242,
           245857,
           56.3716,
           "GIN"
          ],
          [
           591663,
           0.03,
           1.0218,
           36125,
           58.2856,
           "GNB"
          ],
          [
           705261,
           0.01,
           1.0052,
           214969,
           3.7621,
           "GUY"
          ],
          [
           4680812,
           0.15,
           1.012,
           27750,
           417.4773,
           "HTI"
          ],
          [
           2782753,
           0.13,
           1.015,
           112492,
           92.7431,
           "HND"
          ],
          [
           3955072,
           0.09,
           0.9992,
           1104,
           6783.3922,
           "HKG"
          ],
          [
           10315366,
           0.12,
           1.0265,
           93028,
           107.1431,
           "HUN"
          ],
          [
           204468,
           0,
           1.0069,
           103000,
           3.6204,
           "ISL"
          ],
          [
           557501301,
           17.77,
           1.0068,
           3287590,
           431.0675,
           "IND"
          ],
          [
           115228394,
           3.45,
           1.0064,
           1904569,
           144.6529,
           "IDN"
          ],
          [
           28449705,
           1.11,
           1.0071,
           1648195,
           53.7258,
           "IRN"
          ],
          [
           9811347,
           0.56,
           1.0221,
           438317,
           101.5158,
           "IRQ"
          ],
          [
           2937637,
           0.06,
           1.0073,
           70273,
           71.4799,
           "IRL"
          ],
          [
           55298,
           0,
           1.003,
           572,
           147.7605,
           "IMN"
          ],
          [
           2907307,
           0.11,
           1.0155,
           20770,
           435.1617,
           "ISR"
          ],
          [
           53324036,
           0.74,
           0.9966,
           301336,
           195.9191,
           "ITA"
          ],
          [
           5477086,
           0.35,
           1.0248,
           322463,
           87.3295,
           "CIV"
          ],
          [
           1859091,
           0.04,
           0.9999,
           10991,
           257.2447,
           "JAM"
          ],
          [
           105416839,
           1.55,
           0.9947,
           377930,
           327.9753,
           "JPN"
          ],
          [
           68347,
           0,
           1.0106,
           116,
           954.9828,
           "JEY"
          ],
          [
           1557374,
           0.14,
           1.0123,
           89342,
           126.3221,
           "JOR"
          ],
          [
           12265305,
           0.24,
           1.0105,
           2724900,
           7.1188,
           "KAZ"
          ],
          [
           11473087,
           0.68,
           1.0193,
           580367,
           93.0919,
           "KEN"
          ],
          [
           57437,
           0,
           1.0183,
           811,
           161.815,
           "KIR"
          ],
          [
           802786,
           0.05,
           1.0044,
           17818,
           239.5821,
           "KWT"
          ],
          [
           3016384,
           0.08,
           1.0158,
           199951,
           33.1612,
           "KGZ"
          ],
          [
           2675283,
           0.09,
           1.0141,
           236800,
           31.7968,
           "LAO"
          ],
          [
           2397414,
           0.02,
           0.9876,
           64559,
           28.666,
           "LVA"
          ],
          [
           2381791,
           0.07,
           0.9816,
           10452,
           525.2334,
           "LBN"
          ],
          [
           1023481,
           0.03,
           1.0107,
           30355,
           75.962,
           "LSO"
          ],
          [
           1463563,
           0.07,
           1.021,
           111369,
           47.6136,
           "LBR"
          ],
          [
           1909177,
           0.09,
           1.0114,
           1759540,
           3.8717,
           "LBY"
          ],
          [
           21089,
           0,
           1.0074,
           160,
           245.7937,
           "LIE"
          ],
          [
           3210147,
           0.03,
           0.9869,
           65300,
           42.1142,
           "LTU"
          ],
          [
           339342,
           0.01,
           1.0129,
           2586,
           250.425,
           "LUX"
          ],
          [
           247284,
           0.01,
           1.0125,
           30,
           23172.2667,
           "MAC"
          ],
          [
           6639751,
           0.37,
           1.0241,
           587041,
           50.4423,
           "MDG"
          ],
          [
           4625141,
           0.26,
           1.0259,
           118484,
           172.22,
           "MWI"
          ],
          [
           10306508,
           0.43,
           1.0109,
           330803,
           102.5934,
           "MYS"
          ],
          [
           123243,
           0.01,
           1.0045,
           300,
           1745.9567,
           "MDV"
          ],
          [
           6153587,
           0.28,
           1.0314,
           1240192,
           18.2178,
           "MLI"
          ],
          [
           315414,
           0.01,
           1.0124,
           316,
           1687.6139,
           "MLT"
          ],
          [
           23969,
           0,
           0.9886,
           181,
           229.663,
           "MHL"
          ],
          [
           326428,
           0,
           0.9965,
           1128,
           325.8041,
           "MTQ"
          ],
          [
           1122198,
           0.06,
           1.0263,
           1030700,
           4.5951,
           "MRT"
          ],
          [
           830115,
           0.02,
           1.0004,
           2040,
           636.9946,
           "MUS"
          ],
          [
           35383,
           0,
           1.0319,
           374,
           871.9278,
           "MYT"
          ],
          [
           50289306,
           1.6,
           1.0063,
           1964375,
           64.9082,
           "MEX"
          ],
          [
           58989,
           0,
           1.0091,
           702,
           162.6268,
           "FSM"
          ],
          [
           3711140,
           0.04,
           1.0691,
           33846,
           96.7026,
           "MDA"
          ],
          [
           24270,
           0,
           0.9941,
           2,
           18234.5,
           "MCO"
          ],
          [
           1293880,
           0.04,
           1.0151,
           1564110,
           2.1727,
           "MNG"
          ],
          [
           530268,
           0.01,
           0.9988,
           13812,
           45.4012,
           "MNE"
          ],
          [
           11402,
           0,
           0.9939,
           102,
           43.0392,
           "MSR"
          ],
          [
           15274351,
           0.47,
           1.0103,
           446550,
           83.883,
           "MAR"
          ],
          [
           8411676,
           0.41,
           1.0278,
           801590,
           41.1302,
           "MOZ"
          ],
          [
           27284112,
           0.68,
           1.0071,
           676578,
           80.0784,
           "MMR"
          ],
          [
           754467,
           0.03,
           1.0146,
           825615,
           3.1092,
           "NAM"
          ],
          [
           6663,
           0,
           1.0125,
           21,
           603.2381,
           "NRU"
          ],
          [
           12501285,
           0.38,
           1.0171,
           147181,
           207.5511,
           "NPL"
          ],
          [
           13037686,
           0.22,
           1.0036,
           41850,
           419.6897,
           "NLD"
          ],
          [
           110982,
           0,
           1.0075,
           18575,
           15.6097,
           "NCL"
          ],
          [
           2824061,
           0.07,
           1.0108,
           270467,
           19.1716,
           "NZL"
          ],
          [
           2444767,
           0.09,
           1.0143,
           130373,
           53.2962,
           "NIC"
          ],
          [
           4669708,
           0.33,
           1.0378,
           1267000,
           20.6851,
           "NER"
          ],
          [
           55569264,
           2.74,
           1.0241,
           923768,
           236.5759,
           "NGA"
          ],
          [
           5185,
           0,
           0.9985,
           260,
           7.4385,
           "NIU"
          ],
          [
           14996879,
           0.33,
           1.0038,
           120538,
           216.2755,
           "PRK"
          ],
          [
           1656783,
           0.03,
           0.9954,
           25713,
           81.4218,
           "MKD"
          ],
          [
           10143,
           0,
           1.0014,
           464,
           106.7909,
           "NFK"
          ],
          [
           3875546,
           0.07,
           1.0058,
           323802,
           16.7828,
           "NOR"
          ],
          [
           670693,
           0.06,
           1.0123,
           309500,
           14.7861,
           "OMN"
          ],
          [
           59290872,
           2.96,
           1.0191,
           881912,
           267.4018,
           "PAK"
          ],
          [
           11366,
           0,
           1.0017,
           459,
           39.3355,
           "PLW"
          ],
          [
           1118241,
           0.07,
           1.0227,
           6220,
           844.063,
           "PSE"
          ],
          [
           1516188,
           0.06,
           1.0132,
           75417,
           58.4561,
           "PAN"
          ],
          [
           2489059,
           0.13,
           1.0194,
           462840,
           21.9139,
           "PNG"
          ],
          [
           2408787,
           0.09,
           1.0115,
           406752,
           16.6705,
           "PRY"
          ],
          [
           13562371,
           0.43,
           1.0099,
           1285216,
           26.4933,
           "PER"
          ],
          [
           37435586,
           1.45,
           1.0147,
           342353,
           337.5434,
           "PHL"
          ],
          [
           32482943,
           0.5,
           1.0404,
           312679,
           127.4698,
           "POL"
          ],
          [
           8683631,
           0.13,
           0.9981,
           92090,
           111.5307,
           "PRT"
          ],
          [
           2737619,
           0.04,
           0.9989,
           8870,
           366.675,
           "PRI"
          ],
          [
           118007,
           0.03,
           1.0026,
           11586,
           232.6189,
           "QAT"
          ],
          [
           1396989,
           0.07,
           1.0231,
           342000,
           17.4574,
           "COG"
          ],
          [
           473925,
           0.01,
           1.0082,
           2511,
           387.914,
           "REU"
          ],
          [
           19922618,
           0.25,
           1.0171,
           238391,
           82.4665,
           "ROU"
          ],
          [
           130093010,
           1.81,
           0.9973,
           17098242,
           8.4636,
           "RUS"
          ],
          [
           3896367,
           0.17,
           1.0234,
           26338,
           523.0731,
           "RWA"
          ],
          [
           2417,
           0,
           1.0098,
           21,
           522.2381,
           "BLM"
          ],
          [
           44968,
           0,
           1.0011,
           261,
           182.5939,
           "KNA"
          ],
          [
           103090,
           0,
           1.0011,
           616,
           291.9756,
           "LCA"
          ],
          [
           5802,
           0,
           0.9951,
           53,
           599.8302,
           "MAF"
          ],
          [
           5537,
           0,
           0.9964,
           242,
           24.2231,
           "SPM"
          ],
          [
           98459,
           0,
           0.9963,
           389,
           267.2185,
           "VCT"
          ],
          [
           142771,
           0,
           1.0165,
           2842,
           78.2484,
           "WSM"
          ],
          [
           18169,
           0,
           0.9975,
           61,
           551.8033,
           "SMR"
          ],
          [
           77583,
           0,
           1.0192,
           964,
           235.8714,
           "STP"
          ],
          [
           6106191,
           0.46,
           1.0128,
           2149690,
           16.9368,
           "SAU"
          ],
          [
           4367744,
           0.22,
           1.0261,
           196722,
           88.025,
           "SEN"
          ],
          [
           7193533,
           0.09,
           0.9897,
           88361,
           81.7257,
           "SRB"
          ],
          [
           54379,
           0,
           1.0061,
           452,
           236.9867,
           "SYC"
          ],
          [
           2778557,
           0.11,
           1.022,
           71740,
           119.957,
           "SLE"
          ],
          [
           2061831,
           0.07,
           1.0058,
           710,
           8416.4634,
           "SGP"
          ],
          [
           6260,
           0,
           1.003,
           34,
           1299.2647,
           "SXM"
          ],
          [
           4522867,
           0.07,
           1.0359,
           49037,
           115.0856,
           "SVK"
          ],
          [
           1741286,
           0.03,
           1.0002,
           20273,
           104.5649,
           "SVN"
          ],
          [
           172833,
           0.01,
           1.0232,
           28896,
           25.0648,
           "SLB"
          ],
          [
           3720977,
           0.22,
           1.0312,
           637657,
           27.5971,
           "SOM"
          ],
          [
           22368306,
           0.75,
           1.0084,
           1221037,
           49.0517,
           "ZAF"
          ],
          [
           32601143,
           0.65,
           0.9997,
           100210,
           517.0722,
           "KOR"
          ],
          [
           3342410,
           0.14,
           1.0153,
           619745,
           17.6091,
           "SSD"
          ],
          [
           33792617,
           0.6,
           1.0015,
           505992,
           93.9909,
           "ESP"
          ],
          [
           12388769,
           0.27,
           1.0027,
           65610,
           332.7563,
           "LKA"
          ],
          [
           11305206,
           0.59,
           1.0267,
           1886068,
           24.8529,
           "SDN"
          ],
          [
           379918,
           0.01,
           1.0082,
           163820,
           3.7727,
           "SUR"
          ],
          [
           8027702,
           0.13,
           1.0079,
           450295,
           23.4276,
           "SWE"
          ],
          [
           6181227,
           0.11,
           1.0056,
           41284,
           211.7157,
           "CHE"
          ],
          [
           6319199,
           0.28,
           1.0376,
           185180,
           119.4797,
           "SYR"
          ],
          [
           14957870,
           0.3,
           1.0014,
           36193,
           660.1662,
           "TWN"
          ],
          [
           2993019,
           0.12,
           1.0208,
           143100,
           69.5513,
           "TJK"
          ],
          [
           13618192,
           0.82,
           1.03,
           945087,
           69.3034,
           "TZA"
          ],
          [
           35791728,
           0.9,
           1.0013,
           513120,
           139.7276,
           "THA"
          ],
          [
           554021,
           0.02,
           1.0154,
           14874,
           90.1772,
           "TLS"
          ],
          [
           2197383,
           0.11,
           1.0236,
           56785,
           155.8281,
           "TGO"
          ],
          [
           1714,
           0,
           1.0119,
           12,
           155.9167,
           "TKL"
          ],
          [
           86484,
           0,
           1.0079,
           747,
           143.0495,
           "TON"
          ],
          [
           988890,
           0.02,
           1.0035,
           5130,
           298.4491,
           "TTO"
          ],
          [
           5047404,
           0.15,
           1.0076,
           163610,
           75.5218,
           "TUN"
          ],
          [
           35540990,
           1.07,
           1.0067,
           783562,
           108.9145,
           "TUR"
          ],
          [
           2201432,
           0.08,
           1.014,
           488100,
           13.1751,
           "TKM"
          ],
          [
           5665,
           0,
           1.0131,
           948,
           48.2099,
           "TCA"
          ],
          [
           5814,
           0,
           1.0096,
           26,
           435.0769,
           "TUV"
          ],
          [
           10317212,
           0.59,
           1.0304,
           241550,
           195.61,
           "UGA"
          ],
          [
           47279086,
           0.5,
           0.912,
           603500,
           65.7858,
           "UKR"
          ],
          [
           298084,
           0.12,
           1.0081,
           83600,
           112.9322,
           "ARE"
          ],
          [
           55650166,
           0.85,
           1.0034,
           242900,
           277.9289,
           "GBR"
          ],
          [
           200328340,
           4.24,
           1.0038,
           9372610,
           36.0935,
           "USA"
          ],
          [
           63446,
           0,
           0.9937,
           347,
           286.6427,
           "VIR"
          ],
          [
           2790265,
           0.04,
           0.999,
           181034,
           18.9069,
           "URY"
          ],
          [
           12011361,
           0.43,
           1.016,
           447400,
           77.3975,
           "UZB"
          ],
          [
           87019,
           0,
           1.0238,
           12189,
           26.8061,
           "VUT"
          ],
          [
           752,
           0,
           0.998,
           1,
           510,
           "VAT"
          ],
          [
           11355475,
           0.35,
           1.0036,
           916445,
           30.882,
           "VEN"
          ],
          [
           41928849,
           1.23,
           1.0074,
           331212,
           296.4472,
           "VNM"
          ],
          [
           9377,
           0,
           0.9953,
           142,
           81.493,
           "WLF"
          ],
          [
           76371,
           0.01,
           1.0184,
           266000,
           2.1654,
           "ESH"
          ],
          [
           6843607,
           0.42,
           1.0217,
           527968,
           63.8232,
           "YEM"
          ],
          [
           4281671,
           0.25,
           1.028,
           752612,
           26.5976,
           "ZMB"
          ],
          [
           5202918,
           0.2,
           1.0204,
           390757,
           41.7665,
           "ZWE"
          ]
         ],
         "geo": "geo",
         "hovertemplate": "<b>%{hovertext}</b><br><br>World Population Percentage=%{customdata[1]}<br>Growth Rate=%{customdata[2]}<br>Area (km²)=%{customdata[3]}<br>Density (per km²)=%{customdata[4]}<extra></extra>",
         "hovertext": [
          "Afghanistan",
          "Albania",
          "Algeria",
          "American Samoa",
          "Andorra",
          "Angola",
          "Anguilla",
          "Antigua and Barbuda",
          "Argentina",
          "Armenia",
          "Aruba",
          "Australia",
          "Austria",
          "Azerbaijan",
          "Bahamas",
          "Bahrain",
          "Bangladesh",
          "Barbados",
          "Belarus",
          "Belgium",
          "Belize",
          "Benin",
          "Bermuda",
          "Bhutan",
          "Bolivia",
          "Bosnia and Herzegovina",
          "Botswana",
          "Brazil",
          "British Virgin Islands",
          "Brunei",
          "Bulgaria",
          "Burkina Faso",
          "Burundi",
          "Cambodia",
          "Cameroon",
          "Canada",
          "Cape Verde",
          "Cayman Islands",
          "Central African Republic",
          "Chad",
          "Chile",
          "China",
          "Colombia",
          "Comoros",
          "Cook Islands",
          "Costa Rica",
          "Croatia",
          "Cuba",
          "Curacao",
          "Cyprus",
          "Czech Republic",
          "Denmark",
          "Djibouti",
          "Dominica",
          "Dominican Republic",
          "DR Congo",
          "Ecuador",
          "Egypt",
          "El Salvador",
          "Equatorial Guinea",
          "Eritrea",
          "Estonia",
          "Eswatini",
          "Ethiopia",
          "Falkland Islands",
          "Faroe Islands",
          "Fiji",
          "Finland",
          "France",
          "French Guiana",
          "French Polynesia",
          "Gabon",
          "Gambia",
          "Georgia",
          "Germany",
          "Ghana",
          "Gibraltar",
          "Greece",
          "Greenland",
          "Grenada",
          "Guadeloupe",
          "Guam",
          "Guatemala",
          "Guernsey",
          "Guinea",
          "Guinea-Bissau",
          "Guyana",
          "Haiti",
          "Honduras",
          "Hong Kong",
          "Hungary",
          "Iceland",
          "India",
          "Indonesia",
          "Iran",
          "Iraq",
          "Ireland",
          "Isle of Man",
          "Israel",
          "Italy",
          "Ivory Coast",
          "Jamaica",
          "Japan",
          "Jersey",
          "Jordan",
          "Kazakhstan",
          "Kenya",
          "Kiribati",
          "Kuwait",
          "Kyrgyzstan",
          "Laos",
          "Latvia",
          "Lebanon",
          "Lesotho",
          "Liberia",
          "Libya",
          "Liechtenstein",
          "Lithuania",
          "Luxembourg",
          "Macau",
          "Madagascar",
          "Malawi",
          "Malaysia",
          "Maldives",
          "Mali",
          "Malta",
          "Marshall Islands",
          "Martinique",
          "Mauritania",
          "Mauritius",
          "Mayotte",
          "Mexico",
          "Micronesia",
          "Moldova",
          "Monaco",
          "Mongolia",
          "Montenegro",
          "Montserrat",
          "Morocco",
          "Mozambique",
          "Myanmar",
          "Namibia",
          "Nauru",
          "Nepal",
          "Netherlands",
          "New Caledonia",
          "New Zealand",
          "Nicaragua",
          "Niger",
          "Nigeria",
          "Niue",
          "North Korea",
          "North Macedonia",
          "Northern Mariana Islands",
          "Norway",
          "Oman",
          "Pakistan",
          "Palau",
          "Palestine",
          "Panama",
          "Papua New Guinea",
          "Paraguay",
          "Peru",
          "Philippines",
          "Poland",
          "Portugal",
          "Puerto Rico",
          "Qatar",
          "Republic of the Congo",
          "Reunion",
          "Romania",
          "Russia",
          "Rwanda",
          "Saint Barthelemy",
          "Saint Kitts and Nevis",
          "Saint Lucia",
          "Saint Martin",
          "Saint Pierre and Miquelon",
          "Saint Vincent and the Grenadines",
          "Samoa",
          "San Marino",
          "Sao Tome and Principe",
          "Saudi Arabia",
          "Senegal",
          "Serbia",
          "Seychelles",
          "Sierra Leone",
          "Singapore",
          "Sint Maarten",
          "Slovakia",
          "Slovenia",
          "Solomon Islands",
          "Somalia",
          "South Africa",
          "South Korea",
          "South Sudan",
          "Spain",
          "Sri Lanka",
          "Sudan",
          "Suriname",
          "Sweden",
          "Switzerland",
          "Syria",
          "Taiwan",
          "Tajikistan",
          "Tanzania",
          "Thailand",
          "Timor-Leste",
          "Togo",
          "Tokelau",
          "Tonga",
          "Trinidad and Tobago",
          "Tunisia",
          "Turkey",
          "Turkmenistan",
          "Turks and Caicos Islands",
          "Tuvalu",
          "Uganda",
          "Ukraine",
          "United Arab Emirates",
          "United Kingdom",
          "United States",
          "United States Virgin Islands",
          "Uruguay",
          "Uzbekistan",
          "Vanuatu",
          "Vatican City",
          "Venezuela",
          "Vietnam",
          "Wallis and Futuna",
          "Western Sahara",
          "Yemen",
          "Zambia",
          "Zimbabwe"
         ],
         "locationmode": "ISO-3",
         "locations": [
          "AFG",
          "ALB",
          "DZA",
          "ASM",
          "AND",
          "AGO",
          "AIA",
          "ATG",
          "ARG",
          "ARM",
          "ABW",
          "AUS",
          "AUT",
          "AZE",
          "BHS",
          "BHR",
          "BGD",
          "BRB",
          "BLR",
          "BEL",
          "BLZ",
          "BEN",
          "BMU",
          "BTN",
          "BOL",
          "BIH",
          "BWA",
          "BRA",
          "VGB",
          "BRN",
          "BGR",
          "BFA",
          "BDI",
          "KHM",
          "CMR",
          "CAN",
          "CPV",
          "CYM",
          "CAF",
          "TCD",
          "CHL",
          "CHN",
          "COL",
          "COM",
          "COK",
          "CRI",
          "HRV",
          "CUB",
          "CUW",
          "CYP",
          "CZE",
          "DNK",
          "DJI",
          "DMA",
          "DOM",
          "COD",
          "ECU",
          "EGY",
          "SLV",
          "GNQ",
          "ERI",
          "EST",
          "SWZ",
          "ETH",
          "FLK",
          "FRO",
          "FJI",
          "FIN",
          "FRA",
          "GUF",
          "PYF",
          "GAB",
          "GMB",
          "GEO",
          "DEU",
          "GHA",
          "GIB",
          "GRC",
          "GRL",
          "GRD",
          "GLP",
          "GUM",
          "GTM",
          "GGY",
          "GIN",
          "GNB",
          "GUY",
          "HTI",
          "HND",
          "HKG",
          "HUN",
          "ISL",
          "IND",
          "IDN",
          "IRN",
          "IRQ",
          "IRL",
          "IMN",
          "ISR",
          "ITA",
          "CIV",
          "JAM",
          "JPN",
          "JEY",
          "JOR",
          "KAZ",
          "KEN",
          "KIR",
          "KWT",
          "KGZ",
          "LAO",
          "LVA",
          "LBN",
          "LSO",
          "LBR",
          "LBY",
          "LIE",
          "LTU",
          "LUX",
          "MAC",
          "MDG",
          "MWI",
          "MYS",
          "MDV",
          "MLI",
          "MLT",
          "MHL",
          "MTQ",
          "MRT",
          "MUS",
          "MYT",
          "MEX",
          "FSM",
          "MDA",
          "MCO",
          "MNG",
          "MNE",
          "MSR",
          "MAR",
          "MOZ",
          "MMR",
          "NAM",
          "NRU",
          "NPL",
          "NLD",
          "NCL",
          "NZL",
          "NIC",
          "NER",
          "NGA",
          "NIU",
          "PRK",
          "MKD",
          "NFK",
          "NOR",
          "OMN",
          "PAK",
          "PLW",
          "PSE",
          "PAN",
          "PNG",
          "PRY",
          "PER",
          "PHL",
          "POL",
          "PRT",
          "PRI",
          "QAT",
          "COG",
          "REU",
          "ROU",
          "RUS",
          "RWA",
          "BLM",
          "KNA",
          "LCA",
          "MAF",
          "SPM",
          "VCT",
          "WSM",
          "SMR",
          "STP",
          "SAU",
          "SEN",
          "SRB",
          "SYC",
          "SLE",
          "SGP",
          "SXM",
          "SVK",
          "SVN",
          "SLB",
          "SOM",
          "ZAF",
          "KOR",
          "SSD",
          "ESP",
          "LKA",
          "SDN",
          "SUR",
          "SWE",
          "CHE",
          "SYR",
          "TWN",
          "TJK",
          "TZA",
          "THA",
          "TLS",
          "TGO",
          "TKL",
          "TON",
          "TTO",
          "TUN",
          "TUR",
          "TKM",
          "TCA",
          "TUV",
          "UGA",
          "UKR",
          "ARE",
          "GBR",
          "USA",
          "VIR",
          "URY",
          "UZB",
          "VUT",
          "VAT",
          "VEN",
          "VNM",
          "WLF",
          "ESH",
          "YEM",
          "ZMB",
          "ZWE"
         ],
         "name": "",
         "type": "choropleth",
         "z": [
          10752971,
          2324731,
          13795915,
          27075,
          19860,
          6029700,
          6283,
          64516,
          23842803,
          2534377,
          59106,
          12595034,
          7465301,
          5425317,
          179129,
          222555,
          67541860,
          241397,
          9170786,
          9629376,
          120905,
          3023443,
          52019,
          298894,
          4585693,
          3815561,
          592244,
          96369875,
          9581,
          133343,
          8582950,
          5611666,
          3497834,
          6708525,
          6452787,
          21434577,
          287262,
          10533,
          2067356,
          3667394,
          9820481,
          822534450,
          20905254,
          242351,
          20470,
          1855697,
          4492638,
          8869636,
          150385,
          640804,
          9795744,
          4922963,
          144379,
          68895,
          4475871,
          20151733,
          6172215,
          34781986,
          3619090,
          316955,
          1272748,
          1361999,
          442865,
          28308246,
          2274,
          38416,
          527634,
          4606621,
          50523586,
          46484,
          117891,
          597192,
          528731,
          4800426,
          78294583,
          8861895,
          26685,
          8544873,
          45434,
          98794,
          318310,
          88300,
          5453208,
          52656,
          4222374,
          591663,
          705261,
          4680812,
          2782753,
          3955072,
          10315366,
          204468,
          557501301,
          115228394,
          28449705,
          9811347,
          2937637,
          55298,
          2907307,
          53324036,
          5477086,
          1859091,
          105416839,
          68347,
          1557374,
          12265305,
          11473087,
          57437,
          802786,
          3016384,
          2675283,
          2397414,
          2381791,
          1023481,
          1463563,
          1909177,
          21089,
          3210147,
          339342,
          247284,
          6639751,
          4625141,
          10306508,
          123243,
          6153587,
          315414,
          23969,
          326428,
          1122198,
          830115,
          35383,
          50289306,
          58989,
          3711140,
          24270,
          1293880,
          530268,
          11402,
          15274351,
          8411676,
          27284112,
          754467,
          6663,
          12501285,
          13037686,
          110982,
          2824061,
          2444767,
          4669708,
          55569264,
          5185,
          14996879,
          1656783,
          10143,
          3875546,
          670693,
          59290872,
          11366,
          1118241,
          1516188,
          2489059,
          2408787,
          13562371,
          37435586,
          32482943,
          8683631,
          2737619,
          118007,
          1396989,
          473925,
          19922618,
          130093010,
          3896367,
          2417,
          44968,
          103090,
          5802,
          5537,
          98459,
          142771,
          18169,
          77583,
          6106191,
          4367744,
          7193533,
          54379,
          2778557,
          2061831,
          6260,
          4522867,
          1741286,
          172833,
          3720977,
          22368306,
          32601143,
          3342410,
          33792617,
          12388769,
          11305206,
          379918,
          8027702,
          6181227,
          6319199,
          14957870,
          2993019,
          13618192,
          35791728,
          554021,
          2197383,
          1714,
          86484,
          988890,
          5047404,
          35540990,
          2201432,
          5665,
          5814,
          10317212,
          47279086,
          298084,
          55650166,
          200328340,
          63446,
          2790265,
          12011361,
          87019,
          752,
          11355475,
          41928849,
          9377,
          76371,
          6843607,
          4281671,
          5202918
         ]
        }
       ],
       "layout": {
        "coloraxis": {
         "colorbar": {
          "title": {
           "text": "1970 Population"
          }
         },
         "colorscale": [
          [
           0,
           "rgb(243, 231, 155)"
          ],
          [
           0.16666666666666666,
           "rgb(250, 196, 132)"
          ],
          [
           0.3333333333333333,
           "rgb(248, 160, 126)"
          ],
          [
           0.5,
           "rgb(235, 127, 134)"
          ],
          [
           0.6666666666666666,
           "rgb(206, 102, 147)"
          ],
          [
           0.8333333333333334,
           "rgb(160, 89, 160)"
          ],
          [
           1,
           "rgb(92, 83, 165)"
          ]
         ]
        },
        "geo": {
         "center": {},
         "domain": {
          "x": [
           0,
           1
          ],
          "y": [
           0,
           1
          ]
         },
         "projection": {
          "type": "hammer"
         },
         "scope": "world"
        },
        "legend": {
         "tracegroupgap": 0
        },
        "template": {
         "data": {
          "bar": [
           {
            "error_x": {
             "color": "#2a3f5f"
            },
            "error_y": {
             "color": "#2a3f5f"
            },
            "marker": {
             "line": {
              "color": "#E5ECF6",
              "width": 0.5
             },
             "pattern": {
              "fillmode": "overlay",
              "size": 10,
              "solidity": 0.2
             }
            },
            "type": "bar"
           }
          ],
          "barpolar": [
           {
            "marker": {
             "line": {
              "color": "#E5ECF6",
              "width": 0.5
             },
             "pattern": {
              "fillmode": "overlay",
              "size": 10,
              "solidity": 0.2
             }
            },
            "type": "barpolar"
           }
          ],
          "carpet": [
           {
            "aaxis": {
             "endlinecolor": "#2a3f5f",
             "gridcolor": "white",
             "linecolor": "white",
             "minorgridcolor": "white",
             "startlinecolor": "#2a3f5f"
            },
            "baxis": {
             "endlinecolor": "#2a3f5f",
             "gridcolor": "white",
             "linecolor": "white",
             "minorgridcolor": "white",
             "startlinecolor": "#2a3f5f"
            },
            "type": "carpet"
           }
          ],
          "choropleth": [
           {
            "colorbar": {
             "outlinewidth": 0,
             "ticks": ""
            },
            "type": "choropleth"
           }
          ],
          "contour": [
           {
            "colorbar": {
             "outlinewidth": 0,
             "ticks": ""
            },
            "colorscale": [
             [
              0,
              "#0d0887"
             ],
             [
              0.1111111111111111,
              "#46039f"
             ],
             [
              0.2222222222222222,
              "#7201a8"
             ],
             [
              0.3333333333333333,
              "#9c179e"
             ],
             [
              0.4444444444444444,
              "#bd3786"
             ],
             [
              0.5555555555555556,
              "#d8576b"
             ],
             [
              0.6666666666666666,
              "#ed7953"
             ],
             [
              0.7777777777777778,
              "#fb9f3a"
             ],
             [
              0.8888888888888888,
              "#fdca26"
             ],
             [
              1,
              "#f0f921"
             ]
            ],
            "type": "contour"
           }
          ],
          "contourcarpet": [
           {
            "colorbar": {
             "outlinewidth": 0,
             "ticks": ""
            },
            "type": "contourcarpet"
           }
          ],
          "heatmap": [
           {
            "colorbar": {
             "outlinewidth": 0,
             "ticks": ""
            },
            "colorscale": [
             [
              0,
              "#0d0887"
             ],
             [
              0.1111111111111111,
              "#46039f"
             ],
             [
              0.2222222222222222,
              "#7201a8"
             ],
             [
              0.3333333333333333,
              "#9c179e"
             ],
             [
              0.4444444444444444,
              "#bd3786"
             ],
             [
              0.5555555555555556,
              "#d8576b"
             ],
             [
              0.6666666666666666,
              "#ed7953"
             ],
             [
              0.7777777777777778,
              "#fb9f3a"
             ],
             [
              0.8888888888888888,
              "#fdca26"
             ],
             [
              1,
              "#f0f921"
             ]
            ],
            "type": "heatmap"
           }
          ],
          "heatmapgl": [
           {
            "colorbar": {
             "outlinewidth": 0,
             "ticks": ""
            },
            "colorscale": [
             [
              0,
              "#0d0887"
             ],
             [
              0.1111111111111111,
              "#46039f"
             ],
             [
              0.2222222222222222,
              "#7201a8"
             ],
             [
              0.3333333333333333,
              "#9c179e"
             ],
             [
              0.4444444444444444,
              "#bd3786"
             ],
             [
              0.5555555555555556,
              "#d8576b"
             ],
             [
              0.6666666666666666,
              "#ed7953"
             ],
             [
              0.7777777777777778,
              "#fb9f3a"
             ],
             [
              0.8888888888888888,
              "#fdca26"
             ],
             [
              1,
              "#f0f921"
             ]
            ],
            "type": "heatmapgl"
           }
          ],
          "histogram": [
           {
            "marker": {
             "pattern": {
              "fillmode": "overlay",
              "size": 10,
              "solidity": 0.2
             }
            },
            "type": "histogram"
           }
          ],
          "histogram2d": [
           {
            "colorbar": {
             "outlinewidth": 0,
             "ticks": ""
            },
            "colorscale": [
             [
              0,
              "#0d0887"
             ],
             [
              0.1111111111111111,
              "#46039f"
             ],
             [
              0.2222222222222222,
              "#7201a8"
             ],
             [
              0.3333333333333333,
              "#9c179e"
             ],
             [
              0.4444444444444444,
              "#bd3786"
             ],
             [
              0.5555555555555556,
              "#d8576b"
             ],
             [
              0.6666666666666666,
              "#ed7953"
             ],
             [
              0.7777777777777778,
              "#fb9f3a"
             ],
             [
              0.8888888888888888,
              "#fdca26"
             ],
             [
              1,
              "#f0f921"
             ]
            ],
            "type": "histogram2d"
           }
          ],
          "histogram2dcontour": [
           {
            "colorbar": {
             "outlinewidth": 0,
             "ticks": ""
            },
            "colorscale": [
             [
              0,
              "#0d0887"
             ],
             [
              0.1111111111111111,
              "#46039f"
             ],
             [
              0.2222222222222222,
              "#7201a8"
             ],
             [
              0.3333333333333333,
              "#9c179e"
             ],
             [
              0.4444444444444444,
              "#bd3786"
             ],
             [
              0.5555555555555556,
              "#d8576b"
             ],
             [
              0.6666666666666666,
              "#ed7953"
             ],
             [
              0.7777777777777778,
              "#fb9f3a"
             ],
             [
              0.8888888888888888,
              "#fdca26"
             ],
             [
              1,
              "#f0f921"
             ]
            ],
            "type": "histogram2dcontour"
           }
          ],
          "mesh3d": [
           {
            "colorbar": {
             "outlinewidth": 0,
             "ticks": ""
            },
            "type": "mesh3d"
           }
          ],
          "parcoords": [
           {
            "line": {
             "colorbar": {
              "outlinewidth": 0,
              "ticks": ""
             }
            },
            "type": "parcoords"
           }
          ],
          "pie": [
           {
            "automargin": true,
            "type": "pie"
           }
          ],
          "scatter": [
           {
            "fillpattern": {
             "fillmode": "overlay",
             "size": 10,
             "solidity": 0.2
            },
            "type": "scatter"
           }
          ],
          "scatter3d": [
           {
            "line": {
             "colorbar": {
              "outlinewidth": 0,
              "ticks": ""
             }
            },
            "marker": {
             "colorbar": {
              "outlinewidth": 0,
              "ticks": ""
             }
            },
            "type": "scatter3d"
           }
          ],
          "scattercarpet": [
           {
            "marker": {
             "colorbar": {
              "outlinewidth": 0,
              "ticks": ""
             }
            },
            "type": "scattercarpet"
           }
          ],
          "scattergeo": [
           {
            "marker": {
             "colorbar": {
              "outlinewidth": 0,
              "ticks": ""
             }
            },
            "type": "scattergeo"
           }
          ],
          "scattergl": [
           {
            "marker": {
             "colorbar": {
              "outlinewidth": 0,
              "ticks": ""
             }
            },
            "type": "scattergl"
           }
          ],
          "scattermapbox": [
           {
            "marker": {
             "colorbar": {
              "outlinewidth": 0,
              "ticks": ""
             }
            },
            "type": "scattermapbox"
           }
          ],
          "scatterpolar": [
           {
            "marker": {
             "colorbar": {
              "outlinewidth": 0,
              "ticks": ""
             }
            },
            "type": "scatterpolar"
           }
          ],
          "scatterpolargl": [
           {
            "marker": {
             "colorbar": {
              "outlinewidth": 0,
              "ticks": ""
             }
            },
            "type": "scatterpolargl"
           }
          ],
          "scatterternary": [
           {
            "marker": {
             "colorbar": {
              "outlinewidth": 0,
              "ticks": ""
             }
            },
            "type": "scatterternary"
           }
          ],
          "surface": [
           {
            "colorbar": {
             "outlinewidth": 0,
             "ticks": ""
            },
            "colorscale": [
             [
              0,
              "#0d0887"
             ],
             [
              0.1111111111111111,
              "#46039f"
             ],
             [
              0.2222222222222222,
              "#7201a8"
             ],
             [
              0.3333333333333333,
              "#9c179e"
             ],
             [
              0.4444444444444444,
              "#bd3786"
             ],
             [
              0.5555555555555556,
              "#d8576b"
             ],
             [
              0.6666666666666666,
              "#ed7953"
             ],
             [
              0.7777777777777778,
              "#fb9f3a"
             ],
             [
              0.8888888888888888,
              "#fdca26"
             ],
             [
              1,
              "#f0f921"
             ]
            ],
            "type": "surface"
           }
          ],
          "table": [
           {
            "cells": {
             "fill": {
              "color": "#EBF0F8"
             },
             "line": {
              "color": "white"
             }
            },
            "header": {
             "fill": {
              "color": "#C8D4E3"
             },
             "line": {
              "color": "white"
             }
            },
            "type": "table"
           }
          ]
         },
         "layout": {
          "annotationdefaults": {
           "arrowcolor": "#2a3f5f",
           "arrowhead": 0,
           "arrowwidth": 1
          },
          "autotypenumbers": "strict",
          "coloraxis": {
           "colorbar": {
            "outlinewidth": 0,
            "ticks": ""
           }
          },
          "colorscale": {
           "diverging": [
            [
             0,
             "#8e0152"
            ],
            [
             0.1,
             "#c51b7d"
            ],
            [
             0.2,
             "#de77ae"
            ],
            [
             0.3,
             "#f1b6da"
            ],
            [
             0.4,
             "#fde0ef"
            ],
            [
             0.5,
             "#f7f7f7"
            ],
            [
             0.6,
             "#e6f5d0"
            ],
            [
             0.7,
             "#b8e186"
            ],
            [
             0.8,
             "#7fbc41"
            ],
            [
             0.9,
             "#4d9221"
            ],
            [
             1,
             "#276419"
            ]
           ],
           "sequential": [
            [
             0,
             "#0d0887"
            ],
            [
             0.1111111111111111,
             "#46039f"
            ],
            [
             0.2222222222222222,
             "#7201a8"
            ],
            [
             0.3333333333333333,
             "#9c179e"
            ],
            [
             0.4444444444444444,
             "#bd3786"
            ],
            [
             0.5555555555555556,
             "#d8576b"
            ],
            [
             0.6666666666666666,
             "#ed7953"
            ],
            [
             0.7777777777777778,
             "#fb9f3a"
            ],
            [
             0.8888888888888888,
             "#fdca26"
            ],
            [
             1,
             "#f0f921"
            ]
           ],
           "sequentialminus": [
            [
             0,
             "#0d0887"
            ],
            [
             0.1111111111111111,
             "#46039f"
            ],
            [
             0.2222222222222222,
             "#7201a8"
            ],
            [
             0.3333333333333333,
             "#9c179e"
            ],
            [
             0.4444444444444444,
             "#bd3786"
            ],
            [
             0.5555555555555556,
             "#d8576b"
            ],
            [
             0.6666666666666666,
             "#ed7953"
            ],
            [
             0.7777777777777778,
             "#fb9f3a"
            ],
            [
             0.8888888888888888,
             "#fdca26"
            ],
            [
             1,
             "#f0f921"
            ]
           ]
          },
          "colorway": [
           "#636efa",
           "#EF553B",
           "#00cc96",
           "#ab63fa",
           "#FFA15A",
           "#19d3f3",
           "#FF6692",
           "#B6E880",
           "#FF97FF",
           "#FECB52"
          ],
          "font": {
           "color": "#2a3f5f"
          },
          "geo": {
           "bgcolor": "white",
           "lakecolor": "white",
           "landcolor": "#E5ECF6",
           "showlakes": true,
           "showland": true,
           "subunitcolor": "white"
          },
          "hoverlabel": {
           "align": "left"
          },
          "hovermode": "closest",
          "mapbox": {
           "style": "light"
          },
          "paper_bgcolor": "white",
          "plot_bgcolor": "#E5ECF6",
          "polar": {
           "angularaxis": {
            "gridcolor": "white",
            "linecolor": "white",
            "ticks": ""
           },
           "bgcolor": "#E5ECF6",
           "radialaxis": {
            "gridcolor": "white",
            "linecolor": "white",
            "ticks": ""
           }
          },
          "scene": {
           "xaxis": {
            "backgroundcolor": "#E5ECF6",
            "gridcolor": "white",
            "gridwidth": 2,
            "linecolor": "white",
            "showbackground": true,
            "ticks": "",
            "zerolinecolor": "white"
           },
           "yaxis": {
            "backgroundcolor": "#E5ECF6",
            "gridcolor": "white",
            "gridwidth": 2,
            "linecolor": "white",
            "showbackground": true,
            "ticks": "",
            "zerolinecolor": "white"
           },
           "zaxis": {
            "backgroundcolor": "#E5ECF6",
            "gridcolor": "white",
            "gridwidth": 2,
            "linecolor": "white",
            "showbackground": true,
            "ticks": "",
            "zerolinecolor": "white"
           }
          },
          "shapedefaults": {
           "line": {
            "color": "#2a3f5f"
           }
          },
          "ternary": {
           "aaxis": {
            "gridcolor": "white",
            "linecolor": "white",
            "ticks": ""
           },
           "baxis": {
            "gridcolor": "white",
            "linecolor": "white",
            "ticks": ""
           },
           "bgcolor": "#E5ECF6",
           "caxis": {
            "gridcolor": "white",
            "linecolor": "white",
            "ticks": ""
           }
          },
          "title": {
           "x": 0.05
          },
          "xaxis": {
           "automargin": true,
           "gridcolor": "white",
           "linecolor": "white",
           "ticks": "",
           "title": {
            "standoff": 15
           },
           "zerolinecolor": "white",
           "zerolinewidth": 2
          },
          "yaxis": {
           "automargin": true,
           "gridcolor": "white",
           "linecolor": "white",
           "ticks": "",
           "title": {
            "standoff": 15
           },
           "zerolinecolor": "white",
           "zerolinewidth": 2
          }
         }
        },
        "title": {
         "text": "World Population by Country in 1970"
        }
       }
      },
      "text/html": [
       "<div>                            <div id=\"697bb74b-ca94-4abe-ae70-2b4e054b8475\" class=\"plotly-graph-div\" style=\"height:525px; width:100%;\"></div>            <script type=\"text/javascript\">                require([\"plotly\"], function(Plotly) {                    window.PLOTLYENV=window.PLOTLYENV || {};                                    if (document.getElementById(\"697bb74b-ca94-4abe-ae70-2b4e054b8475\")) {                    Plotly.newPlot(                        \"697bb74b-ca94-4abe-ae70-2b4e054b8475\",                        [{\"coloraxis\":\"coloraxis\",\"customdata\":[[10752971,0.52,1.0257,652230,63.0587,\"AFG\"],[2324731,0.04,0.9957,28748,98.8702,\"ALB\"],[13795915,0.56,1.0164,2381741,18.8531,\"DZA\"],[27075,0.0,0.9831,199,222.4774,\"ASM\"],[19860,0.0,1.01,468,170.5641,\"AND\"],[6029700,0.45,1.0315,1246700,28.5466,\"AGO\"],[6283,0.0,1.0066,91,174.2527,\"AIA\"],[64516,0.0,1.0058,442,212.1335,\"ATG\"],[23842803,0.57,1.0052,2780400,16.3683,\"ARG\"],[2534377,0.03,0.9962,29743,93.4831,\"ARM\"],[59106,0.0,0.9991,180,591.3611,\"ABW\"],[12595034,0.33,1.0099,7692024,3.4032,\"AUS\"],[7465301,0.11,1.002,83871,106.5877,\"AUT\"],[5425317,0.13,1.0044,86600,119.6082,\"AZE\"],[179129,0.01,1.0051,13943,29.4043,\"BHS\"],[222555,0.02,1.0061,765,1924.4876,\"BHR\"],[67541860,2.15,1.0108,147570,1160.035,\"BGD\"],[241397,0.0,1.0015,430,654.9651,\"BRB\"],[9170786,0.12,0.9955,207600,45.9295,\"BLR\"],[9629376,0.15,1.0038,30528,381.8111,\"BEL\"],[120905,0.01,1.0131,22966,17.6466,\"BLZ\"],[3023443,0.17,1.0274,112622,118.5635,\"BEN\"],[52019,0.0,1.0,54,1188.5926,\"BMU\"],[298894,0.01,1.0064,38394,20.3796,\"BTN\"],[4585693,0.15,1.012,1098581,11.1272,\"BOL\"],[3815561,0.04,0.9886,51209,63.1437,\"BIH\"],[592244,0.03,1.0162,582000,4.5194,\"BWA\"],[96369875,2.7,1.0046,8515767,25.2841,\"BRA\"],[9581,0.0,1.0059,151,207.3179,\"VGB\"],[133343,0.01,1.0081,5765,77.8841,\"BRN\"],[8582950,0.09,0.9849,110879,61.1654,\"BGR\"],[5611666,0.28,1.0259,272967,83.0641,\"BFA\"],[3497834,0.16,1.027,27834,463.0874,\"BDI\"],[6708525,0.21,1.0108,181035,92.6221,\"KHM\"],[6452787,0.35,1.0263,475442,58.7128,\"CMR\"],[21434577,0.48,1.0078,9984670,3.8513,\"CAN\"],[287262,0.01,1.0089,4033,147.0739,\"CPV\"],[10533,0.0,1.0084,264,260.25,\"CYM\"],[2067356,0.07,1.0224,622984,8.9555,\"CAF\"],[3667394,0.22,1.0316,1284000,13.8032,\"TCD\"],[9820481,0.25,1.0057,756102,25.9274,\"CHL\"],[822534450,17.88,1.0,9706961,146.8933,\"CHN\"],[20905254,0.65,1.0069,1141748,45.4339,\"COL\"],[242351,0.01,1.0184,1862,449.3953,\"COM\"],[20470,0.0,1.0005,236,72.0805,\"COK\"],[1855697,0.06,1.0052,51100,101.3861,\"CRI\"],[4492638,0.05,0.9927,56594,71.2153,\"HRV\"],[8869636,0.14,0.9961,109884,102.0366,\"CUB\"],[150385,0.0,1.0043,444,430.5473,\"CUW\"],[640804,0.02,1.0059,9251,135.2814,\"CYP\"],[9795744,0.13,0.9984,78865,133.0627,\"CZE\"],[4922963,0.07,1.0048,43094,136.4984,\"DNK\"],[144379,0.01,1.0138,23200,48.3125,\"DJI\"],[68895,0.0,1.0045,751,96.8535,\"DMA\"],[4475871,0.14,1.01,48671,230.7087,\"DOM\"],[20151733,1.24,1.0325,2344858,42.2244,\"COD\"],[6172215,0.23,1.0114,276841,65.0229,\"ECU\"],[34781986,1.39,1.0158,1002450,110.7188,\"EGY\"],[3619090,0.08,1.0035,21041,301.145,\"SLV\"],[316955,0.02,1.0247,28051,59.7094,\"GNQ\"],[1272748,0.05,1.0176,117600,31.3268,\"ERI\"],[1361999,0.02,0.998,45227,29.3201,\"EST\"],[442865,0.02,1.0079,17364,69.2047,\"SWZ\"],[28308246,1.55,1.0257,1104300,111.7268,\"ETH\"],[2274,0.0,1.0043,12173,0.3105,\"FLK\"],[38416,0.0,1.0038,1393,38.112,\"FRO\"],[527634,0.01,1.0056,18272,50.8847,\"FJI\"],[4606621,0.07,1.0009,338424,16.3722,\"FIN\"],[50523586,0.81,1.0015,551695,117.1419,\"FRA\"],[46484,0.0,1.0239,83534,3.6459,\"GUF\"],[117891,0.0,1.0074,4167,73.5011,\"PYF\"],[597192,0.03,1.0204,267668,8.9252,\"GAB\"],[528731,0.03,1.025,10689,253.1567,\"GMB\"],[4800426,0.05,0.9964,69700,53.7214,\"GEO\"],[78294583,1.05,0.9995,357114,233.4544,\"DEU\"],[8861895,0.42,1.0196,238533,140.3406,\"GHA\"],[26685,0.0,0.9994,6,5441.5,\"GIB\"],[8544873,0.13,0.9942,131990,78.68,\"GRC\"],[45434,0.0,1.004,2166086,0.0261,\"GRL\"],[98794,0.0,1.0066,344,364.6453,\"GRD\"],[318310,0.0,0.9992,1628,243.0909,\"GLP\"],[88300,0.0,1.0073,549,312.8852,\"GUM\"],[5453208,0.22,1.0134,108889,163.8725,\"GTM\"],[52656,0.0,1.0037,78,811.5513,\"GGY\"],[4222374,0.17,1.0242,245857,56.3716,\"GIN\"],[591663,0.03,1.0218,36125,58.2856,\"GNB\"],[705261,0.01,1.0052,214969,3.7621,\"GUY\"],[4680812,0.15,1.012,27750,417.4773,\"HTI\"],[2782753,0.13,1.015,112492,92.7431,\"HND\"],[3955072,0.09,0.9992,1104,6783.3922,\"HKG\"],[10315366,0.12,1.0265,93028,107.1431,\"HUN\"],[204468,0.0,1.0069,103000,3.6204,\"ISL\"],[557501301,17.77,1.0068,3287590,431.0675,\"IND\"],[115228394,3.45,1.0064,1904569,144.6529,\"IDN\"],[28449705,1.11,1.0071,1648195,53.7258,\"IRN\"],[9811347,0.56,1.0221,438317,101.5158,\"IRQ\"],[2937637,0.06,1.0073,70273,71.4799,\"IRL\"],[55298,0.0,1.003,572,147.7605,\"IMN\"],[2907307,0.11,1.0155,20770,435.1617,\"ISR\"],[53324036,0.74,0.9966,301336,195.9191,\"ITA\"],[5477086,0.35,1.0248,322463,87.3295,\"CIV\"],[1859091,0.04,0.9999,10991,257.2447,\"JAM\"],[105416839,1.55,0.9947,377930,327.9753,\"JPN\"],[68347,0.0,1.0106,116,954.9828,\"JEY\"],[1557374,0.14,1.0123,89342,126.3221,\"JOR\"],[12265305,0.24,1.0105,2724900,7.1188,\"KAZ\"],[11473087,0.68,1.0193,580367,93.0919,\"KEN\"],[57437,0.0,1.0183,811,161.815,\"KIR\"],[802786,0.05,1.0044,17818,239.5821,\"KWT\"],[3016384,0.08,1.0158,199951,33.1612,\"KGZ\"],[2675283,0.09,1.0141,236800,31.7968,\"LAO\"],[2397414,0.02,0.9876,64559,28.666,\"LVA\"],[2381791,0.07,0.9816,10452,525.2334,\"LBN\"],[1023481,0.03,1.0107,30355,75.962,\"LSO\"],[1463563,0.07,1.021,111369,47.6136,\"LBR\"],[1909177,0.09,1.0114,1759540,3.8717,\"LBY\"],[21089,0.0,1.0074,160,245.7937,\"LIE\"],[3210147,0.03,0.9869,65300,42.1142,\"LTU\"],[339342,0.01,1.0129,2586,250.425,\"LUX\"],[247284,0.01,1.0125,30,23172.2667,\"MAC\"],[6639751,0.37,1.0241,587041,50.4423,\"MDG\"],[4625141,0.26,1.0259,118484,172.22,\"MWI\"],[10306508,0.43,1.0109,330803,102.5934,\"MYS\"],[123243,0.01,1.0045,300,1745.9567,\"MDV\"],[6153587,0.28,1.0314,1240192,18.2178,\"MLI\"],[315414,0.01,1.0124,316,1687.6139,\"MLT\"],[23969,0.0,0.9886,181,229.663,\"MHL\"],[326428,0.0,0.9965,1128,325.8041,\"MTQ\"],[1122198,0.06,1.0263,1030700,4.5951,\"MRT\"],[830115,0.02,1.0004,2040,636.9946,\"MUS\"],[35383,0.0,1.0319,374,871.9278,\"MYT\"],[50289306,1.6,1.0063,1964375,64.9082,\"MEX\"],[58989,0.0,1.0091,702,162.6268,\"FSM\"],[3711140,0.04,1.0691,33846,96.7026,\"MDA\"],[24270,0.0,0.9941,2,18234.5,\"MCO\"],[1293880,0.04,1.0151,1564110,2.1727,\"MNG\"],[530268,0.01,0.9988,13812,45.4012,\"MNE\"],[11402,0.0,0.9939,102,43.0392,\"MSR\"],[15274351,0.47,1.0103,446550,83.883,\"MAR\"],[8411676,0.41,1.0278,801590,41.1302,\"MOZ\"],[27284112,0.68,1.0071,676578,80.0784,\"MMR\"],[754467,0.03,1.0146,825615,3.1092,\"NAM\"],[6663,0.0,1.0125,21,603.2381,\"NRU\"],[12501285,0.38,1.0171,147181,207.5511,\"NPL\"],[13037686,0.22,1.0036,41850,419.6897,\"NLD\"],[110982,0.0,1.0075,18575,15.6097,\"NCL\"],[2824061,0.07,1.0108,270467,19.1716,\"NZL\"],[2444767,0.09,1.0143,130373,53.2962,\"NIC\"],[4669708,0.33,1.0378,1267000,20.6851,\"NER\"],[55569264,2.74,1.0241,923768,236.5759,\"NGA\"],[5185,0.0,0.9985,260,7.4385,\"NIU\"],[14996879,0.33,1.0038,120538,216.2755,\"PRK\"],[1656783,0.03,0.9954,25713,81.4218,\"MKD\"],[10143,0.0,1.0014,464,106.7909,\"NFK\"],[3875546,0.07,1.0058,323802,16.7828,\"NOR\"],[670693,0.06,1.0123,309500,14.7861,\"OMN\"],[59290872,2.96,1.0191,881912,267.4018,\"PAK\"],[11366,0.0,1.0017,459,39.3355,\"PLW\"],[1118241,0.07,1.0227,6220,844.063,\"PSE\"],[1516188,0.06,1.0132,75417,58.4561,\"PAN\"],[2489059,0.13,1.0194,462840,21.9139,\"PNG\"],[2408787,0.09,1.0115,406752,16.6705,\"PRY\"],[13562371,0.43,1.0099,1285216,26.4933,\"PER\"],[37435586,1.45,1.0147,342353,337.5434,\"PHL\"],[32482943,0.5,1.0404,312679,127.4698,\"POL\"],[8683631,0.13,0.9981,92090,111.5307,\"PRT\"],[2737619,0.04,0.9989,8870,366.675,\"PRI\"],[118007,0.03,1.0026,11586,232.6189,\"QAT\"],[1396989,0.07,1.0231,342000,17.4574,\"COG\"],[473925,0.01,1.0082,2511,387.914,\"REU\"],[19922618,0.25,1.0171,238391,82.4665,\"ROU\"],[130093010,1.81,0.9973,17098242,8.4636,\"RUS\"],[3896367,0.17,1.0234,26338,523.0731,\"RWA\"],[2417,0.0,1.0098,21,522.2381,\"BLM\"],[44968,0.0,1.0011,261,182.5939,\"KNA\"],[103090,0.0,1.0011,616,291.9756,\"LCA\"],[5802,0.0,0.9951,53,599.8302,\"MAF\"],[5537,0.0,0.9964,242,24.2231,\"SPM\"],[98459,0.0,0.9963,389,267.2185,\"VCT\"],[142771,0.0,1.0165,2842,78.2484,\"WSM\"],[18169,0.0,0.9975,61,551.8033,\"SMR\"],[77583,0.0,1.0192,964,235.8714,\"STP\"],[6106191,0.46,1.0128,2149690,16.9368,\"SAU\"],[4367744,0.22,1.0261,196722,88.025,\"SEN\"],[7193533,0.09,0.9897,88361,81.7257,\"SRB\"],[54379,0.0,1.0061,452,236.9867,\"SYC\"],[2778557,0.11,1.022,71740,119.957,\"SLE\"],[2061831,0.07,1.0058,710,8416.4634,\"SGP\"],[6260,0.0,1.003,34,1299.2647,\"SXM\"],[4522867,0.07,1.0359,49037,115.0856,\"SVK\"],[1741286,0.03,1.0002,20273,104.5649,\"SVN\"],[172833,0.01,1.0232,28896,25.0648,\"SLB\"],[3720977,0.22,1.0312,637657,27.5971,\"SOM\"],[22368306,0.75,1.0084,1221037,49.0517,\"ZAF\"],[32601143,0.65,0.9997,100210,517.0722,\"KOR\"],[3342410,0.14,1.0153,619745,17.6091,\"SSD\"],[33792617,0.6,1.0015,505992,93.9909,\"ESP\"],[12388769,0.27,1.0027,65610,332.7563,\"LKA\"],[11305206,0.59,1.0267,1886068,24.8529,\"SDN\"],[379918,0.01,1.0082,163820,3.7727,\"SUR\"],[8027702,0.13,1.0079,450295,23.4276,\"SWE\"],[6181227,0.11,1.0056,41284,211.7157,\"CHE\"],[6319199,0.28,1.0376,185180,119.4797,\"SYR\"],[14957870,0.3,1.0014,36193,660.1662,\"TWN\"],[2993019,0.12,1.0208,143100,69.5513,\"TJK\"],[13618192,0.82,1.03,945087,69.3034,\"TZA\"],[35791728,0.9,1.0013,513120,139.7276,\"THA\"],[554021,0.02,1.0154,14874,90.1772,\"TLS\"],[2197383,0.11,1.0236,56785,155.8281,\"TGO\"],[1714,0.0,1.0119,12,155.9167,\"TKL\"],[86484,0.0,1.0079,747,143.0495,\"TON\"],[988890,0.02,1.0035,5130,298.4491,\"TTO\"],[5047404,0.15,1.0076,163610,75.5218,\"TUN\"],[35540990,1.07,1.0067,783562,108.9145,\"TUR\"],[2201432,0.08,1.014,488100,13.1751,\"TKM\"],[5665,0.0,1.0131,948,48.2099,\"TCA\"],[5814,0.0,1.0096,26,435.0769,\"TUV\"],[10317212,0.59,1.0304,241550,195.61,\"UGA\"],[47279086,0.5,0.912,603500,65.7858,\"UKR\"],[298084,0.12,1.0081,83600,112.9322,\"ARE\"],[55650166,0.85,1.0034,242900,277.9289,\"GBR\"],[200328340,4.24,1.0038,9372610,36.0935,\"USA\"],[63446,0.0,0.9937,347,286.6427,\"VIR\"],[2790265,0.04,0.999,181034,18.9069,\"URY\"],[12011361,0.43,1.016,447400,77.3975,\"UZB\"],[87019,0.0,1.0238,12189,26.8061,\"VUT\"],[752,0.0,0.998,1,510.0,\"VAT\"],[11355475,0.35,1.0036,916445,30.882,\"VEN\"],[41928849,1.23,1.0074,331212,296.4472,\"VNM\"],[9377,0.0,0.9953,142,81.493,\"WLF\"],[76371,0.01,1.0184,266000,2.1654,\"ESH\"],[6843607,0.42,1.0217,527968,63.8232,\"YEM\"],[4281671,0.25,1.028,752612,26.5976,\"ZMB\"],[5202918,0.2,1.0204,390757,41.7665,\"ZWE\"]],\"geo\":\"geo\",\"hovertemplate\":\"<b>%{hovertext}</b><br><br>World Population Percentage=%{customdata[1]}<br>Growth Rate=%{customdata[2]}<br>Area (km\\u00b2)=%{customdata[3]}<br>Density (per km\\u00b2)=%{customdata[4]}<extra></extra>\",\"hovertext\":[\"Afghanistan\",\"Albania\",\"Algeria\",\"American Samoa\",\"Andorra\",\"Angola\",\"Anguilla\",\"Antigua and Barbuda\",\"Argentina\",\"Armenia\",\"Aruba\",\"Australia\",\"Austria\",\"Azerbaijan\",\"Bahamas\",\"Bahrain\",\"Bangladesh\",\"Barbados\",\"Belarus\",\"Belgium\",\"Belize\",\"Benin\",\"Bermuda\",\"Bhutan\",\"Bolivia\",\"Bosnia and Herzegovina\",\"Botswana\",\"Brazil\",\"British Virgin Islands\",\"Brunei\",\"Bulgaria\",\"Burkina Faso\",\"Burundi\",\"Cambodia\",\"Cameroon\",\"Canada\",\"Cape Verde\",\"Cayman Islands\",\"Central African Republic\",\"Chad\",\"Chile\",\"China\",\"Colombia\",\"Comoros\",\"Cook Islands\",\"Costa Rica\",\"Croatia\",\"Cuba\",\"Curacao\",\"Cyprus\",\"Czech Republic\",\"Denmark\",\"Djibouti\",\"Dominica\",\"Dominican Republic\",\"DR Congo\",\"Ecuador\",\"Egypt\",\"El Salvador\",\"Equatorial Guinea\",\"Eritrea\",\"Estonia\",\"Eswatini\",\"Ethiopia\",\"Falkland Islands\",\"Faroe Islands\",\"Fiji\",\"Finland\",\"France\",\"French Guiana\",\"French Polynesia\",\"Gabon\",\"Gambia\",\"Georgia\",\"Germany\",\"Ghana\",\"Gibraltar\",\"Greece\",\"Greenland\",\"Grenada\",\"Guadeloupe\",\"Guam\",\"Guatemala\",\"Guernsey\",\"Guinea\",\"Guinea-Bissau\",\"Guyana\",\"Haiti\",\"Honduras\",\"Hong Kong\",\"Hungary\",\"Iceland\",\"India\",\"Indonesia\",\"Iran\",\"Iraq\",\"Ireland\",\"Isle of Man\",\"Israel\",\"Italy\",\"Ivory Coast\",\"Jamaica\",\"Japan\",\"Jersey\",\"Jordan\",\"Kazakhstan\",\"Kenya\",\"Kiribati\",\"Kuwait\",\"Kyrgyzstan\",\"Laos\",\"Latvia\",\"Lebanon\",\"Lesotho\",\"Liberia\",\"Libya\",\"Liechtenstein\",\"Lithuania\",\"Luxembourg\",\"Macau\",\"Madagascar\",\"Malawi\",\"Malaysia\",\"Maldives\",\"Mali\",\"Malta\",\"Marshall Islands\",\"Martinique\",\"Mauritania\",\"Mauritius\",\"Mayotte\",\"Mexico\",\"Micronesia\",\"Moldova\",\"Monaco\",\"Mongolia\",\"Montenegro\",\"Montserrat\",\"Morocco\",\"Mozambique\",\"Myanmar\",\"Namibia\",\"Nauru\",\"Nepal\",\"Netherlands\",\"New Caledonia\",\"New Zealand\",\"Nicaragua\",\"Niger\",\"Nigeria\",\"Niue\",\"North Korea\",\"North Macedonia\",\"Northern Mariana Islands\",\"Norway\",\"Oman\",\"Pakistan\",\"Palau\",\"Palestine\",\"Panama\",\"Papua New Guinea\",\"Paraguay\",\"Peru\",\"Philippines\",\"Poland\",\"Portugal\",\"Puerto Rico\",\"Qatar\",\"Republic of the Congo\",\"Reunion\",\"Romania\",\"Russia\",\"Rwanda\",\"Saint Barthelemy\",\"Saint Kitts and Nevis\",\"Saint Lucia\",\"Saint Martin\",\"Saint Pierre and Miquelon\",\"Saint Vincent and the Grenadines\",\"Samoa\",\"San Marino\",\"Sao Tome and Principe\",\"Saudi Arabia\",\"Senegal\",\"Serbia\",\"Seychelles\",\"Sierra Leone\",\"Singapore\",\"Sint Maarten\",\"Slovakia\",\"Slovenia\",\"Solomon Islands\",\"Somalia\",\"South Africa\",\"South Korea\",\"South Sudan\",\"Spain\",\"Sri Lanka\",\"Sudan\",\"Suriname\",\"Sweden\",\"Switzerland\",\"Syria\",\"Taiwan\",\"Tajikistan\",\"Tanzania\",\"Thailand\",\"Timor-Leste\",\"Togo\",\"Tokelau\",\"Tonga\",\"Trinidad and Tobago\",\"Tunisia\",\"Turkey\",\"Turkmenistan\",\"Turks and Caicos Islands\",\"Tuvalu\",\"Uganda\",\"Ukraine\",\"United Arab Emirates\",\"United Kingdom\",\"United States\",\"United States Virgin Islands\",\"Uruguay\",\"Uzbekistan\",\"Vanuatu\",\"Vatican City\",\"Venezuela\",\"Vietnam\",\"Wallis and Futuna\",\"Western Sahara\",\"Yemen\",\"Zambia\",\"Zimbabwe\"],\"locationmode\":\"ISO-3\",\"locations\":[\"AFG\",\"ALB\",\"DZA\",\"ASM\",\"AND\",\"AGO\",\"AIA\",\"ATG\",\"ARG\",\"ARM\",\"ABW\",\"AUS\",\"AUT\",\"AZE\",\"BHS\",\"BHR\",\"BGD\",\"BRB\",\"BLR\",\"BEL\",\"BLZ\",\"BEN\",\"BMU\",\"BTN\",\"BOL\",\"BIH\",\"BWA\",\"BRA\",\"VGB\",\"BRN\",\"BGR\",\"BFA\",\"BDI\",\"KHM\",\"CMR\",\"CAN\",\"CPV\",\"CYM\",\"CAF\",\"TCD\",\"CHL\",\"CHN\",\"COL\",\"COM\",\"COK\",\"CRI\",\"HRV\",\"CUB\",\"CUW\",\"CYP\",\"CZE\",\"DNK\",\"DJI\",\"DMA\",\"DOM\",\"COD\",\"ECU\",\"EGY\",\"SLV\",\"GNQ\",\"ERI\",\"EST\",\"SWZ\",\"ETH\",\"FLK\",\"FRO\",\"FJI\",\"FIN\",\"FRA\",\"GUF\",\"PYF\",\"GAB\",\"GMB\",\"GEO\",\"DEU\",\"GHA\",\"GIB\",\"GRC\",\"GRL\",\"GRD\",\"GLP\",\"GUM\",\"GTM\",\"GGY\",\"GIN\",\"GNB\",\"GUY\",\"HTI\",\"HND\",\"HKG\",\"HUN\",\"ISL\",\"IND\",\"IDN\",\"IRN\",\"IRQ\",\"IRL\",\"IMN\",\"ISR\",\"ITA\",\"CIV\",\"JAM\",\"JPN\",\"JEY\",\"JOR\",\"KAZ\",\"KEN\",\"KIR\",\"KWT\",\"KGZ\",\"LAO\",\"LVA\",\"LBN\",\"LSO\",\"LBR\",\"LBY\",\"LIE\",\"LTU\",\"LUX\",\"MAC\",\"MDG\",\"MWI\",\"MYS\",\"MDV\",\"MLI\",\"MLT\",\"MHL\",\"MTQ\",\"MRT\",\"MUS\",\"MYT\",\"MEX\",\"FSM\",\"MDA\",\"MCO\",\"MNG\",\"MNE\",\"MSR\",\"MAR\",\"MOZ\",\"MMR\",\"NAM\",\"NRU\",\"NPL\",\"NLD\",\"NCL\",\"NZL\",\"NIC\",\"NER\",\"NGA\",\"NIU\",\"PRK\",\"MKD\",\"NFK\",\"NOR\",\"OMN\",\"PAK\",\"PLW\",\"PSE\",\"PAN\",\"PNG\",\"PRY\",\"PER\",\"PHL\",\"POL\",\"PRT\",\"PRI\",\"QAT\",\"COG\",\"REU\",\"ROU\",\"RUS\",\"RWA\",\"BLM\",\"KNA\",\"LCA\",\"MAF\",\"SPM\",\"VCT\",\"WSM\",\"SMR\",\"STP\",\"SAU\",\"SEN\",\"SRB\",\"SYC\",\"SLE\",\"SGP\",\"SXM\",\"SVK\",\"SVN\",\"SLB\",\"SOM\",\"ZAF\",\"KOR\",\"SSD\",\"ESP\",\"LKA\",\"SDN\",\"SUR\",\"SWE\",\"CHE\",\"SYR\",\"TWN\",\"TJK\",\"TZA\",\"THA\",\"TLS\",\"TGO\",\"TKL\",\"TON\",\"TTO\",\"TUN\",\"TUR\",\"TKM\",\"TCA\",\"TUV\",\"UGA\",\"UKR\",\"ARE\",\"GBR\",\"USA\",\"VIR\",\"URY\",\"UZB\",\"VUT\",\"VAT\",\"VEN\",\"VNM\",\"WLF\",\"ESH\",\"YEM\",\"ZMB\",\"ZWE\"],\"name\":\"\",\"z\":[10752971,2324731,13795915,27075,19860,6029700,6283,64516,23842803,2534377,59106,12595034,7465301,5425317,179129,222555,67541860,241397,9170786,9629376,120905,3023443,52019,298894,4585693,3815561,592244,96369875,9581,133343,8582950,5611666,3497834,6708525,6452787,21434577,287262,10533,2067356,3667394,9820481,822534450,20905254,242351,20470,1855697,4492638,8869636,150385,640804,9795744,4922963,144379,68895,4475871,20151733,6172215,34781986,3619090,316955,1272748,1361999,442865,28308246,2274,38416,527634,4606621,50523586,46484,117891,597192,528731,4800426,78294583,8861895,26685,8544873,45434,98794,318310,88300,5453208,52656,4222374,591663,705261,4680812,2782753,3955072,10315366,204468,557501301,115228394,28449705,9811347,2937637,55298,2907307,53324036,5477086,1859091,105416839,68347,1557374,12265305,11473087,57437,802786,3016384,2675283,2397414,2381791,1023481,1463563,1909177,21089,3210147,339342,247284,6639751,4625141,10306508,123243,6153587,315414,23969,326428,1122198,830115,35383,50289306,58989,3711140,24270,1293880,530268,11402,15274351,8411676,27284112,754467,6663,12501285,13037686,110982,2824061,2444767,4669708,55569264,5185,14996879,1656783,10143,3875546,670693,59290872,11366,1118241,1516188,2489059,2408787,13562371,37435586,32482943,8683631,2737619,118007,1396989,473925,19922618,130093010,3896367,2417,44968,103090,5802,5537,98459,142771,18169,77583,6106191,4367744,7193533,54379,2778557,2061831,6260,4522867,1741286,172833,3720977,22368306,32601143,3342410,33792617,12388769,11305206,379918,8027702,6181227,6319199,14957870,2993019,13618192,35791728,554021,2197383,1714,86484,988890,5047404,35540990,2201432,5665,5814,10317212,47279086,298084,55650166,200328340,63446,2790265,12011361,87019,752,11355475,41928849,9377,76371,6843607,4281671,5202918],\"type\":\"choropleth\"}],                        {\"template\":{\"data\":{\"histogram2dcontour\":[{\"type\":\"histogram2dcontour\",\"colorbar\":{\"outlinewidth\":0,\"ticks\":\"\"},\"colorscale\":[[0.0,\"#0d0887\"],[0.1111111111111111,\"#46039f\"],[0.2222222222222222,\"#7201a8\"],[0.3333333333333333,\"#9c179e\"],[0.4444444444444444,\"#bd3786\"],[0.5555555555555556,\"#d8576b\"],[0.6666666666666666,\"#ed7953\"],[0.7777777777777778,\"#fb9f3a\"],[0.8888888888888888,\"#fdca26\"],[1.0,\"#f0f921\"]]}],\"choropleth\":[{\"type\":\"choropleth\",\"colorbar\":{\"outlinewidth\":0,\"ticks\":\"\"}}],\"histogram2d\":[{\"type\":\"histogram2d\",\"colorbar\":{\"outlinewidth\":0,\"ticks\":\"\"},\"colorscale\":[[0.0,\"#0d0887\"],[0.1111111111111111,\"#46039f\"],[0.2222222222222222,\"#7201a8\"],[0.3333333333333333,\"#9c179e\"],[0.4444444444444444,\"#bd3786\"],[0.5555555555555556,\"#d8576b\"],[0.6666666666666666,\"#ed7953\"],[0.7777777777777778,\"#fb9f3a\"],[0.8888888888888888,\"#fdca26\"],[1.0,\"#f0f921\"]]}],\"heatmap\":[{\"type\":\"heatmap\",\"colorbar\":{\"outlinewidth\":0,\"ticks\":\"\"},\"colorscale\":[[0.0,\"#0d0887\"],[0.1111111111111111,\"#46039f\"],[0.2222222222222222,\"#7201a8\"],[0.3333333333333333,\"#9c179e\"],[0.4444444444444444,\"#bd3786\"],[0.5555555555555556,\"#d8576b\"],[0.6666666666666666,\"#ed7953\"],[0.7777777777777778,\"#fb9f3a\"],[0.8888888888888888,\"#fdca26\"],[1.0,\"#f0f921\"]]}],\"heatmapgl\":[{\"type\":\"heatmapgl\",\"colorbar\":{\"outlinewidth\":0,\"ticks\":\"\"},\"colorscale\":[[0.0,\"#0d0887\"],[0.1111111111111111,\"#46039f\"],[0.2222222222222222,\"#7201a8\"],[0.3333333333333333,\"#9c179e\"],[0.4444444444444444,\"#bd3786\"],[0.5555555555555556,\"#d8576b\"],[0.6666666666666666,\"#ed7953\"],[0.7777777777777778,\"#fb9f3a\"],[0.8888888888888888,\"#fdca26\"],[1.0,\"#f0f921\"]]}],\"contourcarpet\":[{\"type\":\"contourcarpet\",\"colorbar\":{\"outlinewidth\":0,\"ticks\":\"\"}}],\"contour\":[{\"type\":\"contour\",\"colorbar\":{\"outlinewidth\":0,\"ticks\":\"\"},\"colorscale\":[[0.0,\"#0d0887\"],[0.1111111111111111,\"#46039f\"],[0.2222222222222222,\"#7201a8\"],[0.3333333333333333,\"#9c179e\"],[0.4444444444444444,\"#bd3786\"],[0.5555555555555556,\"#d8576b\"],[0.6666666666666666,\"#ed7953\"],[0.7777777777777778,\"#fb9f3a\"],[0.8888888888888888,\"#fdca26\"],[1.0,\"#f0f921\"]]}],\"surface\":[{\"type\":\"surface\",\"colorbar\":{\"outlinewidth\":0,\"ticks\":\"\"},\"colorscale\":[[0.0,\"#0d0887\"],[0.1111111111111111,\"#46039f\"],[0.2222222222222222,\"#7201a8\"],[0.3333333333333333,\"#9c179e\"],[0.4444444444444444,\"#bd3786\"],[0.5555555555555556,\"#d8576b\"],[0.6666666666666666,\"#ed7953\"],[0.7777777777777778,\"#fb9f3a\"],[0.8888888888888888,\"#fdca26\"],[1.0,\"#f0f921\"]]}],\"mesh3d\":[{\"type\":\"mesh3d\",\"colorbar\":{\"outlinewidth\":0,\"ticks\":\"\"}}],\"scatter\":[{\"fillpattern\":{\"fillmode\":\"overlay\",\"size\":10,\"solidity\":0.2},\"type\":\"scatter\"}],\"parcoords\":[{\"type\":\"parcoords\",\"line\":{\"colorbar\":{\"outlinewidth\":0,\"ticks\":\"\"}}}],\"scatterpolargl\":[{\"type\":\"scatterpolargl\",\"marker\":{\"colorbar\":{\"outlinewidth\":0,\"ticks\":\"\"}}}],\"bar\":[{\"error_x\":{\"color\":\"#2a3f5f\"},\"error_y\":{\"color\":\"#2a3f5f\"},\"marker\":{\"line\":{\"color\":\"#E5ECF6\",\"width\":0.5},\"pattern\":{\"fillmode\":\"overlay\",\"size\":10,\"solidity\":0.2}},\"type\":\"bar\"}],\"scattergeo\":[{\"type\":\"scattergeo\",\"marker\":{\"colorbar\":{\"outlinewidth\":0,\"ticks\":\"\"}}}],\"scatterpolar\":[{\"type\":\"scatterpolar\",\"marker\":{\"colorbar\":{\"outlinewidth\":0,\"ticks\":\"\"}}}],\"histogram\":[{\"marker\":{\"pattern\":{\"fillmode\":\"overlay\",\"size\":10,\"solidity\":0.2}},\"type\":\"histogram\"}],\"scattergl\":[{\"type\":\"scattergl\",\"marker\":{\"colorbar\":{\"outlinewidth\":0,\"ticks\":\"\"}}}],\"scatter3d\":[{\"type\":\"scatter3d\",\"line\":{\"colorbar\":{\"outlinewidth\":0,\"ticks\":\"\"}},\"marker\":{\"colorbar\":{\"outlinewidth\":0,\"ticks\":\"\"}}}],\"scattermapbox\":[{\"type\":\"scattermapbox\",\"marker\":{\"colorbar\":{\"outlinewidth\":0,\"ticks\":\"\"}}}],\"scatterternary\":[{\"type\":\"scatterternary\",\"marker\":{\"colorbar\":{\"outlinewidth\":0,\"ticks\":\"\"}}}],\"scattercarpet\":[{\"type\":\"scattercarpet\",\"marker\":{\"colorbar\":{\"outlinewidth\":0,\"ticks\":\"\"}}}],\"carpet\":[{\"aaxis\":{\"endlinecolor\":\"#2a3f5f\",\"gridcolor\":\"white\",\"linecolor\":\"white\",\"minorgridcolor\":\"white\",\"startlinecolor\":\"#2a3f5f\"},\"baxis\":{\"endlinecolor\":\"#2a3f5f\",\"gridcolor\":\"white\",\"linecolor\":\"white\",\"minorgridcolor\":\"white\",\"startlinecolor\":\"#2a3f5f\"},\"type\":\"carpet\"}],\"table\":[{\"cells\":{\"fill\":{\"color\":\"#EBF0F8\"},\"line\":{\"color\":\"white\"}},\"header\":{\"fill\":{\"color\":\"#C8D4E3\"},\"line\":{\"color\":\"white\"}},\"type\":\"table\"}],\"barpolar\":[{\"marker\":{\"line\":{\"color\":\"#E5ECF6\",\"width\":0.5},\"pattern\":{\"fillmode\":\"overlay\",\"size\":10,\"solidity\":0.2}},\"type\":\"barpolar\"}],\"pie\":[{\"automargin\":true,\"type\":\"pie\"}]},\"layout\":{\"autotypenumbers\":\"strict\",\"colorway\":[\"#636efa\",\"#EF553B\",\"#00cc96\",\"#ab63fa\",\"#FFA15A\",\"#19d3f3\",\"#FF6692\",\"#B6E880\",\"#FF97FF\",\"#FECB52\"],\"font\":{\"color\":\"#2a3f5f\"},\"hovermode\":\"closest\",\"hoverlabel\":{\"align\":\"left\"},\"paper_bgcolor\":\"white\",\"plot_bgcolor\":\"#E5ECF6\",\"polar\":{\"bgcolor\":\"#E5ECF6\",\"angularaxis\":{\"gridcolor\":\"white\",\"linecolor\":\"white\",\"ticks\":\"\"},\"radialaxis\":{\"gridcolor\":\"white\",\"linecolor\":\"white\",\"ticks\":\"\"}},\"ternary\":{\"bgcolor\":\"#E5ECF6\",\"aaxis\":{\"gridcolor\":\"white\",\"linecolor\":\"white\",\"ticks\":\"\"},\"baxis\":{\"gridcolor\":\"white\",\"linecolor\":\"white\",\"ticks\":\"\"},\"caxis\":{\"gridcolor\":\"white\",\"linecolor\":\"white\",\"ticks\":\"\"}},\"coloraxis\":{\"colorbar\":{\"outlinewidth\":0,\"ticks\":\"\"}},\"colorscale\":{\"sequential\":[[0.0,\"#0d0887\"],[0.1111111111111111,\"#46039f\"],[0.2222222222222222,\"#7201a8\"],[0.3333333333333333,\"#9c179e\"],[0.4444444444444444,\"#bd3786\"],[0.5555555555555556,\"#d8576b\"],[0.6666666666666666,\"#ed7953\"],[0.7777777777777778,\"#fb9f3a\"],[0.8888888888888888,\"#fdca26\"],[1.0,\"#f0f921\"]],\"sequentialminus\":[[0.0,\"#0d0887\"],[0.1111111111111111,\"#46039f\"],[0.2222222222222222,\"#7201a8\"],[0.3333333333333333,\"#9c179e\"],[0.4444444444444444,\"#bd3786\"],[0.5555555555555556,\"#d8576b\"],[0.6666666666666666,\"#ed7953\"],[0.7777777777777778,\"#fb9f3a\"],[0.8888888888888888,\"#fdca26\"],[1.0,\"#f0f921\"]],\"diverging\":[[0,\"#8e0152\"],[0.1,\"#c51b7d\"],[0.2,\"#de77ae\"],[0.3,\"#f1b6da\"],[0.4,\"#fde0ef\"],[0.5,\"#f7f7f7\"],[0.6,\"#e6f5d0\"],[0.7,\"#b8e186\"],[0.8,\"#7fbc41\"],[0.9,\"#4d9221\"],[1,\"#276419\"]]},\"xaxis\":{\"gridcolor\":\"white\",\"linecolor\":\"white\",\"ticks\":\"\",\"title\":{\"standoff\":15},\"zerolinecolor\":\"white\",\"automargin\":true,\"zerolinewidth\":2},\"yaxis\":{\"gridcolor\":\"white\",\"linecolor\":\"white\",\"ticks\":\"\",\"title\":{\"standoff\":15},\"zerolinecolor\":\"white\",\"automargin\":true,\"zerolinewidth\":2},\"scene\":{\"xaxis\":{\"backgroundcolor\":\"#E5ECF6\",\"gridcolor\":\"white\",\"linecolor\":\"white\",\"showbackground\":true,\"ticks\":\"\",\"zerolinecolor\":\"white\",\"gridwidth\":2},\"yaxis\":{\"backgroundcolor\":\"#E5ECF6\",\"gridcolor\":\"white\",\"linecolor\":\"white\",\"showbackground\":true,\"ticks\":\"\",\"zerolinecolor\":\"white\",\"gridwidth\":2},\"zaxis\":{\"backgroundcolor\":\"#E5ECF6\",\"gridcolor\":\"white\",\"linecolor\":\"white\",\"showbackground\":true,\"ticks\":\"\",\"zerolinecolor\":\"white\",\"gridwidth\":2}},\"shapedefaults\":{\"line\":{\"color\":\"#2a3f5f\"}},\"annotationdefaults\":{\"arrowcolor\":\"#2a3f5f\",\"arrowhead\":0,\"arrowwidth\":1},\"geo\":{\"bgcolor\":\"white\",\"landcolor\":\"#E5ECF6\",\"subunitcolor\":\"white\",\"showland\":true,\"showlakes\":true,\"lakecolor\":\"white\"},\"title\":{\"x\":0.05},\"mapbox\":{\"style\":\"light\"}}},\"geo\":{\"domain\":{\"x\":[0.0,1.0],\"y\":[0.0,1.0]},\"projection\":{\"type\":\"hammer\"},\"center\":{},\"scope\":\"world\"},\"coloraxis\":{\"colorbar\":{\"title\":{\"text\":\"1970 Population\"}},\"colorscale\":[[0.0,\"rgb(243, 231, 155)\"],[0.16666666666666666,\"rgb(250, 196, 132)\"],[0.3333333333333333,\"rgb(248, 160, 126)\"],[0.5,\"rgb(235, 127, 134)\"],[0.6666666666666666,\"rgb(206, 102, 147)\"],[0.8333333333333334,\"rgb(160, 89, 160)\"],[1.0,\"rgb(92, 83, 165)\"]]},\"legend\":{\"tracegroupgap\":0},\"title\":{\"text\":\"World Population by Country in 1970\"}},                        {\"responsive\": true}                    ).then(function(){\n",
       "                            \n",
       "var gd = document.getElementById('697bb74b-ca94-4abe-ae70-2b4e054b8475');\n",
       "var x = new MutationObserver(function (mutations, observer) {{\n",
       "        var display = window.getComputedStyle(gd).display;\n",
       "        if (!display || display === 'none') {{\n",
       "            console.log([gd, 'removed!']);\n",
       "            Plotly.purge(gd);\n",
       "            observer.disconnect();\n",
       "        }}\n",
       "}});\n",
       "\n",
       "// Listen for the removal of the full notebook cells\n",
       "var notebookContainer = gd.closest('#notebook-container');\n",
       "if (notebookContainer) {{\n",
       "    x.observe(notebookContainer, {childList: true});\n",
       "}}\n",
       "\n",
       "// Listen for the clearing of the current output cell\n",
       "var outputEl = gd.closest('.output');\n",
       "if (outputEl) {{\n",
       "    x.observe(outputEl, {childList: true});\n",
       "}}\n",
       "\n",
       "                        })                };                });            </script>        </div>"
      ]
     },
     "metadata": {},
     "output_type": "display_data"
    }
   ],
   "source": [
    "fig = px.choropleth(world_pop, locations = 'ISO-3',  \n",
    "                    color = '1970 Population', #select the population values\n",
    "                    locationmode = \"ISO-3\",\n",
    "                    scope=\"world\",\n",
    "                    title = 'World Population by Country in 1970', \n",
    "                    hover_name=\"Country/Territory\", #add hover title\n",
    "                    hover_data = {'1970 Population': False, #add or remove hover data\n",
    "                                  'World Population Percentage':True,\n",
    "                                  'Growth Rate':True,'Area (km²)':True,\n",
    "                                  'Density (per km²)':True,'ISO-3':False,},\n",
    "                    projection = 'hammer', #standard projection type is 'equirectangular'\n",
    "                    color_continuous_scale=px.colors.sequential.Sunset)\n",
    " \n",
    "fig.show()"
   ]
  },
  {
   "cell_type": "code",
   "execution_count": 89,
   "id": "210d4f3d",
   "metadata": {},
   "outputs": [
    {
     "name": "stdout",
     "output_type": "stream",
     "text": [
      "Before Melting\n"
     ]
    },
    {
     "data": {
      "text/html": [
       "<div>\n",
       "<style scoped>\n",
       "    .dataframe tbody tr th:only-of-type {\n",
       "        vertical-align: middle;\n",
       "    }\n",
       "\n",
       "    .dataframe tbody tr th {\n",
       "        vertical-align: top;\n",
       "    }\n",
       "\n",
       "    .dataframe thead th {\n",
       "        text-align: right;\n",
       "    }\n",
       "</style>\n",
       "<table border=\"1\" class=\"dataframe\">\n",
       "  <thead>\n",
       "    <tr style=\"text-align: right;\">\n",
       "      <th></th>\n",
       "      <th>ISO-3</th>\n",
       "      <th>Country/Territory</th>\n",
       "      <th>1970 Population</th>\n",
       "      <th>1980 Population</th>\n",
       "      <th>1990 Population</th>\n",
       "      <th>2000 Population</th>\n",
       "      <th>2010 Population</th>\n",
       "      <th>2015 Population</th>\n",
       "      <th>2020 Population</th>\n",
       "      <th>2022 Population</th>\n",
       "    </tr>\n",
       "  </thead>\n",
       "  <tbody>\n",
       "    <tr>\n",
       "      <th>0</th>\n",
       "      <td>AFG</td>\n",
       "      <td>Afghanistan</td>\n",
       "      <td>10752971</td>\n",
       "      <td>12486631</td>\n",
       "      <td>10694796</td>\n",
       "      <td>19542982</td>\n",
       "      <td>28189672</td>\n",
       "      <td>33753499</td>\n",
       "      <td>38972230</td>\n",
       "      <td>41128771</td>\n",
       "    </tr>\n",
       "    <tr>\n",
       "      <th>1</th>\n",
       "      <td>ALB</td>\n",
       "      <td>Albania</td>\n",
       "      <td>2324731</td>\n",
       "      <td>2941651</td>\n",
       "      <td>3295066</td>\n",
       "      <td>3182021</td>\n",
       "      <td>2913399</td>\n",
       "      <td>2882481</td>\n",
       "      <td>2866849</td>\n",
       "      <td>2842321</td>\n",
       "    </tr>\n",
       "    <tr>\n",
       "      <th>2</th>\n",
       "      <td>DZA</td>\n",
       "      <td>Algeria</td>\n",
       "      <td>13795915</td>\n",
       "      <td>18739378</td>\n",
       "      <td>25518074</td>\n",
       "      <td>30774621</td>\n",
       "      <td>35856344</td>\n",
       "      <td>39543154</td>\n",
       "      <td>43451666</td>\n",
       "      <td>44903225</td>\n",
       "    </tr>\n",
       "    <tr>\n",
       "      <th>3</th>\n",
       "      <td>ASM</td>\n",
       "      <td>American Samoa</td>\n",
       "      <td>27075</td>\n",
       "      <td>32886</td>\n",
       "      <td>47818</td>\n",
       "      <td>58230</td>\n",
       "      <td>54849</td>\n",
       "      <td>51368</td>\n",
       "      <td>46189</td>\n",
       "      <td>44273</td>\n",
       "    </tr>\n",
       "    <tr>\n",
       "      <th>4</th>\n",
       "      <td>AND</td>\n",
       "      <td>Andorra</td>\n",
       "      <td>19860</td>\n",
       "      <td>35611</td>\n",
       "      <td>53569</td>\n",
       "      <td>66097</td>\n",
       "      <td>71519</td>\n",
       "      <td>71746</td>\n",
       "      <td>77700</td>\n",
       "      <td>79824</td>\n",
       "    </tr>\n",
       "  </tbody>\n",
       "</table>\n",
       "</div>"
      ],
      "text/plain": [
       "  ISO-3 Country/Territory  1970 Population  1980 Population  1990 Population  \\\n",
       "0   AFG       Afghanistan         10752971         12486631         10694796   \n",
       "1   ALB           Albania          2324731          2941651          3295066   \n",
       "2   DZA           Algeria         13795915         18739378         25518074   \n",
       "3   ASM    American Samoa            27075            32886            47818   \n",
       "4   AND           Andorra            19860            35611            53569   \n",
       "\n",
       "   2000 Population  2010 Population  2015 Population  2020 Population  \\\n",
       "0         19542982         28189672         33753499         38972230   \n",
       "1          3182021          2913399          2882481          2866849   \n",
       "2         30774621         35856344         39543154         43451666   \n",
       "3            58230            54849            51368            46189   \n",
       "4            66097            71519            71746            77700   \n",
       "\n",
       "   2022 Population  \n",
       "0         41128771  \n",
       "1          2842321  \n",
       "2         44903225  \n",
       "3            44273  \n",
       "4            79824  "
      ]
     },
     "metadata": {},
     "output_type": "display_data"
    },
    {
     "name": "stdout",
     "output_type": "stream",
     "text": [
      "After Melting\n"
     ]
    },
    {
     "data": {
      "text/html": [
       "<div>\n",
       "<style scoped>\n",
       "    .dataframe tbody tr th:only-of-type {\n",
       "        vertical-align: middle;\n",
       "    }\n",
       "\n",
       "    .dataframe tbody tr th {\n",
       "        vertical-align: top;\n",
       "    }\n",
       "\n",
       "    .dataframe thead th {\n",
       "        text-align: right;\n",
       "    }\n",
       "</style>\n",
       "<table border=\"1\" class=\"dataframe\">\n",
       "  <thead>\n",
       "    <tr style=\"text-align: right;\">\n",
       "      <th></th>\n",
       "      <th>ISO-3</th>\n",
       "      <th>Country/Territory</th>\n",
       "      <th>Year</th>\n",
       "      <th>Population</th>\n",
       "    </tr>\n",
       "  </thead>\n",
       "  <tbody>\n",
       "    <tr>\n",
       "      <th>0</th>\n",
       "      <td>AFG</td>\n",
       "      <td>Afghanistan</td>\n",
       "      <td>1970 Population</td>\n",
       "      <td>10752971</td>\n",
       "    </tr>\n",
       "    <tr>\n",
       "      <th>1</th>\n",
       "      <td>ALB</td>\n",
       "      <td>Albania</td>\n",
       "      <td>1970 Population</td>\n",
       "      <td>2324731</td>\n",
       "    </tr>\n",
       "    <tr>\n",
       "      <th>2</th>\n",
       "      <td>DZA</td>\n",
       "      <td>Algeria</td>\n",
       "      <td>1970 Population</td>\n",
       "      <td>13795915</td>\n",
       "    </tr>\n",
       "    <tr>\n",
       "      <th>3</th>\n",
       "      <td>ASM</td>\n",
       "      <td>American Samoa</td>\n",
       "      <td>1970 Population</td>\n",
       "      <td>27075</td>\n",
       "    </tr>\n",
       "    <tr>\n",
       "      <th>4</th>\n",
       "      <td>AND</td>\n",
       "      <td>Andorra</td>\n",
       "      <td>1970 Population</td>\n",
       "      <td>19860</td>\n",
       "    </tr>\n",
       "  </tbody>\n",
       "</table>\n",
       "</div>"
      ],
      "text/plain": [
       "  ISO-3 Country/Territory             Year  Population\n",
       "0   AFG       Afghanistan  1970 Population    10752971\n",
       "1   ALB           Albania  1970 Population     2324731\n",
       "2   DZA           Algeria  1970 Population    13795915\n",
       "3   ASM    American Samoa  1970 Population       27075\n",
       "4   AND           Andorra  1970 Population       19860"
      ]
     },
     "execution_count": 89,
     "metadata": {},
     "output_type": "execute_result"
    }
   ],
   "source": [
    "world_pop_years = world_pop[['ISO-3','Country/Territory','1970 Population','1980 Population',\n",
    "                             '1990 Population','2000 Population',\n",
    "                             '2010 Population','2015 Population','2020 Population','2022 Population']]\n",
    "print(\"Before Melting\")\n",
    "display(world_pop_years.head())\n",
    "world_pop_melted = world_pop_years.melt(id_vars=[\"ISO-3\", \"Country/Territory\"], var_name=\"Year\", value_name=\"Population\")\n",
    "print(\"After Melting\")\n",
    "world_pop_melted.head()"
   ]
  },
  {
   "cell_type": "code",
   "execution_count": 90,
   "id": "e25135c7",
   "metadata": {},
   "outputs": [
    {
     "data": {
      "application/vnd.plotly.v1+json": {
       "config": {
        "plotlyServerURL": "https://plot.ly"
       },
       "data": [
        {
         "coloraxis": "coloraxis",
         "customdata": [
          [
           "AFG"
          ],
          [
           "ALB"
          ],
          [
           "DZA"
          ],
          [
           "ASM"
          ],
          [
           "AND"
          ],
          [
           "AGO"
          ],
          [
           "AIA"
          ],
          [
           "ATG"
          ],
          [
           "ARG"
          ],
          [
           "ARM"
          ],
          [
           "ABW"
          ],
          [
           "AUS"
          ],
          [
           "AUT"
          ],
          [
           "AZE"
          ],
          [
           "BHS"
          ],
          [
           "BHR"
          ],
          [
           "BGD"
          ],
          [
           "BRB"
          ],
          [
           "BLR"
          ],
          [
           "BEL"
          ],
          [
           "BLZ"
          ],
          [
           "BEN"
          ],
          [
           "BMU"
          ],
          [
           "BTN"
          ],
          [
           "BOL"
          ],
          [
           "BIH"
          ],
          [
           "BWA"
          ],
          [
           "BRA"
          ],
          [
           "VGB"
          ],
          [
           "BRN"
          ],
          [
           "BGR"
          ],
          [
           "BFA"
          ],
          [
           "BDI"
          ],
          [
           "KHM"
          ],
          [
           "CMR"
          ],
          [
           "CAN"
          ],
          [
           "CPV"
          ],
          [
           "CYM"
          ],
          [
           "CAF"
          ],
          [
           "TCD"
          ],
          [
           "CHL"
          ],
          [
           "CHN"
          ],
          [
           "COL"
          ],
          [
           "COM"
          ],
          [
           "COK"
          ],
          [
           "CRI"
          ],
          [
           "HRV"
          ],
          [
           "CUB"
          ],
          [
           "CUW"
          ],
          [
           "CYP"
          ],
          [
           "CZE"
          ],
          [
           "DNK"
          ],
          [
           "DJI"
          ],
          [
           "DMA"
          ],
          [
           "DOM"
          ],
          [
           "COD"
          ],
          [
           "ECU"
          ],
          [
           "EGY"
          ],
          [
           "SLV"
          ],
          [
           "GNQ"
          ],
          [
           "ERI"
          ],
          [
           "EST"
          ],
          [
           "SWZ"
          ],
          [
           "ETH"
          ],
          [
           "FLK"
          ],
          [
           "FRO"
          ],
          [
           "FJI"
          ],
          [
           "FIN"
          ],
          [
           "FRA"
          ],
          [
           "GUF"
          ],
          [
           "PYF"
          ],
          [
           "GAB"
          ],
          [
           "GMB"
          ],
          [
           "GEO"
          ],
          [
           "DEU"
          ],
          [
           "GHA"
          ],
          [
           "GIB"
          ],
          [
           "GRC"
          ],
          [
           "GRL"
          ],
          [
           "GRD"
          ],
          [
           "GLP"
          ],
          [
           "GUM"
          ],
          [
           "GTM"
          ],
          [
           "GGY"
          ],
          [
           "GIN"
          ],
          [
           "GNB"
          ],
          [
           "GUY"
          ],
          [
           "HTI"
          ],
          [
           "HND"
          ],
          [
           "HKG"
          ],
          [
           "HUN"
          ],
          [
           "ISL"
          ],
          [
           "IND"
          ],
          [
           "IDN"
          ],
          [
           "IRN"
          ],
          [
           "IRQ"
          ],
          [
           "IRL"
          ],
          [
           "IMN"
          ],
          [
           "ISR"
          ],
          [
           "ITA"
          ],
          [
           "CIV"
          ],
          [
           "JAM"
          ],
          [
           "JPN"
          ],
          [
           "JEY"
          ],
          [
           "JOR"
          ],
          [
           "KAZ"
          ],
          [
           "KEN"
          ],
          [
           "KIR"
          ],
          [
           "KWT"
          ],
          [
           "KGZ"
          ],
          [
           "LAO"
          ],
          [
           "LVA"
          ],
          [
           "LBN"
          ],
          [
           "LSO"
          ],
          [
           "LBR"
          ],
          [
           "LBY"
          ],
          [
           "LIE"
          ],
          [
           "LTU"
          ],
          [
           "LUX"
          ],
          [
           "MAC"
          ],
          [
           "MDG"
          ],
          [
           "MWI"
          ],
          [
           "MYS"
          ],
          [
           "MDV"
          ],
          [
           "MLI"
          ],
          [
           "MLT"
          ],
          [
           "MHL"
          ],
          [
           "MTQ"
          ],
          [
           "MRT"
          ],
          [
           "MUS"
          ],
          [
           "MYT"
          ],
          [
           "MEX"
          ],
          [
           "FSM"
          ],
          [
           "MDA"
          ],
          [
           "MCO"
          ],
          [
           "MNG"
          ],
          [
           "MNE"
          ],
          [
           "MSR"
          ],
          [
           "MAR"
          ],
          [
           "MOZ"
          ],
          [
           "MMR"
          ],
          [
           "NAM"
          ],
          [
           "NRU"
          ],
          [
           "NPL"
          ],
          [
           "NLD"
          ],
          [
           "NCL"
          ],
          [
           "NZL"
          ],
          [
           "NIC"
          ],
          [
           "NER"
          ],
          [
           "NGA"
          ],
          [
           "NIU"
          ],
          [
           "PRK"
          ],
          [
           "MKD"
          ],
          [
           "NFK"
          ],
          [
           "NOR"
          ],
          [
           "OMN"
          ],
          [
           "PAK"
          ],
          [
           "PLW"
          ],
          [
           "PSE"
          ],
          [
           "PAN"
          ],
          [
           "PNG"
          ],
          [
           "PRY"
          ],
          [
           "PER"
          ],
          [
           "PHL"
          ],
          [
           "POL"
          ],
          [
           "PRT"
          ],
          [
           "PRI"
          ],
          [
           "QAT"
          ],
          [
           "COG"
          ],
          [
           "REU"
          ],
          [
           "ROU"
          ],
          [
           "RUS"
          ],
          [
           "RWA"
          ],
          [
           "BLM"
          ],
          [
           "KNA"
          ],
          [
           "LCA"
          ],
          [
           "MAF"
          ],
          [
           "SPM"
          ],
          [
           "VCT"
          ],
          [
           "WSM"
          ],
          [
           "SMR"
          ],
          [
           "STP"
          ],
          [
           "SAU"
          ],
          [
           "SEN"
          ],
          [
           "SRB"
          ],
          [
           "SYC"
          ],
          [
           "SLE"
          ],
          [
           "SGP"
          ],
          [
           "SXM"
          ],
          [
           "SVK"
          ],
          [
           "SVN"
          ],
          [
           "SLB"
          ],
          [
           "SOM"
          ],
          [
           "ZAF"
          ],
          [
           "KOR"
          ],
          [
           "SSD"
          ],
          [
           "ESP"
          ],
          [
           "LKA"
          ],
          [
           "SDN"
          ],
          [
           "SUR"
          ],
          [
           "SWE"
          ],
          [
           "CHE"
          ],
          [
           "SYR"
          ],
          [
           "TWN"
          ],
          [
           "TJK"
          ],
          [
           "TZA"
          ],
          [
           "THA"
          ],
          [
           "TLS"
          ],
          [
           "TGO"
          ],
          [
           "TKL"
          ],
          [
           "TON"
          ],
          [
           "TTO"
          ],
          [
           "TUN"
          ],
          [
           "TUR"
          ],
          [
           "TKM"
          ],
          [
           "TCA"
          ],
          [
           "TUV"
          ],
          [
           "UGA"
          ],
          [
           "UKR"
          ],
          [
           "ARE"
          ],
          [
           "GBR"
          ],
          [
           "USA"
          ],
          [
           "VIR"
          ],
          [
           "URY"
          ],
          [
           "UZB"
          ],
          [
           "VUT"
          ],
          [
           "VAT"
          ],
          [
           "VEN"
          ],
          [
           "VNM"
          ],
          [
           "WLF"
          ],
          [
           "ESH"
          ],
          [
           "YEM"
          ],
          [
           "ZMB"
          ],
          [
           "ZWE"
          ]
         ],
         "geo": "geo",
         "hovertemplate": "<b>%{hovertext}</b><br><br>Year=1970 Population<br>Population=%{z}<extra></extra>",
         "hovertext": [
          "Afghanistan",
          "Albania",
          "Algeria",
          "American Samoa",
          "Andorra",
          "Angola",
          "Anguilla",
          "Antigua and Barbuda",
          "Argentina",
          "Armenia",
          "Aruba",
          "Australia",
          "Austria",
          "Azerbaijan",
          "Bahamas",
          "Bahrain",
          "Bangladesh",
          "Barbados",
          "Belarus",
          "Belgium",
          "Belize",
          "Benin",
          "Bermuda",
          "Bhutan",
          "Bolivia",
          "Bosnia and Herzegovina",
          "Botswana",
          "Brazil",
          "British Virgin Islands",
          "Brunei",
          "Bulgaria",
          "Burkina Faso",
          "Burundi",
          "Cambodia",
          "Cameroon",
          "Canada",
          "Cape Verde",
          "Cayman Islands",
          "Central African Republic",
          "Chad",
          "Chile",
          "China",
          "Colombia",
          "Comoros",
          "Cook Islands",
          "Costa Rica",
          "Croatia",
          "Cuba",
          "Curacao",
          "Cyprus",
          "Czech Republic",
          "Denmark",
          "Djibouti",
          "Dominica",
          "Dominican Republic",
          "DR Congo",
          "Ecuador",
          "Egypt",
          "El Salvador",
          "Equatorial Guinea",
          "Eritrea",
          "Estonia",
          "Eswatini",
          "Ethiopia",
          "Falkland Islands",
          "Faroe Islands",
          "Fiji",
          "Finland",
          "France",
          "French Guiana",
          "French Polynesia",
          "Gabon",
          "Gambia",
          "Georgia",
          "Germany",
          "Ghana",
          "Gibraltar",
          "Greece",
          "Greenland",
          "Grenada",
          "Guadeloupe",
          "Guam",
          "Guatemala",
          "Guernsey",
          "Guinea",
          "Guinea-Bissau",
          "Guyana",
          "Haiti",
          "Honduras",
          "Hong Kong",
          "Hungary",
          "Iceland",
          "India",
          "Indonesia",
          "Iran",
          "Iraq",
          "Ireland",
          "Isle of Man",
          "Israel",
          "Italy",
          "Ivory Coast",
          "Jamaica",
          "Japan",
          "Jersey",
          "Jordan",
          "Kazakhstan",
          "Kenya",
          "Kiribati",
          "Kuwait",
          "Kyrgyzstan",
          "Laos",
          "Latvia",
          "Lebanon",
          "Lesotho",
          "Liberia",
          "Libya",
          "Liechtenstein",
          "Lithuania",
          "Luxembourg",
          "Macau",
          "Madagascar",
          "Malawi",
          "Malaysia",
          "Maldives",
          "Mali",
          "Malta",
          "Marshall Islands",
          "Martinique",
          "Mauritania",
          "Mauritius",
          "Mayotte",
          "Mexico",
          "Micronesia",
          "Moldova",
          "Monaco",
          "Mongolia",
          "Montenegro",
          "Montserrat",
          "Morocco",
          "Mozambique",
          "Myanmar",
          "Namibia",
          "Nauru",
          "Nepal",
          "Netherlands",
          "New Caledonia",
          "New Zealand",
          "Nicaragua",
          "Niger",
          "Nigeria",
          "Niue",
          "North Korea",
          "North Macedonia",
          "Northern Mariana Islands",
          "Norway",
          "Oman",
          "Pakistan",
          "Palau",
          "Palestine",
          "Panama",
          "Papua New Guinea",
          "Paraguay",
          "Peru",
          "Philippines",
          "Poland",
          "Portugal",
          "Puerto Rico",
          "Qatar",
          "Republic of the Congo",
          "Reunion",
          "Romania",
          "Russia",
          "Rwanda",
          "Saint Barthelemy",
          "Saint Kitts and Nevis",
          "Saint Lucia",
          "Saint Martin",
          "Saint Pierre and Miquelon",
          "Saint Vincent and the Grenadines",
          "Samoa",
          "San Marino",
          "Sao Tome and Principe",
          "Saudi Arabia",
          "Senegal",
          "Serbia",
          "Seychelles",
          "Sierra Leone",
          "Singapore",
          "Sint Maarten",
          "Slovakia",
          "Slovenia",
          "Solomon Islands",
          "Somalia",
          "South Africa",
          "South Korea",
          "South Sudan",
          "Spain",
          "Sri Lanka",
          "Sudan",
          "Suriname",
          "Sweden",
          "Switzerland",
          "Syria",
          "Taiwan",
          "Tajikistan",
          "Tanzania",
          "Thailand",
          "Timor-Leste",
          "Togo",
          "Tokelau",
          "Tonga",
          "Trinidad and Tobago",
          "Tunisia",
          "Turkey",
          "Turkmenistan",
          "Turks and Caicos Islands",
          "Tuvalu",
          "Uganda",
          "Ukraine",
          "United Arab Emirates",
          "United Kingdom",
          "United States",
          "United States Virgin Islands",
          "Uruguay",
          "Uzbekistan",
          "Vanuatu",
          "Vatican City",
          "Venezuela",
          "Vietnam",
          "Wallis and Futuna",
          "Western Sahara",
          "Yemen",
          "Zambia",
          "Zimbabwe"
         ],
         "locationmode": "ISO-3",
         "locations": [
          "AFG",
          "ALB",
          "DZA",
          "ASM",
          "AND",
          "AGO",
          "AIA",
          "ATG",
          "ARG",
          "ARM",
          "ABW",
          "AUS",
          "AUT",
          "AZE",
          "BHS",
          "BHR",
          "BGD",
          "BRB",
          "BLR",
          "BEL",
          "BLZ",
          "BEN",
          "BMU",
          "BTN",
          "BOL",
          "BIH",
          "BWA",
          "BRA",
          "VGB",
          "BRN",
          "BGR",
          "BFA",
          "BDI",
          "KHM",
          "CMR",
          "CAN",
          "CPV",
          "CYM",
          "CAF",
          "TCD",
          "CHL",
          "CHN",
          "COL",
          "COM",
          "COK",
          "CRI",
          "HRV",
          "CUB",
          "CUW",
          "CYP",
          "CZE",
          "DNK",
          "DJI",
          "DMA",
          "DOM",
          "COD",
          "ECU",
          "EGY",
          "SLV",
          "GNQ",
          "ERI",
          "EST",
          "SWZ",
          "ETH",
          "FLK",
          "FRO",
          "FJI",
          "FIN",
          "FRA",
          "GUF",
          "PYF",
          "GAB",
          "GMB",
          "GEO",
          "DEU",
          "GHA",
          "GIB",
          "GRC",
          "GRL",
          "GRD",
          "GLP",
          "GUM",
          "GTM",
          "GGY",
          "GIN",
          "GNB",
          "GUY",
          "HTI",
          "HND",
          "HKG",
          "HUN",
          "ISL",
          "IND",
          "IDN",
          "IRN",
          "IRQ",
          "IRL",
          "IMN",
          "ISR",
          "ITA",
          "CIV",
          "JAM",
          "JPN",
          "JEY",
          "JOR",
          "KAZ",
          "KEN",
          "KIR",
          "KWT",
          "KGZ",
          "LAO",
          "LVA",
          "LBN",
          "LSO",
          "LBR",
          "LBY",
          "LIE",
          "LTU",
          "LUX",
          "MAC",
          "MDG",
          "MWI",
          "MYS",
          "MDV",
          "MLI",
          "MLT",
          "MHL",
          "MTQ",
          "MRT",
          "MUS",
          "MYT",
          "MEX",
          "FSM",
          "MDA",
          "MCO",
          "MNG",
          "MNE",
          "MSR",
          "MAR",
          "MOZ",
          "MMR",
          "NAM",
          "NRU",
          "NPL",
          "NLD",
          "NCL",
          "NZL",
          "NIC",
          "NER",
          "NGA",
          "NIU",
          "PRK",
          "MKD",
          "NFK",
          "NOR",
          "OMN",
          "PAK",
          "PLW",
          "PSE",
          "PAN",
          "PNG",
          "PRY",
          "PER",
          "PHL",
          "POL",
          "PRT",
          "PRI",
          "QAT",
          "COG",
          "REU",
          "ROU",
          "RUS",
          "RWA",
          "BLM",
          "KNA",
          "LCA",
          "MAF",
          "SPM",
          "VCT",
          "WSM",
          "SMR",
          "STP",
          "SAU",
          "SEN",
          "SRB",
          "SYC",
          "SLE",
          "SGP",
          "SXM",
          "SVK",
          "SVN",
          "SLB",
          "SOM",
          "ZAF",
          "KOR",
          "SSD",
          "ESP",
          "LKA",
          "SDN",
          "SUR",
          "SWE",
          "CHE",
          "SYR",
          "TWN",
          "TJK",
          "TZA",
          "THA",
          "TLS",
          "TGO",
          "TKL",
          "TON",
          "TTO",
          "TUN",
          "TUR",
          "TKM",
          "TCA",
          "TUV",
          "UGA",
          "UKR",
          "ARE",
          "GBR",
          "USA",
          "VIR",
          "URY",
          "UZB",
          "VUT",
          "VAT",
          "VEN",
          "VNM",
          "WLF",
          "ESH",
          "YEM",
          "ZMB",
          "ZWE"
         ],
         "name": "",
         "type": "choropleth",
         "z": [
          10752971,
          2324731,
          13795915,
          27075,
          19860,
          6029700,
          6283,
          64516,
          23842803,
          2534377,
          59106,
          12595034,
          7465301,
          5425317,
          179129,
          222555,
          67541860,
          241397,
          9170786,
          9629376,
          120905,
          3023443,
          52019,
          298894,
          4585693,
          3815561,
          592244,
          96369875,
          9581,
          133343,
          8582950,
          5611666,
          3497834,
          6708525,
          6452787,
          21434577,
          287262,
          10533,
          2067356,
          3667394,
          9820481,
          822534450,
          20905254,
          242351,
          20470,
          1855697,
          4492638,
          8869636,
          150385,
          640804,
          9795744,
          4922963,
          144379,
          68895,
          4475871,
          20151733,
          6172215,
          34781986,
          3619090,
          316955,
          1272748,
          1361999,
          442865,
          28308246,
          2274,
          38416,
          527634,
          4606621,
          50523586,
          46484,
          117891,
          597192,
          528731,
          4800426,
          78294583,
          8861895,
          26685,
          8544873,
          45434,
          98794,
          318310,
          88300,
          5453208,
          52656,
          4222374,
          591663,
          705261,
          4680812,
          2782753,
          3955072,
          10315366,
          204468,
          557501301,
          115228394,
          28449705,
          9811347,
          2937637,
          55298,
          2907307,
          53324036,
          5477086,
          1859091,
          105416839,
          68347,
          1557374,
          12265305,
          11473087,
          57437,
          802786,
          3016384,
          2675283,
          2397414,
          2381791,
          1023481,
          1463563,
          1909177,
          21089,
          3210147,
          339342,
          247284,
          6639751,
          4625141,
          10306508,
          123243,
          6153587,
          315414,
          23969,
          326428,
          1122198,
          830115,
          35383,
          50289306,
          58989,
          3711140,
          24270,
          1293880,
          530268,
          11402,
          15274351,
          8411676,
          27284112,
          754467,
          6663,
          12501285,
          13037686,
          110982,
          2824061,
          2444767,
          4669708,
          55569264,
          5185,
          14996879,
          1656783,
          10143,
          3875546,
          670693,
          59290872,
          11366,
          1118241,
          1516188,
          2489059,
          2408787,
          13562371,
          37435586,
          32482943,
          8683631,
          2737619,
          118007,
          1396989,
          473925,
          19922618,
          130093010,
          3896367,
          2417,
          44968,
          103090,
          5802,
          5537,
          98459,
          142771,
          18169,
          77583,
          6106191,
          4367744,
          7193533,
          54379,
          2778557,
          2061831,
          6260,
          4522867,
          1741286,
          172833,
          3720977,
          22368306,
          32601143,
          3342410,
          33792617,
          12388769,
          11305206,
          379918,
          8027702,
          6181227,
          6319199,
          14957870,
          2993019,
          13618192,
          35791728,
          554021,
          2197383,
          1714,
          86484,
          988890,
          5047404,
          35540990,
          2201432,
          5665,
          5814,
          10317212,
          47279086,
          298084,
          55650166,
          200328340,
          63446,
          2790265,
          12011361,
          87019,
          752,
          11355475,
          41928849,
          9377,
          76371,
          6843607,
          4281671,
          5202918
         ]
        }
       ],
       "frames": [
        {
         "data": [
          {
           "coloraxis": "coloraxis",
           "customdata": [
            [
             "AFG"
            ],
            [
             "ALB"
            ],
            [
             "DZA"
            ],
            [
             "ASM"
            ],
            [
             "AND"
            ],
            [
             "AGO"
            ],
            [
             "AIA"
            ],
            [
             "ATG"
            ],
            [
             "ARG"
            ],
            [
             "ARM"
            ],
            [
             "ABW"
            ],
            [
             "AUS"
            ],
            [
             "AUT"
            ],
            [
             "AZE"
            ],
            [
             "BHS"
            ],
            [
             "BHR"
            ],
            [
             "BGD"
            ],
            [
             "BRB"
            ],
            [
             "BLR"
            ],
            [
             "BEL"
            ],
            [
             "BLZ"
            ],
            [
             "BEN"
            ],
            [
             "BMU"
            ],
            [
             "BTN"
            ],
            [
             "BOL"
            ],
            [
             "BIH"
            ],
            [
             "BWA"
            ],
            [
             "BRA"
            ],
            [
             "VGB"
            ],
            [
             "BRN"
            ],
            [
             "BGR"
            ],
            [
             "BFA"
            ],
            [
             "BDI"
            ],
            [
             "KHM"
            ],
            [
             "CMR"
            ],
            [
             "CAN"
            ],
            [
             "CPV"
            ],
            [
             "CYM"
            ],
            [
             "CAF"
            ],
            [
             "TCD"
            ],
            [
             "CHL"
            ],
            [
             "CHN"
            ],
            [
             "COL"
            ],
            [
             "COM"
            ],
            [
             "COK"
            ],
            [
             "CRI"
            ],
            [
             "HRV"
            ],
            [
             "CUB"
            ],
            [
             "CUW"
            ],
            [
             "CYP"
            ],
            [
             "CZE"
            ],
            [
             "DNK"
            ],
            [
             "DJI"
            ],
            [
             "DMA"
            ],
            [
             "DOM"
            ],
            [
             "COD"
            ],
            [
             "ECU"
            ],
            [
             "EGY"
            ],
            [
             "SLV"
            ],
            [
             "GNQ"
            ],
            [
             "ERI"
            ],
            [
             "EST"
            ],
            [
             "SWZ"
            ],
            [
             "ETH"
            ],
            [
             "FLK"
            ],
            [
             "FRO"
            ],
            [
             "FJI"
            ],
            [
             "FIN"
            ],
            [
             "FRA"
            ],
            [
             "GUF"
            ],
            [
             "PYF"
            ],
            [
             "GAB"
            ],
            [
             "GMB"
            ],
            [
             "GEO"
            ],
            [
             "DEU"
            ],
            [
             "GHA"
            ],
            [
             "GIB"
            ],
            [
             "GRC"
            ],
            [
             "GRL"
            ],
            [
             "GRD"
            ],
            [
             "GLP"
            ],
            [
             "GUM"
            ],
            [
             "GTM"
            ],
            [
             "GGY"
            ],
            [
             "GIN"
            ],
            [
             "GNB"
            ],
            [
             "GUY"
            ],
            [
             "HTI"
            ],
            [
             "HND"
            ],
            [
             "HKG"
            ],
            [
             "HUN"
            ],
            [
             "ISL"
            ],
            [
             "IND"
            ],
            [
             "IDN"
            ],
            [
             "IRN"
            ],
            [
             "IRQ"
            ],
            [
             "IRL"
            ],
            [
             "IMN"
            ],
            [
             "ISR"
            ],
            [
             "ITA"
            ],
            [
             "CIV"
            ],
            [
             "JAM"
            ],
            [
             "JPN"
            ],
            [
             "JEY"
            ],
            [
             "JOR"
            ],
            [
             "KAZ"
            ],
            [
             "KEN"
            ],
            [
             "KIR"
            ],
            [
             "KWT"
            ],
            [
             "KGZ"
            ],
            [
             "LAO"
            ],
            [
             "LVA"
            ],
            [
             "LBN"
            ],
            [
             "LSO"
            ],
            [
             "LBR"
            ],
            [
             "LBY"
            ],
            [
             "LIE"
            ],
            [
             "LTU"
            ],
            [
             "LUX"
            ],
            [
             "MAC"
            ],
            [
             "MDG"
            ],
            [
             "MWI"
            ],
            [
             "MYS"
            ],
            [
             "MDV"
            ],
            [
             "MLI"
            ],
            [
             "MLT"
            ],
            [
             "MHL"
            ],
            [
             "MTQ"
            ],
            [
             "MRT"
            ],
            [
             "MUS"
            ],
            [
             "MYT"
            ],
            [
             "MEX"
            ],
            [
             "FSM"
            ],
            [
             "MDA"
            ],
            [
             "MCO"
            ],
            [
             "MNG"
            ],
            [
             "MNE"
            ],
            [
             "MSR"
            ],
            [
             "MAR"
            ],
            [
             "MOZ"
            ],
            [
             "MMR"
            ],
            [
             "NAM"
            ],
            [
             "NRU"
            ],
            [
             "NPL"
            ],
            [
             "NLD"
            ],
            [
             "NCL"
            ],
            [
             "NZL"
            ],
            [
             "NIC"
            ],
            [
             "NER"
            ],
            [
             "NGA"
            ],
            [
             "NIU"
            ],
            [
             "PRK"
            ],
            [
             "MKD"
            ],
            [
             "NFK"
            ],
            [
             "NOR"
            ],
            [
             "OMN"
            ],
            [
             "PAK"
            ],
            [
             "PLW"
            ],
            [
             "PSE"
            ],
            [
             "PAN"
            ],
            [
             "PNG"
            ],
            [
             "PRY"
            ],
            [
             "PER"
            ],
            [
             "PHL"
            ],
            [
             "POL"
            ],
            [
             "PRT"
            ],
            [
             "PRI"
            ],
            [
             "QAT"
            ],
            [
             "COG"
            ],
            [
             "REU"
            ],
            [
             "ROU"
            ],
            [
             "RUS"
            ],
            [
             "RWA"
            ],
            [
             "BLM"
            ],
            [
             "KNA"
            ],
            [
             "LCA"
            ],
            [
             "MAF"
            ],
            [
             "SPM"
            ],
            [
             "VCT"
            ],
            [
             "WSM"
            ],
            [
             "SMR"
            ],
            [
             "STP"
            ],
            [
             "SAU"
            ],
            [
             "SEN"
            ],
            [
             "SRB"
            ],
            [
             "SYC"
            ],
            [
             "SLE"
            ],
            [
             "SGP"
            ],
            [
             "SXM"
            ],
            [
             "SVK"
            ],
            [
             "SVN"
            ],
            [
             "SLB"
            ],
            [
             "SOM"
            ],
            [
             "ZAF"
            ],
            [
             "KOR"
            ],
            [
             "SSD"
            ],
            [
             "ESP"
            ],
            [
             "LKA"
            ],
            [
             "SDN"
            ],
            [
             "SUR"
            ],
            [
             "SWE"
            ],
            [
             "CHE"
            ],
            [
             "SYR"
            ],
            [
             "TWN"
            ],
            [
             "TJK"
            ],
            [
             "TZA"
            ],
            [
             "THA"
            ],
            [
             "TLS"
            ],
            [
             "TGO"
            ],
            [
             "TKL"
            ],
            [
             "TON"
            ],
            [
             "TTO"
            ],
            [
             "TUN"
            ],
            [
             "TUR"
            ],
            [
             "TKM"
            ],
            [
             "TCA"
            ],
            [
             "TUV"
            ],
            [
             "UGA"
            ],
            [
             "UKR"
            ],
            [
             "ARE"
            ],
            [
             "GBR"
            ],
            [
             "USA"
            ],
            [
             "VIR"
            ],
            [
             "URY"
            ],
            [
             "UZB"
            ],
            [
             "VUT"
            ],
            [
             "VAT"
            ],
            [
             "VEN"
            ],
            [
             "VNM"
            ],
            [
             "WLF"
            ],
            [
             "ESH"
            ],
            [
             "YEM"
            ],
            [
             "ZMB"
            ],
            [
             "ZWE"
            ]
           ],
           "geo": "geo",
           "hovertemplate": "<b>%{hovertext}</b><br><br>Year=1970 Population<br>Population=%{z}<extra></extra>",
           "hovertext": [
            "Afghanistan",
            "Albania",
            "Algeria",
            "American Samoa",
            "Andorra",
            "Angola",
            "Anguilla",
            "Antigua and Barbuda",
            "Argentina",
            "Armenia",
            "Aruba",
            "Australia",
            "Austria",
            "Azerbaijan",
            "Bahamas",
            "Bahrain",
            "Bangladesh",
            "Barbados",
            "Belarus",
            "Belgium",
            "Belize",
            "Benin",
            "Bermuda",
            "Bhutan",
            "Bolivia",
            "Bosnia and Herzegovina",
            "Botswana",
            "Brazil",
            "British Virgin Islands",
            "Brunei",
            "Bulgaria",
            "Burkina Faso",
            "Burundi",
            "Cambodia",
            "Cameroon",
            "Canada",
            "Cape Verde",
            "Cayman Islands",
            "Central African Republic",
            "Chad",
            "Chile",
            "China",
            "Colombia",
            "Comoros",
            "Cook Islands",
            "Costa Rica",
            "Croatia",
            "Cuba",
            "Curacao",
            "Cyprus",
            "Czech Republic",
            "Denmark",
            "Djibouti",
            "Dominica",
            "Dominican Republic",
            "DR Congo",
            "Ecuador",
            "Egypt",
            "El Salvador",
            "Equatorial Guinea",
            "Eritrea",
            "Estonia",
            "Eswatini",
            "Ethiopia",
            "Falkland Islands",
            "Faroe Islands",
            "Fiji",
            "Finland",
            "France",
            "French Guiana",
            "French Polynesia",
            "Gabon",
            "Gambia",
            "Georgia",
            "Germany",
            "Ghana",
            "Gibraltar",
            "Greece",
            "Greenland",
            "Grenada",
            "Guadeloupe",
            "Guam",
            "Guatemala",
            "Guernsey",
            "Guinea",
            "Guinea-Bissau",
            "Guyana",
            "Haiti",
            "Honduras",
            "Hong Kong",
            "Hungary",
            "Iceland",
            "India",
            "Indonesia",
            "Iran",
            "Iraq",
            "Ireland",
            "Isle of Man",
            "Israel",
            "Italy",
            "Ivory Coast",
            "Jamaica",
            "Japan",
            "Jersey",
            "Jordan",
            "Kazakhstan",
            "Kenya",
            "Kiribati",
            "Kuwait",
            "Kyrgyzstan",
            "Laos",
            "Latvia",
            "Lebanon",
            "Lesotho",
            "Liberia",
            "Libya",
            "Liechtenstein",
            "Lithuania",
            "Luxembourg",
            "Macau",
            "Madagascar",
            "Malawi",
            "Malaysia",
            "Maldives",
            "Mali",
            "Malta",
            "Marshall Islands",
            "Martinique",
            "Mauritania",
            "Mauritius",
            "Mayotte",
            "Mexico",
            "Micronesia",
            "Moldova",
            "Monaco",
            "Mongolia",
            "Montenegro",
            "Montserrat",
            "Morocco",
            "Mozambique",
            "Myanmar",
            "Namibia",
            "Nauru",
            "Nepal",
            "Netherlands",
            "New Caledonia",
            "New Zealand",
            "Nicaragua",
            "Niger",
            "Nigeria",
            "Niue",
            "North Korea",
            "North Macedonia",
            "Northern Mariana Islands",
            "Norway",
            "Oman",
            "Pakistan",
            "Palau",
            "Palestine",
            "Panama",
            "Papua New Guinea",
            "Paraguay",
            "Peru",
            "Philippines",
            "Poland",
            "Portugal",
            "Puerto Rico",
            "Qatar",
            "Republic of the Congo",
            "Reunion",
            "Romania",
            "Russia",
            "Rwanda",
            "Saint Barthelemy",
            "Saint Kitts and Nevis",
            "Saint Lucia",
            "Saint Martin",
            "Saint Pierre and Miquelon",
            "Saint Vincent and the Grenadines",
            "Samoa",
            "San Marino",
            "Sao Tome and Principe",
            "Saudi Arabia",
            "Senegal",
            "Serbia",
            "Seychelles",
            "Sierra Leone",
            "Singapore",
            "Sint Maarten",
            "Slovakia",
            "Slovenia",
            "Solomon Islands",
            "Somalia",
            "South Africa",
            "South Korea",
            "South Sudan",
            "Spain",
            "Sri Lanka",
            "Sudan",
            "Suriname",
            "Sweden",
            "Switzerland",
            "Syria",
            "Taiwan",
            "Tajikistan",
            "Tanzania",
            "Thailand",
            "Timor-Leste",
            "Togo",
            "Tokelau",
            "Tonga",
            "Trinidad and Tobago",
            "Tunisia",
            "Turkey",
            "Turkmenistan",
            "Turks and Caicos Islands",
            "Tuvalu",
            "Uganda",
            "Ukraine",
            "United Arab Emirates",
            "United Kingdom",
            "United States",
            "United States Virgin Islands",
            "Uruguay",
            "Uzbekistan",
            "Vanuatu",
            "Vatican City",
            "Venezuela",
            "Vietnam",
            "Wallis and Futuna",
            "Western Sahara",
            "Yemen",
            "Zambia",
            "Zimbabwe"
           ],
           "locationmode": "ISO-3",
           "locations": [
            "AFG",
            "ALB",
            "DZA",
            "ASM",
            "AND",
            "AGO",
            "AIA",
            "ATG",
            "ARG",
            "ARM",
            "ABW",
            "AUS",
            "AUT",
            "AZE",
            "BHS",
            "BHR",
            "BGD",
            "BRB",
            "BLR",
            "BEL",
            "BLZ",
            "BEN",
            "BMU",
            "BTN",
            "BOL",
            "BIH",
            "BWA",
            "BRA",
            "VGB",
            "BRN",
            "BGR",
            "BFA",
            "BDI",
            "KHM",
            "CMR",
            "CAN",
            "CPV",
            "CYM",
            "CAF",
            "TCD",
            "CHL",
            "CHN",
            "COL",
            "COM",
            "COK",
            "CRI",
            "HRV",
            "CUB",
            "CUW",
            "CYP",
            "CZE",
            "DNK",
            "DJI",
            "DMA",
            "DOM",
            "COD",
            "ECU",
            "EGY",
            "SLV",
            "GNQ",
            "ERI",
            "EST",
            "SWZ",
            "ETH",
            "FLK",
            "FRO",
            "FJI",
            "FIN",
            "FRA",
            "GUF",
            "PYF",
            "GAB",
            "GMB",
            "GEO",
            "DEU",
            "GHA",
            "GIB",
            "GRC",
            "GRL",
            "GRD",
            "GLP",
            "GUM",
            "GTM",
            "GGY",
            "GIN",
            "GNB",
            "GUY",
            "HTI",
            "HND",
            "HKG",
            "HUN",
            "ISL",
            "IND",
            "IDN",
            "IRN",
            "IRQ",
            "IRL",
            "IMN",
            "ISR",
            "ITA",
            "CIV",
            "JAM",
            "JPN",
            "JEY",
            "JOR",
            "KAZ",
            "KEN",
            "KIR",
            "KWT",
            "KGZ",
            "LAO",
            "LVA",
            "LBN",
            "LSO",
            "LBR",
            "LBY",
            "LIE",
            "LTU",
            "LUX",
            "MAC",
            "MDG",
            "MWI",
            "MYS",
            "MDV",
            "MLI",
            "MLT",
            "MHL",
            "MTQ",
            "MRT",
            "MUS",
            "MYT",
            "MEX",
            "FSM",
            "MDA",
            "MCO",
            "MNG",
            "MNE",
            "MSR",
            "MAR",
            "MOZ",
            "MMR",
            "NAM",
            "NRU",
            "NPL",
            "NLD",
            "NCL",
            "NZL",
            "NIC",
            "NER",
            "NGA",
            "NIU",
            "PRK",
            "MKD",
            "NFK",
            "NOR",
            "OMN",
            "PAK",
            "PLW",
            "PSE",
            "PAN",
            "PNG",
            "PRY",
            "PER",
            "PHL",
            "POL",
            "PRT",
            "PRI",
            "QAT",
            "COG",
            "REU",
            "ROU",
            "RUS",
            "RWA",
            "BLM",
            "KNA",
            "LCA",
            "MAF",
            "SPM",
            "VCT",
            "WSM",
            "SMR",
            "STP",
            "SAU",
            "SEN",
            "SRB",
            "SYC",
            "SLE",
            "SGP",
            "SXM",
            "SVK",
            "SVN",
            "SLB",
            "SOM",
            "ZAF",
            "KOR",
            "SSD",
            "ESP",
            "LKA",
            "SDN",
            "SUR",
            "SWE",
            "CHE",
            "SYR",
            "TWN",
            "TJK",
            "TZA",
            "THA",
            "TLS",
            "TGO",
            "TKL",
            "TON",
            "TTO",
            "TUN",
            "TUR",
            "TKM",
            "TCA",
            "TUV",
            "UGA",
            "UKR",
            "ARE",
            "GBR",
            "USA",
            "VIR",
            "URY",
            "UZB",
            "VUT",
            "VAT",
            "VEN",
            "VNM",
            "WLF",
            "ESH",
            "YEM",
            "ZMB",
            "ZWE"
           ],
           "name": "",
           "type": "choropleth",
           "z": [
            10752971,
            2324731,
            13795915,
            27075,
            19860,
            6029700,
            6283,
            64516,
            23842803,
            2534377,
            59106,
            12595034,
            7465301,
            5425317,
            179129,
            222555,
            67541860,
            241397,
            9170786,
            9629376,
            120905,
            3023443,
            52019,
            298894,
            4585693,
            3815561,
            592244,
            96369875,
            9581,
            133343,
            8582950,
            5611666,
            3497834,
            6708525,
            6452787,
            21434577,
            287262,
            10533,
            2067356,
            3667394,
            9820481,
            822534450,
            20905254,
            242351,
            20470,
            1855697,
            4492638,
            8869636,
            150385,
            640804,
            9795744,
            4922963,
            144379,
            68895,
            4475871,
            20151733,
            6172215,
            34781986,
            3619090,
            316955,
            1272748,
            1361999,
            442865,
            28308246,
            2274,
            38416,
            527634,
            4606621,
            50523586,
            46484,
            117891,
            597192,
            528731,
            4800426,
            78294583,
            8861895,
            26685,
            8544873,
            45434,
            98794,
            318310,
            88300,
            5453208,
            52656,
            4222374,
            591663,
            705261,
            4680812,
            2782753,
            3955072,
            10315366,
            204468,
            557501301,
            115228394,
            28449705,
            9811347,
            2937637,
            55298,
            2907307,
            53324036,
            5477086,
            1859091,
            105416839,
            68347,
            1557374,
            12265305,
            11473087,
            57437,
            802786,
            3016384,
            2675283,
            2397414,
            2381791,
            1023481,
            1463563,
            1909177,
            21089,
            3210147,
            339342,
            247284,
            6639751,
            4625141,
            10306508,
            123243,
            6153587,
            315414,
            23969,
            326428,
            1122198,
            830115,
            35383,
            50289306,
            58989,
            3711140,
            24270,
            1293880,
            530268,
            11402,
            15274351,
            8411676,
            27284112,
            754467,
            6663,
            12501285,
            13037686,
            110982,
            2824061,
            2444767,
            4669708,
            55569264,
            5185,
            14996879,
            1656783,
            10143,
            3875546,
            670693,
            59290872,
            11366,
            1118241,
            1516188,
            2489059,
            2408787,
            13562371,
            37435586,
            32482943,
            8683631,
            2737619,
            118007,
            1396989,
            473925,
            19922618,
            130093010,
            3896367,
            2417,
            44968,
            103090,
            5802,
            5537,
            98459,
            142771,
            18169,
            77583,
            6106191,
            4367744,
            7193533,
            54379,
            2778557,
            2061831,
            6260,
            4522867,
            1741286,
            172833,
            3720977,
            22368306,
            32601143,
            3342410,
            33792617,
            12388769,
            11305206,
            379918,
            8027702,
            6181227,
            6319199,
            14957870,
            2993019,
            13618192,
            35791728,
            554021,
            2197383,
            1714,
            86484,
            988890,
            5047404,
            35540990,
            2201432,
            5665,
            5814,
            10317212,
            47279086,
            298084,
            55650166,
            200328340,
            63446,
            2790265,
            12011361,
            87019,
            752,
            11355475,
            41928849,
            9377,
            76371,
            6843607,
            4281671,
            5202918
           ]
          }
         ],
         "name": "1970 Population"
        },
        {
         "data": [
          {
           "coloraxis": "coloraxis",
           "customdata": [
            [
             "AFG"
            ],
            [
             "ALB"
            ],
            [
             "DZA"
            ],
            [
             "ASM"
            ],
            [
             "AND"
            ],
            [
             "AGO"
            ],
            [
             "AIA"
            ],
            [
             "ATG"
            ],
            [
             "ARG"
            ],
            [
             "ARM"
            ],
            [
             "ABW"
            ],
            [
             "AUS"
            ],
            [
             "AUT"
            ],
            [
             "AZE"
            ],
            [
             "BHS"
            ],
            [
             "BHR"
            ],
            [
             "BGD"
            ],
            [
             "BRB"
            ],
            [
             "BLR"
            ],
            [
             "BEL"
            ],
            [
             "BLZ"
            ],
            [
             "BEN"
            ],
            [
             "BMU"
            ],
            [
             "BTN"
            ],
            [
             "BOL"
            ],
            [
             "BIH"
            ],
            [
             "BWA"
            ],
            [
             "BRA"
            ],
            [
             "VGB"
            ],
            [
             "BRN"
            ],
            [
             "BGR"
            ],
            [
             "BFA"
            ],
            [
             "BDI"
            ],
            [
             "KHM"
            ],
            [
             "CMR"
            ],
            [
             "CAN"
            ],
            [
             "CPV"
            ],
            [
             "CYM"
            ],
            [
             "CAF"
            ],
            [
             "TCD"
            ],
            [
             "CHL"
            ],
            [
             "CHN"
            ],
            [
             "COL"
            ],
            [
             "COM"
            ],
            [
             "COK"
            ],
            [
             "CRI"
            ],
            [
             "HRV"
            ],
            [
             "CUB"
            ],
            [
             "CUW"
            ],
            [
             "CYP"
            ],
            [
             "CZE"
            ],
            [
             "DNK"
            ],
            [
             "DJI"
            ],
            [
             "DMA"
            ],
            [
             "DOM"
            ],
            [
             "COD"
            ],
            [
             "ECU"
            ],
            [
             "EGY"
            ],
            [
             "SLV"
            ],
            [
             "GNQ"
            ],
            [
             "ERI"
            ],
            [
             "EST"
            ],
            [
             "SWZ"
            ],
            [
             "ETH"
            ],
            [
             "FLK"
            ],
            [
             "FRO"
            ],
            [
             "FJI"
            ],
            [
             "FIN"
            ],
            [
             "FRA"
            ],
            [
             "GUF"
            ],
            [
             "PYF"
            ],
            [
             "GAB"
            ],
            [
             "GMB"
            ],
            [
             "GEO"
            ],
            [
             "DEU"
            ],
            [
             "GHA"
            ],
            [
             "GIB"
            ],
            [
             "GRC"
            ],
            [
             "GRL"
            ],
            [
             "GRD"
            ],
            [
             "GLP"
            ],
            [
             "GUM"
            ],
            [
             "GTM"
            ],
            [
             "GGY"
            ],
            [
             "GIN"
            ],
            [
             "GNB"
            ],
            [
             "GUY"
            ],
            [
             "HTI"
            ],
            [
             "HND"
            ],
            [
             "HKG"
            ],
            [
             "HUN"
            ],
            [
             "ISL"
            ],
            [
             "IND"
            ],
            [
             "IDN"
            ],
            [
             "IRN"
            ],
            [
             "IRQ"
            ],
            [
             "IRL"
            ],
            [
             "IMN"
            ],
            [
             "ISR"
            ],
            [
             "ITA"
            ],
            [
             "CIV"
            ],
            [
             "JAM"
            ],
            [
             "JPN"
            ],
            [
             "JEY"
            ],
            [
             "JOR"
            ],
            [
             "KAZ"
            ],
            [
             "KEN"
            ],
            [
             "KIR"
            ],
            [
             "KWT"
            ],
            [
             "KGZ"
            ],
            [
             "LAO"
            ],
            [
             "LVA"
            ],
            [
             "LBN"
            ],
            [
             "LSO"
            ],
            [
             "LBR"
            ],
            [
             "LBY"
            ],
            [
             "LIE"
            ],
            [
             "LTU"
            ],
            [
             "LUX"
            ],
            [
             "MAC"
            ],
            [
             "MDG"
            ],
            [
             "MWI"
            ],
            [
             "MYS"
            ],
            [
             "MDV"
            ],
            [
             "MLI"
            ],
            [
             "MLT"
            ],
            [
             "MHL"
            ],
            [
             "MTQ"
            ],
            [
             "MRT"
            ],
            [
             "MUS"
            ],
            [
             "MYT"
            ],
            [
             "MEX"
            ],
            [
             "FSM"
            ],
            [
             "MDA"
            ],
            [
             "MCO"
            ],
            [
             "MNG"
            ],
            [
             "MNE"
            ],
            [
             "MSR"
            ],
            [
             "MAR"
            ],
            [
             "MOZ"
            ],
            [
             "MMR"
            ],
            [
             "NAM"
            ],
            [
             "NRU"
            ],
            [
             "NPL"
            ],
            [
             "NLD"
            ],
            [
             "NCL"
            ],
            [
             "NZL"
            ],
            [
             "NIC"
            ],
            [
             "NER"
            ],
            [
             "NGA"
            ],
            [
             "NIU"
            ],
            [
             "PRK"
            ],
            [
             "MKD"
            ],
            [
             "NFK"
            ],
            [
             "NOR"
            ],
            [
             "OMN"
            ],
            [
             "PAK"
            ],
            [
             "PLW"
            ],
            [
             "PSE"
            ],
            [
             "PAN"
            ],
            [
             "PNG"
            ],
            [
             "PRY"
            ],
            [
             "PER"
            ],
            [
             "PHL"
            ],
            [
             "POL"
            ],
            [
             "PRT"
            ],
            [
             "PRI"
            ],
            [
             "QAT"
            ],
            [
             "COG"
            ],
            [
             "REU"
            ],
            [
             "ROU"
            ],
            [
             "RUS"
            ],
            [
             "RWA"
            ],
            [
             "BLM"
            ],
            [
             "KNA"
            ],
            [
             "LCA"
            ],
            [
             "MAF"
            ],
            [
             "SPM"
            ],
            [
             "VCT"
            ],
            [
             "WSM"
            ],
            [
             "SMR"
            ],
            [
             "STP"
            ],
            [
             "SAU"
            ],
            [
             "SEN"
            ],
            [
             "SRB"
            ],
            [
             "SYC"
            ],
            [
             "SLE"
            ],
            [
             "SGP"
            ],
            [
             "SXM"
            ],
            [
             "SVK"
            ],
            [
             "SVN"
            ],
            [
             "SLB"
            ],
            [
             "SOM"
            ],
            [
             "ZAF"
            ],
            [
             "KOR"
            ],
            [
             "SSD"
            ],
            [
             "ESP"
            ],
            [
             "LKA"
            ],
            [
             "SDN"
            ],
            [
             "SUR"
            ],
            [
             "SWE"
            ],
            [
             "CHE"
            ],
            [
             "SYR"
            ],
            [
             "TWN"
            ],
            [
             "TJK"
            ],
            [
             "TZA"
            ],
            [
             "THA"
            ],
            [
             "TLS"
            ],
            [
             "TGO"
            ],
            [
             "TKL"
            ],
            [
             "TON"
            ],
            [
             "TTO"
            ],
            [
             "TUN"
            ],
            [
             "TUR"
            ],
            [
             "TKM"
            ],
            [
             "TCA"
            ],
            [
             "TUV"
            ],
            [
             "UGA"
            ],
            [
             "UKR"
            ],
            [
             "ARE"
            ],
            [
             "GBR"
            ],
            [
             "USA"
            ],
            [
             "VIR"
            ],
            [
             "URY"
            ],
            [
             "UZB"
            ],
            [
             "VUT"
            ],
            [
             "VAT"
            ],
            [
             "VEN"
            ],
            [
             "VNM"
            ],
            [
             "WLF"
            ],
            [
             "ESH"
            ],
            [
             "YEM"
            ],
            [
             "ZMB"
            ],
            [
             "ZWE"
            ]
           ],
           "geo": "geo",
           "hovertemplate": "<b>%{hovertext}</b><br><br>Year=1980 Population<br>Population=%{z}<extra></extra>",
           "hovertext": [
            "Afghanistan",
            "Albania",
            "Algeria",
            "American Samoa",
            "Andorra",
            "Angola",
            "Anguilla",
            "Antigua and Barbuda",
            "Argentina",
            "Armenia",
            "Aruba",
            "Australia",
            "Austria",
            "Azerbaijan",
            "Bahamas",
            "Bahrain",
            "Bangladesh",
            "Barbados",
            "Belarus",
            "Belgium",
            "Belize",
            "Benin",
            "Bermuda",
            "Bhutan",
            "Bolivia",
            "Bosnia and Herzegovina",
            "Botswana",
            "Brazil",
            "British Virgin Islands",
            "Brunei",
            "Bulgaria",
            "Burkina Faso",
            "Burundi",
            "Cambodia",
            "Cameroon",
            "Canada",
            "Cape Verde",
            "Cayman Islands",
            "Central African Republic",
            "Chad",
            "Chile",
            "China",
            "Colombia",
            "Comoros",
            "Cook Islands",
            "Costa Rica",
            "Croatia",
            "Cuba",
            "Curacao",
            "Cyprus",
            "Czech Republic",
            "Denmark",
            "Djibouti",
            "Dominica",
            "Dominican Republic",
            "DR Congo",
            "Ecuador",
            "Egypt",
            "El Salvador",
            "Equatorial Guinea",
            "Eritrea",
            "Estonia",
            "Eswatini",
            "Ethiopia",
            "Falkland Islands",
            "Faroe Islands",
            "Fiji",
            "Finland",
            "France",
            "French Guiana",
            "French Polynesia",
            "Gabon",
            "Gambia",
            "Georgia",
            "Germany",
            "Ghana",
            "Gibraltar",
            "Greece",
            "Greenland",
            "Grenada",
            "Guadeloupe",
            "Guam",
            "Guatemala",
            "Guernsey",
            "Guinea",
            "Guinea-Bissau",
            "Guyana",
            "Haiti",
            "Honduras",
            "Hong Kong",
            "Hungary",
            "Iceland",
            "India",
            "Indonesia",
            "Iran",
            "Iraq",
            "Ireland",
            "Isle of Man",
            "Israel",
            "Italy",
            "Ivory Coast",
            "Jamaica",
            "Japan",
            "Jersey",
            "Jordan",
            "Kazakhstan",
            "Kenya",
            "Kiribati",
            "Kuwait",
            "Kyrgyzstan",
            "Laos",
            "Latvia",
            "Lebanon",
            "Lesotho",
            "Liberia",
            "Libya",
            "Liechtenstein",
            "Lithuania",
            "Luxembourg",
            "Macau",
            "Madagascar",
            "Malawi",
            "Malaysia",
            "Maldives",
            "Mali",
            "Malta",
            "Marshall Islands",
            "Martinique",
            "Mauritania",
            "Mauritius",
            "Mayotte",
            "Mexico",
            "Micronesia",
            "Moldova",
            "Monaco",
            "Mongolia",
            "Montenegro",
            "Montserrat",
            "Morocco",
            "Mozambique",
            "Myanmar",
            "Namibia",
            "Nauru",
            "Nepal",
            "Netherlands",
            "New Caledonia",
            "New Zealand",
            "Nicaragua",
            "Niger",
            "Nigeria",
            "Niue",
            "North Korea",
            "North Macedonia",
            "Northern Mariana Islands",
            "Norway",
            "Oman",
            "Pakistan",
            "Palau",
            "Palestine",
            "Panama",
            "Papua New Guinea",
            "Paraguay",
            "Peru",
            "Philippines",
            "Poland",
            "Portugal",
            "Puerto Rico",
            "Qatar",
            "Republic of the Congo",
            "Reunion",
            "Romania",
            "Russia",
            "Rwanda",
            "Saint Barthelemy",
            "Saint Kitts and Nevis",
            "Saint Lucia",
            "Saint Martin",
            "Saint Pierre and Miquelon",
            "Saint Vincent and the Grenadines",
            "Samoa",
            "San Marino",
            "Sao Tome and Principe",
            "Saudi Arabia",
            "Senegal",
            "Serbia",
            "Seychelles",
            "Sierra Leone",
            "Singapore",
            "Sint Maarten",
            "Slovakia",
            "Slovenia",
            "Solomon Islands",
            "Somalia",
            "South Africa",
            "South Korea",
            "South Sudan",
            "Spain",
            "Sri Lanka",
            "Sudan",
            "Suriname",
            "Sweden",
            "Switzerland",
            "Syria",
            "Taiwan",
            "Tajikistan",
            "Tanzania",
            "Thailand",
            "Timor-Leste",
            "Togo",
            "Tokelau",
            "Tonga",
            "Trinidad and Tobago",
            "Tunisia",
            "Turkey",
            "Turkmenistan",
            "Turks and Caicos Islands",
            "Tuvalu",
            "Uganda",
            "Ukraine",
            "United Arab Emirates",
            "United Kingdom",
            "United States",
            "United States Virgin Islands",
            "Uruguay",
            "Uzbekistan",
            "Vanuatu",
            "Vatican City",
            "Venezuela",
            "Vietnam",
            "Wallis and Futuna",
            "Western Sahara",
            "Yemen",
            "Zambia",
            "Zimbabwe"
           ],
           "locationmode": "ISO-3",
           "locations": [
            "AFG",
            "ALB",
            "DZA",
            "ASM",
            "AND",
            "AGO",
            "AIA",
            "ATG",
            "ARG",
            "ARM",
            "ABW",
            "AUS",
            "AUT",
            "AZE",
            "BHS",
            "BHR",
            "BGD",
            "BRB",
            "BLR",
            "BEL",
            "BLZ",
            "BEN",
            "BMU",
            "BTN",
            "BOL",
            "BIH",
            "BWA",
            "BRA",
            "VGB",
            "BRN",
            "BGR",
            "BFA",
            "BDI",
            "KHM",
            "CMR",
            "CAN",
            "CPV",
            "CYM",
            "CAF",
            "TCD",
            "CHL",
            "CHN",
            "COL",
            "COM",
            "COK",
            "CRI",
            "HRV",
            "CUB",
            "CUW",
            "CYP",
            "CZE",
            "DNK",
            "DJI",
            "DMA",
            "DOM",
            "COD",
            "ECU",
            "EGY",
            "SLV",
            "GNQ",
            "ERI",
            "EST",
            "SWZ",
            "ETH",
            "FLK",
            "FRO",
            "FJI",
            "FIN",
            "FRA",
            "GUF",
            "PYF",
            "GAB",
            "GMB",
            "GEO",
            "DEU",
            "GHA",
            "GIB",
            "GRC",
            "GRL",
            "GRD",
            "GLP",
            "GUM",
            "GTM",
            "GGY",
            "GIN",
            "GNB",
            "GUY",
            "HTI",
            "HND",
            "HKG",
            "HUN",
            "ISL",
            "IND",
            "IDN",
            "IRN",
            "IRQ",
            "IRL",
            "IMN",
            "ISR",
            "ITA",
            "CIV",
            "JAM",
            "JPN",
            "JEY",
            "JOR",
            "KAZ",
            "KEN",
            "KIR",
            "KWT",
            "KGZ",
            "LAO",
            "LVA",
            "LBN",
            "LSO",
            "LBR",
            "LBY",
            "LIE",
            "LTU",
            "LUX",
            "MAC",
            "MDG",
            "MWI",
            "MYS",
            "MDV",
            "MLI",
            "MLT",
            "MHL",
            "MTQ",
            "MRT",
            "MUS",
            "MYT",
            "MEX",
            "FSM",
            "MDA",
            "MCO",
            "MNG",
            "MNE",
            "MSR",
            "MAR",
            "MOZ",
            "MMR",
            "NAM",
            "NRU",
            "NPL",
            "NLD",
            "NCL",
            "NZL",
            "NIC",
            "NER",
            "NGA",
            "NIU",
            "PRK",
            "MKD",
            "NFK",
            "NOR",
            "OMN",
            "PAK",
            "PLW",
            "PSE",
            "PAN",
            "PNG",
            "PRY",
            "PER",
            "PHL",
            "POL",
            "PRT",
            "PRI",
            "QAT",
            "COG",
            "REU",
            "ROU",
            "RUS",
            "RWA",
            "BLM",
            "KNA",
            "LCA",
            "MAF",
            "SPM",
            "VCT",
            "WSM",
            "SMR",
            "STP",
            "SAU",
            "SEN",
            "SRB",
            "SYC",
            "SLE",
            "SGP",
            "SXM",
            "SVK",
            "SVN",
            "SLB",
            "SOM",
            "ZAF",
            "KOR",
            "SSD",
            "ESP",
            "LKA",
            "SDN",
            "SUR",
            "SWE",
            "CHE",
            "SYR",
            "TWN",
            "TJK",
            "TZA",
            "THA",
            "TLS",
            "TGO",
            "TKL",
            "TON",
            "TTO",
            "TUN",
            "TUR",
            "TKM",
            "TCA",
            "TUV",
            "UGA",
            "UKR",
            "ARE",
            "GBR",
            "USA",
            "VIR",
            "URY",
            "UZB",
            "VUT",
            "VAT",
            "VEN",
            "VNM",
            "WLF",
            "ESH",
            "YEM",
            "ZMB",
            "ZWE"
           ],
           "name": "",
           "type": "choropleth",
           "z": [
            12486631,
            2941651,
            18739378,
            32886,
            35611,
            8330047,
            6560,
            64888,
            28024803,
            3135123,
            62267,
            14706322,
            7547561,
            6383060,
            223752,
            362595,
            83929765,
            253575,
            9817257,
            9828986,
            145133,
            3833939,
            53565,
            415257,
            5736088,
            4199820,
            938578,
            122288383,
            11109,
            187921,
            8980606,
            6932967,
            4312834,
            6198959,
            8519891,
            24511510,
            317234,
            17100,
            2415276,
            4408230,
            11469828,
            982372466,
            26176195,
            328328,
            17651,
            2414303,
            4680144,
            9809107,
            156851,
            679327,
            10270060,
            5125392,
            324121,
            72978,
            5755800,
            26708686,
            8135845,
            43748556,
            4508992,
            282509,
            1657982,
            1476983,
            598564,
            34945469,
            2240,
            43054,
            644582,
            4779418,
            53713830,
            66825,
            163591,
            749078,
            718586,
            5145843,
            77786703,
            11865246,
            28734,
            9307148,
            50106,
            94838,
            334234,
            110286,
            6987767,
            52860,
            4972609,
            831462,
            778176,
            5646676,
            3777990,
            4978544,
            10698679,
            228263,
            696828385,
            148177096,
            38520664,
            13653369,
            3391387,
            64022,
            3744608,
            56329482,
            8303809,
            2135546,
            117624196,
            75124,
            2216903,
            14172710,
            16187124,
            60813,
            1493870,
            3691209,
            3297519,
            2572037,
            2963702,
            1407672,
            1932169,
            2962720,
            25003,
            3521206,
            363741,
            245332,
            8948162,
            6267369,
            13215707,
            164887,
            7372581,
            333587,
            31988,
            333786,
            1506694,
            954865,
            52233,
            67705186,
            76299,
            4103240,
            27076,
            1697780,
            589324,
            11452,
            19678444,
            11413587,
            33465781,
            975994,
            7635,
            15600442,
            14130387,
            148599,
            3147168,
            3303309,
            6173177,
            72951439,
            3637,
            17973650,
            1907023,
            17613,
            4085776,
            1017462,
            80624057,
            12252,
            1453620,
            1956987,
            3104788,
            3078912,
            17492406,
            48419546,
            35521429,
            9785252,
            3214568,
            277450,
            1829256,
            551674,
            22125224,
            138257420,
            5247532,
            2983,
            43097,
            121633,
            7776,
            6106,
            107480,
            164905,
            21346,
            97210,
            10171710,
            5703869,
            7777010,
            65290,
            3367477,
            2400729,
            12243,
            4973883,
            1901570,
            233668,
            5892224,
            29463549,
            38170501,
            4192011,
            37491666,
            14943645,
            16673586,
            375112,
            8311763,
            6319113,
            8898954,
            18100281,
            4045965,
            19297659,
            45737753,
            642224,
            2838110,
            1647,
            96708,
            1127852,
            6578156,
            44089069,
            2862903,
            7598,
            7731,
            13284026,
            49973920,
            1014048,
            56326328,
            223140018,
            96640,
            2953750,
            15947129,
            118156,
            733,
            15210443,
            52968270,
            11315,
            116775,
            9204938,
            5720438,
            7049926
           ]
          }
         ],
         "name": "1980 Population"
        },
        {
         "data": [
          {
           "coloraxis": "coloraxis",
           "customdata": [
            [
             "AFG"
            ],
            [
             "ALB"
            ],
            [
             "DZA"
            ],
            [
             "ASM"
            ],
            [
             "AND"
            ],
            [
             "AGO"
            ],
            [
             "AIA"
            ],
            [
             "ATG"
            ],
            [
             "ARG"
            ],
            [
             "ARM"
            ],
            [
             "ABW"
            ],
            [
             "AUS"
            ],
            [
             "AUT"
            ],
            [
             "AZE"
            ],
            [
             "BHS"
            ],
            [
             "BHR"
            ],
            [
             "BGD"
            ],
            [
             "BRB"
            ],
            [
             "BLR"
            ],
            [
             "BEL"
            ],
            [
             "BLZ"
            ],
            [
             "BEN"
            ],
            [
             "BMU"
            ],
            [
             "BTN"
            ],
            [
             "BOL"
            ],
            [
             "BIH"
            ],
            [
             "BWA"
            ],
            [
             "BRA"
            ],
            [
             "VGB"
            ],
            [
             "BRN"
            ],
            [
             "BGR"
            ],
            [
             "BFA"
            ],
            [
             "BDI"
            ],
            [
             "KHM"
            ],
            [
             "CMR"
            ],
            [
             "CAN"
            ],
            [
             "CPV"
            ],
            [
             "CYM"
            ],
            [
             "CAF"
            ],
            [
             "TCD"
            ],
            [
             "CHL"
            ],
            [
             "CHN"
            ],
            [
             "COL"
            ],
            [
             "COM"
            ],
            [
             "COK"
            ],
            [
             "CRI"
            ],
            [
             "HRV"
            ],
            [
             "CUB"
            ],
            [
             "CUW"
            ],
            [
             "CYP"
            ],
            [
             "CZE"
            ],
            [
             "DNK"
            ],
            [
             "DJI"
            ],
            [
             "DMA"
            ],
            [
             "DOM"
            ],
            [
             "COD"
            ],
            [
             "ECU"
            ],
            [
             "EGY"
            ],
            [
             "SLV"
            ],
            [
             "GNQ"
            ],
            [
             "ERI"
            ],
            [
             "EST"
            ],
            [
             "SWZ"
            ],
            [
             "ETH"
            ],
            [
             "FLK"
            ],
            [
             "FRO"
            ],
            [
             "FJI"
            ],
            [
             "FIN"
            ],
            [
             "FRA"
            ],
            [
             "GUF"
            ],
            [
             "PYF"
            ],
            [
             "GAB"
            ],
            [
             "GMB"
            ],
            [
             "GEO"
            ],
            [
             "DEU"
            ],
            [
             "GHA"
            ],
            [
             "GIB"
            ],
            [
             "GRC"
            ],
            [
             "GRL"
            ],
            [
             "GRD"
            ],
            [
             "GLP"
            ],
            [
             "GUM"
            ],
            [
             "GTM"
            ],
            [
             "GGY"
            ],
            [
             "GIN"
            ],
            [
             "GNB"
            ],
            [
             "GUY"
            ],
            [
             "HTI"
            ],
            [
             "HND"
            ],
            [
             "HKG"
            ],
            [
             "HUN"
            ],
            [
             "ISL"
            ],
            [
             "IND"
            ],
            [
             "IDN"
            ],
            [
             "IRN"
            ],
            [
             "IRQ"
            ],
            [
             "IRL"
            ],
            [
             "IMN"
            ],
            [
             "ISR"
            ],
            [
             "ITA"
            ],
            [
             "CIV"
            ],
            [
             "JAM"
            ],
            [
             "JPN"
            ],
            [
             "JEY"
            ],
            [
             "JOR"
            ],
            [
             "KAZ"
            ],
            [
             "KEN"
            ],
            [
             "KIR"
            ],
            [
             "KWT"
            ],
            [
             "KGZ"
            ],
            [
             "LAO"
            ],
            [
             "LVA"
            ],
            [
             "LBN"
            ],
            [
             "LSO"
            ],
            [
             "LBR"
            ],
            [
             "LBY"
            ],
            [
             "LIE"
            ],
            [
             "LTU"
            ],
            [
             "LUX"
            ],
            [
             "MAC"
            ],
            [
             "MDG"
            ],
            [
             "MWI"
            ],
            [
             "MYS"
            ],
            [
             "MDV"
            ],
            [
             "MLI"
            ],
            [
             "MLT"
            ],
            [
             "MHL"
            ],
            [
             "MTQ"
            ],
            [
             "MRT"
            ],
            [
             "MUS"
            ],
            [
             "MYT"
            ],
            [
             "MEX"
            ],
            [
             "FSM"
            ],
            [
             "MDA"
            ],
            [
             "MCO"
            ],
            [
             "MNG"
            ],
            [
             "MNE"
            ],
            [
             "MSR"
            ],
            [
             "MAR"
            ],
            [
             "MOZ"
            ],
            [
             "MMR"
            ],
            [
             "NAM"
            ],
            [
             "NRU"
            ],
            [
             "NPL"
            ],
            [
             "NLD"
            ],
            [
             "NCL"
            ],
            [
             "NZL"
            ],
            [
             "NIC"
            ],
            [
             "NER"
            ],
            [
             "NGA"
            ],
            [
             "NIU"
            ],
            [
             "PRK"
            ],
            [
             "MKD"
            ],
            [
             "NFK"
            ],
            [
             "NOR"
            ],
            [
             "OMN"
            ],
            [
             "PAK"
            ],
            [
             "PLW"
            ],
            [
             "PSE"
            ],
            [
             "PAN"
            ],
            [
             "PNG"
            ],
            [
             "PRY"
            ],
            [
             "PER"
            ],
            [
             "PHL"
            ],
            [
             "POL"
            ],
            [
             "PRT"
            ],
            [
             "PRI"
            ],
            [
             "QAT"
            ],
            [
             "COG"
            ],
            [
             "REU"
            ],
            [
             "ROU"
            ],
            [
             "RUS"
            ],
            [
             "RWA"
            ],
            [
             "BLM"
            ],
            [
             "KNA"
            ],
            [
             "LCA"
            ],
            [
             "MAF"
            ],
            [
             "SPM"
            ],
            [
             "VCT"
            ],
            [
             "WSM"
            ],
            [
             "SMR"
            ],
            [
             "STP"
            ],
            [
             "SAU"
            ],
            [
             "SEN"
            ],
            [
             "SRB"
            ],
            [
             "SYC"
            ],
            [
             "SLE"
            ],
            [
             "SGP"
            ],
            [
             "SXM"
            ],
            [
             "SVK"
            ],
            [
             "SVN"
            ],
            [
             "SLB"
            ],
            [
             "SOM"
            ],
            [
             "ZAF"
            ],
            [
             "KOR"
            ],
            [
             "SSD"
            ],
            [
             "ESP"
            ],
            [
             "LKA"
            ],
            [
             "SDN"
            ],
            [
             "SUR"
            ],
            [
             "SWE"
            ],
            [
             "CHE"
            ],
            [
             "SYR"
            ],
            [
             "TWN"
            ],
            [
             "TJK"
            ],
            [
             "TZA"
            ],
            [
             "THA"
            ],
            [
             "TLS"
            ],
            [
             "TGO"
            ],
            [
             "TKL"
            ],
            [
             "TON"
            ],
            [
             "TTO"
            ],
            [
             "TUN"
            ],
            [
             "TUR"
            ],
            [
             "TKM"
            ],
            [
             "TCA"
            ],
            [
             "TUV"
            ],
            [
             "UGA"
            ],
            [
             "UKR"
            ],
            [
             "ARE"
            ],
            [
             "GBR"
            ],
            [
             "USA"
            ],
            [
             "VIR"
            ],
            [
             "URY"
            ],
            [
             "UZB"
            ],
            [
             "VUT"
            ],
            [
             "VAT"
            ],
            [
             "VEN"
            ],
            [
             "VNM"
            ],
            [
             "WLF"
            ],
            [
             "ESH"
            ],
            [
             "YEM"
            ],
            [
             "ZMB"
            ],
            [
             "ZWE"
            ]
           ],
           "geo": "geo",
           "hovertemplate": "<b>%{hovertext}</b><br><br>Year=1990 Population<br>Population=%{z}<extra></extra>",
           "hovertext": [
            "Afghanistan",
            "Albania",
            "Algeria",
            "American Samoa",
            "Andorra",
            "Angola",
            "Anguilla",
            "Antigua and Barbuda",
            "Argentina",
            "Armenia",
            "Aruba",
            "Australia",
            "Austria",
            "Azerbaijan",
            "Bahamas",
            "Bahrain",
            "Bangladesh",
            "Barbados",
            "Belarus",
            "Belgium",
            "Belize",
            "Benin",
            "Bermuda",
            "Bhutan",
            "Bolivia",
            "Bosnia and Herzegovina",
            "Botswana",
            "Brazil",
            "British Virgin Islands",
            "Brunei",
            "Bulgaria",
            "Burkina Faso",
            "Burundi",
            "Cambodia",
            "Cameroon",
            "Canada",
            "Cape Verde",
            "Cayman Islands",
            "Central African Republic",
            "Chad",
            "Chile",
            "China",
            "Colombia",
            "Comoros",
            "Cook Islands",
            "Costa Rica",
            "Croatia",
            "Cuba",
            "Curacao",
            "Cyprus",
            "Czech Republic",
            "Denmark",
            "Djibouti",
            "Dominica",
            "Dominican Republic",
            "DR Congo",
            "Ecuador",
            "Egypt",
            "El Salvador",
            "Equatorial Guinea",
            "Eritrea",
            "Estonia",
            "Eswatini",
            "Ethiopia",
            "Falkland Islands",
            "Faroe Islands",
            "Fiji",
            "Finland",
            "France",
            "French Guiana",
            "French Polynesia",
            "Gabon",
            "Gambia",
            "Georgia",
            "Germany",
            "Ghana",
            "Gibraltar",
            "Greece",
            "Greenland",
            "Grenada",
            "Guadeloupe",
            "Guam",
            "Guatemala",
            "Guernsey",
            "Guinea",
            "Guinea-Bissau",
            "Guyana",
            "Haiti",
            "Honduras",
            "Hong Kong",
            "Hungary",
            "Iceland",
            "India",
            "Indonesia",
            "Iran",
            "Iraq",
            "Ireland",
            "Isle of Man",
            "Israel",
            "Italy",
            "Ivory Coast",
            "Jamaica",
            "Japan",
            "Jersey",
            "Jordan",
            "Kazakhstan",
            "Kenya",
            "Kiribati",
            "Kuwait",
            "Kyrgyzstan",
            "Laos",
            "Latvia",
            "Lebanon",
            "Lesotho",
            "Liberia",
            "Libya",
            "Liechtenstein",
            "Lithuania",
            "Luxembourg",
            "Macau",
            "Madagascar",
            "Malawi",
            "Malaysia",
            "Maldives",
            "Mali",
            "Malta",
            "Marshall Islands",
            "Martinique",
            "Mauritania",
            "Mauritius",
            "Mayotte",
            "Mexico",
            "Micronesia",
            "Moldova",
            "Monaco",
            "Mongolia",
            "Montenegro",
            "Montserrat",
            "Morocco",
            "Mozambique",
            "Myanmar",
            "Namibia",
            "Nauru",
            "Nepal",
            "Netherlands",
            "New Caledonia",
            "New Zealand",
            "Nicaragua",
            "Niger",
            "Nigeria",
            "Niue",
            "North Korea",
            "North Macedonia",
            "Northern Mariana Islands",
            "Norway",
            "Oman",
            "Pakistan",
            "Palau",
            "Palestine",
            "Panama",
            "Papua New Guinea",
            "Paraguay",
            "Peru",
            "Philippines",
            "Poland",
            "Portugal",
            "Puerto Rico",
            "Qatar",
            "Republic of the Congo",
            "Reunion",
            "Romania",
            "Russia",
            "Rwanda",
            "Saint Barthelemy",
            "Saint Kitts and Nevis",
            "Saint Lucia",
            "Saint Martin",
            "Saint Pierre and Miquelon",
            "Saint Vincent and the Grenadines",
            "Samoa",
            "San Marino",
            "Sao Tome and Principe",
            "Saudi Arabia",
            "Senegal",
            "Serbia",
            "Seychelles",
            "Sierra Leone",
            "Singapore",
            "Sint Maarten",
            "Slovakia",
            "Slovenia",
            "Solomon Islands",
            "Somalia",
            "South Africa",
            "South Korea",
            "South Sudan",
            "Spain",
            "Sri Lanka",
            "Sudan",
            "Suriname",
            "Sweden",
            "Switzerland",
            "Syria",
            "Taiwan",
            "Tajikistan",
            "Tanzania",
            "Thailand",
            "Timor-Leste",
            "Togo",
            "Tokelau",
            "Tonga",
            "Trinidad and Tobago",
            "Tunisia",
            "Turkey",
            "Turkmenistan",
            "Turks and Caicos Islands",
            "Tuvalu",
            "Uganda",
            "Ukraine",
            "United Arab Emirates",
            "United Kingdom",
            "United States",
            "United States Virgin Islands",
            "Uruguay",
            "Uzbekistan",
            "Vanuatu",
            "Vatican City",
            "Venezuela",
            "Vietnam",
            "Wallis and Futuna",
            "Western Sahara",
            "Yemen",
            "Zambia",
            "Zimbabwe"
           ],
           "locationmode": "ISO-3",
           "locations": [
            "AFG",
            "ALB",
            "DZA",
            "ASM",
            "AND",
            "AGO",
            "AIA",
            "ATG",
            "ARG",
            "ARM",
            "ABW",
            "AUS",
            "AUT",
            "AZE",
            "BHS",
            "BHR",
            "BGD",
            "BRB",
            "BLR",
            "BEL",
            "BLZ",
            "BEN",
            "BMU",
            "BTN",
            "BOL",
            "BIH",
            "BWA",
            "BRA",
            "VGB",
            "BRN",
            "BGR",
            "BFA",
            "BDI",
            "KHM",
            "CMR",
            "CAN",
            "CPV",
            "CYM",
            "CAF",
            "TCD",
            "CHL",
            "CHN",
            "COL",
            "COM",
            "COK",
            "CRI",
            "HRV",
            "CUB",
            "CUW",
            "CYP",
            "CZE",
            "DNK",
            "DJI",
            "DMA",
            "DOM",
            "COD",
            "ECU",
            "EGY",
            "SLV",
            "GNQ",
            "ERI",
            "EST",
            "SWZ",
            "ETH",
            "FLK",
            "FRO",
            "FJI",
            "FIN",
            "FRA",
            "GUF",
            "PYF",
            "GAB",
            "GMB",
            "GEO",
            "DEU",
            "GHA",
            "GIB",
            "GRC",
            "GRL",
            "GRD",
            "GLP",
            "GUM",
            "GTM",
            "GGY",
            "GIN",
            "GNB",
            "GUY",
            "HTI",
            "HND",
            "HKG",
            "HUN",
            "ISL",
            "IND",
            "IDN",
            "IRN",
            "IRQ",
            "IRL",
            "IMN",
            "ISR",
            "ITA",
            "CIV",
            "JAM",
            "JPN",
            "JEY",
            "JOR",
            "KAZ",
            "KEN",
            "KIR",
            "KWT",
            "KGZ",
            "LAO",
            "LVA",
            "LBN",
            "LSO",
            "LBR",
            "LBY",
            "LIE",
            "LTU",
            "LUX",
            "MAC",
            "MDG",
            "MWI",
            "MYS",
            "MDV",
            "MLI",
            "MLT",
            "MHL",
            "MTQ",
            "MRT",
            "MUS",
            "MYT",
            "MEX",
            "FSM",
            "MDA",
            "MCO",
            "MNG",
            "MNE",
            "MSR",
            "MAR",
            "MOZ",
            "MMR",
            "NAM",
            "NRU",
            "NPL",
            "NLD",
            "NCL",
            "NZL",
            "NIC",
            "NER",
            "NGA",
            "NIU",
            "PRK",
            "MKD",
            "NFK",
            "NOR",
            "OMN",
            "PAK",
            "PLW",
            "PSE",
            "PAN",
            "PNG",
            "PRY",
            "PER",
            "PHL",
            "POL",
            "PRT",
            "PRI",
            "QAT",
            "COG",
            "REU",
            "ROU",
            "RUS",
            "RWA",
            "BLM",
            "KNA",
            "LCA",
            "MAF",
            "SPM",
            "VCT",
            "WSM",
            "SMR",
            "STP",
            "SAU",
            "SEN",
            "SRB",
            "SYC",
            "SLE",
            "SGP",
            "SXM",
            "SVK",
            "SVN",
            "SLB",
            "SOM",
            "ZAF",
            "KOR",
            "SSD",
            "ESP",
            "LKA",
            "SDN",
            "SUR",
            "SWE",
            "CHE",
            "SYR",
            "TWN",
            "TJK",
            "TZA",
            "THA",
            "TLS",
            "TGO",
            "TKL",
            "TON",
            "TTO",
            "TUN",
            "TUR",
            "TKM",
            "TCA",
            "TUV",
            "UGA",
            "UKR",
            "ARE",
            "GBR",
            "USA",
            "VIR",
            "URY",
            "UZB",
            "VUT",
            "VAT",
            "VEN",
            "VNM",
            "WLF",
            "ESH",
            "YEM",
            "ZMB",
            "ZWE"
           ],
           "name": "",
           "type": "choropleth",
           "z": [
            10694796,
            3295066,
            25518074,
            47818,
            53569,
            11828638,
            8316,
            63328,
            32637657,
            3556539,
            65712,
            17048003,
            7678729,
            7427836,
            270679,
            517418,
            107147651,
            258868,
            10428525,
            9959560,
            182589,
            5133419,
            57470,
            558442,
            7096194,
            4494310,
            1341474,
            150706446,
            15617,
            261928,
            8767778,
            9131361,
            5483793,
            8910808,
            11430520,
            27657204,
            364563,
            26027,
            2809221,
            5827069,
            13342868,
            1153704252,
            32601393,
            431119,
            17123,
            3158253,
            4873707,
            10626680,
            155446,
            788500,
            10301192,
            5144623,
            577173,
            69481,
            7129004,
            35987541,
            10449837,
            57214630,
            5367179,
            465549,
            2149960,
            1570674,
            854011,
            47878073,
            2332,
            47479,
            780430,
            4986545,
            56412897,
            113931,
            211089,
            983028,
            1040616,
            5391636,
            79370196,
            15446982,
            27317,
            10302255,
            55599,
            99047,
            391951,
            138263,
            9084780,
            57727,
            6354145,
            973551,
            747116,
            6925331,
            5053234,
            5838574,
            10375989,
            255019,
            870452165,
            182159874,
            55793629,
            17658381,
            3485374,
            68865,
            4803254,
            56756561,
            11910540,
            2392030,
            123686321,
            82874,
            3480587,
            16866563,
            23162269,
            75124,
            1674938,
            4394734,
            4314443,
            2689391,
            3593700,
            1798997,
            2209731,
            4236983,
            28765,
            3785847,
            381267,
            350227,
            11882762,
            9539665,
            17517054,
            224957,
            8945026,
            365392,
            46047,
            374271,
            2006027,
            1090290,
            92659,
            81720428,
            98603,
            4480199,
            30329,
            2161433,
            621442,
            10805,
            24570814,
            13303459,
            40099553,
            1369011,
            9598,
            19616530,
            14944548,
            177264,
            3397389,
            4227820,
            8370647,
            95214257,
            2533,
            20799523,
            2044174,
            48002,
            4241636,
            1804524,
            115414069,
            15293,
            2124609,
            2449968,
            3864972,
            4059195,
            22109099,
            61558898,
            38064255,
            10007346,
            3543776,
            441675,
            2385435,
            658992,
            22836234,
            148005704,
            7319962,
            5168,
            40636,
            142301,
            28127,
            6324,
            112487,
            168186,
            23132,
            120343,
            16004763,
            7536001,
            7987529,
            71057,
            4325388,
            3022209,
            27845,
            5261305,
            1986024,
            324171,
            6999096,
            39877570,
            44120039,
            4750817,
            38889889,
            17204094,
            21090886,
            412756,
            8548406,
            6711693,
            12408996,
            20586174,
            5417860,
            26206012,
            55228410,
            758106,
            3875947,
            1669,
            98727,
            1266518,
            8440023,
            54324142,
            3720278,
            11709,
            9182,
            17586630,
            51589817,
            1900151,
            57210442,
            248083732,
            100685,
            3117012,
            20579100,
            150882,
            700,
            19750579,
            66912613,
            13454,
            178529,
            13375121,
            7686401,
            10113893
           ]
          }
         ],
         "name": "1990 Population"
        },
        {
         "data": [
          {
           "coloraxis": "coloraxis",
           "customdata": [
            [
             "AFG"
            ],
            [
             "ALB"
            ],
            [
             "DZA"
            ],
            [
             "ASM"
            ],
            [
             "AND"
            ],
            [
             "AGO"
            ],
            [
             "AIA"
            ],
            [
             "ATG"
            ],
            [
             "ARG"
            ],
            [
             "ARM"
            ],
            [
             "ABW"
            ],
            [
             "AUS"
            ],
            [
             "AUT"
            ],
            [
             "AZE"
            ],
            [
             "BHS"
            ],
            [
             "BHR"
            ],
            [
             "BGD"
            ],
            [
             "BRB"
            ],
            [
             "BLR"
            ],
            [
             "BEL"
            ],
            [
             "BLZ"
            ],
            [
             "BEN"
            ],
            [
             "BMU"
            ],
            [
             "BTN"
            ],
            [
             "BOL"
            ],
            [
             "BIH"
            ],
            [
             "BWA"
            ],
            [
             "BRA"
            ],
            [
             "VGB"
            ],
            [
             "BRN"
            ],
            [
             "BGR"
            ],
            [
             "BFA"
            ],
            [
             "BDI"
            ],
            [
             "KHM"
            ],
            [
             "CMR"
            ],
            [
             "CAN"
            ],
            [
             "CPV"
            ],
            [
             "CYM"
            ],
            [
             "CAF"
            ],
            [
             "TCD"
            ],
            [
             "CHL"
            ],
            [
             "CHN"
            ],
            [
             "COL"
            ],
            [
             "COM"
            ],
            [
             "COK"
            ],
            [
             "CRI"
            ],
            [
             "HRV"
            ],
            [
             "CUB"
            ],
            [
             "CUW"
            ],
            [
             "CYP"
            ],
            [
             "CZE"
            ],
            [
             "DNK"
            ],
            [
             "DJI"
            ],
            [
             "DMA"
            ],
            [
             "DOM"
            ],
            [
             "COD"
            ],
            [
             "ECU"
            ],
            [
             "EGY"
            ],
            [
             "SLV"
            ],
            [
             "GNQ"
            ],
            [
             "ERI"
            ],
            [
             "EST"
            ],
            [
             "SWZ"
            ],
            [
             "ETH"
            ],
            [
             "FLK"
            ],
            [
             "FRO"
            ],
            [
             "FJI"
            ],
            [
             "FIN"
            ],
            [
             "FRA"
            ],
            [
             "GUF"
            ],
            [
             "PYF"
            ],
            [
             "GAB"
            ],
            [
             "GMB"
            ],
            [
             "GEO"
            ],
            [
             "DEU"
            ],
            [
             "GHA"
            ],
            [
             "GIB"
            ],
            [
             "GRC"
            ],
            [
             "GRL"
            ],
            [
             "GRD"
            ],
            [
             "GLP"
            ],
            [
             "GUM"
            ],
            [
             "GTM"
            ],
            [
             "GGY"
            ],
            [
             "GIN"
            ],
            [
             "GNB"
            ],
            [
             "GUY"
            ],
            [
             "HTI"
            ],
            [
             "HND"
            ],
            [
             "HKG"
            ],
            [
             "HUN"
            ],
            [
             "ISL"
            ],
            [
             "IND"
            ],
            [
             "IDN"
            ],
            [
             "IRN"
            ],
            [
             "IRQ"
            ],
            [
             "IRL"
            ],
            [
             "IMN"
            ],
            [
             "ISR"
            ],
            [
             "ITA"
            ],
            [
             "CIV"
            ],
            [
             "JAM"
            ],
            [
             "JPN"
            ],
            [
             "JEY"
            ],
            [
             "JOR"
            ],
            [
             "KAZ"
            ],
            [
             "KEN"
            ],
            [
             "KIR"
            ],
            [
             "KWT"
            ],
            [
             "KGZ"
            ],
            [
             "LAO"
            ],
            [
             "LVA"
            ],
            [
             "LBN"
            ],
            [
             "LSO"
            ],
            [
             "LBR"
            ],
            [
             "LBY"
            ],
            [
             "LIE"
            ],
            [
             "LTU"
            ],
            [
             "LUX"
            ],
            [
             "MAC"
            ],
            [
             "MDG"
            ],
            [
             "MWI"
            ],
            [
             "MYS"
            ],
            [
             "MDV"
            ],
            [
             "MLI"
            ],
            [
             "MLT"
            ],
            [
             "MHL"
            ],
            [
             "MTQ"
            ],
            [
             "MRT"
            ],
            [
             "MUS"
            ],
            [
             "MYT"
            ],
            [
             "MEX"
            ],
            [
             "FSM"
            ],
            [
             "MDA"
            ],
            [
             "MCO"
            ],
            [
             "MNG"
            ],
            [
             "MNE"
            ],
            [
             "MSR"
            ],
            [
             "MAR"
            ],
            [
             "MOZ"
            ],
            [
             "MMR"
            ],
            [
             "NAM"
            ],
            [
             "NRU"
            ],
            [
             "NPL"
            ],
            [
             "NLD"
            ],
            [
             "NCL"
            ],
            [
             "NZL"
            ],
            [
             "NIC"
            ],
            [
             "NER"
            ],
            [
             "NGA"
            ],
            [
             "NIU"
            ],
            [
             "PRK"
            ],
            [
             "MKD"
            ],
            [
             "NFK"
            ],
            [
             "NOR"
            ],
            [
             "OMN"
            ],
            [
             "PAK"
            ],
            [
             "PLW"
            ],
            [
             "PSE"
            ],
            [
             "PAN"
            ],
            [
             "PNG"
            ],
            [
             "PRY"
            ],
            [
             "PER"
            ],
            [
             "PHL"
            ],
            [
             "POL"
            ],
            [
             "PRT"
            ],
            [
             "PRI"
            ],
            [
             "QAT"
            ],
            [
             "COG"
            ],
            [
             "REU"
            ],
            [
             "ROU"
            ],
            [
             "RUS"
            ],
            [
             "RWA"
            ],
            [
             "BLM"
            ],
            [
             "KNA"
            ],
            [
             "LCA"
            ],
            [
             "MAF"
            ],
            [
             "SPM"
            ],
            [
             "VCT"
            ],
            [
             "WSM"
            ],
            [
             "SMR"
            ],
            [
             "STP"
            ],
            [
             "SAU"
            ],
            [
             "SEN"
            ],
            [
             "SRB"
            ],
            [
             "SYC"
            ],
            [
             "SLE"
            ],
            [
             "SGP"
            ],
            [
             "SXM"
            ],
            [
             "SVK"
            ],
            [
             "SVN"
            ],
            [
             "SLB"
            ],
            [
             "SOM"
            ],
            [
             "ZAF"
            ],
            [
             "KOR"
            ],
            [
             "SSD"
            ],
            [
             "ESP"
            ],
            [
             "LKA"
            ],
            [
             "SDN"
            ],
            [
             "SUR"
            ],
            [
             "SWE"
            ],
            [
             "CHE"
            ],
            [
             "SYR"
            ],
            [
             "TWN"
            ],
            [
             "TJK"
            ],
            [
             "TZA"
            ],
            [
             "THA"
            ],
            [
             "TLS"
            ],
            [
             "TGO"
            ],
            [
             "TKL"
            ],
            [
             "TON"
            ],
            [
             "TTO"
            ],
            [
             "TUN"
            ],
            [
             "TUR"
            ],
            [
             "TKM"
            ],
            [
             "TCA"
            ],
            [
             "TUV"
            ],
            [
             "UGA"
            ],
            [
             "UKR"
            ],
            [
             "ARE"
            ],
            [
             "GBR"
            ],
            [
             "USA"
            ],
            [
             "VIR"
            ],
            [
             "URY"
            ],
            [
             "UZB"
            ],
            [
             "VUT"
            ],
            [
             "VAT"
            ],
            [
             "VEN"
            ],
            [
             "VNM"
            ],
            [
             "WLF"
            ],
            [
             "ESH"
            ],
            [
             "YEM"
            ],
            [
             "ZMB"
            ],
            [
             "ZWE"
            ]
           ],
           "geo": "geo",
           "hovertemplate": "<b>%{hovertext}</b><br><br>Year=2000 Population<br>Population=%{z}<extra></extra>",
           "hovertext": [
            "Afghanistan",
            "Albania",
            "Algeria",
            "American Samoa",
            "Andorra",
            "Angola",
            "Anguilla",
            "Antigua and Barbuda",
            "Argentina",
            "Armenia",
            "Aruba",
            "Australia",
            "Austria",
            "Azerbaijan",
            "Bahamas",
            "Bahrain",
            "Bangladesh",
            "Barbados",
            "Belarus",
            "Belgium",
            "Belize",
            "Benin",
            "Bermuda",
            "Bhutan",
            "Bolivia",
            "Bosnia and Herzegovina",
            "Botswana",
            "Brazil",
            "British Virgin Islands",
            "Brunei",
            "Bulgaria",
            "Burkina Faso",
            "Burundi",
            "Cambodia",
            "Cameroon",
            "Canada",
            "Cape Verde",
            "Cayman Islands",
            "Central African Republic",
            "Chad",
            "Chile",
            "China",
            "Colombia",
            "Comoros",
            "Cook Islands",
            "Costa Rica",
            "Croatia",
            "Cuba",
            "Curacao",
            "Cyprus",
            "Czech Republic",
            "Denmark",
            "Djibouti",
            "Dominica",
            "Dominican Republic",
            "DR Congo",
            "Ecuador",
            "Egypt",
            "El Salvador",
            "Equatorial Guinea",
            "Eritrea",
            "Estonia",
            "Eswatini",
            "Ethiopia",
            "Falkland Islands",
            "Faroe Islands",
            "Fiji",
            "Finland",
            "France",
            "French Guiana",
            "French Polynesia",
            "Gabon",
            "Gambia",
            "Georgia",
            "Germany",
            "Ghana",
            "Gibraltar",
            "Greece",
            "Greenland",
            "Grenada",
            "Guadeloupe",
            "Guam",
            "Guatemala",
            "Guernsey",
            "Guinea",
            "Guinea-Bissau",
            "Guyana",
            "Haiti",
            "Honduras",
            "Hong Kong",
            "Hungary",
            "Iceland",
            "India",
            "Indonesia",
            "Iran",
            "Iraq",
            "Ireland",
            "Isle of Man",
            "Israel",
            "Italy",
            "Ivory Coast",
            "Jamaica",
            "Japan",
            "Jersey",
            "Jordan",
            "Kazakhstan",
            "Kenya",
            "Kiribati",
            "Kuwait",
            "Kyrgyzstan",
            "Laos",
            "Latvia",
            "Lebanon",
            "Lesotho",
            "Liberia",
            "Libya",
            "Liechtenstein",
            "Lithuania",
            "Luxembourg",
            "Macau",
            "Madagascar",
            "Malawi",
            "Malaysia",
            "Maldives",
            "Mali",
            "Malta",
            "Marshall Islands",
            "Martinique",
            "Mauritania",
            "Mauritius",
            "Mayotte",
            "Mexico",
            "Micronesia",
            "Moldova",
            "Monaco",
            "Mongolia",
            "Montenegro",
            "Montserrat",
            "Morocco",
            "Mozambique",
            "Myanmar",
            "Namibia",
            "Nauru",
            "Nepal",
            "Netherlands",
            "New Caledonia",
            "New Zealand",
            "Nicaragua",
            "Niger",
            "Nigeria",
            "Niue",
            "North Korea",
            "North Macedonia",
            "Northern Mariana Islands",
            "Norway",
            "Oman",
            "Pakistan",
            "Palau",
            "Palestine",
            "Panama",
            "Papua New Guinea",
            "Paraguay",
            "Peru",
            "Philippines",
            "Poland",
            "Portugal",
            "Puerto Rico",
            "Qatar",
            "Republic of the Congo",
            "Reunion",
            "Romania",
            "Russia",
            "Rwanda",
            "Saint Barthelemy",
            "Saint Kitts and Nevis",
            "Saint Lucia",
            "Saint Martin",
            "Saint Pierre and Miquelon",
            "Saint Vincent and the Grenadines",
            "Samoa",
            "San Marino",
            "Sao Tome and Principe",
            "Saudi Arabia",
            "Senegal",
            "Serbia",
            "Seychelles",
            "Sierra Leone",
            "Singapore",
            "Sint Maarten",
            "Slovakia",
            "Slovenia",
            "Solomon Islands",
            "Somalia",
            "South Africa",
            "South Korea",
            "South Sudan",
            "Spain",
            "Sri Lanka",
            "Sudan",
            "Suriname",
            "Sweden",
            "Switzerland",
            "Syria",
            "Taiwan",
            "Tajikistan",
            "Tanzania",
            "Thailand",
            "Timor-Leste",
            "Togo",
            "Tokelau",
            "Tonga",
            "Trinidad and Tobago",
            "Tunisia",
            "Turkey",
            "Turkmenistan",
            "Turks and Caicos Islands",
            "Tuvalu",
            "Uganda",
            "Ukraine",
            "United Arab Emirates",
            "United Kingdom",
            "United States",
            "United States Virgin Islands",
            "Uruguay",
            "Uzbekistan",
            "Vanuatu",
            "Vatican City",
            "Venezuela",
            "Vietnam",
            "Wallis and Futuna",
            "Western Sahara",
            "Yemen",
            "Zambia",
            "Zimbabwe"
           ],
           "locationmode": "ISO-3",
           "locations": [
            "AFG",
            "ALB",
            "DZA",
            "ASM",
            "AND",
            "AGO",
            "AIA",
            "ATG",
            "ARG",
            "ARM",
            "ABW",
            "AUS",
            "AUT",
            "AZE",
            "BHS",
            "BHR",
            "BGD",
            "BRB",
            "BLR",
            "BEL",
            "BLZ",
            "BEN",
            "BMU",
            "BTN",
            "BOL",
            "BIH",
            "BWA",
            "BRA",
            "VGB",
            "BRN",
            "BGR",
            "BFA",
            "BDI",
            "KHM",
            "CMR",
            "CAN",
            "CPV",
            "CYM",
            "CAF",
            "TCD",
            "CHL",
            "CHN",
            "COL",
            "COM",
            "COK",
            "CRI",
            "HRV",
            "CUB",
            "CUW",
            "CYP",
            "CZE",
            "DNK",
            "DJI",
            "DMA",
            "DOM",
            "COD",
            "ECU",
            "EGY",
            "SLV",
            "GNQ",
            "ERI",
            "EST",
            "SWZ",
            "ETH",
            "FLK",
            "FRO",
            "FJI",
            "FIN",
            "FRA",
            "GUF",
            "PYF",
            "GAB",
            "GMB",
            "GEO",
            "DEU",
            "GHA",
            "GIB",
            "GRC",
            "GRL",
            "GRD",
            "GLP",
            "GUM",
            "GTM",
            "GGY",
            "GIN",
            "GNB",
            "GUY",
            "HTI",
            "HND",
            "HKG",
            "HUN",
            "ISL",
            "IND",
            "IDN",
            "IRN",
            "IRQ",
            "IRL",
            "IMN",
            "ISR",
            "ITA",
            "CIV",
            "JAM",
            "JPN",
            "JEY",
            "JOR",
            "KAZ",
            "KEN",
            "KIR",
            "KWT",
            "KGZ",
            "LAO",
            "LVA",
            "LBN",
            "LSO",
            "LBR",
            "LBY",
            "LIE",
            "LTU",
            "LUX",
            "MAC",
            "MDG",
            "MWI",
            "MYS",
            "MDV",
            "MLI",
            "MLT",
            "MHL",
            "MTQ",
            "MRT",
            "MUS",
            "MYT",
            "MEX",
            "FSM",
            "MDA",
            "MCO",
            "MNG",
            "MNE",
            "MSR",
            "MAR",
            "MOZ",
            "MMR",
            "NAM",
            "NRU",
            "NPL",
            "NLD",
            "NCL",
            "NZL",
            "NIC",
            "NER",
            "NGA",
            "NIU",
            "PRK",
            "MKD",
            "NFK",
            "NOR",
            "OMN",
            "PAK",
            "PLW",
            "PSE",
            "PAN",
            "PNG",
            "PRY",
            "PER",
            "PHL",
            "POL",
            "PRT",
            "PRI",
            "QAT",
            "COG",
            "REU",
            "ROU",
            "RUS",
            "RWA",
            "BLM",
            "KNA",
            "LCA",
            "MAF",
            "SPM",
            "VCT",
            "WSM",
            "SMR",
            "STP",
            "SAU",
            "SEN",
            "SRB",
            "SYC",
            "SLE",
            "SGP",
            "SXM",
            "SVK",
            "SVN",
            "SLB",
            "SOM",
            "ZAF",
            "KOR",
            "SSD",
            "ESP",
            "LKA",
            "SDN",
            "SUR",
            "SWE",
            "CHE",
            "SYR",
            "TWN",
            "TJK",
            "TZA",
            "THA",
            "TLS",
            "TGO",
            "TKL",
            "TON",
            "TTO",
            "TUN",
            "TUR",
            "TKM",
            "TCA",
            "TUV",
            "UGA",
            "UKR",
            "ARE",
            "GBR",
            "USA",
            "VIR",
            "URY",
            "UZB",
            "VUT",
            "VAT",
            "VEN",
            "VNM",
            "WLF",
            "ESH",
            "YEM",
            "ZMB",
            "ZWE"
           ],
           "name": "",
           "type": "choropleth",
           "z": [
            19542982,
            3182021,
            30774621,
            58230,
            66097,
            16394062,
            11047,
            75055,
            37070774,
            3168523,
            89101,
            19017963,
            8010428,
            8190337,
            325014,
            711442,
            129193327,
            264657,
            10256483,
            10264343,
            240406,
            6998023,
            61371,
            587207,
            8592656,
            4179350,
            1726985,
            175873720,
            20104,
            333926,
            8097691,
            11882888,
            6307659,
            12118841,
            15091594,
            30683313,
            458251,
            39658,
            3759170,
            8259137,
            15351799,
            1264099069,
            39215135,
            536758,
            15897,
            3979193,
            4548434,
            11105791,
            141424,
            948237,
            10234710,
            5340655,
            742033,
            68346,
            8540791,
            48616317,
            12626507,
            71371371,
            5958482,
            684977,
            2392880,
            1396877,
            1030496,
            67031867,
            3080,
            45660,
            832509,
            5176209,
            58665453,
            164351,
            250927,
            1272935,
            1437539,
            4265172,
            81551677,
            19665502,
            27741,
            11038109,
            56184,
            107432,
            424067,
            160188,
            11735894,
            59114,
            8336967,
            1230849,
            759051,
            8360225,
            6656725,
            6731195,
            10202055,
            281462,
            1059633675,
            214072421,
            65544383,
            24628858,
            3768950,
            75562,
            6116958,
            56966397,
            16799670,
            2612205,
            126803861,
            86192,
            5056174,
            15236253,
            30851606,
            88826,
            1934901,
            4935182,
            5430853,
            2392530,
            4320642,
            1998630,
            2895224,
            5154790,
            33026,
            3599637,
            435628,
            431896,
            16216431,
            11229387,
            22945150,
            282507,
            11239101,
            399212,
            54224,
            432543,
            2695003,
            1215930,
            159215,
            97873442,
            111709,
            4251573,
            32465,
            2450979,
            633324,
            5138,
            28554415,
            17768505,
            45538332,
            1819141,
            10377,
            24559500,
            15899135,
            221537,
            3855266,
            5123222,
            11622665,
            122851984,
            2074,
            23367059,
            2037936,
            80338,
            4491202,
            2344253,
            154369924,
            19726,
            3139954,
            3001731,
            5508297,
            5123819,
            26654439,
            77958223,
            38504431,
            10300626,
            3827108,
            645937,
            3134030,
            785424,
            21919876,
            146844839,
            8109989,
            7082,
            45461,
            159500,
            29610,
            6274,
            113813,
            184008,
            26823,
            143714,
            21547390,
            9704287,
            7935022,
            80060,
            4584067,
            4053602,
            30489,
            5376690,
            1984339,
            429978,
            8721465,
            46813266,
            46788591,
            6114440,
            40741651,
            18776371,
            26298773,
            478998,
            8871043,
            7182059,
            16307654,
            22194731,
            6272998,
            34463704,
            63066603,
            878360,
            5008035,
            1666,
            102603,
            1332203,
            9893316,
            64113547,
            4569132,
            18744,
            9638,
            24020697,
            48879755,
            3275333,
            58850043,
            282398554,
            108185,
            3292224,
            24925554,
            192074,
            651,
            24427729,
            79001142,
            14723,
            270375,
            18628700,
            9891136,
            11834676
           ]
          }
         ],
         "name": "2000 Population"
        },
        {
         "data": [
          {
           "coloraxis": "coloraxis",
           "customdata": [
            [
             "AFG"
            ],
            [
             "ALB"
            ],
            [
             "DZA"
            ],
            [
             "ASM"
            ],
            [
             "AND"
            ],
            [
             "AGO"
            ],
            [
             "AIA"
            ],
            [
             "ATG"
            ],
            [
             "ARG"
            ],
            [
             "ARM"
            ],
            [
             "ABW"
            ],
            [
             "AUS"
            ],
            [
             "AUT"
            ],
            [
             "AZE"
            ],
            [
             "BHS"
            ],
            [
             "BHR"
            ],
            [
             "BGD"
            ],
            [
             "BRB"
            ],
            [
             "BLR"
            ],
            [
             "BEL"
            ],
            [
             "BLZ"
            ],
            [
             "BEN"
            ],
            [
             "BMU"
            ],
            [
             "BTN"
            ],
            [
             "BOL"
            ],
            [
             "BIH"
            ],
            [
             "BWA"
            ],
            [
             "BRA"
            ],
            [
             "VGB"
            ],
            [
             "BRN"
            ],
            [
             "BGR"
            ],
            [
             "BFA"
            ],
            [
             "BDI"
            ],
            [
             "KHM"
            ],
            [
             "CMR"
            ],
            [
             "CAN"
            ],
            [
             "CPV"
            ],
            [
             "CYM"
            ],
            [
             "CAF"
            ],
            [
             "TCD"
            ],
            [
             "CHL"
            ],
            [
             "CHN"
            ],
            [
             "COL"
            ],
            [
             "COM"
            ],
            [
             "COK"
            ],
            [
             "CRI"
            ],
            [
             "HRV"
            ],
            [
             "CUB"
            ],
            [
             "CUW"
            ],
            [
             "CYP"
            ],
            [
             "CZE"
            ],
            [
             "DNK"
            ],
            [
             "DJI"
            ],
            [
             "DMA"
            ],
            [
             "DOM"
            ],
            [
             "COD"
            ],
            [
             "ECU"
            ],
            [
             "EGY"
            ],
            [
             "SLV"
            ],
            [
             "GNQ"
            ],
            [
             "ERI"
            ],
            [
             "EST"
            ],
            [
             "SWZ"
            ],
            [
             "ETH"
            ],
            [
             "FLK"
            ],
            [
             "FRO"
            ],
            [
             "FJI"
            ],
            [
             "FIN"
            ],
            [
             "FRA"
            ],
            [
             "GUF"
            ],
            [
             "PYF"
            ],
            [
             "GAB"
            ],
            [
             "GMB"
            ],
            [
             "GEO"
            ],
            [
             "DEU"
            ],
            [
             "GHA"
            ],
            [
             "GIB"
            ],
            [
             "GRC"
            ],
            [
             "GRL"
            ],
            [
             "GRD"
            ],
            [
             "GLP"
            ],
            [
             "GUM"
            ],
            [
             "GTM"
            ],
            [
             "GGY"
            ],
            [
             "GIN"
            ],
            [
             "GNB"
            ],
            [
             "GUY"
            ],
            [
             "HTI"
            ],
            [
             "HND"
            ],
            [
             "HKG"
            ],
            [
             "HUN"
            ],
            [
             "ISL"
            ],
            [
             "IND"
            ],
            [
             "IDN"
            ],
            [
             "IRN"
            ],
            [
             "IRQ"
            ],
            [
             "IRL"
            ],
            [
             "IMN"
            ],
            [
             "ISR"
            ],
            [
             "ITA"
            ],
            [
             "CIV"
            ],
            [
             "JAM"
            ],
            [
             "JPN"
            ],
            [
             "JEY"
            ],
            [
             "JOR"
            ],
            [
             "KAZ"
            ],
            [
             "KEN"
            ],
            [
             "KIR"
            ],
            [
             "KWT"
            ],
            [
             "KGZ"
            ],
            [
             "LAO"
            ],
            [
             "LVA"
            ],
            [
             "LBN"
            ],
            [
             "LSO"
            ],
            [
             "LBR"
            ],
            [
             "LBY"
            ],
            [
             "LIE"
            ],
            [
             "LTU"
            ],
            [
             "LUX"
            ],
            [
             "MAC"
            ],
            [
             "MDG"
            ],
            [
             "MWI"
            ],
            [
             "MYS"
            ],
            [
             "MDV"
            ],
            [
             "MLI"
            ],
            [
             "MLT"
            ],
            [
             "MHL"
            ],
            [
             "MTQ"
            ],
            [
             "MRT"
            ],
            [
             "MUS"
            ],
            [
             "MYT"
            ],
            [
             "MEX"
            ],
            [
             "FSM"
            ],
            [
             "MDA"
            ],
            [
             "MCO"
            ],
            [
             "MNG"
            ],
            [
             "MNE"
            ],
            [
             "MSR"
            ],
            [
             "MAR"
            ],
            [
             "MOZ"
            ],
            [
             "MMR"
            ],
            [
             "NAM"
            ],
            [
             "NRU"
            ],
            [
             "NPL"
            ],
            [
             "NLD"
            ],
            [
             "NCL"
            ],
            [
             "NZL"
            ],
            [
             "NIC"
            ],
            [
             "NER"
            ],
            [
             "NGA"
            ],
            [
             "NIU"
            ],
            [
             "PRK"
            ],
            [
             "MKD"
            ],
            [
             "NFK"
            ],
            [
             "NOR"
            ],
            [
             "OMN"
            ],
            [
             "PAK"
            ],
            [
             "PLW"
            ],
            [
             "PSE"
            ],
            [
             "PAN"
            ],
            [
             "PNG"
            ],
            [
             "PRY"
            ],
            [
             "PER"
            ],
            [
             "PHL"
            ],
            [
             "POL"
            ],
            [
             "PRT"
            ],
            [
             "PRI"
            ],
            [
             "QAT"
            ],
            [
             "COG"
            ],
            [
             "REU"
            ],
            [
             "ROU"
            ],
            [
             "RUS"
            ],
            [
             "RWA"
            ],
            [
             "BLM"
            ],
            [
             "KNA"
            ],
            [
             "LCA"
            ],
            [
             "MAF"
            ],
            [
             "SPM"
            ],
            [
             "VCT"
            ],
            [
             "WSM"
            ],
            [
             "SMR"
            ],
            [
             "STP"
            ],
            [
             "SAU"
            ],
            [
             "SEN"
            ],
            [
             "SRB"
            ],
            [
             "SYC"
            ],
            [
             "SLE"
            ],
            [
             "SGP"
            ],
            [
             "SXM"
            ],
            [
             "SVK"
            ],
            [
             "SVN"
            ],
            [
             "SLB"
            ],
            [
             "SOM"
            ],
            [
             "ZAF"
            ],
            [
             "KOR"
            ],
            [
             "SSD"
            ],
            [
             "ESP"
            ],
            [
             "LKA"
            ],
            [
             "SDN"
            ],
            [
             "SUR"
            ],
            [
             "SWE"
            ],
            [
             "CHE"
            ],
            [
             "SYR"
            ],
            [
             "TWN"
            ],
            [
             "TJK"
            ],
            [
             "TZA"
            ],
            [
             "THA"
            ],
            [
             "TLS"
            ],
            [
             "TGO"
            ],
            [
             "TKL"
            ],
            [
             "TON"
            ],
            [
             "TTO"
            ],
            [
             "TUN"
            ],
            [
             "TUR"
            ],
            [
             "TKM"
            ],
            [
             "TCA"
            ],
            [
             "TUV"
            ],
            [
             "UGA"
            ],
            [
             "UKR"
            ],
            [
             "ARE"
            ],
            [
             "GBR"
            ],
            [
             "USA"
            ],
            [
             "VIR"
            ],
            [
             "URY"
            ],
            [
             "UZB"
            ],
            [
             "VUT"
            ],
            [
             "VAT"
            ],
            [
             "VEN"
            ],
            [
             "VNM"
            ],
            [
             "WLF"
            ],
            [
             "ESH"
            ],
            [
             "YEM"
            ],
            [
             "ZMB"
            ],
            [
             "ZWE"
            ]
           ],
           "geo": "geo",
           "hovertemplate": "<b>%{hovertext}</b><br><br>Year=2010 Population<br>Population=%{z}<extra></extra>",
           "hovertext": [
            "Afghanistan",
            "Albania",
            "Algeria",
            "American Samoa",
            "Andorra",
            "Angola",
            "Anguilla",
            "Antigua and Barbuda",
            "Argentina",
            "Armenia",
            "Aruba",
            "Australia",
            "Austria",
            "Azerbaijan",
            "Bahamas",
            "Bahrain",
            "Bangladesh",
            "Barbados",
            "Belarus",
            "Belgium",
            "Belize",
            "Benin",
            "Bermuda",
            "Bhutan",
            "Bolivia",
            "Bosnia and Herzegovina",
            "Botswana",
            "Brazil",
            "British Virgin Islands",
            "Brunei",
            "Bulgaria",
            "Burkina Faso",
            "Burundi",
            "Cambodia",
            "Cameroon",
            "Canada",
            "Cape Verde",
            "Cayman Islands",
            "Central African Republic",
            "Chad",
            "Chile",
            "China",
            "Colombia",
            "Comoros",
            "Cook Islands",
            "Costa Rica",
            "Croatia",
            "Cuba",
            "Curacao",
            "Cyprus",
            "Czech Republic",
            "Denmark",
            "Djibouti",
            "Dominica",
            "Dominican Republic",
            "DR Congo",
            "Ecuador",
            "Egypt",
            "El Salvador",
            "Equatorial Guinea",
            "Eritrea",
            "Estonia",
            "Eswatini",
            "Ethiopia",
            "Falkland Islands",
            "Faroe Islands",
            "Fiji",
            "Finland",
            "France",
            "French Guiana",
            "French Polynesia",
            "Gabon",
            "Gambia",
            "Georgia",
            "Germany",
            "Ghana",
            "Gibraltar",
            "Greece",
            "Greenland",
            "Grenada",
            "Guadeloupe",
            "Guam",
            "Guatemala",
            "Guernsey",
            "Guinea",
            "Guinea-Bissau",
            "Guyana",
            "Haiti",
            "Honduras",
            "Hong Kong",
            "Hungary",
            "Iceland",
            "India",
            "Indonesia",
            "Iran",
            "Iraq",
            "Ireland",
            "Isle of Man",
            "Israel",
            "Italy",
            "Ivory Coast",
            "Jamaica",
            "Japan",
            "Jersey",
            "Jordan",
            "Kazakhstan",
            "Kenya",
            "Kiribati",
            "Kuwait",
            "Kyrgyzstan",
            "Laos",
            "Latvia",
            "Lebanon",
            "Lesotho",
            "Liberia",
            "Libya",
            "Liechtenstein",
            "Lithuania",
            "Luxembourg",
            "Macau",
            "Madagascar",
            "Malawi",
            "Malaysia",
            "Maldives",
            "Mali",
            "Malta",
            "Marshall Islands",
            "Martinique",
            "Mauritania",
            "Mauritius",
            "Mayotte",
            "Mexico",
            "Micronesia",
            "Moldova",
            "Monaco",
            "Mongolia",
            "Montenegro",
            "Montserrat",
            "Morocco",
            "Mozambique",
            "Myanmar",
            "Namibia",
            "Nauru",
            "Nepal",
            "Netherlands",
            "New Caledonia",
            "New Zealand",
            "Nicaragua",
            "Niger",
            "Nigeria",
            "Niue",
            "North Korea",
            "North Macedonia",
            "Northern Mariana Islands",
            "Norway",
            "Oman",
            "Pakistan",
            "Palau",
            "Palestine",
            "Panama",
            "Papua New Guinea",
            "Paraguay",
            "Peru",
            "Philippines",
            "Poland",
            "Portugal",
            "Puerto Rico",
            "Qatar",
            "Republic of the Congo",
            "Reunion",
            "Romania",
            "Russia",
            "Rwanda",
            "Saint Barthelemy",
            "Saint Kitts and Nevis",
            "Saint Lucia",
            "Saint Martin",
            "Saint Pierre and Miquelon",
            "Saint Vincent and the Grenadines",
            "Samoa",
            "San Marino",
            "Sao Tome and Principe",
            "Saudi Arabia",
            "Senegal",
            "Serbia",
            "Seychelles",
            "Sierra Leone",
            "Singapore",
            "Sint Maarten",
            "Slovakia",
            "Slovenia",
            "Solomon Islands",
            "Somalia",
            "South Africa",
            "South Korea",
            "South Sudan",
            "Spain",
            "Sri Lanka",
            "Sudan",
            "Suriname",
            "Sweden",
            "Switzerland",
            "Syria",
            "Taiwan",
            "Tajikistan",
            "Tanzania",
            "Thailand",
            "Timor-Leste",
            "Togo",
            "Tokelau",
            "Tonga",
            "Trinidad and Tobago",
            "Tunisia",
            "Turkey",
            "Turkmenistan",
            "Turks and Caicos Islands",
            "Tuvalu",
            "Uganda",
            "Ukraine",
            "United Arab Emirates",
            "United Kingdom",
            "United States",
            "United States Virgin Islands",
            "Uruguay",
            "Uzbekistan",
            "Vanuatu",
            "Vatican City",
            "Venezuela",
            "Vietnam",
            "Wallis and Futuna",
            "Western Sahara",
            "Yemen",
            "Zambia",
            "Zimbabwe"
           ],
           "locationmode": "ISO-3",
           "locations": [
            "AFG",
            "ALB",
            "DZA",
            "ASM",
            "AND",
            "AGO",
            "AIA",
            "ATG",
            "ARG",
            "ARM",
            "ABW",
            "AUS",
            "AUT",
            "AZE",
            "BHS",
            "BHR",
            "BGD",
            "BRB",
            "BLR",
            "BEL",
            "BLZ",
            "BEN",
            "BMU",
            "BTN",
            "BOL",
            "BIH",
            "BWA",
            "BRA",
            "VGB",
            "BRN",
            "BGR",
            "BFA",
            "BDI",
            "KHM",
            "CMR",
            "CAN",
            "CPV",
            "CYM",
            "CAF",
            "TCD",
            "CHL",
            "CHN",
            "COL",
            "COM",
            "COK",
            "CRI",
            "HRV",
            "CUB",
            "CUW",
            "CYP",
            "CZE",
            "DNK",
            "DJI",
            "DMA",
            "DOM",
            "COD",
            "ECU",
            "EGY",
            "SLV",
            "GNQ",
            "ERI",
            "EST",
            "SWZ",
            "ETH",
            "FLK",
            "FRO",
            "FJI",
            "FIN",
            "FRA",
            "GUF",
            "PYF",
            "GAB",
            "GMB",
            "GEO",
            "DEU",
            "GHA",
            "GIB",
            "GRC",
            "GRL",
            "GRD",
            "GLP",
            "GUM",
            "GTM",
            "GGY",
            "GIN",
            "GNB",
            "GUY",
            "HTI",
            "HND",
            "HKG",
            "HUN",
            "ISL",
            "IND",
            "IDN",
            "IRN",
            "IRQ",
            "IRL",
            "IMN",
            "ISR",
            "ITA",
            "CIV",
            "JAM",
            "JPN",
            "JEY",
            "JOR",
            "KAZ",
            "KEN",
            "KIR",
            "KWT",
            "KGZ",
            "LAO",
            "LVA",
            "LBN",
            "LSO",
            "LBR",
            "LBY",
            "LIE",
            "LTU",
            "LUX",
            "MAC",
            "MDG",
            "MWI",
            "MYS",
            "MDV",
            "MLI",
            "MLT",
            "MHL",
            "MTQ",
            "MRT",
            "MUS",
            "MYT",
            "MEX",
            "FSM",
            "MDA",
            "MCO",
            "MNG",
            "MNE",
            "MSR",
            "MAR",
            "MOZ",
            "MMR",
            "NAM",
            "NRU",
            "NPL",
            "NLD",
            "NCL",
            "NZL",
            "NIC",
            "NER",
            "NGA",
            "NIU",
            "PRK",
            "MKD",
            "NFK",
            "NOR",
            "OMN",
            "PAK",
            "PLW",
            "PSE",
            "PAN",
            "PNG",
            "PRY",
            "PER",
            "PHL",
            "POL",
            "PRT",
            "PRI",
            "QAT",
            "COG",
            "REU",
            "ROU",
            "RUS",
            "RWA",
            "BLM",
            "KNA",
            "LCA",
            "MAF",
            "SPM",
            "VCT",
            "WSM",
            "SMR",
            "STP",
            "SAU",
            "SEN",
            "SRB",
            "SYC",
            "SLE",
            "SGP",
            "SXM",
            "SVK",
            "SVN",
            "SLB",
            "SOM",
            "ZAF",
            "KOR",
            "SSD",
            "ESP",
            "LKA",
            "SDN",
            "SUR",
            "SWE",
            "CHE",
            "SYR",
            "TWN",
            "TJK",
            "TZA",
            "THA",
            "TLS",
            "TGO",
            "TKL",
            "TON",
            "TTO",
            "TUN",
            "TUR",
            "TKM",
            "TCA",
            "TUV",
            "UGA",
            "UKR",
            "ARE",
            "GBR",
            "USA",
            "VIR",
            "URY",
            "UZB",
            "VUT",
            "VAT",
            "VEN",
            "VNM",
            "WLF",
            "ESH",
            "YEM",
            "ZMB",
            "ZWE"
           ],
           "name": "",
           "type": "choropleth",
           "z": [
            28189672,
            2913399,
            35856344,
            54849,
            71519,
            23364185,
            13172,
            85695,
            41100123,
            2946293,
            100341,
            22019168,
            8362829,
            9237202,
            373272,
            1213645,
            148391139,
            274711,
            9731427,
            10877947,
            322106,
            9445710,
            63447,
            705516,
            10223270,
            3811088,
            2091664,
            196353492,
            27556,
            396053,
            7592273,
            16116845,
            9126605,
            14363532,
            19878036,
            33963412,
            521212,
            54074,
            4660067,
            11894727,
            17004162,
            1348191368,
            44816108,
            656024,
            17212,
            4622252,
            4368682,
            11290417,
            159380,
            1129686,
            10464749,
            5550849,
            919199,
            68755,
            9775755,
            66391257,
            14989585,
            87252413,
            6114034,
            1094524,
            3147727,
            1331535,
            1099920,
            89237791,
            3187,
            48410,
            905169,
            5363271,
            62444567,
            228453,
            283788,
            1711105,
            1937275,
            3836831,
            81325090,
            25574719,
            31262,
            11033783,
            56351,
            114039,
            403072,
            164905,
            14543121,
            60782,
            10270728,
            1567220,
            747932,
            9842880,
            8450933,
            7132438,
            9986825,
            318333,
            1240613620,
            244016173,
            75373855,
            31264875,
            4524585,
            83828,
            7328445,
            59822450,
            21120042,
            2733896,
            128105431,
            96151,
            6931258,
            16627837,
            41517895,
            107995,
            2943356,
            5483774,
            6323418,
            2101530,
            4995800,
            2022747,
            4019956,
            6491988,
            35926,
            3139019,
            507070,
            557297,
            21731053,
            14718422,
            28717731,
            361575,
            15529181,
            418755,
            53416,
            392181,
            3419461,
            1283330,
            211786,
            112532401,
            107588,
            3678186,
            33178,
            2702520,
            631044,
            4938,
            32464865,
            23073723,
            49390988,
            2099271,
            10241,
            27161567,
            16617116,
            261426,
            4346338,
            5855734,
            16647543,
            160952853,
            1812,
            24686435,
            2093828,
            54087,
            4889741,
            2881914,
            194454498,
            18540,
            3992278,
            3623617,
            7583269,
            5768613,
            29229572,
            94636700,
            38597353,
            10588401,
            3717922,
            1713504,
            4437884,
            890130,
            20335211,
            143242599,
            10309031,
            8988,
            47403,
            170935,
            36458,
            6052,
            109308,
            194672,
            31608,
            182138,
            29411929,
            12530121,
            7653748,
            92409,
            6436698,
            5163590,
            33034,
            5396424,
            2057286,
            540394,
            12026649,
            51784921,
            48813042,
            9714419,
            46572772,
            20668557,
            33739933,
            546080,
            9381729,
            7822435,
            22337563,
            23083083,
            7621779,
            45110527,
            68270489,
            1088486,
            6571855,
            1367,
            107383,
            1410296,
            10895063,
            73195345,
            5267970,
            29726,
            10550,
            32341728,
            45683020,
            8481771,
            62760039,
            311182845,
            106142,
            3352651,
            28614227,
            245453,
            596,
            28715022,
            87411012,
            13142,
            413296,
            24743946,
            13792086,
            12839771
           ]
          }
         ],
         "name": "2010 Population"
        },
        {
         "data": [
          {
           "coloraxis": "coloraxis",
           "customdata": [
            [
             "AFG"
            ],
            [
             "ALB"
            ],
            [
             "DZA"
            ],
            [
             "ASM"
            ],
            [
             "AND"
            ],
            [
             "AGO"
            ],
            [
             "AIA"
            ],
            [
             "ATG"
            ],
            [
             "ARG"
            ],
            [
             "ARM"
            ],
            [
             "ABW"
            ],
            [
             "AUS"
            ],
            [
             "AUT"
            ],
            [
             "AZE"
            ],
            [
             "BHS"
            ],
            [
             "BHR"
            ],
            [
             "BGD"
            ],
            [
             "BRB"
            ],
            [
             "BLR"
            ],
            [
             "BEL"
            ],
            [
             "BLZ"
            ],
            [
             "BEN"
            ],
            [
             "BMU"
            ],
            [
             "BTN"
            ],
            [
             "BOL"
            ],
            [
             "BIH"
            ],
            [
             "BWA"
            ],
            [
             "BRA"
            ],
            [
             "VGB"
            ],
            [
             "BRN"
            ],
            [
             "BGR"
            ],
            [
             "BFA"
            ],
            [
             "BDI"
            ],
            [
             "KHM"
            ],
            [
             "CMR"
            ],
            [
             "CAN"
            ],
            [
             "CPV"
            ],
            [
             "CYM"
            ],
            [
             "CAF"
            ],
            [
             "TCD"
            ],
            [
             "CHL"
            ],
            [
             "CHN"
            ],
            [
             "COL"
            ],
            [
             "COM"
            ],
            [
             "COK"
            ],
            [
             "CRI"
            ],
            [
             "HRV"
            ],
            [
             "CUB"
            ],
            [
             "CUW"
            ],
            [
             "CYP"
            ],
            [
             "CZE"
            ],
            [
             "DNK"
            ],
            [
             "DJI"
            ],
            [
             "DMA"
            ],
            [
             "DOM"
            ],
            [
             "COD"
            ],
            [
             "ECU"
            ],
            [
             "EGY"
            ],
            [
             "SLV"
            ],
            [
             "GNQ"
            ],
            [
             "ERI"
            ],
            [
             "EST"
            ],
            [
             "SWZ"
            ],
            [
             "ETH"
            ],
            [
             "FLK"
            ],
            [
             "FRO"
            ],
            [
             "FJI"
            ],
            [
             "FIN"
            ],
            [
             "FRA"
            ],
            [
             "GUF"
            ],
            [
             "PYF"
            ],
            [
             "GAB"
            ],
            [
             "GMB"
            ],
            [
             "GEO"
            ],
            [
             "DEU"
            ],
            [
             "GHA"
            ],
            [
             "GIB"
            ],
            [
             "GRC"
            ],
            [
             "GRL"
            ],
            [
             "GRD"
            ],
            [
             "GLP"
            ],
            [
             "GUM"
            ],
            [
             "GTM"
            ],
            [
             "GGY"
            ],
            [
             "GIN"
            ],
            [
             "GNB"
            ],
            [
             "GUY"
            ],
            [
             "HTI"
            ],
            [
             "HND"
            ],
            [
             "HKG"
            ],
            [
             "HUN"
            ],
            [
             "ISL"
            ],
            [
             "IND"
            ],
            [
             "IDN"
            ],
            [
             "IRN"
            ],
            [
             "IRQ"
            ],
            [
             "IRL"
            ],
            [
             "IMN"
            ],
            [
             "ISR"
            ],
            [
             "ITA"
            ],
            [
             "CIV"
            ],
            [
             "JAM"
            ],
            [
             "JPN"
            ],
            [
             "JEY"
            ],
            [
             "JOR"
            ],
            [
             "KAZ"
            ],
            [
             "KEN"
            ],
            [
             "KIR"
            ],
            [
             "KWT"
            ],
            [
             "KGZ"
            ],
            [
             "LAO"
            ],
            [
             "LVA"
            ],
            [
             "LBN"
            ],
            [
             "LSO"
            ],
            [
             "LBR"
            ],
            [
             "LBY"
            ],
            [
             "LIE"
            ],
            [
             "LTU"
            ],
            [
             "LUX"
            ],
            [
             "MAC"
            ],
            [
             "MDG"
            ],
            [
             "MWI"
            ],
            [
             "MYS"
            ],
            [
             "MDV"
            ],
            [
             "MLI"
            ],
            [
             "MLT"
            ],
            [
             "MHL"
            ],
            [
             "MTQ"
            ],
            [
             "MRT"
            ],
            [
             "MUS"
            ],
            [
             "MYT"
            ],
            [
             "MEX"
            ],
            [
             "FSM"
            ],
            [
             "MDA"
            ],
            [
             "MCO"
            ],
            [
             "MNG"
            ],
            [
             "MNE"
            ],
            [
             "MSR"
            ],
            [
             "MAR"
            ],
            [
             "MOZ"
            ],
            [
             "MMR"
            ],
            [
             "NAM"
            ],
            [
             "NRU"
            ],
            [
             "NPL"
            ],
            [
             "NLD"
            ],
            [
             "NCL"
            ],
            [
             "NZL"
            ],
            [
             "NIC"
            ],
            [
             "NER"
            ],
            [
             "NGA"
            ],
            [
             "NIU"
            ],
            [
             "PRK"
            ],
            [
             "MKD"
            ],
            [
             "NFK"
            ],
            [
             "NOR"
            ],
            [
             "OMN"
            ],
            [
             "PAK"
            ],
            [
             "PLW"
            ],
            [
             "PSE"
            ],
            [
             "PAN"
            ],
            [
             "PNG"
            ],
            [
             "PRY"
            ],
            [
             "PER"
            ],
            [
             "PHL"
            ],
            [
             "POL"
            ],
            [
             "PRT"
            ],
            [
             "PRI"
            ],
            [
             "QAT"
            ],
            [
             "COG"
            ],
            [
             "REU"
            ],
            [
             "ROU"
            ],
            [
             "RUS"
            ],
            [
             "RWA"
            ],
            [
             "BLM"
            ],
            [
             "KNA"
            ],
            [
             "LCA"
            ],
            [
             "MAF"
            ],
            [
             "SPM"
            ],
            [
             "VCT"
            ],
            [
             "WSM"
            ],
            [
             "SMR"
            ],
            [
             "STP"
            ],
            [
             "SAU"
            ],
            [
             "SEN"
            ],
            [
             "SRB"
            ],
            [
             "SYC"
            ],
            [
             "SLE"
            ],
            [
             "SGP"
            ],
            [
             "SXM"
            ],
            [
             "SVK"
            ],
            [
             "SVN"
            ],
            [
             "SLB"
            ],
            [
             "SOM"
            ],
            [
             "ZAF"
            ],
            [
             "KOR"
            ],
            [
             "SSD"
            ],
            [
             "ESP"
            ],
            [
             "LKA"
            ],
            [
             "SDN"
            ],
            [
             "SUR"
            ],
            [
             "SWE"
            ],
            [
             "CHE"
            ],
            [
             "SYR"
            ],
            [
             "TWN"
            ],
            [
             "TJK"
            ],
            [
             "TZA"
            ],
            [
             "THA"
            ],
            [
             "TLS"
            ],
            [
             "TGO"
            ],
            [
             "TKL"
            ],
            [
             "TON"
            ],
            [
             "TTO"
            ],
            [
             "TUN"
            ],
            [
             "TUR"
            ],
            [
             "TKM"
            ],
            [
             "TCA"
            ],
            [
             "TUV"
            ],
            [
             "UGA"
            ],
            [
             "UKR"
            ],
            [
             "ARE"
            ],
            [
             "GBR"
            ],
            [
             "USA"
            ],
            [
             "VIR"
            ],
            [
             "URY"
            ],
            [
             "UZB"
            ],
            [
             "VUT"
            ],
            [
             "VAT"
            ],
            [
             "VEN"
            ],
            [
             "VNM"
            ],
            [
             "WLF"
            ],
            [
             "ESH"
            ],
            [
             "YEM"
            ],
            [
             "ZMB"
            ],
            [
             "ZWE"
            ]
           ],
           "geo": "geo",
           "hovertemplate": "<b>%{hovertext}</b><br><br>Year=2015 Population<br>Population=%{z}<extra></extra>",
           "hovertext": [
            "Afghanistan",
            "Albania",
            "Algeria",
            "American Samoa",
            "Andorra",
            "Angola",
            "Anguilla",
            "Antigua and Barbuda",
            "Argentina",
            "Armenia",
            "Aruba",
            "Australia",
            "Austria",
            "Azerbaijan",
            "Bahamas",
            "Bahrain",
            "Bangladesh",
            "Barbados",
            "Belarus",
            "Belgium",
            "Belize",
            "Benin",
            "Bermuda",
            "Bhutan",
            "Bolivia",
            "Bosnia and Herzegovina",
            "Botswana",
            "Brazil",
            "British Virgin Islands",
            "Brunei",
            "Bulgaria",
            "Burkina Faso",
            "Burundi",
            "Cambodia",
            "Cameroon",
            "Canada",
            "Cape Verde",
            "Cayman Islands",
            "Central African Republic",
            "Chad",
            "Chile",
            "China",
            "Colombia",
            "Comoros",
            "Cook Islands",
            "Costa Rica",
            "Croatia",
            "Cuba",
            "Curacao",
            "Cyprus",
            "Czech Republic",
            "Denmark",
            "Djibouti",
            "Dominica",
            "Dominican Republic",
            "DR Congo",
            "Ecuador",
            "Egypt",
            "El Salvador",
            "Equatorial Guinea",
            "Eritrea",
            "Estonia",
            "Eswatini",
            "Ethiopia",
            "Falkland Islands",
            "Faroe Islands",
            "Fiji",
            "Finland",
            "France",
            "French Guiana",
            "French Polynesia",
            "Gabon",
            "Gambia",
            "Georgia",
            "Germany",
            "Ghana",
            "Gibraltar",
            "Greece",
            "Greenland",
            "Grenada",
            "Guadeloupe",
            "Guam",
            "Guatemala",
            "Guernsey",
            "Guinea",
            "Guinea-Bissau",
            "Guyana",
            "Haiti",
            "Honduras",
            "Hong Kong",
            "Hungary",
            "Iceland",
            "India",
            "Indonesia",
            "Iran",
            "Iraq",
            "Ireland",
            "Isle of Man",
            "Israel",
            "Italy",
            "Ivory Coast",
            "Jamaica",
            "Japan",
            "Jersey",
            "Jordan",
            "Kazakhstan",
            "Kenya",
            "Kiribati",
            "Kuwait",
            "Kyrgyzstan",
            "Laos",
            "Latvia",
            "Lebanon",
            "Lesotho",
            "Liberia",
            "Libya",
            "Liechtenstein",
            "Lithuania",
            "Luxembourg",
            "Macau",
            "Madagascar",
            "Malawi",
            "Malaysia",
            "Maldives",
            "Mali",
            "Malta",
            "Marshall Islands",
            "Martinique",
            "Mauritania",
            "Mauritius",
            "Mayotte",
            "Mexico",
            "Micronesia",
            "Moldova",
            "Monaco",
            "Mongolia",
            "Montenegro",
            "Montserrat",
            "Morocco",
            "Mozambique",
            "Myanmar",
            "Namibia",
            "Nauru",
            "Nepal",
            "Netherlands",
            "New Caledonia",
            "New Zealand",
            "Nicaragua",
            "Niger",
            "Nigeria",
            "Niue",
            "North Korea",
            "North Macedonia",
            "Northern Mariana Islands",
            "Norway",
            "Oman",
            "Pakistan",
            "Palau",
            "Palestine",
            "Panama",
            "Papua New Guinea",
            "Paraguay",
            "Peru",
            "Philippines",
            "Poland",
            "Portugal",
            "Puerto Rico",
            "Qatar",
            "Republic of the Congo",
            "Reunion",
            "Romania",
            "Russia",
            "Rwanda",
            "Saint Barthelemy",
            "Saint Kitts and Nevis",
            "Saint Lucia",
            "Saint Martin",
            "Saint Pierre and Miquelon",
            "Saint Vincent and the Grenadines",
            "Samoa",
            "San Marino",
            "Sao Tome and Principe",
            "Saudi Arabia",
            "Senegal",
            "Serbia",
            "Seychelles",
            "Sierra Leone",
            "Singapore",
            "Sint Maarten",
            "Slovakia",
            "Slovenia",
            "Solomon Islands",
            "Somalia",
            "South Africa",
            "South Korea",
            "South Sudan",
            "Spain",
            "Sri Lanka",
            "Sudan",
            "Suriname",
            "Sweden",
            "Switzerland",
            "Syria",
            "Taiwan",
            "Tajikistan",
            "Tanzania",
            "Thailand",
            "Timor-Leste",
            "Togo",
            "Tokelau",
            "Tonga",
            "Trinidad and Tobago",
            "Tunisia",
            "Turkey",
            "Turkmenistan",
            "Turks and Caicos Islands",
            "Tuvalu",
            "Uganda",
            "Ukraine",
            "United Arab Emirates",
            "United Kingdom",
            "United States",
            "United States Virgin Islands",
            "Uruguay",
            "Uzbekistan",
            "Vanuatu",
            "Vatican City",
            "Venezuela",
            "Vietnam",
            "Wallis and Futuna",
            "Western Sahara",
            "Yemen",
            "Zambia",
            "Zimbabwe"
           ],
           "locationmode": "ISO-3",
           "locations": [
            "AFG",
            "ALB",
            "DZA",
            "ASM",
            "AND",
            "AGO",
            "AIA",
            "ATG",
            "ARG",
            "ARM",
            "ABW",
            "AUS",
            "AUT",
            "AZE",
            "BHS",
            "BHR",
            "BGD",
            "BRB",
            "BLR",
            "BEL",
            "BLZ",
            "BEN",
            "BMU",
            "BTN",
            "BOL",
            "BIH",
            "BWA",
            "BRA",
            "VGB",
            "BRN",
            "BGR",
            "BFA",
            "BDI",
            "KHM",
            "CMR",
            "CAN",
            "CPV",
            "CYM",
            "CAF",
            "TCD",
            "CHL",
            "CHN",
            "COL",
            "COM",
            "COK",
            "CRI",
            "HRV",
            "CUB",
            "CUW",
            "CYP",
            "CZE",
            "DNK",
            "DJI",
            "DMA",
            "DOM",
            "COD",
            "ECU",
            "EGY",
            "SLV",
            "GNQ",
            "ERI",
            "EST",
            "SWZ",
            "ETH",
            "FLK",
            "FRO",
            "FJI",
            "FIN",
            "FRA",
            "GUF",
            "PYF",
            "GAB",
            "GMB",
            "GEO",
            "DEU",
            "GHA",
            "GIB",
            "GRC",
            "GRL",
            "GRD",
            "GLP",
            "GUM",
            "GTM",
            "GGY",
            "GIN",
            "GNB",
            "GUY",
            "HTI",
            "HND",
            "HKG",
            "HUN",
            "ISL",
            "IND",
            "IDN",
            "IRN",
            "IRQ",
            "IRL",
            "IMN",
            "ISR",
            "ITA",
            "CIV",
            "JAM",
            "JPN",
            "JEY",
            "JOR",
            "KAZ",
            "KEN",
            "KIR",
            "KWT",
            "KGZ",
            "LAO",
            "LVA",
            "LBN",
            "LSO",
            "LBR",
            "LBY",
            "LIE",
            "LTU",
            "LUX",
            "MAC",
            "MDG",
            "MWI",
            "MYS",
            "MDV",
            "MLI",
            "MLT",
            "MHL",
            "MTQ",
            "MRT",
            "MUS",
            "MYT",
            "MEX",
            "FSM",
            "MDA",
            "MCO",
            "MNG",
            "MNE",
            "MSR",
            "MAR",
            "MOZ",
            "MMR",
            "NAM",
            "NRU",
            "NPL",
            "NLD",
            "NCL",
            "NZL",
            "NIC",
            "NER",
            "NGA",
            "NIU",
            "PRK",
            "MKD",
            "NFK",
            "NOR",
            "OMN",
            "PAK",
            "PLW",
            "PSE",
            "PAN",
            "PNG",
            "PRY",
            "PER",
            "PHL",
            "POL",
            "PRT",
            "PRI",
            "QAT",
            "COG",
            "REU",
            "ROU",
            "RUS",
            "RWA",
            "BLM",
            "KNA",
            "LCA",
            "MAF",
            "SPM",
            "VCT",
            "WSM",
            "SMR",
            "STP",
            "SAU",
            "SEN",
            "SRB",
            "SYC",
            "SLE",
            "SGP",
            "SXM",
            "SVK",
            "SVN",
            "SLB",
            "SOM",
            "ZAF",
            "KOR",
            "SSD",
            "ESP",
            "LKA",
            "SDN",
            "SUR",
            "SWE",
            "CHE",
            "SYR",
            "TWN",
            "TJK",
            "TZA",
            "THA",
            "TLS",
            "TGO",
            "TKL",
            "TON",
            "TTO",
            "TUN",
            "TUR",
            "TKM",
            "TCA",
            "TUV",
            "UGA",
            "UKR",
            "ARE",
            "GBR",
            "USA",
            "VIR",
            "URY",
            "UZB",
            "VUT",
            "VAT",
            "VEN",
            "VNM",
            "WLF",
            "ESH",
            "YEM",
            "ZMB",
            "ZWE"
           ],
           "name": "",
           "type": "choropleth",
           "z": [
            33753499,
            2882481,
            39543154,
            51368,
            71746,
            28127721,
            14525,
            89941,
            43257065,
            2878595,
            104257,
            23820236,
            8642421,
            9863480,
            392697,
            1362142,
            157830000,
            278083,
            9700609,
            11248303,
            359871,
            10932783,
            63144,
            743274,
            11090085,
            3524324,
            2305171,
            205188205,
            29366,
            421437,
            7309253,
            18718019,
            10727148,
            15417523,
            23012646,
            35732126,
            552166,
            60911,
            4819333,
            14140274,
            17870124,
            1393715448,
            47119728,
            730216,
            17695,
            4895242,
            4254815,
            11339894,
            169572,
            1187280,
            10523798,
            5677796,
            1006259,
            70007,
            10405832,
            78656904,
            16195902,
            97723799,
            6231066,
            1346973,
            3340006,
            1314657,
            1133936,
            102471895,
            3408,
            48816,
            917200,
            5479461,
            63809769,
            257026,
            291787,
            2028517,
            2253133,
            3771132,
            82073226,
            28870939,
            32520,
            10806641,
            55895,
            118980,
            399089,
            167978,
            16001107,
            61629,
            11625998,
            1788919,
            755031,
            10563757,
            9294505,
            7399838,
            9844246,
            331060,
            1322866505,
            259091970,
            81790841,
            37757813,
            4665760,
            83593,
            8007778,
            60232906,
            23596741,
            2794445,
            127250933,
            100561,
            9494246,
            17835909,
            46851488,
            116707,
            3908743,
            5914980,
            6787419,
            1991955,
            6398940,
            2118521,
            4612329,
            6192235,
            37355,
            2963765,
            569408,
            615239,
            24850912,
            16938942,
            31068833,
            435582,
            18112907,
            456579,
            49410,
            383515,
            3946220,
            1293153,
            249545,
            120149897,
            109462,
            3277388,
            36760,
            2964749,
            633966,
            5059,
            34680458,
            26843246,
            51483949,
            2282704,
            11185,
            27610325,
            17041107,
            283032,
            4590590,
            6298598,
            20128124,
            183995785,
            1847,
            25258015,
            2107962,
            51514,
            5190356,
            4191776,
            210969298,
            17794,
            4484614,
            3957099,
            8682174,
            6177950,
            30711863,
            103031365,
            38553146,
            10365435,
            3497335,
            2414573,
            5064386,
            922495,
            19906079,
            144668389,
            11642959,
            9643,
            47790,
            175623,
            35020,
            5978,
            106482,
            203571,
            33570,
            201124,
            32749848,
            14356181,
            7519496,
            99240,
            7314773,
            5650018,
            40205,
            5424444,
            2080862,
            612660,
            13763906,
            55876504,
            50994401,
            11194299,
            46431342,
            21336697,
            38171178,
            575475,
            9849349,
            8281732,
            19205178,
            23512136,
            8524063,
            52542823,
            70294397,
            1205813,
            7473229,
            1454,
            106122,
            1460177,
            11557779,
            79646178,
            5766431,
            36538,
            10877,
            37477356,
            44982564,
            8916899,
            65224364,
            324607776,
            102803,
            3402818,
            30949417,
            276438,
            564,
            30529716,
            92191398,
            12182,
            491824,
            28516545,
            16248230,
            14154937
           ]
          }
         ],
         "name": "2015 Population"
        },
        {
         "data": [
          {
           "coloraxis": "coloraxis",
           "customdata": [
            [
             "AFG"
            ],
            [
             "ALB"
            ],
            [
             "DZA"
            ],
            [
             "ASM"
            ],
            [
             "AND"
            ],
            [
             "AGO"
            ],
            [
             "AIA"
            ],
            [
             "ATG"
            ],
            [
             "ARG"
            ],
            [
             "ARM"
            ],
            [
             "ABW"
            ],
            [
             "AUS"
            ],
            [
             "AUT"
            ],
            [
             "AZE"
            ],
            [
             "BHS"
            ],
            [
             "BHR"
            ],
            [
             "BGD"
            ],
            [
             "BRB"
            ],
            [
             "BLR"
            ],
            [
             "BEL"
            ],
            [
             "BLZ"
            ],
            [
             "BEN"
            ],
            [
             "BMU"
            ],
            [
             "BTN"
            ],
            [
             "BOL"
            ],
            [
             "BIH"
            ],
            [
             "BWA"
            ],
            [
             "BRA"
            ],
            [
             "VGB"
            ],
            [
             "BRN"
            ],
            [
             "BGR"
            ],
            [
             "BFA"
            ],
            [
             "BDI"
            ],
            [
             "KHM"
            ],
            [
             "CMR"
            ],
            [
             "CAN"
            ],
            [
             "CPV"
            ],
            [
             "CYM"
            ],
            [
             "CAF"
            ],
            [
             "TCD"
            ],
            [
             "CHL"
            ],
            [
             "CHN"
            ],
            [
             "COL"
            ],
            [
             "COM"
            ],
            [
             "COK"
            ],
            [
             "CRI"
            ],
            [
             "HRV"
            ],
            [
             "CUB"
            ],
            [
             "CUW"
            ],
            [
             "CYP"
            ],
            [
             "CZE"
            ],
            [
             "DNK"
            ],
            [
             "DJI"
            ],
            [
             "DMA"
            ],
            [
             "DOM"
            ],
            [
             "COD"
            ],
            [
             "ECU"
            ],
            [
             "EGY"
            ],
            [
             "SLV"
            ],
            [
             "GNQ"
            ],
            [
             "ERI"
            ],
            [
             "EST"
            ],
            [
             "SWZ"
            ],
            [
             "ETH"
            ],
            [
             "FLK"
            ],
            [
             "FRO"
            ],
            [
             "FJI"
            ],
            [
             "FIN"
            ],
            [
             "FRA"
            ],
            [
             "GUF"
            ],
            [
             "PYF"
            ],
            [
             "GAB"
            ],
            [
             "GMB"
            ],
            [
             "GEO"
            ],
            [
             "DEU"
            ],
            [
             "GHA"
            ],
            [
             "GIB"
            ],
            [
             "GRC"
            ],
            [
             "GRL"
            ],
            [
             "GRD"
            ],
            [
             "GLP"
            ],
            [
             "GUM"
            ],
            [
             "GTM"
            ],
            [
             "GGY"
            ],
            [
             "GIN"
            ],
            [
             "GNB"
            ],
            [
             "GUY"
            ],
            [
             "HTI"
            ],
            [
             "HND"
            ],
            [
             "HKG"
            ],
            [
             "HUN"
            ],
            [
             "ISL"
            ],
            [
             "IND"
            ],
            [
             "IDN"
            ],
            [
             "IRN"
            ],
            [
             "IRQ"
            ],
            [
             "IRL"
            ],
            [
             "IMN"
            ],
            [
             "ISR"
            ],
            [
             "ITA"
            ],
            [
             "CIV"
            ],
            [
             "JAM"
            ],
            [
             "JPN"
            ],
            [
             "JEY"
            ],
            [
             "JOR"
            ],
            [
             "KAZ"
            ],
            [
             "KEN"
            ],
            [
             "KIR"
            ],
            [
             "KWT"
            ],
            [
             "KGZ"
            ],
            [
             "LAO"
            ],
            [
             "LVA"
            ],
            [
             "LBN"
            ],
            [
             "LSO"
            ],
            [
             "LBR"
            ],
            [
             "LBY"
            ],
            [
             "LIE"
            ],
            [
             "LTU"
            ],
            [
             "LUX"
            ],
            [
             "MAC"
            ],
            [
             "MDG"
            ],
            [
             "MWI"
            ],
            [
             "MYS"
            ],
            [
             "MDV"
            ],
            [
             "MLI"
            ],
            [
             "MLT"
            ],
            [
             "MHL"
            ],
            [
             "MTQ"
            ],
            [
             "MRT"
            ],
            [
             "MUS"
            ],
            [
             "MYT"
            ],
            [
             "MEX"
            ],
            [
             "FSM"
            ],
            [
             "MDA"
            ],
            [
             "MCO"
            ],
            [
             "MNG"
            ],
            [
             "MNE"
            ],
            [
             "MSR"
            ],
            [
             "MAR"
            ],
            [
             "MOZ"
            ],
            [
             "MMR"
            ],
            [
             "NAM"
            ],
            [
             "NRU"
            ],
            [
             "NPL"
            ],
            [
             "NLD"
            ],
            [
             "NCL"
            ],
            [
             "NZL"
            ],
            [
             "NIC"
            ],
            [
             "NER"
            ],
            [
             "NGA"
            ],
            [
             "NIU"
            ],
            [
             "PRK"
            ],
            [
             "MKD"
            ],
            [
             "NFK"
            ],
            [
             "NOR"
            ],
            [
             "OMN"
            ],
            [
             "PAK"
            ],
            [
             "PLW"
            ],
            [
             "PSE"
            ],
            [
             "PAN"
            ],
            [
             "PNG"
            ],
            [
             "PRY"
            ],
            [
             "PER"
            ],
            [
             "PHL"
            ],
            [
             "POL"
            ],
            [
             "PRT"
            ],
            [
             "PRI"
            ],
            [
             "QAT"
            ],
            [
             "COG"
            ],
            [
             "REU"
            ],
            [
             "ROU"
            ],
            [
             "RUS"
            ],
            [
             "RWA"
            ],
            [
             "BLM"
            ],
            [
             "KNA"
            ],
            [
             "LCA"
            ],
            [
             "MAF"
            ],
            [
             "SPM"
            ],
            [
             "VCT"
            ],
            [
             "WSM"
            ],
            [
             "SMR"
            ],
            [
             "STP"
            ],
            [
             "SAU"
            ],
            [
             "SEN"
            ],
            [
             "SRB"
            ],
            [
             "SYC"
            ],
            [
             "SLE"
            ],
            [
             "SGP"
            ],
            [
             "SXM"
            ],
            [
             "SVK"
            ],
            [
             "SVN"
            ],
            [
             "SLB"
            ],
            [
             "SOM"
            ],
            [
             "ZAF"
            ],
            [
             "KOR"
            ],
            [
             "SSD"
            ],
            [
             "ESP"
            ],
            [
             "LKA"
            ],
            [
             "SDN"
            ],
            [
             "SUR"
            ],
            [
             "SWE"
            ],
            [
             "CHE"
            ],
            [
             "SYR"
            ],
            [
             "TWN"
            ],
            [
             "TJK"
            ],
            [
             "TZA"
            ],
            [
             "THA"
            ],
            [
             "TLS"
            ],
            [
             "TGO"
            ],
            [
             "TKL"
            ],
            [
             "TON"
            ],
            [
             "TTO"
            ],
            [
             "TUN"
            ],
            [
             "TUR"
            ],
            [
             "TKM"
            ],
            [
             "TCA"
            ],
            [
             "TUV"
            ],
            [
             "UGA"
            ],
            [
             "UKR"
            ],
            [
             "ARE"
            ],
            [
             "GBR"
            ],
            [
             "USA"
            ],
            [
             "VIR"
            ],
            [
             "URY"
            ],
            [
             "UZB"
            ],
            [
             "VUT"
            ],
            [
             "VAT"
            ],
            [
             "VEN"
            ],
            [
             "VNM"
            ],
            [
             "WLF"
            ],
            [
             "ESH"
            ],
            [
             "YEM"
            ],
            [
             "ZMB"
            ],
            [
             "ZWE"
            ]
           ],
           "geo": "geo",
           "hovertemplate": "<b>%{hovertext}</b><br><br>Year=2020 Population<br>Population=%{z}<extra></extra>",
           "hovertext": [
            "Afghanistan",
            "Albania",
            "Algeria",
            "American Samoa",
            "Andorra",
            "Angola",
            "Anguilla",
            "Antigua and Barbuda",
            "Argentina",
            "Armenia",
            "Aruba",
            "Australia",
            "Austria",
            "Azerbaijan",
            "Bahamas",
            "Bahrain",
            "Bangladesh",
            "Barbados",
            "Belarus",
            "Belgium",
            "Belize",
            "Benin",
            "Bermuda",
            "Bhutan",
            "Bolivia",
            "Bosnia and Herzegovina",
            "Botswana",
            "Brazil",
            "British Virgin Islands",
            "Brunei",
            "Bulgaria",
            "Burkina Faso",
            "Burundi",
            "Cambodia",
            "Cameroon",
            "Canada",
            "Cape Verde",
            "Cayman Islands",
            "Central African Republic",
            "Chad",
            "Chile",
            "China",
            "Colombia",
            "Comoros",
            "Cook Islands",
            "Costa Rica",
            "Croatia",
            "Cuba",
            "Curacao",
            "Cyprus",
            "Czech Republic",
            "Denmark",
            "Djibouti",
            "Dominica",
            "Dominican Republic",
            "DR Congo",
            "Ecuador",
            "Egypt",
            "El Salvador",
            "Equatorial Guinea",
            "Eritrea",
            "Estonia",
            "Eswatini",
            "Ethiopia",
            "Falkland Islands",
            "Faroe Islands",
            "Fiji",
            "Finland",
            "France",
            "French Guiana",
            "French Polynesia",
            "Gabon",
            "Gambia",
            "Georgia",
            "Germany",
            "Ghana",
            "Gibraltar",
            "Greece",
            "Greenland",
            "Grenada",
            "Guadeloupe",
            "Guam",
            "Guatemala",
            "Guernsey",
            "Guinea",
            "Guinea-Bissau",
            "Guyana",
            "Haiti",
            "Honduras",
            "Hong Kong",
            "Hungary",
            "Iceland",
            "India",
            "Indonesia",
            "Iran",
            "Iraq",
            "Ireland",
            "Isle of Man",
            "Israel",
            "Italy",
            "Ivory Coast",
            "Jamaica",
            "Japan",
            "Jersey",
            "Jordan",
            "Kazakhstan",
            "Kenya",
            "Kiribati",
            "Kuwait",
            "Kyrgyzstan",
            "Laos",
            "Latvia",
            "Lebanon",
            "Lesotho",
            "Liberia",
            "Libya",
            "Liechtenstein",
            "Lithuania",
            "Luxembourg",
            "Macau",
            "Madagascar",
            "Malawi",
            "Malaysia",
            "Maldives",
            "Mali",
            "Malta",
            "Marshall Islands",
            "Martinique",
            "Mauritania",
            "Mauritius",
            "Mayotte",
            "Mexico",
            "Micronesia",
            "Moldova",
            "Monaco",
            "Mongolia",
            "Montenegro",
            "Montserrat",
            "Morocco",
            "Mozambique",
            "Myanmar",
            "Namibia",
            "Nauru",
            "Nepal",
            "Netherlands",
            "New Caledonia",
            "New Zealand",
            "Nicaragua",
            "Niger",
            "Nigeria",
            "Niue",
            "North Korea",
            "North Macedonia",
            "Northern Mariana Islands",
            "Norway",
            "Oman",
            "Pakistan",
            "Palau",
            "Palestine",
            "Panama",
            "Papua New Guinea",
            "Paraguay",
            "Peru",
            "Philippines",
            "Poland",
            "Portugal",
            "Puerto Rico",
            "Qatar",
            "Republic of the Congo",
            "Reunion",
            "Romania",
            "Russia",
            "Rwanda",
            "Saint Barthelemy",
            "Saint Kitts and Nevis",
            "Saint Lucia",
            "Saint Martin",
            "Saint Pierre and Miquelon",
            "Saint Vincent and the Grenadines",
            "Samoa",
            "San Marino",
            "Sao Tome and Principe",
            "Saudi Arabia",
            "Senegal",
            "Serbia",
            "Seychelles",
            "Sierra Leone",
            "Singapore",
            "Sint Maarten",
            "Slovakia",
            "Slovenia",
            "Solomon Islands",
            "Somalia",
            "South Africa",
            "South Korea",
            "South Sudan",
            "Spain",
            "Sri Lanka",
            "Sudan",
            "Suriname",
            "Sweden",
            "Switzerland",
            "Syria",
            "Taiwan",
            "Tajikistan",
            "Tanzania",
            "Thailand",
            "Timor-Leste",
            "Togo",
            "Tokelau",
            "Tonga",
            "Trinidad and Tobago",
            "Tunisia",
            "Turkey",
            "Turkmenistan",
            "Turks and Caicos Islands",
            "Tuvalu",
            "Uganda",
            "Ukraine",
            "United Arab Emirates",
            "United Kingdom",
            "United States",
            "United States Virgin Islands",
            "Uruguay",
            "Uzbekistan",
            "Vanuatu",
            "Vatican City",
            "Venezuela",
            "Vietnam",
            "Wallis and Futuna",
            "Western Sahara",
            "Yemen",
            "Zambia",
            "Zimbabwe"
           ],
           "locationmode": "ISO-3",
           "locations": [
            "AFG",
            "ALB",
            "DZA",
            "ASM",
            "AND",
            "AGO",
            "AIA",
            "ATG",
            "ARG",
            "ARM",
            "ABW",
            "AUS",
            "AUT",
            "AZE",
            "BHS",
            "BHR",
            "BGD",
            "BRB",
            "BLR",
            "BEL",
            "BLZ",
            "BEN",
            "BMU",
            "BTN",
            "BOL",
            "BIH",
            "BWA",
            "BRA",
            "VGB",
            "BRN",
            "BGR",
            "BFA",
            "BDI",
            "KHM",
            "CMR",
            "CAN",
            "CPV",
            "CYM",
            "CAF",
            "TCD",
            "CHL",
            "CHN",
            "COL",
            "COM",
            "COK",
            "CRI",
            "HRV",
            "CUB",
            "CUW",
            "CYP",
            "CZE",
            "DNK",
            "DJI",
            "DMA",
            "DOM",
            "COD",
            "ECU",
            "EGY",
            "SLV",
            "GNQ",
            "ERI",
            "EST",
            "SWZ",
            "ETH",
            "FLK",
            "FRO",
            "FJI",
            "FIN",
            "FRA",
            "GUF",
            "PYF",
            "GAB",
            "GMB",
            "GEO",
            "DEU",
            "GHA",
            "GIB",
            "GRC",
            "GRL",
            "GRD",
            "GLP",
            "GUM",
            "GTM",
            "GGY",
            "GIN",
            "GNB",
            "GUY",
            "HTI",
            "HND",
            "HKG",
            "HUN",
            "ISL",
            "IND",
            "IDN",
            "IRN",
            "IRQ",
            "IRL",
            "IMN",
            "ISR",
            "ITA",
            "CIV",
            "JAM",
            "JPN",
            "JEY",
            "JOR",
            "KAZ",
            "KEN",
            "KIR",
            "KWT",
            "KGZ",
            "LAO",
            "LVA",
            "LBN",
            "LSO",
            "LBR",
            "LBY",
            "LIE",
            "LTU",
            "LUX",
            "MAC",
            "MDG",
            "MWI",
            "MYS",
            "MDV",
            "MLI",
            "MLT",
            "MHL",
            "MTQ",
            "MRT",
            "MUS",
            "MYT",
            "MEX",
            "FSM",
            "MDA",
            "MCO",
            "MNG",
            "MNE",
            "MSR",
            "MAR",
            "MOZ",
            "MMR",
            "NAM",
            "NRU",
            "NPL",
            "NLD",
            "NCL",
            "NZL",
            "NIC",
            "NER",
            "NGA",
            "NIU",
            "PRK",
            "MKD",
            "NFK",
            "NOR",
            "OMN",
            "PAK",
            "PLW",
            "PSE",
            "PAN",
            "PNG",
            "PRY",
            "PER",
            "PHL",
            "POL",
            "PRT",
            "PRI",
            "QAT",
            "COG",
            "REU",
            "ROU",
            "RUS",
            "RWA",
            "BLM",
            "KNA",
            "LCA",
            "MAF",
            "SPM",
            "VCT",
            "WSM",
            "SMR",
            "STP",
            "SAU",
            "SEN",
            "SRB",
            "SYC",
            "SLE",
            "SGP",
            "SXM",
            "SVK",
            "SVN",
            "SLB",
            "SOM",
            "ZAF",
            "KOR",
            "SSD",
            "ESP",
            "LKA",
            "SDN",
            "SUR",
            "SWE",
            "CHE",
            "SYR",
            "TWN",
            "TJK",
            "TZA",
            "THA",
            "TLS",
            "TGO",
            "TKL",
            "TON",
            "TTO",
            "TUN",
            "TUR",
            "TKM",
            "TCA",
            "TUV",
            "UGA",
            "UKR",
            "ARE",
            "GBR",
            "USA",
            "VIR",
            "URY",
            "UZB",
            "VUT",
            "VAT",
            "VEN",
            "VNM",
            "WLF",
            "ESH",
            "YEM",
            "ZMB",
            "ZWE"
           ],
           "name": "",
           "type": "choropleth",
           "z": [
            38972230,
            2866849,
            43451666,
            46189,
            77700,
            33428485,
            15585,
            92664,
            45036032,
            2805608,
            106585,
            25670051,
            8907777,
            10284951,
            406471,
            1477469,
            167420951,
            280693,
            9633740,
            11561717,
            394921,
            12643123,
            64031,
            772506,
            11936162,
            3318407,
            2546402,
            213196304,
            30910,
            441725,
            6979175,
            21522626,
            12220227,
            16396860,
            26491087,
            37888705,
            582640,
            67311,
            5343020,
            16644701,
            19300315,
            1424929781,
            50930662,
            806166,
            17029,
            5123105,
            4096868,
            11300698,
            189288,
            1237537,
            10530953,
            5825641,
            1090156,
            71995,
            10999664,
            92853164,
            17588595,
            107465134,
            6292731,
            1596049,
            3555868,
            1329444,
            1180655,
            117190911,
            3747,
            52415,
            920422,
            5529468,
            64480053,
            290969,
            301920,
            2292573,
            2573995,
            3765912,
            83328988,
            32180401,
            32709,
            10512232,
            56026,
            123663,
            395642,
            169231,
            17362718,
            62794,
            13205153,
            2015828,
            797202,
            11306801,
            10121763,
            7500958,
            9750573,
            366669,
            1396387127,
            271857970,
            87290193,
            42556984,
            4946119,
            84046,
            8757489,
            59500579,
            26811790,
            2820436,
            125244761,
            108319,
            10928721,
            18979243,
            51985780,
            126463,
            4360444,
            6424874,
            7319399,
            1897052,
            5662923,
            2254100,
            5087584,
            6653942,
            38756,
            2820267,
            630399,
            676283,
            28225177,
            19377061,
            33199993,
            514438,
            21224040,
            515357,
            43413,
            370391,
            4498604,
            1297828,
            305587,
            125998302,
            112106,
            3084847,
            36922,
            3294335,
            629048,
            4500,
            36688772,
            31178239,
            53423198,
            2489098,
            12315,
            29348627,
            17434557,
            286403,
            5061133,
            6755895,
            24333639,
            208327405,
            1942,
            25867467,
            2111072,
            49587,
            5379839,
            4543399,
            227196741,
            17972,
            5019401,
            4294396,
            9749640,
            6618695,
            33304756,
            112190977,
            38428366,
            10298192,
            3271564,
            2760385,
            5702174,
            957822,
            19442038,
            145617329,
            13146362,
            10681,
            47642,
            179237,
            32552,
            5906,
            104632,
            214929,
            34007,
            218641,
            35997107,
            16436119,
            7358005,
            105530,
            8233969,
            5909869,
            43621,
            5456681,
            2117641,
            691191,
            16537016,
            58801927,
            51844690,
            10606227,
            47363807,
            21715079,
            44440486,
            607065,
            10368969,
            8638613,
            20772595,
            23821464,
            9543207,
            61704518,
            71475664,
            1299995,
            8442580,
            1827,
            105254,
            1518147,
            12161723,
            84135428,
            6250438,
            44276,
            11069,
            44404611,
            43909666,
            9287289,
            67059474,
            335942003,
            100442,
            3429086,
            33526656,
            311685,
            520,
            28490453,
            96648685,
            11655,
            556048,
            32284046,
            18927715,
            15669666
           ]
          }
         ],
         "name": "2020 Population"
        },
        {
         "data": [
          {
           "coloraxis": "coloraxis",
           "customdata": [
            [
             "AFG"
            ],
            [
             "ALB"
            ],
            [
             "DZA"
            ],
            [
             "ASM"
            ],
            [
             "AND"
            ],
            [
             "AGO"
            ],
            [
             "AIA"
            ],
            [
             "ATG"
            ],
            [
             "ARG"
            ],
            [
             "ARM"
            ],
            [
             "ABW"
            ],
            [
             "AUS"
            ],
            [
             "AUT"
            ],
            [
             "AZE"
            ],
            [
             "BHS"
            ],
            [
             "BHR"
            ],
            [
             "BGD"
            ],
            [
             "BRB"
            ],
            [
             "BLR"
            ],
            [
             "BEL"
            ],
            [
             "BLZ"
            ],
            [
             "BEN"
            ],
            [
             "BMU"
            ],
            [
             "BTN"
            ],
            [
             "BOL"
            ],
            [
             "BIH"
            ],
            [
             "BWA"
            ],
            [
             "BRA"
            ],
            [
             "VGB"
            ],
            [
             "BRN"
            ],
            [
             "BGR"
            ],
            [
             "BFA"
            ],
            [
             "BDI"
            ],
            [
             "KHM"
            ],
            [
             "CMR"
            ],
            [
             "CAN"
            ],
            [
             "CPV"
            ],
            [
             "CYM"
            ],
            [
             "CAF"
            ],
            [
             "TCD"
            ],
            [
             "CHL"
            ],
            [
             "CHN"
            ],
            [
             "COL"
            ],
            [
             "COM"
            ],
            [
             "COK"
            ],
            [
             "CRI"
            ],
            [
             "HRV"
            ],
            [
             "CUB"
            ],
            [
             "CUW"
            ],
            [
             "CYP"
            ],
            [
             "CZE"
            ],
            [
             "DNK"
            ],
            [
             "DJI"
            ],
            [
             "DMA"
            ],
            [
             "DOM"
            ],
            [
             "COD"
            ],
            [
             "ECU"
            ],
            [
             "EGY"
            ],
            [
             "SLV"
            ],
            [
             "GNQ"
            ],
            [
             "ERI"
            ],
            [
             "EST"
            ],
            [
             "SWZ"
            ],
            [
             "ETH"
            ],
            [
             "FLK"
            ],
            [
             "FRO"
            ],
            [
             "FJI"
            ],
            [
             "FIN"
            ],
            [
             "FRA"
            ],
            [
             "GUF"
            ],
            [
             "PYF"
            ],
            [
             "GAB"
            ],
            [
             "GMB"
            ],
            [
             "GEO"
            ],
            [
             "DEU"
            ],
            [
             "GHA"
            ],
            [
             "GIB"
            ],
            [
             "GRC"
            ],
            [
             "GRL"
            ],
            [
             "GRD"
            ],
            [
             "GLP"
            ],
            [
             "GUM"
            ],
            [
             "GTM"
            ],
            [
             "GGY"
            ],
            [
             "GIN"
            ],
            [
             "GNB"
            ],
            [
             "GUY"
            ],
            [
             "HTI"
            ],
            [
             "HND"
            ],
            [
             "HKG"
            ],
            [
             "HUN"
            ],
            [
             "ISL"
            ],
            [
             "IND"
            ],
            [
             "IDN"
            ],
            [
             "IRN"
            ],
            [
             "IRQ"
            ],
            [
             "IRL"
            ],
            [
             "IMN"
            ],
            [
             "ISR"
            ],
            [
             "ITA"
            ],
            [
             "CIV"
            ],
            [
             "JAM"
            ],
            [
             "JPN"
            ],
            [
             "JEY"
            ],
            [
             "JOR"
            ],
            [
             "KAZ"
            ],
            [
             "KEN"
            ],
            [
             "KIR"
            ],
            [
             "KWT"
            ],
            [
             "KGZ"
            ],
            [
             "LAO"
            ],
            [
             "LVA"
            ],
            [
             "LBN"
            ],
            [
             "LSO"
            ],
            [
             "LBR"
            ],
            [
             "LBY"
            ],
            [
             "LIE"
            ],
            [
             "LTU"
            ],
            [
             "LUX"
            ],
            [
             "MAC"
            ],
            [
             "MDG"
            ],
            [
             "MWI"
            ],
            [
             "MYS"
            ],
            [
             "MDV"
            ],
            [
             "MLI"
            ],
            [
             "MLT"
            ],
            [
             "MHL"
            ],
            [
             "MTQ"
            ],
            [
             "MRT"
            ],
            [
             "MUS"
            ],
            [
             "MYT"
            ],
            [
             "MEX"
            ],
            [
             "FSM"
            ],
            [
             "MDA"
            ],
            [
             "MCO"
            ],
            [
             "MNG"
            ],
            [
             "MNE"
            ],
            [
             "MSR"
            ],
            [
             "MAR"
            ],
            [
             "MOZ"
            ],
            [
             "MMR"
            ],
            [
             "NAM"
            ],
            [
             "NRU"
            ],
            [
             "NPL"
            ],
            [
             "NLD"
            ],
            [
             "NCL"
            ],
            [
             "NZL"
            ],
            [
             "NIC"
            ],
            [
             "NER"
            ],
            [
             "NGA"
            ],
            [
             "NIU"
            ],
            [
             "PRK"
            ],
            [
             "MKD"
            ],
            [
             "NFK"
            ],
            [
             "NOR"
            ],
            [
             "OMN"
            ],
            [
             "PAK"
            ],
            [
             "PLW"
            ],
            [
             "PSE"
            ],
            [
             "PAN"
            ],
            [
             "PNG"
            ],
            [
             "PRY"
            ],
            [
             "PER"
            ],
            [
             "PHL"
            ],
            [
             "POL"
            ],
            [
             "PRT"
            ],
            [
             "PRI"
            ],
            [
             "QAT"
            ],
            [
             "COG"
            ],
            [
             "REU"
            ],
            [
             "ROU"
            ],
            [
             "RUS"
            ],
            [
             "RWA"
            ],
            [
             "BLM"
            ],
            [
             "KNA"
            ],
            [
             "LCA"
            ],
            [
             "MAF"
            ],
            [
             "SPM"
            ],
            [
             "VCT"
            ],
            [
             "WSM"
            ],
            [
             "SMR"
            ],
            [
             "STP"
            ],
            [
             "SAU"
            ],
            [
             "SEN"
            ],
            [
             "SRB"
            ],
            [
             "SYC"
            ],
            [
             "SLE"
            ],
            [
             "SGP"
            ],
            [
             "SXM"
            ],
            [
             "SVK"
            ],
            [
             "SVN"
            ],
            [
             "SLB"
            ],
            [
             "SOM"
            ],
            [
             "ZAF"
            ],
            [
             "KOR"
            ],
            [
             "SSD"
            ],
            [
             "ESP"
            ],
            [
             "LKA"
            ],
            [
             "SDN"
            ],
            [
             "SUR"
            ],
            [
             "SWE"
            ],
            [
             "CHE"
            ],
            [
             "SYR"
            ],
            [
             "TWN"
            ],
            [
             "TJK"
            ],
            [
             "TZA"
            ],
            [
             "THA"
            ],
            [
             "TLS"
            ],
            [
             "TGO"
            ],
            [
             "TKL"
            ],
            [
             "TON"
            ],
            [
             "TTO"
            ],
            [
             "TUN"
            ],
            [
             "TUR"
            ],
            [
             "TKM"
            ],
            [
             "TCA"
            ],
            [
             "TUV"
            ],
            [
             "UGA"
            ],
            [
             "UKR"
            ],
            [
             "ARE"
            ],
            [
             "GBR"
            ],
            [
             "USA"
            ],
            [
             "VIR"
            ],
            [
             "URY"
            ],
            [
             "UZB"
            ],
            [
             "VUT"
            ],
            [
             "VAT"
            ],
            [
             "VEN"
            ],
            [
             "VNM"
            ],
            [
             "WLF"
            ],
            [
             "ESH"
            ],
            [
             "YEM"
            ],
            [
             "ZMB"
            ],
            [
             "ZWE"
            ]
           ],
           "geo": "geo",
           "hovertemplate": "<b>%{hovertext}</b><br><br>Year=2022 Population<br>Population=%{z}<extra></extra>",
           "hovertext": [
            "Afghanistan",
            "Albania",
            "Algeria",
            "American Samoa",
            "Andorra",
            "Angola",
            "Anguilla",
            "Antigua and Barbuda",
            "Argentina",
            "Armenia",
            "Aruba",
            "Australia",
            "Austria",
            "Azerbaijan",
            "Bahamas",
            "Bahrain",
            "Bangladesh",
            "Barbados",
            "Belarus",
            "Belgium",
            "Belize",
            "Benin",
            "Bermuda",
            "Bhutan",
            "Bolivia",
            "Bosnia and Herzegovina",
            "Botswana",
            "Brazil",
            "British Virgin Islands",
            "Brunei",
            "Bulgaria",
            "Burkina Faso",
            "Burundi",
            "Cambodia",
            "Cameroon",
            "Canada",
            "Cape Verde",
            "Cayman Islands",
            "Central African Republic",
            "Chad",
            "Chile",
            "China",
            "Colombia",
            "Comoros",
            "Cook Islands",
            "Costa Rica",
            "Croatia",
            "Cuba",
            "Curacao",
            "Cyprus",
            "Czech Republic",
            "Denmark",
            "Djibouti",
            "Dominica",
            "Dominican Republic",
            "DR Congo",
            "Ecuador",
            "Egypt",
            "El Salvador",
            "Equatorial Guinea",
            "Eritrea",
            "Estonia",
            "Eswatini",
            "Ethiopia",
            "Falkland Islands",
            "Faroe Islands",
            "Fiji",
            "Finland",
            "France",
            "French Guiana",
            "French Polynesia",
            "Gabon",
            "Gambia",
            "Georgia",
            "Germany",
            "Ghana",
            "Gibraltar",
            "Greece",
            "Greenland",
            "Grenada",
            "Guadeloupe",
            "Guam",
            "Guatemala",
            "Guernsey",
            "Guinea",
            "Guinea-Bissau",
            "Guyana",
            "Haiti",
            "Honduras",
            "Hong Kong",
            "Hungary",
            "Iceland",
            "India",
            "Indonesia",
            "Iran",
            "Iraq",
            "Ireland",
            "Isle of Man",
            "Israel",
            "Italy",
            "Ivory Coast",
            "Jamaica",
            "Japan",
            "Jersey",
            "Jordan",
            "Kazakhstan",
            "Kenya",
            "Kiribati",
            "Kuwait",
            "Kyrgyzstan",
            "Laos",
            "Latvia",
            "Lebanon",
            "Lesotho",
            "Liberia",
            "Libya",
            "Liechtenstein",
            "Lithuania",
            "Luxembourg",
            "Macau",
            "Madagascar",
            "Malawi",
            "Malaysia",
            "Maldives",
            "Mali",
            "Malta",
            "Marshall Islands",
            "Martinique",
            "Mauritania",
            "Mauritius",
            "Mayotte",
            "Mexico",
            "Micronesia",
            "Moldova",
            "Monaco",
            "Mongolia",
            "Montenegro",
            "Montserrat",
            "Morocco",
            "Mozambique",
            "Myanmar",
            "Namibia",
            "Nauru",
            "Nepal",
            "Netherlands",
            "New Caledonia",
            "New Zealand",
            "Nicaragua",
            "Niger",
            "Nigeria",
            "Niue",
            "North Korea",
            "North Macedonia",
            "Northern Mariana Islands",
            "Norway",
            "Oman",
            "Pakistan",
            "Palau",
            "Palestine",
            "Panama",
            "Papua New Guinea",
            "Paraguay",
            "Peru",
            "Philippines",
            "Poland",
            "Portugal",
            "Puerto Rico",
            "Qatar",
            "Republic of the Congo",
            "Reunion",
            "Romania",
            "Russia",
            "Rwanda",
            "Saint Barthelemy",
            "Saint Kitts and Nevis",
            "Saint Lucia",
            "Saint Martin",
            "Saint Pierre and Miquelon",
            "Saint Vincent and the Grenadines",
            "Samoa",
            "San Marino",
            "Sao Tome and Principe",
            "Saudi Arabia",
            "Senegal",
            "Serbia",
            "Seychelles",
            "Sierra Leone",
            "Singapore",
            "Sint Maarten",
            "Slovakia",
            "Slovenia",
            "Solomon Islands",
            "Somalia",
            "South Africa",
            "South Korea",
            "South Sudan",
            "Spain",
            "Sri Lanka",
            "Sudan",
            "Suriname",
            "Sweden",
            "Switzerland",
            "Syria",
            "Taiwan",
            "Tajikistan",
            "Tanzania",
            "Thailand",
            "Timor-Leste",
            "Togo",
            "Tokelau",
            "Tonga",
            "Trinidad and Tobago",
            "Tunisia",
            "Turkey",
            "Turkmenistan",
            "Turks and Caicos Islands",
            "Tuvalu",
            "Uganda",
            "Ukraine",
            "United Arab Emirates",
            "United Kingdom",
            "United States",
            "United States Virgin Islands",
            "Uruguay",
            "Uzbekistan",
            "Vanuatu",
            "Vatican City",
            "Venezuela",
            "Vietnam",
            "Wallis and Futuna",
            "Western Sahara",
            "Yemen",
            "Zambia",
            "Zimbabwe"
           ],
           "locationmode": "ISO-3",
           "locations": [
            "AFG",
            "ALB",
            "DZA",
            "ASM",
            "AND",
            "AGO",
            "AIA",
            "ATG",
            "ARG",
            "ARM",
            "ABW",
            "AUS",
            "AUT",
            "AZE",
            "BHS",
            "BHR",
            "BGD",
            "BRB",
            "BLR",
            "BEL",
            "BLZ",
            "BEN",
            "BMU",
            "BTN",
            "BOL",
            "BIH",
            "BWA",
            "BRA",
            "VGB",
            "BRN",
            "BGR",
            "BFA",
            "BDI",
            "KHM",
            "CMR",
            "CAN",
            "CPV",
            "CYM",
            "CAF",
            "TCD",
            "CHL",
            "CHN",
            "COL",
            "COM",
            "COK",
            "CRI",
            "HRV",
            "CUB",
            "CUW",
            "CYP",
            "CZE",
            "DNK",
            "DJI",
            "DMA",
            "DOM",
            "COD",
            "ECU",
            "EGY",
            "SLV",
            "GNQ",
            "ERI",
            "EST",
            "SWZ",
            "ETH",
            "FLK",
            "FRO",
            "FJI",
            "FIN",
            "FRA",
            "GUF",
            "PYF",
            "GAB",
            "GMB",
            "GEO",
            "DEU",
            "GHA",
            "GIB",
            "GRC",
            "GRL",
            "GRD",
            "GLP",
            "GUM",
            "GTM",
            "GGY",
            "GIN",
            "GNB",
            "GUY",
            "HTI",
            "HND",
            "HKG",
            "HUN",
            "ISL",
            "IND",
            "IDN",
            "IRN",
            "IRQ",
            "IRL",
            "IMN",
            "ISR",
            "ITA",
            "CIV",
            "JAM",
            "JPN",
            "JEY",
            "JOR",
            "KAZ",
            "KEN",
            "KIR",
            "KWT",
            "KGZ",
            "LAO",
            "LVA",
            "LBN",
            "LSO",
            "LBR",
            "LBY",
            "LIE",
            "LTU",
            "LUX",
            "MAC",
            "MDG",
            "MWI",
            "MYS",
            "MDV",
            "MLI",
            "MLT",
            "MHL",
            "MTQ",
            "MRT",
            "MUS",
            "MYT",
            "MEX",
            "FSM",
            "MDA",
            "MCO",
            "MNG",
            "MNE",
            "MSR",
            "MAR",
            "MOZ",
            "MMR",
            "NAM",
            "NRU",
            "NPL",
            "NLD",
            "NCL",
            "NZL",
            "NIC",
            "NER",
            "NGA",
            "NIU",
            "PRK",
            "MKD",
            "NFK",
            "NOR",
            "OMN",
            "PAK",
            "PLW",
            "PSE",
            "PAN",
            "PNG",
            "PRY",
            "PER",
            "PHL",
            "POL",
            "PRT",
            "PRI",
            "QAT",
            "COG",
            "REU",
            "ROU",
            "RUS",
            "RWA",
            "BLM",
            "KNA",
            "LCA",
            "MAF",
            "SPM",
            "VCT",
            "WSM",
            "SMR",
            "STP",
            "SAU",
            "SEN",
            "SRB",
            "SYC",
            "SLE",
            "SGP",
            "SXM",
            "SVK",
            "SVN",
            "SLB",
            "SOM",
            "ZAF",
            "KOR",
            "SSD",
            "ESP",
            "LKA",
            "SDN",
            "SUR",
            "SWE",
            "CHE",
            "SYR",
            "TWN",
            "TJK",
            "TZA",
            "THA",
            "TLS",
            "TGO",
            "TKL",
            "TON",
            "TTO",
            "TUN",
            "TUR",
            "TKM",
            "TCA",
            "TUV",
            "UGA",
            "UKR",
            "ARE",
            "GBR",
            "USA",
            "VIR",
            "URY",
            "UZB",
            "VUT",
            "VAT",
            "VEN",
            "VNM",
            "WLF",
            "ESH",
            "YEM",
            "ZMB",
            "ZWE"
           ],
           "name": "",
           "type": "choropleth",
           "z": [
            41128771,
            2842321,
            44903225,
            44273,
            79824,
            35588987,
            15857,
            93763,
            45510318,
            2780469,
            106445,
            26177413,
            8939617,
            10358074,
            409984,
            1472233,
            171186372,
            281635,
            9534954,
            11655930,
            405272,
            13352864,
            64184,
            782455,
            12224110,
            3233526,
            2630296,
            215313498,
            31305,
            449002,
            6781953,
            22673762,
            12889576,
            16767842,
            27914536,
            38454327,
            593149,
            68706,
            5579144,
            17723315,
            19603733,
            1425887337,
            51874024,
            836774,
            17011,
            5180829,
            4030358,
            11212191,
            191163,
            1251488,
            10493986,
            5882261,
            1120849,
            72737,
            11228821,
            99010212,
            18001000,
            110990103,
            6336392,
            1674908,
            3684032,
            1326062,
            1201670,
            123379924,
            3780,
            53090,
            929766,
            5540745,
            64626628,
            304557,
            306279,
            2388992,
            2705992,
            3744385,
            83369843,
            33475870,
            32649,
            10384971,
            56466,
            125438,
            395752,
            171774,
            17843908,
            63301,
            13859341,
            2105566,
            808726,
            11584996,
            10432860,
            7488865,
            9967308,
            372899,
            1417173173,
            275501339,
            88550570,
            44496122,
            5023109,
            84519,
            9038309,
            59037474,
            28160542,
            2827377,
            123951692,
            110778,
            11285869,
            19397998,
            54027487,
            131232,
            4268873,
            6630623,
            7529475,
            1850651,
            5489739,
            2305825,
            5302681,
            6812341,
            39327,
            2750055,
            647599,
            695168,
            29611714,
            20405317,
            33938221,
            523787,
            22593590,
            533286,
            41569,
            367507,
            4736139,
            1299469,
            326101,
            127504125,
            114164,
            3272996,
            36469,
            3398366,
            627082,
            4390,
            37457971,
            32969517,
            54179306,
            2567012,
            12668,
            30547580,
            17564014,
            289950,
            5185288,
            6948392,
            26207977,
            218541212,
            1934,
            26069416,
            2093599,
            49551,
            5434319,
            4576298,
            235824862,
            18055,
            5250072,
            4408581,
            10142619,
            6780744,
            34049588,
            115559009,
            39857145,
            10270865,
            3252407,
            2695122,
            5970424,
            974052,
            19659267,
            144713314,
            13776698,
            10967,
            47657,
            179857,
            31791,
            5862,
            103948,
            222382,
            33660,
            227380,
            36408820,
            17316449,
            7221365,
            107118,
            8605718,
            5975689,
            44175,
            5643453,
            2119844,
            724273,
            17597511,
            59893885,
            51815810,
            10913164,
            47558630,
            21832143,
            46874204,
            618040,
            10549347,
            8740472,
            22125249,
            23893394,
            9952787,
            65497748,
            71697030,
            1341296,
            8848699,
            1871,
            106858,
            1531044,
            12356117,
            85341241,
            6430770,
            45703,
            11312,
            47249585,
            39701739,
            9441129,
            67508936,
            338289857,
            99465,
            3422794,
            34627652,
            326740,
            510,
            28301696,
            98186856,
            11572,
            575986,
            33696614,
            20017675,
            16320537
           ]
          }
         ],
         "name": "2022 Population"
        }
       ],
       "layout": {
        "coloraxis": {
         "cmax": 400000000,
         "cmin": 0,
         "colorbar": {
          "title": {
           "text": "Population"
          }
         },
         "colorscale": [
          [
           0,
           "#440154"
          ],
          [
           0.1111111111111111,
           "#482878"
          ],
          [
           0.2222222222222222,
           "#3e4989"
          ],
          [
           0.3333333333333333,
           "#31688e"
          ],
          [
           0.4444444444444444,
           "#26828e"
          ],
          [
           0.5555555555555556,
           "#1f9e89"
          ],
          [
           0.6666666666666666,
           "#35b779"
          ],
          [
           0.7777777777777778,
           "#6ece58"
          ],
          [
           0.8888888888888888,
           "#b5de2b"
          ],
          [
           1,
           "#fde725"
          ]
         ]
        },
        "geo": {
         "center": {},
         "domain": {
          "x": [
           0,
           1
          ],
          "y": [
           0,
           1
          ]
         },
         "projection": {
          "type": "equirectangular"
         },
         "scope": "world"
        },
        "height": 600,
        "legend": {
         "tracegroupgap": 0
        },
        "sliders": [
         {
          "active": 0,
          "currentvalue": {
           "prefix": "Year="
          },
          "len": 0.9,
          "pad": {
           "b": 10,
           "t": 60
          },
          "steps": [
           {
            "args": [
             [
              "1970 Population"
             ],
             {
              "frame": {
               "duration": 0,
               "redraw": true
              },
              "fromcurrent": true,
              "mode": "immediate",
              "transition": {
               "duration": 0,
               "easing": "linear"
              }
             }
            ],
            "label": "1970 Population",
            "method": "animate"
           },
           {
            "args": [
             [
              "1980 Population"
             ],
             {
              "frame": {
               "duration": 0,
               "redraw": true
              },
              "fromcurrent": true,
              "mode": "immediate",
              "transition": {
               "duration": 0,
               "easing": "linear"
              }
             }
            ],
            "label": "1980 Population",
            "method": "animate"
           },
           {
            "args": [
             [
              "1990 Population"
             ],
             {
              "frame": {
               "duration": 0,
               "redraw": true
              },
              "fromcurrent": true,
              "mode": "immediate",
              "transition": {
               "duration": 0,
               "easing": "linear"
              }
             }
            ],
            "label": "1990 Population",
            "method": "animate"
           },
           {
            "args": [
             [
              "2000 Population"
             ],
             {
              "frame": {
               "duration": 0,
               "redraw": true
              },
              "fromcurrent": true,
              "mode": "immediate",
              "transition": {
               "duration": 0,
               "easing": "linear"
              }
             }
            ],
            "label": "2000 Population",
            "method": "animate"
           },
           {
            "args": [
             [
              "2010 Population"
             ],
             {
              "frame": {
               "duration": 0,
               "redraw": true
              },
              "fromcurrent": true,
              "mode": "immediate",
              "transition": {
               "duration": 0,
               "easing": "linear"
              }
             }
            ],
            "label": "2010 Population",
            "method": "animate"
           },
           {
            "args": [
             [
              "2015 Population"
             ],
             {
              "frame": {
               "duration": 0,
               "redraw": true
              },
              "fromcurrent": true,
              "mode": "immediate",
              "transition": {
               "duration": 0,
               "easing": "linear"
              }
             }
            ],
            "label": "2015 Population",
            "method": "animate"
           },
           {
            "args": [
             [
              "2020 Population"
             ],
             {
              "frame": {
               "duration": 0,
               "redraw": true
              },
              "fromcurrent": true,
              "mode": "immediate",
              "transition": {
               "duration": 0,
               "easing": "linear"
              }
             }
            ],
            "label": "2020 Population",
            "method": "animate"
           },
           {
            "args": [
             [
              "2022 Population"
             ],
             {
              "frame": {
               "duration": 0,
               "redraw": true
              },
              "fromcurrent": true,
              "mode": "immediate",
              "transition": {
               "duration": 0,
               "easing": "linear"
              }
             }
            ],
            "label": "2022 Population",
            "method": "animate"
           }
          ],
          "x": 0.1,
          "xanchor": "left",
          "y": 0,
          "yanchor": "top"
         }
        ],
        "template": {
         "data": {
          "bar": [
           {
            "error_x": {
             "color": "#2a3f5f"
            },
            "error_y": {
             "color": "#2a3f5f"
            },
            "marker": {
             "line": {
              "color": "#E5ECF6",
              "width": 0.5
             },
             "pattern": {
              "fillmode": "overlay",
              "size": 10,
              "solidity": 0.2
             }
            },
            "type": "bar"
           }
          ],
          "barpolar": [
           {
            "marker": {
             "line": {
              "color": "#E5ECF6",
              "width": 0.5
             },
             "pattern": {
              "fillmode": "overlay",
              "size": 10,
              "solidity": 0.2
             }
            },
            "type": "barpolar"
           }
          ],
          "carpet": [
           {
            "aaxis": {
             "endlinecolor": "#2a3f5f",
             "gridcolor": "white",
             "linecolor": "white",
             "minorgridcolor": "white",
             "startlinecolor": "#2a3f5f"
            },
            "baxis": {
             "endlinecolor": "#2a3f5f",
             "gridcolor": "white",
             "linecolor": "white",
             "minorgridcolor": "white",
             "startlinecolor": "#2a3f5f"
            },
            "type": "carpet"
           }
          ],
          "choropleth": [
           {
            "colorbar": {
             "outlinewidth": 0,
             "ticks": ""
            },
            "type": "choropleth"
           }
          ],
          "contour": [
           {
            "colorbar": {
             "outlinewidth": 0,
             "ticks": ""
            },
            "colorscale": [
             [
              0,
              "#0d0887"
             ],
             [
              0.1111111111111111,
              "#46039f"
             ],
             [
              0.2222222222222222,
              "#7201a8"
             ],
             [
              0.3333333333333333,
              "#9c179e"
             ],
             [
              0.4444444444444444,
              "#bd3786"
             ],
             [
              0.5555555555555556,
              "#d8576b"
             ],
             [
              0.6666666666666666,
              "#ed7953"
             ],
             [
              0.7777777777777778,
              "#fb9f3a"
             ],
             [
              0.8888888888888888,
              "#fdca26"
             ],
             [
              1,
              "#f0f921"
             ]
            ],
            "type": "contour"
           }
          ],
          "contourcarpet": [
           {
            "colorbar": {
             "outlinewidth": 0,
             "ticks": ""
            },
            "type": "contourcarpet"
           }
          ],
          "heatmap": [
           {
            "colorbar": {
             "outlinewidth": 0,
             "ticks": ""
            },
            "colorscale": [
             [
              0,
              "#0d0887"
             ],
             [
              0.1111111111111111,
              "#46039f"
             ],
             [
              0.2222222222222222,
              "#7201a8"
             ],
             [
              0.3333333333333333,
              "#9c179e"
             ],
             [
              0.4444444444444444,
              "#bd3786"
             ],
             [
              0.5555555555555556,
              "#d8576b"
             ],
             [
              0.6666666666666666,
              "#ed7953"
             ],
             [
              0.7777777777777778,
              "#fb9f3a"
             ],
             [
              0.8888888888888888,
              "#fdca26"
             ],
             [
              1,
              "#f0f921"
             ]
            ],
            "type": "heatmap"
           }
          ],
          "heatmapgl": [
           {
            "colorbar": {
             "outlinewidth": 0,
             "ticks": ""
            },
            "colorscale": [
             [
              0,
              "#0d0887"
             ],
             [
              0.1111111111111111,
              "#46039f"
             ],
             [
              0.2222222222222222,
              "#7201a8"
             ],
             [
              0.3333333333333333,
              "#9c179e"
             ],
             [
              0.4444444444444444,
              "#bd3786"
             ],
             [
              0.5555555555555556,
              "#d8576b"
             ],
             [
              0.6666666666666666,
              "#ed7953"
             ],
             [
              0.7777777777777778,
              "#fb9f3a"
             ],
             [
              0.8888888888888888,
              "#fdca26"
             ],
             [
              1,
              "#f0f921"
             ]
            ],
            "type": "heatmapgl"
           }
          ],
          "histogram": [
           {
            "marker": {
             "pattern": {
              "fillmode": "overlay",
              "size": 10,
              "solidity": 0.2
             }
            },
            "type": "histogram"
           }
          ],
          "histogram2d": [
           {
            "colorbar": {
             "outlinewidth": 0,
             "ticks": ""
            },
            "colorscale": [
             [
              0,
              "#0d0887"
             ],
             [
              0.1111111111111111,
              "#46039f"
             ],
             [
              0.2222222222222222,
              "#7201a8"
             ],
             [
              0.3333333333333333,
              "#9c179e"
             ],
             [
              0.4444444444444444,
              "#bd3786"
             ],
             [
              0.5555555555555556,
              "#d8576b"
             ],
             [
              0.6666666666666666,
              "#ed7953"
             ],
             [
              0.7777777777777778,
              "#fb9f3a"
             ],
             [
              0.8888888888888888,
              "#fdca26"
             ],
             [
              1,
              "#f0f921"
             ]
            ],
            "type": "histogram2d"
           }
          ],
          "histogram2dcontour": [
           {
            "colorbar": {
             "outlinewidth": 0,
             "ticks": ""
            },
            "colorscale": [
             [
              0,
              "#0d0887"
             ],
             [
              0.1111111111111111,
              "#46039f"
             ],
             [
              0.2222222222222222,
              "#7201a8"
             ],
             [
              0.3333333333333333,
              "#9c179e"
             ],
             [
              0.4444444444444444,
              "#bd3786"
             ],
             [
              0.5555555555555556,
              "#d8576b"
             ],
             [
              0.6666666666666666,
              "#ed7953"
             ],
             [
              0.7777777777777778,
              "#fb9f3a"
             ],
             [
              0.8888888888888888,
              "#fdca26"
             ],
             [
              1,
              "#f0f921"
             ]
            ],
            "type": "histogram2dcontour"
           }
          ],
          "mesh3d": [
           {
            "colorbar": {
             "outlinewidth": 0,
             "ticks": ""
            },
            "type": "mesh3d"
           }
          ],
          "parcoords": [
           {
            "line": {
             "colorbar": {
              "outlinewidth": 0,
              "ticks": ""
             }
            },
            "type": "parcoords"
           }
          ],
          "pie": [
           {
            "automargin": true,
            "type": "pie"
           }
          ],
          "scatter": [
           {
            "fillpattern": {
             "fillmode": "overlay",
             "size": 10,
             "solidity": 0.2
            },
            "type": "scatter"
           }
          ],
          "scatter3d": [
           {
            "line": {
             "colorbar": {
              "outlinewidth": 0,
              "ticks": ""
             }
            },
            "marker": {
             "colorbar": {
              "outlinewidth": 0,
              "ticks": ""
             }
            },
            "type": "scatter3d"
           }
          ],
          "scattercarpet": [
           {
            "marker": {
             "colorbar": {
              "outlinewidth": 0,
              "ticks": ""
             }
            },
            "type": "scattercarpet"
           }
          ],
          "scattergeo": [
           {
            "marker": {
             "colorbar": {
              "outlinewidth": 0,
              "ticks": ""
             }
            },
            "type": "scattergeo"
           }
          ],
          "scattergl": [
           {
            "marker": {
             "colorbar": {
              "outlinewidth": 0,
              "ticks": ""
             }
            },
            "type": "scattergl"
           }
          ],
          "scattermapbox": [
           {
            "marker": {
             "colorbar": {
              "outlinewidth": 0,
              "ticks": ""
             }
            },
            "type": "scattermapbox"
           }
          ],
          "scatterpolar": [
           {
            "marker": {
             "colorbar": {
              "outlinewidth": 0,
              "ticks": ""
             }
            },
            "type": "scatterpolar"
           }
          ],
          "scatterpolargl": [
           {
            "marker": {
             "colorbar": {
              "outlinewidth": 0,
              "ticks": ""
             }
            },
            "type": "scatterpolargl"
           }
          ],
          "scatterternary": [
           {
            "marker": {
             "colorbar": {
              "outlinewidth": 0,
              "ticks": ""
             }
            },
            "type": "scatterternary"
           }
          ],
          "surface": [
           {
            "colorbar": {
             "outlinewidth": 0,
             "ticks": ""
            },
            "colorscale": [
             [
              0,
              "#0d0887"
             ],
             [
              0.1111111111111111,
              "#46039f"
             ],
             [
              0.2222222222222222,
              "#7201a8"
             ],
             [
              0.3333333333333333,
              "#9c179e"
             ],
             [
              0.4444444444444444,
              "#bd3786"
             ],
             [
              0.5555555555555556,
              "#d8576b"
             ],
             [
              0.6666666666666666,
              "#ed7953"
             ],
             [
              0.7777777777777778,
              "#fb9f3a"
             ],
             [
              0.8888888888888888,
              "#fdca26"
             ],
             [
              1,
              "#f0f921"
             ]
            ],
            "type": "surface"
           }
          ],
          "table": [
           {
            "cells": {
             "fill": {
              "color": "#EBF0F8"
             },
             "line": {
              "color": "white"
             }
            },
            "header": {
             "fill": {
              "color": "#C8D4E3"
             },
             "line": {
              "color": "white"
             }
            },
            "type": "table"
           }
          ]
         },
         "layout": {
          "annotationdefaults": {
           "arrowcolor": "#2a3f5f",
           "arrowhead": 0,
           "arrowwidth": 1
          },
          "autotypenumbers": "strict",
          "coloraxis": {
           "colorbar": {
            "outlinewidth": 0,
            "ticks": ""
           }
          },
          "colorscale": {
           "diverging": [
            [
             0,
             "#8e0152"
            ],
            [
             0.1,
             "#c51b7d"
            ],
            [
             0.2,
             "#de77ae"
            ],
            [
             0.3,
             "#f1b6da"
            ],
            [
             0.4,
             "#fde0ef"
            ],
            [
             0.5,
             "#f7f7f7"
            ],
            [
             0.6,
             "#e6f5d0"
            ],
            [
             0.7,
             "#b8e186"
            ],
            [
             0.8,
             "#7fbc41"
            ],
            [
             0.9,
             "#4d9221"
            ],
            [
             1,
             "#276419"
            ]
           ],
           "sequential": [
            [
             0,
             "#0d0887"
            ],
            [
             0.1111111111111111,
             "#46039f"
            ],
            [
             0.2222222222222222,
             "#7201a8"
            ],
            [
             0.3333333333333333,
             "#9c179e"
            ],
            [
             0.4444444444444444,
             "#bd3786"
            ],
            [
             0.5555555555555556,
             "#d8576b"
            ],
            [
             0.6666666666666666,
             "#ed7953"
            ],
            [
             0.7777777777777778,
             "#fb9f3a"
            ],
            [
             0.8888888888888888,
             "#fdca26"
            ],
            [
             1,
             "#f0f921"
            ]
           ],
           "sequentialminus": [
            [
             0,
             "#0d0887"
            ],
            [
             0.1111111111111111,
             "#46039f"
            ],
            [
             0.2222222222222222,
             "#7201a8"
            ],
            [
             0.3333333333333333,
             "#9c179e"
            ],
            [
             0.4444444444444444,
             "#bd3786"
            ],
            [
             0.5555555555555556,
             "#d8576b"
            ],
            [
             0.6666666666666666,
             "#ed7953"
            ],
            [
             0.7777777777777778,
             "#fb9f3a"
            ],
            [
             0.8888888888888888,
             "#fdca26"
            ],
            [
             1,
             "#f0f921"
            ]
           ]
          },
          "colorway": [
           "#636efa",
           "#EF553B",
           "#00cc96",
           "#ab63fa",
           "#FFA15A",
           "#19d3f3",
           "#FF6692",
           "#B6E880",
           "#FF97FF",
           "#FECB52"
          ],
          "font": {
           "color": "#2a3f5f"
          },
          "geo": {
           "bgcolor": "white",
           "lakecolor": "white",
           "landcolor": "#E5ECF6",
           "showlakes": true,
           "showland": true,
           "subunitcolor": "white"
          },
          "hoverlabel": {
           "align": "left"
          },
          "hovermode": "closest",
          "mapbox": {
           "style": "light"
          },
          "paper_bgcolor": "white",
          "plot_bgcolor": "#E5ECF6",
          "polar": {
           "angularaxis": {
            "gridcolor": "white",
            "linecolor": "white",
            "ticks": ""
           },
           "bgcolor": "#E5ECF6",
           "radialaxis": {
            "gridcolor": "white",
            "linecolor": "white",
            "ticks": ""
           }
          },
          "scene": {
           "xaxis": {
            "backgroundcolor": "#E5ECF6",
            "gridcolor": "white",
            "gridwidth": 2,
            "linecolor": "white",
            "showbackground": true,
            "ticks": "",
            "zerolinecolor": "white"
           },
           "yaxis": {
            "backgroundcolor": "#E5ECF6",
            "gridcolor": "white",
            "gridwidth": 2,
            "linecolor": "white",
            "showbackground": true,
            "ticks": "",
            "zerolinecolor": "white"
           },
           "zaxis": {
            "backgroundcolor": "#E5ECF6",
            "gridcolor": "white",
            "gridwidth": 2,
            "linecolor": "white",
            "showbackground": true,
            "ticks": "",
            "zerolinecolor": "white"
           }
          },
          "shapedefaults": {
           "line": {
            "color": "#2a3f5f"
           }
          },
          "ternary": {
           "aaxis": {
            "gridcolor": "white",
            "linecolor": "white",
            "ticks": ""
           },
           "baxis": {
            "gridcolor": "white",
            "linecolor": "white",
            "ticks": ""
           },
           "bgcolor": "#E5ECF6",
           "caxis": {
            "gridcolor": "white",
            "linecolor": "white",
            "ticks": ""
           }
          },
          "title": {
           "x": 0.05
          },
          "xaxis": {
           "automargin": true,
           "gridcolor": "white",
           "linecolor": "white",
           "ticks": "",
           "title": {
            "standoff": 15
           },
           "zerolinecolor": "white",
           "zerolinewidth": 2
          },
          "yaxis": {
           "automargin": true,
           "gridcolor": "white",
           "linecolor": "white",
           "ticks": "",
           "title": {
            "standoff": 15
           },
           "zerolinecolor": "white",
           "zerolinewidth": 2
          }
         }
        },
        "title": {
         "text": "World Population by Country (1970-2022) <br>with Animation Slider"
        },
        "updatemenus": [
         {
          "buttons": [
           {
            "args": [
             null,
             {
              "frame": {
               "duration": 500,
               "redraw": true
              },
              "fromcurrent": true,
              "mode": "immediate",
              "transition": {
               "duration": 500,
               "easing": "linear"
              }
             }
            ],
            "label": "&#9654;",
            "method": "animate"
           },
           {
            "args": [
             [
              null
             ],
             {
              "frame": {
               "duration": 0,
               "redraw": true
              },
              "fromcurrent": true,
              "mode": "immediate",
              "transition": {
               "duration": 0,
               "easing": "linear"
              }
             }
            ],
            "label": "&#9724;",
            "method": "animate"
           }
          ],
          "direction": "left",
          "pad": {
           "r": 10,
           "t": 70
          },
          "showactive": false,
          "type": "buttons",
          "x": 0.1,
          "xanchor": "right",
          "y": 0,
          "yanchor": "top"
         }
        ],
        "width": 800
       }
      },
      "text/html": [
       "<div>                            <div id=\"90c08761-3b58-4a22-94f2-be2923565519\" class=\"plotly-graph-div\" style=\"height:600px; width:800px;\"></div>            <script type=\"text/javascript\">                require([\"plotly\"], function(Plotly) {                    window.PLOTLYENV=window.PLOTLYENV || {};                                    if (document.getElementById(\"90c08761-3b58-4a22-94f2-be2923565519\")) {                    Plotly.newPlot(                        \"90c08761-3b58-4a22-94f2-be2923565519\",                        [{\"coloraxis\":\"coloraxis\",\"customdata\":[[\"AFG\"],[\"ALB\"],[\"DZA\"],[\"ASM\"],[\"AND\"],[\"AGO\"],[\"AIA\"],[\"ATG\"],[\"ARG\"],[\"ARM\"],[\"ABW\"],[\"AUS\"],[\"AUT\"],[\"AZE\"],[\"BHS\"],[\"BHR\"],[\"BGD\"],[\"BRB\"],[\"BLR\"],[\"BEL\"],[\"BLZ\"],[\"BEN\"],[\"BMU\"],[\"BTN\"],[\"BOL\"],[\"BIH\"],[\"BWA\"],[\"BRA\"],[\"VGB\"],[\"BRN\"],[\"BGR\"],[\"BFA\"],[\"BDI\"],[\"KHM\"],[\"CMR\"],[\"CAN\"],[\"CPV\"],[\"CYM\"],[\"CAF\"],[\"TCD\"],[\"CHL\"],[\"CHN\"],[\"COL\"],[\"COM\"],[\"COK\"],[\"CRI\"],[\"HRV\"],[\"CUB\"],[\"CUW\"],[\"CYP\"],[\"CZE\"],[\"DNK\"],[\"DJI\"],[\"DMA\"],[\"DOM\"],[\"COD\"],[\"ECU\"],[\"EGY\"],[\"SLV\"],[\"GNQ\"],[\"ERI\"],[\"EST\"],[\"SWZ\"],[\"ETH\"],[\"FLK\"],[\"FRO\"],[\"FJI\"],[\"FIN\"],[\"FRA\"],[\"GUF\"],[\"PYF\"],[\"GAB\"],[\"GMB\"],[\"GEO\"],[\"DEU\"],[\"GHA\"],[\"GIB\"],[\"GRC\"],[\"GRL\"],[\"GRD\"],[\"GLP\"],[\"GUM\"],[\"GTM\"],[\"GGY\"],[\"GIN\"],[\"GNB\"],[\"GUY\"],[\"HTI\"],[\"HND\"],[\"HKG\"],[\"HUN\"],[\"ISL\"],[\"IND\"],[\"IDN\"],[\"IRN\"],[\"IRQ\"],[\"IRL\"],[\"IMN\"],[\"ISR\"],[\"ITA\"],[\"CIV\"],[\"JAM\"],[\"JPN\"],[\"JEY\"],[\"JOR\"],[\"KAZ\"],[\"KEN\"],[\"KIR\"],[\"KWT\"],[\"KGZ\"],[\"LAO\"],[\"LVA\"],[\"LBN\"],[\"LSO\"],[\"LBR\"],[\"LBY\"],[\"LIE\"],[\"LTU\"],[\"LUX\"],[\"MAC\"],[\"MDG\"],[\"MWI\"],[\"MYS\"],[\"MDV\"],[\"MLI\"],[\"MLT\"],[\"MHL\"],[\"MTQ\"],[\"MRT\"],[\"MUS\"],[\"MYT\"],[\"MEX\"],[\"FSM\"],[\"MDA\"],[\"MCO\"],[\"MNG\"],[\"MNE\"],[\"MSR\"],[\"MAR\"],[\"MOZ\"],[\"MMR\"],[\"NAM\"],[\"NRU\"],[\"NPL\"],[\"NLD\"],[\"NCL\"],[\"NZL\"],[\"NIC\"],[\"NER\"],[\"NGA\"],[\"NIU\"],[\"PRK\"],[\"MKD\"],[\"NFK\"],[\"NOR\"],[\"OMN\"],[\"PAK\"],[\"PLW\"],[\"PSE\"],[\"PAN\"],[\"PNG\"],[\"PRY\"],[\"PER\"],[\"PHL\"],[\"POL\"],[\"PRT\"],[\"PRI\"],[\"QAT\"],[\"COG\"],[\"REU\"],[\"ROU\"],[\"RUS\"],[\"RWA\"],[\"BLM\"],[\"KNA\"],[\"LCA\"],[\"MAF\"],[\"SPM\"],[\"VCT\"],[\"WSM\"],[\"SMR\"],[\"STP\"],[\"SAU\"],[\"SEN\"],[\"SRB\"],[\"SYC\"],[\"SLE\"],[\"SGP\"],[\"SXM\"],[\"SVK\"],[\"SVN\"],[\"SLB\"],[\"SOM\"],[\"ZAF\"],[\"KOR\"],[\"SSD\"],[\"ESP\"],[\"LKA\"],[\"SDN\"],[\"SUR\"],[\"SWE\"],[\"CHE\"],[\"SYR\"],[\"TWN\"],[\"TJK\"],[\"TZA\"],[\"THA\"],[\"TLS\"],[\"TGO\"],[\"TKL\"],[\"TON\"],[\"TTO\"],[\"TUN\"],[\"TUR\"],[\"TKM\"],[\"TCA\"],[\"TUV\"],[\"UGA\"],[\"UKR\"],[\"ARE\"],[\"GBR\"],[\"USA\"],[\"VIR\"],[\"URY\"],[\"UZB\"],[\"VUT\"],[\"VAT\"],[\"VEN\"],[\"VNM\"],[\"WLF\"],[\"ESH\"],[\"YEM\"],[\"ZMB\"],[\"ZWE\"]],\"geo\":\"geo\",\"hovertemplate\":\"<b>%{hovertext}</b><br><br>Year=1970 Population<br>Population=%{z}<extra></extra>\",\"hovertext\":[\"Afghanistan\",\"Albania\",\"Algeria\",\"American Samoa\",\"Andorra\",\"Angola\",\"Anguilla\",\"Antigua and Barbuda\",\"Argentina\",\"Armenia\",\"Aruba\",\"Australia\",\"Austria\",\"Azerbaijan\",\"Bahamas\",\"Bahrain\",\"Bangladesh\",\"Barbados\",\"Belarus\",\"Belgium\",\"Belize\",\"Benin\",\"Bermuda\",\"Bhutan\",\"Bolivia\",\"Bosnia and Herzegovina\",\"Botswana\",\"Brazil\",\"British Virgin Islands\",\"Brunei\",\"Bulgaria\",\"Burkina Faso\",\"Burundi\",\"Cambodia\",\"Cameroon\",\"Canada\",\"Cape Verde\",\"Cayman Islands\",\"Central African Republic\",\"Chad\",\"Chile\",\"China\",\"Colombia\",\"Comoros\",\"Cook Islands\",\"Costa Rica\",\"Croatia\",\"Cuba\",\"Curacao\",\"Cyprus\",\"Czech Republic\",\"Denmark\",\"Djibouti\",\"Dominica\",\"Dominican Republic\",\"DR Congo\",\"Ecuador\",\"Egypt\",\"El Salvador\",\"Equatorial Guinea\",\"Eritrea\",\"Estonia\",\"Eswatini\",\"Ethiopia\",\"Falkland Islands\",\"Faroe Islands\",\"Fiji\",\"Finland\",\"France\",\"French Guiana\",\"French Polynesia\",\"Gabon\",\"Gambia\",\"Georgia\",\"Germany\",\"Ghana\",\"Gibraltar\",\"Greece\",\"Greenland\",\"Grenada\",\"Guadeloupe\",\"Guam\",\"Guatemala\",\"Guernsey\",\"Guinea\",\"Guinea-Bissau\",\"Guyana\",\"Haiti\",\"Honduras\",\"Hong Kong\",\"Hungary\",\"Iceland\",\"India\",\"Indonesia\",\"Iran\",\"Iraq\",\"Ireland\",\"Isle of Man\",\"Israel\",\"Italy\",\"Ivory Coast\",\"Jamaica\",\"Japan\",\"Jersey\",\"Jordan\",\"Kazakhstan\",\"Kenya\",\"Kiribati\",\"Kuwait\",\"Kyrgyzstan\",\"Laos\",\"Latvia\",\"Lebanon\",\"Lesotho\",\"Liberia\",\"Libya\",\"Liechtenstein\",\"Lithuania\",\"Luxembourg\",\"Macau\",\"Madagascar\",\"Malawi\",\"Malaysia\",\"Maldives\",\"Mali\",\"Malta\",\"Marshall Islands\",\"Martinique\",\"Mauritania\",\"Mauritius\",\"Mayotte\",\"Mexico\",\"Micronesia\",\"Moldova\",\"Monaco\",\"Mongolia\",\"Montenegro\",\"Montserrat\",\"Morocco\",\"Mozambique\",\"Myanmar\",\"Namibia\",\"Nauru\",\"Nepal\",\"Netherlands\",\"New Caledonia\",\"New Zealand\",\"Nicaragua\",\"Niger\",\"Nigeria\",\"Niue\",\"North Korea\",\"North Macedonia\",\"Northern Mariana Islands\",\"Norway\",\"Oman\",\"Pakistan\",\"Palau\",\"Palestine\",\"Panama\",\"Papua New Guinea\",\"Paraguay\",\"Peru\",\"Philippines\",\"Poland\",\"Portugal\",\"Puerto Rico\",\"Qatar\",\"Republic of the Congo\",\"Reunion\",\"Romania\",\"Russia\",\"Rwanda\",\"Saint Barthelemy\",\"Saint Kitts and Nevis\",\"Saint Lucia\",\"Saint Martin\",\"Saint Pierre and Miquelon\",\"Saint Vincent and the Grenadines\",\"Samoa\",\"San Marino\",\"Sao Tome and Principe\",\"Saudi Arabia\",\"Senegal\",\"Serbia\",\"Seychelles\",\"Sierra Leone\",\"Singapore\",\"Sint Maarten\",\"Slovakia\",\"Slovenia\",\"Solomon Islands\",\"Somalia\",\"South Africa\",\"South Korea\",\"South Sudan\",\"Spain\",\"Sri Lanka\",\"Sudan\",\"Suriname\",\"Sweden\",\"Switzerland\",\"Syria\",\"Taiwan\",\"Tajikistan\",\"Tanzania\",\"Thailand\",\"Timor-Leste\",\"Togo\",\"Tokelau\",\"Tonga\",\"Trinidad and Tobago\",\"Tunisia\",\"Turkey\",\"Turkmenistan\",\"Turks and Caicos Islands\",\"Tuvalu\",\"Uganda\",\"Ukraine\",\"United Arab Emirates\",\"United Kingdom\",\"United States\",\"United States Virgin Islands\",\"Uruguay\",\"Uzbekistan\",\"Vanuatu\",\"Vatican City\",\"Venezuela\",\"Vietnam\",\"Wallis and Futuna\",\"Western Sahara\",\"Yemen\",\"Zambia\",\"Zimbabwe\"],\"locationmode\":\"ISO-3\",\"locations\":[\"AFG\",\"ALB\",\"DZA\",\"ASM\",\"AND\",\"AGO\",\"AIA\",\"ATG\",\"ARG\",\"ARM\",\"ABW\",\"AUS\",\"AUT\",\"AZE\",\"BHS\",\"BHR\",\"BGD\",\"BRB\",\"BLR\",\"BEL\",\"BLZ\",\"BEN\",\"BMU\",\"BTN\",\"BOL\",\"BIH\",\"BWA\",\"BRA\",\"VGB\",\"BRN\",\"BGR\",\"BFA\",\"BDI\",\"KHM\",\"CMR\",\"CAN\",\"CPV\",\"CYM\",\"CAF\",\"TCD\",\"CHL\",\"CHN\",\"COL\",\"COM\",\"COK\",\"CRI\",\"HRV\",\"CUB\",\"CUW\",\"CYP\",\"CZE\",\"DNK\",\"DJI\",\"DMA\",\"DOM\",\"COD\",\"ECU\",\"EGY\",\"SLV\",\"GNQ\",\"ERI\",\"EST\",\"SWZ\",\"ETH\",\"FLK\",\"FRO\",\"FJI\",\"FIN\",\"FRA\",\"GUF\",\"PYF\",\"GAB\",\"GMB\",\"GEO\",\"DEU\",\"GHA\",\"GIB\",\"GRC\",\"GRL\",\"GRD\",\"GLP\",\"GUM\",\"GTM\",\"GGY\",\"GIN\",\"GNB\",\"GUY\",\"HTI\",\"HND\",\"HKG\",\"HUN\",\"ISL\",\"IND\",\"IDN\",\"IRN\",\"IRQ\",\"IRL\",\"IMN\",\"ISR\",\"ITA\",\"CIV\",\"JAM\",\"JPN\",\"JEY\",\"JOR\",\"KAZ\",\"KEN\",\"KIR\",\"KWT\",\"KGZ\",\"LAO\",\"LVA\",\"LBN\",\"LSO\",\"LBR\",\"LBY\",\"LIE\",\"LTU\",\"LUX\",\"MAC\",\"MDG\",\"MWI\",\"MYS\",\"MDV\",\"MLI\",\"MLT\",\"MHL\",\"MTQ\",\"MRT\",\"MUS\",\"MYT\",\"MEX\",\"FSM\",\"MDA\",\"MCO\",\"MNG\",\"MNE\",\"MSR\",\"MAR\",\"MOZ\",\"MMR\",\"NAM\",\"NRU\",\"NPL\",\"NLD\",\"NCL\",\"NZL\",\"NIC\",\"NER\",\"NGA\",\"NIU\",\"PRK\",\"MKD\",\"NFK\",\"NOR\",\"OMN\",\"PAK\",\"PLW\",\"PSE\",\"PAN\",\"PNG\",\"PRY\",\"PER\",\"PHL\",\"POL\",\"PRT\",\"PRI\",\"QAT\",\"COG\",\"REU\",\"ROU\",\"RUS\",\"RWA\",\"BLM\",\"KNA\",\"LCA\",\"MAF\",\"SPM\",\"VCT\",\"WSM\",\"SMR\",\"STP\",\"SAU\",\"SEN\",\"SRB\",\"SYC\",\"SLE\",\"SGP\",\"SXM\",\"SVK\",\"SVN\",\"SLB\",\"SOM\",\"ZAF\",\"KOR\",\"SSD\",\"ESP\",\"LKA\",\"SDN\",\"SUR\",\"SWE\",\"CHE\",\"SYR\",\"TWN\",\"TJK\",\"TZA\",\"THA\",\"TLS\",\"TGO\",\"TKL\",\"TON\",\"TTO\",\"TUN\",\"TUR\",\"TKM\",\"TCA\",\"TUV\",\"UGA\",\"UKR\",\"ARE\",\"GBR\",\"USA\",\"VIR\",\"URY\",\"UZB\",\"VUT\",\"VAT\",\"VEN\",\"VNM\",\"WLF\",\"ESH\",\"YEM\",\"ZMB\",\"ZWE\"],\"name\":\"\",\"z\":[10752971,2324731,13795915,27075,19860,6029700,6283,64516,23842803,2534377,59106,12595034,7465301,5425317,179129,222555,67541860,241397,9170786,9629376,120905,3023443,52019,298894,4585693,3815561,592244,96369875,9581,133343,8582950,5611666,3497834,6708525,6452787,21434577,287262,10533,2067356,3667394,9820481,822534450,20905254,242351,20470,1855697,4492638,8869636,150385,640804,9795744,4922963,144379,68895,4475871,20151733,6172215,34781986,3619090,316955,1272748,1361999,442865,28308246,2274,38416,527634,4606621,50523586,46484,117891,597192,528731,4800426,78294583,8861895,26685,8544873,45434,98794,318310,88300,5453208,52656,4222374,591663,705261,4680812,2782753,3955072,10315366,204468,557501301,115228394,28449705,9811347,2937637,55298,2907307,53324036,5477086,1859091,105416839,68347,1557374,12265305,11473087,57437,802786,3016384,2675283,2397414,2381791,1023481,1463563,1909177,21089,3210147,339342,247284,6639751,4625141,10306508,123243,6153587,315414,23969,326428,1122198,830115,35383,50289306,58989,3711140,24270,1293880,530268,11402,15274351,8411676,27284112,754467,6663,12501285,13037686,110982,2824061,2444767,4669708,55569264,5185,14996879,1656783,10143,3875546,670693,59290872,11366,1118241,1516188,2489059,2408787,13562371,37435586,32482943,8683631,2737619,118007,1396989,473925,19922618,130093010,3896367,2417,44968,103090,5802,5537,98459,142771,18169,77583,6106191,4367744,7193533,54379,2778557,2061831,6260,4522867,1741286,172833,3720977,22368306,32601143,3342410,33792617,12388769,11305206,379918,8027702,6181227,6319199,14957870,2993019,13618192,35791728,554021,2197383,1714,86484,988890,5047404,35540990,2201432,5665,5814,10317212,47279086,298084,55650166,200328340,63446,2790265,12011361,87019,752,11355475,41928849,9377,76371,6843607,4281671,5202918],\"type\":\"choropleth\"}],                        {\"template\":{\"data\":{\"histogram2dcontour\":[{\"type\":\"histogram2dcontour\",\"colorbar\":{\"outlinewidth\":0,\"ticks\":\"\"},\"colorscale\":[[0.0,\"#0d0887\"],[0.1111111111111111,\"#46039f\"],[0.2222222222222222,\"#7201a8\"],[0.3333333333333333,\"#9c179e\"],[0.4444444444444444,\"#bd3786\"],[0.5555555555555556,\"#d8576b\"],[0.6666666666666666,\"#ed7953\"],[0.7777777777777778,\"#fb9f3a\"],[0.8888888888888888,\"#fdca26\"],[1.0,\"#f0f921\"]]}],\"choropleth\":[{\"type\":\"choropleth\",\"colorbar\":{\"outlinewidth\":0,\"ticks\":\"\"}}],\"histogram2d\":[{\"type\":\"histogram2d\",\"colorbar\":{\"outlinewidth\":0,\"ticks\":\"\"},\"colorscale\":[[0.0,\"#0d0887\"],[0.1111111111111111,\"#46039f\"],[0.2222222222222222,\"#7201a8\"],[0.3333333333333333,\"#9c179e\"],[0.4444444444444444,\"#bd3786\"],[0.5555555555555556,\"#d8576b\"],[0.6666666666666666,\"#ed7953\"],[0.7777777777777778,\"#fb9f3a\"],[0.8888888888888888,\"#fdca26\"],[1.0,\"#f0f921\"]]}],\"heatmap\":[{\"type\":\"heatmap\",\"colorbar\":{\"outlinewidth\":0,\"ticks\":\"\"},\"colorscale\":[[0.0,\"#0d0887\"],[0.1111111111111111,\"#46039f\"],[0.2222222222222222,\"#7201a8\"],[0.3333333333333333,\"#9c179e\"],[0.4444444444444444,\"#bd3786\"],[0.5555555555555556,\"#d8576b\"],[0.6666666666666666,\"#ed7953\"],[0.7777777777777778,\"#fb9f3a\"],[0.8888888888888888,\"#fdca26\"],[1.0,\"#f0f921\"]]}],\"heatmapgl\":[{\"type\":\"heatmapgl\",\"colorbar\":{\"outlinewidth\":0,\"ticks\":\"\"},\"colorscale\":[[0.0,\"#0d0887\"],[0.1111111111111111,\"#46039f\"],[0.2222222222222222,\"#7201a8\"],[0.3333333333333333,\"#9c179e\"],[0.4444444444444444,\"#bd3786\"],[0.5555555555555556,\"#d8576b\"],[0.6666666666666666,\"#ed7953\"],[0.7777777777777778,\"#fb9f3a\"],[0.8888888888888888,\"#fdca26\"],[1.0,\"#f0f921\"]]}],\"contourcarpet\":[{\"type\":\"contourcarpet\",\"colorbar\":{\"outlinewidth\":0,\"ticks\":\"\"}}],\"contour\":[{\"type\":\"contour\",\"colorbar\":{\"outlinewidth\":0,\"ticks\":\"\"},\"colorscale\":[[0.0,\"#0d0887\"],[0.1111111111111111,\"#46039f\"],[0.2222222222222222,\"#7201a8\"],[0.3333333333333333,\"#9c179e\"],[0.4444444444444444,\"#bd3786\"],[0.5555555555555556,\"#d8576b\"],[0.6666666666666666,\"#ed7953\"],[0.7777777777777778,\"#fb9f3a\"],[0.8888888888888888,\"#fdca26\"],[1.0,\"#f0f921\"]]}],\"surface\":[{\"type\":\"surface\",\"colorbar\":{\"outlinewidth\":0,\"ticks\":\"\"},\"colorscale\":[[0.0,\"#0d0887\"],[0.1111111111111111,\"#46039f\"],[0.2222222222222222,\"#7201a8\"],[0.3333333333333333,\"#9c179e\"],[0.4444444444444444,\"#bd3786\"],[0.5555555555555556,\"#d8576b\"],[0.6666666666666666,\"#ed7953\"],[0.7777777777777778,\"#fb9f3a\"],[0.8888888888888888,\"#fdca26\"],[1.0,\"#f0f921\"]]}],\"mesh3d\":[{\"type\":\"mesh3d\",\"colorbar\":{\"outlinewidth\":0,\"ticks\":\"\"}}],\"scatter\":[{\"fillpattern\":{\"fillmode\":\"overlay\",\"size\":10,\"solidity\":0.2},\"type\":\"scatter\"}],\"parcoords\":[{\"type\":\"parcoords\",\"line\":{\"colorbar\":{\"outlinewidth\":0,\"ticks\":\"\"}}}],\"scatterpolargl\":[{\"type\":\"scatterpolargl\",\"marker\":{\"colorbar\":{\"outlinewidth\":0,\"ticks\":\"\"}}}],\"bar\":[{\"error_x\":{\"color\":\"#2a3f5f\"},\"error_y\":{\"color\":\"#2a3f5f\"},\"marker\":{\"line\":{\"color\":\"#E5ECF6\",\"width\":0.5},\"pattern\":{\"fillmode\":\"overlay\",\"size\":10,\"solidity\":0.2}},\"type\":\"bar\"}],\"scattergeo\":[{\"type\":\"scattergeo\",\"marker\":{\"colorbar\":{\"outlinewidth\":0,\"ticks\":\"\"}}}],\"scatterpolar\":[{\"type\":\"scatterpolar\",\"marker\":{\"colorbar\":{\"outlinewidth\":0,\"ticks\":\"\"}}}],\"histogram\":[{\"marker\":{\"pattern\":{\"fillmode\":\"overlay\",\"size\":10,\"solidity\":0.2}},\"type\":\"histogram\"}],\"scattergl\":[{\"type\":\"scattergl\",\"marker\":{\"colorbar\":{\"outlinewidth\":0,\"ticks\":\"\"}}}],\"scatter3d\":[{\"type\":\"scatter3d\",\"line\":{\"colorbar\":{\"outlinewidth\":0,\"ticks\":\"\"}},\"marker\":{\"colorbar\":{\"outlinewidth\":0,\"ticks\":\"\"}}}],\"scattermapbox\":[{\"type\":\"scattermapbox\",\"marker\":{\"colorbar\":{\"outlinewidth\":0,\"ticks\":\"\"}}}],\"scatterternary\":[{\"type\":\"scatterternary\",\"marker\":{\"colorbar\":{\"outlinewidth\":0,\"ticks\":\"\"}}}],\"scattercarpet\":[{\"type\":\"scattercarpet\",\"marker\":{\"colorbar\":{\"outlinewidth\":0,\"ticks\":\"\"}}}],\"carpet\":[{\"aaxis\":{\"endlinecolor\":\"#2a3f5f\",\"gridcolor\":\"white\",\"linecolor\":\"white\",\"minorgridcolor\":\"white\",\"startlinecolor\":\"#2a3f5f\"},\"baxis\":{\"endlinecolor\":\"#2a3f5f\",\"gridcolor\":\"white\",\"linecolor\":\"white\",\"minorgridcolor\":\"white\",\"startlinecolor\":\"#2a3f5f\"},\"type\":\"carpet\"}],\"table\":[{\"cells\":{\"fill\":{\"color\":\"#EBF0F8\"},\"line\":{\"color\":\"white\"}},\"header\":{\"fill\":{\"color\":\"#C8D4E3\"},\"line\":{\"color\":\"white\"}},\"type\":\"table\"}],\"barpolar\":[{\"marker\":{\"line\":{\"color\":\"#E5ECF6\",\"width\":0.5},\"pattern\":{\"fillmode\":\"overlay\",\"size\":10,\"solidity\":0.2}},\"type\":\"barpolar\"}],\"pie\":[{\"automargin\":true,\"type\":\"pie\"}]},\"layout\":{\"autotypenumbers\":\"strict\",\"colorway\":[\"#636efa\",\"#EF553B\",\"#00cc96\",\"#ab63fa\",\"#FFA15A\",\"#19d3f3\",\"#FF6692\",\"#B6E880\",\"#FF97FF\",\"#FECB52\"],\"font\":{\"color\":\"#2a3f5f\"},\"hovermode\":\"closest\",\"hoverlabel\":{\"align\":\"left\"},\"paper_bgcolor\":\"white\",\"plot_bgcolor\":\"#E5ECF6\",\"polar\":{\"bgcolor\":\"#E5ECF6\",\"angularaxis\":{\"gridcolor\":\"white\",\"linecolor\":\"white\",\"ticks\":\"\"},\"radialaxis\":{\"gridcolor\":\"white\",\"linecolor\":\"white\",\"ticks\":\"\"}},\"ternary\":{\"bgcolor\":\"#E5ECF6\",\"aaxis\":{\"gridcolor\":\"white\",\"linecolor\":\"white\",\"ticks\":\"\"},\"baxis\":{\"gridcolor\":\"white\",\"linecolor\":\"white\",\"ticks\":\"\"},\"caxis\":{\"gridcolor\":\"white\",\"linecolor\":\"white\",\"ticks\":\"\"}},\"coloraxis\":{\"colorbar\":{\"outlinewidth\":0,\"ticks\":\"\"}},\"colorscale\":{\"sequential\":[[0.0,\"#0d0887\"],[0.1111111111111111,\"#46039f\"],[0.2222222222222222,\"#7201a8\"],[0.3333333333333333,\"#9c179e\"],[0.4444444444444444,\"#bd3786\"],[0.5555555555555556,\"#d8576b\"],[0.6666666666666666,\"#ed7953\"],[0.7777777777777778,\"#fb9f3a\"],[0.8888888888888888,\"#fdca26\"],[1.0,\"#f0f921\"]],\"sequentialminus\":[[0.0,\"#0d0887\"],[0.1111111111111111,\"#46039f\"],[0.2222222222222222,\"#7201a8\"],[0.3333333333333333,\"#9c179e\"],[0.4444444444444444,\"#bd3786\"],[0.5555555555555556,\"#d8576b\"],[0.6666666666666666,\"#ed7953\"],[0.7777777777777778,\"#fb9f3a\"],[0.8888888888888888,\"#fdca26\"],[1.0,\"#f0f921\"]],\"diverging\":[[0,\"#8e0152\"],[0.1,\"#c51b7d\"],[0.2,\"#de77ae\"],[0.3,\"#f1b6da\"],[0.4,\"#fde0ef\"],[0.5,\"#f7f7f7\"],[0.6,\"#e6f5d0\"],[0.7,\"#b8e186\"],[0.8,\"#7fbc41\"],[0.9,\"#4d9221\"],[1,\"#276419\"]]},\"xaxis\":{\"gridcolor\":\"white\",\"linecolor\":\"white\",\"ticks\":\"\",\"title\":{\"standoff\":15},\"zerolinecolor\":\"white\",\"automargin\":true,\"zerolinewidth\":2},\"yaxis\":{\"gridcolor\":\"white\",\"linecolor\":\"white\",\"ticks\":\"\",\"title\":{\"standoff\":15},\"zerolinecolor\":\"white\",\"automargin\":true,\"zerolinewidth\":2},\"scene\":{\"xaxis\":{\"backgroundcolor\":\"#E5ECF6\",\"gridcolor\":\"white\",\"linecolor\":\"white\",\"showbackground\":true,\"ticks\":\"\",\"zerolinecolor\":\"white\",\"gridwidth\":2},\"yaxis\":{\"backgroundcolor\":\"#E5ECF6\",\"gridcolor\":\"white\",\"linecolor\":\"white\",\"showbackground\":true,\"ticks\":\"\",\"zerolinecolor\":\"white\",\"gridwidth\":2},\"zaxis\":{\"backgroundcolor\":\"#E5ECF6\",\"gridcolor\":\"white\",\"linecolor\":\"white\",\"showbackground\":true,\"ticks\":\"\",\"zerolinecolor\":\"white\",\"gridwidth\":2}},\"shapedefaults\":{\"line\":{\"color\":\"#2a3f5f\"}},\"annotationdefaults\":{\"arrowcolor\":\"#2a3f5f\",\"arrowhead\":0,\"arrowwidth\":1},\"geo\":{\"bgcolor\":\"white\",\"landcolor\":\"#E5ECF6\",\"subunitcolor\":\"white\",\"showland\":true,\"showlakes\":true,\"lakecolor\":\"white\"},\"title\":{\"x\":0.05},\"mapbox\":{\"style\":\"light\"}}},\"geo\":{\"domain\":{\"x\":[0.0,1.0],\"y\":[0.0,1.0]},\"projection\":{\"type\":\"equirectangular\"},\"center\":{},\"scope\":\"world\"},\"coloraxis\":{\"colorbar\":{\"title\":{\"text\":\"Population\"}},\"colorscale\":[[0.0,\"#440154\"],[0.1111111111111111,\"#482878\"],[0.2222222222222222,\"#3e4989\"],[0.3333333333333333,\"#31688e\"],[0.4444444444444444,\"#26828e\"],[0.5555555555555556,\"#1f9e89\"],[0.6666666666666666,\"#35b779\"],[0.7777777777777778,\"#6ece58\"],[0.8888888888888888,\"#b5de2b\"],[1.0,\"#fde725\"]],\"cmin\":0,\"cmax\":400000000},\"legend\":{\"tracegroupgap\":0},\"title\":{\"text\":\"World Population by Country (1970-2022) <br>with Animation Slider\"},\"height\":600,\"width\":800,\"updatemenus\":[{\"buttons\":[{\"args\":[null,{\"frame\":{\"duration\":500,\"redraw\":true},\"mode\":\"immediate\",\"fromcurrent\":true,\"transition\":{\"duration\":500,\"easing\":\"linear\"}}],\"label\":\"&#9654;\",\"method\":\"animate\"},{\"args\":[[null],{\"frame\":{\"duration\":0,\"redraw\":true},\"mode\":\"immediate\",\"fromcurrent\":true,\"transition\":{\"duration\":0,\"easing\":\"linear\"}}],\"label\":\"&#9724;\",\"method\":\"animate\"}],\"direction\":\"left\",\"pad\":{\"r\":10,\"t\":70},\"showactive\":false,\"type\":\"buttons\",\"x\":0.1,\"xanchor\":\"right\",\"y\":0,\"yanchor\":\"top\"}],\"sliders\":[{\"active\":0,\"currentvalue\":{\"prefix\":\"Year=\"},\"len\":0.9,\"pad\":{\"b\":10,\"t\":60},\"steps\":[{\"args\":[[\"1970 Population\"],{\"frame\":{\"duration\":0,\"redraw\":true},\"mode\":\"immediate\",\"fromcurrent\":true,\"transition\":{\"duration\":0,\"easing\":\"linear\"}}],\"label\":\"1970 Population\",\"method\":\"animate\"},{\"args\":[[\"1980 Population\"],{\"frame\":{\"duration\":0,\"redraw\":true},\"mode\":\"immediate\",\"fromcurrent\":true,\"transition\":{\"duration\":0,\"easing\":\"linear\"}}],\"label\":\"1980 Population\",\"method\":\"animate\"},{\"args\":[[\"1990 Population\"],{\"frame\":{\"duration\":0,\"redraw\":true},\"mode\":\"immediate\",\"fromcurrent\":true,\"transition\":{\"duration\":0,\"easing\":\"linear\"}}],\"label\":\"1990 Population\",\"method\":\"animate\"},{\"args\":[[\"2000 Population\"],{\"frame\":{\"duration\":0,\"redraw\":true},\"mode\":\"immediate\",\"fromcurrent\":true,\"transition\":{\"duration\":0,\"easing\":\"linear\"}}],\"label\":\"2000 Population\",\"method\":\"animate\"},{\"args\":[[\"2010 Population\"],{\"frame\":{\"duration\":0,\"redraw\":true},\"mode\":\"immediate\",\"fromcurrent\":true,\"transition\":{\"duration\":0,\"easing\":\"linear\"}}],\"label\":\"2010 Population\",\"method\":\"animate\"},{\"args\":[[\"2015 Population\"],{\"frame\":{\"duration\":0,\"redraw\":true},\"mode\":\"immediate\",\"fromcurrent\":true,\"transition\":{\"duration\":0,\"easing\":\"linear\"}}],\"label\":\"2015 Population\",\"method\":\"animate\"},{\"args\":[[\"2020 Population\"],{\"frame\":{\"duration\":0,\"redraw\":true},\"mode\":\"immediate\",\"fromcurrent\":true,\"transition\":{\"duration\":0,\"easing\":\"linear\"}}],\"label\":\"2020 Population\",\"method\":\"animate\"},{\"args\":[[\"2022 Population\"],{\"frame\":{\"duration\":0,\"redraw\":true},\"mode\":\"immediate\",\"fromcurrent\":true,\"transition\":{\"duration\":0,\"easing\":\"linear\"}}],\"label\":\"2022 Population\",\"method\":\"animate\"}],\"x\":0.1,\"xanchor\":\"left\",\"y\":0,\"yanchor\":\"top\"}]},                        {\"responsive\": true}                    ).then(function(){\n",
       "                            Plotly.addFrames('90c08761-3b58-4a22-94f2-be2923565519', [{\"data\":[{\"coloraxis\":\"coloraxis\",\"customdata\":[[\"AFG\"],[\"ALB\"],[\"DZA\"],[\"ASM\"],[\"AND\"],[\"AGO\"],[\"AIA\"],[\"ATG\"],[\"ARG\"],[\"ARM\"],[\"ABW\"],[\"AUS\"],[\"AUT\"],[\"AZE\"],[\"BHS\"],[\"BHR\"],[\"BGD\"],[\"BRB\"],[\"BLR\"],[\"BEL\"],[\"BLZ\"],[\"BEN\"],[\"BMU\"],[\"BTN\"],[\"BOL\"],[\"BIH\"],[\"BWA\"],[\"BRA\"],[\"VGB\"],[\"BRN\"],[\"BGR\"],[\"BFA\"],[\"BDI\"],[\"KHM\"],[\"CMR\"],[\"CAN\"],[\"CPV\"],[\"CYM\"],[\"CAF\"],[\"TCD\"],[\"CHL\"],[\"CHN\"],[\"COL\"],[\"COM\"],[\"COK\"],[\"CRI\"],[\"HRV\"],[\"CUB\"],[\"CUW\"],[\"CYP\"],[\"CZE\"],[\"DNK\"],[\"DJI\"],[\"DMA\"],[\"DOM\"],[\"COD\"],[\"ECU\"],[\"EGY\"],[\"SLV\"],[\"GNQ\"],[\"ERI\"],[\"EST\"],[\"SWZ\"],[\"ETH\"],[\"FLK\"],[\"FRO\"],[\"FJI\"],[\"FIN\"],[\"FRA\"],[\"GUF\"],[\"PYF\"],[\"GAB\"],[\"GMB\"],[\"GEO\"],[\"DEU\"],[\"GHA\"],[\"GIB\"],[\"GRC\"],[\"GRL\"],[\"GRD\"],[\"GLP\"],[\"GUM\"],[\"GTM\"],[\"GGY\"],[\"GIN\"],[\"GNB\"],[\"GUY\"],[\"HTI\"],[\"HND\"],[\"HKG\"],[\"HUN\"],[\"ISL\"],[\"IND\"],[\"IDN\"],[\"IRN\"],[\"IRQ\"],[\"IRL\"],[\"IMN\"],[\"ISR\"],[\"ITA\"],[\"CIV\"],[\"JAM\"],[\"JPN\"],[\"JEY\"],[\"JOR\"],[\"KAZ\"],[\"KEN\"],[\"KIR\"],[\"KWT\"],[\"KGZ\"],[\"LAO\"],[\"LVA\"],[\"LBN\"],[\"LSO\"],[\"LBR\"],[\"LBY\"],[\"LIE\"],[\"LTU\"],[\"LUX\"],[\"MAC\"],[\"MDG\"],[\"MWI\"],[\"MYS\"],[\"MDV\"],[\"MLI\"],[\"MLT\"],[\"MHL\"],[\"MTQ\"],[\"MRT\"],[\"MUS\"],[\"MYT\"],[\"MEX\"],[\"FSM\"],[\"MDA\"],[\"MCO\"],[\"MNG\"],[\"MNE\"],[\"MSR\"],[\"MAR\"],[\"MOZ\"],[\"MMR\"],[\"NAM\"],[\"NRU\"],[\"NPL\"],[\"NLD\"],[\"NCL\"],[\"NZL\"],[\"NIC\"],[\"NER\"],[\"NGA\"],[\"NIU\"],[\"PRK\"],[\"MKD\"],[\"NFK\"],[\"NOR\"],[\"OMN\"],[\"PAK\"],[\"PLW\"],[\"PSE\"],[\"PAN\"],[\"PNG\"],[\"PRY\"],[\"PER\"],[\"PHL\"],[\"POL\"],[\"PRT\"],[\"PRI\"],[\"QAT\"],[\"COG\"],[\"REU\"],[\"ROU\"],[\"RUS\"],[\"RWA\"],[\"BLM\"],[\"KNA\"],[\"LCA\"],[\"MAF\"],[\"SPM\"],[\"VCT\"],[\"WSM\"],[\"SMR\"],[\"STP\"],[\"SAU\"],[\"SEN\"],[\"SRB\"],[\"SYC\"],[\"SLE\"],[\"SGP\"],[\"SXM\"],[\"SVK\"],[\"SVN\"],[\"SLB\"],[\"SOM\"],[\"ZAF\"],[\"KOR\"],[\"SSD\"],[\"ESP\"],[\"LKA\"],[\"SDN\"],[\"SUR\"],[\"SWE\"],[\"CHE\"],[\"SYR\"],[\"TWN\"],[\"TJK\"],[\"TZA\"],[\"THA\"],[\"TLS\"],[\"TGO\"],[\"TKL\"],[\"TON\"],[\"TTO\"],[\"TUN\"],[\"TUR\"],[\"TKM\"],[\"TCA\"],[\"TUV\"],[\"UGA\"],[\"UKR\"],[\"ARE\"],[\"GBR\"],[\"USA\"],[\"VIR\"],[\"URY\"],[\"UZB\"],[\"VUT\"],[\"VAT\"],[\"VEN\"],[\"VNM\"],[\"WLF\"],[\"ESH\"],[\"YEM\"],[\"ZMB\"],[\"ZWE\"]],\"geo\":\"geo\",\"hovertemplate\":\"<b>%{hovertext}</b><br><br>Year=1970 Population<br>Population=%{z}<extra></extra>\",\"hovertext\":[\"Afghanistan\",\"Albania\",\"Algeria\",\"American Samoa\",\"Andorra\",\"Angola\",\"Anguilla\",\"Antigua and Barbuda\",\"Argentina\",\"Armenia\",\"Aruba\",\"Australia\",\"Austria\",\"Azerbaijan\",\"Bahamas\",\"Bahrain\",\"Bangladesh\",\"Barbados\",\"Belarus\",\"Belgium\",\"Belize\",\"Benin\",\"Bermuda\",\"Bhutan\",\"Bolivia\",\"Bosnia and Herzegovina\",\"Botswana\",\"Brazil\",\"British Virgin Islands\",\"Brunei\",\"Bulgaria\",\"Burkina Faso\",\"Burundi\",\"Cambodia\",\"Cameroon\",\"Canada\",\"Cape Verde\",\"Cayman Islands\",\"Central African Republic\",\"Chad\",\"Chile\",\"China\",\"Colombia\",\"Comoros\",\"Cook Islands\",\"Costa Rica\",\"Croatia\",\"Cuba\",\"Curacao\",\"Cyprus\",\"Czech Republic\",\"Denmark\",\"Djibouti\",\"Dominica\",\"Dominican Republic\",\"DR Congo\",\"Ecuador\",\"Egypt\",\"El Salvador\",\"Equatorial Guinea\",\"Eritrea\",\"Estonia\",\"Eswatini\",\"Ethiopia\",\"Falkland Islands\",\"Faroe Islands\",\"Fiji\",\"Finland\",\"France\",\"French Guiana\",\"French Polynesia\",\"Gabon\",\"Gambia\",\"Georgia\",\"Germany\",\"Ghana\",\"Gibraltar\",\"Greece\",\"Greenland\",\"Grenada\",\"Guadeloupe\",\"Guam\",\"Guatemala\",\"Guernsey\",\"Guinea\",\"Guinea-Bissau\",\"Guyana\",\"Haiti\",\"Honduras\",\"Hong Kong\",\"Hungary\",\"Iceland\",\"India\",\"Indonesia\",\"Iran\",\"Iraq\",\"Ireland\",\"Isle of Man\",\"Israel\",\"Italy\",\"Ivory Coast\",\"Jamaica\",\"Japan\",\"Jersey\",\"Jordan\",\"Kazakhstan\",\"Kenya\",\"Kiribati\",\"Kuwait\",\"Kyrgyzstan\",\"Laos\",\"Latvia\",\"Lebanon\",\"Lesotho\",\"Liberia\",\"Libya\",\"Liechtenstein\",\"Lithuania\",\"Luxembourg\",\"Macau\",\"Madagascar\",\"Malawi\",\"Malaysia\",\"Maldives\",\"Mali\",\"Malta\",\"Marshall Islands\",\"Martinique\",\"Mauritania\",\"Mauritius\",\"Mayotte\",\"Mexico\",\"Micronesia\",\"Moldova\",\"Monaco\",\"Mongolia\",\"Montenegro\",\"Montserrat\",\"Morocco\",\"Mozambique\",\"Myanmar\",\"Namibia\",\"Nauru\",\"Nepal\",\"Netherlands\",\"New Caledonia\",\"New Zealand\",\"Nicaragua\",\"Niger\",\"Nigeria\",\"Niue\",\"North Korea\",\"North Macedonia\",\"Northern Mariana Islands\",\"Norway\",\"Oman\",\"Pakistan\",\"Palau\",\"Palestine\",\"Panama\",\"Papua New Guinea\",\"Paraguay\",\"Peru\",\"Philippines\",\"Poland\",\"Portugal\",\"Puerto Rico\",\"Qatar\",\"Republic of the Congo\",\"Reunion\",\"Romania\",\"Russia\",\"Rwanda\",\"Saint Barthelemy\",\"Saint Kitts and Nevis\",\"Saint Lucia\",\"Saint Martin\",\"Saint Pierre and Miquelon\",\"Saint Vincent and the Grenadines\",\"Samoa\",\"San Marino\",\"Sao Tome and Principe\",\"Saudi Arabia\",\"Senegal\",\"Serbia\",\"Seychelles\",\"Sierra Leone\",\"Singapore\",\"Sint Maarten\",\"Slovakia\",\"Slovenia\",\"Solomon Islands\",\"Somalia\",\"South Africa\",\"South Korea\",\"South Sudan\",\"Spain\",\"Sri Lanka\",\"Sudan\",\"Suriname\",\"Sweden\",\"Switzerland\",\"Syria\",\"Taiwan\",\"Tajikistan\",\"Tanzania\",\"Thailand\",\"Timor-Leste\",\"Togo\",\"Tokelau\",\"Tonga\",\"Trinidad and Tobago\",\"Tunisia\",\"Turkey\",\"Turkmenistan\",\"Turks and Caicos Islands\",\"Tuvalu\",\"Uganda\",\"Ukraine\",\"United Arab Emirates\",\"United Kingdom\",\"United States\",\"United States Virgin Islands\",\"Uruguay\",\"Uzbekistan\",\"Vanuatu\",\"Vatican City\",\"Venezuela\",\"Vietnam\",\"Wallis and Futuna\",\"Western Sahara\",\"Yemen\",\"Zambia\",\"Zimbabwe\"],\"locationmode\":\"ISO-3\",\"locations\":[\"AFG\",\"ALB\",\"DZA\",\"ASM\",\"AND\",\"AGO\",\"AIA\",\"ATG\",\"ARG\",\"ARM\",\"ABW\",\"AUS\",\"AUT\",\"AZE\",\"BHS\",\"BHR\",\"BGD\",\"BRB\",\"BLR\",\"BEL\",\"BLZ\",\"BEN\",\"BMU\",\"BTN\",\"BOL\",\"BIH\",\"BWA\",\"BRA\",\"VGB\",\"BRN\",\"BGR\",\"BFA\",\"BDI\",\"KHM\",\"CMR\",\"CAN\",\"CPV\",\"CYM\",\"CAF\",\"TCD\",\"CHL\",\"CHN\",\"COL\",\"COM\",\"COK\",\"CRI\",\"HRV\",\"CUB\",\"CUW\",\"CYP\",\"CZE\",\"DNK\",\"DJI\",\"DMA\",\"DOM\",\"COD\",\"ECU\",\"EGY\",\"SLV\",\"GNQ\",\"ERI\",\"EST\",\"SWZ\",\"ETH\",\"FLK\",\"FRO\",\"FJI\",\"FIN\",\"FRA\",\"GUF\",\"PYF\",\"GAB\",\"GMB\",\"GEO\",\"DEU\",\"GHA\",\"GIB\",\"GRC\",\"GRL\",\"GRD\",\"GLP\",\"GUM\",\"GTM\",\"GGY\",\"GIN\",\"GNB\",\"GUY\",\"HTI\",\"HND\",\"HKG\",\"HUN\",\"ISL\",\"IND\",\"IDN\",\"IRN\",\"IRQ\",\"IRL\",\"IMN\",\"ISR\",\"ITA\",\"CIV\",\"JAM\",\"JPN\",\"JEY\",\"JOR\",\"KAZ\",\"KEN\",\"KIR\",\"KWT\",\"KGZ\",\"LAO\",\"LVA\",\"LBN\",\"LSO\",\"LBR\",\"LBY\",\"LIE\",\"LTU\",\"LUX\",\"MAC\",\"MDG\",\"MWI\",\"MYS\",\"MDV\",\"MLI\",\"MLT\",\"MHL\",\"MTQ\",\"MRT\",\"MUS\",\"MYT\",\"MEX\",\"FSM\",\"MDA\",\"MCO\",\"MNG\",\"MNE\",\"MSR\",\"MAR\",\"MOZ\",\"MMR\",\"NAM\",\"NRU\",\"NPL\",\"NLD\",\"NCL\",\"NZL\",\"NIC\",\"NER\",\"NGA\",\"NIU\",\"PRK\",\"MKD\",\"NFK\",\"NOR\",\"OMN\",\"PAK\",\"PLW\",\"PSE\",\"PAN\",\"PNG\",\"PRY\",\"PER\",\"PHL\",\"POL\",\"PRT\",\"PRI\",\"QAT\",\"COG\",\"REU\",\"ROU\",\"RUS\",\"RWA\",\"BLM\",\"KNA\",\"LCA\",\"MAF\",\"SPM\",\"VCT\",\"WSM\",\"SMR\",\"STP\",\"SAU\",\"SEN\",\"SRB\",\"SYC\",\"SLE\",\"SGP\",\"SXM\",\"SVK\",\"SVN\",\"SLB\",\"SOM\",\"ZAF\",\"KOR\",\"SSD\",\"ESP\",\"LKA\",\"SDN\",\"SUR\",\"SWE\",\"CHE\",\"SYR\",\"TWN\",\"TJK\",\"TZA\",\"THA\",\"TLS\",\"TGO\",\"TKL\",\"TON\",\"TTO\",\"TUN\",\"TUR\",\"TKM\",\"TCA\",\"TUV\",\"UGA\",\"UKR\",\"ARE\",\"GBR\",\"USA\",\"VIR\",\"URY\",\"UZB\",\"VUT\",\"VAT\",\"VEN\",\"VNM\",\"WLF\",\"ESH\",\"YEM\",\"ZMB\",\"ZWE\"],\"name\":\"\",\"z\":[10752971,2324731,13795915,27075,19860,6029700,6283,64516,23842803,2534377,59106,12595034,7465301,5425317,179129,222555,67541860,241397,9170786,9629376,120905,3023443,52019,298894,4585693,3815561,592244,96369875,9581,133343,8582950,5611666,3497834,6708525,6452787,21434577,287262,10533,2067356,3667394,9820481,822534450,20905254,242351,20470,1855697,4492638,8869636,150385,640804,9795744,4922963,144379,68895,4475871,20151733,6172215,34781986,3619090,316955,1272748,1361999,442865,28308246,2274,38416,527634,4606621,50523586,46484,117891,597192,528731,4800426,78294583,8861895,26685,8544873,45434,98794,318310,88300,5453208,52656,4222374,591663,705261,4680812,2782753,3955072,10315366,204468,557501301,115228394,28449705,9811347,2937637,55298,2907307,53324036,5477086,1859091,105416839,68347,1557374,12265305,11473087,57437,802786,3016384,2675283,2397414,2381791,1023481,1463563,1909177,21089,3210147,339342,247284,6639751,4625141,10306508,123243,6153587,315414,23969,326428,1122198,830115,35383,50289306,58989,3711140,24270,1293880,530268,11402,15274351,8411676,27284112,754467,6663,12501285,13037686,110982,2824061,2444767,4669708,55569264,5185,14996879,1656783,10143,3875546,670693,59290872,11366,1118241,1516188,2489059,2408787,13562371,37435586,32482943,8683631,2737619,118007,1396989,473925,19922618,130093010,3896367,2417,44968,103090,5802,5537,98459,142771,18169,77583,6106191,4367744,7193533,54379,2778557,2061831,6260,4522867,1741286,172833,3720977,22368306,32601143,3342410,33792617,12388769,11305206,379918,8027702,6181227,6319199,14957870,2993019,13618192,35791728,554021,2197383,1714,86484,988890,5047404,35540990,2201432,5665,5814,10317212,47279086,298084,55650166,200328340,63446,2790265,12011361,87019,752,11355475,41928849,9377,76371,6843607,4281671,5202918],\"type\":\"choropleth\"}],\"name\":\"1970 Population\"},{\"data\":[{\"coloraxis\":\"coloraxis\",\"customdata\":[[\"AFG\"],[\"ALB\"],[\"DZA\"],[\"ASM\"],[\"AND\"],[\"AGO\"],[\"AIA\"],[\"ATG\"],[\"ARG\"],[\"ARM\"],[\"ABW\"],[\"AUS\"],[\"AUT\"],[\"AZE\"],[\"BHS\"],[\"BHR\"],[\"BGD\"],[\"BRB\"],[\"BLR\"],[\"BEL\"],[\"BLZ\"],[\"BEN\"],[\"BMU\"],[\"BTN\"],[\"BOL\"],[\"BIH\"],[\"BWA\"],[\"BRA\"],[\"VGB\"],[\"BRN\"],[\"BGR\"],[\"BFA\"],[\"BDI\"],[\"KHM\"],[\"CMR\"],[\"CAN\"],[\"CPV\"],[\"CYM\"],[\"CAF\"],[\"TCD\"],[\"CHL\"],[\"CHN\"],[\"COL\"],[\"COM\"],[\"COK\"],[\"CRI\"],[\"HRV\"],[\"CUB\"],[\"CUW\"],[\"CYP\"],[\"CZE\"],[\"DNK\"],[\"DJI\"],[\"DMA\"],[\"DOM\"],[\"COD\"],[\"ECU\"],[\"EGY\"],[\"SLV\"],[\"GNQ\"],[\"ERI\"],[\"EST\"],[\"SWZ\"],[\"ETH\"],[\"FLK\"],[\"FRO\"],[\"FJI\"],[\"FIN\"],[\"FRA\"],[\"GUF\"],[\"PYF\"],[\"GAB\"],[\"GMB\"],[\"GEO\"],[\"DEU\"],[\"GHA\"],[\"GIB\"],[\"GRC\"],[\"GRL\"],[\"GRD\"],[\"GLP\"],[\"GUM\"],[\"GTM\"],[\"GGY\"],[\"GIN\"],[\"GNB\"],[\"GUY\"],[\"HTI\"],[\"HND\"],[\"HKG\"],[\"HUN\"],[\"ISL\"],[\"IND\"],[\"IDN\"],[\"IRN\"],[\"IRQ\"],[\"IRL\"],[\"IMN\"],[\"ISR\"],[\"ITA\"],[\"CIV\"],[\"JAM\"],[\"JPN\"],[\"JEY\"],[\"JOR\"],[\"KAZ\"],[\"KEN\"],[\"KIR\"],[\"KWT\"],[\"KGZ\"],[\"LAO\"],[\"LVA\"],[\"LBN\"],[\"LSO\"],[\"LBR\"],[\"LBY\"],[\"LIE\"],[\"LTU\"],[\"LUX\"],[\"MAC\"],[\"MDG\"],[\"MWI\"],[\"MYS\"],[\"MDV\"],[\"MLI\"],[\"MLT\"],[\"MHL\"],[\"MTQ\"],[\"MRT\"],[\"MUS\"],[\"MYT\"],[\"MEX\"],[\"FSM\"],[\"MDA\"],[\"MCO\"],[\"MNG\"],[\"MNE\"],[\"MSR\"],[\"MAR\"],[\"MOZ\"],[\"MMR\"],[\"NAM\"],[\"NRU\"],[\"NPL\"],[\"NLD\"],[\"NCL\"],[\"NZL\"],[\"NIC\"],[\"NER\"],[\"NGA\"],[\"NIU\"],[\"PRK\"],[\"MKD\"],[\"NFK\"],[\"NOR\"],[\"OMN\"],[\"PAK\"],[\"PLW\"],[\"PSE\"],[\"PAN\"],[\"PNG\"],[\"PRY\"],[\"PER\"],[\"PHL\"],[\"POL\"],[\"PRT\"],[\"PRI\"],[\"QAT\"],[\"COG\"],[\"REU\"],[\"ROU\"],[\"RUS\"],[\"RWA\"],[\"BLM\"],[\"KNA\"],[\"LCA\"],[\"MAF\"],[\"SPM\"],[\"VCT\"],[\"WSM\"],[\"SMR\"],[\"STP\"],[\"SAU\"],[\"SEN\"],[\"SRB\"],[\"SYC\"],[\"SLE\"],[\"SGP\"],[\"SXM\"],[\"SVK\"],[\"SVN\"],[\"SLB\"],[\"SOM\"],[\"ZAF\"],[\"KOR\"],[\"SSD\"],[\"ESP\"],[\"LKA\"],[\"SDN\"],[\"SUR\"],[\"SWE\"],[\"CHE\"],[\"SYR\"],[\"TWN\"],[\"TJK\"],[\"TZA\"],[\"THA\"],[\"TLS\"],[\"TGO\"],[\"TKL\"],[\"TON\"],[\"TTO\"],[\"TUN\"],[\"TUR\"],[\"TKM\"],[\"TCA\"],[\"TUV\"],[\"UGA\"],[\"UKR\"],[\"ARE\"],[\"GBR\"],[\"USA\"],[\"VIR\"],[\"URY\"],[\"UZB\"],[\"VUT\"],[\"VAT\"],[\"VEN\"],[\"VNM\"],[\"WLF\"],[\"ESH\"],[\"YEM\"],[\"ZMB\"],[\"ZWE\"]],\"geo\":\"geo\",\"hovertemplate\":\"<b>%{hovertext}</b><br><br>Year=1980 Population<br>Population=%{z}<extra></extra>\",\"hovertext\":[\"Afghanistan\",\"Albania\",\"Algeria\",\"American Samoa\",\"Andorra\",\"Angola\",\"Anguilla\",\"Antigua and Barbuda\",\"Argentina\",\"Armenia\",\"Aruba\",\"Australia\",\"Austria\",\"Azerbaijan\",\"Bahamas\",\"Bahrain\",\"Bangladesh\",\"Barbados\",\"Belarus\",\"Belgium\",\"Belize\",\"Benin\",\"Bermuda\",\"Bhutan\",\"Bolivia\",\"Bosnia and Herzegovina\",\"Botswana\",\"Brazil\",\"British Virgin Islands\",\"Brunei\",\"Bulgaria\",\"Burkina Faso\",\"Burundi\",\"Cambodia\",\"Cameroon\",\"Canada\",\"Cape Verde\",\"Cayman Islands\",\"Central African Republic\",\"Chad\",\"Chile\",\"China\",\"Colombia\",\"Comoros\",\"Cook Islands\",\"Costa Rica\",\"Croatia\",\"Cuba\",\"Curacao\",\"Cyprus\",\"Czech Republic\",\"Denmark\",\"Djibouti\",\"Dominica\",\"Dominican Republic\",\"DR Congo\",\"Ecuador\",\"Egypt\",\"El Salvador\",\"Equatorial Guinea\",\"Eritrea\",\"Estonia\",\"Eswatini\",\"Ethiopia\",\"Falkland Islands\",\"Faroe Islands\",\"Fiji\",\"Finland\",\"France\",\"French Guiana\",\"French Polynesia\",\"Gabon\",\"Gambia\",\"Georgia\",\"Germany\",\"Ghana\",\"Gibraltar\",\"Greece\",\"Greenland\",\"Grenada\",\"Guadeloupe\",\"Guam\",\"Guatemala\",\"Guernsey\",\"Guinea\",\"Guinea-Bissau\",\"Guyana\",\"Haiti\",\"Honduras\",\"Hong Kong\",\"Hungary\",\"Iceland\",\"India\",\"Indonesia\",\"Iran\",\"Iraq\",\"Ireland\",\"Isle of Man\",\"Israel\",\"Italy\",\"Ivory Coast\",\"Jamaica\",\"Japan\",\"Jersey\",\"Jordan\",\"Kazakhstan\",\"Kenya\",\"Kiribati\",\"Kuwait\",\"Kyrgyzstan\",\"Laos\",\"Latvia\",\"Lebanon\",\"Lesotho\",\"Liberia\",\"Libya\",\"Liechtenstein\",\"Lithuania\",\"Luxembourg\",\"Macau\",\"Madagascar\",\"Malawi\",\"Malaysia\",\"Maldives\",\"Mali\",\"Malta\",\"Marshall Islands\",\"Martinique\",\"Mauritania\",\"Mauritius\",\"Mayotte\",\"Mexico\",\"Micronesia\",\"Moldova\",\"Monaco\",\"Mongolia\",\"Montenegro\",\"Montserrat\",\"Morocco\",\"Mozambique\",\"Myanmar\",\"Namibia\",\"Nauru\",\"Nepal\",\"Netherlands\",\"New Caledonia\",\"New Zealand\",\"Nicaragua\",\"Niger\",\"Nigeria\",\"Niue\",\"North Korea\",\"North Macedonia\",\"Northern Mariana Islands\",\"Norway\",\"Oman\",\"Pakistan\",\"Palau\",\"Palestine\",\"Panama\",\"Papua New Guinea\",\"Paraguay\",\"Peru\",\"Philippines\",\"Poland\",\"Portugal\",\"Puerto Rico\",\"Qatar\",\"Republic of the Congo\",\"Reunion\",\"Romania\",\"Russia\",\"Rwanda\",\"Saint Barthelemy\",\"Saint Kitts and Nevis\",\"Saint Lucia\",\"Saint Martin\",\"Saint Pierre and Miquelon\",\"Saint Vincent and the Grenadines\",\"Samoa\",\"San Marino\",\"Sao Tome and Principe\",\"Saudi Arabia\",\"Senegal\",\"Serbia\",\"Seychelles\",\"Sierra Leone\",\"Singapore\",\"Sint Maarten\",\"Slovakia\",\"Slovenia\",\"Solomon Islands\",\"Somalia\",\"South Africa\",\"South Korea\",\"South Sudan\",\"Spain\",\"Sri Lanka\",\"Sudan\",\"Suriname\",\"Sweden\",\"Switzerland\",\"Syria\",\"Taiwan\",\"Tajikistan\",\"Tanzania\",\"Thailand\",\"Timor-Leste\",\"Togo\",\"Tokelau\",\"Tonga\",\"Trinidad and Tobago\",\"Tunisia\",\"Turkey\",\"Turkmenistan\",\"Turks and Caicos Islands\",\"Tuvalu\",\"Uganda\",\"Ukraine\",\"United Arab Emirates\",\"United Kingdom\",\"United States\",\"United States Virgin Islands\",\"Uruguay\",\"Uzbekistan\",\"Vanuatu\",\"Vatican City\",\"Venezuela\",\"Vietnam\",\"Wallis and Futuna\",\"Western Sahara\",\"Yemen\",\"Zambia\",\"Zimbabwe\"],\"locationmode\":\"ISO-3\",\"locations\":[\"AFG\",\"ALB\",\"DZA\",\"ASM\",\"AND\",\"AGO\",\"AIA\",\"ATG\",\"ARG\",\"ARM\",\"ABW\",\"AUS\",\"AUT\",\"AZE\",\"BHS\",\"BHR\",\"BGD\",\"BRB\",\"BLR\",\"BEL\",\"BLZ\",\"BEN\",\"BMU\",\"BTN\",\"BOL\",\"BIH\",\"BWA\",\"BRA\",\"VGB\",\"BRN\",\"BGR\",\"BFA\",\"BDI\",\"KHM\",\"CMR\",\"CAN\",\"CPV\",\"CYM\",\"CAF\",\"TCD\",\"CHL\",\"CHN\",\"COL\",\"COM\",\"COK\",\"CRI\",\"HRV\",\"CUB\",\"CUW\",\"CYP\",\"CZE\",\"DNK\",\"DJI\",\"DMA\",\"DOM\",\"COD\",\"ECU\",\"EGY\",\"SLV\",\"GNQ\",\"ERI\",\"EST\",\"SWZ\",\"ETH\",\"FLK\",\"FRO\",\"FJI\",\"FIN\",\"FRA\",\"GUF\",\"PYF\",\"GAB\",\"GMB\",\"GEO\",\"DEU\",\"GHA\",\"GIB\",\"GRC\",\"GRL\",\"GRD\",\"GLP\",\"GUM\",\"GTM\",\"GGY\",\"GIN\",\"GNB\",\"GUY\",\"HTI\",\"HND\",\"HKG\",\"HUN\",\"ISL\",\"IND\",\"IDN\",\"IRN\",\"IRQ\",\"IRL\",\"IMN\",\"ISR\",\"ITA\",\"CIV\",\"JAM\",\"JPN\",\"JEY\",\"JOR\",\"KAZ\",\"KEN\",\"KIR\",\"KWT\",\"KGZ\",\"LAO\",\"LVA\",\"LBN\",\"LSO\",\"LBR\",\"LBY\",\"LIE\",\"LTU\",\"LUX\",\"MAC\",\"MDG\",\"MWI\",\"MYS\",\"MDV\",\"MLI\",\"MLT\",\"MHL\",\"MTQ\",\"MRT\",\"MUS\",\"MYT\",\"MEX\",\"FSM\",\"MDA\",\"MCO\",\"MNG\",\"MNE\",\"MSR\",\"MAR\",\"MOZ\",\"MMR\",\"NAM\",\"NRU\",\"NPL\",\"NLD\",\"NCL\",\"NZL\",\"NIC\",\"NER\",\"NGA\",\"NIU\",\"PRK\",\"MKD\",\"NFK\",\"NOR\",\"OMN\",\"PAK\",\"PLW\",\"PSE\",\"PAN\",\"PNG\",\"PRY\",\"PER\",\"PHL\",\"POL\",\"PRT\",\"PRI\",\"QAT\",\"COG\",\"REU\",\"ROU\",\"RUS\",\"RWA\",\"BLM\",\"KNA\",\"LCA\",\"MAF\",\"SPM\",\"VCT\",\"WSM\",\"SMR\",\"STP\",\"SAU\",\"SEN\",\"SRB\",\"SYC\",\"SLE\",\"SGP\",\"SXM\",\"SVK\",\"SVN\",\"SLB\",\"SOM\",\"ZAF\",\"KOR\",\"SSD\",\"ESP\",\"LKA\",\"SDN\",\"SUR\",\"SWE\",\"CHE\",\"SYR\",\"TWN\",\"TJK\",\"TZA\",\"THA\",\"TLS\",\"TGO\",\"TKL\",\"TON\",\"TTO\",\"TUN\",\"TUR\",\"TKM\",\"TCA\",\"TUV\",\"UGA\",\"UKR\",\"ARE\",\"GBR\",\"USA\",\"VIR\",\"URY\",\"UZB\",\"VUT\",\"VAT\",\"VEN\",\"VNM\",\"WLF\",\"ESH\",\"YEM\",\"ZMB\",\"ZWE\"],\"name\":\"\",\"z\":[12486631,2941651,18739378,32886,35611,8330047,6560,64888,28024803,3135123,62267,14706322,7547561,6383060,223752,362595,83929765,253575,9817257,9828986,145133,3833939,53565,415257,5736088,4199820,938578,122288383,11109,187921,8980606,6932967,4312834,6198959,8519891,24511510,317234,17100,2415276,4408230,11469828,982372466,26176195,328328,17651,2414303,4680144,9809107,156851,679327,10270060,5125392,324121,72978,5755800,26708686,8135845,43748556,4508992,282509,1657982,1476983,598564,34945469,2240,43054,644582,4779418,53713830,66825,163591,749078,718586,5145843,77786703,11865246,28734,9307148,50106,94838,334234,110286,6987767,52860,4972609,831462,778176,5646676,3777990,4978544,10698679,228263,696828385,148177096,38520664,13653369,3391387,64022,3744608,56329482,8303809,2135546,117624196,75124,2216903,14172710,16187124,60813,1493870,3691209,3297519,2572037,2963702,1407672,1932169,2962720,25003,3521206,363741,245332,8948162,6267369,13215707,164887,7372581,333587,31988,333786,1506694,954865,52233,67705186,76299,4103240,27076,1697780,589324,11452,19678444,11413587,33465781,975994,7635,15600442,14130387,148599,3147168,3303309,6173177,72951439,3637,17973650,1907023,17613,4085776,1017462,80624057,12252,1453620,1956987,3104788,3078912,17492406,48419546,35521429,9785252,3214568,277450,1829256,551674,22125224,138257420,5247532,2983,43097,121633,7776,6106,107480,164905,21346,97210,10171710,5703869,7777010,65290,3367477,2400729,12243,4973883,1901570,233668,5892224,29463549,38170501,4192011,37491666,14943645,16673586,375112,8311763,6319113,8898954,18100281,4045965,19297659,45737753,642224,2838110,1647,96708,1127852,6578156,44089069,2862903,7598,7731,13284026,49973920,1014048,56326328,223140018,96640,2953750,15947129,118156,733,15210443,52968270,11315,116775,9204938,5720438,7049926],\"type\":\"choropleth\"}],\"name\":\"1980 Population\"},{\"data\":[{\"coloraxis\":\"coloraxis\",\"customdata\":[[\"AFG\"],[\"ALB\"],[\"DZA\"],[\"ASM\"],[\"AND\"],[\"AGO\"],[\"AIA\"],[\"ATG\"],[\"ARG\"],[\"ARM\"],[\"ABW\"],[\"AUS\"],[\"AUT\"],[\"AZE\"],[\"BHS\"],[\"BHR\"],[\"BGD\"],[\"BRB\"],[\"BLR\"],[\"BEL\"],[\"BLZ\"],[\"BEN\"],[\"BMU\"],[\"BTN\"],[\"BOL\"],[\"BIH\"],[\"BWA\"],[\"BRA\"],[\"VGB\"],[\"BRN\"],[\"BGR\"],[\"BFA\"],[\"BDI\"],[\"KHM\"],[\"CMR\"],[\"CAN\"],[\"CPV\"],[\"CYM\"],[\"CAF\"],[\"TCD\"],[\"CHL\"],[\"CHN\"],[\"COL\"],[\"COM\"],[\"COK\"],[\"CRI\"],[\"HRV\"],[\"CUB\"],[\"CUW\"],[\"CYP\"],[\"CZE\"],[\"DNK\"],[\"DJI\"],[\"DMA\"],[\"DOM\"],[\"COD\"],[\"ECU\"],[\"EGY\"],[\"SLV\"],[\"GNQ\"],[\"ERI\"],[\"EST\"],[\"SWZ\"],[\"ETH\"],[\"FLK\"],[\"FRO\"],[\"FJI\"],[\"FIN\"],[\"FRA\"],[\"GUF\"],[\"PYF\"],[\"GAB\"],[\"GMB\"],[\"GEO\"],[\"DEU\"],[\"GHA\"],[\"GIB\"],[\"GRC\"],[\"GRL\"],[\"GRD\"],[\"GLP\"],[\"GUM\"],[\"GTM\"],[\"GGY\"],[\"GIN\"],[\"GNB\"],[\"GUY\"],[\"HTI\"],[\"HND\"],[\"HKG\"],[\"HUN\"],[\"ISL\"],[\"IND\"],[\"IDN\"],[\"IRN\"],[\"IRQ\"],[\"IRL\"],[\"IMN\"],[\"ISR\"],[\"ITA\"],[\"CIV\"],[\"JAM\"],[\"JPN\"],[\"JEY\"],[\"JOR\"],[\"KAZ\"],[\"KEN\"],[\"KIR\"],[\"KWT\"],[\"KGZ\"],[\"LAO\"],[\"LVA\"],[\"LBN\"],[\"LSO\"],[\"LBR\"],[\"LBY\"],[\"LIE\"],[\"LTU\"],[\"LUX\"],[\"MAC\"],[\"MDG\"],[\"MWI\"],[\"MYS\"],[\"MDV\"],[\"MLI\"],[\"MLT\"],[\"MHL\"],[\"MTQ\"],[\"MRT\"],[\"MUS\"],[\"MYT\"],[\"MEX\"],[\"FSM\"],[\"MDA\"],[\"MCO\"],[\"MNG\"],[\"MNE\"],[\"MSR\"],[\"MAR\"],[\"MOZ\"],[\"MMR\"],[\"NAM\"],[\"NRU\"],[\"NPL\"],[\"NLD\"],[\"NCL\"],[\"NZL\"],[\"NIC\"],[\"NER\"],[\"NGA\"],[\"NIU\"],[\"PRK\"],[\"MKD\"],[\"NFK\"],[\"NOR\"],[\"OMN\"],[\"PAK\"],[\"PLW\"],[\"PSE\"],[\"PAN\"],[\"PNG\"],[\"PRY\"],[\"PER\"],[\"PHL\"],[\"POL\"],[\"PRT\"],[\"PRI\"],[\"QAT\"],[\"COG\"],[\"REU\"],[\"ROU\"],[\"RUS\"],[\"RWA\"],[\"BLM\"],[\"KNA\"],[\"LCA\"],[\"MAF\"],[\"SPM\"],[\"VCT\"],[\"WSM\"],[\"SMR\"],[\"STP\"],[\"SAU\"],[\"SEN\"],[\"SRB\"],[\"SYC\"],[\"SLE\"],[\"SGP\"],[\"SXM\"],[\"SVK\"],[\"SVN\"],[\"SLB\"],[\"SOM\"],[\"ZAF\"],[\"KOR\"],[\"SSD\"],[\"ESP\"],[\"LKA\"],[\"SDN\"],[\"SUR\"],[\"SWE\"],[\"CHE\"],[\"SYR\"],[\"TWN\"],[\"TJK\"],[\"TZA\"],[\"THA\"],[\"TLS\"],[\"TGO\"],[\"TKL\"],[\"TON\"],[\"TTO\"],[\"TUN\"],[\"TUR\"],[\"TKM\"],[\"TCA\"],[\"TUV\"],[\"UGA\"],[\"UKR\"],[\"ARE\"],[\"GBR\"],[\"USA\"],[\"VIR\"],[\"URY\"],[\"UZB\"],[\"VUT\"],[\"VAT\"],[\"VEN\"],[\"VNM\"],[\"WLF\"],[\"ESH\"],[\"YEM\"],[\"ZMB\"],[\"ZWE\"]],\"geo\":\"geo\",\"hovertemplate\":\"<b>%{hovertext}</b><br><br>Year=1990 Population<br>Population=%{z}<extra></extra>\",\"hovertext\":[\"Afghanistan\",\"Albania\",\"Algeria\",\"American Samoa\",\"Andorra\",\"Angola\",\"Anguilla\",\"Antigua and Barbuda\",\"Argentina\",\"Armenia\",\"Aruba\",\"Australia\",\"Austria\",\"Azerbaijan\",\"Bahamas\",\"Bahrain\",\"Bangladesh\",\"Barbados\",\"Belarus\",\"Belgium\",\"Belize\",\"Benin\",\"Bermuda\",\"Bhutan\",\"Bolivia\",\"Bosnia and Herzegovina\",\"Botswana\",\"Brazil\",\"British Virgin Islands\",\"Brunei\",\"Bulgaria\",\"Burkina Faso\",\"Burundi\",\"Cambodia\",\"Cameroon\",\"Canada\",\"Cape Verde\",\"Cayman Islands\",\"Central African Republic\",\"Chad\",\"Chile\",\"China\",\"Colombia\",\"Comoros\",\"Cook Islands\",\"Costa Rica\",\"Croatia\",\"Cuba\",\"Curacao\",\"Cyprus\",\"Czech Republic\",\"Denmark\",\"Djibouti\",\"Dominica\",\"Dominican Republic\",\"DR Congo\",\"Ecuador\",\"Egypt\",\"El Salvador\",\"Equatorial Guinea\",\"Eritrea\",\"Estonia\",\"Eswatini\",\"Ethiopia\",\"Falkland Islands\",\"Faroe Islands\",\"Fiji\",\"Finland\",\"France\",\"French Guiana\",\"French Polynesia\",\"Gabon\",\"Gambia\",\"Georgia\",\"Germany\",\"Ghana\",\"Gibraltar\",\"Greece\",\"Greenland\",\"Grenada\",\"Guadeloupe\",\"Guam\",\"Guatemala\",\"Guernsey\",\"Guinea\",\"Guinea-Bissau\",\"Guyana\",\"Haiti\",\"Honduras\",\"Hong Kong\",\"Hungary\",\"Iceland\",\"India\",\"Indonesia\",\"Iran\",\"Iraq\",\"Ireland\",\"Isle of Man\",\"Israel\",\"Italy\",\"Ivory Coast\",\"Jamaica\",\"Japan\",\"Jersey\",\"Jordan\",\"Kazakhstan\",\"Kenya\",\"Kiribati\",\"Kuwait\",\"Kyrgyzstan\",\"Laos\",\"Latvia\",\"Lebanon\",\"Lesotho\",\"Liberia\",\"Libya\",\"Liechtenstein\",\"Lithuania\",\"Luxembourg\",\"Macau\",\"Madagascar\",\"Malawi\",\"Malaysia\",\"Maldives\",\"Mali\",\"Malta\",\"Marshall Islands\",\"Martinique\",\"Mauritania\",\"Mauritius\",\"Mayotte\",\"Mexico\",\"Micronesia\",\"Moldova\",\"Monaco\",\"Mongolia\",\"Montenegro\",\"Montserrat\",\"Morocco\",\"Mozambique\",\"Myanmar\",\"Namibia\",\"Nauru\",\"Nepal\",\"Netherlands\",\"New Caledonia\",\"New Zealand\",\"Nicaragua\",\"Niger\",\"Nigeria\",\"Niue\",\"North Korea\",\"North Macedonia\",\"Northern Mariana Islands\",\"Norway\",\"Oman\",\"Pakistan\",\"Palau\",\"Palestine\",\"Panama\",\"Papua New Guinea\",\"Paraguay\",\"Peru\",\"Philippines\",\"Poland\",\"Portugal\",\"Puerto Rico\",\"Qatar\",\"Republic of the Congo\",\"Reunion\",\"Romania\",\"Russia\",\"Rwanda\",\"Saint Barthelemy\",\"Saint Kitts and Nevis\",\"Saint Lucia\",\"Saint Martin\",\"Saint Pierre and Miquelon\",\"Saint Vincent and the Grenadines\",\"Samoa\",\"San Marino\",\"Sao Tome and Principe\",\"Saudi Arabia\",\"Senegal\",\"Serbia\",\"Seychelles\",\"Sierra Leone\",\"Singapore\",\"Sint Maarten\",\"Slovakia\",\"Slovenia\",\"Solomon Islands\",\"Somalia\",\"South Africa\",\"South Korea\",\"South Sudan\",\"Spain\",\"Sri Lanka\",\"Sudan\",\"Suriname\",\"Sweden\",\"Switzerland\",\"Syria\",\"Taiwan\",\"Tajikistan\",\"Tanzania\",\"Thailand\",\"Timor-Leste\",\"Togo\",\"Tokelau\",\"Tonga\",\"Trinidad and Tobago\",\"Tunisia\",\"Turkey\",\"Turkmenistan\",\"Turks and Caicos Islands\",\"Tuvalu\",\"Uganda\",\"Ukraine\",\"United Arab Emirates\",\"United Kingdom\",\"United States\",\"United States Virgin Islands\",\"Uruguay\",\"Uzbekistan\",\"Vanuatu\",\"Vatican City\",\"Venezuela\",\"Vietnam\",\"Wallis and Futuna\",\"Western Sahara\",\"Yemen\",\"Zambia\",\"Zimbabwe\"],\"locationmode\":\"ISO-3\",\"locations\":[\"AFG\",\"ALB\",\"DZA\",\"ASM\",\"AND\",\"AGO\",\"AIA\",\"ATG\",\"ARG\",\"ARM\",\"ABW\",\"AUS\",\"AUT\",\"AZE\",\"BHS\",\"BHR\",\"BGD\",\"BRB\",\"BLR\",\"BEL\",\"BLZ\",\"BEN\",\"BMU\",\"BTN\",\"BOL\",\"BIH\",\"BWA\",\"BRA\",\"VGB\",\"BRN\",\"BGR\",\"BFA\",\"BDI\",\"KHM\",\"CMR\",\"CAN\",\"CPV\",\"CYM\",\"CAF\",\"TCD\",\"CHL\",\"CHN\",\"COL\",\"COM\",\"COK\",\"CRI\",\"HRV\",\"CUB\",\"CUW\",\"CYP\",\"CZE\",\"DNK\",\"DJI\",\"DMA\",\"DOM\",\"COD\",\"ECU\",\"EGY\",\"SLV\",\"GNQ\",\"ERI\",\"EST\",\"SWZ\",\"ETH\",\"FLK\",\"FRO\",\"FJI\",\"FIN\",\"FRA\",\"GUF\",\"PYF\",\"GAB\",\"GMB\",\"GEO\",\"DEU\",\"GHA\",\"GIB\",\"GRC\",\"GRL\",\"GRD\",\"GLP\",\"GUM\",\"GTM\",\"GGY\",\"GIN\",\"GNB\",\"GUY\",\"HTI\",\"HND\",\"HKG\",\"HUN\",\"ISL\",\"IND\",\"IDN\",\"IRN\",\"IRQ\",\"IRL\",\"IMN\",\"ISR\",\"ITA\",\"CIV\",\"JAM\",\"JPN\",\"JEY\",\"JOR\",\"KAZ\",\"KEN\",\"KIR\",\"KWT\",\"KGZ\",\"LAO\",\"LVA\",\"LBN\",\"LSO\",\"LBR\",\"LBY\",\"LIE\",\"LTU\",\"LUX\",\"MAC\",\"MDG\",\"MWI\",\"MYS\",\"MDV\",\"MLI\",\"MLT\",\"MHL\",\"MTQ\",\"MRT\",\"MUS\",\"MYT\",\"MEX\",\"FSM\",\"MDA\",\"MCO\",\"MNG\",\"MNE\",\"MSR\",\"MAR\",\"MOZ\",\"MMR\",\"NAM\",\"NRU\",\"NPL\",\"NLD\",\"NCL\",\"NZL\",\"NIC\",\"NER\",\"NGA\",\"NIU\",\"PRK\",\"MKD\",\"NFK\",\"NOR\",\"OMN\",\"PAK\",\"PLW\",\"PSE\",\"PAN\",\"PNG\",\"PRY\",\"PER\",\"PHL\",\"POL\",\"PRT\",\"PRI\",\"QAT\",\"COG\",\"REU\",\"ROU\",\"RUS\",\"RWA\",\"BLM\",\"KNA\",\"LCA\",\"MAF\",\"SPM\",\"VCT\",\"WSM\",\"SMR\",\"STP\",\"SAU\",\"SEN\",\"SRB\",\"SYC\",\"SLE\",\"SGP\",\"SXM\",\"SVK\",\"SVN\",\"SLB\",\"SOM\",\"ZAF\",\"KOR\",\"SSD\",\"ESP\",\"LKA\",\"SDN\",\"SUR\",\"SWE\",\"CHE\",\"SYR\",\"TWN\",\"TJK\",\"TZA\",\"THA\",\"TLS\",\"TGO\",\"TKL\",\"TON\",\"TTO\",\"TUN\",\"TUR\",\"TKM\",\"TCA\",\"TUV\",\"UGA\",\"UKR\",\"ARE\",\"GBR\",\"USA\",\"VIR\",\"URY\",\"UZB\",\"VUT\",\"VAT\",\"VEN\",\"VNM\",\"WLF\",\"ESH\",\"YEM\",\"ZMB\",\"ZWE\"],\"name\":\"\",\"z\":[10694796,3295066,25518074,47818,53569,11828638,8316,63328,32637657,3556539,65712,17048003,7678729,7427836,270679,517418,107147651,258868,10428525,9959560,182589,5133419,57470,558442,7096194,4494310,1341474,150706446,15617,261928,8767778,9131361,5483793,8910808,11430520,27657204,364563,26027,2809221,5827069,13342868,1153704252,32601393,431119,17123,3158253,4873707,10626680,155446,788500,10301192,5144623,577173,69481,7129004,35987541,10449837,57214630,5367179,465549,2149960,1570674,854011,47878073,2332,47479,780430,4986545,56412897,113931,211089,983028,1040616,5391636,79370196,15446982,27317,10302255,55599,99047,391951,138263,9084780,57727,6354145,973551,747116,6925331,5053234,5838574,10375989,255019,870452165,182159874,55793629,17658381,3485374,68865,4803254,56756561,11910540,2392030,123686321,82874,3480587,16866563,23162269,75124,1674938,4394734,4314443,2689391,3593700,1798997,2209731,4236983,28765,3785847,381267,350227,11882762,9539665,17517054,224957,8945026,365392,46047,374271,2006027,1090290,92659,81720428,98603,4480199,30329,2161433,621442,10805,24570814,13303459,40099553,1369011,9598,19616530,14944548,177264,3397389,4227820,8370647,95214257,2533,20799523,2044174,48002,4241636,1804524,115414069,15293,2124609,2449968,3864972,4059195,22109099,61558898,38064255,10007346,3543776,441675,2385435,658992,22836234,148005704,7319962,5168,40636,142301,28127,6324,112487,168186,23132,120343,16004763,7536001,7987529,71057,4325388,3022209,27845,5261305,1986024,324171,6999096,39877570,44120039,4750817,38889889,17204094,21090886,412756,8548406,6711693,12408996,20586174,5417860,26206012,55228410,758106,3875947,1669,98727,1266518,8440023,54324142,3720278,11709,9182,17586630,51589817,1900151,57210442,248083732,100685,3117012,20579100,150882,700,19750579,66912613,13454,178529,13375121,7686401,10113893],\"type\":\"choropleth\"}],\"name\":\"1990 Population\"},{\"data\":[{\"coloraxis\":\"coloraxis\",\"customdata\":[[\"AFG\"],[\"ALB\"],[\"DZA\"],[\"ASM\"],[\"AND\"],[\"AGO\"],[\"AIA\"],[\"ATG\"],[\"ARG\"],[\"ARM\"],[\"ABW\"],[\"AUS\"],[\"AUT\"],[\"AZE\"],[\"BHS\"],[\"BHR\"],[\"BGD\"],[\"BRB\"],[\"BLR\"],[\"BEL\"],[\"BLZ\"],[\"BEN\"],[\"BMU\"],[\"BTN\"],[\"BOL\"],[\"BIH\"],[\"BWA\"],[\"BRA\"],[\"VGB\"],[\"BRN\"],[\"BGR\"],[\"BFA\"],[\"BDI\"],[\"KHM\"],[\"CMR\"],[\"CAN\"],[\"CPV\"],[\"CYM\"],[\"CAF\"],[\"TCD\"],[\"CHL\"],[\"CHN\"],[\"COL\"],[\"COM\"],[\"COK\"],[\"CRI\"],[\"HRV\"],[\"CUB\"],[\"CUW\"],[\"CYP\"],[\"CZE\"],[\"DNK\"],[\"DJI\"],[\"DMA\"],[\"DOM\"],[\"COD\"],[\"ECU\"],[\"EGY\"],[\"SLV\"],[\"GNQ\"],[\"ERI\"],[\"EST\"],[\"SWZ\"],[\"ETH\"],[\"FLK\"],[\"FRO\"],[\"FJI\"],[\"FIN\"],[\"FRA\"],[\"GUF\"],[\"PYF\"],[\"GAB\"],[\"GMB\"],[\"GEO\"],[\"DEU\"],[\"GHA\"],[\"GIB\"],[\"GRC\"],[\"GRL\"],[\"GRD\"],[\"GLP\"],[\"GUM\"],[\"GTM\"],[\"GGY\"],[\"GIN\"],[\"GNB\"],[\"GUY\"],[\"HTI\"],[\"HND\"],[\"HKG\"],[\"HUN\"],[\"ISL\"],[\"IND\"],[\"IDN\"],[\"IRN\"],[\"IRQ\"],[\"IRL\"],[\"IMN\"],[\"ISR\"],[\"ITA\"],[\"CIV\"],[\"JAM\"],[\"JPN\"],[\"JEY\"],[\"JOR\"],[\"KAZ\"],[\"KEN\"],[\"KIR\"],[\"KWT\"],[\"KGZ\"],[\"LAO\"],[\"LVA\"],[\"LBN\"],[\"LSO\"],[\"LBR\"],[\"LBY\"],[\"LIE\"],[\"LTU\"],[\"LUX\"],[\"MAC\"],[\"MDG\"],[\"MWI\"],[\"MYS\"],[\"MDV\"],[\"MLI\"],[\"MLT\"],[\"MHL\"],[\"MTQ\"],[\"MRT\"],[\"MUS\"],[\"MYT\"],[\"MEX\"],[\"FSM\"],[\"MDA\"],[\"MCO\"],[\"MNG\"],[\"MNE\"],[\"MSR\"],[\"MAR\"],[\"MOZ\"],[\"MMR\"],[\"NAM\"],[\"NRU\"],[\"NPL\"],[\"NLD\"],[\"NCL\"],[\"NZL\"],[\"NIC\"],[\"NER\"],[\"NGA\"],[\"NIU\"],[\"PRK\"],[\"MKD\"],[\"NFK\"],[\"NOR\"],[\"OMN\"],[\"PAK\"],[\"PLW\"],[\"PSE\"],[\"PAN\"],[\"PNG\"],[\"PRY\"],[\"PER\"],[\"PHL\"],[\"POL\"],[\"PRT\"],[\"PRI\"],[\"QAT\"],[\"COG\"],[\"REU\"],[\"ROU\"],[\"RUS\"],[\"RWA\"],[\"BLM\"],[\"KNA\"],[\"LCA\"],[\"MAF\"],[\"SPM\"],[\"VCT\"],[\"WSM\"],[\"SMR\"],[\"STP\"],[\"SAU\"],[\"SEN\"],[\"SRB\"],[\"SYC\"],[\"SLE\"],[\"SGP\"],[\"SXM\"],[\"SVK\"],[\"SVN\"],[\"SLB\"],[\"SOM\"],[\"ZAF\"],[\"KOR\"],[\"SSD\"],[\"ESP\"],[\"LKA\"],[\"SDN\"],[\"SUR\"],[\"SWE\"],[\"CHE\"],[\"SYR\"],[\"TWN\"],[\"TJK\"],[\"TZA\"],[\"THA\"],[\"TLS\"],[\"TGO\"],[\"TKL\"],[\"TON\"],[\"TTO\"],[\"TUN\"],[\"TUR\"],[\"TKM\"],[\"TCA\"],[\"TUV\"],[\"UGA\"],[\"UKR\"],[\"ARE\"],[\"GBR\"],[\"USA\"],[\"VIR\"],[\"URY\"],[\"UZB\"],[\"VUT\"],[\"VAT\"],[\"VEN\"],[\"VNM\"],[\"WLF\"],[\"ESH\"],[\"YEM\"],[\"ZMB\"],[\"ZWE\"]],\"geo\":\"geo\",\"hovertemplate\":\"<b>%{hovertext}</b><br><br>Year=2000 Population<br>Population=%{z}<extra></extra>\",\"hovertext\":[\"Afghanistan\",\"Albania\",\"Algeria\",\"American Samoa\",\"Andorra\",\"Angola\",\"Anguilla\",\"Antigua and Barbuda\",\"Argentina\",\"Armenia\",\"Aruba\",\"Australia\",\"Austria\",\"Azerbaijan\",\"Bahamas\",\"Bahrain\",\"Bangladesh\",\"Barbados\",\"Belarus\",\"Belgium\",\"Belize\",\"Benin\",\"Bermuda\",\"Bhutan\",\"Bolivia\",\"Bosnia and Herzegovina\",\"Botswana\",\"Brazil\",\"British Virgin Islands\",\"Brunei\",\"Bulgaria\",\"Burkina Faso\",\"Burundi\",\"Cambodia\",\"Cameroon\",\"Canada\",\"Cape Verde\",\"Cayman Islands\",\"Central African Republic\",\"Chad\",\"Chile\",\"China\",\"Colombia\",\"Comoros\",\"Cook Islands\",\"Costa Rica\",\"Croatia\",\"Cuba\",\"Curacao\",\"Cyprus\",\"Czech Republic\",\"Denmark\",\"Djibouti\",\"Dominica\",\"Dominican Republic\",\"DR Congo\",\"Ecuador\",\"Egypt\",\"El Salvador\",\"Equatorial Guinea\",\"Eritrea\",\"Estonia\",\"Eswatini\",\"Ethiopia\",\"Falkland Islands\",\"Faroe Islands\",\"Fiji\",\"Finland\",\"France\",\"French Guiana\",\"French Polynesia\",\"Gabon\",\"Gambia\",\"Georgia\",\"Germany\",\"Ghana\",\"Gibraltar\",\"Greece\",\"Greenland\",\"Grenada\",\"Guadeloupe\",\"Guam\",\"Guatemala\",\"Guernsey\",\"Guinea\",\"Guinea-Bissau\",\"Guyana\",\"Haiti\",\"Honduras\",\"Hong Kong\",\"Hungary\",\"Iceland\",\"India\",\"Indonesia\",\"Iran\",\"Iraq\",\"Ireland\",\"Isle of Man\",\"Israel\",\"Italy\",\"Ivory Coast\",\"Jamaica\",\"Japan\",\"Jersey\",\"Jordan\",\"Kazakhstan\",\"Kenya\",\"Kiribati\",\"Kuwait\",\"Kyrgyzstan\",\"Laos\",\"Latvia\",\"Lebanon\",\"Lesotho\",\"Liberia\",\"Libya\",\"Liechtenstein\",\"Lithuania\",\"Luxembourg\",\"Macau\",\"Madagascar\",\"Malawi\",\"Malaysia\",\"Maldives\",\"Mali\",\"Malta\",\"Marshall Islands\",\"Martinique\",\"Mauritania\",\"Mauritius\",\"Mayotte\",\"Mexico\",\"Micronesia\",\"Moldova\",\"Monaco\",\"Mongolia\",\"Montenegro\",\"Montserrat\",\"Morocco\",\"Mozambique\",\"Myanmar\",\"Namibia\",\"Nauru\",\"Nepal\",\"Netherlands\",\"New Caledonia\",\"New Zealand\",\"Nicaragua\",\"Niger\",\"Nigeria\",\"Niue\",\"North Korea\",\"North Macedonia\",\"Northern Mariana Islands\",\"Norway\",\"Oman\",\"Pakistan\",\"Palau\",\"Palestine\",\"Panama\",\"Papua New Guinea\",\"Paraguay\",\"Peru\",\"Philippines\",\"Poland\",\"Portugal\",\"Puerto Rico\",\"Qatar\",\"Republic of the Congo\",\"Reunion\",\"Romania\",\"Russia\",\"Rwanda\",\"Saint Barthelemy\",\"Saint Kitts and Nevis\",\"Saint Lucia\",\"Saint Martin\",\"Saint Pierre and Miquelon\",\"Saint Vincent and the Grenadines\",\"Samoa\",\"San Marino\",\"Sao Tome and Principe\",\"Saudi Arabia\",\"Senegal\",\"Serbia\",\"Seychelles\",\"Sierra Leone\",\"Singapore\",\"Sint Maarten\",\"Slovakia\",\"Slovenia\",\"Solomon Islands\",\"Somalia\",\"South Africa\",\"South Korea\",\"South Sudan\",\"Spain\",\"Sri Lanka\",\"Sudan\",\"Suriname\",\"Sweden\",\"Switzerland\",\"Syria\",\"Taiwan\",\"Tajikistan\",\"Tanzania\",\"Thailand\",\"Timor-Leste\",\"Togo\",\"Tokelau\",\"Tonga\",\"Trinidad and Tobago\",\"Tunisia\",\"Turkey\",\"Turkmenistan\",\"Turks and Caicos Islands\",\"Tuvalu\",\"Uganda\",\"Ukraine\",\"United Arab Emirates\",\"United Kingdom\",\"United States\",\"United States Virgin Islands\",\"Uruguay\",\"Uzbekistan\",\"Vanuatu\",\"Vatican City\",\"Venezuela\",\"Vietnam\",\"Wallis and Futuna\",\"Western Sahara\",\"Yemen\",\"Zambia\",\"Zimbabwe\"],\"locationmode\":\"ISO-3\",\"locations\":[\"AFG\",\"ALB\",\"DZA\",\"ASM\",\"AND\",\"AGO\",\"AIA\",\"ATG\",\"ARG\",\"ARM\",\"ABW\",\"AUS\",\"AUT\",\"AZE\",\"BHS\",\"BHR\",\"BGD\",\"BRB\",\"BLR\",\"BEL\",\"BLZ\",\"BEN\",\"BMU\",\"BTN\",\"BOL\",\"BIH\",\"BWA\",\"BRA\",\"VGB\",\"BRN\",\"BGR\",\"BFA\",\"BDI\",\"KHM\",\"CMR\",\"CAN\",\"CPV\",\"CYM\",\"CAF\",\"TCD\",\"CHL\",\"CHN\",\"COL\",\"COM\",\"COK\",\"CRI\",\"HRV\",\"CUB\",\"CUW\",\"CYP\",\"CZE\",\"DNK\",\"DJI\",\"DMA\",\"DOM\",\"COD\",\"ECU\",\"EGY\",\"SLV\",\"GNQ\",\"ERI\",\"EST\",\"SWZ\",\"ETH\",\"FLK\",\"FRO\",\"FJI\",\"FIN\",\"FRA\",\"GUF\",\"PYF\",\"GAB\",\"GMB\",\"GEO\",\"DEU\",\"GHA\",\"GIB\",\"GRC\",\"GRL\",\"GRD\",\"GLP\",\"GUM\",\"GTM\",\"GGY\",\"GIN\",\"GNB\",\"GUY\",\"HTI\",\"HND\",\"HKG\",\"HUN\",\"ISL\",\"IND\",\"IDN\",\"IRN\",\"IRQ\",\"IRL\",\"IMN\",\"ISR\",\"ITA\",\"CIV\",\"JAM\",\"JPN\",\"JEY\",\"JOR\",\"KAZ\",\"KEN\",\"KIR\",\"KWT\",\"KGZ\",\"LAO\",\"LVA\",\"LBN\",\"LSO\",\"LBR\",\"LBY\",\"LIE\",\"LTU\",\"LUX\",\"MAC\",\"MDG\",\"MWI\",\"MYS\",\"MDV\",\"MLI\",\"MLT\",\"MHL\",\"MTQ\",\"MRT\",\"MUS\",\"MYT\",\"MEX\",\"FSM\",\"MDA\",\"MCO\",\"MNG\",\"MNE\",\"MSR\",\"MAR\",\"MOZ\",\"MMR\",\"NAM\",\"NRU\",\"NPL\",\"NLD\",\"NCL\",\"NZL\",\"NIC\",\"NER\",\"NGA\",\"NIU\",\"PRK\",\"MKD\",\"NFK\",\"NOR\",\"OMN\",\"PAK\",\"PLW\",\"PSE\",\"PAN\",\"PNG\",\"PRY\",\"PER\",\"PHL\",\"POL\",\"PRT\",\"PRI\",\"QAT\",\"COG\",\"REU\",\"ROU\",\"RUS\",\"RWA\",\"BLM\",\"KNA\",\"LCA\",\"MAF\",\"SPM\",\"VCT\",\"WSM\",\"SMR\",\"STP\",\"SAU\",\"SEN\",\"SRB\",\"SYC\",\"SLE\",\"SGP\",\"SXM\",\"SVK\",\"SVN\",\"SLB\",\"SOM\",\"ZAF\",\"KOR\",\"SSD\",\"ESP\",\"LKA\",\"SDN\",\"SUR\",\"SWE\",\"CHE\",\"SYR\",\"TWN\",\"TJK\",\"TZA\",\"THA\",\"TLS\",\"TGO\",\"TKL\",\"TON\",\"TTO\",\"TUN\",\"TUR\",\"TKM\",\"TCA\",\"TUV\",\"UGA\",\"UKR\",\"ARE\",\"GBR\",\"USA\",\"VIR\",\"URY\",\"UZB\",\"VUT\",\"VAT\",\"VEN\",\"VNM\",\"WLF\",\"ESH\",\"YEM\",\"ZMB\",\"ZWE\"],\"name\":\"\",\"z\":[19542982,3182021,30774621,58230,66097,16394062,11047,75055,37070774,3168523,89101,19017963,8010428,8190337,325014,711442,129193327,264657,10256483,10264343,240406,6998023,61371,587207,8592656,4179350,1726985,175873720,20104,333926,8097691,11882888,6307659,12118841,15091594,30683313,458251,39658,3759170,8259137,15351799,1264099069,39215135,536758,15897,3979193,4548434,11105791,141424,948237,10234710,5340655,742033,68346,8540791,48616317,12626507,71371371,5958482,684977,2392880,1396877,1030496,67031867,3080,45660,832509,5176209,58665453,164351,250927,1272935,1437539,4265172,81551677,19665502,27741,11038109,56184,107432,424067,160188,11735894,59114,8336967,1230849,759051,8360225,6656725,6731195,10202055,281462,1059633675,214072421,65544383,24628858,3768950,75562,6116958,56966397,16799670,2612205,126803861,86192,5056174,15236253,30851606,88826,1934901,4935182,5430853,2392530,4320642,1998630,2895224,5154790,33026,3599637,435628,431896,16216431,11229387,22945150,282507,11239101,399212,54224,432543,2695003,1215930,159215,97873442,111709,4251573,32465,2450979,633324,5138,28554415,17768505,45538332,1819141,10377,24559500,15899135,221537,3855266,5123222,11622665,122851984,2074,23367059,2037936,80338,4491202,2344253,154369924,19726,3139954,3001731,5508297,5123819,26654439,77958223,38504431,10300626,3827108,645937,3134030,785424,21919876,146844839,8109989,7082,45461,159500,29610,6274,113813,184008,26823,143714,21547390,9704287,7935022,80060,4584067,4053602,30489,5376690,1984339,429978,8721465,46813266,46788591,6114440,40741651,18776371,26298773,478998,8871043,7182059,16307654,22194731,6272998,34463704,63066603,878360,5008035,1666,102603,1332203,9893316,64113547,4569132,18744,9638,24020697,48879755,3275333,58850043,282398554,108185,3292224,24925554,192074,651,24427729,79001142,14723,270375,18628700,9891136,11834676],\"type\":\"choropleth\"}],\"name\":\"2000 Population\"},{\"data\":[{\"coloraxis\":\"coloraxis\",\"customdata\":[[\"AFG\"],[\"ALB\"],[\"DZA\"],[\"ASM\"],[\"AND\"],[\"AGO\"],[\"AIA\"],[\"ATG\"],[\"ARG\"],[\"ARM\"],[\"ABW\"],[\"AUS\"],[\"AUT\"],[\"AZE\"],[\"BHS\"],[\"BHR\"],[\"BGD\"],[\"BRB\"],[\"BLR\"],[\"BEL\"],[\"BLZ\"],[\"BEN\"],[\"BMU\"],[\"BTN\"],[\"BOL\"],[\"BIH\"],[\"BWA\"],[\"BRA\"],[\"VGB\"],[\"BRN\"],[\"BGR\"],[\"BFA\"],[\"BDI\"],[\"KHM\"],[\"CMR\"],[\"CAN\"],[\"CPV\"],[\"CYM\"],[\"CAF\"],[\"TCD\"],[\"CHL\"],[\"CHN\"],[\"COL\"],[\"COM\"],[\"COK\"],[\"CRI\"],[\"HRV\"],[\"CUB\"],[\"CUW\"],[\"CYP\"],[\"CZE\"],[\"DNK\"],[\"DJI\"],[\"DMA\"],[\"DOM\"],[\"COD\"],[\"ECU\"],[\"EGY\"],[\"SLV\"],[\"GNQ\"],[\"ERI\"],[\"EST\"],[\"SWZ\"],[\"ETH\"],[\"FLK\"],[\"FRO\"],[\"FJI\"],[\"FIN\"],[\"FRA\"],[\"GUF\"],[\"PYF\"],[\"GAB\"],[\"GMB\"],[\"GEO\"],[\"DEU\"],[\"GHA\"],[\"GIB\"],[\"GRC\"],[\"GRL\"],[\"GRD\"],[\"GLP\"],[\"GUM\"],[\"GTM\"],[\"GGY\"],[\"GIN\"],[\"GNB\"],[\"GUY\"],[\"HTI\"],[\"HND\"],[\"HKG\"],[\"HUN\"],[\"ISL\"],[\"IND\"],[\"IDN\"],[\"IRN\"],[\"IRQ\"],[\"IRL\"],[\"IMN\"],[\"ISR\"],[\"ITA\"],[\"CIV\"],[\"JAM\"],[\"JPN\"],[\"JEY\"],[\"JOR\"],[\"KAZ\"],[\"KEN\"],[\"KIR\"],[\"KWT\"],[\"KGZ\"],[\"LAO\"],[\"LVA\"],[\"LBN\"],[\"LSO\"],[\"LBR\"],[\"LBY\"],[\"LIE\"],[\"LTU\"],[\"LUX\"],[\"MAC\"],[\"MDG\"],[\"MWI\"],[\"MYS\"],[\"MDV\"],[\"MLI\"],[\"MLT\"],[\"MHL\"],[\"MTQ\"],[\"MRT\"],[\"MUS\"],[\"MYT\"],[\"MEX\"],[\"FSM\"],[\"MDA\"],[\"MCO\"],[\"MNG\"],[\"MNE\"],[\"MSR\"],[\"MAR\"],[\"MOZ\"],[\"MMR\"],[\"NAM\"],[\"NRU\"],[\"NPL\"],[\"NLD\"],[\"NCL\"],[\"NZL\"],[\"NIC\"],[\"NER\"],[\"NGA\"],[\"NIU\"],[\"PRK\"],[\"MKD\"],[\"NFK\"],[\"NOR\"],[\"OMN\"],[\"PAK\"],[\"PLW\"],[\"PSE\"],[\"PAN\"],[\"PNG\"],[\"PRY\"],[\"PER\"],[\"PHL\"],[\"POL\"],[\"PRT\"],[\"PRI\"],[\"QAT\"],[\"COG\"],[\"REU\"],[\"ROU\"],[\"RUS\"],[\"RWA\"],[\"BLM\"],[\"KNA\"],[\"LCA\"],[\"MAF\"],[\"SPM\"],[\"VCT\"],[\"WSM\"],[\"SMR\"],[\"STP\"],[\"SAU\"],[\"SEN\"],[\"SRB\"],[\"SYC\"],[\"SLE\"],[\"SGP\"],[\"SXM\"],[\"SVK\"],[\"SVN\"],[\"SLB\"],[\"SOM\"],[\"ZAF\"],[\"KOR\"],[\"SSD\"],[\"ESP\"],[\"LKA\"],[\"SDN\"],[\"SUR\"],[\"SWE\"],[\"CHE\"],[\"SYR\"],[\"TWN\"],[\"TJK\"],[\"TZA\"],[\"THA\"],[\"TLS\"],[\"TGO\"],[\"TKL\"],[\"TON\"],[\"TTO\"],[\"TUN\"],[\"TUR\"],[\"TKM\"],[\"TCA\"],[\"TUV\"],[\"UGA\"],[\"UKR\"],[\"ARE\"],[\"GBR\"],[\"USA\"],[\"VIR\"],[\"URY\"],[\"UZB\"],[\"VUT\"],[\"VAT\"],[\"VEN\"],[\"VNM\"],[\"WLF\"],[\"ESH\"],[\"YEM\"],[\"ZMB\"],[\"ZWE\"]],\"geo\":\"geo\",\"hovertemplate\":\"<b>%{hovertext}</b><br><br>Year=2010 Population<br>Population=%{z}<extra></extra>\",\"hovertext\":[\"Afghanistan\",\"Albania\",\"Algeria\",\"American Samoa\",\"Andorra\",\"Angola\",\"Anguilla\",\"Antigua and Barbuda\",\"Argentina\",\"Armenia\",\"Aruba\",\"Australia\",\"Austria\",\"Azerbaijan\",\"Bahamas\",\"Bahrain\",\"Bangladesh\",\"Barbados\",\"Belarus\",\"Belgium\",\"Belize\",\"Benin\",\"Bermuda\",\"Bhutan\",\"Bolivia\",\"Bosnia and Herzegovina\",\"Botswana\",\"Brazil\",\"British Virgin Islands\",\"Brunei\",\"Bulgaria\",\"Burkina Faso\",\"Burundi\",\"Cambodia\",\"Cameroon\",\"Canada\",\"Cape Verde\",\"Cayman Islands\",\"Central African Republic\",\"Chad\",\"Chile\",\"China\",\"Colombia\",\"Comoros\",\"Cook Islands\",\"Costa Rica\",\"Croatia\",\"Cuba\",\"Curacao\",\"Cyprus\",\"Czech Republic\",\"Denmark\",\"Djibouti\",\"Dominica\",\"Dominican Republic\",\"DR Congo\",\"Ecuador\",\"Egypt\",\"El Salvador\",\"Equatorial Guinea\",\"Eritrea\",\"Estonia\",\"Eswatini\",\"Ethiopia\",\"Falkland Islands\",\"Faroe Islands\",\"Fiji\",\"Finland\",\"France\",\"French Guiana\",\"French Polynesia\",\"Gabon\",\"Gambia\",\"Georgia\",\"Germany\",\"Ghana\",\"Gibraltar\",\"Greece\",\"Greenland\",\"Grenada\",\"Guadeloupe\",\"Guam\",\"Guatemala\",\"Guernsey\",\"Guinea\",\"Guinea-Bissau\",\"Guyana\",\"Haiti\",\"Honduras\",\"Hong Kong\",\"Hungary\",\"Iceland\",\"India\",\"Indonesia\",\"Iran\",\"Iraq\",\"Ireland\",\"Isle of Man\",\"Israel\",\"Italy\",\"Ivory Coast\",\"Jamaica\",\"Japan\",\"Jersey\",\"Jordan\",\"Kazakhstan\",\"Kenya\",\"Kiribati\",\"Kuwait\",\"Kyrgyzstan\",\"Laos\",\"Latvia\",\"Lebanon\",\"Lesotho\",\"Liberia\",\"Libya\",\"Liechtenstein\",\"Lithuania\",\"Luxembourg\",\"Macau\",\"Madagascar\",\"Malawi\",\"Malaysia\",\"Maldives\",\"Mali\",\"Malta\",\"Marshall Islands\",\"Martinique\",\"Mauritania\",\"Mauritius\",\"Mayotte\",\"Mexico\",\"Micronesia\",\"Moldova\",\"Monaco\",\"Mongolia\",\"Montenegro\",\"Montserrat\",\"Morocco\",\"Mozambique\",\"Myanmar\",\"Namibia\",\"Nauru\",\"Nepal\",\"Netherlands\",\"New Caledonia\",\"New Zealand\",\"Nicaragua\",\"Niger\",\"Nigeria\",\"Niue\",\"North Korea\",\"North Macedonia\",\"Northern Mariana Islands\",\"Norway\",\"Oman\",\"Pakistan\",\"Palau\",\"Palestine\",\"Panama\",\"Papua New Guinea\",\"Paraguay\",\"Peru\",\"Philippines\",\"Poland\",\"Portugal\",\"Puerto Rico\",\"Qatar\",\"Republic of the Congo\",\"Reunion\",\"Romania\",\"Russia\",\"Rwanda\",\"Saint Barthelemy\",\"Saint Kitts and Nevis\",\"Saint Lucia\",\"Saint Martin\",\"Saint Pierre and Miquelon\",\"Saint Vincent and the Grenadines\",\"Samoa\",\"San Marino\",\"Sao Tome and Principe\",\"Saudi Arabia\",\"Senegal\",\"Serbia\",\"Seychelles\",\"Sierra Leone\",\"Singapore\",\"Sint Maarten\",\"Slovakia\",\"Slovenia\",\"Solomon Islands\",\"Somalia\",\"South Africa\",\"South Korea\",\"South Sudan\",\"Spain\",\"Sri Lanka\",\"Sudan\",\"Suriname\",\"Sweden\",\"Switzerland\",\"Syria\",\"Taiwan\",\"Tajikistan\",\"Tanzania\",\"Thailand\",\"Timor-Leste\",\"Togo\",\"Tokelau\",\"Tonga\",\"Trinidad and Tobago\",\"Tunisia\",\"Turkey\",\"Turkmenistan\",\"Turks and Caicos Islands\",\"Tuvalu\",\"Uganda\",\"Ukraine\",\"United Arab Emirates\",\"United Kingdom\",\"United States\",\"United States Virgin Islands\",\"Uruguay\",\"Uzbekistan\",\"Vanuatu\",\"Vatican City\",\"Venezuela\",\"Vietnam\",\"Wallis and Futuna\",\"Western Sahara\",\"Yemen\",\"Zambia\",\"Zimbabwe\"],\"locationmode\":\"ISO-3\",\"locations\":[\"AFG\",\"ALB\",\"DZA\",\"ASM\",\"AND\",\"AGO\",\"AIA\",\"ATG\",\"ARG\",\"ARM\",\"ABW\",\"AUS\",\"AUT\",\"AZE\",\"BHS\",\"BHR\",\"BGD\",\"BRB\",\"BLR\",\"BEL\",\"BLZ\",\"BEN\",\"BMU\",\"BTN\",\"BOL\",\"BIH\",\"BWA\",\"BRA\",\"VGB\",\"BRN\",\"BGR\",\"BFA\",\"BDI\",\"KHM\",\"CMR\",\"CAN\",\"CPV\",\"CYM\",\"CAF\",\"TCD\",\"CHL\",\"CHN\",\"COL\",\"COM\",\"COK\",\"CRI\",\"HRV\",\"CUB\",\"CUW\",\"CYP\",\"CZE\",\"DNK\",\"DJI\",\"DMA\",\"DOM\",\"COD\",\"ECU\",\"EGY\",\"SLV\",\"GNQ\",\"ERI\",\"EST\",\"SWZ\",\"ETH\",\"FLK\",\"FRO\",\"FJI\",\"FIN\",\"FRA\",\"GUF\",\"PYF\",\"GAB\",\"GMB\",\"GEO\",\"DEU\",\"GHA\",\"GIB\",\"GRC\",\"GRL\",\"GRD\",\"GLP\",\"GUM\",\"GTM\",\"GGY\",\"GIN\",\"GNB\",\"GUY\",\"HTI\",\"HND\",\"HKG\",\"HUN\",\"ISL\",\"IND\",\"IDN\",\"IRN\",\"IRQ\",\"IRL\",\"IMN\",\"ISR\",\"ITA\",\"CIV\",\"JAM\",\"JPN\",\"JEY\",\"JOR\",\"KAZ\",\"KEN\",\"KIR\",\"KWT\",\"KGZ\",\"LAO\",\"LVA\",\"LBN\",\"LSO\",\"LBR\",\"LBY\",\"LIE\",\"LTU\",\"LUX\",\"MAC\",\"MDG\",\"MWI\",\"MYS\",\"MDV\",\"MLI\",\"MLT\",\"MHL\",\"MTQ\",\"MRT\",\"MUS\",\"MYT\",\"MEX\",\"FSM\",\"MDA\",\"MCO\",\"MNG\",\"MNE\",\"MSR\",\"MAR\",\"MOZ\",\"MMR\",\"NAM\",\"NRU\",\"NPL\",\"NLD\",\"NCL\",\"NZL\",\"NIC\",\"NER\",\"NGA\",\"NIU\",\"PRK\",\"MKD\",\"NFK\",\"NOR\",\"OMN\",\"PAK\",\"PLW\",\"PSE\",\"PAN\",\"PNG\",\"PRY\",\"PER\",\"PHL\",\"POL\",\"PRT\",\"PRI\",\"QAT\",\"COG\",\"REU\",\"ROU\",\"RUS\",\"RWA\",\"BLM\",\"KNA\",\"LCA\",\"MAF\",\"SPM\",\"VCT\",\"WSM\",\"SMR\",\"STP\",\"SAU\",\"SEN\",\"SRB\",\"SYC\",\"SLE\",\"SGP\",\"SXM\",\"SVK\",\"SVN\",\"SLB\",\"SOM\",\"ZAF\",\"KOR\",\"SSD\",\"ESP\",\"LKA\",\"SDN\",\"SUR\",\"SWE\",\"CHE\",\"SYR\",\"TWN\",\"TJK\",\"TZA\",\"THA\",\"TLS\",\"TGO\",\"TKL\",\"TON\",\"TTO\",\"TUN\",\"TUR\",\"TKM\",\"TCA\",\"TUV\",\"UGA\",\"UKR\",\"ARE\",\"GBR\",\"USA\",\"VIR\",\"URY\",\"UZB\",\"VUT\",\"VAT\",\"VEN\",\"VNM\",\"WLF\",\"ESH\",\"YEM\",\"ZMB\",\"ZWE\"],\"name\":\"\",\"z\":[28189672,2913399,35856344,54849,71519,23364185,13172,85695,41100123,2946293,100341,22019168,8362829,9237202,373272,1213645,148391139,274711,9731427,10877947,322106,9445710,63447,705516,10223270,3811088,2091664,196353492,27556,396053,7592273,16116845,9126605,14363532,19878036,33963412,521212,54074,4660067,11894727,17004162,1348191368,44816108,656024,17212,4622252,4368682,11290417,159380,1129686,10464749,5550849,919199,68755,9775755,66391257,14989585,87252413,6114034,1094524,3147727,1331535,1099920,89237791,3187,48410,905169,5363271,62444567,228453,283788,1711105,1937275,3836831,81325090,25574719,31262,11033783,56351,114039,403072,164905,14543121,60782,10270728,1567220,747932,9842880,8450933,7132438,9986825,318333,1240613620,244016173,75373855,31264875,4524585,83828,7328445,59822450,21120042,2733896,128105431,96151,6931258,16627837,41517895,107995,2943356,5483774,6323418,2101530,4995800,2022747,4019956,6491988,35926,3139019,507070,557297,21731053,14718422,28717731,361575,15529181,418755,53416,392181,3419461,1283330,211786,112532401,107588,3678186,33178,2702520,631044,4938,32464865,23073723,49390988,2099271,10241,27161567,16617116,261426,4346338,5855734,16647543,160952853,1812,24686435,2093828,54087,4889741,2881914,194454498,18540,3992278,3623617,7583269,5768613,29229572,94636700,38597353,10588401,3717922,1713504,4437884,890130,20335211,143242599,10309031,8988,47403,170935,36458,6052,109308,194672,31608,182138,29411929,12530121,7653748,92409,6436698,5163590,33034,5396424,2057286,540394,12026649,51784921,48813042,9714419,46572772,20668557,33739933,546080,9381729,7822435,22337563,23083083,7621779,45110527,68270489,1088486,6571855,1367,107383,1410296,10895063,73195345,5267970,29726,10550,32341728,45683020,8481771,62760039,311182845,106142,3352651,28614227,245453,596,28715022,87411012,13142,413296,24743946,13792086,12839771],\"type\":\"choropleth\"}],\"name\":\"2010 Population\"},{\"data\":[{\"coloraxis\":\"coloraxis\",\"customdata\":[[\"AFG\"],[\"ALB\"],[\"DZA\"],[\"ASM\"],[\"AND\"],[\"AGO\"],[\"AIA\"],[\"ATG\"],[\"ARG\"],[\"ARM\"],[\"ABW\"],[\"AUS\"],[\"AUT\"],[\"AZE\"],[\"BHS\"],[\"BHR\"],[\"BGD\"],[\"BRB\"],[\"BLR\"],[\"BEL\"],[\"BLZ\"],[\"BEN\"],[\"BMU\"],[\"BTN\"],[\"BOL\"],[\"BIH\"],[\"BWA\"],[\"BRA\"],[\"VGB\"],[\"BRN\"],[\"BGR\"],[\"BFA\"],[\"BDI\"],[\"KHM\"],[\"CMR\"],[\"CAN\"],[\"CPV\"],[\"CYM\"],[\"CAF\"],[\"TCD\"],[\"CHL\"],[\"CHN\"],[\"COL\"],[\"COM\"],[\"COK\"],[\"CRI\"],[\"HRV\"],[\"CUB\"],[\"CUW\"],[\"CYP\"],[\"CZE\"],[\"DNK\"],[\"DJI\"],[\"DMA\"],[\"DOM\"],[\"COD\"],[\"ECU\"],[\"EGY\"],[\"SLV\"],[\"GNQ\"],[\"ERI\"],[\"EST\"],[\"SWZ\"],[\"ETH\"],[\"FLK\"],[\"FRO\"],[\"FJI\"],[\"FIN\"],[\"FRA\"],[\"GUF\"],[\"PYF\"],[\"GAB\"],[\"GMB\"],[\"GEO\"],[\"DEU\"],[\"GHA\"],[\"GIB\"],[\"GRC\"],[\"GRL\"],[\"GRD\"],[\"GLP\"],[\"GUM\"],[\"GTM\"],[\"GGY\"],[\"GIN\"],[\"GNB\"],[\"GUY\"],[\"HTI\"],[\"HND\"],[\"HKG\"],[\"HUN\"],[\"ISL\"],[\"IND\"],[\"IDN\"],[\"IRN\"],[\"IRQ\"],[\"IRL\"],[\"IMN\"],[\"ISR\"],[\"ITA\"],[\"CIV\"],[\"JAM\"],[\"JPN\"],[\"JEY\"],[\"JOR\"],[\"KAZ\"],[\"KEN\"],[\"KIR\"],[\"KWT\"],[\"KGZ\"],[\"LAO\"],[\"LVA\"],[\"LBN\"],[\"LSO\"],[\"LBR\"],[\"LBY\"],[\"LIE\"],[\"LTU\"],[\"LUX\"],[\"MAC\"],[\"MDG\"],[\"MWI\"],[\"MYS\"],[\"MDV\"],[\"MLI\"],[\"MLT\"],[\"MHL\"],[\"MTQ\"],[\"MRT\"],[\"MUS\"],[\"MYT\"],[\"MEX\"],[\"FSM\"],[\"MDA\"],[\"MCO\"],[\"MNG\"],[\"MNE\"],[\"MSR\"],[\"MAR\"],[\"MOZ\"],[\"MMR\"],[\"NAM\"],[\"NRU\"],[\"NPL\"],[\"NLD\"],[\"NCL\"],[\"NZL\"],[\"NIC\"],[\"NER\"],[\"NGA\"],[\"NIU\"],[\"PRK\"],[\"MKD\"],[\"NFK\"],[\"NOR\"],[\"OMN\"],[\"PAK\"],[\"PLW\"],[\"PSE\"],[\"PAN\"],[\"PNG\"],[\"PRY\"],[\"PER\"],[\"PHL\"],[\"POL\"],[\"PRT\"],[\"PRI\"],[\"QAT\"],[\"COG\"],[\"REU\"],[\"ROU\"],[\"RUS\"],[\"RWA\"],[\"BLM\"],[\"KNA\"],[\"LCA\"],[\"MAF\"],[\"SPM\"],[\"VCT\"],[\"WSM\"],[\"SMR\"],[\"STP\"],[\"SAU\"],[\"SEN\"],[\"SRB\"],[\"SYC\"],[\"SLE\"],[\"SGP\"],[\"SXM\"],[\"SVK\"],[\"SVN\"],[\"SLB\"],[\"SOM\"],[\"ZAF\"],[\"KOR\"],[\"SSD\"],[\"ESP\"],[\"LKA\"],[\"SDN\"],[\"SUR\"],[\"SWE\"],[\"CHE\"],[\"SYR\"],[\"TWN\"],[\"TJK\"],[\"TZA\"],[\"THA\"],[\"TLS\"],[\"TGO\"],[\"TKL\"],[\"TON\"],[\"TTO\"],[\"TUN\"],[\"TUR\"],[\"TKM\"],[\"TCA\"],[\"TUV\"],[\"UGA\"],[\"UKR\"],[\"ARE\"],[\"GBR\"],[\"USA\"],[\"VIR\"],[\"URY\"],[\"UZB\"],[\"VUT\"],[\"VAT\"],[\"VEN\"],[\"VNM\"],[\"WLF\"],[\"ESH\"],[\"YEM\"],[\"ZMB\"],[\"ZWE\"]],\"geo\":\"geo\",\"hovertemplate\":\"<b>%{hovertext}</b><br><br>Year=2015 Population<br>Population=%{z}<extra></extra>\",\"hovertext\":[\"Afghanistan\",\"Albania\",\"Algeria\",\"American Samoa\",\"Andorra\",\"Angola\",\"Anguilla\",\"Antigua and Barbuda\",\"Argentina\",\"Armenia\",\"Aruba\",\"Australia\",\"Austria\",\"Azerbaijan\",\"Bahamas\",\"Bahrain\",\"Bangladesh\",\"Barbados\",\"Belarus\",\"Belgium\",\"Belize\",\"Benin\",\"Bermuda\",\"Bhutan\",\"Bolivia\",\"Bosnia and Herzegovina\",\"Botswana\",\"Brazil\",\"British Virgin Islands\",\"Brunei\",\"Bulgaria\",\"Burkina Faso\",\"Burundi\",\"Cambodia\",\"Cameroon\",\"Canada\",\"Cape Verde\",\"Cayman Islands\",\"Central African Republic\",\"Chad\",\"Chile\",\"China\",\"Colombia\",\"Comoros\",\"Cook Islands\",\"Costa Rica\",\"Croatia\",\"Cuba\",\"Curacao\",\"Cyprus\",\"Czech Republic\",\"Denmark\",\"Djibouti\",\"Dominica\",\"Dominican Republic\",\"DR Congo\",\"Ecuador\",\"Egypt\",\"El Salvador\",\"Equatorial Guinea\",\"Eritrea\",\"Estonia\",\"Eswatini\",\"Ethiopia\",\"Falkland Islands\",\"Faroe Islands\",\"Fiji\",\"Finland\",\"France\",\"French Guiana\",\"French Polynesia\",\"Gabon\",\"Gambia\",\"Georgia\",\"Germany\",\"Ghana\",\"Gibraltar\",\"Greece\",\"Greenland\",\"Grenada\",\"Guadeloupe\",\"Guam\",\"Guatemala\",\"Guernsey\",\"Guinea\",\"Guinea-Bissau\",\"Guyana\",\"Haiti\",\"Honduras\",\"Hong Kong\",\"Hungary\",\"Iceland\",\"India\",\"Indonesia\",\"Iran\",\"Iraq\",\"Ireland\",\"Isle of Man\",\"Israel\",\"Italy\",\"Ivory Coast\",\"Jamaica\",\"Japan\",\"Jersey\",\"Jordan\",\"Kazakhstan\",\"Kenya\",\"Kiribati\",\"Kuwait\",\"Kyrgyzstan\",\"Laos\",\"Latvia\",\"Lebanon\",\"Lesotho\",\"Liberia\",\"Libya\",\"Liechtenstein\",\"Lithuania\",\"Luxembourg\",\"Macau\",\"Madagascar\",\"Malawi\",\"Malaysia\",\"Maldives\",\"Mali\",\"Malta\",\"Marshall Islands\",\"Martinique\",\"Mauritania\",\"Mauritius\",\"Mayotte\",\"Mexico\",\"Micronesia\",\"Moldova\",\"Monaco\",\"Mongolia\",\"Montenegro\",\"Montserrat\",\"Morocco\",\"Mozambique\",\"Myanmar\",\"Namibia\",\"Nauru\",\"Nepal\",\"Netherlands\",\"New Caledonia\",\"New Zealand\",\"Nicaragua\",\"Niger\",\"Nigeria\",\"Niue\",\"North Korea\",\"North Macedonia\",\"Northern Mariana Islands\",\"Norway\",\"Oman\",\"Pakistan\",\"Palau\",\"Palestine\",\"Panama\",\"Papua New Guinea\",\"Paraguay\",\"Peru\",\"Philippines\",\"Poland\",\"Portugal\",\"Puerto Rico\",\"Qatar\",\"Republic of the Congo\",\"Reunion\",\"Romania\",\"Russia\",\"Rwanda\",\"Saint Barthelemy\",\"Saint Kitts and Nevis\",\"Saint Lucia\",\"Saint Martin\",\"Saint Pierre and Miquelon\",\"Saint Vincent and the Grenadines\",\"Samoa\",\"San Marino\",\"Sao Tome and Principe\",\"Saudi Arabia\",\"Senegal\",\"Serbia\",\"Seychelles\",\"Sierra Leone\",\"Singapore\",\"Sint Maarten\",\"Slovakia\",\"Slovenia\",\"Solomon Islands\",\"Somalia\",\"South Africa\",\"South Korea\",\"South Sudan\",\"Spain\",\"Sri Lanka\",\"Sudan\",\"Suriname\",\"Sweden\",\"Switzerland\",\"Syria\",\"Taiwan\",\"Tajikistan\",\"Tanzania\",\"Thailand\",\"Timor-Leste\",\"Togo\",\"Tokelau\",\"Tonga\",\"Trinidad and Tobago\",\"Tunisia\",\"Turkey\",\"Turkmenistan\",\"Turks and Caicos Islands\",\"Tuvalu\",\"Uganda\",\"Ukraine\",\"United Arab Emirates\",\"United Kingdom\",\"United States\",\"United States Virgin Islands\",\"Uruguay\",\"Uzbekistan\",\"Vanuatu\",\"Vatican City\",\"Venezuela\",\"Vietnam\",\"Wallis and Futuna\",\"Western Sahara\",\"Yemen\",\"Zambia\",\"Zimbabwe\"],\"locationmode\":\"ISO-3\",\"locations\":[\"AFG\",\"ALB\",\"DZA\",\"ASM\",\"AND\",\"AGO\",\"AIA\",\"ATG\",\"ARG\",\"ARM\",\"ABW\",\"AUS\",\"AUT\",\"AZE\",\"BHS\",\"BHR\",\"BGD\",\"BRB\",\"BLR\",\"BEL\",\"BLZ\",\"BEN\",\"BMU\",\"BTN\",\"BOL\",\"BIH\",\"BWA\",\"BRA\",\"VGB\",\"BRN\",\"BGR\",\"BFA\",\"BDI\",\"KHM\",\"CMR\",\"CAN\",\"CPV\",\"CYM\",\"CAF\",\"TCD\",\"CHL\",\"CHN\",\"COL\",\"COM\",\"COK\",\"CRI\",\"HRV\",\"CUB\",\"CUW\",\"CYP\",\"CZE\",\"DNK\",\"DJI\",\"DMA\",\"DOM\",\"COD\",\"ECU\",\"EGY\",\"SLV\",\"GNQ\",\"ERI\",\"EST\",\"SWZ\",\"ETH\",\"FLK\",\"FRO\",\"FJI\",\"FIN\",\"FRA\",\"GUF\",\"PYF\",\"GAB\",\"GMB\",\"GEO\",\"DEU\",\"GHA\",\"GIB\",\"GRC\",\"GRL\",\"GRD\",\"GLP\",\"GUM\",\"GTM\",\"GGY\",\"GIN\",\"GNB\",\"GUY\",\"HTI\",\"HND\",\"HKG\",\"HUN\",\"ISL\",\"IND\",\"IDN\",\"IRN\",\"IRQ\",\"IRL\",\"IMN\",\"ISR\",\"ITA\",\"CIV\",\"JAM\",\"JPN\",\"JEY\",\"JOR\",\"KAZ\",\"KEN\",\"KIR\",\"KWT\",\"KGZ\",\"LAO\",\"LVA\",\"LBN\",\"LSO\",\"LBR\",\"LBY\",\"LIE\",\"LTU\",\"LUX\",\"MAC\",\"MDG\",\"MWI\",\"MYS\",\"MDV\",\"MLI\",\"MLT\",\"MHL\",\"MTQ\",\"MRT\",\"MUS\",\"MYT\",\"MEX\",\"FSM\",\"MDA\",\"MCO\",\"MNG\",\"MNE\",\"MSR\",\"MAR\",\"MOZ\",\"MMR\",\"NAM\",\"NRU\",\"NPL\",\"NLD\",\"NCL\",\"NZL\",\"NIC\",\"NER\",\"NGA\",\"NIU\",\"PRK\",\"MKD\",\"NFK\",\"NOR\",\"OMN\",\"PAK\",\"PLW\",\"PSE\",\"PAN\",\"PNG\",\"PRY\",\"PER\",\"PHL\",\"POL\",\"PRT\",\"PRI\",\"QAT\",\"COG\",\"REU\",\"ROU\",\"RUS\",\"RWA\",\"BLM\",\"KNA\",\"LCA\",\"MAF\",\"SPM\",\"VCT\",\"WSM\",\"SMR\",\"STP\",\"SAU\",\"SEN\",\"SRB\",\"SYC\",\"SLE\",\"SGP\",\"SXM\",\"SVK\",\"SVN\",\"SLB\",\"SOM\",\"ZAF\",\"KOR\",\"SSD\",\"ESP\",\"LKA\",\"SDN\",\"SUR\",\"SWE\",\"CHE\",\"SYR\",\"TWN\",\"TJK\",\"TZA\",\"THA\",\"TLS\",\"TGO\",\"TKL\",\"TON\",\"TTO\",\"TUN\",\"TUR\",\"TKM\",\"TCA\",\"TUV\",\"UGA\",\"UKR\",\"ARE\",\"GBR\",\"USA\",\"VIR\",\"URY\",\"UZB\",\"VUT\",\"VAT\",\"VEN\",\"VNM\",\"WLF\",\"ESH\",\"YEM\",\"ZMB\",\"ZWE\"],\"name\":\"\",\"z\":[33753499,2882481,39543154,51368,71746,28127721,14525,89941,43257065,2878595,104257,23820236,8642421,9863480,392697,1362142,157830000,278083,9700609,11248303,359871,10932783,63144,743274,11090085,3524324,2305171,205188205,29366,421437,7309253,18718019,10727148,15417523,23012646,35732126,552166,60911,4819333,14140274,17870124,1393715448,47119728,730216,17695,4895242,4254815,11339894,169572,1187280,10523798,5677796,1006259,70007,10405832,78656904,16195902,97723799,6231066,1346973,3340006,1314657,1133936,102471895,3408,48816,917200,5479461,63809769,257026,291787,2028517,2253133,3771132,82073226,28870939,32520,10806641,55895,118980,399089,167978,16001107,61629,11625998,1788919,755031,10563757,9294505,7399838,9844246,331060,1322866505,259091970,81790841,37757813,4665760,83593,8007778,60232906,23596741,2794445,127250933,100561,9494246,17835909,46851488,116707,3908743,5914980,6787419,1991955,6398940,2118521,4612329,6192235,37355,2963765,569408,615239,24850912,16938942,31068833,435582,18112907,456579,49410,383515,3946220,1293153,249545,120149897,109462,3277388,36760,2964749,633966,5059,34680458,26843246,51483949,2282704,11185,27610325,17041107,283032,4590590,6298598,20128124,183995785,1847,25258015,2107962,51514,5190356,4191776,210969298,17794,4484614,3957099,8682174,6177950,30711863,103031365,38553146,10365435,3497335,2414573,5064386,922495,19906079,144668389,11642959,9643,47790,175623,35020,5978,106482,203571,33570,201124,32749848,14356181,7519496,99240,7314773,5650018,40205,5424444,2080862,612660,13763906,55876504,50994401,11194299,46431342,21336697,38171178,575475,9849349,8281732,19205178,23512136,8524063,52542823,70294397,1205813,7473229,1454,106122,1460177,11557779,79646178,5766431,36538,10877,37477356,44982564,8916899,65224364,324607776,102803,3402818,30949417,276438,564,30529716,92191398,12182,491824,28516545,16248230,14154937],\"type\":\"choropleth\"}],\"name\":\"2015 Population\"},{\"data\":[{\"coloraxis\":\"coloraxis\",\"customdata\":[[\"AFG\"],[\"ALB\"],[\"DZA\"],[\"ASM\"],[\"AND\"],[\"AGO\"],[\"AIA\"],[\"ATG\"],[\"ARG\"],[\"ARM\"],[\"ABW\"],[\"AUS\"],[\"AUT\"],[\"AZE\"],[\"BHS\"],[\"BHR\"],[\"BGD\"],[\"BRB\"],[\"BLR\"],[\"BEL\"],[\"BLZ\"],[\"BEN\"],[\"BMU\"],[\"BTN\"],[\"BOL\"],[\"BIH\"],[\"BWA\"],[\"BRA\"],[\"VGB\"],[\"BRN\"],[\"BGR\"],[\"BFA\"],[\"BDI\"],[\"KHM\"],[\"CMR\"],[\"CAN\"],[\"CPV\"],[\"CYM\"],[\"CAF\"],[\"TCD\"],[\"CHL\"],[\"CHN\"],[\"COL\"],[\"COM\"],[\"COK\"],[\"CRI\"],[\"HRV\"],[\"CUB\"],[\"CUW\"],[\"CYP\"],[\"CZE\"],[\"DNK\"],[\"DJI\"],[\"DMA\"],[\"DOM\"],[\"COD\"],[\"ECU\"],[\"EGY\"],[\"SLV\"],[\"GNQ\"],[\"ERI\"],[\"EST\"],[\"SWZ\"],[\"ETH\"],[\"FLK\"],[\"FRO\"],[\"FJI\"],[\"FIN\"],[\"FRA\"],[\"GUF\"],[\"PYF\"],[\"GAB\"],[\"GMB\"],[\"GEO\"],[\"DEU\"],[\"GHA\"],[\"GIB\"],[\"GRC\"],[\"GRL\"],[\"GRD\"],[\"GLP\"],[\"GUM\"],[\"GTM\"],[\"GGY\"],[\"GIN\"],[\"GNB\"],[\"GUY\"],[\"HTI\"],[\"HND\"],[\"HKG\"],[\"HUN\"],[\"ISL\"],[\"IND\"],[\"IDN\"],[\"IRN\"],[\"IRQ\"],[\"IRL\"],[\"IMN\"],[\"ISR\"],[\"ITA\"],[\"CIV\"],[\"JAM\"],[\"JPN\"],[\"JEY\"],[\"JOR\"],[\"KAZ\"],[\"KEN\"],[\"KIR\"],[\"KWT\"],[\"KGZ\"],[\"LAO\"],[\"LVA\"],[\"LBN\"],[\"LSO\"],[\"LBR\"],[\"LBY\"],[\"LIE\"],[\"LTU\"],[\"LUX\"],[\"MAC\"],[\"MDG\"],[\"MWI\"],[\"MYS\"],[\"MDV\"],[\"MLI\"],[\"MLT\"],[\"MHL\"],[\"MTQ\"],[\"MRT\"],[\"MUS\"],[\"MYT\"],[\"MEX\"],[\"FSM\"],[\"MDA\"],[\"MCO\"],[\"MNG\"],[\"MNE\"],[\"MSR\"],[\"MAR\"],[\"MOZ\"],[\"MMR\"],[\"NAM\"],[\"NRU\"],[\"NPL\"],[\"NLD\"],[\"NCL\"],[\"NZL\"],[\"NIC\"],[\"NER\"],[\"NGA\"],[\"NIU\"],[\"PRK\"],[\"MKD\"],[\"NFK\"],[\"NOR\"],[\"OMN\"],[\"PAK\"],[\"PLW\"],[\"PSE\"],[\"PAN\"],[\"PNG\"],[\"PRY\"],[\"PER\"],[\"PHL\"],[\"POL\"],[\"PRT\"],[\"PRI\"],[\"QAT\"],[\"COG\"],[\"REU\"],[\"ROU\"],[\"RUS\"],[\"RWA\"],[\"BLM\"],[\"KNA\"],[\"LCA\"],[\"MAF\"],[\"SPM\"],[\"VCT\"],[\"WSM\"],[\"SMR\"],[\"STP\"],[\"SAU\"],[\"SEN\"],[\"SRB\"],[\"SYC\"],[\"SLE\"],[\"SGP\"],[\"SXM\"],[\"SVK\"],[\"SVN\"],[\"SLB\"],[\"SOM\"],[\"ZAF\"],[\"KOR\"],[\"SSD\"],[\"ESP\"],[\"LKA\"],[\"SDN\"],[\"SUR\"],[\"SWE\"],[\"CHE\"],[\"SYR\"],[\"TWN\"],[\"TJK\"],[\"TZA\"],[\"THA\"],[\"TLS\"],[\"TGO\"],[\"TKL\"],[\"TON\"],[\"TTO\"],[\"TUN\"],[\"TUR\"],[\"TKM\"],[\"TCA\"],[\"TUV\"],[\"UGA\"],[\"UKR\"],[\"ARE\"],[\"GBR\"],[\"USA\"],[\"VIR\"],[\"URY\"],[\"UZB\"],[\"VUT\"],[\"VAT\"],[\"VEN\"],[\"VNM\"],[\"WLF\"],[\"ESH\"],[\"YEM\"],[\"ZMB\"],[\"ZWE\"]],\"geo\":\"geo\",\"hovertemplate\":\"<b>%{hovertext}</b><br><br>Year=2020 Population<br>Population=%{z}<extra></extra>\",\"hovertext\":[\"Afghanistan\",\"Albania\",\"Algeria\",\"American Samoa\",\"Andorra\",\"Angola\",\"Anguilla\",\"Antigua and Barbuda\",\"Argentina\",\"Armenia\",\"Aruba\",\"Australia\",\"Austria\",\"Azerbaijan\",\"Bahamas\",\"Bahrain\",\"Bangladesh\",\"Barbados\",\"Belarus\",\"Belgium\",\"Belize\",\"Benin\",\"Bermuda\",\"Bhutan\",\"Bolivia\",\"Bosnia and Herzegovina\",\"Botswana\",\"Brazil\",\"British Virgin Islands\",\"Brunei\",\"Bulgaria\",\"Burkina Faso\",\"Burundi\",\"Cambodia\",\"Cameroon\",\"Canada\",\"Cape Verde\",\"Cayman Islands\",\"Central African Republic\",\"Chad\",\"Chile\",\"China\",\"Colombia\",\"Comoros\",\"Cook Islands\",\"Costa Rica\",\"Croatia\",\"Cuba\",\"Curacao\",\"Cyprus\",\"Czech Republic\",\"Denmark\",\"Djibouti\",\"Dominica\",\"Dominican Republic\",\"DR Congo\",\"Ecuador\",\"Egypt\",\"El Salvador\",\"Equatorial Guinea\",\"Eritrea\",\"Estonia\",\"Eswatini\",\"Ethiopia\",\"Falkland Islands\",\"Faroe Islands\",\"Fiji\",\"Finland\",\"France\",\"French Guiana\",\"French Polynesia\",\"Gabon\",\"Gambia\",\"Georgia\",\"Germany\",\"Ghana\",\"Gibraltar\",\"Greece\",\"Greenland\",\"Grenada\",\"Guadeloupe\",\"Guam\",\"Guatemala\",\"Guernsey\",\"Guinea\",\"Guinea-Bissau\",\"Guyana\",\"Haiti\",\"Honduras\",\"Hong Kong\",\"Hungary\",\"Iceland\",\"India\",\"Indonesia\",\"Iran\",\"Iraq\",\"Ireland\",\"Isle of Man\",\"Israel\",\"Italy\",\"Ivory Coast\",\"Jamaica\",\"Japan\",\"Jersey\",\"Jordan\",\"Kazakhstan\",\"Kenya\",\"Kiribati\",\"Kuwait\",\"Kyrgyzstan\",\"Laos\",\"Latvia\",\"Lebanon\",\"Lesotho\",\"Liberia\",\"Libya\",\"Liechtenstein\",\"Lithuania\",\"Luxembourg\",\"Macau\",\"Madagascar\",\"Malawi\",\"Malaysia\",\"Maldives\",\"Mali\",\"Malta\",\"Marshall Islands\",\"Martinique\",\"Mauritania\",\"Mauritius\",\"Mayotte\",\"Mexico\",\"Micronesia\",\"Moldova\",\"Monaco\",\"Mongolia\",\"Montenegro\",\"Montserrat\",\"Morocco\",\"Mozambique\",\"Myanmar\",\"Namibia\",\"Nauru\",\"Nepal\",\"Netherlands\",\"New Caledonia\",\"New Zealand\",\"Nicaragua\",\"Niger\",\"Nigeria\",\"Niue\",\"North Korea\",\"North Macedonia\",\"Northern Mariana Islands\",\"Norway\",\"Oman\",\"Pakistan\",\"Palau\",\"Palestine\",\"Panama\",\"Papua New Guinea\",\"Paraguay\",\"Peru\",\"Philippines\",\"Poland\",\"Portugal\",\"Puerto Rico\",\"Qatar\",\"Republic of the Congo\",\"Reunion\",\"Romania\",\"Russia\",\"Rwanda\",\"Saint Barthelemy\",\"Saint Kitts and Nevis\",\"Saint Lucia\",\"Saint Martin\",\"Saint Pierre and Miquelon\",\"Saint Vincent and the Grenadines\",\"Samoa\",\"San Marino\",\"Sao Tome and Principe\",\"Saudi Arabia\",\"Senegal\",\"Serbia\",\"Seychelles\",\"Sierra Leone\",\"Singapore\",\"Sint Maarten\",\"Slovakia\",\"Slovenia\",\"Solomon Islands\",\"Somalia\",\"South Africa\",\"South Korea\",\"South Sudan\",\"Spain\",\"Sri Lanka\",\"Sudan\",\"Suriname\",\"Sweden\",\"Switzerland\",\"Syria\",\"Taiwan\",\"Tajikistan\",\"Tanzania\",\"Thailand\",\"Timor-Leste\",\"Togo\",\"Tokelau\",\"Tonga\",\"Trinidad and Tobago\",\"Tunisia\",\"Turkey\",\"Turkmenistan\",\"Turks and Caicos Islands\",\"Tuvalu\",\"Uganda\",\"Ukraine\",\"United Arab Emirates\",\"United Kingdom\",\"United States\",\"United States Virgin Islands\",\"Uruguay\",\"Uzbekistan\",\"Vanuatu\",\"Vatican City\",\"Venezuela\",\"Vietnam\",\"Wallis and Futuna\",\"Western Sahara\",\"Yemen\",\"Zambia\",\"Zimbabwe\"],\"locationmode\":\"ISO-3\",\"locations\":[\"AFG\",\"ALB\",\"DZA\",\"ASM\",\"AND\",\"AGO\",\"AIA\",\"ATG\",\"ARG\",\"ARM\",\"ABW\",\"AUS\",\"AUT\",\"AZE\",\"BHS\",\"BHR\",\"BGD\",\"BRB\",\"BLR\",\"BEL\",\"BLZ\",\"BEN\",\"BMU\",\"BTN\",\"BOL\",\"BIH\",\"BWA\",\"BRA\",\"VGB\",\"BRN\",\"BGR\",\"BFA\",\"BDI\",\"KHM\",\"CMR\",\"CAN\",\"CPV\",\"CYM\",\"CAF\",\"TCD\",\"CHL\",\"CHN\",\"COL\",\"COM\",\"COK\",\"CRI\",\"HRV\",\"CUB\",\"CUW\",\"CYP\",\"CZE\",\"DNK\",\"DJI\",\"DMA\",\"DOM\",\"COD\",\"ECU\",\"EGY\",\"SLV\",\"GNQ\",\"ERI\",\"EST\",\"SWZ\",\"ETH\",\"FLK\",\"FRO\",\"FJI\",\"FIN\",\"FRA\",\"GUF\",\"PYF\",\"GAB\",\"GMB\",\"GEO\",\"DEU\",\"GHA\",\"GIB\",\"GRC\",\"GRL\",\"GRD\",\"GLP\",\"GUM\",\"GTM\",\"GGY\",\"GIN\",\"GNB\",\"GUY\",\"HTI\",\"HND\",\"HKG\",\"HUN\",\"ISL\",\"IND\",\"IDN\",\"IRN\",\"IRQ\",\"IRL\",\"IMN\",\"ISR\",\"ITA\",\"CIV\",\"JAM\",\"JPN\",\"JEY\",\"JOR\",\"KAZ\",\"KEN\",\"KIR\",\"KWT\",\"KGZ\",\"LAO\",\"LVA\",\"LBN\",\"LSO\",\"LBR\",\"LBY\",\"LIE\",\"LTU\",\"LUX\",\"MAC\",\"MDG\",\"MWI\",\"MYS\",\"MDV\",\"MLI\",\"MLT\",\"MHL\",\"MTQ\",\"MRT\",\"MUS\",\"MYT\",\"MEX\",\"FSM\",\"MDA\",\"MCO\",\"MNG\",\"MNE\",\"MSR\",\"MAR\",\"MOZ\",\"MMR\",\"NAM\",\"NRU\",\"NPL\",\"NLD\",\"NCL\",\"NZL\",\"NIC\",\"NER\",\"NGA\",\"NIU\",\"PRK\",\"MKD\",\"NFK\",\"NOR\",\"OMN\",\"PAK\",\"PLW\",\"PSE\",\"PAN\",\"PNG\",\"PRY\",\"PER\",\"PHL\",\"POL\",\"PRT\",\"PRI\",\"QAT\",\"COG\",\"REU\",\"ROU\",\"RUS\",\"RWA\",\"BLM\",\"KNA\",\"LCA\",\"MAF\",\"SPM\",\"VCT\",\"WSM\",\"SMR\",\"STP\",\"SAU\",\"SEN\",\"SRB\",\"SYC\",\"SLE\",\"SGP\",\"SXM\",\"SVK\",\"SVN\",\"SLB\",\"SOM\",\"ZAF\",\"KOR\",\"SSD\",\"ESP\",\"LKA\",\"SDN\",\"SUR\",\"SWE\",\"CHE\",\"SYR\",\"TWN\",\"TJK\",\"TZA\",\"THA\",\"TLS\",\"TGO\",\"TKL\",\"TON\",\"TTO\",\"TUN\",\"TUR\",\"TKM\",\"TCA\",\"TUV\",\"UGA\",\"UKR\",\"ARE\",\"GBR\",\"USA\",\"VIR\",\"URY\",\"UZB\",\"VUT\",\"VAT\",\"VEN\",\"VNM\",\"WLF\",\"ESH\",\"YEM\",\"ZMB\",\"ZWE\"],\"name\":\"\",\"z\":[38972230,2866849,43451666,46189,77700,33428485,15585,92664,45036032,2805608,106585,25670051,8907777,10284951,406471,1477469,167420951,280693,9633740,11561717,394921,12643123,64031,772506,11936162,3318407,2546402,213196304,30910,441725,6979175,21522626,12220227,16396860,26491087,37888705,582640,67311,5343020,16644701,19300315,1424929781,50930662,806166,17029,5123105,4096868,11300698,189288,1237537,10530953,5825641,1090156,71995,10999664,92853164,17588595,107465134,6292731,1596049,3555868,1329444,1180655,117190911,3747,52415,920422,5529468,64480053,290969,301920,2292573,2573995,3765912,83328988,32180401,32709,10512232,56026,123663,395642,169231,17362718,62794,13205153,2015828,797202,11306801,10121763,7500958,9750573,366669,1396387127,271857970,87290193,42556984,4946119,84046,8757489,59500579,26811790,2820436,125244761,108319,10928721,18979243,51985780,126463,4360444,6424874,7319399,1897052,5662923,2254100,5087584,6653942,38756,2820267,630399,676283,28225177,19377061,33199993,514438,21224040,515357,43413,370391,4498604,1297828,305587,125998302,112106,3084847,36922,3294335,629048,4500,36688772,31178239,53423198,2489098,12315,29348627,17434557,286403,5061133,6755895,24333639,208327405,1942,25867467,2111072,49587,5379839,4543399,227196741,17972,5019401,4294396,9749640,6618695,33304756,112190977,38428366,10298192,3271564,2760385,5702174,957822,19442038,145617329,13146362,10681,47642,179237,32552,5906,104632,214929,34007,218641,35997107,16436119,7358005,105530,8233969,5909869,43621,5456681,2117641,691191,16537016,58801927,51844690,10606227,47363807,21715079,44440486,607065,10368969,8638613,20772595,23821464,9543207,61704518,71475664,1299995,8442580,1827,105254,1518147,12161723,84135428,6250438,44276,11069,44404611,43909666,9287289,67059474,335942003,100442,3429086,33526656,311685,520,28490453,96648685,11655,556048,32284046,18927715,15669666],\"type\":\"choropleth\"}],\"name\":\"2020 Population\"},{\"data\":[{\"coloraxis\":\"coloraxis\",\"customdata\":[[\"AFG\"],[\"ALB\"],[\"DZA\"],[\"ASM\"],[\"AND\"],[\"AGO\"],[\"AIA\"],[\"ATG\"],[\"ARG\"],[\"ARM\"],[\"ABW\"],[\"AUS\"],[\"AUT\"],[\"AZE\"],[\"BHS\"],[\"BHR\"],[\"BGD\"],[\"BRB\"],[\"BLR\"],[\"BEL\"],[\"BLZ\"],[\"BEN\"],[\"BMU\"],[\"BTN\"],[\"BOL\"],[\"BIH\"],[\"BWA\"],[\"BRA\"],[\"VGB\"],[\"BRN\"],[\"BGR\"],[\"BFA\"],[\"BDI\"],[\"KHM\"],[\"CMR\"],[\"CAN\"],[\"CPV\"],[\"CYM\"],[\"CAF\"],[\"TCD\"],[\"CHL\"],[\"CHN\"],[\"COL\"],[\"COM\"],[\"COK\"],[\"CRI\"],[\"HRV\"],[\"CUB\"],[\"CUW\"],[\"CYP\"],[\"CZE\"],[\"DNK\"],[\"DJI\"],[\"DMA\"],[\"DOM\"],[\"COD\"],[\"ECU\"],[\"EGY\"],[\"SLV\"],[\"GNQ\"],[\"ERI\"],[\"EST\"],[\"SWZ\"],[\"ETH\"],[\"FLK\"],[\"FRO\"],[\"FJI\"],[\"FIN\"],[\"FRA\"],[\"GUF\"],[\"PYF\"],[\"GAB\"],[\"GMB\"],[\"GEO\"],[\"DEU\"],[\"GHA\"],[\"GIB\"],[\"GRC\"],[\"GRL\"],[\"GRD\"],[\"GLP\"],[\"GUM\"],[\"GTM\"],[\"GGY\"],[\"GIN\"],[\"GNB\"],[\"GUY\"],[\"HTI\"],[\"HND\"],[\"HKG\"],[\"HUN\"],[\"ISL\"],[\"IND\"],[\"IDN\"],[\"IRN\"],[\"IRQ\"],[\"IRL\"],[\"IMN\"],[\"ISR\"],[\"ITA\"],[\"CIV\"],[\"JAM\"],[\"JPN\"],[\"JEY\"],[\"JOR\"],[\"KAZ\"],[\"KEN\"],[\"KIR\"],[\"KWT\"],[\"KGZ\"],[\"LAO\"],[\"LVA\"],[\"LBN\"],[\"LSO\"],[\"LBR\"],[\"LBY\"],[\"LIE\"],[\"LTU\"],[\"LUX\"],[\"MAC\"],[\"MDG\"],[\"MWI\"],[\"MYS\"],[\"MDV\"],[\"MLI\"],[\"MLT\"],[\"MHL\"],[\"MTQ\"],[\"MRT\"],[\"MUS\"],[\"MYT\"],[\"MEX\"],[\"FSM\"],[\"MDA\"],[\"MCO\"],[\"MNG\"],[\"MNE\"],[\"MSR\"],[\"MAR\"],[\"MOZ\"],[\"MMR\"],[\"NAM\"],[\"NRU\"],[\"NPL\"],[\"NLD\"],[\"NCL\"],[\"NZL\"],[\"NIC\"],[\"NER\"],[\"NGA\"],[\"NIU\"],[\"PRK\"],[\"MKD\"],[\"NFK\"],[\"NOR\"],[\"OMN\"],[\"PAK\"],[\"PLW\"],[\"PSE\"],[\"PAN\"],[\"PNG\"],[\"PRY\"],[\"PER\"],[\"PHL\"],[\"POL\"],[\"PRT\"],[\"PRI\"],[\"QAT\"],[\"COG\"],[\"REU\"],[\"ROU\"],[\"RUS\"],[\"RWA\"],[\"BLM\"],[\"KNA\"],[\"LCA\"],[\"MAF\"],[\"SPM\"],[\"VCT\"],[\"WSM\"],[\"SMR\"],[\"STP\"],[\"SAU\"],[\"SEN\"],[\"SRB\"],[\"SYC\"],[\"SLE\"],[\"SGP\"],[\"SXM\"],[\"SVK\"],[\"SVN\"],[\"SLB\"],[\"SOM\"],[\"ZAF\"],[\"KOR\"],[\"SSD\"],[\"ESP\"],[\"LKA\"],[\"SDN\"],[\"SUR\"],[\"SWE\"],[\"CHE\"],[\"SYR\"],[\"TWN\"],[\"TJK\"],[\"TZA\"],[\"THA\"],[\"TLS\"],[\"TGO\"],[\"TKL\"],[\"TON\"],[\"TTO\"],[\"TUN\"],[\"TUR\"],[\"TKM\"],[\"TCA\"],[\"TUV\"],[\"UGA\"],[\"UKR\"],[\"ARE\"],[\"GBR\"],[\"USA\"],[\"VIR\"],[\"URY\"],[\"UZB\"],[\"VUT\"],[\"VAT\"],[\"VEN\"],[\"VNM\"],[\"WLF\"],[\"ESH\"],[\"YEM\"],[\"ZMB\"],[\"ZWE\"]],\"geo\":\"geo\",\"hovertemplate\":\"<b>%{hovertext}</b><br><br>Year=2022 Population<br>Population=%{z}<extra></extra>\",\"hovertext\":[\"Afghanistan\",\"Albania\",\"Algeria\",\"American Samoa\",\"Andorra\",\"Angola\",\"Anguilla\",\"Antigua and Barbuda\",\"Argentina\",\"Armenia\",\"Aruba\",\"Australia\",\"Austria\",\"Azerbaijan\",\"Bahamas\",\"Bahrain\",\"Bangladesh\",\"Barbados\",\"Belarus\",\"Belgium\",\"Belize\",\"Benin\",\"Bermuda\",\"Bhutan\",\"Bolivia\",\"Bosnia and Herzegovina\",\"Botswana\",\"Brazil\",\"British Virgin Islands\",\"Brunei\",\"Bulgaria\",\"Burkina Faso\",\"Burundi\",\"Cambodia\",\"Cameroon\",\"Canada\",\"Cape Verde\",\"Cayman Islands\",\"Central African Republic\",\"Chad\",\"Chile\",\"China\",\"Colombia\",\"Comoros\",\"Cook Islands\",\"Costa Rica\",\"Croatia\",\"Cuba\",\"Curacao\",\"Cyprus\",\"Czech Republic\",\"Denmark\",\"Djibouti\",\"Dominica\",\"Dominican Republic\",\"DR Congo\",\"Ecuador\",\"Egypt\",\"El Salvador\",\"Equatorial Guinea\",\"Eritrea\",\"Estonia\",\"Eswatini\",\"Ethiopia\",\"Falkland Islands\",\"Faroe Islands\",\"Fiji\",\"Finland\",\"France\",\"French Guiana\",\"French Polynesia\",\"Gabon\",\"Gambia\",\"Georgia\",\"Germany\",\"Ghana\",\"Gibraltar\",\"Greece\",\"Greenland\",\"Grenada\",\"Guadeloupe\",\"Guam\",\"Guatemala\",\"Guernsey\",\"Guinea\",\"Guinea-Bissau\",\"Guyana\",\"Haiti\",\"Honduras\",\"Hong Kong\",\"Hungary\",\"Iceland\",\"India\",\"Indonesia\",\"Iran\",\"Iraq\",\"Ireland\",\"Isle of Man\",\"Israel\",\"Italy\",\"Ivory Coast\",\"Jamaica\",\"Japan\",\"Jersey\",\"Jordan\",\"Kazakhstan\",\"Kenya\",\"Kiribati\",\"Kuwait\",\"Kyrgyzstan\",\"Laos\",\"Latvia\",\"Lebanon\",\"Lesotho\",\"Liberia\",\"Libya\",\"Liechtenstein\",\"Lithuania\",\"Luxembourg\",\"Macau\",\"Madagascar\",\"Malawi\",\"Malaysia\",\"Maldives\",\"Mali\",\"Malta\",\"Marshall Islands\",\"Martinique\",\"Mauritania\",\"Mauritius\",\"Mayotte\",\"Mexico\",\"Micronesia\",\"Moldova\",\"Monaco\",\"Mongolia\",\"Montenegro\",\"Montserrat\",\"Morocco\",\"Mozambique\",\"Myanmar\",\"Namibia\",\"Nauru\",\"Nepal\",\"Netherlands\",\"New Caledonia\",\"New Zealand\",\"Nicaragua\",\"Niger\",\"Nigeria\",\"Niue\",\"North Korea\",\"North Macedonia\",\"Northern Mariana Islands\",\"Norway\",\"Oman\",\"Pakistan\",\"Palau\",\"Palestine\",\"Panama\",\"Papua New Guinea\",\"Paraguay\",\"Peru\",\"Philippines\",\"Poland\",\"Portugal\",\"Puerto Rico\",\"Qatar\",\"Republic of the Congo\",\"Reunion\",\"Romania\",\"Russia\",\"Rwanda\",\"Saint Barthelemy\",\"Saint Kitts and Nevis\",\"Saint Lucia\",\"Saint Martin\",\"Saint Pierre and Miquelon\",\"Saint Vincent and the Grenadines\",\"Samoa\",\"San Marino\",\"Sao Tome and Principe\",\"Saudi Arabia\",\"Senegal\",\"Serbia\",\"Seychelles\",\"Sierra Leone\",\"Singapore\",\"Sint Maarten\",\"Slovakia\",\"Slovenia\",\"Solomon Islands\",\"Somalia\",\"South Africa\",\"South Korea\",\"South Sudan\",\"Spain\",\"Sri Lanka\",\"Sudan\",\"Suriname\",\"Sweden\",\"Switzerland\",\"Syria\",\"Taiwan\",\"Tajikistan\",\"Tanzania\",\"Thailand\",\"Timor-Leste\",\"Togo\",\"Tokelau\",\"Tonga\",\"Trinidad and Tobago\",\"Tunisia\",\"Turkey\",\"Turkmenistan\",\"Turks and Caicos Islands\",\"Tuvalu\",\"Uganda\",\"Ukraine\",\"United Arab Emirates\",\"United Kingdom\",\"United States\",\"United States Virgin Islands\",\"Uruguay\",\"Uzbekistan\",\"Vanuatu\",\"Vatican City\",\"Venezuela\",\"Vietnam\",\"Wallis and Futuna\",\"Western Sahara\",\"Yemen\",\"Zambia\",\"Zimbabwe\"],\"locationmode\":\"ISO-3\",\"locations\":[\"AFG\",\"ALB\",\"DZA\",\"ASM\",\"AND\",\"AGO\",\"AIA\",\"ATG\",\"ARG\",\"ARM\",\"ABW\",\"AUS\",\"AUT\",\"AZE\",\"BHS\",\"BHR\",\"BGD\",\"BRB\",\"BLR\",\"BEL\",\"BLZ\",\"BEN\",\"BMU\",\"BTN\",\"BOL\",\"BIH\",\"BWA\",\"BRA\",\"VGB\",\"BRN\",\"BGR\",\"BFA\",\"BDI\",\"KHM\",\"CMR\",\"CAN\",\"CPV\",\"CYM\",\"CAF\",\"TCD\",\"CHL\",\"CHN\",\"COL\",\"COM\",\"COK\",\"CRI\",\"HRV\",\"CUB\",\"CUW\",\"CYP\",\"CZE\",\"DNK\",\"DJI\",\"DMA\",\"DOM\",\"COD\",\"ECU\",\"EGY\",\"SLV\",\"GNQ\",\"ERI\",\"EST\",\"SWZ\",\"ETH\",\"FLK\",\"FRO\",\"FJI\",\"FIN\",\"FRA\",\"GUF\",\"PYF\",\"GAB\",\"GMB\",\"GEO\",\"DEU\",\"GHA\",\"GIB\",\"GRC\",\"GRL\",\"GRD\",\"GLP\",\"GUM\",\"GTM\",\"GGY\",\"GIN\",\"GNB\",\"GUY\",\"HTI\",\"HND\",\"HKG\",\"HUN\",\"ISL\",\"IND\",\"IDN\",\"IRN\",\"IRQ\",\"IRL\",\"IMN\",\"ISR\",\"ITA\",\"CIV\",\"JAM\",\"JPN\",\"JEY\",\"JOR\",\"KAZ\",\"KEN\",\"KIR\",\"KWT\",\"KGZ\",\"LAO\",\"LVA\",\"LBN\",\"LSO\",\"LBR\",\"LBY\",\"LIE\",\"LTU\",\"LUX\",\"MAC\",\"MDG\",\"MWI\",\"MYS\",\"MDV\",\"MLI\",\"MLT\",\"MHL\",\"MTQ\",\"MRT\",\"MUS\",\"MYT\",\"MEX\",\"FSM\",\"MDA\",\"MCO\",\"MNG\",\"MNE\",\"MSR\",\"MAR\",\"MOZ\",\"MMR\",\"NAM\",\"NRU\",\"NPL\",\"NLD\",\"NCL\",\"NZL\",\"NIC\",\"NER\",\"NGA\",\"NIU\",\"PRK\",\"MKD\",\"NFK\",\"NOR\",\"OMN\",\"PAK\",\"PLW\",\"PSE\",\"PAN\",\"PNG\",\"PRY\",\"PER\",\"PHL\",\"POL\",\"PRT\",\"PRI\",\"QAT\",\"COG\",\"REU\",\"ROU\",\"RUS\",\"RWA\",\"BLM\",\"KNA\",\"LCA\",\"MAF\",\"SPM\",\"VCT\",\"WSM\",\"SMR\",\"STP\",\"SAU\",\"SEN\",\"SRB\",\"SYC\",\"SLE\",\"SGP\",\"SXM\",\"SVK\",\"SVN\",\"SLB\",\"SOM\",\"ZAF\",\"KOR\",\"SSD\",\"ESP\",\"LKA\",\"SDN\",\"SUR\",\"SWE\",\"CHE\",\"SYR\",\"TWN\",\"TJK\",\"TZA\",\"THA\",\"TLS\",\"TGO\",\"TKL\",\"TON\",\"TTO\",\"TUN\",\"TUR\",\"TKM\",\"TCA\",\"TUV\",\"UGA\",\"UKR\",\"ARE\",\"GBR\",\"USA\",\"VIR\",\"URY\",\"UZB\",\"VUT\",\"VAT\",\"VEN\",\"VNM\",\"WLF\",\"ESH\",\"YEM\",\"ZMB\",\"ZWE\"],\"name\":\"\",\"z\":[41128771,2842321,44903225,44273,79824,35588987,15857,93763,45510318,2780469,106445,26177413,8939617,10358074,409984,1472233,171186372,281635,9534954,11655930,405272,13352864,64184,782455,12224110,3233526,2630296,215313498,31305,449002,6781953,22673762,12889576,16767842,27914536,38454327,593149,68706,5579144,17723315,19603733,1425887337,51874024,836774,17011,5180829,4030358,11212191,191163,1251488,10493986,5882261,1120849,72737,11228821,99010212,18001000,110990103,6336392,1674908,3684032,1326062,1201670,123379924,3780,53090,929766,5540745,64626628,304557,306279,2388992,2705992,3744385,83369843,33475870,32649,10384971,56466,125438,395752,171774,17843908,63301,13859341,2105566,808726,11584996,10432860,7488865,9967308,372899,1417173173,275501339,88550570,44496122,5023109,84519,9038309,59037474,28160542,2827377,123951692,110778,11285869,19397998,54027487,131232,4268873,6630623,7529475,1850651,5489739,2305825,5302681,6812341,39327,2750055,647599,695168,29611714,20405317,33938221,523787,22593590,533286,41569,367507,4736139,1299469,326101,127504125,114164,3272996,36469,3398366,627082,4390,37457971,32969517,54179306,2567012,12668,30547580,17564014,289950,5185288,6948392,26207977,218541212,1934,26069416,2093599,49551,5434319,4576298,235824862,18055,5250072,4408581,10142619,6780744,34049588,115559009,39857145,10270865,3252407,2695122,5970424,974052,19659267,144713314,13776698,10967,47657,179857,31791,5862,103948,222382,33660,227380,36408820,17316449,7221365,107118,8605718,5975689,44175,5643453,2119844,724273,17597511,59893885,51815810,10913164,47558630,21832143,46874204,618040,10549347,8740472,22125249,23893394,9952787,65497748,71697030,1341296,8848699,1871,106858,1531044,12356117,85341241,6430770,45703,11312,47249585,39701739,9441129,67508936,338289857,99465,3422794,34627652,326740,510,28301696,98186856,11572,575986,33696614,20017675,16320537],\"type\":\"choropleth\"}],\"name\":\"2022 Population\"}]);\n",
       "                        }).then(function(){\n",
       "                            \n",
       "var gd = document.getElementById('90c08761-3b58-4a22-94f2-be2923565519');\n",
       "var x = new MutationObserver(function (mutations, observer) {{\n",
       "        var display = window.getComputedStyle(gd).display;\n",
       "        if (!display || display === 'none') {{\n",
       "            console.log([gd, 'removed!']);\n",
       "            Plotly.purge(gd);\n",
       "            observer.disconnect();\n",
       "        }}\n",
       "}});\n",
       "\n",
       "// Listen for the removal of the full notebook cells\n",
       "var notebookContainer = gd.closest('#notebook-container');\n",
       "if (notebookContainer) {{\n",
       "    x.observe(notebookContainer, {childList: true});\n",
       "}}\n",
       "\n",
       "// Listen for the clearing of the current output cell\n",
       "var outputEl = gd.closest('.output');\n",
       "if (outputEl) {{\n",
       "    x.observe(outputEl, {childList: true});\n",
       "}}\n",
       "\n",
       "                        })                };                });            </script>        </div>"
      ]
     },
     "metadata": {},
     "output_type": "display_data"
    }
   ],
   "source": [
    "fig = px.choropleth(world_pop_melted, locations = 'ISO-3', color = 'Population', \n",
    "                    locationmode=\"ISO-3\", scope=\"world\", width = 800, height = 600,\n",
    "                    title = 'World Population by Country (1970-2022) <br>with Animation Slider', \n",
    "                    hover_name=\"Country/Territory\",\n",
    "                    hover_data = {'ISO-3':False,},\n",
    "                    projection = 'equirectangular',\n",
    "                    range_color=(0, 400000000), #to fix the scale\n",
    "                    animation_frame='Year', #added new column as the animation frame\n",
    "                    color_continuous_scale=px.colors.sequential.Viridis)\n",
    " \n",
    "fig.show()"
   ]
  },
  {
   "cell_type": "code",
   "execution_count": null,
   "id": "83a51977",
   "metadata": {},
   "outputs": [],
   "source": []
  }
 ],
 "metadata": {
  "kernelspec": {
   "display_name": "Python 3 (ipykernel)",
   "language": "python",
   "name": "python3"
  },
  "language_info": {
   "codemirror_mode": {
    "name": "ipython",
    "version": 3
   },
   "file_extension": ".py",
   "mimetype": "text/x-python",
   "name": "python",
   "nbconvert_exporter": "python",
   "pygments_lexer": "ipython3",
   "version": "3.9.13"
  }
 },
 "nbformat": 4,
 "nbformat_minor": 5
}
